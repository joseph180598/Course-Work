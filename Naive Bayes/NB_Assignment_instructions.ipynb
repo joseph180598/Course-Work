{
 "cells": [
  {
   "cell_type": "markdown",
   "metadata": {
    "id": "Dnubs-Nnb3cw"
   },
   "source": [
    "# Assignment 6: Apply NB"
   ]
  },
  {
   "cell_type": "markdown",
   "metadata": {
    "id": "RW0zYHb5m_wI"
   },
   "source": [
    "<ol>\n",
    "    <li>Minimum data points need to be considered for people having 4GB RAM is <strong>50k</strong> and for 8GB RAM is <strong>100k</strong></li>\n",
    "    <li>When you are using ramdomsearchcv or gridsearchcv you need not split the data into X_train,X_cv,X_test. As the above methods use kfold. The model will learn better if train data is more so splitting to X_train,X_test will suffice.</li>\n",
    "    <li>If you are writing for loops to tune your model then you need split the data into X_train,X_cv,X_test.</li>\n",
    "    <li>While splitting the data explore stratify parameter. </li>\n",
    "    <li><strong>Apply Multinomial NB on these feature sets</strong></li>\n",
    "        <ul>\n",
    "            <li>Features that need to be considered</li> \n",
    "                <dl>\n",
    "                  <dt>essay</dt>\n",
    "                    <dd>while encoding essay, try to experiment with the max_features and n_grams parameter of vectorizers and see if it increases AUC score.</dd>\n",
    "                  <dt>categorical features</dt>\n",
    "                  <dd> - teacher_prefix</dd>\n",
    "                  <dd> - project_grade_category</dd>\n",
    "                  <dd> - school_state</dd>\n",
    "                  <dd> - clean_categories</dd>\n",
    "                  <dd> - clean_subcategories</dd>\n",
    "                  <dt>numerical features</dt>\n",
    "                  <dd> - price</dd>\n",
    "                  <dd> - teacher_number_of_previously_posted_projects</dd>\n",
    "                  <dd>while encoding the numerical features check <a href='https://imgur.com/ldZA1zg'>this</a> and <a href='https://ac-classroom-production.s3.amazonaws.com/public/COMMENT/Annotation_2020-05-21_225912_0lyZzN8.jpg'>this</a></dd>\n",
    "                </dl>    \n",
    "            <li><font color='red'>Set 1</font>: categorical, numerical features + preprocessed_eassay (BOW)</li>\n",
    "            <li><font color='red'>Set 2</font>: categorical, numerical features + preprocessed_eassay (TFIDF)</li>\n",
    "        </ul>\n",
    "    <li><strong>The hyper paramter tuning(find best alpha:smoothing parameter)</strong>\n",
    "        <ul>\n",
    "    <li>Consider alpha values in range: 10^-5 to 10^2 like [0.00001,0.0005, 0.0001,0.005,0.001,0.05,0.01,0.1,0.5,1,5,10,50,100]</li>\n",
    "    <li>Explore class_prior = [0.5, 0.5] parameter which can be present in MultinomialNB function(go through <a href='https://scikit-learn.org/stable/modules/generated/sklearn.naive_bayes.MultinomialNB.html'>this</a> ) then check how results might change.\n",
    "    <li>Find the best hyper parameter which will give the maximum <a href='https://www.appliedaicourse.com/course/applied-ai-course-online/lessons/receiver-operating-characteristic-curve-roc-curve-and-auc-1/'>AUC</a> value</li>\n",
    "    <li>For hyper parameter tuning using k-fold cross validation(use GridsearchCV or RandomsearchCV)/simple cross validation data (write for loop to iterate over hyper parameter values)</li>\n",
    "    <li>You need to plot the performance of model both on train data and cross validation data for each hyper parameter, like shown in the figure\n",
    "    <img src='https://i.imgur.com/hUv6aEy.jpg' width=300px><dd>-while plotting take log(alpha) on your X-axis so that it will be more readable</dd></li>\n",
    "    <li>Once after you found the best hyper parameter, you need to train your model with it, and find the AUC on test data and plot the ROC curve on both train and test.\n",
    "    <img src='https://imgur.com/q2P65L5.jpg' width=300px></li>\n",
    "    <li>Along with plotting ROC curve, you need to print the <a href='https://www.appliedaicourse.com/course/applied-ai-course-online/lessons/confusion-matrix-tpr-fpr-fnr-tnr-1/'>confusion matrix</a> with predicted and original labels of test data points\n",
    "        <img src='https://i.imgur.com/IdN5Ctv.png' width=300px><dd>-plot the confusion matrix in heatmaps, while plotting the confusion matrix go through the <a href='https://stackoverflow.com/questions/61748441/how-to-fix-the-values-displayed-in-a-confusion-matrix-in-exponential-form-to-nor'>link </a>\n",
    "</dd></li>\n",
    "        </ul>\n",
    "<li>find the top 20 features from either from feature <font color='red'>Set 1</font> or feature <font color='red'>Set 2</font> using values of `feature_log_prob_ ` parameter of `MultinomialNB` \n",
    "(https://scikit-learn.org/stable/modules/generated/sklearn.naive_bayes.MultinomialNB.html) and print <strong>BOTH</strong> positive as well as negative corresponding feature names. <dd> - go through the <a href='https://imgur.com/mWvE7gj'>link </a> </dd>\n",
    "    </li>\n",
    "    <li>You need to summarize the results at the end of the notebook, summarize it in the table format\n",
    "        <img src='http://i.imgur.com/YVpIGGE.jpg' width=400px>\n",
    "    </li>\n",
    "</ol>"
   ]
  },
  {
   "cell_type": "code",
   "execution_count": 58,
   "metadata": {},
   "outputs": [
    {
     "name": "stdout",
     "output_type": "stream",
     "text": [
      "Help on package sklearn.feature_extraction in sklearn:\n",
      "\n",
      "NAME\n",
      "    sklearn.feature_extraction\n",
      "\n",
      "DESCRIPTION\n",
      "    The :mod:`sklearn.feature_extraction` module deals with feature extraction\n",
      "    from raw data. It currently includes methods to extract features from text and\n",
      "    images.\n",
      "\n",
      "PACKAGE CONTENTS\n",
      "    _dict_vectorizer\n",
      "    _hash\n",
      "    _hashing_fast\n",
      "    _stop_words\n",
      "    image\n",
      "    setup\n",
      "    tests (package)\n",
      "    text\n",
      "\n",
      "CLASSES\n",
      "    sklearn.base.BaseEstimator(builtins.object)\n",
      "        sklearn.feature_extraction._dict_vectorizer.DictVectorizer(sklearn.base.TransformerMixin, sklearn.base.BaseEstimator)\n",
      "        sklearn.feature_extraction._hash.FeatureHasher(sklearn.base.TransformerMixin, sklearn.base.BaseEstimator)\n",
      "    sklearn.base.TransformerMixin(builtins.object)\n",
      "        sklearn.feature_extraction._dict_vectorizer.DictVectorizer(sklearn.base.TransformerMixin, sklearn.base.BaseEstimator)\n",
      "        sklearn.feature_extraction._hash.FeatureHasher(sklearn.base.TransformerMixin, sklearn.base.BaseEstimator)\n",
      "    \n",
      "    class DictVectorizer(sklearn.base.TransformerMixin, sklearn.base.BaseEstimator)\n",
      "     |  Transforms lists of feature-value mappings to vectors.\n",
      "     |  \n",
      "     |  This transformer turns lists of mappings (dict-like objects) of feature\n",
      "     |  names to feature values into Numpy arrays or scipy.sparse matrices for use\n",
      "     |  with scikit-learn estimators.\n",
      "     |  \n",
      "     |  When feature values are strings, this transformer will do a binary one-hot\n",
      "     |  (aka one-of-K) coding: one boolean-valued feature is constructed for each\n",
      "     |  of the possible string values that the feature can take on. For instance,\n",
      "     |  a feature \"f\" that can take on the values \"ham\" and \"spam\" will become two\n",
      "     |  features in the output, one signifying \"f=ham\", the other \"f=spam\".\n",
      "     |  \n",
      "     |  If a feature value is a sequence or set of strings, this transformer\n",
      "     |  will iterate over the values and will count the occurrences of each string\n",
      "     |  value.\n",
      "     |  \n",
      "     |  However, note that this transformer will only do a binary one-hot encoding\n",
      "     |  when feature values are of type string. If categorical features are\n",
      "     |  represented as numeric values such as int or iterables of strings, the\n",
      "     |  DictVectorizer can be followed by\n",
      "     |  :class:`~sklearn.preprocessing.OneHotEncoder` to complete\n",
      "     |  binary one-hot encoding.\n",
      "     |  \n",
      "     |  Features that do not occur in a sample (mapping) will have a zero value\n",
      "     |  in the resulting array/matrix.\n",
      "     |  \n",
      "     |  Read more in the :ref:`User Guide <dict_feature_extraction>`.\n",
      "     |  \n",
      "     |  Parameters\n",
      "     |  ----------\n",
      "     |  dtype : dtype, default=np.float64\n",
      "     |      The type of feature values. Passed to Numpy array/scipy.sparse matrix\n",
      "     |      constructors as the dtype argument.\n",
      "     |  separator : str, default=\"=\"\n",
      "     |      Separator string used when constructing new features for one-hot\n",
      "     |      coding.\n",
      "     |  sparse : bool, default=True\n",
      "     |      Whether transform should produce scipy.sparse matrices.\n",
      "     |  sort : bool, default=True\n",
      "     |      Whether ``feature_names_`` and ``vocabulary_`` should be\n",
      "     |      sorted when fitting.\n",
      "     |  \n",
      "     |  Attributes\n",
      "     |  ----------\n",
      "     |  vocabulary_ : dict\n",
      "     |      A dictionary mapping feature names to feature indices.\n",
      "     |  \n",
      "     |  feature_names_ : list\n",
      "     |      A list of length n_features containing the feature names (e.g., \"f=ham\"\n",
      "     |      and \"f=spam\").\n",
      "     |  \n",
      "     |  Examples\n",
      "     |  --------\n",
      "     |  >>> from sklearn.feature_extraction import DictVectorizer\n",
      "     |  >>> v = DictVectorizer(sparse=False)\n",
      "     |  >>> D = [{'foo': 1, 'bar': 2}, {'foo': 3, 'baz': 1}]\n",
      "     |  >>> X = v.fit_transform(D)\n",
      "     |  >>> X\n",
      "     |  array([[2., 0., 1.],\n",
      "     |         [0., 1., 3.]])\n",
      "     |  >>> v.inverse_transform(X) == [{'bar': 2.0, 'foo': 1.0},\n",
      "     |  ...                            {'baz': 1.0, 'foo': 3.0}]\n",
      "     |  True\n",
      "     |  >>> v.transform({'foo': 4, 'unseen_feature': 3})\n",
      "     |  array([[0., 0., 4.]])\n",
      "     |  \n",
      "     |  See Also\n",
      "     |  --------\n",
      "     |  FeatureHasher : Performs vectorization using only a hash function.\n",
      "     |  sklearn.preprocessing.OrdinalEncoder : Handles nominal/categorical\n",
      "     |      features encoded as columns of arbitrary data types.\n",
      "     |  \n",
      "     |  Method resolution order:\n",
      "     |      DictVectorizer\n",
      "     |      sklearn.base.TransformerMixin\n",
      "     |      sklearn.base.BaseEstimator\n",
      "     |      builtins.object\n",
      "     |  \n",
      "     |  Methods defined here:\n",
      "     |  \n",
      "     |  __init__(self, *, dtype=<class 'numpy.float64'>, separator='=', sparse=True, sort=True)\n",
      "     |      Initialize self.  See help(type(self)) for accurate signature.\n",
      "     |  \n",
      "     |  fit(self, X, y=None)\n",
      "     |      Learn a list of feature name -> indices mappings.\n",
      "     |      \n",
      "     |      Parameters\n",
      "     |      ----------\n",
      "     |      X : Mapping or iterable over Mappings\n",
      "     |          Dict(s) or Mapping(s) from feature names (arbitrary Python\n",
      "     |          objects) to feature values (strings or convertible to dtype).\n",
      "     |      \n",
      "     |          .. versionchanged:: 0.24\n",
      "     |             Accepts multiple string values for one categorical feature.\n",
      "     |      \n",
      "     |      y : (ignored)\n",
      "     |      \n",
      "     |      Returns\n",
      "     |      -------\n",
      "     |      self\n",
      "     |  \n",
      "     |  fit_transform(self, X, y=None)\n",
      "     |      Learn a list of feature name -> indices mappings and transform X.\n",
      "     |      \n",
      "     |      Like fit(X) followed by transform(X), but does not require\n",
      "     |      materializing X in memory.\n",
      "     |      \n",
      "     |      Parameters\n",
      "     |      ----------\n",
      "     |      X : Mapping or iterable over Mappings\n",
      "     |          Dict(s) or Mapping(s) from feature names (arbitrary Python\n",
      "     |          objects) to feature values (strings or convertible to dtype).\n",
      "     |      \n",
      "     |          .. versionchanged:: 0.24\n",
      "     |             Accepts multiple string values for one categorical feature.\n",
      "     |      \n",
      "     |      y : (ignored)\n",
      "     |      \n",
      "     |      Returns\n",
      "     |      -------\n",
      "     |      Xa : {array, sparse matrix}\n",
      "     |          Feature vectors; always 2-d.\n",
      "     |  \n",
      "     |  get_feature_names(self)\n",
      "     |      Returns a list of feature names, ordered by their indices.\n",
      "     |      \n",
      "     |      If one-of-K coding is applied to categorical features, this will\n",
      "     |      include the constructed feature names but not the original ones.\n",
      "     |  \n",
      "     |  inverse_transform(self, X, dict_type=<class 'dict'>)\n",
      "     |      Transform array or sparse matrix X back to feature mappings.\n",
      "     |      \n",
      "     |      X must have been produced by this DictVectorizer's transform or\n",
      "     |      fit_transform method; it may only have passed through transformers\n",
      "     |      that preserve the number of features and their order.\n",
      "     |      \n",
      "     |      In the case of one-hot/one-of-K coding, the constructed feature\n",
      "     |      names and values are returned rather than the original ones.\n",
      "     |      \n",
      "     |      Parameters\n",
      "     |      ----------\n",
      "     |      X : {array-like, sparse matrix} of shape (n_samples, n_features)\n",
      "     |          Sample matrix.\n",
      "     |      dict_type : type, default=dict\n",
      "     |          Constructor for feature mappings. Must conform to the\n",
      "     |          collections.Mapping API.\n",
      "     |      \n",
      "     |      Returns\n",
      "     |      -------\n",
      "     |      D : list of dict_type objects of shape (n_samples,)\n",
      "     |          Feature mappings for the samples in X.\n",
      "     |  \n",
      "     |  restrict(self, support, indices=False)\n",
      "     |      Restrict the features to those in support using feature selection.\n",
      "     |      \n",
      "     |      This function modifies the estimator in-place.\n",
      "     |      \n",
      "     |      Parameters\n",
      "     |      ----------\n",
      "     |      support : array-like\n",
      "     |          Boolean mask or list of indices (as returned by the get_support\n",
      "     |          member of feature selectors).\n",
      "     |      indices : bool, default=False\n",
      "     |          Whether support is a list of indices.\n",
      "     |      \n",
      "     |      Returns\n",
      "     |      -------\n",
      "     |      self\n",
      "     |      \n",
      "     |      Examples\n",
      "     |      --------\n",
      "     |      >>> from sklearn.feature_extraction import DictVectorizer\n",
      "     |      >>> from sklearn.feature_selection import SelectKBest, chi2\n",
      "     |      >>> v = DictVectorizer()\n",
      "     |      >>> D = [{'foo': 1, 'bar': 2}, {'foo': 3, 'baz': 1}]\n",
      "     |      >>> X = v.fit_transform(D)\n",
      "     |      >>> support = SelectKBest(chi2, k=2).fit(X, [0, 1])\n",
      "     |      >>> v.get_feature_names()\n",
      "     |      ['bar', 'baz', 'foo']\n",
      "     |      >>> v.restrict(support.get_support())\n",
      "     |      DictVectorizer()\n",
      "     |      >>> v.get_feature_names()\n",
      "     |      ['bar', 'foo']\n",
      "     |  \n",
      "     |  transform(self, X)\n",
      "     |      Transform feature->value dicts to array or sparse matrix.\n",
      "     |      \n",
      "     |      Named features not encountered during fit or fit_transform will be\n",
      "     |      silently ignored.\n",
      "     |      \n",
      "     |      Parameters\n",
      "     |      ----------\n",
      "     |      X : Mapping or iterable over Mappings of shape (n_samples,)\n",
      "     |          Dict(s) or Mapping(s) from feature names (arbitrary Python\n",
      "     |          objects) to feature values (strings or convertible to dtype).\n",
      "     |      \n",
      "     |      Returns\n",
      "     |      -------\n",
      "     |      Xa : {array, sparse matrix}\n",
      "     |          Feature vectors; always 2-d.\n",
      "     |  \n",
      "     |  ----------------------------------------------------------------------\n",
      "     |  Data descriptors inherited from sklearn.base.TransformerMixin:\n",
      "     |  \n",
      "     |  __dict__\n",
      "     |      dictionary for instance variables (if defined)\n",
      "     |  \n",
      "     |  __weakref__\n",
      "     |      list of weak references to the object (if defined)\n",
      "     |  \n",
      "     |  ----------------------------------------------------------------------\n",
      "     |  Methods inherited from sklearn.base.BaseEstimator:\n",
      "     |  \n",
      "     |  __getstate__(self)\n",
      "     |  \n",
      "     |  __repr__(self, N_CHAR_MAX=700)\n",
      "     |      Return repr(self).\n",
      "     |  \n",
      "     |  __setstate__(self, state)\n",
      "     |  \n",
      "     |  get_params(self, deep=True)\n",
      "     |      Get parameters for this estimator.\n",
      "     |      \n",
      "     |      Parameters\n",
      "     |      ----------\n",
      "     |      deep : bool, default=True\n",
      "     |          If True, will return the parameters for this estimator and\n",
      "     |          contained subobjects that are estimators.\n",
      "     |      \n",
      "     |      Returns\n",
      "     |      -------\n",
      "     |      params : dict\n",
      "     |          Parameter names mapped to their values.\n",
      "     |  \n",
      "     |  set_params(self, **params)\n",
      "     |      Set the parameters of this estimator.\n",
      "     |      \n",
      "     |      The method works on simple estimators as well as on nested objects\n",
      "     |      (such as :class:`~sklearn.pipeline.Pipeline`). The latter have\n",
      "     |      parameters of the form ``<component>__<parameter>`` so that it's\n",
      "     |      possible to update each component of a nested object.\n",
      "     |      \n",
      "     |      Parameters\n",
      "     |      ----------\n",
      "     |      **params : dict\n",
      "     |          Estimator parameters.\n",
      "     |      \n",
      "     |      Returns\n",
      "     |      -------\n",
      "     |      self : estimator instance\n",
      "     |          Estimator instance.\n",
      "    \n",
      "    class FeatureHasher(sklearn.base.TransformerMixin, sklearn.base.BaseEstimator)\n",
      "     |  Implements feature hashing, aka the hashing trick.\n",
      "     |  \n",
      "     |  This class turns sequences of symbolic feature names (strings) into\n",
      "     |  scipy.sparse matrices, using a hash function to compute the matrix column\n",
      "     |  corresponding to a name. The hash function employed is the signed 32-bit\n",
      "     |  version of Murmurhash3.\n",
      "     |  \n",
      "     |  Feature names of type byte string are used as-is. Unicode strings are\n",
      "     |  converted to UTF-8 first, but no Unicode normalization is done.\n",
      "     |  Feature values must be (finite) numbers.\n",
      "     |  \n",
      "     |  This class is a low-memory alternative to DictVectorizer and\n",
      "     |  CountVectorizer, intended for large-scale (online) learning and situations\n",
      "     |  where memory is tight, e.g. when running prediction code on embedded\n",
      "     |  devices.\n",
      "     |  \n",
      "     |  Read more in the :ref:`User Guide <feature_hashing>`.\n",
      "     |  \n",
      "     |  .. versionadded:: 0.13\n",
      "     |  \n",
      "     |  Parameters\n",
      "     |  ----------\n",
      "     |  n_features : int, default=2**20\n",
      "     |      The number of features (columns) in the output matrices. Small numbers\n",
      "     |      of features are likely to cause hash collisions, but large numbers\n",
      "     |      will cause larger coefficient dimensions in linear learners.\n",
      "     |  input_type : {\"dict\", \"pair\", \"string\"}, default=\"dict\"\n",
      "     |      Either \"dict\" (the default) to accept dictionaries over\n",
      "     |      (feature_name, value); \"pair\" to accept pairs of (feature_name, value);\n",
      "     |      or \"string\" to accept single strings.\n",
      "     |      feature_name should be a string, while value should be a number.\n",
      "     |      In the case of \"string\", a value of 1 is implied.\n",
      "     |      The feature_name is hashed to find the appropriate column for the\n",
      "     |      feature. The value's sign might be flipped in the output (but see\n",
      "     |      non_negative, below).\n",
      "     |  dtype : numpy dtype, default=np.float64\n",
      "     |      The type of feature values. Passed to scipy.sparse matrix constructors\n",
      "     |      as the dtype argument. Do not set this to bool, np.boolean or any\n",
      "     |      unsigned integer type.\n",
      "     |  alternate_sign : bool, default=True\n",
      "     |      When True, an alternating sign is added to the features as to\n",
      "     |      approximately conserve the inner product in the hashed space even for\n",
      "     |      small n_features. This approach is similar to sparse random projection.\n",
      "     |  \n",
      "     |      .. versionchanged:: 0.19\n",
      "     |          ``alternate_sign`` replaces the now deprecated ``non_negative``\n",
      "     |          parameter.\n",
      "     |  \n",
      "     |  Examples\n",
      "     |  --------\n",
      "     |  >>> from sklearn.feature_extraction import FeatureHasher\n",
      "     |  >>> h = FeatureHasher(n_features=10)\n",
      "     |  >>> D = [{'dog': 1, 'cat':2, 'elephant':4},{'dog': 2, 'run': 5}]\n",
      "     |  >>> f = h.transform(D)\n",
      "     |  >>> f.toarray()\n",
      "     |  array([[ 0.,  0., -4., -1.,  0.,  0.,  0.,  0.,  0.,  2.],\n",
      "     |         [ 0.,  0.,  0., -2., -5.,  0.,  0.,  0.,  0.,  0.]])\n",
      "     |  \n",
      "     |  See Also\n",
      "     |  --------\n",
      "     |  DictVectorizer : Vectorizes string-valued features using a hash table.\n",
      "     |  sklearn.preprocessing.OneHotEncoder : Handles nominal/categorical features.\n",
      "     |  \n",
      "     |  Method resolution order:\n",
      "     |      FeatureHasher\n",
      "     |      sklearn.base.TransformerMixin\n",
      "     |      sklearn.base.BaseEstimator\n",
      "     |      builtins.object\n",
      "     |  \n",
      "     |  Methods defined here:\n",
      "     |  \n",
      "     |  __init__(self, n_features=1048576, *, input_type='dict', dtype=<class 'numpy.float64'>, alternate_sign=True)\n",
      "     |      Initialize self.  See help(type(self)) for accurate signature.\n",
      "     |  \n",
      "     |  fit(self, X=None, y=None)\n",
      "     |      No-op.\n",
      "     |      \n",
      "     |      This method doesn't do anything. It exists purely for compatibility\n",
      "     |      with the scikit-learn transformer API.\n",
      "     |      \n",
      "     |      Parameters\n",
      "     |      ----------\n",
      "     |      X : ndarray\n",
      "     |      \n",
      "     |      Returns\n",
      "     |      -------\n",
      "     |      self : FeatureHasher\n",
      "     |  \n",
      "     |  transform(self, raw_X)\n",
      "     |      Transform a sequence of instances to a scipy.sparse matrix.\n",
      "     |      \n",
      "     |      Parameters\n",
      "     |      ----------\n",
      "     |      raw_X : iterable over iterable over raw features, length = n_samples\n",
      "     |          Samples. Each sample must be iterable an (e.g., a list or tuple)\n",
      "     |          containing/generating feature names (and optionally values, see\n",
      "     |          the input_type constructor argument) which will be hashed.\n",
      "     |          raw_X need not support the len function, so it can be the result\n",
      "     |          of a generator; n_samples is determined on the fly.\n",
      "     |      \n",
      "     |      Returns\n",
      "     |      -------\n",
      "     |      X : sparse matrix of shape (n_samples, n_features)\n",
      "     |          Feature matrix, for use with estimators or further transformers.\n",
      "     |  \n",
      "     |  ----------------------------------------------------------------------\n",
      "     |  Methods inherited from sklearn.base.TransformerMixin:\n",
      "     |  \n",
      "     |  fit_transform(self, X, y=None, **fit_params)\n",
      "     |      Fit to data, then transform it.\n",
      "     |      \n",
      "     |      Fits transformer to `X` and `y` with optional parameters `fit_params`\n",
      "     |      and returns a transformed version of `X`.\n",
      "     |      \n",
      "     |      Parameters\n",
      "     |      ----------\n",
      "     |      X : array-like of shape (n_samples, n_features)\n",
      "     |          Input samples.\n",
      "     |      \n",
      "     |      y :  array-like of shape (n_samples,) or (n_samples, n_outputs),                 default=None\n",
      "     |          Target values (None for unsupervised transformations).\n",
      "     |      \n",
      "     |      **fit_params : dict\n",
      "     |          Additional fit parameters.\n",
      "     |      \n",
      "     |      Returns\n",
      "     |      -------\n",
      "     |      X_new : ndarray array of shape (n_samples, n_features_new)\n",
      "     |          Transformed array.\n",
      "     |  \n",
      "     |  ----------------------------------------------------------------------\n",
      "     |  Data descriptors inherited from sklearn.base.TransformerMixin:\n",
      "     |  \n",
      "     |  __dict__\n",
      "     |      dictionary for instance variables (if defined)\n",
      "     |  \n",
      "     |  __weakref__\n",
      "     |      list of weak references to the object (if defined)\n",
      "     |  \n",
      "     |  ----------------------------------------------------------------------\n",
      "     |  Methods inherited from sklearn.base.BaseEstimator:\n",
      "     |  \n",
      "     |  __getstate__(self)\n",
      "     |  \n",
      "     |  __repr__(self, N_CHAR_MAX=700)\n",
      "     |      Return repr(self).\n",
      "     |  \n",
      "     |  __setstate__(self, state)\n",
      "     |  \n",
      "     |  get_params(self, deep=True)\n",
      "     |      Get parameters for this estimator.\n",
      "     |      \n",
      "     |      Parameters\n",
      "     |      ----------\n",
      "     |      deep : bool, default=True\n",
      "     |          If True, will return the parameters for this estimator and\n",
      "     |          contained subobjects that are estimators.\n",
      "     |      \n",
      "     |      Returns\n",
      "     |      -------\n",
      "     |      params : dict\n",
      "     |          Parameter names mapped to their values.\n",
      "     |  \n",
      "     |  set_params(self, **params)\n",
      "     |      Set the parameters of this estimator.\n",
      "     |      \n",
      "     |      The method works on simple estimators as well as on nested objects\n",
      "     |      (such as :class:`~sklearn.pipeline.Pipeline`). The latter have\n",
      "     |      parameters of the form ``<component>__<parameter>`` so that it's\n",
      "     |      possible to update each component of a nested object.\n",
      "     |      \n",
      "     |      Parameters\n",
      "     |      ----------\n",
      "     |      **params : dict\n",
      "     |          Estimator parameters.\n",
      "     |      \n",
      "     |      Returns\n",
      "     |      -------\n",
      "     |      self : estimator instance\n",
      "     |          Estimator instance.\n",
      "\n",
      "FUNCTIONS\n",
      "    grid_to_graph(n_x, n_y, n_z=1, *, mask=None, return_as=<class 'scipy.sparse.coo.coo_matrix'>, dtype=<class 'int'>)\n",
      "        Graph of the pixel-to-pixel connections\n",
      "        \n",
      "        Edges exist if 2 voxels are connected.\n",
      "        \n",
      "        Parameters\n",
      "        ----------\n",
      "        n_x : int\n",
      "            Dimension in x axis\n",
      "        n_y : int\n",
      "            Dimension in y axis\n",
      "        n_z : int, default=1\n",
      "            Dimension in z axis\n",
      "        mask : ndarray of shape (n_x, n_y, n_z), dtype=bool, default=None\n",
      "            An optional mask of the image, to consider only part of the\n",
      "            pixels.\n",
      "        return_as : np.ndarray or a sparse matrix class,             default=sparse.coo_matrix\n",
      "            The class to use to build the returned adjacency matrix.\n",
      "        dtype : dtype, default=int\n",
      "            The data of the returned sparse matrix. By default it is int\n",
      "        \n",
      "        Notes\n",
      "        -----\n",
      "        For scikit-learn versions 0.14.1 and prior, return_as=np.ndarray was\n",
      "        handled by returning a dense np.matrix instance.  Going forward, np.ndarray\n",
      "        returns an np.ndarray, as expected.\n",
      "        \n",
      "        For compatibility, user code relying on this method should wrap its\n",
      "        calls in ``np.asarray`` to avoid type issues.\n",
      "    \n",
      "    img_to_graph(img, *, mask=None, return_as=<class 'scipy.sparse.coo.coo_matrix'>, dtype=None)\n",
      "        Graph of the pixel-to-pixel gradient connections\n",
      "        \n",
      "        Edges are weighted with the gradient values.\n",
      "        \n",
      "        Read more in the :ref:`User Guide <image_feature_extraction>`.\n",
      "        \n",
      "        Parameters\n",
      "        ----------\n",
      "        img : ndarray of shape (height, width) or (height, width, channel)\n",
      "            2D or 3D image.\n",
      "        mask : ndarray of shape (height, width) or             (height, width, channel), dtype=bool, default=None\n",
      "            An optional mask of the image, to consider only part of the\n",
      "            pixels.\n",
      "        return_as : np.ndarray or a sparse matrix class,             default=sparse.coo_matrix\n",
      "            The class to use to build the returned adjacency matrix.\n",
      "        dtype : dtype, default=None\n",
      "            The data of the returned sparse matrix. By default it is the\n",
      "            dtype of img\n",
      "        \n",
      "        Notes\n",
      "        -----\n",
      "        For scikit-learn versions 0.14.1 and prior, return_as=np.ndarray was\n",
      "        handled by returning a dense np.matrix instance.  Going forward, np.ndarray\n",
      "        returns an np.ndarray, as expected.\n",
      "        \n",
      "        For compatibility, user code relying on this method should wrap its\n",
      "        calls in ``np.asarray`` to avoid type issues.\n",
      "\n",
      "DATA\n",
      "    __all__ = ['DictVectorizer', 'image', 'img_to_graph', 'grid_to_graph',...\n",
      "\n",
      "FILE\n",
      "    c:\\anaconda3\\lib\\site-packages\\sklearn\\feature_extraction\\__init__.py\n",
      "\n",
      "\n"
     ]
    }
   ],
   "source": [
    "import sklearn.feature_extraction\n",
    "help(sklearn.feature_extraction)\n"
   ]
  },
  {
   "cell_type": "markdown",
   "metadata": {
    "id": "inzYCIaib3c3"
   },
   "source": [
    "<h1>2. Naive Bayes </h1>"
   ]
  },
  {
   "cell_type": "markdown",
   "metadata": {
    "id": "FYqCIxzFb3c5"
   },
   "source": [
    "## 1.1 Loading Data"
   ]
  },
  {
   "cell_type": "code",
   "execution_count": 1,
   "metadata": {
    "id": "dA1jknyqb3c_"
   },
   "outputs": [],
   "source": [
    "#make sure you are loading atleast 50k datapoints\n",
    "#you can work with features of preprocessed_data.csv for the assignment.\n",
    "# If you want to add more features, you can add. (This is purely optional, not mandatory)\n",
    "\n",
    "import pandas as pd\n",
    "import warnings\n",
    "warnings.filterwarnings('ignore')\n",
    "processed_data = pd.read_csv('preprocessed_data.csv', nrows=50000)\n"
   ]
  },
  {
   "cell_type": "code",
   "execution_count": 2,
   "metadata": {},
   "outputs": [
    {
     "data": {
      "text/plain": [
       "(50000, 9)"
      ]
     },
     "execution_count": 2,
     "metadata": {},
     "output_type": "execute_result"
    }
   ],
   "source": [
    "data=processed_data.copy()\n",
    "data.head()\n",
    "data.shape"
   ]
  },
  {
   "cell_type": "code",
   "execution_count": 3,
   "metadata": {},
   "outputs": [],
   "source": [
    "x=data.drop(\"project_is_approved\",axis=1, inplace=False)\n",
    "y=data[\"project_is_approved\"]"
   ]
  },
  {
   "cell_type": "markdown",
   "metadata": {
    "id": "WtVV13Fyb3dH"
   },
   "source": [
    "<h2>1.2 Splitting data into Train and cross validation(or test): Stratified Sampling</h2>"
   ]
  },
  {
   "cell_type": "code",
   "execution_count": 4,
   "metadata": {},
   "outputs": [],
   "source": [
    "# write your code in following steps for task 1\n",
    "# 1. Split your data.\n",
    "# 2. Perform Bag of Words Vectorization of text data.\n",
    "# 3. Perform tfidf vectorization of text data.\n",
    "# 4. perform one-hot encoding of categorical features.\n",
    "# 5. perform normalization of numerical features\n",
    "# 6. For set 1 stack up all the features using hstack()\n",
    "# 7. For set 2 stack up all the features using hstack()\n",
    "# 8. Perform hyperparameter tuning and represent the training and cross-validation AUC scores for different 'alpha' values, using a 2D line plot.\n",
    "# 9. Find the best hyperparameter 'alpha' and fit the model. Plot ROC-AUC curve(by obtaining the probabilities using 'predict proba' method)\n",
    "# 10. Plot confusion matrix based on the best threshold value\n",
    "# 11. Either for the model in set 1 or in set 2, print the top 20 features(you have to print the names, not the indexes) associated with the positive and negative classes each.\n",
    "# 12. Summarize your observations and compare both the models(ie., from set 1 and set 2) in terms of optimal hyperparameter value, train AUC and test AUC scores. \n",
    "# 13. You can use Prettytable or any other tabular format for comparison.\n",
    "\n",
    "\n",
    "# please write all the code with proper documentation, and proper titles for each subsection\n",
    "# go through documentations and blogs before you start coding\n",
    "# first figure out what to do, and then think about how to do.\n",
    "# reading and understanding error messages will be very much helpfull in debugging your code\n",
    "# when you plot any graph make sure you use \n",
    "    # a. Title, that describes your plot, this will be very helpful to the reader\n",
    "    # b. Legends if needed\n",
    "    # c. X-axis label\n",
    "    # d. Y-axis label\n",
    "from sklearn.model_selection import train_test_split  \n",
    "x_tr, x_test, y_tr, y_test=train_test_split(x,y, test_size=0.2, stratify=y )\n",
    "x_train, x_cv, y_train, y_cv=train_test_split(x_tr,y_tr, test_size=0.2, stratify=y_tr )"
   ]
  },
  {
   "cell_type": "markdown",
   "metadata": {},
   "source": [
    "### Importing BOW to perform BOW on the Feature Essay"
   ]
  },
  {
   "cell_type": "code",
   "execution_count": 5,
   "metadata": {
    "id": "i-PyprDNb3dI"
   },
   "outputs": [],
   "source": [
    "# Split the dataset \n",
    "# 1) If you want to apply simple cross-validation, split the dataset into 3 parts (ie., train, CV and test sets)\n",
    "# 2) If you want to apply K-fold CV (or) GridSearch Cross Validation (or) Randomized Search Cross Validation, just split the dataset into 2 parts (ie., train and test sets)\n",
    "\n",
    "#\n",
    "from sklearn.feature_extraction.text import CountVectorizer\n",
    "vector=CountVectorizer(ngram_range=(1,4), min_df=10)\n",
    "Dictionary=vector.fit(x_train['essay'].values)\n",
    "#print(vector.get_feature_names())"
   ]
  },
  {
   "cell_type": "code",
   "execution_count": 6,
   "metadata": {},
   "outputs": [
    {
     "name": "stdout",
     "output_type": "stream",
     "text": [
      "(32000, 105334)\n",
      "(10000, 105334)\n"
     ]
    }
   ],
   "source": [
    "x_train_essay_bow=vector.transform(x_train['essay'].values)\n",
    "x_test_essay_bow=vector.transform(x_test['essay'].values)\n",
    "x_cv_essay_bow=vector.transform(x_cv['essay'].values)\n",
    "print(x_train_essay_bow.shape)\n",
    "print(x_test_essay_bow.shape)"
   ]
  },
  {
   "cell_type": "markdown",
   "metadata": {
    "id": "EnZwVNULb3dO"
   },
   "source": [
    "<h2>1.3 Make Data Model Ready: encoding essay, and project_title</h2>"
   ]
  },
  {
   "cell_type": "markdown",
   "metadata": {},
   "source": [
    "### Importing tfidfvectorizer and performing tfidf on essay"
   ]
  },
  {
   "cell_type": "code",
   "execution_count": 7,
   "metadata": {},
   "outputs": [
    {
     "data": {
      "text/plain": [
       "(32000, 105334)"
      ]
     },
     "execution_count": 7,
     "metadata": {},
     "output_type": "execute_result"
    }
   ],
   "source": [
    "# Apply Bag of Words (BOW) vectorization on 'Preprocessed_Essay' \n",
    "# Apply Bag of Words (BOW) vectorization on 'Preprocessed_Title' (Optional)\n",
    "from sklearn.feature_extraction.text import TfidfVectorizer\n",
    "tf_vector=TfidfVectorizer(ngram_range=(1,4),min_df=10)\n",
    "tf_vector.fit(x_train['essay'].values)\n",
    "\n",
    "x_train_essay_tf=tf_vector.transform(x_train['essay'].values)\n",
    "x_test_essay_tf=tf_vector.transform(x_test['essay'].values)\n",
    "x_cv_tf=tf_vector.transform(x_cv['essay'].values)\n",
    "x_train_essay_tf.shape"
   ]
  },
  {
   "cell_type": "code",
   "execution_count": null,
   "metadata": {},
   "outputs": [],
   "source": [
    "# Apply TF-IDF vectorization on 'Preprocessed_Essay' \n",
    "# Apply TF-IDF vectorization on 'Preprocessed_Title' (Optional)\n"
   ]
  },
  {
   "cell_type": "markdown",
   "metadata": {
    "id": "bGy86kgHb3dX"
   },
   "source": [
    "<h2>1.4 Make Data Model Ready: encoding numerical, categorical features</h2>"
   ]
  },
  {
   "cell_type": "code",
   "execution_count": 8,
   "metadata": {},
   "outputs": [
    {
     "data": {
      "text/html": [
       "<div>\n",
       "<style scoped>\n",
       "    .dataframe tbody tr th:only-of-type {\n",
       "        vertical-align: middle;\n",
       "    }\n",
       "\n",
       "    .dataframe tbody tr th {\n",
       "        vertical-align: top;\n",
       "    }\n",
       "\n",
       "    .dataframe thead th {\n",
       "        text-align: right;\n",
       "    }\n",
       "</style>\n",
       "<table border=\"1\" class=\"dataframe\">\n",
       "  <thead>\n",
       "    <tr style=\"text-align: right;\">\n",
       "      <th></th>\n",
       "      <th>school_state</th>\n",
       "      <th>teacher_prefix</th>\n",
       "      <th>project_grade_category</th>\n",
       "      <th>teacher_number_of_previously_posted_projects</th>\n",
       "      <th>project_is_approved</th>\n",
       "      <th>clean_categories</th>\n",
       "      <th>clean_subcategories</th>\n",
       "      <th>essay</th>\n",
       "      <th>price</th>\n",
       "    </tr>\n",
       "  </thead>\n",
       "  <tbody>\n",
       "    <tr>\n",
       "      <th>0</th>\n",
       "      <td>ca</td>\n",
       "      <td>mrs</td>\n",
       "      <td>grades_prek_2</td>\n",
       "      <td>53</td>\n",
       "      <td>1</td>\n",
       "      <td>math_science</td>\n",
       "      <td>appliedsciences health_lifescience</td>\n",
       "      <td>i fortunate enough use fairy tale stem kits cl...</td>\n",
       "      <td>725.05</td>\n",
       "    </tr>\n",
       "    <tr>\n",
       "      <th>1</th>\n",
       "      <td>ut</td>\n",
       "      <td>ms</td>\n",
       "      <td>grades_3_5</td>\n",
       "      <td>4</td>\n",
       "      <td>1</td>\n",
       "      <td>specialneeds</td>\n",
       "      <td>specialneeds</td>\n",
       "      <td>imagine 8 9 years old you third grade classroo...</td>\n",
       "      <td>213.03</td>\n",
       "    </tr>\n",
       "    <tr>\n",
       "      <th>2</th>\n",
       "      <td>ca</td>\n",
       "      <td>mrs</td>\n",
       "      <td>grades_prek_2</td>\n",
       "      <td>10</td>\n",
       "      <td>1</td>\n",
       "      <td>literacy_language</td>\n",
       "      <td>literacy</td>\n",
       "      <td>having class 24 students comes diverse learner...</td>\n",
       "      <td>329.00</td>\n",
       "    </tr>\n",
       "    <tr>\n",
       "      <th>3</th>\n",
       "      <td>ga</td>\n",
       "      <td>mrs</td>\n",
       "      <td>grades_prek_2</td>\n",
       "      <td>2</td>\n",
       "      <td>1</td>\n",
       "      <td>appliedlearning</td>\n",
       "      <td>earlydevelopment</td>\n",
       "      <td>i recently read article giving students choice...</td>\n",
       "      <td>481.04</td>\n",
       "    </tr>\n",
       "    <tr>\n",
       "      <th>4</th>\n",
       "      <td>wa</td>\n",
       "      <td>mrs</td>\n",
       "      <td>grades_3_5</td>\n",
       "      <td>2</td>\n",
       "      <td>1</td>\n",
       "      <td>literacy_language</td>\n",
       "      <td>literacy</td>\n",
       "      <td>my students crave challenge eat obstacles brea...</td>\n",
       "      <td>17.74</td>\n",
       "    </tr>\n",
       "  </tbody>\n",
       "</table>\n",
       "</div>"
      ],
      "text/plain": [
       "  school_state teacher_prefix project_grade_category  \\\n",
       "0           ca            mrs          grades_prek_2   \n",
       "1           ut             ms             grades_3_5   \n",
       "2           ca            mrs          grades_prek_2   \n",
       "3           ga            mrs          grades_prek_2   \n",
       "4           wa            mrs             grades_3_5   \n",
       "\n",
       "   teacher_number_of_previously_posted_projects  project_is_approved  \\\n",
       "0                                            53                    1   \n",
       "1                                             4                    1   \n",
       "2                                            10                    1   \n",
       "3                                             2                    1   \n",
       "4                                             2                    1   \n",
       "\n",
       "    clean_categories                 clean_subcategories  \\\n",
       "0       math_science  appliedsciences health_lifescience   \n",
       "1       specialneeds                        specialneeds   \n",
       "2  literacy_language                            literacy   \n",
       "3    appliedlearning                    earlydevelopment   \n",
       "4  literacy_language                            literacy   \n",
       "\n",
       "                                               essay   price  \n",
       "0  i fortunate enough use fairy tale stem kits cl...  725.05  \n",
       "1  imagine 8 9 years old you third grade classroo...  213.03  \n",
       "2  having class 24 students comes diverse learner...  329.00  \n",
       "3  i recently read article giving students choice...  481.04  \n",
       "4  my students crave challenge eat obstacles brea...   17.74  "
      ]
     },
     "execution_count": 8,
     "metadata": {},
     "output_type": "execute_result"
    }
   ],
   "source": [
    "data.head()"
   ]
  },
  {
   "cell_type": "code",
   "execution_count": 9,
   "metadata": {
    "id": "EfXkofX1b3da"
   },
   "outputs": [
    {
     "data": {
      "text/plain": [
       "(10000, 51)"
      ]
     },
     "execution_count": 9,
     "metadata": {},
     "output_type": "execute_result"
    }
   ],
   "source": [
    "# Apply One-Hot Encoding on the categorical features either using OneHotEncoder() (or) CountVectorizer(binary=True)\n",
    "# Apply Normalization on the numerical features using Normalizer().\n",
    "#Working on School States\n",
    "state_encoder=CountVectorizer(binary=True)\n",
    "state_encoder.fit(x_train['school_state'].values)\n",
    "school_states_train=state_encoder.transform(x_train['school_state'].values)\n",
    "school_states_test=state_encoder.transform(x_test['school_state'].values)\n",
    "school_states_cv=state_encoder.transform(x_cv['school_state'].values)\n",
    "\n",
    "\n",
    "school_states_train.shape\n",
    "school_states_test.shape"
   ]
  },
  {
   "cell_type": "code",
   "execution_count": 10,
   "metadata": {},
   "outputs": [
    {
     "data": {
      "text/plain": [
       "['dr', 'mr', 'mrs', 'ms', 'teacher']"
      ]
     },
     "execution_count": 10,
     "metadata": {},
     "output_type": "execute_result"
    }
   ],
   "source": [
    "#Working on Teacher Prefix\n",
    "prefix_encoder=CountVectorizer(binary=True)\n",
    "prefix_encoder.fit(x_train['teacher_prefix'].values)\n",
    "teacher_prefix_train=prefix_encoder.transform(x_train['teacher_prefix'].values)\n",
    "teacher_prefix_test=prefix_encoder.transform(x_test['teacher_prefix'].values)\n",
    "teacher_prefix_cv=prefix_encoder.transform(x_cv['teacher_prefix'].values)\n",
    "\n",
    "\n",
    "teacher_prefix_train.shape\n",
    "teacher_prefix_test.shape\n",
    "\n",
    "prefix_encoder.get_feature_names()"
   ]
  },
  {
   "cell_type": "code",
   "execution_count": 11,
   "metadata": {},
   "outputs": [
    {
     "data": {
      "text/plain": [
       "['grades_3_5', 'grades_6_8', 'grades_9_12', 'grades_prek_2']"
      ]
     },
     "execution_count": 11,
     "metadata": {},
     "output_type": "execute_result"
    }
   ],
   "source": [
    "#Working on grades\n",
    "grade_encoder=CountVectorizer(binary=True)\n",
    "grade_encoder.fit(x_train['project_grade_category'].values)\n",
    "school_grades_train=grade_encoder.transform(x_train['project_grade_category'].values)\n",
    "school_grades_test=grade_encoder.transform(x_test['project_grade_category'].values)\n",
    "school_grades_cv=grade_encoder.transform(x_cv['project_grade_category'].values)\n",
    "\n",
    "\n",
    "\n",
    "school_grades_train.shape\n",
    "school_grades_test.shape\n",
    "\n",
    "grade_encoder.get_feature_names()"
   ]
  },
  {
   "cell_type": "code",
   "execution_count": 12,
   "metadata": {},
   "outputs": [
    {
     "data": {
      "text/plain": [
       "['appliedlearning',\n",
       " 'care_hunger',\n",
       " 'health_sports',\n",
       " 'history_civics',\n",
       " 'literacy_language',\n",
       " 'math_science',\n",
       " 'music_arts',\n",
       " 'specialneeds',\n",
       " 'warmth']"
      ]
     },
     "execution_count": 12,
     "metadata": {},
     "output_type": "execute_result"
    }
   ],
   "source": [
    "#working on main categories\n",
    "category_encoder=CountVectorizer(binary=True)\n",
    "category_encoder.fit(x_train['clean_categories'].values)\n",
    "main_category_train=category_encoder.transform(x_train['clean_categories'].values)\n",
    "main_category_test=category_encoder.transform(x_test['clean_categories'].values)\n",
    "main_category_cv=category_encoder.transform(x_cv['clean_categories'].values)\n",
    "\n",
    "\n",
    "main_category_train.shape\n",
    "main_category_test.shape\n",
    "\n",
    "category_encoder.get_feature_names()"
   ]
  },
  {
   "cell_type": "code",
   "execution_count": 13,
   "metadata": {},
   "outputs": [
    {
     "data": {
      "text/plain": [
       "['appliedsciences',\n",
       " 'care_hunger',\n",
       " 'charactereducation',\n",
       " 'civics_government',\n",
       " 'college_careerprep',\n",
       " 'communityservice',\n",
       " 'earlydevelopment',\n",
       " 'economics',\n",
       " 'environmentalscience',\n",
       " 'esl',\n",
       " 'extracurricular',\n",
       " 'financialliteracy',\n",
       " 'foreignlanguages',\n",
       " 'gym_fitness',\n",
       " 'health_lifescience',\n",
       " 'health_wellness',\n",
       " 'history_geography',\n",
       " 'literacy',\n",
       " 'literature_writing',\n",
       " 'mathematics',\n",
       " 'music',\n",
       " 'nutritioneducation',\n",
       " 'other',\n",
       " 'parentinvolvement',\n",
       " 'performingarts',\n",
       " 'socialsciences',\n",
       " 'specialneeds',\n",
       " 'teamsports',\n",
       " 'visualarts',\n",
       " 'warmth']"
      ]
     },
     "execution_count": 13,
     "metadata": {},
     "output_type": "execute_result"
    }
   ],
   "source": [
    "#working on sub categories\n",
    "\n",
    "sub_category_encoder=CountVectorizer(binary=True)\n",
    "sub_category_encoder.fit(x_train['clean_subcategories'].values)\n",
    "sub_category_train=sub_category_encoder.transform(x_train['clean_subcategories'].values)\n",
    "sub_category_test=sub_category_encoder.transform(x_test['clean_subcategories'].values)\n",
    "sub_category_cv=sub_category_encoder.transform(x_cv['clean_subcategories'].values)\n",
    "\n",
    "\n",
    "sub_category_train.shape\n",
    "sub_category_test.shape\n",
    "\n",
    "sub_category_encoder.get_feature_names()"
   ]
  },
  {
   "cell_type": "code",
   "execution_count": 14,
   "metadata": {},
   "outputs": [],
   "source": [
    "#Performing Normalization on the numeric features\n",
    "#teacher_number_of_previously_posted_projects\n",
    "from sklearn.preprocessing import Normalizer\n",
    "normalizer=Normalizer()\n",
    "normalizer.fit(x_train['teacher_number_of_previously_posted_projects'].values.reshape(-1,1))\n",
    "\n",
    "previous_submission_train=normalizer.transform(x_train['teacher_number_of_previously_posted_projects'].values.reshape(-1,1))\n",
    "previous_submission_test=normalizer.transform(x_test['teacher_number_of_previously_posted_projects'].values.reshape(-1,1))\n",
    "previous_submission_cv=normalizer.transform(x_cv['teacher_number_of_previously_posted_projects'].values.reshape(-1,1))"
   ]
  },
  {
   "cell_type": "code",
   "execution_count": 15,
   "metadata": {},
   "outputs": [],
   "source": [
    "normalizer=Normalizer()\n",
    "normalizer.fit(x_train['price'].values.reshape(-1,1))\n",
    "price_train=normalizer.transform(x_train['price'].values.reshape(-1,1))\n",
    "price_test=normalizer.transform(x_test['price'].values.reshape(-1,1))\n",
    "price_cv=normalizer.transform(x_cv['price'].values.reshape(-1,1))"
   ]
  },
  {
   "cell_type": "code",
   "execution_count": 16,
   "metadata": {},
   "outputs": [
    {
     "data": {
      "text/plain": [
       "(32000, 1)"
      ]
     },
     "execution_count": 16,
     "metadata": {},
     "output_type": "execute_result"
    }
   ],
   "source": [
    "'''train_teacher_number_of_previously_posted_projects = normalizer.transform(X_train['teacher_number_of_previously_posted_projects'].values.reshape(1, -1)).reshape(-1, 1)'''\n",
    "price_train.shape"
   ]
  },
  {
   "cell_type": "code",
   "execution_count": 17,
   "metadata": {},
   "outputs": [
    {
     "data": {
      "text/plain": [
       "(32000,)"
      ]
     },
     "execution_count": 17,
     "metadata": {},
     "output_type": "execute_result"
    }
   ],
   "source": [
    "x_train['price'].values.shape"
   ]
  },
  {
   "cell_type": "code",
   "execution_count": 18,
   "metadata": {},
   "outputs": [
    {
     "name": "stdout",
     "output_type": "stream",
     "text": [
      "<class 'scipy.sparse.csr.csr_matrix'>\n",
      "(32000, 105435) (32000,)\n",
      "(10000, 105435) (10000,)\n",
      "(8000, 105435) (8000,)\n"
     ]
    }
   ],
   "source": [
    "from scipy.sparse import hstack\n",
    "x_tr=hstack((x_train_essay_bow, school_states_train, teacher_prefix_train, school_grades_train, main_category_train, sub_category_train,previous_submission_train, price_train)).tocsr()\n",
    "x_te=hstack((x_test_essay_bow, school_states_test, teacher_prefix_test, school_grades_test, main_category_test, sub_category_test,previous_submission_test, price_test)).tocsr()\n",
    "x_cv=hstack((x_cv_essay_bow, school_states_cv, teacher_prefix_cv, school_grades_cv, main_category_cv, sub_category_cv,previous_submission_cv, price_cv)).tocsr()\n",
    "\n",
    "print(type(x_tr))\n",
    "#csr creates rows, whereas csc creates columns\n",
    "\n",
    "print(x_tr.shape, y_train.shape)\n",
    "print(x_te.shape, y_test.shape)\n",
    "print(x_cv.shape, y_cv.shape)\n",
    "\n",
    "\n",
    "#print(x_tr.toarray())"
   ]
  },
  {
   "cell_type": "markdown",
   "metadata": {
    "id": "yYHPYadYb3dh"
   },
   "source": [
    "<h2>1.5 Appling NB on different kind of featurization as mentioned in the instructions</h2>\n",
    "\n",
    "<br>Apply NB on different kind of featurization as mentioned in the instructions\n",
    "<br> For Every model that you work on make sure you do the step 2 and step 3 of instrucations"
   ]
  },
  {
   "cell_type": "markdown",
   "metadata": {
    "id": "DNwqilFxb3di"
   },
   "source": [
    "#### Set 1"
   ]
  },
  {
   "cell_type": "code",
   "execution_count": 19,
   "metadata": {},
   "outputs": [
    {
     "data": {
      "text/plain": [
       "array([0, 1, 0, ..., 1, 1, 1], dtype=int64)"
      ]
     },
     "execution_count": 19,
     "metadata": {},
     "output_type": "execute_result"
    }
   ],
   "source": [
    "y_train.values"
   ]
  },
  {
   "cell_type": "code",
   "execution_count": 20,
   "metadata": {},
   "outputs": [
    {
     "name": "stderr",
     "output_type": "stream",
     "text": [
      "100%|██████████████████████████████████████████████████████████████████████████████████| 16/16 [00:02<00:00,  6.62it/s]\n"
     ]
    },
    {
     "data": {
      "image/png": "[encoded data removed]",
      "text/plain": [
       "<Figure size 432x288 with 1 Axes>"
      ]
     },
     "metadata": {
      "needs_background": "light"
     },
     "output_type": "display_data"
    }
   ],
   "source": [
    "#Performing k_fold CV.\n",
    "# Perform Hyperparameter Tuning.\n",
    "# Plot the training and the CV AUC scores, for different values of 'alpha', using a 2D line plot\n",
    "from sklearn.naive_bayes import MultinomialNB\n",
    "from sklearn.metrics import roc_auc_score\n",
    "from tqdm import tqdm\n",
    "import matplotlib.pyplot as plt\n",
    "import random\n",
    "from sklearn.model_selection import KFold\n",
    "import warnings\n",
    "warnings.filterwarnings(\"ignore\")\n",
    "import numpy as np\n",
    "\n",
    "#[0.00001,0.0005, 0.0001,0.005,0.001,0.05,0.01,0.1,0.5,1,5,10,50,100]\n",
    "alpha_values=[0.00001,0.0005, 0.0001,0.005,0.001,0.05,0.01,0.1,0.5,1,2,3,5,10,50,100]\n",
    "train_auc=[]\n",
    "cv_auc=[]\n",
    "#using k-fold CV\n",
    "for x in tqdm(alpha_values):\n",
    "    model=MultinomialNB(alpha=x,class_prior = [0.5, 0.5])\n",
    "    model.fit(x_tr, y_train)\n",
    "    x_tr_prob=model.predict_proba(x_tr)[:, 1] #https://stackoverflow.com/questions/61184906/difference-between-predict-vs-predict-proba-in-scikit-learn\n",
    "    x_cv_prob=model.predict_proba(x_cv)[:, 1]\n",
    "    train_auc.append(roc_auc_score(y_train,x_tr_prob))\n",
    "    cv_auc.append(roc_auc_score(y_cv,x_cv_prob))\n",
    "    \n",
    "plt.plot(np.log(alpha_values), train_auc, label='Train AUC')\n",
    "plt.plot(np.log(alpha_values), cv_auc, label='CV AUC')\n",
    "\n",
    "plt.scatter(np.log(alpha_values), train_auc, label='Train AUC points')\n",
    "plt.scatter(np.log(alpha_values), cv_auc, label='CV AUC points')\n",
    "\n",
    "plt.legend()\n",
    "plt.xlabel(\"Alpha: hyperparameter\")\n",
    "plt.ylabel(\"AUC\")\n",
    "plt.title(\"ERROR PLOTS\")\n",
    "plt.grid()\n",
    "plt.show()"
   ]
  },
  {
   "cell_type": "code",
   "execution_count": 21,
   "metadata": {},
   "outputs": [
    {
     "name": "stdout",
     "output_type": "stream",
     "text": [
      "5.4739473917272\n"
     ]
    }
   ],
   "source": [
    "alpha=np.exp(1.7)\n",
    "print(alpha)"
   ]
  },
  {
   "cell_type": "code",
   "execution_count": 22,
   "metadata": {},
   "outputs": [
    {
     "name": "stdout",
     "output_type": "stream",
     "text": [
      "[0 1 0 1 0 1 1 0 1 0 1 1 0 0 1 1 0 1 1 1 1 1 1 1 1 0 1 1 1 0 1 1 1 1 1 1 1\n",
      " 1 1 1 0 1 1 1 1 1 1 0 1 1]\n"
     ]
    }
   ],
   "source": [
    "from scipy.sparse import vstack\n",
    "new_x_tr=vstack((x_tr,x_cv)).tocsr()\n",
    "new_y_tr=np.hstack((y_train.values, y_cv.values))\n",
    "print(new_y_tr[:50])"
   ]
  },
  {
   "cell_type": "code",
   "execution_count": 23,
   "metadata": {},
   "outputs": [],
   "source": [
    "model=MultinomialNB(alpha=5.4)\n",
    "model.fit(new_x_tr, new_y_tr)\n",
    "x_tr_prob=model.predict_proba(new_x_tr)[:,1]\n",
    "x_test_prob=model.predict_proba(x_te)[:,1]"
   ]
  },
  {
   "cell_type": "code",
   "execution_count": 24,
   "metadata": {},
   "outputs": [
    {
     "data": {
      "image/png": "[encoded data removed]",
      "text/plain": [
       "<Figure size 432x288 with 1 Axes>"
      ]
     },
     "metadata": {
      "needs_background": "light"
     },
     "output_type": "display_data"
    }
   ],
   "source": [
    "from sklearn.metrics import roc_curve, auc\n",
    "fpr_train, tpr_train, threshold_tr=roc_curve(new_y_tr,x_tr_prob)\n",
    "fpr_test, tpr_test, threshold_test=roc_curve(y_test,x_test_prob)\n",
    "auc_bow=auc(fpr_test, tpr_test)\n",
    "plt.plot(fpr_test, tpr_test, label=\"test AUC =\"+str(auc(fpr_test, tpr_test)))\n",
    "plt.plot(fpr_train, tpr_train, label=\"train AUC =\"+str(auc(fpr_train, tpr_train)))\n",
    "plt.legend()\n",
    "plt.xlabel(\"K: hyperparameter\")\n",
    "plt.ylabel(\"AUC\")\n",
    "plt.title(\"ERROR PLOTS\")\n",
    "plt.grid()\n",
    "plt.show()"
   ]
  },
  {
   "cell_type": "code",
   "execution_count": 25,
   "metadata": {},
   "outputs": [
    {
     "name": "stdout",
     "output_type": "stream",
     "text": [
      "the maximum value of tpr*(1-fpr) 0.42334387537138013 for threshold 0.9999999993044639\n"
     ]
    },
    {
     "data": {
      "text/plain": [
       "0.9999999993044639"
      ]
     },
     "execution_count": 25,
     "metadata": {},
     "output_type": "execute_result"
    }
   ],
   "source": [
    "# Obtain the optimal value for 'alpha' and using the obtained optimal 'alpha' value, fit a multinomial naive bayes model, on the train data,\n",
    "# Note: If you have split the datase into 3 parts (ie., train, cv and test sets) in the beginning, then the training datafor this final model would be (train set + cv set)\n",
    "# Make class label and probability predictions on the train and test data.\n",
    "import numpy as np\n",
    "\n",
    "def find_best_threshold(fpr, tpr, threshould):\n",
    "    t = threshould[np.argmax(tpr*(1-fpr))]\n",
    "    # (tpr*(1-fpr)) will be maximum if your fpr is very low and tpr is very high\n",
    "    print(\"the maximum value of tpr*(1-fpr)\", max(tpr*(1-fpr)), \"for threshold\", t)\n",
    "    return t\n",
    "\n",
    "def predict_with_best_t(proba, threshould):\n",
    "    predictions = []\n",
    "    for i in proba:\n",
    "        if i>=threshould:\n",
    "            predictions.append(1)\n",
    "        else:\n",
    "            predictions.append(0)\n",
    "    return predictions\n",
    "\n",
    "find_best_threshold(fpr_test, tpr_test, threshold_test)"
   ]
  },
  {
   "cell_type": "code",
   "execution_count": 26,
   "metadata": {},
   "outputs": [],
   "source": [
    "# Plot the ROC-AUC curves using the probability predictions made on train and test data."
   ]
  },
  {
   "cell_type": "code",
   "execution_count": 27,
   "metadata": {},
   "outputs": [],
   "source": [
    "# Pick the best threshold among the probability estimates, such that it has to yield maximum value for TPR*(1-FPR)\n",
    "# Plot the confusion matrices(each for train and test data) afer encoding the predicted class labels, on the basis of the best threshod probability estimate.\n",
    "def best_threshold(TPR, FPR, Threshold):\n",
    "    scores=[]\n",
    "    for x in range(len(TPR)):\n",
    "        value=TPR[x]*(1-FPR[x])\n",
    "        scores.append(value)\n",
    "    thmax(scores)\n",
    "    return"
   ]
  },
  {
   "cell_type": "code",
   "execution_count": 28,
   "metadata": {},
   "outputs": [
    {
     "name": "stdout",
     "output_type": "stream",
     "text": [
      "====================================================================================================\n",
      "the maximum value of tpr*(1-fpr) 0.04738088330337001 for threshold 0.9999999786025457\n",
      "Train confusion matrix\n",
      "[[ 5064  1342]\n",
      " [ 7598 25996]]\n",
      "Test confusion matrix\n",
      "[[ 838  763]\n",
      " [2007 6392]]\n"
     ]
    }
   ],
   "source": [
    "print(\"=\"*100)\n",
    "from sklearn.metrics import confusion_matrix\n",
    "best_t = find_best_threshold( tpr_train, fpr_train,threshold_tr)\n",
    "print(\"Train confusion matrix\")\n",
    "print(confusion_matrix(new_y_tr, predict_with_best_t(x_tr_prob, best_t)))\n",
    "print(\"Test confusion matrix\")\n",
    "print(confusion_matrix(y_test, predict_with_best_t(x_test_prob, best_t)))"
   ]
  },
  {
   "cell_type": "code",
   "execution_count": 29,
   "metadata": {},
   "outputs": [
    {
     "data": {
      "image/png": "[encoded data removed]",
      "text/plain": [
       "<Figure size 432x288 with 2 Axes>"
      ]
     },
     "metadata": {
      "needs_background": "light"
     },
     "output_type": "display_data"
    }
   ],
   "source": [
    "#reference: https://www.stackvidhya.com/plot-confusion-matrix-in-python-and-why/\n",
    "import seaborn as sns\n",
    "cf_matrix=confusion_matrix(y_test, predict_with_best_t(x_test_prob, best_t))\n",
    "ax = sns.heatmap(cf_matrix, annot=True, cmap='Blues',fmt='d')\n",
    "\n",
    "ax.set_title('Seaborn Confusion Matrix with labels for test\\n\\n');\n",
    "ax.set_xlabel('\\nPredicted Values')\n",
    "ax.set_ylabel('Actual Values ');\n",
    "\n",
    "## Ticket labels - List must be in alphabetical order\n",
    "ax.xaxis.set_ticklabels(['False','True'])\n",
    "ax.yaxis.set_ticklabels(['False','True'])\n",
    "\n",
    "## Display the visualization of the Confusion Matrix.\n",
    "plt.show()"
   ]
  },
  {
   "cell_type": "code",
   "execution_count": 30,
   "metadata": {},
   "outputs": [
    {
     "name": "stdout",
     "output_type": "stream",
     "text": [
      "students\n",
      "school\n",
      "my\n",
      "learning\n",
      "classroom\n",
      "the\n",
      "not\n",
      "they\n",
      "learn\n",
      "my students\n",
      "help\n",
      "price\n",
      "many\n",
      "nannan\n",
      "work\n",
      "we\n",
      "reading\n",
      "need\n",
      "use\n",
      "day\n"
     ]
    }
   ],
   "source": [
    "# 11. Either for the model in set 1 or in set 2, print the top 20 features(you have to print the names, not the indexes) associated with the positive and negative classes each.\n",
    "positive_log_prob=model.feature_log_prob_[1]\n",
    "negative_log_prob= model.feature_log_prob_[0]\n",
    "positive_index=(np.argsort(positive_log_prob)[::-1])\n",
    "top_features=positive_index[:20]\n",
    "\n",
    "parent_list=[]\n",
    "\n",
    "#x_tr=hstack((x_train_essay_bow, school_states_train, teacher_prefix_train, school_grades_train, main_category_train, sub_category_train,previous_submission_train, price_train)).tocsr()\n",
    "parent_list.extend(vector.get_feature_names())\n",
    "parent_list.extend(state_encoder.get_feature_names())\n",
    "parent_list.extend(prefix_encoder.get_feature_names())\n",
    "parent_list.extend(grade_encoder.get_feature_names())\n",
    "parent_list.extend(category_encoder.get_feature_names())\n",
    "parent_list.extend(sub_category_encoder.get_feature_names())\n",
    "parent_list.append('submissions')\n",
    "parent_list.append('price')\n",
    "#print(len(parent_list))\n",
    "#print(new_x_tr.shape)\n",
    "\n",
    "for x in top_features:\n",
    "    print(parent_list[x])"
   ]
  },
  {
   "cell_type": "code",
   "execution_count": null,
   "metadata": {},
   "outputs": [],
   "source": []
  },
  {
   "cell_type": "markdown",
   "metadata": {},
   "source": [
    "#### Set 2"
   ]
  },
  {
   "cell_type": "code",
   "execution_count": 31,
   "metadata": {},
   "outputs": [
    {
     "name": "stdout",
     "output_type": "stream",
     "text": [
      "<class 'scipy.sparse.csr.csr_matrix'>\n",
      "(32000, 105435) (32000,)\n",
      "(10000, 105435) (10000,)\n",
      "(8000, 105435) (8000,)\n"
     ]
    }
   ],
   "source": [
    "from scipy.sparse import hstack\n",
    "x_tr=hstack((x_train_essay_tf, school_states_train, teacher_prefix_train, school_grades_train, main_category_train, sub_category_train,previous_submission_train, price_train)).tocsr()\n",
    "x_te=hstack((x_test_essay_tf, school_states_test, teacher_prefix_test, school_grades_test, main_category_test, sub_category_test,previous_submission_test, price_test)).tocsr()\n",
    "x_cv=hstack((x_cv_tf, school_states_cv, teacher_prefix_cv, school_grades_cv, main_category_cv, sub_category_cv,previous_submission_cv, price_cv)).tocsr()\n",
    "\n",
    "print(type(x_tr))\n",
    "#csr creates rows, whereas csc creates columns\n",
    "\n",
    "print(x_tr.shape, y_train.shape)\n",
    "print(x_te.shape, y_test.shape)\n",
    "print(x_cv.shape, y_cv.shape)\n",
    "\n"
   ]
  },
  {
   "cell_type": "code",
   "execution_count": 32,
   "metadata": {},
   "outputs": [
    {
     "name": "stderr",
     "output_type": "stream",
     "text": [
      "100%|██████████████████████████████████████████████████████████████████████████████████| 14/14 [00:02<00:00,  6.58it/s]\n"
     ]
    },
    {
     "data": {
      "image/png": "[encoded data removed]",
      "text/plain": [
       "<Figure size 432x288 with 1 Axes>"
      ]
     },
     "metadata": {
      "needs_background": "light"
     },
     "output_type": "display_data"
    }
   ],
   "source": [
    "# Obtain the optimal value for 'alpha' and using the obtained optimal 'alpha' value, fit a multinomial naive bayes model, on the train data,\n",
    "# Note: If you have split the datase into 3 parts (ie., train, cv and test sets) in the beginning, then the training datafor this final model would be (train set + cv set)\n",
    "# Make class label and probability predictions on the train and test data.\n",
    "import random\n",
    "\n",
    "alpha_values=[0.00001,0.0005, 0.0001,0.005,0.001,0.05,0.01,0.1,0.5,1,5,10,50,100]\n",
    "\n",
    "train_auc=[]\n",
    "cv_auc=[]\n",
    "#using k-fold CV\n",
    "for x in tqdm(alpha_values):\n",
    "    model=MultinomialNB(alpha=x,class_prior = [0.5, 0.5])\n",
    "    model.fit(x_tr, y_train)\n",
    "    x_tr_prob=model.predict_proba(x_tr)[:, 1] #https://stackoverflow.com/questions/61184906/difference-between-predict-vs-predict-proba-in-scikit-learn\n",
    "    x_cv_prob=model.predict_proba(x_cv)[:, 1]\n",
    "    train_auc.append(roc_auc_score(y_train,x_tr_prob))\n",
    "    cv_auc.append(roc_auc_score(y_cv,x_cv_prob))\n",
    "    \n",
    "plt.plot(np.log(alpha_values), train_auc, label='Train AUC')\n",
    "plt.plot(np.log(alpha_values), cv_auc, label='CV AUC')\n",
    "\n",
    "plt.scatter(np.log(alpha_values), train_auc, label='Train AUC points')\n",
    "plt.scatter(np.log(alpha_values), cv_auc, label='CV AUC points')\n",
    "\n",
    "plt.legend()\n",
    "plt.xlabel(\"Alpha: hyperparameter\")\n",
    "plt.ylabel(\"AUC\")\n",
    "plt.title(\"ERROR PLOTS\")\n",
    "plt.grid()\n",
    "plt.show()"
   ]
  },
  {
   "cell_type": "code",
   "execution_count": 33,
   "metadata": {},
   "outputs": [
    {
     "data": {
      "text/plain": [
       "4.4816890703380645"
      ]
     },
     "execution_count": 33,
     "metadata": {},
     "output_type": "execute_result"
    }
   ],
   "source": [
    "np.exp(1.5)"
   ]
  },
  {
   "cell_type": "code",
   "execution_count": 34,
   "metadata": {},
   "outputs": [
    {
     "data": {
      "image/png": "[encoded data removed]",
      "text/plain": [
       "<Figure size 432x288 with 1 Axes>"
      ]
     },
     "metadata": {
      "needs_background": "light"
     },
     "output_type": "display_data"
    }
   ],
   "source": [
    "# Plot the ROC-AUC curves using the probability predictions made on train and test data.\n",
    "\n",
    "from scipy.sparse import vstack\n",
    "new_x_tr=vstack((x_tr,x_cv)).tocsr()\n",
    "new_y_tr=np.hstack((y_train.values, y_cv.values))\n",
    "#print(new_y_tr[:50])\n",
    "\n",
    "model=MultinomialNB(alpha=4.4)\n",
    "model.fit(new_x_tr, new_y_tr)\n",
    "x_tr_prob=model.predict_proba(new_x_tr)[:,1]\n",
    "x_test_prob=model.predict_proba(x_te)[:,1]\n",
    "\n",
    "from sklearn.metrics import roc_curve, auc\n",
    "fpr_train, tpr_train, threshold_tr=roc_curve(new_y_tr,x_tr_prob)\n",
    "fpr_test, tpr_test, threshold_test=roc_curve(y_test,x_test_prob)\n",
    "\n",
    "auc_tfidf=auc(fpr_test, tpr_test)\n",
    "\n",
    "plt.plot(fpr_test, tpr_test, label=\"test AUC =\"+str(auc(fpr_test, tpr_test)))\n",
    "plt.plot(fpr_train, tpr_train, label=\"train AUC =\"+str(auc(fpr_train, tpr_train)))\n",
    "plt.legend()\n",
    "plt.xlabel(\"K: hyperparameter\")\n",
    "plt.ylabel(\"AUC\")\n",
    "plt.title(\"ERROR PLOTS\")\n",
    "plt.grid()\n",
    "plt.show()"
   ]
  },
  {
   "cell_type": "code",
   "execution_count": 35,
   "metadata": {},
   "outputs": [
    {
     "name": "stdout",
     "output_type": "stream",
     "text": [
      "the maximum value of tpr*(1-fpr) 0.3228942441989353 for threshold 0.9999935469108602\n"
     ]
    },
    {
     "data": {
      "text/plain": [
       "0.9999935469108602"
      ]
     },
     "execution_count": 35,
     "metadata": {},
     "output_type": "execute_result"
    }
   ],
   "source": [
    "# Pick the best threshold among the probability estimates, such that it has to yield maximum value for TPR*(1-FPR)\n",
    "# Plot the confusion matrices(each for train and test data) afer encoding the predicted class labels, on the basis of the best threshod probability estimate.\n",
    "# Obtain the optimal value for 'alpha' and using the obtained optimal 'alpha' value, fit a multinomial naive bayes model, on the train data,\n",
    "# Note: If you have split the datase into 3 parts (ie., train, cv and test sets) in the beginning, then the training datafor this final model would be (train set + cv set)\n",
    "# Make class label and probability predictions on the train and test data.\n",
    "import numpy as np\n",
    "\n",
    "def find_best_threshold(fpr, tpr, threshould):\n",
    "    t = threshould[np.argmax(tpr*(1-fpr))]\n",
    "    # (tpr*(1-fpr)) will be maximum if your fpr is very low and tpr is very high\n",
    "    print(\"the maximum value of tpr*(1-fpr)\", max(tpr*(1-fpr)), \"for threshold\", t)\n",
    "    return t\n",
    "\n",
    "def predict_with_best_t(proba, threshould):\n",
    "    predictions = []\n",
    "    for i in proba:\n",
    "        if i>=threshould:\n",
    "            predictions.append(1)\n",
    "        else:\n",
    "            predictions.append(0)\n",
    "    return predictions\n",
    "\n",
    "find_best_threshold(fpr_test, tpr_test, threshold_test)"
   ]
  },
  {
   "cell_type": "code",
   "execution_count": 36,
   "metadata": {},
   "outputs": [],
   "source": [
    "# Pick the best threshold among the probability estimates, such that it has to yield maximum value for TPR*(1-FPR)\n",
    "# Plot the confusion matrices(each for train and test data) afer encoding the predicted class labels, on the basis of the best threshod probability estimate.\n",
    "def best_threshold(TPR, FPR, Threshold):\n",
    "    scores=[]\n",
    "    for x in range(len(TPR)):\n",
    "        value=TPR[x]*(1-FPR[x])\n",
    "        scores.append(value)\n",
    "    thmax(scores)\n",
    "    return"
   ]
  },
  {
   "cell_type": "code",
   "execution_count": 37,
   "metadata": {},
   "outputs": [
    {
     "name": "stdout",
     "output_type": "stream",
     "text": [
      "====================================================================================================\n",
      "the maximum value of tpr*(1-fpr) 0.1660924371911186 for threshold 0.9999930674868688\n",
      "Train confusion matrix\n",
      "[[ 3764  2642]\n",
      " [13529 20065]]\n",
      "Test confusion matrix\n",
      "[[ 827  774]\n",
      " [3203 5196]]\n"
     ]
    }
   ],
   "source": [
    "print(\"=\"*100)\n",
    "from sklearn.metrics import confusion_matrix\n",
    "best_t = find_best_threshold( tpr_train, fpr_train,threshold_tr)\n",
    "print(\"Train confusion matrix\")\n",
    "print(confusion_matrix(new_y_tr, predict_with_best_t(x_tr_prob, best_t)))\n",
    "print(\"Test confusion matrix\")\n",
    "print(confusion_matrix(y_test, predict_with_best_t(x_test_prob, best_t)))"
   ]
  },
  {
   "cell_type": "code",
   "execution_count": 38,
   "metadata": {},
   "outputs": [
    {
     "data": {
      "image/png": "[encoded data removed]",
      "text/plain": [
       "<Figure size 432x288 with 2 Axes>"
      ]
     },
     "metadata": {
      "needs_background": "light"
     },
     "output_type": "display_data"
    }
   ],
   "source": [
    "#reference: https://www.stackvidhya.com/plot-confusion-matrix-in-python-and-why/\n",
    "import seaborn as sns\n",
    "cf_matrix=confusion_matrix(y_test, predict_with_best_t(x_test_prob, best_t))\n",
    "ax = sns.heatmap(cf_matrix, annot=True, cmap='Blues',fmt='d')\n",
    "\n",
    "ax.set_title('Seaborn Confusion Matrix with labels for test\\n\\n');\n",
    "ax.set_xlabel('\\nPredicted Values')\n",
    "ax.set_ylabel('Actual Values ');\n",
    "\n",
    "## Ticket labels - List must be in alphabetical order\n",
    "ax.xaxis.set_ticklabels(['False','True'])\n",
    "ax.yaxis.set_ticklabels(['False','True'])\n",
    "\n",
    "## Display the visualization of the Confusion Matrix.\n",
    "plt.show()"
   ]
  },
  {
   "cell_type": "code",
   "execution_count": 39,
   "metadata": {},
   "outputs": [
    {
     "name": "stdout",
     "output_type": "stream",
     "text": [
      "price\n",
      "submissions\n",
      "mrs\n",
      "literacy_language\n",
      "grades_prek_2\n",
      "math_science\n",
      "ms\n",
      "grades_3_5\n",
      "literacy\n",
      "mathematics\n",
      "literature_writing\n",
      "health_sports\n",
      "grades_6_8\n",
      "ca\n",
      "health_wellness\n",
      "specialneeds\n",
      "specialneeds\n",
      "appliedlearning\n",
      "grades_9_12\n",
      "mr\n"
     ]
    }
   ],
   "source": [
    "# Either from set 1 (or) set 2, print the names of the top 20 features associated with the positive and negative classes each. (You have to print the names of the features, but not the indexes)\n",
    "# 11. Either for the model in set 1 or in set 2, print the top 20 features(you have to print the names, not the indexes) associated with the positive and negative classes each.\n",
    "positive_log_prob=model.feature_log_prob_[1]\n",
    "negative_log_prob= model.feature_log_prob_[0]\n",
    "positive_index=(np.argsort(positive_log_prob)[::-1])\n",
    "top_features=positive_index[:20]\n",
    "\n",
    "parent_list=[]\n",
    "\n",
    "#x_tr=hstack((x_train_essay_bow, school_states_train, teacher_prefix_train, school_grades_train, main_category_train, sub_category_train,previous_submission_train, price_train)).tocsr()\n",
    "parent_list.extend(tf_vector.get_feature_names())\n",
    "parent_list.extend(state_encoder.get_feature_names())\n",
    "parent_list.extend(prefix_encoder.get_feature_names())\n",
    "parent_list.extend(grade_encoder.get_feature_names())\n",
    "parent_list.extend(category_encoder.get_feature_names())\n",
    "parent_list.extend(sub_category_encoder.get_feature_names())\n",
    "parent_list.append('submissions')\n",
    "parent_list.append('price')\n",
    "#print(len(parent_list))\n",
    "#print(new_x_tr.shape)\n",
    "\n",
    "for x in top_features:\n",
    "    print(parent_list[x])\n"
   ]
  },
  {
   "cell_type": "markdown",
   "metadata": {
    "id": "lS9hIHdib3dp"
   },
   "source": [
    "<h1>3. Summary</h1>\n",
    "\n",
    "<br> as mentioned in the step 5 of instructions"
   ]
  },
  {
   "cell_type": "code",
   "execution_count": 41,
   "metadata": {},
   "outputs": [
    {
     "name": "stdout",
     "output_type": "stream",
     "text": [
      "+------------+-------------+-----------------+--------------------+\n",
      "| Vectorizer |    Model    | Hyper Parameter |        AUC         |\n",
      "+------------+-------------+-----------------+--------------------+\n",
      "|    BOW     | Naive Bayes |    Alpha=5.4    | 0.6901618742125915 |\n",
      "|   TFIDF    | Naive Bayes |    Alpha=4.4    | 0.5964935967288572 |\n",
      "+------------+-------------+-----------------+--------------------+\n"
     ]
    }
   ],
   "source": [
    "#Summarize your assignment work here in a few points, and also compare the final models (from set 1 and set 2), in terms of optimal hyperparameter value 'alpha', training AUC and test AUC scores.\n",
    "# You can either use a pretty table or any other tabular structure.\n",
    "# Reference Link for Pretty table:  https://pypi.org/project/prettytable/\n",
    "from prettytable import PrettyTable\n",
    "x = PrettyTable()\n",
    "x.field_names=['Vectorizer','Model', 'Hyper Parameter','AUC']\n",
    "x.add_row(['BOW','Naive Bayes','Alpha=5.4',auc_bow ])\n",
    "x.add_row(['TFIDF','Naive Bayes','Alpha=4.4',auc_tfidf ])\n",
    "print(x)"
   ]
  },
  {
   "cell_type": "markdown",
   "metadata": {},
   "source": [
    "### Final Observations\n",
    "- BOW approach seems to be more effective, when it comes to applying the Naive Bayes. \n",
    "- Because the AUC Score, of the test data sets after multiple trials of Alpha for TFIDF do not cross more than 0.59 , whereas the BOW approach has a TFIDF score of 0.69, which is a huge marginal difference.\n",
    "- The hyperparameter should be chosen based upon what is important to us. For example in my current dataset, I observed that for the BOW approach with an Alpha of 3, I got a AUC score of 0.70 instead of 0.69, but it was at the cost of positive points being classified as negative points. \n",
    "- Same thing happened when I increased the Alpha value to 6 or 7, the negative points were classified as Positive points. \n",
    "\n",
    "#### Alpha should be selected based upon the Use Case and also the Vectorizer should be selected based on the requirement as all models are not same."
   ]
  }
 ],
 "metadata": {
  "colab": {
   "collapsed_sections": [],
   "name": "6_Assignment_NB_Instructions.ipynb",
   "provenance": []
  },
  "kernelspec": {
   "display_name": "Python 3",
   "language": "python",
   "name": "python3"
  },
  "language_info": {
   "codemirror_mode": {
    "name": "ipython",
    "version": 3
   },
   "file_extension": ".py",
   "mimetype": "text/x-python",
   "name": "python",
   "nbconvert_exporter": "python",
   "pygments_lexer": "ipython3",
   "version": "3.6.5"
  }
 },
 "nbformat": 4,
 "nbformat_minor": 1
}
