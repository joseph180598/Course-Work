{
 "cells": [
  {
   "cell_type": "markdown",
   "metadata": {
    "id": "YeM0ZBWUVtXR"
   },
   "source": [
    "# <font color='red'>SGD Algorithm to predict movie ratings</font>"
   ]
  },
  {
   "cell_type": "markdown",
   "metadata": {
    "id": "M2vyJqSlmmjM"
   },
   "source": [
    "**There will be some functions that start with the word \"grader\" ex: grader_matrix(), grader_mean(), grader_dim() etc, you should not change those function definition.<br><br>Every Grader function has to return True.**"
   ]
  },
  {
   "cell_type": "markdown",
   "metadata": {
    "id": "AL6njTf8WBO0"
   },
   "source": [
    "<pre>\n",
    "1. Download the data from <a href='https://drive.google.com/open?id=1-1z7iDB52cB6_JpO7Dqa-eOYSs-mivpq'> here </a>\n",
    "2. The data will be of this format, each data point is represented as a triplet of user_id, movie_id and rating \n",
    "<table>\n",
    "<tr><th>user_id</th><th>movie_id</th><th>rating</th></tr>\n",
    "<tr><td>77</td><td>236</td><td>3</td></tr>\n",
    "<tr><td>471</td><td>208</td><td>5</td></tr>\n",
    "<tr><td>641</td><td>401</td><td>4</td></tr>\n",
    "<tr><td>31</td><td>298</td><td>4</td></tr>\n",
    "<tr><td>58</td><td>504</td><td>5</td></tr>\n",
    "<tr><td>235</td><td>727</td><td>5</td></tr>\n",
    "</table>"
   ]
  },
  {
   "cell_type": "markdown",
   "metadata": {
    "id": "73dhFsT0WSSB"
   },
   "source": [
    "## <font color='red'>Task 1</font>"
   ]
  },
  {
   "cell_type": "markdown",
   "metadata": {
    "id": "HY0frS6EWaEV"
   },
   "source": [
    "<font color='red'><b>Predict the rating for a given (user_id, movie_id) pair </b> </font>\n"
   ]
  },
  {
   "cell_type": "markdown",
   "metadata": {
    "id": "R-ISYxaVbT8L"
   },
   "source": [
    "Predicted rating $\\hat{y}_{ij}$ for user i, movied j pair is calcuated as $\\hat{y}_{ij} = \\mu + b_i + c_j + u_i^T v_j$ , here we will be finding the best values of $b_{i}$ and $c_{j}$ using SGD algorithm with the optimization problem for N users and M movies is defined as"
   ]
  },
  {
   "cell_type": "markdown",
   "metadata": {
    "id": "8Aj8SXeQWlZd"
   },
   "source": [
    "$$\n",
    "L = \\min_{ b, c, \\{ u_i \\}_{i=1}^N, \\{ v_j \\}_{j=1}^M}\n",
    "\\quad\n",
    "\\alpha \\Big(\n",
    "    \\sum_{j} \\sum_{k} v_{jk}^2 \n",
    "    + \\sum_{i} \\sum_{k} u_{ik}^2 \n",
    "    + \\sum_{i} b_i^2\n",
    "    + \\sum_{j} c_i^2\n",
    "    \\Big)\n",
    "+ \\sum_{i,j \\in \\mathcal{I}^{\\text{train}}}\n",
    "    (y_{ij} - \\mu - b_i - c_j - u_i^T v_j)^2\n",
    "$$"
   ]
  },
  {
   "cell_type": "markdown",
   "metadata": {
    "id": "2Q5bnWyZXrM7"
   },
   "source": [
    "<ul>\n",
    "<li><span class=\"math\">\\(\\mu\\)</span> : scalar mean rating</li>\n",
    "<li><span class=\"math\">\\(b_i\\)</span> : scalar bias term for user <span class=\"math\">\\(i\\)</span></li>\n",
    "<li><span class=\"math\">\\(c_j\\)</span> : scalar bias term for movie <span class=\"math\">\\(j\\)</span></li>\n",
    "<li><span class=\"math\">\\(u_i\\)</span> : K-dimensional vector for user <span class=\"math\">\\(i\\)</span></li>\n",
    "<li><span class=\"math\">\\(v_j\\)</span> : K-dimensional vector for movie <span class=\"math\">\\(j\\)</span></li>\n",
    "</ul>\n",
    "\n",
    " $ \\ $\n"
   ]
  },
  {
   "cell_type": "markdown",
   "metadata": {
    "id": "q1cf4CunbEr4"
   },
   "source": [
    "\n",
    "\n",
    "\n",
    "*.  We will be giving you some functions, please write code in that functions only.\n",
    "\n",
    "*.  After every function, we will be giving you expected output, please make sure that you get that output. \n",
    "\n",
    "\n",
    "\n"
   ]
  },
  {
   "cell_type": "markdown",
   "metadata": {
    "id": "ZWQyB5hfy3u7"
   },
   "source": [
    "1. Construct adjacency matrix with the given data, assuming its graph and the weight of each edge is the rating given by user to the movie\n",
    "\n",
    "<img src='https://i.imgur.com/rmUCGMb.jpg' width=200>\n",
    "\n",
    "   you can construct this matrix like $A[i][j]=r_{ij}$ here $i$ is user_id, $j$ is movie_id and $r_{ij}$ is rating given by user $i$ to the movie $j$\n",
    "\n",
    "   Hint : you can create adjacency matrix using <a href='https://docs.scipy.org/doc/scipy/reference/generated/scipy.sparse.csr_matrix.html'> csr_matrix</a>\n",
    "\n",
    "2. We will Apply SVD decomposition on the Adjaceny matrix <a href='https://stackoverflow.com/a/31528944/4084039'>link1</a>, <a href='https://machinelearningmastery.com/singular-value-decomposition-for-machine-learning/'> link2</a> and get three matrices $U, \\sum, V$ such that $U \\times \\sum \\times V^T = A$, <br> \n",
    "if $A$ is of dimensions $N \\times M$ then <br>\n",
    "U is of $N \\times k$, <br>\n",
    "$\\sum$ is of $k \\times k$ and <br>\n",
    "$V$ is $M \\times k$ dimensions. <br>\n",
    "\n",
    "   *.  So the matrix $U$ can be represented as matrix representation of users, where each row $u_{i}$ represents a k-dimensional vector for a user\n",
    "\n",
    "   *. So the matrix $V$ can be represented as matrix representation of movies, where each row $v_{j}$ represents a k-dimensional vector for a movie.\n",
    "3. Compute $\\mu$ , $\\mu$  represents the mean of all the rating given in the dataset.(write your code in <font color='blue'>def m_u()</font>)\n",
    "4. For each unique user initilize a bias value $B_{i}$ to zero, so if we have $N$ users $B$ will be a $N$ dimensional vector, the $i^{th}$ value of the $B$ will corresponds to the bias term for $i^{th}$ user (write your code in <font color='blue'>def initialize()</font>)\n",
    "\n",
    "5. For each unique movie initilize a bias value $C_{j}$ zero, so if we have $M$ movies $C$ will be a $M$ dimensional vector, the $j^{th}$ value of the $C$ will corresponds to the bias term for $j^{th}$ movie (write your code in <font color='blue'>def initialize()</font>)\n",
    "\n",
    "6. Compute dL/db_i (Write you code in <font color='blue'> def derivative_db()</font>)\n",
    "7. Compute dL/dc_j(write your code in <font color='blue'> def derivative_dc()</font>\n",
    "\n",
    "8. Print the mean squared error with predicted ratings.\n",
    "\n",
    "<pre>\n",
    "for each epoch:\n",
    "    for each pair of (user, movie):\n",
    "        b_i =  b_i - learning_rate * dL/db_i\n",
    "        c_j =  c_j - learning_rate * dL/dc_j\n",
    "predict the ratings with formula\n",
    "</pre>\n",
    "$\\hat{y}_{ij} = \\mu + b_i + c_j + \\text{dot_product}(u_i , v_j) $\n",
    "\n",
    "9. you can choose any learning rate and regularization term in the range $10^{-3}  \\text{ to } 10^2$  <br>\n",
    "  \n",
    "10. __bonus__: instead of using SVD decomposition you can learn the vectors $u_i$, $v_j$ with the help of SGD algo similar to $b_i$ and $c_j$ "
   ]
  },
  {
   "cell_type": "code",
   "execution_count": 1,
   "metadata": {
    "id": "VlPVJoZ8JN4P"
   },
   "outputs": [],
   "source": [
    "import matplotlib.pyplot as plt"
   ]
  },
  {
   "cell_type": "code",
   "execution_count": null,
   "metadata": {
    "id": "Q2XrlYeuJOFq"
   },
   "outputs": [],
   "source": []
  },
  {
   "cell_type": "markdown",
   "metadata": {
    "id": "3-aBnRepA6gy"
   },
   "source": [
    "<br>"
   ]
  },
  {
   "cell_type": "markdown",
   "metadata": {
    "id": "IP_6xMAZA4mE"
   },
   "source": [
    " # <font color='red'>Task 2 </font>"
   ]
  },
  {
   "cell_type": "markdown",
   "metadata": {
    "id": "-9HCN_3WA2au"
   },
   "source": [
    "As we know U is the learned matrix of user vectors, with its i-th row as the vector ui for user i. Each row of U can be seen as a \"feature vector\" for a particular user.\n",
    "\n",
    "The question we'd like to investigate is this: do our computed per-user features that are optimized for predicting movie ratings contain anything to do with gender?\n",
    "\n",
    "The provided data file <a href='https://drive.google.com/open?id=1PHFdJh_4gIPiLH5Q4UErH8GK71hTrzlY'>user_info.csv</a> contains an is_male column indicating which users in the dataset are male. Can you predict this signal given the features U?\n",
    "\n",
    "\n",
    "> __Note 1__ : there is no train test split in the data, the goal of this assignment is to give an intution about how to do matrix factorization with the help of SGD and application of truncated SVD. for better understanding of the collabarative fillerting please check netflix case study. <br><br>\n",
    "> __Note 2__ : Check if scaling of $U$, $V$ matrices improve the metric "
   ]
  },
  {
   "cell_type": "markdown",
   "metadata": {
    "id": "ovFCo1JCBIXM"
   },
   "source": [
    "<br>\n",
    "\n",
    "\n",
    "<br>"
   ]
  },
  {
   "cell_type": "markdown",
   "metadata": {
    "id": "iVJo-3njBQLf"
   },
   "source": [
    "<font color='red'> Reading the csv file </font>"
   ]
  },
  {
   "cell_type": "code",
   "execution_count": 1,
   "metadata": {
    "colab": {
     "base_uri": "https://localhost:8080/",
     "height": 195
    },
    "id": "hEhmfRD637EW",
    "outputId": "07189bd2-eb44-43c7-f225-022cc41d0ee6"
   },
   "outputs": [
    {
     "data": {
      "text/html": [
       "<div>\n",
       "<style scoped>\n",
       "    .dataframe tbody tr th:only-of-type {\n",
       "        vertical-align: middle;\n",
       "    }\n",
       "\n",
       "    .dataframe tbody tr th {\n",
       "        vertical-align: top;\n",
       "    }\n",
       "\n",
       "    .dataframe thead th {\n",
       "        text-align: right;\n",
       "    }\n",
       "</style>\n",
       "<table border=\"1\" class=\"dataframe\">\n",
       "  <thead>\n",
       "    <tr style=\"text-align: right;\">\n",
       "      <th></th>\n",
       "      <th>user_id</th>\n",
       "      <th>item_id</th>\n",
       "      <th>rating</th>\n",
       "    </tr>\n",
       "  </thead>\n",
       "  <tbody>\n",
       "    <tr>\n",
       "      <th>0</th>\n",
       "      <td>772</td>\n",
       "      <td>36</td>\n",
       "      <td>3</td>\n",
       "    </tr>\n",
       "    <tr>\n",
       "      <th>1</th>\n",
       "      <td>471</td>\n",
       "      <td>228</td>\n",
       "      <td>5</td>\n",
       "    </tr>\n",
       "    <tr>\n",
       "      <th>2</th>\n",
       "      <td>641</td>\n",
       "      <td>401</td>\n",
       "      <td>4</td>\n",
       "    </tr>\n",
       "    <tr>\n",
       "      <th>3</th>\n",
       "      <td>312</td>\n",
       "      <td>98</td>\n",
       "      <td>4</td>\n",
       "    </tr>\n",
       "    <tr>\n",
       "      <th>4</th>\n",
       "      <td>58</td>\n",
       "      <td>504</td>\n",
       "      <td>5</td>\n",
       "    </tr>\n",
       "  </tbody>\n",
       "</table>\n",
       "</div>"
      ],
      "text/plain": [
       "   user_id  item_id  rating\n",
       "0      772       36       3\n",
       "1      471      228       5\n",
       "2      641      401       4\n",
       "3      312       98       4\n",
       "4       58      504       5"
      ]
     },
     "execution_count": 1,
     "metadata": {},
     "output_type": "execute_result"
    }
   ],
   "source": [
    "import pandas as pd\n",
    "data=pd.read_csv('ratings_train.csv')\n",
    "data.head()"
   ]
  },
  {
   "cell_type": "code",
   "execution_count": 2,
   "metadata": {
    "colab": {
     "base_uri": "https://localhost:8080/",
     "height": 34
    },
    "id": "66ibGJ74hCde",
    "outputId": "627b068c-baa2-4751-f4d5-03a7c8e8b77b"
   },
   "outputs": [
    {
     "data": {
      "text/plain": [
       "1680"
      ]
     },
     "execution_count": 2,
     "metadata": {},
     "output_type": "execute_result"
    }
   ],
   "source": [
    "data.shape\n",
    "user_column=data['user_id'].tolist()#converting the values to list\n",
    "item_column=data['item_id'].tolist()\n",
    "ratings_columns=data['rating'].tolist()\n",
    "\n",
    "user_id=list(set(user_column))#Getting unique values\n",
    "item_id=list(range(1681))\n",
    "\n",
    "rows=[]\n",
    "columns=[]\n",
    "\n",
    "user_keys=dict(zip(user_id,range(len(user_id))))#converting the unique values with their index to dict\n",
    "item_keys=dict(zip(item_id,range(len(item_id))))\n",
    "\n",
    "for i in range(len(user_column)): \n",
    "    r=user_keys.get(user_column[i])\n",
    "    c=item_keys.get(item_column[i])\n",
    "    rows.append(r)\n",
    "    columns.append(c)\n",
    "max(item_column)"
   ]
  },
  {
   "cell_type": "markdown",
   "metadata": {
    "id": "mvB8SDS_hW03"
   },
   "source": [
    "<font color='red'>Create your adjacency matrix </font>"
   ]
  },
  {
   "cell_type": "code",
   "execution_count": 3,
   "metadata": {
    "id": "t44MNT40hZQW"
   },
   "outputs": [],
   "source": [
    "from scipy.sparse import csr_matrix\n",
    "adjacency_matrix = csr_matrix((ratings_columns,(rows,columns)),shape=(len(user_id),len(item_id)))# write your code of adjacency matrix here"
   ]
  },
  {
   "cell_type": "code",
   "execution_count": 4,
   "metadata": {
    "id": "-mCgC0WbhZTO"
   },
   "outputs": [
    {
     "data": {
      "text/plain": [
       "(943, 1681)"
      ]
     },
     "execution_count": 4,
     "metadata": {},
     "output_type": "execute_result"
    }
   ],
   "source": [
    "adjacency_matrix.shape"
   ]
  },
  {
   "cell_type": "markdown",
   "metadata": {
    "id": "4acJD4ujEtD6"
   },
   "source": [
    "<font color='cyan'>Grader function - 1</font>"
   ]
  },
  {
   "cell_type": "code",
   "execution_count": 5,
   "metadata": {
    "id": "2QuTzFBREsDV"
   },
   "outputs": [
    {
     "data": {
      "text/plain": [
       "True"
      ]
     },
     "execution_count": 5,
     "metadata": {},
     "output_type": "execute_result"
    }
   ],
   "source": [
    "def grader_matrix(matrix):\n",
    "  assert(matrix.shape==(943,1681))\n",
    "  return True\n",
    "grader_matrix(adjacency_matrix)"
   ]
  },
  {
   "cell_type": "markdown",
   "metadata": {
    "id": "U7VwkRNeHpWE"
   },
   "source": [
    "**The unique items in the given csv file are 1662 only . But the id's vary from 0-1681 but they are not continuous and hence \n",
    "you'll get matrix of size 943x1681.**"
   ]
  },
  {
   "cell_type": "markdown",
   "metadata": {
    "id": "gXDf1RCUBsYN"
   },
   "source": [
    "<font color='red'> SVD decompostion</font>"
   ]
  },
  {
   "cell_type": "markdown",
   "metadata": {
    "id": "OJPWI9VwD_ih"
   },
   "source": [
    "Sample code for SVD decompostion"
   ]
  },
  {
   "cell_type": "code",
   "execution_count": 12,
   "metadata": {
    "colab": {
     "base_uri": "https://localhost:8080/",
     "height": 67
    },
    "id": "GATD35bmBszc",
    "outputId": "b3f57c71-7ce6-4796-ab6c-e7af570a864c"
   },
   "outputs": [
    {
     "name": "stdout",
     "output_type": "stream",
     "text": [
      "(20, 5)\n",
      "(5,)\n",
      "(10, 5)\n"
     ]
    }
   ],
   "source": [
    "from sklearn.utils.extmath import randomized_svd\n",
    "import numpy as np \n",
    "matrix = np.random.random((20, 10))\n",
    "U, Sigma, VT = randomized_svd(matrix, n_components=5,n_iter=5, random_state=None)\n",
    "print(U.shape)\n",
    "print(Sigma.shape)\n",
    "print(VT.T.shape)"
   ]
  },
  {
   "cell_type": "markdown",
   "metadata": {
    "id": "ePDgwALQEJoB"
   },
   "source": [
    "<font color='red'>Write your code for SVD decompostion</font>"
   ]
  },
  {
   "cell_type": "code",
   "execution_count": 13,
   "metadata": {
    "id": "ZYnsKBmFEIg3"
   },
   "outputs": [
    {
     "data": {
      "text/plain": [
       "array([ 0.0662257 ,  0.00788852, -0.01253126, -0.08616378,  0.02486984,\n",
       "        0.00666121,  0.08005319, -0.0275548 ,  0.06753962,  0.02080732,\n",
       "       -0.02577014,  0.0268378 , -0.03933923,  0.03945886, -0.01235791,\n",
       "       -0.00148418,  0.08015593,  0.00843042, -0.05871289, -0.04466454])"
      ]
     },
     "execution_count": 13,
     "metadata": {},
     "output_type": "execute_result"
    }
   ],
   "source": [
    "# Please use adjacency_matrix as matrix for SVD decompostion\n",
    "# You can choose n_components as your choice\n",
    "u, sigma, v=randomized_svd(adjacency_matrix, n_components=20, random_state=None)\n",
    "u[item_id[0]]"
   ]
  },
  {
   "cell_type": "markdown",
   "metadata": {
    "id": "83Vh4NoO_JyU"
   },
   "source": [
    "<font color='red'>Compute mean of ratings</font>"
   ]
  },
  {
   "cell_type": "code",
   "execution_count": 15,
   "metadata": {
    "id": "cBHuCn2QSEnl"
   },
   "outputs": [],
   "source": [
    "def m_u(ratings):\n",
    "    '''In this function, we will compute mean for all the ratings'''\n",
    "    # you can use mean() function to do this\n",
    "    # check this (https://pandas.pydata.org/pandas-docs/stable/reference/api/pandas.DataFrame.mean.html) link for more details.\n",
    "    mu=data['rating'].mean()\n",
    "    return mu"
   ]
  },
  {
   "cell_type": "code",
   "execution_count": 16,
   "metadata": {
    "id": "iu1nn-1x3ebp"
   },
   "outputs": [
    {
     "name": "stdout",
     "output_type": "stream",
     "text": [
      "3.529480398257623\n"
     ]
    }
   ],
   "source": [
    "mu=m_u(data['rating'])\n",
    "print(mu)"
   ]
  },
  {
   "cell_type": "markdown",
   "metadata": {
    "id": "76ooYQIdG_tf"
   },
   "source": [
    "<font color='cyan'>Grader function -2 </font>"
   ]
  },
  {
   "cell_type": "code",
   "execution_count": 17,
   "metadata": {
    "id": "TZy1m67oG9r9"
   },
   "outputs": [
    {
     "data": {
      "text/plain": [
       "True"
      ]
     },
     "execution_count": 17,
     "metadata": {},
     "output_type": "execute_result"
    }
   ],
   "source": [
    "def grader_mean(mu):\n",
    "  assert(np.round(mu,3)==3.529)\n",
    "  return True\n",
    "mu=m_u(data['rating'])\n",
    "grader_mean(mu)"
   ]
  },
  {
   "cell_type": "markdown",
   "metadata": {
    "id": "qSvAW1X94g3G"
   },
   "source": [
    "<font color='red'>Initialize $B_{i}$ and $C_{j}$"
   ]
  },
  {
   "cell_type": "markdown",
   "metadata": {
    "id": "qsOl-4xq5aUG"
   },
   "source": [
    "Hint : Number of rows of adjacent matrix corresponds to user dimensions($B_{i}$), number of columns of adjacent matrix corresponds to movie dimensions ($C_{j}$)"
   ]
  },
  {
   "cell_type": "code",
   "execution_count": 18,
   "metadata": {
    "id": "AyEJqPka4lBW"
   },
   "outputs": [],
   "source": [
    "def initialize(dim):\n",
    "    '''In this function, we will initialize bias value 'B' and 'C'.'''\n",
    "    # initalize the value to zeros \n",
    "    # return output as a list of zeros \n",
    "    init=np.zeros(dim)\n",
    "    return init"
   ]
  },
  {
   "cell_type": "code",
   "execution_count": 19,
   "metadata": {
    "id": "Nlae9QAQ43Xz"
   },
   "outputs": [],
   "source": [
    "b=user_id\n",
    "c=item_id\n",
    "\n",
    "dim=len(b) # give the number of dimensions for b_i (Here b_i corresponds to users)\n",
    "b_i=initialize(dim)"
   ]
  },
  {
   "cell_type": "code",
   "execution_count": 20,
   "metadata": {
    "id": "rwuopn4HoEbP"
   },
   "outputs": [],
   "source": [
    "dim= len(c)# give the number of dimensions for c_j (Here c_j corresponds to movies)\n",
    "c_j=initialize(dim)"
   ]
  },
  {
   "cell_type": "markdown",
   "metadata": {
    "id": "nfPJ3_h6JIkI"
   },
   "source": [
    "<font color='cyan'>Grader function -3 </font>"
   ]
  },
  {
   "cell_type": "code",
   "execution_count": 21,
   "metadata": {
    "id": "dQhiNjw0Hz4m"
   },
   "outputs": [
    {
     "data": {
      "text/plain": [
       "True"
      ]
     },
     "execution_count": 21,
     "metadata": {},
     "output_type": "execute_result"
    }
   ],
   "source": [
    "def grader_dim(b_i,c_j):\n",
    "  assert(len(b_i)==943 and np.sum(b_i)==0)\n",
    "  assert(len(c_j)==1681 and np.sum(c_j)==0)\n",
    "  return True\n",
    "grader_dim(b_i,c_j)"
   ]
  },
  {
   "cell_type": "markdown",
   "metadata": {
    "id": "DTDK4ZR18MrZ"
   },
   "source": [
    "<font color='red'>Compute dL/db_i</font>"
   ]
  },
  {
   "cell_type": "code",
   "execution_count": 22,
   "metadata": {
    "id": "3NFzVC1N8S4L"
   },
   "outputs": [],
   "source": [
    "def derivative_db(user_id,item_id,rating,U,V,mu,alpha):\n",
    "    '''In this function, we will compute dL/db_i'''\n",
    "    db=alpha*(2*b_i[user_id])-(2*(rating-mu-b_i[user_id]-c_j[item_id]-U[user_id].dot(V.T[item_id])))\n",
    "    return db\n",
    "\n"
   ]
  },
  {
   "cell_type": "markdown",
   "metadata": {
    "id": "ilISrTeQ0f0v"
   },
   "source": [
    "<font color='cyan'>Grader function -4 </font>"
   ]
  },
  {
   "cell_type": "code",
   "execution_count": 23,
   "metadata": {
    "id": "Wt5ixEVZ043U"
   },
   "outputs": [
    {
     "data": {
      "text/plain": [
       "True"
      ]
     },
     "execution_count": 23,
     "metadata": {},
     "output_type": "execute_result"
    }
   ],
   "source": [
    "def grader_db(value):\n",
    "    assert(np.round(value,3)==-0.931)\n",
    "    return True\n",
    "U1, Sigma, V1 = randomized_svd(adjacency_matrix, n_components=2,n_iter=5, random_state=24)\n",
    "# Please don't change random state\n",
    "# Here we are considering n_componets = 2 for our convinence\n",
    "alpha=0.01 \n",
    "value=derivative_db(312,98,4,U1,V1,mu,alpha)\n",
    "grader_db(value)"
   ]
  },
  {
   "cell_type": "markdown",
   "metadata": {
    "id": "1Kp0hC_b9v60"
   },
   "source": [
    "<font color='red'>Compute dL/dc_j</font>"
   ]
  },
  {
   "cell_type": "code",
   "execution_count": 24,
   "metadata": {
    "id": "FAtSYMrc9UqJ"
   },
   "outputs": [],
   "source": [
    "def derivative_dc(user_id,item_id,rating,U,V,mu, alpha):\n",
    "    '''In this function, we will compute dL/dc_j'''\n",
    "    dc=alpha*(2*c_j[item_id])-(2*(rating-mu-b_i[user_id]-c_j[item_id]-U[user_id].dot(V.T[item_id])))\n",
    "    return dc"
   ]
  },
  {
   "cell_type": "markdown",
   "metadata": {
    "id": "lxkAm8aH1SBF"
   },
   "source": [
    "<font color='cyan'>Grader function - 5 </font>"
   ]
  },
  {
   "cell_type": "code",
   "execution_count": 25,
   "metadata": {
    "id": "RaIN9yie1US8"
   },
   "outputs": [
    {
     "data": {
      "text/plain": [
       "True"
      ]
     },
     "execution_count": 25,
     "metadata": {},
     "output_type": "execute_result"
    }
   ],
   "source": [
    "def grader_dc(value):\n",
    "    assert(np.round(value,3)==-2.929)\n",
    "    return True\n",
    "U1, Sigma, V1 = randomized_svd(adjacency_matrix, n_components=2,n_iter=5, random_state=24)\n",
    "# Please don't change random state\n",
    "# Here we are considering n_componets = 2 for our convinence\n",
    "r=0.01 \n",
    "value=derivative_dc(58,504,5,U1,V1,mu,alpha)\n",
    "grader_dc(value)"
   ]
  },
  {
   "cell_type": "markdown",
   "metadata": {
    "id": "lg5XNbDWCIKI"
   },
   "source": [
    "<font color='red'>Compute MSE (mean squared error) for predicted ratings</font>\n"
   ]
  },
  {
   "cell_type": "markdown",
   "metadata": {
    "id": "7WUjNy0TDQX6"
   },
   "source": [
    "for each epoch, print the MSE value"
   ]
  },
  {
   "cell_type": "markdown",
   "metadata": {
    "id": "D2pCy1AKCafw"
   },
   "source": [
    "<pre>\n",
    "for each epoch:\n",
    "\n",
    "    for each pair of (user, movie):\n",
    "\n",
    "        b_i =  b_i - learning_rate * dL/db_i\n",
    "\n",
    "        c_j =  c_j - learning_rate * dL/dc_j\n",
    "\n",
    "predict the ratings with formula\n",
    "</pre>\n",
    "\n",
    "$\\hat{y}_{ij} = \\mu + b_i + c_j + \\text{dot_product}(u_i , v_j) $"
   ]
  },
  {
   "cell_type": "code",
   "execution_count": 26,
   "metadata": {
    "id": "kiKj-M6d2a-Y"
   },
   "outputs": [
    {
     "name": "stderr",
     "output_type": "stream",
     "text": [
      "  0%|▎                                                                                 | 1/300 [00:01<07:12,  1.45s/it]"
     ]
    },
    {
     "name": "stdout",
     "output_type": "stream",
     "text": [
      "0.4264703028414185 0\n"
     ]
    },
    {
     "name": "stderr",
     "output_type": "stream",
     "text": [
      "\r",
      "  1%|▌                                                                                 | 2/300 [00:03<07:57,  1.60s/it]"
     ]
    },
    {
     "name": "stdout",
     "output_type": "stream",
     "text": [
      "0.41721788804886384 0.4264703028414185\n"
     ]
    },
    {
     "name": "stderr",
     "output_type": "stream",
     "text": [
      "\r",
      "  1%|▊                                                                                 | 3/300 [00:05<08:42,  1.76s/it]"
     ]
    },
    {
     "name": "stdout",
     "output_type": "stream",
     "text": [
      "0.41641983708207386 0.41721788804886384\n"
     ]
    },
    {
     "name": "stderr",
     "output_type": "stream",
     "text": [
      "\r",
      "  1%|█                                                                                 | 4/300 [00:06<08:19,  1.69s/it]"
     ]
    },
    {
     "name": "stdout",
     "output_type": "stream",
     "text": [
      "0.41609333971610946 0.41641983708207386\n"
     ]
    },
    {
     "name": "stderr",
     "output_type": "stream",
     "text": [
      "\r",
      "  2%|█▎                                                                                | 5/300 [00:08<08:08,  1.66s/it]"
     ]
    },
    {
     "name": "stdout",
     "output_type": "stream",
     "text": [
      "0.41592160518701504 0.41609333971610946\n"
     ]
    },
    {
     "name": "stderr",
     "output_type": "stream",
     "text": [
      "\r",
      "  2%|█▋                                                                                | 6/300 [00:09<07:39,  1.56s/it]"
     ]
    },
    {
     "name": "stdout",
     "output_type": "stream",
     "text": [
      "0.415819409226066 0.41592160518701504\n"
     ]
    },
    {
     "name": "stderr",
     "output_type": "stream",
     "text": [
      "\r",
      "  2%|█▉                                                                                | 7/300 [00:11<07:26,  1.52s/it]"
     ]
    },
    {
     "name": "stdout",
     "output_type": "stream",
     "text": [
      "0.4157541832055721 0.415819409226066\n"
     ]
    },
    {
     "name": "stderr",
     "output_type": "stream",
     "text": [
      "\r",
      "  3%|██▏                                                                               | 8/300 [00:12<07:08,  1.47s/it]"
     ]
    },
    {
     "name": "stdout",
     "output_type": "stream",
     "text": [
      "0.4157106853286394 0.4157541832055721\n"
     ]
    },
    {
     "name": "stderr",
     "output_type": "stream",
     "text": [
      "\r",
      "  3%|██▍                                                                               | 9/300 [00:13<07:03,  1.45s/it]"
     ]
    },
    {
     "name": "stdout",
     "output_type": "stream",
     "text": [
      "0.41568078990664037 0.4157106853286394\n"
     ]
    },
    {
     "name": "stderr",
     "output_type": "stream",
     "text": [
      "\r",
      "  3%|██▋                                                                              | 10/300 [00:15<07:04,  1.47s/it]"
     ]
    },
    {
     "name": "stdout",
     "output_type": "stream",
     "text": [
      "0.4156597761019461 0.41568078990664037\n"
     ]
    },
    {
     "name": "stderr",
     "output_type": "stream",
     "text": [
      "\r",
      "  4%|██▉                                                                              | 11/300 [00:16<07:06,  1.48s/it]"
     ]
    },
    {
     "name": "stdout",
     "output_type": "stream",
     "text": [
      "0.41564473678109876 0.4156597761019461\n"
     ]
    },
    {
     "name": "stderr",
     "output_type": "stream",
     "text": [
      "\r",
      "  4%|███▏                                                                             | 12/300 [00:18<07:16,  1.52s/it]"
     ]
    },
    {
     "name": "stdout",
     "output_type": "stream",
     "text": [
      "0.41563380743986605 0.41564473678109876\n"
     ]
    },
    {
     "name": "stderr",
     "output_type": "stream",
     "text": [
      "\r",
      "  4%|███▌                                                                             | 13/300 [00:20<07:26,  1.56s/it]"
     ]
    },
    {
     "name": "stdout",
     "output_type": "stream",
     "text": [
      "0.4156257566180431 0.41563380743986605\n"
     ]
    },
    {
     "name": "stderr",
     "output_type": "stream",
     "text": [
      "\r",
      "  5%|███▊                                                                             | 14/300 [00:21<07:44,  1.62s/it]"
     ]
    },
    {
     "name": "stdout",
     "output_type": "stream",
     "text": [
      "0.41561975275335844 0.4156257566180431\n"
     ]
    },
    {
     "name": "stderr",
     "output_type": "stream",
     "text": [
      "\r",
      "  5%|████                                                                             | 15/300 [00:23<07:31,  1.58s/it]"
     ]
    },
    {
     "name": "stdout",
     "output_type": "stream",
     "text": [
      "0.4156152243766712 0.41561975275335844\n"
     ]
    },
    {
     "name": "stderr",
     "output_type": "stream",
     "text": [
      "\r",
      "  5%|████▎                                                                            | 16/300 [00:24<07:21,  1.55s/it]"
     ]
    },
    {
     "name": "stdout",
     "output_type": "stream",
     "text": [
      "0.41561177294250395 0.4156152243766712\n"
     ]
    },
    {
     "name": "stderr",
     "output_type": "stream",
     "text": [
      "\r",
      "  6%|████▌                                                                            | 17/300 [00:26<07:17,  1.55s/it]"
     ]
    },
    {
     "name": "stdout",
     "output_type": "stream",
     "text": [
      "0.41560911686644536 0.41561177294250395\n"
     ]
    },
    {
     "name": "stderr",
     "output_type": "stream",
     "text": [
      "\r",
      "  6%|████▊                                                                            | 18/300 [00:28<07:23,  1.57s/it]"
     ]
    },
    {
     "name": "stdout",
     "output_type": "stream",
     "text": [
      "0.41560705479586313 0.41560911686644536\n"
     ]
    },
    {
     "name": "stderr",
     "output_type": "stream",
     "text": [
      "\r",
      "  6%|█████▏                                                                           | 19/300 [00:29<07:21,  1.57s/it]"
     ]
    },
    {
     "name": "stdout",
     "output_type": "stream",
     "text": [
      "0.4156054410898522 0.41560705479586313\n"
     ]
    },
    {
     "name": "stderr",
     "output_type": "stream",
     "text": [
      "\r",
      "  7%|█████▍                                                                           | 20/300 [00:31<07:07,  1.53s/it]"
     ]
    },
    {
     "name": "stdout",
     "output_type": "stream",
     "text": [
      "0.4156041692257095 0.4156054410898522\n"
     ]
    },
    {
     "name": "stderr",
     "output_type": "stream",
     "text": [
      "\r",
      "  7%|█████▋                                                                           | 21/300 [00:32<06:56,  1.49s/it]"
     ]
    },
    {
     "name": "stdout",
     "output_type": "stream",
     "text": [
      "0.41560316044031154 0.4156041692257095\n"
     ]
    },
    {
     "name": "stderr",
     "output_type": "stream",
     "text": [
      "\r",
      "  7%|█████▉                                                                           | 22/300 [00:33<06:55,  1.49s/it]"
     ]
    },
    {
     "name": "stdout",
     "output_type": "stream",
     "text": [
      "0.4156023558755693 0.41560316044031154\n"
     ]
    },
    {
     "name": "stderr",
     "output_type": "stream",
     "text": [
      "\r",
      "  7%|█████▉                                                                           | 22/300 [00:35<07:26,  1.61s/it]"
     ]
    },
    {
     "name": "stdout",
     "output_type": "stream",
     "text": [
      "0.41560171109510463 0.4156023558755693\n"
     ]
    },
    {
     "name": "stderr",
     "output_type": "stream",
     "text": [
      "\n"
     ]
    }
   ],
   "source": [
    "from tqdm import tqdm\n",
    "dim= len(c)\n",
    "c_j=initialize(dim)\n",
    "\n",
    "dim=len(b) # give the number of dimensions for b_i (Here b_i corresponds to users)\n",
    "b_i=initialize(dim)\n",
    "\n",
    "def SGD(b_i,c_j,learning_rate,mu,u,v,epochs,alpha):\n",
    "    total_mse=[0]\n",
    "    mse=np.zeros(len(user_column))\n",
    "    for i in tqdm(range(epochs)):\n",
    "        error_p=total_mse[-1]\n",
    "        for j in range(len(user_column)):\n",
    "            b_i[user_column[j]]=b_i[user_column[j]]-learning_rate*derivative_db(user_column[j],item_column[j],ratings_columns[j],u,v,mu,alpha)\n",
    "            c_j[item_column[j]]=c_j[item_column[j]]-learning_rate*derivative_dc(user_column[j],item_column[j],ratings_columns[j],u,v,mu,alpha)\n",
    "            mse[j]=(ratings_columns[j]-(mu+b_i[user_column[j]]+c_j[item_column[j]]+u[user_column[j]].dot(v.T[item_column[j]])))**2        \n",
    "        total_mse.append(sum(mse)/len(mse))\n",
    "        error_n=sum(mse)/len(mse)\n",
    "        print(error_n,error_p)\n",
    "        if round(error_n,6)==round(error_p,6):\n",
    "            break;\n",
    "        else:\n",
    "            continue;  \n",
    "    return b_i,c_j,total_mse\n",
    "b_new,c_new,errors=SGD(b_i,c_j,0.1,mu,u,v,300,0.1)"
   ]
  },
  {
   "cell_type": "code",
   "execution_count": null,
   "metadata": {},
   "outputs": [],
   "source": []
  },
  {
   "cell_type": "code",
   "execution_count": null,
   "metadata": {},
   "outputs": [],
   "source": []
  },
  {
   "cell_type": "markdown",
   "metadata": {
    "id": "hTXYZFFUVSg5"
   },
   "source": [
    "<font color='red'>Plot epoch number vs MSE </font>\n",
    "\n",
    "* epoch number on X-axis\n",
    "* MSE on Y-axis"
   ]
  },
  {
   "cell_type": "code",
   "execution_count": 29,
   "metadata": {
    "id": "igkkO3EvVRt6"
   },
   "outputs": [
    {
     "data": {
      "image/png": "[encoded data removed]",
      "text/plain": [
       "<Figure size 720x576 with 1 Axes>"
      ]
     },
     "metadata": {
      "needs_background": "light"
     },
     "output_type": "display_data"
    }
   ],
   "source": [
    "import matplotlib.pyplot as plt\n",
    "errors[1:]\n",
    "ep=range(len(errors[1:]))\n",
    "plt.figure(figsize=(10,8))\n",
    "\n",
    "plt.grid()\n",
    "plt.xlabel('Epochs')\n",
    "plt.ylabel('MSE Error')\n",
    "plt.title('MSE vs Epochs')\n",
    "plt.plot(ep,errors[1:])\n",
    "plt.show()"
   ]
  },
  {
   "cell_type": "markdown",
   "metadata": {
    "id": "NeWAGkT6C9kq"
   },
   "source": [
    "<br>"
   ]
  },
  {
   "cell_type": "markdown",
   "metadata": {
    "id": "lkIQOOo1C9o7"
   },
   "source": [
    "# <font color='red'> Task 2</font>"
   ]
  },
  {
   "cell_type": "markdown",
   "metadata": {
    "id": "9kl4Ryi_7E_T"
   },
   "source": [
    "- For this task you have to consider the user_matrix U and the user_info.csv file.\n",
    "- You have to consider is_male columns as  output features and rest as input features. Now you have to fit a model by posing this problem as binary classification task.\n",
    "- You can apply any model like Logistic regression or Decision tree and check the performance of the model. \n",
    "- Do plot confusion matrix after fitting your model and write your observations how your model is performing in this task.\n",
    "\n",
    "- Optional work- You can try scaling your U matrix.Scaling means changing the values of n_componenets while performing svd\n",
    "  and then check your results."
   ]
  },
  {
   "cell_type": "code",
   "execution_count": 30,
   "metadata": {},
   "outputs": [],
   "source": [
    "from sklearn.model_selection import train_test_split\n",
    "from sklearn.neighbors import KNeighborsClassifier\n",
    "import random\n",
    "from sklearn.model_selection import RandomizedSearchCV\n",
    "from sklearn.metrics import log_loss\n",
    "from sklearn.preprocessing import StandardScaler"
   ]
  },
  {
   "cell_type": "code",
   "execution_count": 31,
   "metadata": {
    "id": "c1FTc39gDdti"
   },
   "outputs": [
    {
     "data": {
      "text/html": [
       "<div>\n",
       "<style scoped>\n",
       "    .dataframe tbody tr th:only-of-type {\n",
       "        vertical-align: middle;\n",
       "    }\n",
       "\n",
       "    .dataframe tbody tr th {\n",
       "        vertical-align: top;\n",
       "    }\n",
       "\n",
       "    .dataframe thead th {\n",
       "        text-align: right;\n",
       "    }\n",
       "</style>\n",
       "<table border=\"1\" class=\"dataframe\">\n",
       "  <thead>\n",
       "    <tr style=\"text-align: right;\">\n",
       "      <th></th>\n",
       "      <th>user_id</th>\n",
       "      <th>age</th>\n",
       "      <th>is_male</th>\n",
       "      <th>orig_user_id</th>\n",
       "    </tr>\n",
       "  </thead>\n",
       "  <tbody>\n",
       "    <tr>\n",
       "      <th>0</th>\n",
       "      <td>0</td>\n",
       "      <td>24</td>\n",
       "      <td>1</td>\n",
       "      <td>1</td>\n",
       "    </tr>\n",
       "    <tr>\n",
       "      <th>1</th>\n",
       "      <td>1</td>\n",
       "      <td>53</td>\n",
       "      <td>0</td>\n",
       "      <td>2</td>\n",
       "    </tr>\n",
       "    <tr>\n",
       "      <th>2</th>\n",
       "      <td>2</td>\n",
       "      <td>23</td>\n",
       "      <td>1</td>\n",
       "      <td>3</td>\n",
       "    </tr>\n",
       "    <tr>\n",
       "      <th>3</th>\n",
       "      <td>3</td>\n",
       "      <td>24</td>\n",
       "      <td>1</td>\n",
       "      <td>4</td>\n",
       "    </tr>\n",
       "    <tr>\n",
       "      <th>4</th>\n",
       "      <td>4</td>\n",
       "      <td>33</td>\n",
       "      <td>0</td>\n",
       "      <td>5</td>\n",
       "    </tr>\n",
       "  </tbody>\n",
       "</table>\n",
       "</div>"
      ],
      "text/plain": [
       "   user_id  age  is_male  orig_user_id\n",
       "0        0   24        1             1\n",
       "1        1   53        0             2\n",
       "2        2   23        1             3\n",
       "3        3   24        1             4\n",
       "4        4   33        0             5"
      ]
     },
     "execution_count": 31,
     "metadata": {},
     "output_type": "execute_result"
    }
   ],
   "source": [
    "data2=pd.read_csv('user_info.csv.txt')\n",
    "data2.head()"
   ]
  },
  {
   "cell_type": "code",
   "execution_count": 32,
   "metadata": {},
   "outputs": [],
   "source": [
    "user_info=data2.copy()\n",
    "np.all(data2['user_id']==(data2['orig_user_id']-1))#userId & orig_user_id are just 1 number diff, user_id is index & orig_user_id is actual user_id\n",
    "#Dropping user_id\n",
    "user_info.drop('user_id',inplace=True,axis=1)"
   ]
  },
  {
   "cell_type": "markdown",
   "metadata": {},
   "source": [
    "#### Note: \n",
    "- As a part of this assignment, I have already tried scaling the \"Age\" using the StandardScaler, but it is affecting all the models negatively and decreasing the performance by 10-15% hence I have removed that step and am using the data without Standarizing the Data."
   ]
  },
  {
   "cell_type": "code",
   "execution_count": 33,
   "metadata": {
    "id": "s7e_3BBsHpWO"
   },
   "outputs": [],
   "source": [
    "y_i=data2['is_male']\n",
    "user_info.drop('is_male',inplace=True,axis=1)"
   ]
  },
  {
   "cell_type": "code",
   "execution_count": 35,
   "metadata": {
    "id": "M3K5ZHmSHpWO"
   },
   "outputs": [],
   "source": [
    "u=pd.DataFrame(u)\n",
    "x_i=u.join(user_info)"
   ]
  },
  {
   "cell_type": "code",
   "execution_count": 37,
   "metadata": {},
   "outputs": [
    {
     "data": {
      "text/html": [
       "<div>\n",
       "<style scoped>\n",
       "    .dataframe tbody tr th:only-of-type {\n",
       "        vertical-align: middle;\n",
       "    }\n",
       "\n",
       "    .dataframe tbody tr th {\n",
       "        vertical-align: top;\n",
       "    }\n",
       "\n",
       "    .dataframe thead th {\n",
       "        text-align: right;\n",
       "    }\n",
       "</style>\n",
       "<table border=\"1\" class=\"dataframe\">\n",
       "  <thead>\n",
       "    <tr style=\"text-align: right;\">\n",
       "      <th></th>\n",
       "      <th>0</th>\n",
       "      <th>1</th>\n",
       "      <th>2</th>\n",
       "      <th>3</th>\n",
       "      <th>4</th>\n",
       "      <th>5</th>\n",
       "      <th>6</th>\n",
       "      <th>7</th>\n",
       "      <th>8</th>\n",
       "      <th>9</th>\n",
       "      <th>...</th>\n",
       "      <th>12</th>\n",
       "      <th>13</th>\n",
       "      <th>14</th>\n",
       "      <th>15</th>\n",
       "      <th>16</th>\n",
       "      <th>17</th>\n",
       "      <th>18</th>\n",
       "      <th>19</th>\n",
       "      <th>age</th>\n",
       "      <th>orig_user_id</th>\n",
       "    </tr>\n",
       "  </thead>\n",
       "  <tbody>\n",
       "    <tr>\n",
       "      <th>0</th>\n",
       "      <td>0.066226</td>\n",
       "      <td>0.007889</td>\n",
       "      <td>-0.012531</td>\n",
       "      <td>-0.086164</td>\n",
       "      <td>0.024870</td>\n",
       "      <td>0.006661</td>\n",
       "      <td>0.080053</td>\n",
       "      <td>-0.027555</td>\n",
       "      <td>0.067540</td>\n",
       "      <td>0.020807</td>\n",
       "      <td>...</td>\n",
       "      <td>-0.039339</td>\n",
       "      <td>0.039459</td>\n",
       "      <td>-0.012358</td>\n",
       "      <td>-0.001484</td>\n",
       "      <td>0.080156</td>\n",
       "      <td>0.008430</td>\n",
       "      <td>-0.058713</td>\n",
       "      <td>-0.044665</td>\n",
       "      <td>24</td>\n",
       "      <td>1</td>\n",
       "    </tr>\n",
       "    <tr>\n",
       "      <th>1</th>\n",
       "      <td>0.013644</td>\n",
       "      <td>-0.048895</td>\n",
       "      <td>0.056554</td>\n",
       "      <td>0.015809</td>\n",
       "      <td>-0.012036</td>\n",
       "      <td>0.017731</td>\n",
       "      <td>0.010710</td>\n",
       "      <td>-0.010213</td>\n",
       "      <td>0.028409</td>\n",
       "      <td>-0.009254</td>\n",
       "      <td>...</td>\n",
       "      <td>-0.010661</td>\n",
       "      <td>0.056691</td>\n",
       "      <td>0.006961</td>\n",
       "      <td>-0.027531</td>\n",
       "      <td>-0.007593</td>\n",
       "      <td>-0.019707</td>\n",
       "      <td>0.004460</td>\n",
       "      <td>0.020435</td>\n",
       "      <td>53</td>\n",
       "      <td>2</td>\n",
       "    </tr>\n",
       "    <tr>\n",
       "      <th>2</th>\n",
       "      <td>0.005438</td>\n",
       "      <td>-0.025128</td>\n",
       "      <td>0.020028</td>\n",
       "      <td>0.032832</td>\n",
       "      <td>0.035080</td>\n",
       "      <td>0.001920</td>\n",
       "      <td>0.007693</td>\n",
       "      <td>-0.000991</td>\n",
       "      <td>-0.021199</td>\n",
       "      <td>-0.003144</td>\n",
       "      <td>...</td>\n",
       "      <td>0.001814</td>\n",
       "      <td>-0.020496</td>\n",
       "      <td>-0.002303</td>\n",
       "      <td>0.010674</td>\n",
       "      <td>0.014585</td>\n",
       "      <td>0.010133</td>\n",
       "      <td>-0.014253</td>\n",
       "      <td>0.001119</td>\n",
       "      <td>23</td>\n",
       "      <td>3</td>\n",
       "    </tr>\n",
       "    <tr>\n",
       "      <th>3</th>\n",
       "      <td>0.005704</td>\n",
       "      <td>-0.018211</td>\n",
       "      <td>0.010898</td>\n",
       "      <td>0.021867</td>\n",
       "      <td>0.013920</td>\n",
       "      <td>-0.014180</td>\n",
       "      <td>0.012247</td>\n",
       "      <td>-0.009111</td>\n",
       "      <td>-0.012803</td>\n",
       "      <td>0.006219</td>\n",
       "      <td>...</td>\n",
       "      <td>-0.001826</td>\n",
       "      <td>-0.038163</td>\n",
       "      <td>0.000680</td>\n",
       "      <td>0.008625</td>\n",
       "      <td>0.019835</td>\n",
       "      <td>0.017819</td>\n",
       "      <td>0.004153</td>\n",
       "      <td>-0.016454</td>\n",
       "      <td>24</td>\n",
       "      <td>4</td>\n",
       "    </tr>\n",
       "    <tr>\n",
       "      <th>4</th>\n",
       "      <td>0.034122</td>\n",
       "      <td>0.009005</td>\n",
       "      <td>-0.044054</td>\n",
       "      <td>-0.016049</td>\n",
       "      <td>0.004326</td>\n",
       "      <td>-0.021502</td>\n",
       "      <td>0.095577</td>\n",
       "      <td>0.079507</td>\n",
       "      <td>-0.017223</td>\n",
       "      <td>0.029439</td>\n",
       "      <td>...</td>\n",
       "      <td>0.006262</td>\n",
       "      <td>0.045319</td>\n",
       "      <td>-0.001358</td>\n",
       "      <td>-0.003535</td>\n",
       "      <td>-0.004075</td>\n",
       "      <td>0.017245</td>\n",
       "      <td>0.046645</td>\n",
       "      <td>0.013403</td>\n",
       "      <td>33</td>\n",
       "      <td>5</td>\n",
       "    </tr>\n",
       "    <tr>\n",
       "      <th>...</th>\n",
       "      <td>...</td>\n",
       "      <td>...</td>\n",
       "      <td>...</td>\n",
       "      <td>...</td>\n",
       "      <td>...</td>\n",
       "      <td>...</td>\n",
       "      <td>...</td>\n",
       "      <td>...</td>\n",
       "      <td>...</td>\n",
       "      <td>...</td>\n",
       "      <td>...</td>\n",
       "      <td>...</td>\n",
       "      <td>...</td>\n",
       "      <td>...</td>\n",
       "      <td>...</td>\n",
       "      <td>...</td>\n",
       "      <td>...</td>\n",
       "      <td>...</td>\n",
       "      <td>...</td>\n",
       "      <td>...</td>\n",
       "      <td>...</td>\n",
       "    </tr>\n",
       "    <tr>\n",
       "      <th>938</th>\n",
       "      <td>0.010350</td>\n",
       "      <td>-0.038006</td>\n",
       "      <td>0.006501</td>\n",
       "      <td>-0.013989</td>\n",
       "      <td>-0.051223</td>\n",
       "      <td>-0.001716</td>\n",
       "      <td>-0.037132</td>\n",
       "      <td>0.010864</td>\n",
       "      <td>0.010747</td>\n",
       "      <td>0.001938</td>\n",
       "      <td>...</td>\n",
       "      <td>-0.013761</td>\n",
       "      <td>0.012981</td>\n",
       "      <td>-0.010582</td>\n",
       "      <td>0.023759</td>\n",
       "      <td>0.015418</td>\n",
       "      <td>-0.007614</td>\n",
       "      <td>0.045122</td>\n",
       "      <td>0.003420</td>\n",
       "      <td>26</td>\n",
       "      <td>939</td>\n",
       "    </tr>\n",
       "    <tr>\n",
       "      <th>939</th>\n",
       "      <td>0.031624</td>\n",
       "      <td>-0.007730</td>\n",
       "      <td>0.032983</td>\n",
       "      <td>0.013862</td>\n",
       "      <td>0.023619</td>\n",
       "      <td>-0.008443</td>\n",
       "      <td>0.054686</td>\n",
       "      <td>-0.031112</td>\n",
       "      <td>-0.015173</td>\n",
       "      <td>-0.000209</td>\n",
       "      <td>...</td>\n",
       "      <td>0.049640</td>\n",
       "      <td>0.053608</td>\n",
       "      <td>-0.038842</td>\n",
       "      <td>-0.013575</td>\n",
       "      <td>-0.056580</td>\n",
       "      <td>-0.031155</td>\n",
       "      <td>0.033367</td>\n",
       "      <td>0.002537</td>\n",
       "      <td>32</td>\n",
       "      <td>940</td>\n",
       "    </tr>\n",
       "    <tr>\n",
       "      <th>940</th>\n",
       "      <td>0.007389</td>\n",
       "      <td>-0.025974</td>\n",
       "      <td>0.006343</td>\n",
       "      <td>-0.017067</td>\n",
       "      <td>-0.007397</td>\n",
       "      <td>-0.020780</td>\n",
       "      <td>0.015461</td>\n",
       "      <td>0.015037</td>\n",
       "      <td>0.001014</td>\n",
       "      <td>-0.004792</td>\n",
       "      <td>...</td>\n",
       "      <td>-0.003466</td>\n",
       "      <td>-0.018619</td>\n",
       "      <td>-0.000224</td>\n",
       "      <td>-0.020426</td>\n",
       "      <td>-0.000281</td>\n",
       "      <td>0.045997</td>\n",
       "      <td>0.027063</td>\n",
       "      <td>-0.024218</td>\n",
       "      <td>20</td>\n",
       "      <td>941</td>\n",
       "    </tr>\n",
       "    <tr>\n",
       "      <th>941</th>\n",
       "      <td>0.024999</td>\n",
       "      <td>0.004478</td>\n",
       "      <td>0.026056</td>\n",
       "      <td>0.077343</td>\n",
       "      <td>-0.000767</td>\n",
       "      <td>-0.038297</td>\n",
       "      <td>-0.010410</td>\n",
       "      <td>-0.016334</td>\n",
       "      <td>-0.011224</td>\n",
       "      <td>-0.031690</td>\n",
       "      <td>...</td>\n",
       "      <td>0.029499</td>\n",
       "      <td>0.029094</td>\n",
       "      <td>0.028927</td>\n",
       "      <td>0.017472</td>\n",
       "      <td>-0.005171</td>\n",
       "      <td>0.027845</td>\n",
       "      <td>0.016130</td>\n",
       "      <td>0.003922</td>\n",
       "      <td>48</td>\n",
       "      <td>942</td>\n",
       "    </tr>\n",
       "    <tr>\n",
       "      <th>942</th>\n",
       "      <td>0.043373</td>\n",
       "      <td>-0.002815</td>\n",
       "      <td>-0.060778</td>\n",
       "      <td>-0.031584</td>\n",
       "      <td>0.039834</td>\n",
       "      <td>0.006369</td>\n",
       "      <td>-0.040943</td>\n",
       "      <td>-0.069167</td>\n",
       "      <td>0.005900</td>\n",
       "      <td>-0.044377</td>\n",
       "      <td>...</td>\n",
       "      <td>0.003370</td>\n",
       "      <td>-0.053654</td>\n",
       "      <td>0.039597</td>\n",
       "      <td>-0.031243</td>\n",
       "      <td>-0.011659</td>\n",
       "      <td>-0.007360</td>\n",
       "      <td>0.001796</td>\n",
       "      <td>0.042785</td>\n",
       "      <td>22</td>\n",
       "      <td>943</td>\n",
       "    </tr>\n",
       "  </tbody>\n",
       "</table>\n",
       "<p>943 rows × 22 columns</p>\n",
       "</div>"
      ],
      "text/plain": [
       "            0         1         2         3         4         5         6  \\\n",
       "0    0.066226  0.007889 -0.012531 -0.086164  0.024870  0.006661  0.080053   \n",
       "1    0.013644 -0.048895  0.056554  0.015809 -0.012036  0.017731  0.010710   \n",
       "2    0.005438 -0.025128  0.020028  0.032832  0.035080  0.001920  0.007693   \n",
       "3    0.005704 -0.018211  0.010898  0.021867  0.013920 -0.014180  0.012247   \n",
       "4    0.034122  0.009005 -0.044054 -0.016049  0.004326 -0.021502  0.095577   \n",
       "..        ...       ...       ...       ...       ...       ...       ...   \n",
       "938  0.010350 -0.038006  0.006501 -0.013989 -0.051223 -0.001716 -0.037132   \n",
       "939  0.031624 -0.007730  0.032983  0.013862  0.023619 -0.008443  0.054686   \n",
       "940  0.007389 -0.025974  0.006343 -0.017067 -0.007397 -0.020780  0.015461   \n",
       "941  0.024999  0.004478  0.026056  0.077343 -0.000767 -0.038297 -0.010410   \n",
       "942  0.043373 -0.002815 -0.060778 -0.031584  0.039834  0.006369 -0.040943   \n",
       "\n",
       "            7         8         9  ...        12        13        14  \\\n",
       "0   -0.027555  0.067540  0.020807  ... -0.039339  0.039459 -0.012358   \n",
       "1   -0.010213  0.028409 -0.009254  ... -0.010661  0.056691  0.006961   \n",
       "2   -0.000991 -0.021199 -0.003144  ...  0.001814 -0.020496 -0.002303   \n",
       "3   -0.009111 -0.012803  0.006219  ... -0.001826 -0.038163  0.000680   \n",
       "4    0.079507 -0.017223  0.029439  ...  0.006262  0.045319 -0.001358   \n",
       "..        ...       ...       ...  ...       ...       ...       ...   \n",
       "938  0.010864  0.010747  0.001938  ... -0.013761  0.012981 -0.010582   \n",
       "939 -0.031112 -0.015173 -0.000209  ...  0.049640  0.053608 -0.038842   \n",
       "940  0.015037  0.001014 -0.004792  ... -0.003466 -0.018619 -0.000224   \n",
       "941 -0.016334 -0.011224 -0.031690  ...  0.029499  0.029094  0.028927   \n",
       "942 -0.069167  0.005900 -0.044377  ...  0.003370 -0.053654  0.039597   \n",
       "\n",
       "           15        16        17        18        19  age  orig_user_id  \n",
       "0   -0.001484  0.080156  0.008430 -0.058713 -0.044665   24             1  \n",
       "1   -0.027531 -0.007593 -0.019707  0.004460  0.020435   53             2  \n",
       "2    0.010674  0.014585  0.010133 -0.014253  0.001119   23             3  \n",
       "3    0.008625  0.019835  0.017819  0.004153 -0.016454   24             4  \n",
       "4   -0.003535 -0.004075  0.017245  0.046645  0.013403   33             5  \n",
       "..        ...       ...       ...       ...       ...  ...           ...  \n",
       "938  0.023759  0.015418 -0.007614  0.045122  0.003420   26           939  \n",
       "939 -0.013575 -0.056580 -0.031155  0.033367  0.002537   32           940  \n",
       "940 -0.020426 -0.000281  0.045997  0.027063 -0.024218   20           941  \n",
       "941  0.017472 -0.005171  0.027845  0.016130  0.003922   48           942  \n",
       "942 -0.031243 -0.011659 -0.007360  0.001796  0.042785   22           943  \n",
       "\n",
       "[943 rows x 22 columns]"
      ]
     },
     "execution_count": 37,
     "metadata": {},
     "output_type": "execute_result"
    }
   ],
   "source": [
    "x_i"
   ]
  },
  {
   "cell_type": "code",
   "execution_count": 27,
   "metadata": {},
   "outputs": [],
   "source": [
    "x_train,x_test,y_train,y_test=train_test_split(x_i,y_i, test_size=0.2)"
   ]
  },
  {
   "cell_type": "markdown",
   "metadata": {},
   "source": [
    "## KNN Model"
   ]
  },
  {
   "cell_type": "code",
   "execution_count": 28,
   "metadata": {},
   "outputs": [
    {
     "data": {
      "text/plain": [
       "GridSearchCV(cv=3, estimator=KNeighborsClassifier(), n_jobs=-1,\n",
       "             param_grid={'n_neighbors': [1, 4, 5, 9, 17, 20, 26, 31, 35, 41, 46,\n",
       "                                         53, 54, 59, 61, 62, 66, 73, 83, 95]},\n",
       "             scoring='roc_auc')"
      ]
     },
     "execution_count": 28,
     "metadata": {},
     "output_type": "execute_result"
    }
   ],
   "source": [
    "from sklearn.metrics import accuracy_score\n",
    "from sklearn.model_selection import GridSearchCV\n",
    " \n",
    "#Using KNN\n",
    "random.seed(10)\n",
    "k=sorted(random.sample(list(range(100)),20))\n",
    "param1={'n_neighbors':k}\n",
    "model1=KNeighborsClassifier()\n",
    "cv1=GridSearchCV(model1,param1,n_jobs=-1,scoring='roc_auc',cv=3)\n",
    "cv1.fit(x_train,y_train)"
   ]
  },
  {
   "cell_type": "code",
   "execution_count": 29,
   "metadata": {},
   "outputs": [],
   "source": [
    "knn_param=cv1.best_params_"
   ]
  },
  {
   "cell_type": "code",
   "execution_count": 30,
   "metadata": {},
   "outputs": [
    {
     "name": "stdout",
     "output_type": "stream",
     "text": [
      "Accuracy for KNN is 13.340551639791258\n",
      "Acuracy for KNN is 0.6137566137566137\n"
     ]
    }
   ],
   "source": [
    "model1=KNeighborsClassifier(n_neighbors=knn_param.get('n_neighbors'),weights='uniform')\n",
    "model1.fit(x_train,y_train)\n",
    "y_pred1=model1.predict_proba(x_test)[:,1]\n",
    "l_loss_model1=log_loss(y_test,y_pred1)\n",
    "print('Loss for KNN is',l_loss_model1)\n",
    "y_p1=model1.predict(x_test)\n",
    "print('Acuracy for KNN is',accuracy_score(y_test,y_p1))"
   ]
  },
  {
   "cell_type": "code",
   "execution_count": 31,
   "metadata": {},
   "outputs": [
    {
     "data": {
      "image/png": "[encoded data removed]",
      "text/plain": [
       "<Figure size 432x288 with 2 Axes>"
      ]
     },
     "metadata": {},
     "output_type": "display_data"
    }
   ],
   "source": [
    "import seaborn as sns\n",
    "from sklearn.metrics import confusion_matrix\n",
    "\n",
    "cf_matrix=confusion_matrix(y_test,y_p1)\n",
    "ax = sns.heatmap(cf_matrix, annot=True, cmap='Blues',fmt='d')\n",
    "\n",
    "ax.set_title('Seaborn Confusion Matrix with labels for test\\n\\n');\n",
    "ax.set_xlabel('\\nPredicted Values')\n",
    "ax.set_ylabel('Actual Values ');\n",
    "\n",
    "## Ticket labels - List must be in alphabetical order\n",
    "ax.xaxis.set_ticklabels(['False','True'])\n",
    "ax.yaxis.set_ticklabels(['False','True'])\n",
    "\n",
    "## Display the visualization of the Confusion Matrix.\n",
    "plt.show()"
   ]
  },
  {
   "cell_type": "markdown",
   "metadata": {},
   "source": [
    "## Logistic Regression"
   ]
  },
  {
   "cell_type": "code",
   "execution_count": 32,
   "metadata": {},
   "outputs": [
    {
     "data": {
      "text/plain": [
       "GridSearchCV(cv=4,\n",
       "             estimator=LogisticRegression(class_weight='balances', n_jobs=-1,\n",
       "                                          random_state=0),\n",
       "             n_jobs=-1, param_grid={'C': [0.001, 0.01, 0.1, 1, 10, 100]},\n",
       "             return_train_score=True, scoring='roc_auc')"
      ]
     },
     "execution_count": 32,
     "metadata": {},
     "output_type": "execute_result"
    }
   ],
   "source": [
    "from sklearn.linear_model import LogisticRegression\n",
    "from sklearn.model_selection import GridSearchCV\n",
    "c=[0.001,0.01,0.1,1,10,100]\n",
    "params={'C':c}\n",
    "model2=LogisticRegression(penalty='l2',class_weight='balances',random_state=0,n_jobs=-1)\n",
    "cv2=GridSearchCV(model2,params,n_jobs=-1,scoring='roc_auc',return_train_score=True,cv=4)\n",
    "cv2.fit(x_train,y_train)"
   ]
  },
  {
   "cell_type": "code",
   "execution_count": 33,
   "metadata": {},
   "outputs": [],
   "source": [
    "lr_params=cv2.best_params_"
   ]
  },
  {
   "cell_type": "code",
   "execution_count": 34,
   "metadata": {},
   "outputs": [],
   "source": [
    "model2=LogisticRegression(C=lr_params.get('C'),penalty='l2',class_weight='balances',random_state=0,n_jobs=-1)\n",
    "model2.fit(x_train,y_train)\n",
    "\n",
    "y_pred2=model2.predict_proba(x_test)[:,1]"
   ]
  },
  {
   "cell_type": "code",
   "execution_count": 35,
   "metadata": {},
   "outputs": [
    {
     "name": "stdout",
     "output_type": "stream",
     "text": [
      "log_loss for Logistic Regression is 0.5385790927961815\n",
      "Accuracy for Logistic Regression is 0.7195767195767195\n"
     ]
    }
   ],
   "source": [
    "l_loss_model2=log_loss(y_test,y_pred2)\n",
    "print('log_loss for Logistic Regression is',l_loss_model2)\n",
    "y_p2=model2.predict(x_test)\n",
    "print('Accuracy for Logistic Regression is',accuracy_score(y_test,y_p2))"
   ]
  },
  {
   "cell_type": "code",
   "execution_count": 36,
   "metadata": {},
   "outputs": [
    {
     "data": {
      "image/png": "[encoded data removed]",
      "text/plain": [
       "<Figure size 432x288 with 2 Axes>"
      ]
     },
     "metadata": {},
     "output_type": "display_data"
    }
   ],
   "source": [
    "import seaborn as sns\n",
    "from sklearn.metrics import confusion_matrix\n",
    "\n",
    "cf_matrix=confusion_matrix(y_test,y_p2)\n",
    "ax = sns.heatmap(cf_matrix, annot=True, cmap='Blues',fmt='d')\n",
    "\n",
    "ax.set_title('Seaborn Confusion Matrix with labels for test\\n\\n');\n",
    "ax.set_xlabel('\\nPredicted Values')\n",
    "ax.set_ylabel('Actual Values ');\n",
    "\n",
    "## Ticket labels - List must be in alphabetical order\n",
    "ax.xaxis.set_ticklabels(['False','True'])\n",
    "ax.yaxis.set_ticklabels(['False','True'])\n",
    "\n",
    "## Display the visualization of the Confusion Matrix.\n",
    "plt.show()"
   ]
  },
  {
   "cell_type": "markdown",
   "metadata": {},
   "source": [
    "## Random Forest"
   ]
  },
  {
   "cell_type": "code",
   "execution_count": 37,
   "metadata": {},
   "outputs": [
    {
     "data": {
      "text/plain": [
       "GridSearchCV(cv=5,\n",
       "             estimator=RandomForestClassifier(class_weight='balanced',\n",
       "                                              n_jobs=-1, random_state=0),\n",
       "             n_jobs=-1,\n",
       "             param_grid={'max_depth': [11, 14, 36, 45, 64, 69, 71, 72, 83, 93],\n",
       "                         'min_samples_split': [12, 20, 30, 41, 43],\n",
       "                         'n_estimators': [20, 30, 40, 50, 60, 70, 80, 100, 150,\n",
       "                                          200]},\n",
       "             return_train_score=True, scoring='roc_auc')"
      ]
     },
     "execution_count": 37,
     "metadata": {},
     "output_type": "execute_result"
    }
   ],
   "source": [
    "from sklearn.ensemble import RandomForestClassifier\n",
    "random.seed(10)\n",
    "n_estimator=[20,30,40,50,60,70,80,100,150,200]\n",
    "max_depth=sorted(random.sample(range(10,100),10))\n",
    "min_samples_split=sorted(random.sample(range(10,50),5))\n",
    "params={'n_estimators':n_estimator,'max_depth':max_depth, 'min_samples_split':min_samples_split }\n",
    "model3=RandomForestClassifier(n_jobs=-1,random_state=0,class_weight='balanced')\n",
    "cv3=GridSearchCV(model3,params,n_jobs=-1,scoring='roc_auc',return_train_score=True,cv=5)\n",
    "cv3.fit(x_train,y_train)"
   ]
  },
  {
   "cell_type": "code",
   "execution_count": 38,
   "metadata": {},
   "outputs": [],
   "source": [
    "rf_params=cv3.best_params_"
   ]
  },
  {
   "cell_type": "code",
   "execution_count": 39,
   "metadata": {},
   "outputs": [],
   "source": [
    "model3=RandomForestClassifier(n_estimators=rf_params.get('n_estimators'),max_depth=rf_params.get('max_depth'),min_samples_split=rf_params.get('min_samples_split'),n_jobs=-1,random_state=0,class_weight='balanced')\n",
    "model3.fit(x_train,y_train)\n",
    "\n",
    "y_pred3=model3.predict_proba(x_test)[:,1]"
   ]
  },
  {
   "cell_type": "code",
   "execution_count": 40,
   "metadata": {},
   "outputs": [
    {
     "name": "stdout",
     "output_type": "stream",
     "text": [
      "log_loss for Random Forest is 0.5908677827652268\n",
      "Accuracy for Random Forest is 0.671957671957672\n"
     ]
    }
   ],
   "source": [
    "l_loss_model3=log_loss(y_test,y_pred3)\n",
    "print('log_loss for Random Forest is',l_loss_model3)\n",
    "y_p3=model3.predict(x_test)\n",
    "print('Accuracy for Random Forest is',accuracy_score(y_test,y_p3))"
   ]
  },
  {
   "cell_type": "code",
   "execution_count": 41,
   "metadata": {},
   "outputs": [
    {
     "data": {
      "image/png": "[encoded data removed]",
      "text/plain": [
       "<Figure size 432x288 with 2 Axes>"
      ]
     },
     "metadata": {},
     "output_type": "display_data"
    }
   ],
   "source": [
    "#reference: https://www.stackvidhya.com/plot-confusion-matrix-in-python-and-why/\n",
    "import seaborn as sns\n",
    "from sklearn.metrics import confusion_matrix\n",
    "\n",
    "cf_matrix=confusion_matrix(y_test,y_p3)\n",
    "ax = sns.heatmap(cf_matrix, annot=True, cmap='Blues',fmt='d')\n",
    "\n",
    "ax.set_title('Seaborn Confusion Matrix with labels for test\\n\\n');\n",
    "ax.set_xlabel('\\nPredicted Values')\n",
    "ax.set_ylabel('Actual Values ');\n",
    "\n",
    "## Ticket labels - List must be in alphabetical order\n",
    "ax.xaxis.set_ticklabels(['False','True'])\n",
    "ax.yaxis.set_ticklabels(['False','True'])\n",
    "\n",
    "## Display the visualization of the Confusion Matrix.\n",
    "plt.show()"
   ]
  },
  {
   "cell_type": "markdown",
   "metadata": {},
   "source": [
    "## XGBoost"
   ]
  },
  {
   "cell_type": "code",
   "execution_count": 42,
   "metadata": {},
   "outputs": [
    {
     "data": {
      "text/plain": [
       "GridSearchCV(cv=3, estimator=GradientBoostingClassifier(random_state=0),\n",
       "             n_jobs=-1,\n",
       "             param_grid={'learning_rate': [0.001, 0.01, 0.1, 1, 10, 30, 40, 50,\n",
       "                                           100],\n",
       "                         'max_depth': [6, 8, 13, 14, 19],\n",
       "                         'min_samples_split': [7, 9, 20, 28, 31],\n",
       "                         'n_estimators': [50, 100, 150, 200, 250]},\n",
       "             return_train_score=True, scoring='roc_auc')"
      ]
     },
     "execution_count": 42,
     "metadata": {},
     "output_type": "execute_result"
    }
   ],
   "source": [
    "from sklearn.ensemble import GradientBoostingClassifier\n",
    "learning=[0.001,0.01,0.1,1,10,30,40,50,100]\n",
    "n_estimator=[50,100,150,200,250]\n",
    "min_samples_split=sorted(random.sample(range(5,50),5))\n",
    "max_depth=sorted(random.sample(range(2,20),5))\n",
    "model4=GradientBoostingClassifier(random_state=0)\n",
    "params={'n_estimators':n_estimator,'learning_rate':learning,'min_samples_split':min_samples_split,'max_depth':max_depth }\n",
    "cv4=GridSearchCV(model4,params,n_jobs=-1,scoring='roc_auc',return_train_score=True,cv=3)\n",
    "cv4.fit(x_train,y_train)"
   ]
  },
  {
   "cell_type": "code",
   "execution_count": 43,
   "metadata": {},
   "outputs": [],
   "source": [
    "xg_params=cv4.best_params_"
   ]
  },
  {
   "cell_type": "code",
   "execution_count": 44,
   "metadata": {},
   "outputs": [],
   "source": [
    "model4=GradientBoostingClassifier(learning_rate=xg_params.get('learning_rate'),\n",
    " max_depth= xg_params.get('max_depth'),\n",
    " min_samples_split= xg_params.get('min_samples_split'),\n",
    " n_estimators= xg_params.get('n_estimators'), random_state=0)\n",
    "model4.fit(x_train,y_train)\n",
    "y_pred4=model4.predict_proba(x_test)[:,1]"
   ]
  },
  {
   "cell_type": "code",
   "execution_count": 45,
   "metadata": {},
   "outputs": [
    {
     "name": "stdout",
     "output_type": "stream",
     "text": [
      "log_loss for KNN is 0.8297926578531791\n",
      "Accuracy for GBDT is 0.7142857142857143\n"
     ]
    }
   ],
   "source": [
    "from sklearn.metrics import accuracy_score\n",
    "\n",
    "l_loss_model4=log_loss(y_test,y_pred4)\n",
    "print('log_loss for KNN is',l_loss_model4)\n",
    "\n",
    "y_p4=model4.predict(x_test)\n",
    "accuracy_score(y_test,y_p4)\n",
    "print('Accuracy for GBDT is',accuracy_score(y_test,y_p4))"
   ]
  },
  {
   "cell_type": "code",
   "execution_count": 46,
   "metadata": {},
   "outputs": [
    {
     "data": {
      "image/png": "[encoded data removed]",
      "text/plain": [
       "<Figure size 432x288 with 2 Axes>"
      ]
     },
     "metadata": {},
     "output_type": "display_data"
    }
   ],
   "source": [
    "import seaborn as sns\n",
    "from sklearn.metrics import confusion_matrix\n",
    "\n",
    "cf_matrix=confusion_matrix(y_test,y_p4)\n",
    "ax = sns.heatmap(cf_matrix, annot=True, cmap='Blues',fmt='d')\n",
    "\n",
    "ax.set_title('Seaborn Confusion Matrix with labels for test\\n\\n');\n",
    "ax.set_xlabel('\\nPredicted Values')\n",
    "ax.set_ylabel('Actual Values ');\n",
    "\n",
    "## Ticket labels - List must be in alphabetical order\n",
    "ax.xaxis.set_ticklabels(['False','True'])\n",
    "ax.yaxis.set_ticklabels(['False','True'])\n",
    "\n",
    "## Display the visualization of the Confusion Matrix.\n",
    "plt.show()"
   ]
  },
  {
   "cell_type": "markdown",
   "metadata": {},
   "source": [
    "## SVM"
   ]
  },
  {
   "cell_type": "code",
   "execution_count": 47,
   "metadata": {},
   "outputs": [],
   "source": [
    "from sklearn.svm import SVC\n",
    "c=[0.001,0.01,0.1,1,10,20,50,80,100]\n",
    "model5=SVC(class_weight='balanced',random_state=0,probability=True)\n",
    "params={'C':c}\n",
    "cv5=GridSearchCV(model5,params,n_jobs=-1,scoring='roc_auc',return_train_score=True,cv=3)\n",
    "cv5.fit(x_train,y_train)\n",
    "sv_params=cv5.best_params_"
   ]
  },
  {
   "cell_type": "code",
   "execution_count": 48,
   "metadata": {},
   "outputs": [
    {
     "name": "stdout",
     "output_type": "stream",
     "text": [
      "The Log Loss for SVM is 0.609618490795594\n",
      "The Accuracy for the SVM Model is 0.4973544973544973\n"
     ]
    }
   ],
   "source": [
    "model5=SVC(C=sv_params.get('C'),class_weight='balanced',random_state=0,probability=True)\n",
    "model5.fit(x_train,y_train)\n",
    "y_p5=model5.predict(x_test)\n",
    "y_pred5=model5.predict_proba(x_test)[:,1]\n",
    "print('The Log Loss for SVM is',log_loss(y_test,y_pred5))\n",
    "print('The Accuracy for the SVM Model is',accuracy_score(y_test,y_p5))"
   ]
  },
  {
   "cell_type": "code",
   "execution_count": 49,
   "metadata": {},
   "outputs": [
    {
     "data": {
      "image/png": "[encoded data removed]",
      "text/plain": [
       "<Figure size 432x288 with 2 Axes>"
      ]
     },
     "metadata": {},
     "output_type": "display_data"
    }
   ],
   "source": [
    "import seaborn as sns\n",
    "from sklearn.metrics import confusion_matrix\n",
    "\n",
    "cf_matrix=confusion_matrix(y_test,y_p5)\n",
    "ax = sns.heatmap(cf_matrix, annot=True, cmap='Blues',fmt='d')\n",
    "\n",
    "ax.set_title('Seaborn Confusion Matrix with labels for test\\n\\n');\n",
    "ax.set_xlabel('\\nPredicted Values')\n",
    "ax.set_ylabel('Actual Values ');\n",
    "\n",
    "## Ticket labels - List must be in alphabetical order\n",
    "ax.xaxis.set_ticklabels(['False','True'])\n",
    "ax.yaxis.set_ticklabels(['False','True'])\n",
    "\n",
    "## Display the visualization of the Confusion Matrix.\n",
    "plt.show()"
   ]
  },
  {
   "cell_type": "markdown",
   "metadata": {},
   "source": [
    "## Conclusion:\n",
    "- Logistic Regression is the best model for our problem when seeing only the Acuracy & log loss, but once we see the Confusion Matrix, it does not seem to be the best model.\n",
    "\n",
    "- KNN is the dumbest model, as it has actually classified all the datapoints as positive values."
   ]
  },
  {
   "cell_type": "markdown",
   "metadata": {},
   "source": [
    "## Increasing the Dimension of the User Matrix and trying with the models which performed better in the previous iterations"
   ]
  },
  {
   "cell_type": "code",
   "execution_count": 50,
   "metadata": {},
   "outputs": [],
   "source": [
    "U, Sigma, VT = randomized_svd(adjacency_matrix, n_components=100,n_iter=5, random_state=None)\n",
    "U=pd.DataFrame(U)\n",
    "x_i_2=U.join(user_info)"
   ]
  },
  {
   "cell_type": "code",
   "execution_count": 51,
   "metadata": {},
   "outputs": [],
   "source": [
    "x_i_2\n",
    "x_train2,x_test2,y_train2,y_test2=train_test_split(x_i_2,y_i,test_size=0.2)"
   ]
  },
  {
   "cell_type": "code",
   "execution_count": 52,
   "metadata": {},
   "outputs": [
    {
     "data": {
      "text/plain": [
       "GridSearchCV(cv=4,\n",
       "             estimator=LogisticRegression(class_weight='balances', n_jobs=-1,\n",
       "                                          random_state=0),\n",
       "             n_jobs=-1, param_grid={'C': [0.001, 0.01, 0.1, 1, 10, 100]},\n",
       "             return_train_score=True, scoring='roc_auc')"
      ]
     },
     "execution_count": 52,
     "metadata": {},
     "output_type": "execute_result"
    }
   ],
   "source": [
    "#LR\n",
    "c=[0.001,0.01,0.1,1,10,100]\n",
    "params={'C':c}\n",
    "model2=LogisticRegression(penalty='l2',class_weight='balances',random_state=0,n_jobs=-1)\n",
    "cv2=GridSearchCV(model2,params,n_jobs=-1,scoring='roc_auc',return_train_score=True,cv=4)\n",
    "cv2.fit(x_train2,y_train2)"
   ]
  },
  {
   "cell_type": "code",
   "execution_count": 53,
   "metadata": {},
   "outputs": [],
   "source": [
    "c=cv2.best_params_.get('C')"
   ]
  },
  {
   "cell_type": "code",
   "execution_count": 54,
   "metadata": {},
   "outputs": [
    {
     "name": "stdout",
     "output_type": "stream",
     "text": [
      "The Accuracy Score for the LR Model with 50 Dim Matrix is 0.6984126984126984\n",
      "The Log Loss for the LR Model with 50 Dim Matrix is 0.5662030136271285\n"
     ]
    }
   ],
   "source": [
    "model2=LogisticRegression(C=c,penalty='l2',class_weight='balances',random_state=0,n_jobs=-1)\n",
    "model2.fit(x_train2,y_train2)\n",
    "y_p5_2=model2.predict(x_test2)\n",
    "y_proba2=model2.predict_proba(x_test2)\n",
    "print('The Accuracy Score for the LR Model with 50 Dim Matrix is',accuracy_score(y_test2,model2.predict(x_test2)))\n",
    "print('The Log Loss for the LR Model with 50 Dim Matrix is',log_loss(y_test2,y_proba2))"
   ]
  },
  {
   "cell_type": "code",
   "execution_count": 55,
   "metadata": {},
   "outputs": [
    {
     "data": {
      "image/png": "[encoded data removed]",
      "text/plain": [
       "<Figure size 432x288 with 2 Axes>"
      ]
     },
     "metadata": {},
     "output_type": "display_data"
    }
   ],
   "source": [
    "import seaborn as sns\n",
    "from sklearn.metrics import confusion_matrix\n",
    "\n",
    "cf_matrix=confusion_matrix(y_test,y_p5_2)\n",
    "ax = sns.heatmap(cf_matrix, annot=True, cmap='Blues',fmt='d')\n",
    "\n",
    "ax.set_title('Seaborn Confusion Matrix with labels for test\\n\\n');\n",
    "ax.set_xlabel('\\nPredicted Values')\n",
    "ax.set_ylabel('Actual Values ');\n",
    "\n",
    "## Ticket labels - List must be in alphabetical order\n",
    "ax.xaxis.set_ticklabels(['False','True'])\n",
    "ax.yaxis.set_ticklabels(['False','True'])\n",
    "\n",
    "## Display the visualization of the Confusion Matrix.\n",
    "plt.show()"
   ]
  },
  {
   "cell_type": "code",
   "execution_count": 56,
   "metadata": {},
   "outputs": [
    {
     "data": {
      "text/plain": [
       "GridSearchCV(cv=5,\n",
       "             estimator=RandomForestClassifier(class_weight='balanced',\n",
       "                                              n_jobs=-1, random_state=0),\n",
       "             n_jobs=-1,\n",
       "             param_grid={'max_depth': [11, 14, 36, 45, 64, 69, 71, 72, 83, 93],\n",
       "                         'min_samples_split': [12, 20, 30, 41, 43],\n",
       "                         'n_estimators': [20, 30, 40, 50, 60, 70, 80, 100, 150,\n",
       "                                          200]},\n",
       "             return_train_score=True, scoring='roc_auc')"
      ]
     },
     "execution_count": 56,
     "metadata": {},
     "output_type": "execute_result"
    }
   ],
   "source": [
    "random.seed(10)\n",
    "n_estimator=[20,30,40,50,60,70,80,100,150,200]\n",
    "max_depth=sorted(random.sample(range(10,100),10))\n",
    "min_samples_split=sorted(random.sample(range(10,50),5))\n",
    "params={'n_estimators':n_estimator,'max_depth':max_depth, 'min_samples_split':min_samples_split }\n",
    "model3=RandomForestClassifier(n_jobs=-1,random_state=0,class_weight='balanced')\n",
    "cv3=GridSearchCV(model3,params,n_jobs=-1,scoring='roc_auc',return_train_score=True,cv=5)\n",
    "cv3.fit(x_train2,y_train2)"
   ]
  },
  {
   "cell_type": "code",
   "execution_count": 57,
   "metadata": {},
   "outputs": [],
   "source": [
    "parameters=cv3.best_params_"
   ]
  },
  {
   "cell_type": "code",
   "execution_count": 58,
   "metadata": {},
   "outputs": [],
   "source": [
    "model3=RandomForestClassifier(n_estimators=parameters.get('n_estimators'),max_depth=parameters.get('max_depth'),min_samples_split=parameters.get('min_samples_split'),n_jobs=-1,random_state=0,class_weight='balanced')\n",
    "model3.fit(x_train2,y_train2)\n",
    "\n",
    "y_pred3=model3.predict_proba(x_test2)[:,1]\n",
    "y_p3_2=model3.predict(x_test2)"
   ]
  },
  {
   "cell_type": "code",
   "execution_count": 59,
   "metadata": {},
   "outputs": [
    {
     "data": {
      "image/png": "[encoded data removed]",
      "text/plain": [
       "<Figure size 432x288 with 2 Axes>"
      ]
     },
     "metadata": {},
     "output_type": "display_data"
    }
   ],
   "source": [
    "import seaborn as sns\n",
    "from sklearn.metrics import confusion_matrix\n",
    "\n",
    "cf_matrix=confusion_matrix(y_test,y_p3_2)\n",
    "ax = sns.heatmap(cf_matrix, annot=True, cmap='Blues',fmt='d')\n",
    "\n",
    "ax.set_title('Seaborn Confusion Matrix with labels for test\\n\\n');\n",
    "ax.set_xlabel('\\nPredicted Values')\n",
    "ax.set_ylabel('Actual Values ');\n",
    "\n",
    "## Ticket labels - List must be in alphabetical order\n",
    "ax.xaxis.set_ticklabels(['False','True'])\n",
    "ax.yaxis.set_ticklabels(['False','True'])\n",
    "\n",
    "## Display the visualization of the Confusion Matrix.\n",
    "plt.show()"
   ]
  },
  {
   "cell_type": "markdown",
   "metadata": {},
   "source": [
    "### Conclusion:\n",
    "- Just like all the other hyperparameters, the size of the matrix, will also need to be considered as a hyperparameter."
   ]
  }
 ],
 "metadata": {
  "colab": {
   "collapsed_sections": [],
   "name": "Recommendation_system_assignment_final.ipynb",
   "provenance": []
  },
  "kernelspec": {
   "display_name": "Python 3",
   "language": "python",
   "name": "python3"
  },
  "language_info": {
   "codemirror_mode": {
    "name": "ipython",
    "version": 3
   },
   "file_extension": ".py",
   "mimetype": "text/x-python",
   "name": "python",
   "nbconvert_exporter": "python",
   "pygments_lexer": "ipython3",
   "version": "3.6.5"
  }
 },
 "nbformat": 4,
 "nbformat_minor": 1
}
