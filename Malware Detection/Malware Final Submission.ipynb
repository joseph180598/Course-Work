{
 "cells": [
  {
   "cell_type": "markdown",
   "metadata": {},
   "source": [
    "#### 1. Code used to extract the Data into the folder"
   ]
  },
  {
   "cell_type": "code",
   "execution_count": null,
   "metadata": {},
   "outputs": [],
   "source": [
    "from pyunpack import Archive\n",
    "Archive('train.7z').extractall('/home/joseph180598')"
   ]
  },
  {
   "cell_type": "markdown",
   "metadata": {},
   "source": [
    "#### 2. Importing all the library dependencies"
   ]
  },
  {
   "cell_type": "code",
   "execution_count": 1,
   "metadata": {},
   "outputs": [
    {
     "name": "stderr",
     "output_type": "stream",
     "text": [
      "C:\\Anaconda3\\lib\\site-packages\\dask\\dataframe\\utils.py:14: FutureWarning: pandas.util.testing is deprecated. Use the functions in the public API at pandas.testing instead.\n",
      "  import pandas.util.testing as tm\n"
     ]
    }
   ],
   "source": [
    "import os\n",
    "import pandas as pd\n",
    "import numpy as np\n",
    "import shutil\n",
    "from tqdm import tqdm\n",
    "import codecs\n",
    "import csv\n",
    "from multiprocessing import Process# this is used for multithreading\n",
    "import multiprocessing\n",
    "import random as r\n",
    "from sklearn.feature_extraction.text import CountVectorizer\n",
    "import scipy\n",
    "import random\n",
    "import seaborn as sns\n",
    "import matplotlib.pyplot as plt\n",
    "import dask.dataframe as dd\n",
    "from sklearn.model_selection import RandomizedSearchCV\n",
    "from xgboost import XGBClassifier\n"
   ]
  },
  {
   "cell_type": "code",
   "execution_count": 3,
   "metadata": {},
   "outputs": [
    {
     "name": "stdout",
     "output_type": "stream",
     "text": [
      "Solving environment: ...working... failed\n"
     ]
    },
    {
     "name": "stderr",
     "output_type": "stream",
     "text": [
      "\n",
      "CondaValueError: Malformed version string '~': invalid character(s).\n",
      "\n"
     ]
    }
   ],
   "source": [
    "!conda create -n py37 python=3.7.8 anaconda\n",
    "#https://stackoverflow.com/questions/49428381/how-to-change-jupyter-kernel-from-python-2-to-python-3"
   ]
  },
  {
   "cell_type": "code",
   "execution_count": 4,
   "metadata": {},
   "outputs": [
    {
     "name": "stderr",
     "output_type": "stream",
     "text": [
      "'source' is not recognized as an internal or external command,\n",
      "operable program or batch file.\n"
     ]
    }
   ],
   "source": [
    "!source active py37\n"
   ]
  },
  {
   "cell_type": "markdown",
   "metadata": {},
   "source": [
    "#### 3. Separating ASM & Byte Files and Placing them in different folders"
   ]
  },
  {
   "cell_type": "code",
   "execution_count": null,
   "metadata": {},
   "outputs": [],
   "source": [
    "#separating byte files and asm files \n",
    "\n",
    "source = 'train'\n",
    "destination = 'byteFiles'\n",
    "\n",
    "# we will check if the folder 'byteFiles' exists if it not there we will create a folder with the same name\n",
    "if not os.path.isdir(destination):\n",
    "    os.makedirs(destination)\n",
    "\n",
    "# if we have folder called 'train' (train folder contains both .asm files and .bytes files) we will rename it 'asmFiles'\n",
    "# for every file that we have in our 'asmFiles' directory we check if it is ending with .bytes, if yes we will move it to\n",
    "# 'byteFiles' folder\n",
    "#source='asmFiles'\n",
    "# so by the end of this snippet we will separate all the .byte files and .asm files\n",
    "if os.path.isdir(source):\n",
    "    os.rename(source,'asmFiles')\n",
    "    source='asmFiles'\n",
    "    data_files = os.listdir(source)\n",
    "    for file in data_files:\n",
    "        if (file.endswith(\".bytes\")):\n",
    "            shutil.move(source+'/'+file,destination)"
   ]
  },
  {
   "cell_type": "code",
   "execution_count": null,
   "metadata": {},
   "outputs": [],
   "source": []
  },
  {
   "cell_type": "code",
   "execution_count": null,
   "metadata": {},
   "outputs": [],
   "source": []
  },
  {
   "cell_type": "markdown",
   "metadata": {},
   "source": [
    "#### As an additional step, I had converted the ASM files to text files before processing, so that can be treated as a txt file, and features can be extracted easily without errors."
   ]
  },
  {
   "cell_type": "code",
   "execution_count": null,
   "metadata": {},
   "outputs": [],
   "source": [
    "#Converting the ASM Files to text files, so that I can read them using the normal open function\n",
    "#Step\n",
    "files=os.listdir('asmFiles')\n",
    "for f in tqdm(files):\n",
    "    name=f.split('.')[0]\n",
    "    if f.endswith('.asm'):\n",
    "        with codecs.open('asmFiles/'+f,encoding='cp1252',errors ='replace') as fp:\n",
    "            with codecs.open('asmFiles/'+name+'.txt','w',encoding='cp1252',errors ='replace') as f2:\n",
    "                for line in fp:\n",
    "                    f2.write(line)\n",
    "            f2.close()\n",
    "        os.remove('asmFiles/'+f)"
   ]
  },
  {
   "cell_type": "markdown",
   "metadata": {},
   "source": [
    "#### I assumed that I was handling this use case for the first time. So I had split the dataset into 2 sets, training & testing. So that they are separated from the training to the test phase."
   ]
  },
  {
   "cell_type": "code",
   "execution_count": null,
   "metadata": {},
   "outputs": [],
   "source": [
    "#splitting the data into train & test\n",
    "#Step 2\n",
    "\n",
    "files_byte=os.listdir('byteFiles')\n",
    "total_file=len(files_byte)\n",
    "\n",
    "files_asm=os.listdir('asmFiles')\n",
    "\n",
    "data=pd.read_csv('trainLabels.csv')\n",
    "data.head()\n",
    "#The y_csv file is file_name, Class\n",
    "\n",
    "train=random.sample(range(total_file),int(total_file*0.8))\n",
    "test=list(set(range(total_file))-set(train))"
   ]
  },
  {
   "cell_type": "code",
   "execution_count": null,
   "metadata": {},
   "outputs": [],
   "source": [
    "#Step 3: Actually moving the files\n",
    "import shutil\n",
    "source1='asmFiles'\n",
    "source2='byteFiles'\n",
    "#ASM File\n",
    "train_dest_asm='asmFiles_train'\n",
    "test_dest_asm='asmFiles_test'\n",
    "#Byte File\n",
    "train_dest_byte='byteFiles_train'\n",
    "test_dest_byte='byteFiles_test'\n",
    "\n",
    "\n",
    "if not os.path.isdir(test_dest_asm):\n",
    "    os.makedirs(test_dest_asm)\n",
    "    \n",
    "if not os.path.isdir(test_dest_byte):\n",
    "    os.makedirs(test_dest_byte)\n",
    "\n",
    "#Moving the test data from the main file\n",
    "for index in test:\n",
    "    shutil.move(source2 +'/'+files_byte[index],test_dest_byte)\n",
    "    shutil.move(source1 +'/'+files_asm[index],test_dest_asm)\n",
    "    \n",
    "os.rename(source1,train_dest_asm)\n",
    "os.rename(source2,train_dest_byte)\n"
   ]
  },
  {
   "cell_type": "code",
   "execution_count": null,
   "metadata": {},
   "outputs": [],
   "source": [
    "#Verifying if the files were moved correctly\n",
    "len(os.listdir('byteFiles_test'))==len(os.listdir('asmFiles_test'))"
   ]
  },
  {
   "cell_type": "markdown",
   "metadata": {},
   "source": [
    "### 4. Distribution of malware classes in whole data set"
   ]
  },
  {
   "cell_type": "code",
   "execution_count": 2,
   "metadata": {},
   "outputs": [
    {
     "data": {
      "image/png": "[encoded data removed]",
      "text/plain": [
       "<Figure size 640x480 with 1 Axes>"
      ]
     },
     "metadata": {},
     "output_type": "display_data"
    }
   ],
   "source": [
    "Y=pd.read_csv(\"trainLabels.csv\")\n",
    "total = len(Y)*1.\n",
    "ax=sns.countplot(x=\"Class\", data=Y)\n",
    "for p in ax.patches:\n",
    "        ax.annotate('{:.1f}%'.format(100*p.get_height()/total), (p.get_x()+0.1, p.get_height()+5))\n",
    "\n",
    "#put 11 ticks (therefore 10 steps), from 0 to the total number of rows in the dataframe\n",
    "ax.yaxis.set_ticks(np.linspace(0, total, 11))\n",
    "\n",
    "#adjust the ticklabel to the desired format, without changing the position of the ticks. \n",
    "ax.set_yticklabels(map('{:.1f}%'.format, 100*ax.yaxis.get_majorticklocs()/total))\n",
    "plt.show()"
   ]
  },
  {
   "cell_type": "markdown",
   "metadata": {},
   "source": [
    "### Distribution of Class in Training and Testing"
   ]
  },
  {
   "cell_type": "code",
   "execution_count": 3,
   "metadata": {},
   "outputs": [],
   "source": [
    "#Training\n",
    "train_folder=os.listdir('byteFiles_train')\n",
    "test_folder=os.listdir('byteFiles_test')\n",
    "\n",
    "train=[]\n",
    "test=[]\n",
    "for files in train_folder:\n",
    "    train.append(files.split('.')[0])\n",
    "\n",
    "for files in test_folder:\n",
    "    test.append(files.split('.')[0])"
   ]
  },
  {
   "cell_type": "code",
   "execution_count": 4,
   "metadata": {},
   "outputs": [
    {
     "data": {
      "text/plain": [
       "(10868, 2)"
      ]
     },
     "execution_count": 4,
     "metadata": {},
     "output_type": "execute_result"
    }
   ],
   "source": [
    "class_detail=pd.read_csv('trainLabels.csv', delimiter=',')\n",
    "class_detail.shape"
   ]
  },
  {
   "cell_type": "code",
   "execution_count": 5,
   "metadata": {},
   "outputs": [
    {
     "name": "stderr",
     "output_type": "stream",
     "text": [
      "100%|████████████████████████████████████████████████████████████████████| 8690/8690 [00:07<00:00, 1230.63it/s]\n",
      "100%|████████████████████████████████████████████████████████████████████| 2174/2174 [00:01<00:00, 1222.59it/s]\n"
     ]
    }
   ],
   "source": [
    "train_class=[]\n",
    "for values in tqdm(train):\n",
    "    train_class.append(int(class_detail[class_detail['Id']==values]['Class']))\n",
    "    \n",
    "test_class=[]\n",
    "for values in tqdm(test):\n",
    "    test_class.append(int(class_detail[class_detail['Id']==values]['Class']))"
   ]
  },
  {
   "cell_type": "code",
   "execution_count": 7,
   "metadata": {},
   "outputs": [],
   "source": [
    "train_class=pd.DataFrame(list(zip(train,train_class)),columns =['Id','Class'])\n",
    "test_class=pd.DataFrame(list(zip(test,test_class)),columns =['Id','Class'])"
   ]
  },
  {
   "cell_type": "code",
   "execution_count": null,
   "metadata": {},
   "outputs": [],
   "source": []
  },
  {
   "cell_type": "markdown",
   "metadata": {},
   "source": [
    "### Distribution of Class in Training Data"
   ]
  },
  {
   "cell_type": "code",
   "execution_count": 9,
   "metadata": {},
   "outputs": [
    {
     "data": {
      "image/png": "[encoded data removed]",
      "text/plain": [
       "<Figure size 640x480 with 1 Axes>"
      ]
     },
     "metadata": {},
     "output_type": "display_data"
    }
   ],
   "source": [
    "\n",
    "total = len(train_class)*1.\n",
    "ax=sns.countplot(x=\"Class\", data=train_class)\n",
    "for p in ax.patches:\n",
    "        ax.annotate('{:.1f}%'.format(100*p.get_height()/total), (p.get_x()+0.1, p.get_height()+5))\n",
    "\n",
    "#put 11 ticks (therefore 10 steps), from 0 to the total number of rows in the dataframe\n",
    "ax.yaxis.set_ticks(np.linspace(0, total, 11))\n",
    "\n",
    "#adjust the ticklabel to the desired format, without changing the position of the ticks. \n",
    "ax.set_yticklabels(map('{:.1f}%'.format, 100*ax.yaxis.get_majorticklocs()/total))\n",
    "plt.show()"
   ]
  },
  {
   "cell_type": "markdown",
   "metadata": {},
   "source": [
    "#### Distribution of Class in Training Data"
   ]
  },
  {
   "cell_type": "code",
   "execution_count": 31,
   "metadata": {},
   "outputs": [
    {
     "data": {
      "image/png": "[encoded data removed]",
      "text/plain": [
       "<Figure size 640x480 with 1 Axes>"
      ]
     },
     "metadata": {},
     "output_type": "display_data"
    }
   ],
   "source": [
    "\n",
    "total = len(test_class)*1.\n",
    "ax=sns.countplot(x=\"Class\", data=test_class)\n",
    "for p in ax.patches:\n",
    "        ax.annotate('{:.1f}%'.format(100*p.get_height()/total), (p.get_x()+0.1, p.get_height()+5))\n",
    "\n",
    "#put 11 ticks (therefore 10 steps), from 0 to the total number of rows in the dataframe\n",
    "ax.yaxis.set_ticks(np.linspace(0, total, 11))\n",
    "\n",
    "#adjust the ticklabel to the desired format, without changing the position of the ticks. \n",
    "ax.set_yticklabels(map('{:.1f}%'.format, 100*ax.yaxis.get_majorticklocs()/total))\n",
    "plt.show()"
   ]
  },
  {
   "cell_type": "markdown",
   "metadata": {},
   "source": [
    "### 5. Feature Extraction\n",
    "#### 5.1 File Size"
   ]
  },
  {
   "cell_type": "code",
   "execution_count": 38,
   "metadata": {},
   "outputs": [
    {
     "name": "stdout",
     "output_type": "stream",
     "text": [
      "                     Id      size  Class\n",
      "0  clDmndwYzEaRtyrQusUJ  2.166504      6\n",
      "1  JEbogFC9kPnGSdi2KDaZ  8.099609      3\n",
      "2  0DqUX5rkg3IbMY6BLGCE  0.651367      1\n",
      "3  9vP6c42rE30zVNlT8AJO  8.113770      3\n",
      "4  6iSL1WkDHVIUqJzGmnhN  5.210938      7\n"
     ]
    }
   ],
   "source": [
    "#file sizes of train byte files\n",
    "\n",
    "files=os.listdir('byteFiles_train')\n",
    "filenames=Y['Id'].tolist()\n",
    "class_y=Y['Class'].tolist()\n",
    "class_bytes=[]\n",
    "sizebytes=[]\n",
    "fnames=[]\n",
    "for file in files:\n",
    "    # print(os.stat('byteFiles/0A32eTdBKayjCWhZqDOQ.txt'))\n",
    "    # os.stat_result(st_mode=33206, st_ino=1125899906874507, st_dev=3561571700, st_nlink=1, st_uid=0, st_gid=0, \n",
    "    # st_size=3680109, st_atime=1519638522, st_mtime=1519638522, st_ctime=1519638522)\n",
    "    # read more about os.stat: here https://www.tutorialspoint.com/python/os_stat.htm\n",
    "    statinfo=os.stat('byteFiles_train/'+file)\n",
    "    # split the file name at '.' and take the first part of it i.e the file name\n",
    "    file=file.split('.')[0]\n",
    "    if any(file == filename for filename in filenames):\n",
    "        i=filenames.index(file)\n",
    "        class_bytes.append(class_y[i])\n",
    "        # converting into Mb's\n",
    "        sizebytes.append(statinfo.st_size/(1024.0*1024.0))\n",
    "        fnames.append(file)\n",
    "train_data_size_byte=pd.DataFrame({'Id':fnames,'size':sizebytes,'Class':class_bytes})\n",
    "print (train_data_size_byte.head())"
   ]
  },
  {
   "cell_type": "code",
   "execution_count": 37,
   "metadata": {},
   "outputs": [
    {
     "name": "stdout",
     "output_type": "stream",
     "text": [
      "                     Id      size  Class\n",
      "0  G9tcxvXL8sZAjU72zYOg  0.594727      4\n",
      "1  iEhMwSYF4f7O6clnzgv0  0.523926      1\n",
      "2  351BNOEjS9pHWAqhJQdD  1.118652      8\n",
      "3  4eC9LmdHc6pRoP8BtTGv  8.099609      3\n",
      "4  HQCNdPn3ytMDrB96b8kX  8.099609      3\n"
     ]
    }
   ],
   "source": [
    "#file sizes of test byte files\n",
    "\n",
    "files=os.listdir('byteFiles_test')\n",
    "filenames=Y['Id'].tolist()\n",
    "class_y=Y['Class'].tolist()\n",
    "class_bytes=[]\n",
    "sizebytes=[]\n",
    "fnames=[]\n",
    "for file in files:\n",
    "    # print(os.stat('byteFiles/0A32eTdBKayjCWhZqDOQ.txt'))\n",
    "    # os.stat_result(st_mode=33206, st_ino=1125899906874507, st_dev=3561571700, st_nlink=1, st_uid=0, st_gid=0, \n",
    "    # st_size=3680109, st_atime=1519638522, st_mtime=1519638522, st_ctime=1519638522)\n",
    "    # read more about os.stat: here https://www.tutorialspoint.com/python/os_stat.htm\n",
    "    statinfo=os.stat('byteFiles_test/'+file)\n",
    "    # split the file name at '.' and take the first part of it i.e the file name\n",
    "    file=file.split('.')[0]\n",
    "    if any(file == filename for filename in filenames):\n",
    "        i=filenames.index(file)\n",
    "        class_bytes.append(class_y[i])\n",
    "        # converting into Mb's\n",
    "        sizebytes.append(statinfo.st_size/(1024.0*1024.0))\n",
    "        fnames.append(file)\n",
    "test_data_size_byte=pd.DataFrame({'Id':fnames,'size':sizebytes,'Class':class_bytes})\n",
    "print (test_data_size_byte.head())"
   ]
  },
  {
   "cell_type": "markdown",
   "metadata": {},
   "source": [
    "### 5.2 Byte File Features\n",
    "#### 5.2.1 Bag Of Words on the hexadecimal code"
   ]
  },
  {
   "cell_type": "code",
   "execution_count": null,
   "metadata": {},
   "outputs": [],
   "source": [
    "#First extracting the vocab dictionary which is necessary for the BOW\n",
    "#Running the code to get a dictionary of byte values in byte file\n",
    "#extracting the byte from the values\n",
    "import os\n",
    "from tqdm import tqdm\n",
    "import csv\n",
    "files=os.listdir('byteFiles_train')\n",
    "byte_vocab=set()\n",
    "for file in tqdm(files):\n",
    "    if file.endswith('.bytes'):\n",
    "        sheet=open('byteFiles_train/'+file)\n",
    "        sheet.seek(0)\n",
    "        data=sheet.readlines()\n",
    "        for i in data:\n",
    "            byte_vocab.update(i[9:-1].split(' '))\n",
    "        #print(len(byte_vocab))\n",
    "        \n",
    "byte_vocab=list(byte_vocab)\n",
    "fp=open('bytes_hexa_vocab.txt','w')\n",
    "for j in byte_vocab:\n",
    "    fp.write(j+',')\n",
    "#Converting the set into a list and storing the data in a txt file"
   ]
  },
  {
   "cell_type": "code",
   "execution_count": 10,
   "metadata": {},
   "outputs": [],
   "source": [
    "import pandas as pd\n",
    "byte_vocab=list(pd.read_csv('bytes_hexa_vocab.txt',delimiter=',',header=None, dtype=str).to_numpy()[0])\n",
    "#calling that vocab and converting into a list for creating BOW"
   ]
  },
  {
   "cell_type": "code",
   "execution_count": null,
   "metadata": {},
   "outputs": [],
   "source": [
    "#Running the code to get a dictionary of addresses in byte file\n",
    "#extracting the address from the values\n",
    "import os\n",
    "from tqdm import tqdm\n",
    "import csv\n",
    "files=os.listdir('byteFiles_train')\n",
    "file_address=set()\n",
    "for file in tqdm(files):\n",
    "    if file.endswith('.bytes'):\n",
    "        sheet=open('byteFiles_train/'+file)\n",
    "        sheet.seek(0)\n",
    "        data=sheet.readlines()\n",
    "        for i in data:\n",
    "            file_address.add(i[:8])\n",
    "        #print(len(file_address))\n",
    "        \n",
    "fp=open('byte_address_vocab.txt','w')\n",
    "file_address=list(file_address)\n",
    "for j in file_address:\n",
    "    fp.write(j+',')\n",
    "#Saving the vocabulary as dict"
   ]
  },
  {
   "cell_type": "markdown",
   "metadata": {},
   "source": [
    "#### Tried using the address, but it has a vocabulary of 8536801 values, hence may not be really a good feature"
   ]
  },
  {
   "cell_type": "markdown",
   "metadata": {},
   "source": [
    "#### Creating BOW with the bytes file"
   ]
  },
  {
   "cell_type": "code",
   "execution_count": null,
   "metadata": {},
   "outputs": [],
   "source": [
    "#https://mkyong.com/python/python-difference-between-r-w-and-a-in-open/#difference-between-r-r-w-w-a-and-a\n",
    "#CHange the values to a if it stops in the middle\n",
    "#https://github.com/saicharanarishanapally/microsoft-malware-detection/blob/master/MicrosoftMalwareDetection.ipynb\n",
    "\n",
    "#https://github.com/saicharanarishanapally/microsoft-malware-detection/blob/master/MicrosoftMalwareDetection.ipynb\n",
    "vector = CountVectorizer(lowercase=False,ngram_range=(1,1), vocabulary=byte_vocab)\n",
    "with open('train_bytes_BOW.csv','w') as fp:\n",
    "    write=csv.writer(fp)\n",
    "    for i, file in tqdm(enumerate(os.listdir('byteFiles_train'))):\n",
    "        if file.endswith('.bytes'):\n",
    "            name=file.split('.')[0]\n",
    "            f = open('byteFiles_train/' + file)\n",
    "            vec=scipy.sparse.csr_matrix(vector.transform([f.read().replace('\\n', ' ').upper()]))\n",
    "            vec=vec.toarray()[0]\n",
    "            vec=list(vec)\n",
    "            vec.insert(0,name)\n",
    "            write.writerow(vec)\n",
    "            f.close()\n",
    "    fp.close()"
   ]
  },
  {
   "cell_type": "code",
   "execution_count": 10,
   "metadata": {},
   "outputs": [
    {
     "name": "stderr",
     "output_type": "stream",
     "text": [
      "2174it [20:38,  1.76it/s]\n"
     ]
    }
   ],
   "source": [
    "#https://mkyong.com/python/python-difference-between-r-w-and-a-in-open/#difference-between-r-r-w-w-a-and-a\n",
    "#CHange the values to a if it stops in the middle\n",
    "#https://github.com/saicharanarishanapally/microsoft-malware-detection/blob/master/MicrosoftMalwareDetection.ipynb\n",
    "\n",
    "#https://github.com/saicharanarishanapally/microsoft-malware-detection/blob/master/MicrosoftMalwareDetection.ipynb\n",
    "vector = CountVectorizer(lowercase=False,ngram_range=(1,1), vocabulary=byte_vocab)\n",
    "with open('test_bytes_BOW.csv','w') as fp:\n",
    "    write=csv.writer(fp)\n",
    "    for i, file in tqdm(enumerate(os.listdir('byteFiles_test'))):\n",
    "        if file.endswith('.bytes'):\n",
    "            name=file.split('.')[0]\n",
    "            f = open('byteFiles_test/' + file)\n",
    "            vec=scipy.sparse.csr_matrix(vector.transform([f.read().replace('\\n', ' ').upper()]))\n",
    "            vec=vec.toarray()[0]\n",
    "            vec=list(vec)\n",
    "            vec.insert(0,name)\n",
    "            write.writerow(vec)\n",
    "            f.close()\n",
    "    fp.close()"
   ]
  },
  {
   "cell_type": "markdown",
   "metadata": {},
   "source": [
    "#### 2-gram BOW"
   ]
  },
  {
   "cell_type": "code",
   "execution_count": null,
   "metadata": {},
   "outputs": [],
   "source": [
    "dictionary=byte_vocab\n",
    "\n",
    "bigram_vocab=set()\n",
    "for w1 in tqdm(dictionary):\n",
    "    for w2 in dictionary:\n",
    "        b=str(w1)+' '+str(w2)\n",
    "        bigram_vocab.add(b)\n",
    "\n",
    "f=open('bigram_vocab.txt','w')\n",
    "for j in list(bigram_vocab):\n",
    "    f.write(str(j)+',')\n"
   ]
  },
  {
   "cell_type": "code",
   "execution_count": 11,
   "metadata": {},
   "outputs": [],
   "source": [
    "bigram_vocab=list(pd.read_csv('bigram_vocab.txt',delimiter=',',header=None, dtype=str).to_numpy()[0])\n",
    "column_names=bigram_vocab\n",
    "column_names.insert(0,'Id')"
   ]
  },
  {
   "cell_type": "code",
   "execution_count": 3,
   "metadata": {},
   "outputs": [
    {
     "name": "stderr",
     "output_type": "stream",
     "text": [
      "8690it [2:31:06,  1.04s/it]\n"
     ]
    }
   ],
   "source": [
    "#creating BOW of 2-gram data\n",
    "vector = CountVectorizer(lowercase=False,ngram_range=(2,2), vocabulary=bigram_vocab)\n",
    "with open('train_bigram_BOW1.csv','w') as fp:\n",
    "    write=csv.writer(fp)\n",
    "    write.writerow(column_names)\n",
    "    for i, file in tqdm(enumerate(os.listdir('byteFiles_train'))):\n",
    "        if file.endswith('.bytes'):\n",
    "            name=file.split('.')[0]\n",
    "            f = open('byteFiles_train/' + file)\n",
    "            vec=scipy.sparse.csr_matrix(vector.transform([f.read().replace('\\n', ' ').upper()]))\n",
    "            vec=vec.toarray()[0]\n",
    "            vec=list(vec)\n",
    "            vec.insert(0,name)\n",
    "            write.writerow(vec)\n",
    "            f.close()\n",
    "    fp.close()"
   ]
  },
  {
   "cell_type": "code",
   "execution_count": 4,
   "metadata": {},
   "outputs": [
    {
     "name": "stderr",
     "output_type": "stream",
     "text": [
      "2174it [46:19,  1.28s/it]\n"
     ]
    }
   ],
   "source": [
    "#creating BOW of 2-gram data\n",
    "vector = CountVectorizer(lowercase=False,ngram_range=(2,2), vocabulary=bigram_vocab)\n",
    "with open('test_bigram_BOW1.csv','w') as fp:\n",
    "    write=csv.writer(fp)\n",
    "    write.writerow(column_names)\n",
    "    for i, file in tqdm(enumerate(os.listdir('byteFiles_test'))):\n",
    "        if file.endswith('.bytes'):\n",
    "            name=file.split('.')[0]\n",
    "            f = open('byteFiles_test/' + file)\n",
    "            vec=scipy.sparse.csr_matrix(vector.transform([f.read().replace('\\n', ' ').upper()]))\n",
    "            vec=vec.toarray()[0]\n",
    "            vec=list(vec)\n",
    "            vec.insert(0,name)\n",
    "            write.writerow(vec)\n",
    "            f.close()\n",
    "    fp.close()"
   ]
  },
  {
   "cell_type": "code",
   "execution_count": null,
   "metadata": {},
   "outputs": [],
   "source": [
    "from tqdm import tqdm\n",
    "\n",
    "dictionary=byte_vocab\n",
    "\n",
    "bigram_vocab=set()\n",
    "for w1 in tqdm(dictionary):\n",
    "    for w2 in dictionary:\n",
    "        for w3 in dictionary:\n",
    "            b=str(w1)+' '+str(w2) +str(w3)\n",
    "            bigram_vocab.add(b)\n",
    "\n",
    "f=open('trigram_vocab.txt','w')\n",
    "for j in list(bigram_vocab):\n",
    "    f.write(str(j)+',')\n",
    "#code to get the trigram vocabulary but it has 259*258*257 values which is very huge hence not performing BOW for 3 gram"
   ]
  },
  {
   "cell_type": "markdown",
   "metadata": {},
   "source": [
    "### Creating Image Files from the byte file"
   ]
  },
  {
   "cell_type": "code",
   "execution_count": null,
   "metadata": {},
   "outputs": [],
   "source": [
    "#https://github.com/RezaPurut/convert_malware_bytes_to_img/blob/master/conv_to_img.py\n",
    "import sys\n",
    "import os\n",
    "from math import log\n",
    "import numpy as np\n",
    "import scipy as sp\n",
    "from PIL import Image\n",
    "\n",
    "def saveimg(array,name):\n",
    "    print(name)\n",
    "    print (array.shape)\n",
    "    if array.shape[1]!=16:\n",
    "        assert(False)\n",
    "    b=int((array.shape[0]*16)**(0.5))\n",
    "    b=2**(int(log(b)/log(2))+1)\n",
    "    a=int(array.shape[0]*16/b)\n",
    "    print (a,b,array.shape)\n",
    "    array=array[:int(a*b/16),:]\n",
    "\n",
    "    array=np.reshape(array,(a,b))\n",
    "    #print array.shape\n",
    "    #array = np.uint8(array)\n",
    "    #print array\n",
    "    #array.resize((128,128))\n",
    "     \n",
    "    im = Image.fromarray(np.uint8(array))\n",
    "    im.save('images/'+name[:-6]+'.jpg', \"JPEG\")\n",
    "    \n",
    "files=os.listdir('byteFiles_train')\n",
    "c=0\n",
    "for cc,x in tqdm(enumerate(files)):\n",
    "    if '.bytes' != x[-6:]: #skip .asm file\n",
    "        continue\n",
    "    print (cc)\n",
    "    \n",
    "    f=open('byteFiles_train/'+x)\n",
    "    array=[]\n",
    "    c+=1\n",
    "    for line in f:\n",
    "        xx=line.split()\n",
    "        if len(xx)!=17:\n",
    "            continue\n",
    "        #if xx[1]=='??':\n",
    "        #    break\n",
    "        array.append([int(i,16) if i!='??' else 0 for i in xx[1:] ])\n",
    "    saveimg(np.array(array),x)\n",
    "    shutil.move('byteFiles_train/'+x,'processed_byte')\n",
    "    del array\n",
    "    f.close()\n",
    "    \n",
    "print (c)"
   ]
  },
  {
   "cell_type": "code",
   "execution_count": null,
   "metadata": {},
   "outputs": [],
   "source": [
    "#Extracting the top 200 pixels from the images\n",
    "from PIL import Image\n",
    "\n",
    "folder=os.listdir('bytes_training_images')\n",
    "fp=open('train_byte_pixels.csv','w+')\n",
    "write=csv.writer(fp)\n",
    "for files in tqdm(folder):\n",
    "    if files.endswith('.jpg'):\n",
    "        name=files.split('.')[0]\n",
    "        i=Image.open('bytes_training_images/'+files)\n",
    "        top_pixel=list(i.getdata())[:200]\n",
    "        top_pixel.insert(0,name)\n",
    "        write.writerow(top_pixel)\n",
    "fp.close()"
   ]
  },
  {
   "cell_type": "code",
   "execution_count": null,
   "metadata": {},
   "outputs": [],
   "source": [
    "from PIL import Image\n",
    "\n",
    "folder=os.listdir('bytes_test_images')\n",
    "fp=open('test_byte_pixels.csv','w+')\n",
    "write=csv.writer(fp)\n",
    "for files in tqdm(folder):\n",
    "    if files.endswith('.jpg'):\n",
    "        name=files.split('.')[0]\n",
    "        i=Image.open('bytes_test_images/'+files)\n",
    "        top_pixel=list(i.getdata())[:200]\n",
    "        top_pixel.insert(0,name)\n",
    "        write.writerow(top_pixel)\n",
    "fp.close()"
   ]
  },
  {
   "cell_type": "markdown",
   "metadata": {},
   "source": [
    "### ASM File Features"
   ]
  },
  {
   "cell_type": "code",
   "execution_count": null,
   "metadata": {},
   "outputs": [],
   "source": [
    "#intially create five folders\n",
    "#first \n",
    "#second\n",
    "#thrid\n",
    "#fourth\n",
    "#fifth\n",
    "#this code tells us about random split of files into five folders\n",
    "folder_1 ='first'\n",
    "folder_2 ='second'\n",
    "folder_3 ='third'\n",
    "folder_4 ='fourth'\n",
    "folder_5 ='fifth'\n",
    "folder_6 = 'output'\n",
    "folder_7='processed_byte'\n",
    "for i in [folder_1,folder_2,folder_3,folder_4,folder_5,folder_6,folder_7]:\n",
    "    if not os.path.isdir(i):\n",
    "        os.makedirs(i)\n",
    "\n",
    "source='asmFiles_train/'\n",
    "files = os.listdir('asmFiles_train')\n",
    "data=list(range(0,len(files)))\n",
    "r.shuffle(data)\n",
    "count=0\n",
    "for i in range(0,len(files)):\n",
    "    if i % 4==0:\n",
    "        shutil.move(source+files[data[i]],'first')\n",
    "    elif i%4==1:\n",
    "        shutil.move(source+files[data[i]],'second')\n",
    "    elif i%4 ==2:\n",
    "        shutil.move(source+files[data[i]],'third')\n",
    "    elif i%4 ==3:\n",
    "        shutil.move(source+files[data[i]],'fourth')"
   ]
  },
  {
   "cell_type": "code",
   "execution_count": null,
   "metadata": {},
   "outputs": [],
   "source": [
    "\n",
    "#http://flint.cs.yale.edu/cs421/papers/x86-asm/asm.html\n",
    "\n",
    "def firstprocess():\n",
    "    #The prefixes tells about the segments that are present in the asm files\n",
    "    #There are 450 segments(approx) present in all asm files.\n",
    "    #this prefixes are best segments that gives us best values.\n",
    "    #https://en.wikipedia.org/wiki/Data_segment\n",
    "    \n",
    "    prefixes = ['HEADER:','.text:','.Pav:','.idata:','.data:','.bss:','.rdata:','.edata:','.rsrc:','.tls:','.reloc:','.BSS:','.CODE']\n",
    "    #this are opcodes that are used to get best results\n",
    "    #https://en.wikipedia.org/wiki/X86_instruction_listings\n",
    "    \n",
    "    opcodes = ['jmp', 'mov', 'retf', 'push', 'pop', 'xor', 'retn', 'nop', 'sub', 'inc', 'dec', 'add','imul', 'xchg', 'or', 'shr', 'cmp', 'call', 'shl', 'ror', 'rol', 'jnb','jz','rtn','lea','movzx']\n",
    "    #best keywords that are taken from different blogs\n",
    "    keywords = ['.dll','std::',':dword']\n",
    "    #Below taken registers are general purpose registers and special registers\n",
    "    #All the registers which are taken are best \n",
    "    registers=['edx','esi','eax','ebx','ecx','edi','ebp','esp','eip']\n",
    "    file1=open(\"output\\asmsmallfile.txt\",\"w+\")\n",
    "    files = os.listdir('first')\n",
    "    for f in tqdm(files):\n",
    "        #filling the values with zeros into the arrays\n",
    "        prefixescount=np.zeros(len(prefixes),dtype=int)\n",
    "        opcodescount=np.zeros(len(opcodes),dtype=int)\n",
    "        keywordcount=np.zeros(len(keywords),dtype=int)\n",
    "        registerscount=np.zeros(len(registers),dtype=int)\n",
    "        features=[]\n",
    "        f2=f.split('.')[0]\n",
    "        file1.write(f2+\",\")\n",
    "        #opcodefile.write(f2+\" \")\n",
    "        # https://docs.python.org/3/library/codecs.html#codecs.ignore_errors\n",
    "        # https://docs.python.org/3/library/codecs.html#codecs.Codec.encode\n",
    "        with codecs.open('first/'+f,encoding='cp1252',errors ='replace') as fli:\n",
    "            for lines in fli:\n",
    "                # https://www.tutorialspoint.com/python3/string_rstrip.htm\n",
    "                line=lines.rstrip().split()\n",
    "                l=line[0]\n",
    "                #counting the prefixs in each and every line\n",
    "                for i in range(len(prefixes)):\n",
    "                    if prefixes[i] in line[0]:\n",
    "                        prefixescount[i]+=1\n",
    "                line=line[1:]\n",
    "                #counting the opcodes in each and every line\n",
    "                for i in range(len(opcodes)):\n",
    "                    if any(opcodes[i]==li for li in line):\n",
    "                        features.append(opcodes[i])\n",
    "                        opcodescount[i]+=1\n",
    "                #counting registers in the line\n",
    "                for i in range(len(registers)):\n",
    "                    for li in line:\n",
    "                        # we will use registers only in 'text' and 'CODE' segments\n",
    "                        if registers[i] in li and ('text' in l or 'CODE' in l):\n",
    "                            registerscount[i]+=1\n",
    "                #counting keywords in the line\n",
    "                for i in range(len(keywords)):\n",
    "                    for li in line:\n",
    "                        if keywords[i] in li:\n",
    "                            keywordcount[i]+=1\n",
    "        #pushing the values into the file after reading whole file\n",
    "        for prefix in prefixescount:\n",
    "            file1.write(str(prefix)+\",\")\n",
    "        for opcode in opcodescount:\n",
    "            file1.write(str(opcode)+\",\")\n",
    "        for register in registerscount:\n",
    "            file1.write(str(register)+\",\")\n",
    "        for key in keywordcount:\n",
    "            file1.write(str(key)+\",\")\n",
    "        file1.write(\"\\n\")\n",
    "        shutil.move('first/'+f,'processed_byte/'+f)\n",
    "    file1.close()\n",
    "\n",
    "\n",
    "#same as above \n",
    "def secondprocess():\n",
    "    prefixes = ['HEADER:','.text:','.Pav:','.idata:','.data:','.bss:','.rdata:','.edata:','.rsrc:','.tls:','.reloc:','.BSS:','.CODE']\n",
    "    opcodes = ['jmp', 'mov', 'retf', 'push', 'pop', 'xor', 'retn', 'nop', 'sub', 'inc', 'dec', 'add','imul', 'xchg', 'or', 'shr', 'cmp', 'call', 'shl', 'ror', 'rol', 'jnb','jz','rtn','lea','movzx']\n",
    "    keywords = ['.dll','std::',':dword']\n",
    "    registers=['edx','esi','eax','ebx','ecx','edi','ebp','esp','eip']\n",
    "    file1=open(\"output\\mediumasmfile.txt\",\"w+\")\n",
    "    files = os.listdir('second')\n",
    "    for f in tqdm(files):\n",
    "        prefixescount=np.zeros(len(prefixes),dtype=int)\n",
    "        opcodescount=np.zeros(len(opcodes),dtype=int)\n",
    "        keywordcount=np.zeros(len(keywords),dtype=int)\n",
    "        registerscount=np.zeros(len(registers),dtype=int)\n",
    "        features=[]\n",
    "        f2=f.split('.')[0]\n",
    "        file1.write(f2+\",\")\n",
    "        #opcodefile.write(f2+\" \")\n",
    "        with codecs.open('second/'+f,encoding='cp1252',errors ='replace') as fli:\n",
    "            for lines in fli:\n",
    "                line=lines.rstrip().split()\n",
    "                l=line[0]\n",
    "                for i in range(len(prefixes)):\n",
    "                    if prefixes[i] in line[0]:\n",
    "                        prefixescount[i]+=1\n",
    "                line=line[1:]\n",
    "                for i in range(len(opcodes)):\n",
    "                    if any(opcodes[i]==li for li in line):\n",
    "                        features.append(opcodes[i])\n",
    "                        opcodescount[i]+=1\n",
    "                for i in range(len(registers)):\n",
    "                    for li in line:\n",
    "                        if registers[i] in li and ('text' in l or 'CODE' in l):\n",
    "                            registerscount[i]+=1\n",
    "                for i in range(len(keywords)):\n",
    "                    for li in line:\n",
    "                        if keywords[i] in li:\n",
    "                            keywordcount[i]+=1\n",
    "        for prefix in prefixescount:\n",
    "            file1.write(str(prefix)+\",\")\n",
    "        for opcode in opcodescount:\n",
    "            file1.write(str(opcode)+\",\")\n",
    "        for register in registerscount:\n",
    "            file1.write(str(register)+\",\")\n",
    "        for key in keywordcount:\n",
    "            file1.write(str(key)+\",\")\n",
    "        file1.write(\"\\n\")\n",
    "        shutil.move('second/'+f,'processed_byte/'+f)\n",
    "    file1.close()\n",
    "\n",
    "# same as smallprocess() functions\n",
    "def thirdprocess():\n",
    "    prefixes = ['HEADER:','.text:','.Pav:','.idata:','.data:','.bss:','.rdata:','.edata:','.rsrc:','.tls:','.reloc:','.BSS:','.CODE']\n",
    "    opcodes = ['jmp', 'mov', 'retf', 'push', 'pop', 'xor', 'retn', 'nop', 'sub', 'inc', 'dec', 'add','imul', 'xchg', 'or', 'shr', 'cmp', 'call', 'shl', 'ror', 'rol', 'jnb','jz','rtn','lea','movzx']\n",
    "    keywords = ['.dll','std::',':dword']\n",
    "    registers=['edx','esi','eax','ebx','ecx','edi','ebp','esp','eip']\n",
    "    file1=open(\"output\\largeasmfile.txt\",\"w+\")\n",
    "    files = os.listdir('third')\n",
    "    for f in tqdm(files):\n",
    "        prefixescount=np.zeros(len(prefixes),dtype=int)\n",
    "        opcodescount=np.zeros(len(opcodes),dtype=int)\n",
    "        keywordcount=np.zeros(len(keywords),dtype=int)\n",
    "        registerscount=np.zeros(len(registers),dtype=int)\n",
    "        features=[]\n",
    "        f2=f.split('.')[0]\n",
    "        file1.write(f2+\",\")\n",
    "        #opcodefile.write(f2+\" \")\n",
    "        with codecs.open('third/'+f,encoding='cp1252',errors ='replace') as fli:\n",
    "            for lines in fli:\n",
    "                line=lines.rstrip().split()\n",
    "                l=line[0]\n",
    "                for i in range(len(prefixes)):\n",
    "                    if prefixes[i] in line[0]:\n",
    "                        prefixescount[i]+=1\n",
    "                line=line[1:]\n",
    "                for i in range(len(opcodes)):\n",
    "                    if any(opcodes[i]==li for li in line):\n",
    "                        features.append(opcodes[i])\n",
    "                        opcodescount[i]+=1\n",
    "                for i in range(len(registers)):\n",
    "                    for li in line:\n",
    "                        if registers[i] in li and ('text' in l or 'CODE' in l):\n",
    "                            registerscount[i]+=1\n",
    "                for i in range(len(keywords)):\n",
    "                    for li in line:\n",
    "                        if keywords[i] in li:\n",
    "                            keywordcount[i]+=1\n",
    "        for prefix in prefixescount:\n",
    "            file1.write(str(prefix)+\",\")\n",
    "        for opcode in opcodescount:\n",
    "            file1.write(str(opcode)+\",\")\n",
    "        for register in registerscount:\n",
    "            file1.write(str(register)+\",\")\n",
    "        for key in keywordcount:\n",
    "            file1.write(str(key)+\",\")\n",
    "        file1.write(\"\\n\")\n",
    "        shutil.move('third/'+f,'processed_byte/'+f)\n",
    "    file1.close()\n",
    "\n",
    "\n",
    "def fourthprocess():\n",
    "    prefixes = ['HEADER:','.text:','.Pav:','.idata:','.data:','.bss:','.rdata:','.edata:','.rsrc:','.tls:','.reloc:','.BSS:','.CODE']\n",
    "    opcodes = ['jmp', 'mov', 'retf', 'push', 'pop', 'xor', 'retn', 'nop', 'sub', 'inc', 'dec', 'add','imul', 'xchg', 'or', 'shr', 'cmp', 'call', 'shl', 'ror', 'rol', 'jnb','jz','rtn','lea','movzx']\n",
    "    keywords = ['.dll','std::',':dword']\n",
    "    registers=['edx','esi','eax','ebx','ecx','edi','ebp','esp','eip']\n",
    "    file1=open(\"output\\hugeasmfile.txt\",\"w+\")\n",
    "    files = os.listdir('fourth/')\n",
    "    for f in tqdm(files):\n",
    "        prefixescount=np.zeros(len(prefixes),dtype=int)\n",
    "        opcodescount=np.zeros(len(opcodes),dtype=int)\n",
    "        keywordcount=np.zeros(len(keywords),dtype=int)\n",
    "        registerscount=np.zeros(len(registers),dtype=int)\n",
    "        features=[]\n",
    "        f2=f.split('.')[0]\n",
    "        file1.write(f2+\",\")\n",
    "        #opcodefile.write(f2+\" \")\n",
    "        with codecs.open('fourth/'+f,encoding='cp1252',errors ='replace') as fli:\n",
    "            for lines in fli:\n",
    "                line=lines.rstrip().split()\n",
    "                l=line[0]\n",
    "                for i in range(len(prefixes)):\n",
    "                    if prefixes[i] in line[0]:\n",
    "                        prefixescount[i]+=1\n",
    "                line=line[1:]\n",
    "                for i in range(len(opcodes)):\n",
    "                    if any(opcodes[i]==li for li in line):\n",
    "                        features.append(opcodes[i])\n",
    "                        opcodescount[i]+=1\n",
    "                for i in range(len(registers)):\n",
    "                    for li in line:\n",
    "                        if registers[i] in li and ('text' in l or 'CODE' in l):\n",
    "                            registerscount[i]+=1\n",
    "                for i in range(len(keywords)):\n",
    "                    for li in line:\n",
    "                        if keywords[i] in li:\n",
    "                            keywordcount[i]+=1\n",
    "        for prefix in prefixescount:\n",
    "            file1.write(str(prefix)+\",\")\n",
    "        for opcode in opcodescount:\n",
    "            file1.write(str(opcode)+\",\")\n",
    "        for register in registerscount:\n",
    "            file1.write(str(register)+\",\")\n",
    "        for key in keywordcount:\n",
    "            file1.write(str(key)+\",\")\n",
    "        file1.write(\"\\n\")\n",
    "        shutil.move('fourth/'+f,'processed_byte/'+f)\n",
    "    file1.close()\n",
    "\n",
    "\n",
    "\n",
    "\n",
    "\n",
    "def main():\n",
    "    #the below code is used for multiprogramming\n",
    "    #the number of process depends upon the number of cores present System\n",
    "    #process is used to call multiprogramming\n",
    "    manager=multiprocessing.Manager() \t\n",
    "    p1=Process(target=firstprocess)\n",
    "    p2=Process(target=secondprocess)\n",
    "    p3=Process(target=thirdprocess)\n",
    "    p4=Process(target=fourthprocess)\n",
    "    #p1.start() is used to start the thread execution\n",
    "    p1.start()\n",
    "    p2.start()\n",
    "    p3.start()\n",
    "    p4.start()\n",
    "    #After completion all the threads are joined\n",
    "    p1.join()\n",
    "    p2.join()\n",
    "    p3.join()\n",
    "    p4.join()\n",
    "\n",
    "if __name__==\"__main__\":\n",
    "    print('Started')\n",
    "    main()\n",
    "    print('Completed')"
   ]
  },
  {
   "cell_type": "code",
   "execution_count": 223,
   "metadata": {},
   "outputs": [],
   "source": [
    "#intially create five folders\n",
    "#first \n",
    "#second\n",
    "#thrid\n",
    "#fourth\n",
    "#fifth\n",
    "#this code tells us about random split of files into five folders\n",
    "folder_1 ='first'\n",
    "folder_2 ='second'\n",
    "folder_3 ='third'\n",
    "folder_4 ='fourth'\n",
    "folder_5 ='fifth'\n",
    "folder_6 = 'output'\n",
    "folder_7='processed_byte'\n",
    "for i in [folder_1,folder_2,folder_3,folder_4,folder_5,folder_6,folder_7]:\n",
    "    if not os.path.isdir(i):\n",
    "        os.makedirs(i)\n",
    "\n",
    "source='asmFiles_test/'\n",
    "files = os.listdir('asmFiles_test')\n",
    "data=list(range(0,len(files)))\n",
    "r.shuffle(data)\n",
    "count=0\n",
    "for i in range(0,len(files)):\n",
    "    if i % 4==0:\n",
    "        shutil.move(source+files[data[i]],'first')\n",
    "    elif i%4==1:\n",
    "        shutil.move(source+files[data[i]],'second')\n",
    "    elif i%4 ==2:\n",
    "        shutil.move(source+files[data[i]],'third')\n",
    "    elif i%4 ==3:\n",
    "        shutil.move(source+files[data[i]],'fourth')"
   ]
  },
  {
   "cell_type": "code",
   "execution_count": 224,
   "metadata": {},
   "outputs": [
    {
     "name": "stdout",
     "output_type": "stream",
     "text": [
      "Started\n"
     ]
    },
    {
     "name": "stderr",
     "output_type": "stream",
     "text": [
      "100%|██████████████████████████████████████████████████████████████████████| 543/543 [1:48:55<00:00, 12.04s/it]\n",
      "100%|██████████████████████████████████████████████████████████████████████| 544/544 [1:58:57<00:00, 13.12s/it]\n",
      "100%|██████████████████████████████████████████████████████████████████████| 544/544 [2:01:39<00:00, 13.42s/it]\n",
      "100%|██████████████████████████████████████████████████████████████████████| 543/543 [2:02:37<00:00, 13.55s/it]\n"
     ]
    },
    {
     "name": "stdout",
     "output_type": "stream",
     "text": [
      "Completed\n"
     ]
    }
   ],
   "source": [
    "\n",
    "#http://flint.cs.yale.edu/cs421/papers/x86-asm/asm.html\n",
    "\n",
    "def firstprocess():\n",
    "    #The prefixes tells about the segments that are present in the asm files\n",
    "    #There are 450 segments(approx) present in all asm files.\n",
    "    #this prefixes are best segments that gives us best values.\n",
    "    #https://en.wikipedia.org/wiki/Data_segment\n",
    "    \n",
    "    prefixes = ['HEADER:','.text:','.Pav:','.idata:','.data:','.bss:','.rdata:','.edata:','.rsrc:','.tls:','.reloc:','.BSS:','.CODE']\n",
    "    #this are opcodes that are used to get best results\n",
    "    #https://en.wikipedia.org/wiki/X86_instruction_listings\n",
    "    \n",
    "    opcodes = ['jmp', 'mov', 'retf', 'push', 'pop', 'xor', 'retn', 'nop', 'sub', 'inc', 'dec', 'add','imul', 'xchg', 'or', 'shr', 'cmp', 'call', 'shl', 'ror', 'rol', 'jnb','jz','rtn','lea','movzx']\n",
    "    #best keywords that are taken from different blogs\n",
    "    keywords = ['.dll','std::',':dword']\n",
    "    #Below taken registers are general purpose registers and special registers\n",
    "    #All the registers which are taken are best \n",
    "    registers=['edx','esi','eax','ebx','ecx','edi','ebp','esp','eip']\n",
    "    file1=open(\"test_asm_file_output1.txt\",\"w+\")\n",
    "    files = os.listdir('first')\n",
    "    for f in tqdm(files):\n",
    "        #filling the values with zeros into the arrays\n",
    "        prefixescount=np.zeros(len(prefixes),dtype=int)\n",
    "        opcodescount=np.zeros(len(opcodes),dtype=int)\n",
    "        keywordcount=np.zeros(len(keywords),dtype=int)\n",
    "        registerscount=np.zeros(len(registers),dtype=int)\n",
    "        features=[]\n",
    "        f2=f.split('.')[0]\n",
    "        file1.write(f2+\",\")\n",
    "        #opcodefile.write(f2+\" \")\n",
    "        # https://docs.python.org/3/library/codecs.html#codecs.ignore_errors\n",
    "        # https://docs.python.org/3/library/codecs.html#codecs.Codec.encode\n",
    "        with codecs.open('first/'+f,encoding='cp1252',errors ='replace') as fli:\n",
    "            for lines in fli:\n",
    "                # https://www.tutorialspoint.com/python3/string_rstrip.htm\n",
    "                line=lines.rstrip().split()\n",
    "                l=line[0]\n",
    "                #counting the prefixs in each and every line\n",
    "                for i in range(len(prefixes)):\n",
    "                    if prefixes[i] in line[0]:\n",
    "                        prefixescount[i]+=1\n",
    "                line=line[1:]\n",
    "                #counting the opcodes in each and every line\n",
    "                for i in range(len(opcodes)):\n",
    "                    if any(opcodes[i]==li for li in line):\n",
    "                        features.append(opcodes[i])\n",
    "                        opcodescount[i]+=1\n",
    "                #counting registers in the line\n",
    "                for i in range(len(registers)):\n",
    "                    for li in line:\n",
    "                        # we will use registers only in 'text' and 'CODE' segments\n",
    "                        if registers[i] in li and ('text' in l or 'CODE' in l):\n",
    "                            registerscount[i]+=1\n",
    "                #counting keywords in the line\n",
    "                for i in range(len(keywords)):\n",
    "                    for li in line:\n",
    "                        if keywords[i] in li:\n",
    "                            keywordcount[i]+=1\n",
    "        #pushing the values into the file after reading whole file\n",
    "        for prefix in prefixescount:\n",
    "            file1.write(str(prefix)+\",\")\n",
    "        for opcode in opcodescount:\n",
    "            file1.write(str(opcode)+\",\")\n",
    "        for register in registerscount:\n",
    "            file1.write(str(register)+\",\")\n",
    "        for key in keywordcount:\n",
    "            file1.write(str(key)+\",\")\n",
    "        file1.write(\"\\n\")\n",
    "        shutil.move('first/'+f,'processed_byte/'+f)\n",
    "    file1.close()\n",
    "\n",
    "\n",
    "#same as above \n",
    "def secondprocess():\n",
    "    prefixes = ['HEADER:','.text:','.Pav:','.idata:','.data:','.bss:','.rdata:','.edata:','.rsrc:','.tls:','.reloc:','.BSS:','.CODE']\n",
    "    opcodes = ['jmp', 'mov', 'retf', 'push', 'pop', 'xor', 'retn', 'nop', 'sub', 'inc', 'dec', 'add','imul', 'xchg', 'or', 'shr', 'cmp', 'call', 'shl', 'ror', 'rol', 'jnb','jz','rtn','lea','movzx']\n",
    "    keywords = ['.dll','std::',':dword']\n",
    "    registers=['edx','esi','eax','ebx','ecx','edi','ebp','esp','eip']\n",
    "    file1=open(\"test_asm_file_output2.txt\",\"w+\")\n",
    "    files = os.listdir('second')\n",
    "    for f in tqdm(files):\n",
    "        prefixescount=np.zeros(len(prefixes),dtype=int)\n",
    "        opcodescount=np.zeros(len(opcodes),dtype=int)\n",
    "        keywordcount=np.zeros(len(keywords),dtype=int)\n",
    "        registerscount=np.zeros(len(registers),dtype=int)\n",
    "        features=[]\n",
    "        f2=f.split('.')[0]\n",
    "        file1.write(f2+\",\")\n",
    "        #opcodefile.write(f2+\" \")\n",
    "        with codecs.open('second/'+f,encoding='cp1252',errors ='replace') as fli:\n",
    "            for lines in fli:\n",
    "                line=lines.rstrip().split()\n",
    "                l=line[0]\n",
    "                for i in range(len(prefixes)):\n",
    "                    if prefixes[i] in line[0]:\n",
    "                        prefixescount[i]+=1\n",
    "                line=line[1:]\n",
    "                for i in range(len(opcodes)):\n",
    "                    if any(opcodes[i]==li for li in line):\n",
    "                        features.append(opcodes[i])\n",
    "                        opcodescount[i]+=1\n",
    "                for i in range(len(registers)):\n",
    "                    for li in line:\n",
    "                        if registers[i] in li and ('text' in l or 'CODE' in l):\n",
    "                            registerscount[i]+=1\n",
    "                for i in range(len(keywords)):\n",
    "                    for li in line:\n",
    "                        if keywords[i] in li:\n",
    "                            keywordcount[i]+=1\n",
    "        for prefix in prefixescount:\n",
    "            file1.write(str(prefix)+\",\")\n",
    "        for opcode in opcodescount:\n",
    "            file1.write(str(opcode)+\",\")\n",
    "        for register in registerscount:\n",
    "            file1.write(str(register)+\",\")\n",
    "        for key in keywordcount:\n",
    "            file1.write(str(key)+\",\")\n",
    "        file1.write(\"\\n\")\n",
    "        shutil.move('second/'+f,'processed_byte/'+f)\n",
    "    file1.close()\n",
    "\n",
    "# same as smallprocess() functions\n",
    "def thirdprocess():\n",
    "    prefixes = ['HEADER:','.text:','.Pav:','.idata:','.data:','.bss:','.rdata:','.edata:','.rsrc:','.tls:','.reloc:','.BSS:','.CODE']\n",
    "    opcodes = ['jmp', 'mov', 'retf', 'push', 'pop', 'xor', 'retn', 'nop', 'sub', 'inc', 'dec', 'add','imul', 'xchg', 'or', 'shr', 'cmp', 'call', 'shl', 'ror', 'rol', 'jnb','jz','rtn','lea','movzx']\n",
    "    keywords = ['.dll','std::',':dword']\n",
    "    registers=['edx','esi','eax','ebx','ecx','edi','ebp','esp','eip']\n",
    "    file1=open(\"test_asm_file_output3.txt\",\"w+\")\n",
    "    files = os.listdir('third')\n",
    "    for f in tqdm(files):\n",
    "        prefixescount=np.zeros(len(prefixes),dtype=int)\n",
    "        opcodescount=np.zeros(len(opcodes),dtype=int)\n",
    "        keywordcount=np.zeros(len(keywords),dtype=int)\n",
    "        registerscount=np.zeros(len(registers),dtype=int)\n",
    "        features=[]\n",
    "        f2=f.split('.')[0]\n",
    "        file1.write(f2+\",\")\n",
    "        #opcodefile.write(f2+\" \")\n",
    "        with codecs.open('third/'+f,encoding='cp1252',errors ='replace') as fli:\n",
    "            for lines in fli:\n",
    "                line=lines.rstrip().split()\n",
    "                l=line[0]\n",
    "                for i in range(len(prefixes)):\n",
    "                    if prefixes[i] in line[0]:\n",
    "                        prefixescount[i]+=1\n",
    "                line=line[1:]\n",
    "                for i in range(len(opcodes)):\n",
    "                    if any(opcodes[i]==li for li in line):\n",
    "                        features.append(opcodes[i])\n",
    "                        opcodescount[i]+=1\n",
    "                for i in range(len(registers)):\n",
    "                    for li in line:\n",
    "                        if registers[i] in li and ('text' in l or 'CODE' in l):\n",
    "                            registerscount[i]+=1\n",
    "                for i in range(len(keywords)):\n",
    "                    for li in line:\n",
    "                        if keywords[i] in li:\n",
    "                            keywordcount[i]+=1\n",
    "        for prefix in prefixescount:\n",
    "            file1.write(str(prefix)+\",\")\n",
    "        for opcode in opcodescount:\n",
    "            file1.write(str(opcode)+\",\")\n",
    "        for register in registerscount:\n",
    "            file1.write(str(register)+\",\")\n",
    "        for key in keywordcount:\n",
    "            file1.write(str(key)+\",\")\n",
    "        file1.write(\"\\n\")\n",
    "        shutil.move('third/'+f,'processed_byte/'+f)\n",
    "    file1.close()\n",
    "\n",
    "\n",
    "def fourthprocess():\n",
    "    prefixes = ['HEADER:','.text:','.Pav:','.idata:','.data:','.bss:','.rdata:','.edata:','.rsrc:','.tls:','.reloc:','.BSS:','.CODE']\n",
    "    opcodes = ['jmp', 'mov', 'retf', 'push', 'pop', 'xor', 'retn', 'nop', 'sub', 'inc', 'dec', 'add','imul', 'xchg', 'or', 'shr', 'cmp', 'call', 'shl', 'ror', 'rol', 'jnb','jz','rtn','lea','movzx']\n",
    "    keywords = ['.dll','std::',':dword']\n",
    "    registers=['edx','esi','eax','ebx','ecx','edi','ebp','esp','eip']\n",
    "    file1=open(\"test_asm_file_output4\",\"w+\")\n",
    "    files = os.listdir('fourth/')\n",
    "    for f in tqdm(files):\n",
    "        prefixescount=np.zeros(len(prefixes),dtype=int)\n",
    "        opcodescount=np.zeros(len(opcodes),dtype=int)\n",
    "        keywordcount=np.zeros(len(keywords),dtype=int)\n",
    "        registerscount=np.zeros(len(registers),dtype=int)\n",
    "        features=[]\n",
    "        f2=f.split('.')[0]\n",
    "        file1.write(f2+\",\")\n",
    "        #opcodefile.write(f2+\" \")\n",
    "        with codecs.open('fourth/'+f,encoding='cp1252',errors ='replace') as fli:\n",
    "            for lines in fli:\n",
    "                line=lines.rstrip().split()\n",
    "                l=line[0]\n",
    "                for i in range(len(prefixes)):\n",
    "                    if prefixes[i] in line[0]:\n",
    "                        prefixescount[i]+=1\n",
    "                line=line[1:]\n",
    "                for i in range(len(opcodes)):\n",
    "                    if any(opcodes[i]==li for li in line):\n",
    "                        features.append(opcodes[i])\n",
    "                        opcodescount[i]+=1\n",
    "                for i in range(len(registers)):\n",
    "                    for li in line:\n",
    "                        if registers[i] in li and ('text' in l or 'CODE' in l):\n",
    "                            registerscount[i]+=1\n",
    "                for i in range(len(keywords)):\n",
    "                    for li in line:\n",
    "                        if keywords[i] in li:\n",
    "                            keywordcount[i]+=1\n",
    "        for prefix in prefixescount:\n",
    "            file1.write(str(prefix)+\",\")\n",
    "        for opcode in opcodescount:\n",
    "            file1.write(str(opcode)+\",\")\n",
    "        for register in registerscount:\n",
    "            file1.write(str(register)+\",\")\n",
    "        for key in keywordcount:\n",
    "            file1.write(str(key)+\",\")\n",
    "        file1.write(\"\\n\")\n",
    "        shutil.move('fourth/'+f,'processed_byte/'+f)\n",
    "    file1.close()\n",
    "\n",
    "\n",
    "\n",
    "\n",
    "\n",
    "def main():\n",
    "    #the below code is used for multiprogramming\n",
    "    #the number of process depends upon the number of cores present System\n",
    "    #process is used to call multiprogramming\n",
    "    manager=multiprocessing.Manager() \t\n",
    "    p1=Process(target=firstprocess)\n",
    "    p2=Process(target=secondprocess)\n",
    "    p3=Process(target=thirdprocess)\n",
    "    p4=Process(target=fourthprocess)\n",
    "    #p1.start() is used to start the thread execution\n",
    "    p1.start()\n",
    "    p2.start()\n",
    "    p3.start()\n",
    "    p4.start()\n",
    "    #After completion all the threads are joined\n",
    "    p1.join()\n",
    "    p2.join()\n",
    "    p3.join()\n",
    "    p4.join()\n",
    "\n",
    "if __name__==\"__main__\":\n",
    "    print('Started')\n",
    "    main()\n",
    "    print('Completed')"
   ]
  },
  {
   "cell_type": "markdown",
   "metadata": {},
   "source": [
    "# Total List of Features\n",
    "### Byte Files\n",
    "- BOW\n",
    "- File Size\n",
    "- BiGram BOW\n",
    "- 200 Pixels of Images\n",
    "\n",
    "### ASM Files\n",
    "- ASM file Size\n",
    "- ASM Top Features which were decided after research"
   ]
  },
  {
   "cell_type": "code",
   "execution_count": 12,
   "metadata": {},
   "outputs": [],
   "source": [
    "#Creating individual DF's of each features\n",
    "def df_creator(header_name1, file_name2):\n",
    "    header=list(pd.read_csv(header_name1,delimiter=',',header=None, dtype=str).to_numpy()[0])\n",
    "    header.insert(0,'Id')\n",
    "    df=pd.read_csv(file_name2,delimiter=',',header=None)\n",
    "    col_names=dict(zip(list(range(len(header))),header))\n",
    "    df.rename(columns=col_names, inplace=True)\n",
    "    return df"
   ]
  },
  {
   "cell_type": "code",
   "execution_count": 13,
   "metadata": {},
   "outputs": [],
   "source": [
    "#Training and test BOW\n",
    "training_bow_bytes=df_creator('bytes_hexa_vocab.txt','train_bytes_BOW.csv')\n",
    "test_bow_bytes=df_creator('bytes_hexa_vocab.txt','test_bytes_BOW.csv')"
   ]
  },
  {
   "cell_type": "code",
   "execution_count": 14,
   "metadata": {},
   "outputs": [],
   "source": [
    "header=list(pd.read_csv('bytes_hexa_vocab.txt',delimiter=',',header=None, dtype=str).to_numpy()[0])\n",
    "header.insert(0,'Id')"
   ]
  },
  {
   "cell_type": "code",
   "execution_count": 12,
   "metadata": {},
   "outputs": [],
   "source": [
    "#Training Bi Gram BOW\n"
   ]
  },
  {
   "cell_type": "code",
   "execution_count": 10,
   "metadata": {},
   "outputs": [],
   "source": [
    "#Test Bi Gram BOW\n",
    "'''test_bigram_bow_bytes=dd.read_csv('test_bigram_BOW1.csv',delimiter=',',sample=1000000).to_dask_array(lengths=True)'''\n",
    "#Already extracted the top 2000 features and saved them as a pickle file"
   ]
  },
  {
   "cell_type": "code",
   "execution_count": 15,
   "metadata": {},
   "outputs": [
    {
     "data": {
      "text/html": [
       "<div>\n",
       "<style scoped>\n",
       "    .dataframe tbody tr th:only-of-type {\n",
       "        vertical-align: middle;\n",
       "    }\n",
       "\n",
       "    .dataframe tbody tr th {\n",
       "        vertical-align: top;\n",
       "    }\n",
       "\n",
       "    .dataframe thead th {\n",
       "        text-align: right;\n",
       "    }\n",
       "</style>\n",
       "<table border=\"1\" class=\"dataframe\">\n",
       "  <thead>\n",
       "    <tr style=\"text-align: right;\">\n",
       "      <th></th>\n",
       "      <th>ID</th>\n",
       "      <th>size</th>\n",
       "      <th>Class</th>\n",
       "    </tr>\n",
       "  </thead>\n",
       "  <tbody>\n",
       "    <tr>\n",
       "      <th>0</th>\n",
       "      <td>G9tcxvXL8sZAjU72zYOg</td>\n",
       "      <td>0.594727</td>\n",
       "      <td>4</td>\n",
       "    </tr>\n",
       "    <tr>\n",
       "      <th>1</th>\n",
       "      <td>iEhMwSYF4f7O6clnzgv0</td>\n",
       "      <td>0.523926</td>\n",
       "      <td>1</td>\n",
       "    </tr>\n",
       "    <tr>\n",
       "      <th>2</th>\n",
       "      <td>351BNOEjS9pHWAqhJQdD</td>\n",
       "      <td>1.118652</td>\n",
       "      <td>8</td>\n",
       "    </tr>\n",
       "    <tr>\n",
       "      <th>3</th>\n",
       "      <td>4eC9LmdHc6pRoP8BtTGv</td>\n",
       "      <td>8.099609</td>\n",
       "      <td>3</td>\n",
       "    </tr>\n",
       "    <tr>\n",
       "      <th>4</th>\n",
       "      <td>HQCNdPn3ytMDrB96b8kX</td>\n",
       "      <td>8.099609</td>\n",
       "      <td>3</td>\n",
       "    </tr>\n",
       "    <tr>\n",
       "      <th>...</th>\n",
       "      <td>...</td>\n",
       "      <td>...</td>\n",
       "      <td>...</td>\n",
       "    </tr>\n",
       "    <tr>\n",
       "      <th>2169</th>\n",
       "      <td>fVWAtl7QsixdmThDBu4C</td>\n",
       "      <td>4.984375</td>\n",
       "      <td>9</td>\n",
       "    </tr>\n",
       "    <tr>\n",
       "      <th>2170</th>\n",
       "      <td>JNez4Z10tfKa52BDCkVb</td>\n",
       "      <td>8.099609</td>\n",
       "      <td>3</td>\n",
       "    </tr>\n",
       "    <tr>\n",
       "      <th>2171</th>\n",
       "      <td>fRTmEnxQVBYjkUZ0C3t4</td>\n",
       "      <td>0.424805</td>\n",
       "      <td>1</td>\n",
       "    </tr>\n",
       "    <tr>\n",
       "      <th>2172</th>\n",
       "      <td>Hte5fWBMP8GvoLnVK3TR</td>\n",
       "      <td>6.513672</td>\n",
       "      <td>2</td>\n",
       "    </tr>\n",
       "    <tr>\n",
       "      <th>2173</th>\n",
       "      <td>djHpkGZoE0n64ub7WPer</td>\n",
       "      <td>4.154266</td>\n",
       "      <td>2</td>\n",
       "    </tr>\n",
       "  </tbody>\n",
       "</table>\n",
       "<p>2174 rows × 3 columns</p>\n",
       "</div>"
      ],
      "text/plain": [
       "                        ID      size  Class\n",
       "0     G9tcxvXL8sZAjU72zYOg  0.594727      4\n",
       "1     iEhMwSYF4f7O6clnzgv0  0.523926      1\n",
       "2     351BNOEjS9pHWAqhJQdD  1.118652      8\n",
       "3     4eC9LmdHc6pRoP8BtTGv  8.099609      3\n",
       "4     HQCNdPn3ytMDrB96b8kX  8.099609      3\n",
       "...                    ...       ...    ...\n",
       "2169  fVWAtl7QsixdmThDBu4C  4.984375      9\n",
       "2170  JNez4Z10tfKa52BDCkVb  8.099609      3\n",
       "2171  fRTmEnxQVBYjkUZ0C3t4  0.424805      1\n",
       "2172  Hte5fWBMP8GvoLnVK3TR  6.513672      2\n",
       "2173  djHpkGZoE0n64ub7WPer  4.154266      2\n",
       "\n",
       "[2174 rows x 3 columns]"
      ]
     },
     "execution_count": 15,
     "metadata": {},
     "output_type": "execute_result"
    }
   ],
   "source": [
    "#Already run the code to extract this\n",
    "#Training and test Byte Size\n",
    "train_data_size_byte\n",
    "test_data_size_byte"
   ]
  },
  {
   "cell_type": "code",
   "execution_count": 16,
   "metadata": {},
   "outputs": [],
   "source": [
    "#Training 200 pixels from Byte Files\n",
    "train_image_byte=pd.read_csv('train_byte_pixels.csv',delimiter=',',header=None)\n",
    "header=list(np.arange(200).astype(str))\n",
    "header.insert(0,'Id')\n",
    "train_image_byte=train_image_byte.rename(columns=dict(zip(train_image_byte.columns, header)))"
   ]
  },
  {
   "cell_type": "code",
   "execution_count": null,
   "metadata": {},
   "outputs": [],
   "source": []
  },
  {
   "cell_type": "code",
   "execution_count": 17,
   "metadata": {},
   "outputs": [],
   "source": [
    "test_image_byte=pd.read_csv('test_byte_pixels.csv',delimiter=',',header=None, dtype=str)\n",
    "header=list(np.arange(200).astype(str))\n",
    "header.insert(0,'Id')\n",
    "test_image_byte=test_image_byte.rename(columns=dict(zip(test_image_byte.columns, header)))"
   ]
  },
  {
   "cell_type": "code",
   "execution_count": 216,
   "metadata": {},
   "outputs": [],
   "source": [
    "'''folder=train_bigram_bow_bytes_top_2000['Id']\n",
    "for files in folder:\n",
    "    shutil.move('processed_byte/'+files+'.txt','asmFiles_train/'+files+'.txt')'''"
   ]
  },
  {
   "cell_type": "code",
   "execution_count": null,
   "metadata": {},
   "outputs": [],
   "source": []
  },
  {
   "cell_type": "code",
   "execution_count": 217,
   "metadata": {},
   "outputs": [
    {
     "name": "stdout",
     "output_type": "stream",
     "text": [
      "                     Id       size  Class\n",
      "0  A7g1E4jMhaFSwliBqHnX   0.170509      7\n",
      "1  gNrGv32aJfY47A8OuB9M  90.829384      2\n",
      "2  9gpKWS6osX5Fq8E4UCLr   0.925829      8\n",
      "3  598Ro4nwxeQOSHvAsgXm   7.748689      9\n",
      "4  7aS2U5b9AICGFQzplOx4  28.313059      2\n"
     ]
    }
   ],
   "source": [
    "#Extracting Size from the ASM files\n",
    "#file sizes of train byte files\n",
    "\n",
    "files=os.listdir('asmFiles_train')\n",
    "filenames=Y['Id'].tolist()\n",
    "class_y=Y['Class'].tolist()\n",
    "class_bytes=[]\n",
    "sizebytes=[]\n",
    "fnames=[]\n",
    "for file in files:\n",
    "    # print(os.stat('byteFiles/0A32eTdBKayjCWhZqDOQ.txt'))\n",
    "    # os.stat_result(st_mode=33206, st_ino=1125899906874507, st_dev=3561571700, st_nlink=1, st_uid=0, st_gid=0, \n",
    "    # st_size=3680109, st_atime=1519638522, st_mtime=1519638522, st_ctime=1519638522)\n",
    "    # read more about os.stat: here https://www.tutorialspoint.com/python/os_stat.htm\n",
    "    statinfo=os.stat('asmFiles_train/'+file)\n",
    "    # split the file name at '.' and take the first part of it i.e the file name\n",
    "    file=file.split('.')[0]\n",
    "    if any(file == filename for filename in filenames):\n",
    "        i=filenames.index(file)\n",
    "        class_bytes.append(class_y[i])\n",
    "        # converting into Mb's\n",
    "        sizebytes.append(statinfo.st_size/(1024.0*1024.0))\n",
    "        fnames.append(file)\n",
    "train_data_size_asm=pd.DataFrame({'Id':fnames,'size':sizebytes,'Class':class_bytes})\n",
    "print (train_data_size_asm.head())"
   ]
  },
  {
   "cell_type": "code",
   "execution_count": 218,
   "metadata": {},
   "outputs": [
    {
     "name": "stdout",
     "output_type": "stream",
     "text": [
      "                     Id      size  Class\n",
      "0  6RIhg1UYy9uEOLXsQFSq  0.125432      1\n",
      "1  emfAXPk3uGVwRaCF9Zgh  3.835722      4\n",
      "2  H6tgJ4jTyak8VsANRFud  8.753096      1\n",
      "3  AHzQrG8e6qDat3lpK4M2  0.699106      1\n",
      "4  6zYSlNx9tBbUJkT0aGhr  2.093974      1\n"
     ]
    }
   ],
   "source": [
    "#Extracting Size from the ASM files\n",
    "#file sizes of train byte files\n",
    "\n",
    "files=os.listdir('asmFiles_test')\n",
    "filenames=Y['Id'].tolist()\n",
    "class_y=Y['Class'].tolist()\n",
    "class_bytes=[]\n",
    "sizebytes=[]\n",
    "fnames=[]\n",
    "for file in files:\n",
    "    # print(os.stat('byteFiles/0A32eTdBKayjCWhZqDOQ.txt'))\n",
    "    # os.stat_result(st_mode=33206, st_ino=1125899906874507, st_dev=3561571700, st_nlink=1, st_uid=0, st_gid=0, \n",
    "    # st_size=3680109, st_atime=1519638522, st_mtime=1519638522, st_ctime=1519638522)\n",
    "    # read more about os.stat: here https://www.tutorialspoint.com/python/os_stat.htm\n",
    "    statinfo=os.stat('asmFiles_test/'+file)\n",
    "    # split the file name at '.' and take the first part of it i.e the file name\n",
    "    file=file.split('.')[0]\n",
    "    if any(file == filename for filename in filenames):\n",
    "        i=filenames.index(file)\n",
    "        class_bytes.append(class_y[i])\n",
    "        # converting into Mb's\n",
    "        sizebytes.append(statinfo.st_size/(1024.0*1024.0))\n",
    "        fnames.append(file)\n",
    "test_data_size_asm=pd.DataFrame({'Id':fnames,'size':sizebytes,'Class':class_bytes})\n",
    "print (test_data_size_asm.head())"
   ]
  },
  {
   "cell_type": "code",
   "execution_count": null,
   "metadata": {},
   "outputs": [],
   "source": [
    "#os.rename('output\\smallasmfile.txt','train_asm_features_4')\n",
    "#os.rename('output\\mediumasmfile.txt','train_asm_features_4')\n",
    "#os.rename('output\\largeasmfile.txt','train_asm_features_4')\n",
    "#os.rename('output\\hugeasmfile.txt','train_asm_features_4')"
   ]
  },
  {
   "cell_type": "code",
   "execution_count": 20,
   "metadata": {},
   "outputs": [],
   "source": [
    "'''prefixes = ['HEADER:','.text:','.Pav:','.idata:','.data:','.bss:','.rdata:','.edata:','.rsrc:','.tls:','.reloc:','.BSS:','.CODE']\n",
    "    opcodes = ['jmp', 'mov', 'retf', 'push', 'pop', 'xor', 'retn', 'nop', 'sub', 'inc', 'dec', 'add','imul', 'xchg', 'or', 'shr', 'cmp', 'call', 'shl', 'ror', 'rol', 'jnb','jz','rtn','lea','movzx']\n",
    "    registers=['edx','esi','eax','ebx','ecx','edi','ebp','esp','eip']\n",
    "    keywords = ['.dll','std::',':dword']\n",
    "    '''\n",
    "header=['Id','HEADER:','.text:','.Pav:','.idata:','.data:','.bss:','.rdata:','.edata:','.rsrc:','.tls:','.reloc:','.BSS:','.CODE','jmp', 'mov', 'retf', 'push', 'pop', 'xor', 'retn', 'nop', 'sub', 'inc', 'dec', 'add','imul', 'xchg', 'or', 'shr', 'cmp', 'call', 'shl', 'ror', 'rol', 'jnb','jz','rtn','lea','movzx','edx','esi','eax','ebx','ecx','edi','ebp','esp','eip','.dll','std::',':dword']\n",
    "\n",
    "train_asm_features_1=pd.read_csv('train_asm_features_1',header=None, delimiter=',')\n",
    "train_asm_features_2=pd.read_csv('train_asm_features_2',header=None, delimiter=',')\n",
    "train_asm_features_3=pd.read_csv('train_asm_features_3',header=None, delimiter=',')\n",
    "train_asm_features_4=pd.read_csv('train_asm_features_4',header=None, delimiter=',')\n",
    "\n",
    "train_asm_file=pd.concat([train_asm_features_1,train_asm_features_2,train_asm_features_3,train_asm_features_4])"
   ]
  },
  {
   "cell_type": "code",
   "execution_count": 21,
   "metadata": {},
   "outputs": [],
   "source": [
    "train_asm_file=train_asm_file.rename(columns=dict(zip(train_asm_file.columns, header)))"
   ]
  },
  {
   "cell_type": "code",
   "execution_count": 225,
   "metadata": {},
   "outputs": [],
   "source": [
    "test_asm_features_1=pd.read_csv('test_asm_file_output1.txt',header=None, delimiter=',')\n",
    "test_asm_features_2=pd.read_csv('test_asm_file_output2.txt',header=None, delimiter=',')\n",
    "test_asm_features_3=pd.read_csv('test_asm_file_output3.txt',header=None, delimiter=',')\n",
    "test_asm_features_4=pd.read_csv('test_asm_file_output4',header=None, delimiter=',')\n",
    "\n",
    "test_asm_file=pd.concat([test_asm_features_1,test_asm_features_2,test_asm_features_3,test_asm_features_4])\n",
    "\n",
    "test_asm_file=test_asm_file.rename(columns=dict(zip(test_asm_file.columns, header)))"
   ]
  },
  {
   "cell_type": "code",
   "execution_count": 226,
   "metadata": {},
   "outputs": [
    {
     "data": {
      "text/plain": [
       "(2174, 53)"
      ]
     },
     "execution_count": 226,
     "metadata": {},
     "output_type": "execute_result"
    }
   ],
   "source": [
    "test_asm_file.shape"
   ]
  },
  {
   "cell_type": "markdown",
   "metadata": {},
   "source": [
    "### Bigram BOW\n",
    "- Selecting only the top features for the XGBoost model."
   ]
  },
  {
   "cell_type": "code",
   "execution_count": 24,
   "metadata": {},
   "outputs": [],
   "source": [
    "import pickle\n",
    "with open('Top Features Bigram BOW/sorted_top_features.pkl','rb') as wr:\n",
    "    sorted_top_features_xgb=pickle.load(wr)"
   ]
  },
  {
   "cell_type": "code",
   "execution_count": 25,
   "metadata": {},
   "outputs": [],
   "source": [
    "top_2000_features=sorted_top_features_xgb[:2000]\n",
    "top_2000_features.insert(0,'Id')"
   ]
  },
  {
   "cell_type": "code",
   "execution_count": 76,
   "metadata": {},
   "outputs": [],
   "source": [
    "'''train_bigram_bow_bytes=dd.read_csv('train_bigram_BOW1.csv',delimiter=',',sample=1000000)\n",
    "#Already extracted the top 2000 features and saved them as a pickle file\n",
    "train_bigram_bow_bytes_top_2000=train_bigram_bow_bytes[top_2000_features].compute()'''\n",
    "\n",
    "'''test_bigram_bow_bytes=dd.read_csv('test_bigram_BOW1.csv',delimiter=',',sample=1000000)\n",
    "test_bigram_bow_bytes_top_2000=test_bigram_bow_bytes[top_2000_features].compute()\n",
    "'''\n",
    "'''train_bigram_bow_bytes_top_2000=train_bigram_bow_bytes_top_2000.reset_index()\n",
    "test_bigram_bow_bytes_top_2000=test_bigram_bow_bytes_top_2000.reset_index()\n",
    "train_bigram_bow_bytes_top_2000['Id']=train_bigram_bow_bytes_top_2000['index']\n",
    "test_bigram_bow_bytes_top_2000['Id']=test_bigram_bow_bytes_top_2000['index']\n",
    "\n",
    "test_bigram_bow_bytes_top_2000.drop('index', axis=1, inplace=True)\n",
    "train_bigram_bow_bytes_top_2000.drop('index', axis=1, inplace=True)'''"
   ]
  },
  {
   "cell_type": "code",
   "execution_count": 85,
   "metadata": {},
   "outputs": [
    {
     "data": {
      "text/html": [
       "<div>\n",
       "<style scoped>\n",
       "    .dataframe tbody tr th:only-of-type {\n",
       "        vertical-align: middle;\n",
       "    }\n",
       "\n",
       "    .dataframe tbody tr th {\n",
       "        vertical-align: top;\n",
       "    }\n",
       "\n",
       "    .dataframe thead th {\n",
       "        text-align: right;\n",
       "    }\n",
       "</style>\n",
       "<table border=\"1\" class=\"dataframe\">\n",
       "  <thead>\n",
       "    <tr style=\"text-align: right;\">\n",
       "      <th></th>\n",
       "      <th>Id</th>\n",
       "      <th>2D 64</th>\n",
       "      <th>C2 B3</th>\n",
       "      <th>E3 41</th>\n",
       "      <th>B6 53</th>\n",
       "      <th>CB 88</th>\n",
       "      <th>5A 8C</th>\n",
       "      <th>A6 60</th>\n",
       "      <th>04 B3</th>\n",
       "      <th>99 B1</th>\n",
       "      <th>...</th>\n",
       "      <th>30 5C</th>\n",
       "      <th>30 9</th>\n",
       "      <th>76 20</th>\n",
       "      <th>CE D0</th>\n",
       "      <th>CF 1E</th>\n",
       "      <th>71 FE</th>\n",
       "      <th>61 F4</th>\n",
       "      <th>5D 05</th>\n",
       "      <th>10 81</th>\n",
       "      <th>76 F3</th>\n",
       "    </tr>\n",
       "  </thead>\n",
       "  <tbody>\n",
       "    <tr>\n",
       "      <th>0</th>\n",
       "      <td>G9tcxvXL8sZAjU72zYOg</td>\n",
       "      <td>2</td>\n",
       "      <td>2</td>\n",
       "      <td>1</td>\n",
       "      <td>2</td>\n",
       "      <td>0</td>\n",
       "      <td>0</td>\n",
       "      <td>2</td>\n",
       "      <td>1</td>\n",
       "      <td>2</td>\n",
       "      <td>...</td>\n",
       "      <td>0</td>\n",
       "      <td>0</td>\n",
       "      <td>1</td>\n",
       "      <td>1</td>\n",
       "      <td>4</td>\n",
       "      <td>0</td>\n",
       "      <td>2</td>\n",
       "      <td>2</td>\n",
       "      <td>2</td>\n",
       "      <td>0</td>\n",
       "    </tr>\n",
       "    <tr>\n",
       "      <th>1</th>\n",
       "      <td>iEhMwSYF4f7O6clnzgv0</td>\n",
       "      <td>1</td>\n",
       "      <td>1</td>\n",
       "      <td>2</td>\n",
       "      <td>0</td>\n",
       "      <td>3</td>\n",
       "      <td>3</td>\n",
       "      <td>0</td>\n",
       "      <td>1</td>\n",
       "      <td>0</td>\n",
       "      <td>...</td>\n",
       "      <td>1</td>\n",
       "      <td>0</td>\n",
       "      <td>4</td>\n",
       "      <td>0</td>\n",
       "      <td>2</td>\n",
       "      <td>0</td>\n",
       "      <td>0</td>\n",
       "      <td>0</td>\n",
       "      <td>1</td>\n",
       "      <td>5</td>\n",
       "    </tr>\n",
       "    <tr>\n",
       "      <th>2</th>\n",
       "      <td>351BNOEjS9pHWAqhJQdD</td>\n",
       "      <td>0</td>\n",
       "      <td>1</td>\n",
       "      <td>0</td>\n",
       "      <td>0</td>\n",
       "      <td>0</td>\n",
       "      <td>0</td>\n",
       "      <td>0</td>\n",
       "      <td>1</td>\n",
       "      <td>0</td>\n",
       "      <td>...</td>\n",
       "      <td>0</td>\n",
       "      <td>0</td>\n",
       "      <td>0</td>\n",
       "      <td>0</td>\n",
       "      <td>0</td>\n",
       "      <td>0</td>\n",
       "      <td>0</td>\n",
       "      <td>0</td>\n",
       "      <td>1</td>\n",
       "      <td>0</td>\n",
       "    </tr>\n",
       "    <tr>\n",
       "      <th>3</th>\n",
       "      <td>4eC9LmdHc6pRoP8BtTGv</td>\n",
       "      <td>11</td>\n",
       "      <td>8</td>\n",
       "      <td>11</td>\n",
       "      <td>11</td>\n",
       "      <td>10</td>\n",
       "      <td>16</td>\n",
       "      <td>10</td>\n",
       "      <td>10</td>\n",
       "      <td>12</td>\n",
       "      <td>...</td>\n",
       "      <td>11</td>\n",
       "      <td>0</td>\n",
       "      <td>13</td>\n",
       "      <td>21</td>\n",
       "      <td>9</td>\n",
       "      <td>15</td>\n",
       "      <td>8</td>\n",
       "      <td>11</td>\n",
       "      <td>14</td>\n",
       "      <td>13</td>\n",
       "    </tr>\n",
       "    <tr>\n",
       "      <th>4</th>\n",
       "      <td>HQCNdPn3ytMDrB96b8kX</td>\n",
       "      <td>11</td>\n",
       "      <td>8</td>\n",
       "      <td>15</td>\n",
       "      <td>3</td>\n",
       "      <td>10</td>\n",
       "      <td>13</td>\n",
       "      <td>18</td>\n",
       "      <td>14</td>\n",
       "      <td>8</td>\n",
       "      <td>...</td>\n",
       "      <td>6</td>\n",
       "      <td>0</td>\n",
       "      <td>14</td>\n",
       "      <td>10</td>\n",
       "      <td>13</td>\n",
       "      <td>11</td>\n",
       "      <td>5</td>\n",
       "      <td>7</td>\n",
       "      <td>11</td>\n",
       "      <td>12</td>\n",
       "    </tr>\n",
       "    <tr>\n",
       "      <th>...</th>\n",
       "      <td>...</td>\n",
       "      <td>...</td>\n",
       "      <td>...</td>\n",
       "      <td>...</td>\n",
       "      <td>...</td>\n",
       "      <td>...</td>\n",
       "      <td>...</td>\n",
       "      <td>...</td>\n",
       "      <td>...</td>\n",
       "      <td>...</td>\n",
       "      <td>...</td>\n",
       "      <td>...</td>\n",
       "      <td>...</td>\n",
       "      <td>...</td>\n",
       "      <td>...</td>\n",
       "      <td>...</td>\n",
       "      <td>...</td>\n",
       "      <td>...</td>\n",
       "      <td>...</td>\n",
       "      <td>...</td>\n",
       "      <td>...</td>\n",
       "    </tr>\n",
       "    <tr>\n",
       "      <th>2169</th>\n",
       "      <td>fVWAtl7QsixdmThDBu4C</td>\n",
       "      <td>6</td>\n",
       "      <td>9</td>\n",
       "      <td>12</td>\n",
       "      <td>4</td>\n",
       "      <td>5</td>\n",
       "      <td>5</td>\n",
       "      <td>9</td>\n",
       "      <td>14</td>\n",
       "      <td>12</td>\n",
       "      <td>...</td>\n",
       "      <td>8</td>\n",
       "      <td>0</td>\n",
       "      <td>5</td>\n",
       "      <td>6</td>\n",
       "      <td>14</td>\n",
       "      <td>8</td>\n",
       "      <td>12</td>\n",
       "      <td>8</td>\n",
       "      <td>6</td>\n",
       "      <td>3</td>\n",
       "    </tr>\n",
       "    <tr>\n",
       "      <th>2170</th>\n",
       "      <td>JNez4Z10tfKa52BDCkVb</td>\n",
       "      <td>10</td>\n",
       "      <td>8</td>\n",
       "      <td>14</td>\n",
       "      <td>14</td>\n",
       "      <td>17</td>\n",
       "      <td>13</td>\n",
       "      <td>12</td>\n",
       "      <td>12</td>\n",
       "      <td>14</td>\n",
       "      <td>...</td>\n",
       "      <td>13</td>\n",
       "      <td>0</td>\n",
       "      <td>11</td>\n",
       "      <td>13</td>\n",
       "      <td>9</td>\n",
       "      <td>15</td>\n",
       "      <td>18</td>\n",
       "      <td>9</td>\n",
       "      <td>15</td>\n",
       "      <td>11</td>\n",
       "    </tr>\n",
       "    <tr>\n",
       "      <th>2171</th>\n",
       "      <td>fRTmEnxQVBYjkUZ0C3t4</td>\n",
       "      <td>1</td>\n",
       "      <td>1</td>\n",
       "      <td>0</td>\n",
       "      <td>0</td>\n",
       "      <td>0</td>\n",
       "      <td>0</td>\n",
       "      <td>0</td>\n",
       "      <td>1</td>\n",
       "      <td>1</td>\n",
       "      <td>...</td>\n",
       "      <td>0</td>\n",
       "      <td>0</td>\n",
       "      <td>3</td>\n",
       "      <td>0</td>\n",
       "      <td>1</td>\n",
       "      <td>0</td>\n",
       "      <td>1</td>\n",
       "      <td>1</td>\n",
       "      <td>0</td>\n",
       "      <td>1</td>\n",
       "    </tr>\n",
       "    <tr>\n",
       "      <th>2172</th>\n",
       "      <td>Hte5fWBMP8GvoLnVK3TR</td>\n",
       "      <td>0</td>\n",
       "      <td>13</td>\n",
       "      <td>0</td>\n",
       "      <td>9</td>\n",
       "      <td>1</td>\n",
       "      <td>0</td>\n",
       "      <td>0</td>\n",
       "      <td>0</td>\n",
       "      <td>1</td>\n",
       "      <td>...</td>\n",
       "      <td>1</td>\n",
       "      <td>0</td>\n",
       "      <td>1</td>\n",
       "      <td>0</td>\n",
       "      <td>0</td>\n",
       "      <td>1</td>\n",
       "      <td>0</td>\n",
       "      <td>9</td>\n",
       "      <td>4</td>\n",
       "      <td>0</td>\n",
       "    </tr>\n",
       "    <tr>\n",
       "      <th>2173</th>\n",
       "      <td>djHpkGZoE0n64ub7WPer</td>\n",
       "      <td>1</td>\n",
       "      <td>0</td>\n",
       "      <td>2</td>\n",
       "      <td>2</td>\n",
       "      <td>2</td>\n",
       "      <td>2</td>\n",
       "      <td>0</td>\n",
       "      <td>0</td>\n",
       "      <td>0</td>\n",
       "      <td>...</td>\n",
       "      <td>57</td>\n",
       "      <td>0</td>\n",
       "      <td>44</td>\n",
       "      <td>0</td>\n",
       "      <td>0</td>\n",
       "      <td>9</td>\n",
       "      <td>1</td>\n",
       "      <td>2</td>\n",
       "      <td>134</td>\n",
       "      <td>0</td>\n",
       "    </tr>\n",
       "  </tbody>\n",
       "</table>\n",
       "<p>2174 rows × 2001 columns</p>\n",
       "</div>"
      ],
      "text/plain": [
       "                        Id  2D 64  C2 B3  E3 41  B6 53  CB 88  5A 8C  A6 60  \\\n",
       "0     G9tcxvXL8sZAjU72zYOg      2      2      1      2      0      0      2   \n",
       "1     iEhMwSYF4f7O6clnzgv0      1      1      2      0      3      3      0   \n",
       "2     351BNOEjS9pHWAqhJQdD      0      1      0      0      0      0      0   \n",
       "3     4eC9LmdHc6pRoP8BtTGv     11      8     11     11     10     16     10   \n",
       "4     HQCNdPn3ytMDrB96b8kX     11      8     15      3     10     13     18   \n",
       "...                    ...    ...    ...    ...    ...    ...    ...    ...   \n",
       "2169  fVWAtl7QsixdmThDBu4C      6      9     12      4      5      5      9   \n",
       "2170  JNez4Z10tfKa52BDCkVb     10      8     14     14     17     13     12   \n",
       "2171  fRTmEnxQVBYjkUZ0C3t4      1      1      0      0      0      0      0   \n",
       "2172  Hte5fWBMP8GvoLnVK3TR      0     13      0      9      1      0      0   \n",
       "2173  djHpkGZoE0n64ub7WPer      1      0      2      2      2      2      0   \n",
       "\n",
       "      04 B3  99 B1  ...  30 5C  30 9  76 20  CE D0  CF 1E  71 FE  61 F4  \\\n",
       "0         1      2  ...      0     0      1      1      4      0      2   \n",
       "1         1      0  ...      1     0      4      0      2      0      0   \n",
       "2         1      0  ...      0     0      0      0      0      0      0   \n",
       "3        10     12  ...     11     0     13     21      9     15      8   \n",
       "4        14      8  ...      6     0     14     10     13     11      5   \n",
       "...     ...    ...  ...    ...   ...    ...    ...    ...    ...    ...   \n",
       "2169     14     12  ...      8     0      5      6     14      8     12   \n",
       "2170     12     14  ...     13     0     11     13      9     15     18   \n",
       "2171      1      1  ...      0     0      3      0      1      0      1   \n",
       "2172      0      1  ...      1     0      1      0      0      1      0   \n",
       "2173      0      0  ...     57     0     44      0      0      9      1   \n",
       "\n",
       "      5D 05  10 81  76 F3  \n",
       "0         2      2      0  \n",
       "1         0      1      5  \n",
       "2         0      1      0  \n",
       "3        11     14     13  \n",
       "4         7     11     12  \n",
       "...     ...    ...    ...  \n",
       "2169      8      6      3  \n",
       "2170      9     15     11  \n",
       "2171      1      0      1  \n",
       "2172      9      4      0  \n",
       "2173      2    134      0  \n",
       "\n",
       "[2174 rows x 2001 columns]"
      ]
     },
     "execution_count": 85,
     "metadata": {},
     "output_type": "execute_result"
    }
   ],
   "source": []
  },
  {
   "cell_type": "code",
   "execution_count": 77,
   "metadata": {},
   "outputs": [],
   "source": []
  },
  {
   "cell_type": "code",
   "execution_count": null,
   "metadata": {},
   "outputs": [],
   "source": []
  },
  {
   "cell_type": "code",
   "execution_count": 79,
   "metadata": {},
   "outputs": [],
   "source": [
    "'''with open('train_bigram_bow_bytes_top_2000.pkl', 'wb') as w:\n",
    "    pickle.dump(train_bigram_bow_bytes_top_2000, w)\n",
    "\n",
    "with open('test_bigram_bow_bytes_top_2000.pkl', 'wb') as w:\n",
    "    pickle.dump(test_bigram_bow_bytes_top_2000, w)'''"
   ]
  },
  {
   "cell_type": "code",
   "execution_count": 80,
   "metadata": {},
   "outputs": [],
   "source": [
    "with open('train_bigram_bow_bytes_top_2000.pkl', 'rb') as w:\n",
    "    train_bigram_bow_bytes_top_2000=pickle.load(w)\n",
    "\n",
    "with open('test_bigram_bow_bytes_top_2000.pkl', 'rb') as w:\n",
    "    test_bigram_bow_bytes_top_2000=pickle.load(w)"
   ]
  },
  {
   "cell_type": "code",
   "execution_count": 207,
   "metadata": {},
   "outputs": [],
   "source": [
    "#Concatenating all the values, as the Dataset has become mixed.\n",
    "test_data_size_asm,test_asm_file\n",
    "train_data_size_asm,train_asm_file\n",
    "\n",
    "data_size_asm=pd.concat([train_data_size_asm, train_data_size_asm], axis=0).drop_duplicates()\n",
    "asm_file_features=pd.concat([train_asm_file, test_asm_file], axis=0).drop_duplicates()"
   ]
  },
  {
   "cell_type": "code",
   "execution_count": 234,
   "metadata": {},
   "outputs": [],
   "source": [
    "#Merging all the df's into x_train & x_test\n",
    "#X_train\n",
    "#https://stackoverflow.com/questions/44327999/how-to-merge-multiple-dataframes\n",
    "from functools import reduce\n",
    "\n",
    "dataframes=[train_bigram_bow_bytes_top_2000,training_bow_bytes,train_data_size_byte[['Id','size','Class']],train_image_byte, data_size_asm[['Id','size']],asm_file_features ]\n",
    "train_data= reduce(lambda  left,right: pd.merge(left,right,on=['Id'],how='inner'), dataframes).dropna(axis=1)\n",
    "\n",
    "dataframes=[test_bigram_bow_bytes_top_2000,test_bow_bytes,test_data_size_byte[['Id','size','Class']],test_image_byte,test_data_size_asm[['Id','size']],test_asm_file ]\n",
    "test_data = reduce(lambda  left,right: pd.merge(left,right,on=['Id'],how='inner'), dataframes).dropna(axis=1)#test_data_size_asm"
   ]
  },
  {
   "cell_type": "code",
   "execution_count": null,
   "metadata": {},
   "outputs": [],
   "source": []
  },
  {
   "cell_type": "code",
   "execution_count": 236,
   "metadata": {},
   "outputs": [],
   "source": [
    "'''with open('train_data.pkl', 'wb') as w:\n",
    "    pickle.dump(train_data, w)\n",
    "\n",
    "with open('test_data.pkl', 'wb') as w:\n",
    "    pickle.dump(test_data, w)'''"
   ]
  },
  {
   "cell_type": "code",
   "execution_count": 1,
   "metadata": {},
   "outputs": [
    {
     "data": {
      "text/plain": [
       "'1.1.5'"
      ]
     },
     "execution_count": 1,
     "metadata": {},
     "output_type": "execute_result"
    }
   ],
   "source": [
    "import pandas as pd\n",
    "pd.__version__"
   ]
  },
  {
   "cell_type": "code",
   "execution_count": null,
   "metadata": {
    "scrolled": true
   },
   "outputs": [],
   "source": []
  },
  {
   "cell_type": "markdown",
   "metadata": {},
   "source": [
    "### Total List of Files/Features\n",
    "- training_bow_bytes\n",
    "- test_bow_bytes\n",
    "- train_bigram_bow_bytes\n",
    "- test_bigram_bow_bytes\n",
    "- train_data_size_byte\n",
    "- test_data_size_byte\n",
    "- train_image_byte\n",
    "- test_image_byte\n",
    "\n",
    "____________________________________________________\n",
    "\n",
    "- train_data_size_asm\n",
    "- test_data_size_asm\n",
    "- train_asm_file\n",
    "- test_asm_file\n",
    "\n",
    "____________________________________________________\n",
    "- train_class\n",
    "- test_class\n"
   ]
  },
  {
   "cell_type": "code",
   "execution_count": 5,
   "metadata": {},
   "outputs": [
    {
     "ename": "AttributeError",
     "evalue": "Can't get attribute 'new_block' on <module 'pandas.core.internals.blocks' from 'C:\\\\Users\\\\HP\\\\AppData\\\\Roaming\\\\Python\\\\Python36\\\\site-packages\\\\pandas\\\\core\\\\internals\\\\blocks.py'>",
     "output_type": "error",
     "traceback": [
      "\u001b[1;31m---------------------------------------------------------------------------\u001b[0m",
      "\u001b[1;31mAttributeError\u001b[0m                            Traceback (most recent call last)",
      "\u001b[1;32m<ipython-input-5-aae9643613c1>\u001b[0m in \u001b[0;36m<module>\u001b[1;34m()\u001b[0m\n\u001b[0;32m      1\u001b[0m \u001b[1;32mimport\u001b[0m \u001b[0mpickle\u001b[0m\u001b[1;33m\u001b[0m\u001b[0m\n\u001b[0;32m      2\u001b[0m \u001b[1;32mwith\u001b[0m \u001b[0mopen\u001b[0m\u001b[1;33m(\u001b[0m\u001b[1;34m'train_data.pkl'\u001b[0m\u001b[1;33m,\u001b[0m \u001b[1;34m'rb'\u001b[0m\u001b[1;33m)\u001b[0m \u001b[1;32mas\u001b[0m \u001b[0mw\u001b[0m\u001b[1;33m:\u001b[0m\u001b[1;33m\u001b[0m\u001b[0m\n\u001b[1;32m----> 3\u001b[1;33m     \u001b[0mtrain_data\u001b[0m\u001b[1;33m=\u001b[0m\u001b[0mpickle\u001b[0m\u001b[1;33m.\u001b[0m\u001b[0mload\u001b[0m\u001b[1;33m(\u001b[0m\u001b[0mw\u001b[0m\u001b[1;33m)\u001b[0m\u001b[1;33m\u001b[0m\u001b[0m\n\u001b[0m\u001b[0;32m      4\u001b[0m \u001b[1;33m\u001b[0m\u001b[0m\n\u001b[0;32m      5\u001b[0m \u001b[1;32mwith\u001b[0m \u001b[0mopen\u001b[0m\u001b[1;33m(\u001b[0m\u001b[1;34m'test_data.pkl'\u001b[0m\u001b[1;33m,\u001b[0m \u001b[1;34m'rb'\u001b[0m\u001b[1;33m)\u001b[0m \u001b[1;32mas\u001b[0m \u001b[0mw\u001b[0m\u001b[1;33m:\u001b[0m\u001b[1;33m\u001b[0m\u001b[0m\n",
      "\u001b[1;31mAttributeError\u001b[0m: Can't get attribute 'new_block' on <module 'pandas.core.internals.blocks' from 'C:\\\\Users\\\\HP\\\\AppData\\\\Roaming\\\\Python\\\\Python36\\\\site-packages\\\\pandas\\\\core\\\\internals\\\\blocks.py'>"
     ]
    }
   ],
   "source": [
    "import pickle\n",
    "with open('train_data.pkl', 'rb') as w:\n",
    "    train_data=pickle.load(w)\n",
    "\n",
    "with open('test_data.pkl', 'rb') as w:\n",
    "    train_data=pickle.load(w)"
   ]
  },
  {
   "cell_type": "code",
   "execution_count": 10,
   "metadata": {},
   "outputs": [
    {
     "data": {
      "text/plain": [
       "'1.1.5'"
      ]
     },
     "execution_count": 10,
     "metadata": {},
     "output_type": "execute_result"
    }
   ],
   "source": [
    "pd.__version__ "
   ]
  },
  {
   "cell_type": "code",
   "execution_count": 11,
   "metadata": {},
   "outputs": [
    {
     "name": "stdout",
     "output_type": "stream",
     "text": [
      "Requirement already satisfied: pandas in c:\\users\\hp\\appdata\\roaming\\python\\python36\\site-packages (1.1.5)\n",
      "Requirement already satisfied: pytz>=2017.2 in c:\\anaconda3\\lib\\site-packages (from pandas) (2018.4)\n",
      "Requirement already satisfied: numpy>=1.15.4 in c:\\anaconda3\\lib\\site-packages (from pandas) (1.19.5)\n",
      "Requirement already satisfied: python-dateutil>=2.7.3 in c:\\anaconda3\\lib\\site-packages (from pandas) (2.7.3)\n",
      "Requirement already satisfied: six>=1.5 in c:\\anaconda3\\lib\\site-packages (from python-dateutil>=2.7.3->pandas) (1.15.0)\n"
     ]
    },
    {
     "name": "stderr",
     "output_type": "stream",
     "text": [
      "WARNING: Ignoring invalid distribution -umpy (c:\\anaconda3\\lib\\site-packages)\n",
      "WARNING: Ignoring invalid distribution -cipy (c:\\anaconda3\\lib\\site-packages)\n",
      "WARNING: Ignoring invalid distribution -umpy (c:\\anaconda3\\lib\\site-packages)\n",
      "WARNING: Ignoring invalid distribution -cipy (c:\\anaconda3\\lib\\site-packages)\n",
      "WARNING: Ignoring invalid distribution -umpy (c:\\anaconda3\\lib\\site-packages)\n",
      "WARNING: Ignoring invalid distribution -cipy (c:\\anaconda3\\lib\\site-packages)\n",
      "WARNING: Ignoring invalid distribution -umpy (c:\\anaconda3\\lib\\site-packages)\n",
      "WARNING: Ignoring invalid distribution -cipy (c:\\anaconda3\\lib\\site-packages)\n",
      "WARNING: Ignoring invalid distribution -umpy (c:\\anaconda3\\lib\\site-packages)\n",
      "WARNING: Ignoring invalid distribution -cipy (c:\\anaconda3\\lib\\site-packages)\n"
     ]
    }
   ],
   "source": [
    "!pip install --upgrade pandas"
   ]
  },
  {
   "cell_type": "code",
   "execution_count": null,
   "metadata": {},
   "outputs": [],
   "source": []
  },
  {
   "cell_type": "code",
   "execution_count": 15,
   "metadata": {},
   "outputs": [],
   "source": []
  },
  {
   "cell_type": "code",
   "execution_count": null,
   "metadata": {},
   "outputs": [],
   "source": []
  },
  {
   "cell_type": "code",
   "execution_count": null,
   "metadata": {},
   "outputs": [],
   "source": []
  },
  {
   "cell_type": "code",
   "execution_count": null,
   "metadata": {},
   "outputs": [],
   "source": [
    "# https://www.analyticsvidhya.com/blog/2016/03/complete-guide-parameter-tuning-xgboost-with-codes-python/\n",
    "clf=XGBClassifier()\n",
    "\n",
    "prams={\n",
    "    'learning_rate':[0.01,0.03,0.05,0.1,0.15,0.2],\n",
    "     'n_estimators':[100,200,500,1000,2000],\n",
    "     'max_depth':[3,5,10],\n",
    "    'colsample_bytree':[0.1,0.3,0.5,1],\n",
    "    'subsample':[0.1,0.3,0.5,1]\n",
    "}\n",
    "random_cfl1=RandomizedSearchCV(x_cfl,param_distributions=prams,verbose=10,n_jobs=-1,)\n",
    "random_cfl1.fit(x_train,y_train)"
   ]
  }
 ],
 "metadata": {
  "kernelspec": {
   "display_name": "Python 3",
   "language": "python",
   "name": "python3"
  },
  "language_info": {
   "codemirror_mode": {
    "name": "ipython",
    "version": 3
   },
   "file_extension": ".py",
   "mimetype": "text/x-python",
   "name": "python",
   "nbconvert_exporter": "python",
   "pygments_lexer": "ipython3",
   "version": "3.6.5"
  }
 },
 "nbformat": 4,
 "nbformat_minor": 5
}
