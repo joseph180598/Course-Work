{
 "cells": [
  {
   "cell_type": "markdown",
   "id": "35904600",
   "metadata": {},
   "source": [
    "- How to assign X-axis\n",
    "- How to assign Y-Axis\n",
    "- Select the hue Factor\n",
    "- Select the Legends\n",
    "- Change size of plot\n",
    "- Changing color of the curve/plots\n",
    "- Changing the font size for the scales & labels & values"
   ]
  }
 ],
 "metadata": {
  "kernelspec": {
   "display_name": "Python 3",
   "language": "python",
   "name": "python3"
  },
  "language_info": {
   "codemirror_mode": {
    "name": "ipython",
    "version": 3
   },
   "file_extension": ".py",
   "mimetype": "text/x-python",
   "name": "python",
   "nbconvert_exporter": "python",
   "pygments_lexer": "ipython3",
   "version": "3.8.8"
  }
 },
 "nbformat": 4,
 "nbformat_minor": 5
}
