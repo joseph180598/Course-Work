{
 "cells": [
  {
   "cell_type": "markdown",
   "metadata": {
    "id": "fwPL0hIlGKoA"
   },
   "source": [
    "# <font color='red'>**Sequence to sequence implementation**</font>"
   ]
  },
  {
   "cell_type": "markdown",
   "metadata": {
    "id": "-nYHE_1ck2az"
   },
   "source": [
    "**There will be some functions that start with the word \"grader\" ex: grader_check_encoder(), grader_check_attention(), grader_onestepdecoder() etc, you should not change those function definition.<br><br>Every Grader function has to return True.**\n",
    "\n",
    "**Note 1:**  There are many blogs on the attention mechanisum which might be misleading you,\n",
    " so do read the references completly and after that only please check the internet.\n",
    " The best things is to read the research papers and try to implement it on your own. \n",
    "\n",
    "**Note 2:** To complete this assignment, the reference that are mentioned will be enough.\n",
    "\n",
    "**Note 3:** If you are starting this assignment, you might have completed minimum of 20 assignment.\n",
    " If  you are still not able to implement this algorithm you might have rushed in the previous assignments \n",
    "with out learning much and didn't spend your time productively."
   ]
  },
  {
   "cell_type": "markdown",
   "metadata": {
    "id": "QyfZo8fmLOec"
   },
   "source": [
    "## Task -1: Simple Encoder and Decoder\n",
    "Implement simple Encoder-Decoder model"
   ]
  },
  {
   "cell_type": "markdown",
   "metadata": {
    "id": "IvNSZXNkkOkO"
   },
   "source": [
    "1. Download the **Italian** to **English** translation dataset from <a href=\"http://www.manythings.org/anki/ita-eng.zip\">here</a>\n",
    "\n",
    "2. You will find **ita.txt** file in that ZIP, \n",
    "you can read that data using python and preprocess that data this way only: \n",
    "<img src='https://i.imgur.com/z0j79Jf.png'>    \n",
    "    \n",
    "3. You have to implement a simple Encoder and Decoder architecture  \n",
    "\n",
    "4. Use BLEU score as metric to evaluate your model. You can use any loss function you need.\n",
    "\n",
    "5. You have to use Tensorboard to plot the Graph, Scores and histograms of gradients. \n",
    "\n",
    "6.  a. Check the reference notebook <br>\n",
    "    b. <a href=\"https://medium.com/analytics-vidhya/understand-sequence-to-sequence-models-in-a-more-intuitive-way-1d517d8795bb\">Resource 2</a>\n",
    "    \n",
    "\n"
   ]
  },
  {
   "cell_type": "markdown",
   "metadata": {
    "id": "3k_AlAuKJqVA"
   },
   "source": [
    "<font color='blue'>**Load the data**</font>"
   ]
  },
  {
   "cell_type": "code",
   "execution_count": 1,
   "metadata": {
    "colab": {
     "base_uri": "https://localhost:8080/"
    },
    "id": "fU80Ao-AGaob",
    "outputId": "af4dc1b9-c613-4aff-dd46-f4f5a11c9d76"
   },
   "outputs": [
    {
     "name": "stdout",
     "output_type": "stream",
     "text": [
      "--2023-01-28 06:28:16--  http://www.manythings.org/anki/ita-eng.zip\n",
      "Resolving www.manythings.org (www.manythings.org)... 173.254.30.110\n",
      "Connecting to www.manythings.org (www.manythings.org)|173.254.30.110|:80... connected.\n",
      "HTTP request sent, awaiting response... 200 OK\n",
      "Length: 7882203 (7.5M) [application/zip]\n",
      "Saving to: ‘ita-eng.zip’\n",
      "\n",
      "ita-eng.zip         100%[===================>]   7.52M  37.7MB/s    in 0.2s    \n",
      "\n",
      "2023-01-28 06:28:17 (37.7 MB/s) - ‘ita-eng.zip’ saved [7882203/7882203]\n",
      "\n",
      "Archive:  ita-eng.zip\n",
      "  inflating: ita.txt                 \n",
      "  inflating: _about.txt              \n"
     ]
    }
   ],
   "source": [
    "!wget http://www.manythings.org/anki/ita-eng.zip\n",
    "!unzip ita-eng.zip"
   ]
  },
  {
   "cell_type": "code",
   "execution_count": 2,
   "metadata": {
    "colab": {
     "base_uri": "https://localhost:8080/"
    },
    "id": "1Cdy11hMYEvW",
    "outputId": "4b11beb4-b94c-4683-ac1b-755a2a978162"
   },
   "outputs": [
    {
     "name": "stdout",
     "output_type": "stream",
     "text": [
      "--2023-01-28 06:28:21--  https://www.dropbox.com/s/ddkmtqz01jc024u/glove.6B.100d.txt\n",
      "Resolving www.dropbox.com (www.dropbox.com)... 162.125.80.18, 2620:100:6018:18::a27d:312\n",
      "Connecting to www.dropbox.com (www.dropbox.com)|162.125.80.18|:443... connected.\n",
      "HTTP request sent, awaiting response... 302 Found\n",
      "Location: /s/raw/ddkmtqz01jc024u/glove.6B.100d.txt [following]\n",
      "--2023-01-28 06:28:22--  https://www.dropbox.com/s/raw/ddkmtqz01jc024u/glove.6B.100d.txt\n",
      "Reusing existing connection to www.dropbox.com:443.\n",
      "HTTP request sent, awaiting response... 302 Found\n",
      "Location: https://uc001adc736ec94777085aeb42e6.dl.dropboxusercontent.com/cd/0/inline/B1YDDX6PXN0TmDRTTzD7e6Bz6ZnbwYM0fokYx5fookCJ9J6PZ6vJFh-TmPRVmCsKbel-kimE5dxbn1AV3tlJ1AC4Wu9MSTS2Hyc4zQztzE8it1CVUxOIwn2eoV5v67sQRMJ058rWz5MSXPKdlhJoxNW4J0Dhz_80rmbjCnL6VwIinA/file# [following]\n",
      "--2023-01-28 06:28:23--  https://uc001adc736ec94777085aeb42e6.dl.dropboxusercontent.com/cd/0/inline/B1YDDX6PXN0TmDRTTzD7e6Bz6ZnbwYM0fokYx5fookCJ9J6PZ6vJFh-TmPRVmCsKbel-kimE5dxbn1AV3tlJ1AC4Wu9MSTS2Hyc4zQztzE8it1CVUxOIwn2eoV5v67sQRMJ058rWz5MSXPKdlhJoxNW4J0Dhz_80rmbjCnL6VwIinA/file\n",
      "Resolving uc001adc736ec94777085aeb42e6.dl.dropboxusercontent.com (uc001adc736ec94777085aeb42e6.dl.dropboxusercontent.com)... 162.125.3.15, 2620:100:6018:15::a27d:30f\n",
      "Connecting to uc001adc736ec94777085aeb42e6.dl.dropboxusercontent.com (uc001adc736ec94777085aeb42e6.dl.dropboxusercontent.com)|162.125.3.15|:443... connected.\n",
      "HTTP request sent, awaiting response... 200 OK\n",
      "Length: 347116733 (331M) [text/plain]\n",
      "Saving to: ‘glove.6B.100d.txt’\n",
      "\n",
      "glove.6B.100d.txt   100%[===================>] 331.04M   124MB/s    in 2.7s    \n",
      "\n",
      "2023-01-28 06:28:26 (124 MB/s) - ‘glove.6B.100d.txt’ saved [347116733/347116733]\n",
      "\n"
     ]
    }
   ],
   "source": [
    "!wget https://www.dropbox.com/s/ddkmtqz01jc024u/glove.6B.100d.txt"
   ]
  },
  {
   "cell_type": "markdown",
   "metadata": {
    "id": "vmGWTdRmKRph"
   },
   "source": [
    "<font color='blue'>**Preprocess data**</font>"
   ]
  },
  {
   "cell_type": "code",
   "execution_count": 3,
   "metadata": {
    "id": "epUOQauHM2E4"
   },
   "outputs": [],
   "source": [
    "import os\n",
    "os.environ['TF_CPP_MIN_LOG_LEVEL'] = '3'"
   ]
  },
  {
   "cell_type": "code",
   "execution_count": 4,
   "metadata": {
    "id": "9QqElB_nKZos"
   },
   "outputs": [],
   "source": [
    "import matplotlib.pyplot as plt\n",
    "%matplotlib inline\n",
    "# import seaborn as sns\n",
    "import pandas as pd\n",
    "import re\n",
    "import tensorflow as tf\n",
    "from tensorflow.keras.layers import Embedding, LSTM, Dense\n",
    "from tensorflow.keras.models import Model\n",
    "from tensorflow.keras.preprocessing.text import Tokenizer\n",
    "from tensorflow.keras.preprocessing.sequence import pad_sequences\n",
    "import numpy as np"
   ]
  },
  {
   "cell_type": "code",
   "execution_count": 5,
   "metadata": {
    "colab": {
     "base_uri": "https://localhost:8080/",
     "height": 224
    },
    "id": "VPFEKwvsN9-p",
    "outputId": "6171ff24-a9fd-4a43-90bb-215b19f88fc6"
   },
   "outputs": [
    {
     "name": "stdout",
     "output_type": "stream",
     "text": [
      "(358373, 2)\n"
     ]
    },
    {
     "data": {
      "text/html": [
       "\n",
       "  <div id=\"df-1208427c-b222-4fc5-ad6f-c77e78c2ac35\">\n",
       "    <div class=\"colab-df-container\">\n",
       "      <div>\n",
       "<style scoped>\n",
       "    .dataframe tbody tr th:only-of-type {\n",
       "        vertical-align: middle;\n",
       "    }\n",
       "\n",
       "    .dataframe tbody tr th {\n",
       "        vertical-align: top;\n",
       "    }\n",
       "\n",
       "    .dataframe thead th {\n",
       "        text-align: right;\n",
       "    }\n",
       "</style>\n",
       "<table border=\"1\" class=\"dataframe\">\n",
       "  <thead>\n",
       "    <tr style=\"text-align: right;\">\n",
       "      <th></th>\n",
       "      <th>english</th>\n",
       "      <th>italian</th>\n",
       "    </tr>\n",
       "  </thead>\n",
       "  <tbody>\n",
       "    <tr>\n",
       "      <th>0</th>\n",
       "      <td>Hi.</td>\n",
       "      <td>Ciao!</td>\n",
       "    </tr>\n",
       "    <tr>\n",
       "      <th>1</th>\n",
       "      <td>Hi.</td>\n",
       "      <td>Ciao.</td>\n",
       "    </tr>\n",
       "    <tr>\n",
       "      <th>2</th>\n",
       "      <td>Run!</td>\n",
       "      <td>Corri!</td>\n",
       "    </tr>\n",
       "    <tr>\n",
       "      <th>3</th>\n",
       "      <td>Run!</td>\n",
       "      <td>Corra!</td>\n",
       "    </tr>\n",
       "    <tr>\n",
       "      <th>4</th>\n",
       "      <td>Run!</td>\n",
       "      <td>Correte!</td>\n",
       "    </tr>\n",
       "  </tbody>\n",
       "</table>\n",
       "</div>\n",
       "      <button class=\"colab-df-convert\" onclick=\"convertToInteractive('df-1208427c-b222-4fc5-ad6f-c77e78c2ac35')\"\n",
       "              title=\"Convert this dataframe to an interactive table.\"\n",
       "              style=\"display:none;\">\n",
       "        \n",
       "  <svg xmlns=\"http://www.w3.org/2000/svg\" height=\"24px\"viewBox=\"0 0 24 24\"\n",
       "       width=\"24px\">\n",
       "    <path d=\"M0 0h24v24H0V0z\" fill=\"none\"/>\n",
       "    <path d=\"M18.56 5.44l.94 2.06.94-2.06 2.06-.94-2.06-.94-.94-2.06-.94 2.06-2.06.94zm-11 1L8.5 8.5l.94-2.06 2.06-.94-2.06-.94L8.5 2.5l-.94 2.06-2.06.94zm10 10l.94 2.06.94-2.06 2.06-.94-2.06-.94-.94-2.06-.94 2.06-2.06.94z\"/><path d=\"M17.41 7.96l-1.37-1.37c-.4-.4-.92-.59-1.43-.59-.52 0-1.04.2-1.43.59L10.3 9.45l-7.72 7.72c-.78.78-.78 2.05 0 2.83L4 21.41c.39.39.9.59 1.41.59.51 0 1.02-.2 1.41-.59l7.78-7.78 2.81-2.81c.8-.78.8-2.07 0-2.86zM5.41 20L4 18.59l7.72-7.72 1.47 1.35L5.41 20z\"/>\n",
       "  </svg>\n",
       "      </button>\n",
       "      \n",
       "  <style>\n",
       "    .colab-df-container {\n",
       "      display:flex;\n",
       "      flex-wrap:wrap;\n",
       "      gap: 12px;\n",
       "    }\n",
       "\n",
       "    .colab-df-convert {\n",
       "      background-color: #E8F0FE;\n",
       "      border: none;\n",
       "      border-radius: 50%;\n",
       "      cursor: pointer;\n",
       "      display: none;\n",
       "      fill: #1967D2;\n",
       "      height: 32px;\n",
       "      padding: 0 0 0 0;\n",
       "      width: 32px;\n",
       "    }\n",
       "\n",
       "    .colab-df-convert:hover {\n",
       "      background-color: #E2EBFA;\n",
       "      box-shadow: 0px 1px 2px rgba(60, 64, 67, 0.3), 0px 1px 3px 1px rgba(60, 64, 67, 0.15);\n",
       "      fill: #174EA6;\n",
       "    }\n",
       "\n",
       "    [theme=dark] .colab-df-convert {\n",
       "      background-color: #3B4455;\n",
       "      fill: #D2E3FC;\n",
       "    }\n",
       "\n",
       "    [theme=dark] .colab-df-convert:hover {\n",
       "      background-color: #434B5C;\n",
       "      box-shadow: 0px 1px 3px 1px rgba(0, 0, 0, 0.15);\n",
       "      filter: drop-shadow(0px 1px 2px rgba(0, 0, 0, 0.3));\n",
       "      fill: #FFFFFF;\n",
       "    }\n",
       "  </style>\n",
       "\n",
       "      <script>\n",
       "        const buttonEl =\n",
       "          document.querySelector('#df-1208427c-b222-4fc5-ad6f-c77e78c2ac35 button.colab-df-convert');\n",
       "        buttonEl.style.display =\n",
       "          google.colab.kernel.accessAllowed ? 'block' : 'none';\n",
       "\n",
       "        async function convertToInteractive(key) {\n",
       "          const element = document.querySelector('#df-1208427c-b222-4fc5-ad6f-c77e78c2ac35');\n",
       "          const dataTable =\n",
       "            await google.colab.kernel.invokeFunction('convertToInteractive',\n",
       "                                                     [key], {});\n",
       "          if (!dataTable) return;\n",
       "\n",
       "          const docLinkHtml = 'Like what you see? Visit the ' +\n",
       "            '<a target=\"_blank\" href=https://colab.research.google.com/notebooks/data_table.ipynb>data table notebook</a>'\n",
       "            + ' to learn more about interactive tables.';\n",
       "          element.innerHTML = '';\n",
       "          dataTable['output_type'] = 'display_data';\n",
       "          await google.colab.output.renderOutput(dataTable, element);\n",
       "          const docLink = document.createElement('div');\n",
       "          docLink.innerHTML = docLinkHtml;\n",
       "          element.appendChild(docLink);\n",
       "        }\n",
       "      </script>\n",
       "    </div>\n",
       "  </div>\n",
       "  "
      ],
      "text/plain": [
       "  english   italian\n",
       "0     Hi.     Ciao!\n",
       "1     Hi.     Ciao.\n",
       "2    Run!    Corri!\n",
       "3    Run!    Corra!\n",
       "4    Run!  Correte!"
      ]
     },
     "execution_count": 5,
     "metadata": {},
     "output_type": "execute_result"
    }
   ],
   "source": [
    "with open('ita.txt', 'r', encoding=\"utf8\") as f:\n",
    "    eng=[]\n",
    "    ita=[]\n",
    "    for i in f.readlines():\n",
    "        eng.append(i.split(\"\\t\")[0])\n",
    "        ita.append(i.split(\"\\t\")[1])\n",
    "data = pd.DataFrame(data=list(zip(eng, ita)), columns=['english','italian'])\n",
    "print(data.shape)\n",
    "data.head()"
   ]
  },
  {
   "cell_type": "code",
   "execution_count": 6,
   "metadata": {
    "colab": {
     "base_uri": "https://localhost:8080/",
     "height": 206
    },
    "id": "_lWCo-GhYXjs",
    "outputId": "34a9fb6e-6f48-4d14-cff8-cb2f009db40c"
   },
   "outputs": [
    {
     "data": {
      "text/html": [
       "\n",
       "  <div id=\"df-5592e97e-ae44-4cd8-bcb8-bccde7c0b0b7\">\n",
       "    <div class=\"colab-df-container\">\n",
       "      <div>\n",
       "<style scoped>\n",
       "    .dataframe tbody tr th:only-of-type {\n",
       "        vertical-align: middle;\n",
       "    }\n",
       "\n",
       "    .dataframe tbody tr th {\n",
       "        vertical-align: top;\n",
       "    }\n",
       "\n",
       "    .dataframe thead th {\n",
       "        text-align: right;\n",
       "    }\n",
       "</style>\n",
       "<table border=\"1\" class=\"dataframe\">\n",
       "  <thead>\n",
       "    <tr style=\"text-align: right;\">\n",
       "      <th></th>\n",
       "      <th>english</th>\n",
       "      <th>italian</th>\n",
       "    </tr>\n",
       "  </thead>\n",
       "  <tbody>\n",
       "    <tr>\n",
       "      <th>0</th>\n",
       "      <td>hi</td>\n",
       "      <td>ciao</td>\n",
       "    </tr>\n",
       "    <tr>\n",
       "      <th>1</th>\n",
       "      <td>hi</td>\n",
       "      <td>ciao</td>\n",
       "    </tr>\n",
       "    <tr>\n",
       "      <th>2</th>\n",
       "      <td>run</td>\n",
       "      <td>corri</td>\n",
       "    </tr>\n",
       "    <tr>\n",
       "      <th>3</th>\n",
       "      <td>run</td>\n",
       "      <td>corra</td>\n",
       "    </tr>\n",
       "    <tr>\n",
       "      <th>4</th>\n",
       "      <td>run</td>\n",
       "      <td>correte</td>\n",
       "    </tr>\n",
       "  </tbody>\n",
       "</table>\n",
       "</div>\n",
       "      <button class=\"colab-df-convert\" onclick=\"convertToInteractive('df-5592e97e-ae44-4cd8-bcb8-bccde7c0b0b7')\"\n",
       "              title=\"Convert this dataframe to an interactive table.\"\n",
       "              style=\"display:none;\">\n",
       "        \n",
       "  <svg xmlns=\"http://www.w3.org/2000/svg\" height=\"24px\"viewBox=\"0 0 24 24\"\n",
       "       width=\"24px\">\n",
       "    <path d=\"M0 0h24v24H0V0z\" fill=\"none\"/>\n",
       "    <path d=\"M18.56 5.44l.94 2.06.94-2.06 2.06-.94-2.06-.94-.94-2.06-.94 2.06-2.06.94zm-11 1L8.5 8.5l.94-2.06 2.06-.94-2.06-.94L8.5 2.5l-.94 2.06-2.06.94zm10 10l.94 2.06.94-2.06 2.06-.94-2.06-.94-.94-2.06-.94 2.06-2.06.94z\"/><path d=\"M17.41 7.96l-1.37-1.37c-.4-.4-.92-.59-1.43-.59-.52 0-1.04.2-1.43.59L10.3 9.45l-7.72 7.72c-.78.78-.78 2.05 0 2.83L4 21.41c.39.39.9.59 1.41.59.51 0 1.02-.2 1.41-.59l7.78-7.78 2.81-2.81c.8-.78.8-2.07 0-2.86zM5.41 20L4 18.59l7.72-7.72 1.47 1.35L5.41 20z\"/>\n",
       "  </svg>\n",
       "      </button>\n",
       "      \n",
       "  <style>\n",
       "    .colab-df-container {\n",
       "      display:flex;\n",
       "      flex-wrap:wrap;\n",
       "      gap: 12px;\n",
       "    }\n",
       "\n",
       "    .colab-df-convert {\n",
       "      background-color: #E8F0FE;\n",
       "      border: none;\n",
       "      border-radius: 50%;\n",
       "      cursor: pointer;\n",
       "      display: none;\n",
       "      fill: #1967D2;\n",
       "      height: 32px;\n",
       "      padding: 0 0 0 0;\n",
       "      width: 32px;\n",
       "    }\n",
       "\n",
       "    .colab-df-convert:hover {\n",
       "      background-color: #E2EBFA;\n",
       "      box-shadow: 0px 1px 2px rgba(60, 64, 67, 0.3), 0px 1px 3px 1px rgba(60, 64, 67, 0.15);\n",
       "      fill: #174EA6;\n",
       "    }\n",
       "\n",
       "    [theme=dark] .colab-df-convert {\n",
       "      background-color: #3B4455;\n",
       "      fill: #D2E3FC;\n",
       "    }\n",
       "\n",
       "    [theme=dark] .colab-df-convert:hover {\n",
       "      background-color: #434B5C;\n",
       "      box-shadow: 0px 1px 3px 1px rgba(0, 0, 0, 0.15);\n",
       "      filter: drop-shadow(0px 1px 2px rgba(0, 0, 0, 0.3));\n",
       "      fill: #FFFFFF;\n",
       "    }\n",
       "  </style>\n",
       "\n",
       "      <script>\n",
       "        const buttonEl =\n",
       "          document.querySelector('#df-5592e97e-ae44-4cd8-bcb8-bccde7c0b0b7 button.colab-df-convert');\n",
       "        buttonEl.style.display =\n",
       "          google.colab.kernel.accessAllowed ? 'block' : 'none';\n",
       "\n",
       "        async function convertToInteractive(key) {\n",
       "          const element = document.querySelector('#df-5592e97e-ae44-4cd8-bcb8-bccde7c0b0b7');\n",
       "          const dataTable =\n",
       "            await google.colab.kernel.invokeFunction('convertToInteractive',\n",
       "                                                     [key], {});\n",
       "          if (!dataTable) return;\n",
       "\n",
       "          const docLinkHtml = 'Like what you see? Visit the ' +\n",
       "            '<a target=\"_blank\" href=https://colab.research.google.com/notebooks/data_table.ipynb>data table notebook</a>'\n",
       "            + ' to learn more about interactive tables.';\n",
       "          element.innerHTML = '';\n",
       "          dataTable['output_type'] = 'display_data';\n",
       "          await google.colab.output.renderOutput(dataTable, element);\n",
       "          const docLink = document.createElement('div');\n",
       "          docLink.innerHTML = docLinkHtml;\n",
       "          element.appendChild(docLink);\n",
       "        }\n",
       "      </script>\n",
       "    </div>\n",
       "  </div>\n",
       "  "
      ],
      "text/plain": [
       "  english  italian\n",
       "0      hi     ciao\n",
       "1      hi     ciao\n",
       "2     run    corri\n",
       "3     run    corra\n",
       "4     run  correte"
      ]
     },
     "execution_count": 6,
     "metadata": {},
     "output_type": "execute_result"
    }
   ],
   "source": [
    "def decontractions(phrase):\n",
    "    \"\"\"decontracted takes text and convert contractions into natural form.\n",
    "     ref: https://stackoverflow.com/questions/19790188/expanding-english-language-contractions-in-python/47091490#47091490\"\"\"\n",
    "    # specific\n",
    "    phrase = re.sub(r\"won\\'t\", \"will not\", phrase)\n",
    "    phrase = re.sub(r\"can\\'t\", \"can not\", phrase)\n",
    "    phrase = re.sub(r\"won\\’t\", \"will not\", phrase)\n",
    "    phrase = re.sub(r\"can\\’t\", \"can not\", phrase)\n",
    "\n",
    "    # general\n",
    "    phrase = re.sub(r\"n\\'t\", \" not\", phrase)\n",
    "    phrase = re.sub(r\"\\'re\", \" are\", phrase)\n",
    "    phrase = re.sub(r\"\\'s\", \" is\", phrase)\n",
    "    phrase = re.sub(r\"\\'d\", \" would\", phrase)\n",
    "    phrase = re.sub(r\"\\'ll\", \" will\", phrase)\n",
    "    phrase = re.sub(r\"\\'t\", \" not\", phrase)\n",
    "    phrase = re.sub(r\"\\'ve\", \" have\", phrase)\n",
    "    phrase = re.sub(r\"\\'m\", \" am\", phrase)\n",
    "\n",
    "    phrase = re.sub(r\"n\\’t\", \" not\", phrase)\n",
    "    phrase = re.sub(r\"\\’re\", \" are\", phrase)\n",
    "    phrase = re.sub(r\"\\’s\", \" is\", phrase)\n",
    "    phrase = re.sub(r\"\\’d\", \" would\", phrase)\n",
    "    phrase = re.sub(r\"\\’ll\", \" will\", phrase)\n",
    "    phrase = re.sub(r\"\\’t\", \" not\", phrase)\n",
    "    phrase = re.sub(r\"\\’ve\", \" have\", phrase)\n",
    "    phrase = re.sub(r\"\\’m\", \" am\", phrase)\n",
    "\n",
    "    return phrase\n",
    "\n",
    "def preprocess(text):\n",
    "    # convert all the text into lower letters\n",
    "    # use this function to remove the contractions: https://gist.github.com/anandborad/d410a49a493b56dace4f814ab5325bbd\n",
    "    # remove all the spacial characters: except space ' '\n",
    "    text = text.lower()\n",
    "    text = decontractions(text)\n",
    "    text = re.sub('[^A-Za-z0-9 ]+', '', text)\n",
    "    return text\n",
    "\n",
    "def preprocess_ita(text):\n",
    "    # convert all the text into lower letters\n",
    "    # remove the words betweent brakets ()\n",
    "    # remove these characters: {'$', ')', '?', '\"', '’', '.',  '°', '!', ';', '/', \"'\", '€', '%', ':', ',', '('}\n",
    "    # replace these spl characters with space: '\\u200b', '\\xa0', '-', '/'\n",
    "    # we have found these characters after observing the data points, feel free to explore more and see if you can do find more\n",
    "    # you are free to do more proprocessing\n",
    "    # note that the model will learn better with better preprocessed data \n",
    "    \n",
    "    text = text.lower()\n",
    "    text = decontractions(text)\n",
    "    text = re.sub('[$)\\?\"’.°!;\\'€%:,(/]', '', text)\n",
    "    text = re.sub('\\u200b', ' ', text)\n",
    "    text = re.sub('\\xa0', ' ', text)\n",
    "    text = re.sub('-', ' ', text)\n",
    "    return text\n",
    "\n",
    "\n",
    "data['english'] = data['english'].apply(preprocess)\n",
    "data['italian'] = data['italian'].apply(preprocess_ita)\n",
    "data.head()"
   ]
  },
  {
   "cell_type": "code",
   "execution_count": 7,
   "metadata": {
    "id": "PB6icGrNYwUi"
   },
   "outputs": [],
   "source": [
    "data['english_input']='<start> ' +data['english'].astype(str)\n",
    "\n",
    "data['english_output']=data['english'].astype(str) + ' <end>'\n",
    "\n",
    "data = data.drop(['english'], axis=1)"
   ]
  },
  {
   "cell_type": "code",
   "execution_count": 8,
   "metadata": {
    "colab": {
     "base_uri": "https://localhost:8080/",
     "height": 206
    },
    "id": "6OP71HlAM2E7",
    "outputId": "02af7776-93e9-41e3-feba-0be128613699"
   },
   "outputs": [
    {
     "data": {
      "text/html": [
       "\n",
       "  <div id=\"df-739ce8c0-d278-4a11-ad73-79d5513ac142\">\n",
       "    <div class=\"colab-df-container\">\n",
       "      <div>\n",
       "<style scoped>\n",
       "    .dataframe tbody tr th:only-of-type {\n",
       "        vertical-align: middle;\n",
       "    }\n",
       "\n",
       "    .dataframe tbody tr th {\n",
       "        vertical-align: top;\n",
       "    }\n",
       "\n",
       "    .dataframe thead th {\n",
       "        text-align: right;\n",
       "    }\n",
       "</style>\n",
       "<table border=\"1\" class=\"dataframe\">\n",
       "  <thead>\n",
       "    <tr style=\"text-align: right;\">\n",
       "      <th></th>\n",
       "      <th>italian</th>\n",
       "      <th>english_input</th>\n",
       "      <th>english_output</th>\n",
       "    </tr>\n",
       "  </thead>\n",
       "  <tbody>\n",
       "    <tr>\n",
       "      <th>0</th>\n",
       "      <td>ciao</td>\n",
       "      <td>&lt;start&gt; hi</td>\n",
       "      <td>hi &lt;end&gt;</td>\n",
       "    </tr>\n",
       "    <tr>\n",
       "      <th>1</th>\n",
       "      <td>ciao</td>\n",
       "      <td>&lt;start&gt; hi</td>\n",
       "      <td>hi &lt;end&gt;</td>\n",
       "    </tr>\n",
       "    <tr>\n",
       "      <th>2</th>\n",
       "      <td>corri</td>\n",
       "      <td>&lt;start&gt; run</td>\n",
       "      <td>run &lt;end&gt;</td>\n",
       "    </tr>\n",
       "    <tr>\n",
       "      <th>3</th>\n",
       "      <td>corra</td>\n",
       "      <td>&lt;start&gt; run</td>\n",
       "      <td>run &lt;end&gt;</td>\n",
       "    </tr>\n",
       "    <tr>\n",
       "      <th>4</th>\n",
       "      <td>correte</td>\n",
       "      <td>&lt;start&gt; run</td>\n",
       "      <td>run &lt;end&gt;</td>\n",
       "    </tr>\n",
       "  </tbody>\n",
       "</table>\n",
       "</div>\n",
       "      <button class=\"colab-df-convert\" onclick=\"convertToInteractive('df-739ce8c0-d278-4a11-ad73-79d5513ac142')\"\n",
       "              title=\"Convert this dataframe to an interactive table.\"\n",
       "              style=\"display:none;\">\n",
       "        \n",
       "  <svg xmlns=\"http://www.w3.org/2000/svg\" height=\"24px\"viewBox=\"0 0 24 24\"\n",
       "       width=\"24px\">\n",
       "    <path d=\"M0 0h24v24H0V0z\" fill=\"none\"/>\n",
       "    <path d=\"M18.56 5.44l.94 2.06.94-2.06 2.06-.94-2.06-.94-.94-2.06-.94 2.06-2.06.94zm-11 1L8.5 8.5l.94-2.06 2.06-.94-2.06-.94L8.5 2.5l-.94 2.06-2.06.94zm10 10l.94 2.06.94-2.06 2.06-.94-2.06-.94-.94-2.06-.94 2.06-2.06.94z\"/><path d=\"M17.41 7.96l-1.37-1.37c-.4-.4-.92-.59-1.43-.59-.52 0-1.04.2-1.43.59L10.3 9.45l-7.72 7.72c-.78.78-.78 2.05 0 2.83L4 21.41c.39.39.9.59 1.41.59.51 0 1.02-.2 1.41-.59l7.78-7.78 2.81-2.81c.8-.78.8-2.07 0-2.86zM5.41 20L4 18.59l7.72-7.72 1.47 1.35L5.41 20z\"/>\n",
       "  </svg>\n",
       "      </button>\n",
       "      \n",
       "  <style>\n",
       "    .colab-df-container {\n",
       "      display:flex;\n",
       "      flex-wrap:wrap;\n",
       "      gap: 12px;\n",
       "    }\n",
       "\n",
       "    .colab-df-convert {\n",
       "      background-color: #E8F0FE;\n",
       "      border: none;\n",
       "      border-radius: 50%;\n",
       "      cursor: pointer;\n",
       "      display: none;\n",
       "      fill: #1967D2;\n",
       "      height: 32px;\n",
       "      padding: 0 0 0 0;\n",
       "      width: 32px;\n",
       "    }\n",
       "\n",
       "    .colab-df-convert:hover {\n",
       "      background-color: #E2EBFA;\n",
       "      box-shadow: 0px 1px 2px rgba(60, 64, 67, 0.3), 0px 1px 3px 1px rgba(60, 64, 67, 0.15);\n",
       "      fill: #174EA6;\n",
       "    }\n",
       "\n",
       "    [theme=dark] .colab-df-convert {\n",
       "      background-color: #3B4455;\n",
       "      fill: #D2E3FC;\n",
       "    }\n",
       "\n",
       "    [theme=dark] .colab-df-convert:hover {\n",
       "      background-color: #434B5C;\n",
       "      box-shadow: 0px 1px 3px 1px rgba(0, 0, 0, 0.15);\n",
       "      filter: drop-shadow(0px 1px 2px rgba(0, 0, 0, 0.3));\n",
       "      fill: #FFFFFF;\n",
       "    }\n",
       "  </style>\n",
       "\n",
       "      <script>\n",
       "        const buttonEl =\n",
       "          document.querySelector('#df-739ce8c0-d278-4a11-ad73-79d5513ac142 button.colab-df-convert');\n",
       "        buttonEl.style.display =\n",
       "          google.colab.kernel.accessAllowed ? 'block' : 'none';\n",
       "\n",
       "        async function convertToInteractive(key) {\n",
       "          const element = document.querySelector('#df-739ce8c0-d278-4a11-ad73-79d5513ac142');\n",
       "          const dataTable =\n",
       "            await google.colab.kernel.invokeFunction('convertToInteractive',\n",
       "                                                     [key], {});\n",
       "          if (!dataTable) return;\n",
       "\n",
       "          const docLinkHtml = 'Like what you see? Visit the ' +\n",
       "            '<a target=\"_blank\" href=https://colab.research.google.com/notebooks/data_table.ipynb>data table notebook</a>'\n",
       "            + ' to learn more about interactive tables.';\n",
       "          element.innerHTML = '';\n",
       "          dataTable['output_type'] = 'display_data';\n",
       "          await google.colab.output.renderOutput(dataTable, element);\n",
       "          const docLink = document.createElement('div');\n",
       "          docLink.innerHTML = docLinkHtml;\n",
       "          element.appendChild(docLink);\n",
       "        }\n",
       "      </script>\n",
       "    </div>\n",
       "  </div>\n",
       "  "
      ],
      "text/plain": [
       "   italian english_input english_output\n",
       "0     ciao    <start> hi       hi <end>\n",
       "1     ciao    <start> hi       hi <end>\n",
       "2    corri   <start> run      run <end>\n",
       "3    corra   <start> run      run <end>\n",
       "4  correte   <start> run      run <end>"
      ]
     },
     "execution_count": 8,
     "metadata": {},
     "output_type": "execute_result"
    }
   ],
   "source": [
    "data.head(5)"
   ]
  },
  {
   "cell_type": "code",
   "execution_count": 9,
   "metadata": {
    "id": "1enW9UeKq0of"
   },
   "outputs": [],
   "source": [
    "from sklearn.model_selection import train_test_split\n",
    "train_1, test = train_test_split(data, test_size=0.2)\n",
    "train, validation = train_test_split(train_1, test_size=0.2)"
   ]
  },
  {
   "cell_type": "code",
   "execution_count": 10,
   "metadata": {
    "id": "4YEDHp4HrEKT"
   },
   "outputs": [],
   "source": [
    "# for one sentence we will be adding <end> token so that the tokanizer learns the word <end>\n",
    "# with this we can use only one tokenizer for both encoder output and decoder output\n",
    "train.iloc[0]['english_input']= str(train.iloc[0]['english_input'])+' <end>'\n",
    "train.iloc[0]['english_output']= str(train.iloc[0]['english_output'])+' <end>'\n",
    "\n",
    "validation.iloc[0]['english_input']= str(validation.iloc[0]['english_input'])\n",
    "validation.iloc[0]['english_output']= str(validation.iloc[0]['english_output'])\n",
    "\n",
    "test.iloc[0]['english_input']= str(test.iloc[0]['english_input'])\n",
    "test.iloc[0]['english_output']= str(test.iloc[0]['english_output'])"
   ]
  },
  {
   "cell_type": "code",
   "execution_count": 11,
   "metadata": {
    "id": "SRp3v7DZrOi3"
   },
   "outputs": [],
   "source": [
    "tknizer_ita = Tokenizer(filters='!\"#$%&()*+,-./:;=?@[\\\\]^_`{|}~\\t\\n')\n",
    "tknizer_ita.fit_on_texts(train['italian'].values)\n",
    "\n",
    "italian_train=tknizer_ita.texts_to_sequences(train['italian'].values)\n",
    "italian_validation=tknizer_ita.texts_to_sequences(validation['italian'].values)\n",
    "\n",
    "tknizer_eng = Tokenizer(filters='!\"#$%&()*+,-./:;=?@[\\\\]^_`{|}~\\t\\n')\n",
    "tknizer_eng.fit_on_texts(train['english_input'].values)\n",
    "\n",
    "english_train=tknizer_eng.texts_to_sequences(train['english_input'].values)\n",
    "english_validation=tknizer_eng.texts_to_sequences(validation['english_input'].values)\n",
    "\n",
    "english_train_target=tknizer_eng.texts_to_sequences(train['english_output'].values)\n",
    "english_validation_target=tknizer_eng.texts_to_sequences(validation['english_output'].values)"
   ]
  },
  {
   "cell_type": "code",
   "execution_count": 12,
   "metadata": {
    "id": "PmZwzhbpXd3Y"
   },
   "outputs": [],
   "source": [
    "ita_lengths = data['italian'].str.split().apply(len)\n",
    "eng_lengths = data['english_input'].str.split().apply(len)"
   ]
  },
  {
   "cell_type": "code",
   "execution_count": 13,
   "metadata": {
    "colab": {
     "base_uri": "https://localhost:8080/"
    },
    "id": "J9rKgUtyXUoo",
    "outputId": "32134330-c93a-4416-d321-ac73d5722e05"
   },
   "outputs": [
    {
     "name": "stdout",
     "output_type": "stream",
     "text": [
      "Max Italian Length\n",
      "__________________________________________________\n",
      "The 0 Percentile is 1.0\n",
      "The 10 Percentile is 3.0\n",
      "The 20 Percentile is 4.0\n",
      "The 30 Percentile is 4.0\n",
      "The 40 Percentile is 5.0\n",
      "The 50 Percentile is 5.0\n",
      "The 60 Percentile is 6.0\n",
      "The 70 Percentile is 6.0\n",
      "The 80 Percentile is 7.0\n",
      "The 90 Percentile is 8.0\n",
      "The 100 Percentile is 92.0\n",
      "**************************************************\n",
      "The 90 Percentile is 8.0\n",
      "The 91 Percentile is 8.0\n",
      "The 92 Percentile is 8.0\n",
      "The 93 Percentile is 9.0\n",
      "The 94 Percentile is 9.0\n",
      "The 95 Percentile is 9.0\n",
      "The 96 Percentile is 9.0\n",
      "The 97 Percentile is 10.0\n",
      "The 98 Percentile is 11.0\n",
      "The 99 Percentile is 12.0\n",
      "The 100 Percentile is 92.0\n",
      "**************************************************\n",
      "The 99.1 Percentile is 12.0\n",
      "The 99.2 Percentile is 12.0\n",
      "The 99.3 Percentile is 13.0\n",
      "The 99.4 Percentile is 13.0\n",
      "The 99.5 Percentile is 13.0\n",
      "The 99.6 Percentile is 14.0\n",
      "The 99.7 Percentile is 15.0\n",
      "The 99.8 Percentile is 16.0\n",
      "The 99.9 Percentile is 22.0\n",
      "The 100 Percentile is 92.0\n"
     ]
    }
   ],
   "source": [
    "print('Max Italian Length')\n",
    "print('_'*50)\n",
    "for i in range(0,101,10):\n",
    "    print('The {} Percentile is {}'.format(i,np.percentile(ita_lengths, i)))\n",
    "print('*'*50)\n",
    "for i in range(90,101):\n",
    "    print('The {} Percentile is {}'.format(i,np.percentile(ita_lengths, i)))\n",
    "print('*'*50)\n",
    "for i in [99.1,99.2,99.3,99.4,99.5,99.6,99.7,99.8,99.9,100]:\n",
    "    print('The {} Percentile is {}'.format(i,np.percentile(ita_lengths, i)))"
   ]
  },
  {
   "cell_type": "code",
   "execution_count": 14,
   "metadata": {
    "colab": {
     "base_uri": "https://localhost:8080/"
    },
    "id": "I9fA_wxTYLhr",
    "outputId": "1d03ab20-18ef-4cb4-b348-020b8f280702"
   },
   "outputs": [
    {
     "name": "stdout",
     "output_type": "stream",
     "text": [
      "Max English Length\n",
      "__________________________________________________\n",
      "The 0 Percentile is 2.0\n",
      "The 10 Percentile is 5.0\n",
      "The 20 Percentile is 5.0\n",
      "The 30 Percentile is 6.0\n",
      "The 40 Percentile is 6.0\n",
      "The 50 Percentile is 7.0\n",
      "The 60 Percentile is 7.0\n",
      "The 70 Percentile is 8.0\n",
      "The 80 Percentile is 8.0\n",
      "The 90 Percentile is 9.0\n",
      "The 100 Percentile is 102.0\n",
      "**************************************************\n",
      "The 90 Percentile is 9.0\n",
      "The 91 Percentile is 10.0\n",
      "The 92 Percentile is 10.0\n",
      "The 93 Percentile is 10.0\n",
      "The 94 Percentile is 10.0\n",
      "The 95 Percentile is 10.0\n",
      "The 96 Percentile is 11.0\n",
      "The 97 Percentile is 11.0\n",
      "The 98 Percentile is 12.0\n",
      "The 99 Percentile is 13.0\n",
      "The 100 Percentile is 102.0\n",
      "**************************************************\n",
      "The 99.1 Percentile is 13.0\n",
      "The 99.2 Percentile is 14.0\n",
      "The 99.3 Percentile is 14.0\n",
      "The 99.4 Percentile is 14.0\n",
      "The 99.5 Percentile is 15.0\n",
      "The 99.6 Percentile is 15.0\n",
      "The 99.7 Percentile is 16.0\n",
      "The 99.8 Percentile is 17.0\n",
      "The 99.9 Percentile is 26.0\n",
      "The 100 Percentile is 102.0\n"
     ]
    }
   ],
   "source": [
    "print('Max English Length')\n",
    "print('_'*50)\n",
    "for i in range(0,101,10):\n",
    "    print('The {} Percentile is {}'.format(i,np.percentile(eng_lengths, i)))\n",
    "print('*'*50)\n",
    "for i in range(90,101):\n",
    "    print('The {} Percentile is {}'.format(i,np.percentile(eng_lengths, i)))\n",
    "print('*'*50)\n",
    "for i in [99.1,99.2,99.3,99.4,99.5,99.6,99.7,99.8,99.9,100]:\n",
    "    print('The {} Percentile is {}'.format(i,np.percentile(eng_lengths, i)))"
   ]
  },
  {
   "cell_type": "code",
   "execution_count": 15,
   "metadata": {
    "colab": {
     "base_uri": "https://localhost:8080/"
    },
    "id": "CFACmAUFNsWS",
    "outputId": "75765fa8-ecfa-424b-9e7e-6eff34d3c8bb"
   },
   "outputs": [
    {
     "name": "stdout",
     "output_type": "stream",
     "text": [
      "22\n",
      "26\n"
     ]
    }
   ],
   "source": [
    "italian_pad_length=22\n",
    "english_pad_length=26\n",
    "print(italian_pad_length)\n",
    "print(english_pad_length)"
   ]
  },
  {
   "cell_type": "code",
   "execution_count": 16,
   "metadata": {
    "id": "sSqNHcV5NlFa"
   },
   "outputs": [],
   "source": [
    "padded_english_train=tf.keras.utils.pad_sequences(english_train, maxlen=english_pad_length,padding='post' )\n",
    "padded_italian_train=tf.keras.utils.pad_sequences(italian_train, maxlen=italian_pad_length,padding='post' )\n",
    "padded_english_target_train=tf.keras.utils.pad_sequences(english_train_target, maxlen=english_pad_length,padding='post' )\n",
    "\n",
    "padded_english_validation=tf.keras.utils.pad_sequences(english_validation, maxlen=english_pad_length,padding='post' )\n",
    "padded_italian_validation=tf.keras.utils.pad_sequences(italian_validation, maxlen=italian_pad_length,padding='post' )\n",
    "padded_english_target_validation=tf.keras.utils.pad_sequences(english_validation_target, maxlen=english_pad_length,padding='post' )"
   ]
  },
  {
   "cell_type": "code",
   "execution_count": null,
   "metadata": {
    "id": "QiaH4JFZM2E_"
   },
   "outputs": [],
   "source": []
  },
  {
   "cell_type": "code",
   "execution_count": 17,
   "metadata": {
    "colab": {
     "base_uri": "https://localhost:8080/"
    },
    "id": "5VUm097Js1-T",
    "outputId": "f35034a4-e5a1-45db-f973-c435227127d3"
   },
   "outputs": [
    {
     "name": "stdout",
     "output_type": "stream",
     "text": [
      "12596\n",
      "25244\n"
     ]
    }
   ],
   "source": [
    "vocab_size_eng=max(tknizer_eng.word_index.values())\n",
    "print(vocab_size_eng)\n",
    "vocab_size_ita=max(tknizer_ita.word_index.values())\n",
    "print(vocab_size_ita)"
   ]
  },
  {
   "cell_type": "code",
   "execution_count": 18,
   "metadata": {
    "colab": {
     "base_uri": "https://localhost:8080/"
    },
    "id": "Xgbtl3yKs6t8",
    "outputId": "90091c4c-ddb1-4060-d3a5-416977108c58"
   },
   "outputs": [
    {
     "data": {
      "text/plain": [
       "(1, 9642)"
      ]
     },
     "execution_count": 18,
     "metadata": {},
     "output_type": "execute_result"
    }
   ],
   "source": [
    "tknizer_eng.word_index['<start>'], tknizer_eng.word_index['<end>']"
   ]
  },
  {
   "cell_type": "code",
   "execution_count": 19,
   "metadata": {
    "colab": {
     "base_uri": "https://localhost:8080/"
    },
    "id": "iL_ePvsaYi9Y",
    "outputId": "f1fd9333-777e-4e45-9cc2-58a92493b027"
   },
   "outputs": [
    {
     "name": "stderr",
     "output_type": "stream",
     "text": [
      "400000it [00:11, 35454.38it/s]\n"
     ]
    }
   ],
   "source": [
    "from tqdm import tqdm\n",
    "embeddings_index = dict()\n",
    "f = open('glove.6B.100d.txt')\n",
    "for line in tqdm(f):\n",
    "    values = line.split()\n",
    "    word = values[0]\n",
    "    coefs = np.asarray(values[1:], dtype='float32')\n",
    "    embeddings_index[word] = coefs\n",
    "f.close()\n",
    "\n",
    "embedding_matrix = np.zeros((vocab_size_eng+1, 100))\n",
    "for word, i in tknizer_eng.word_index.items():\n",
    "    embedding_vector = embeddings_index.get(word)\n",
    "    if embedding_vector is not None:\n",
    "        embedding_matrix[i] = embedding_vector"
   ]
  },
  {
   "cell_type": "code",
   "execution_count": 20,
   "metadata": {
    "colab": {
     "base_uri": "https://localhost:8080/"
    },
    "id": "zsUuYpb9vLO1",
    "outputId": "4ca15bc2-f7e8-44f2-e3bb-c07a874b2209"
   },
   "outputs": [
    {
     "data": {
      "text/plain": [
       "(12597, 100)"
      ]
     },
     "execution_count": 20,
     "metadata": {},
     "output_type": "execute_result"
    }
   ],
   "source": [
    "embedding_matrix.shape"
   ]
  },
  {
   "cell_type": "markdown",
   "metadata": {
    "id": "S8RDrP4xKabR"
   },
   "source": [
    "## <font color='blue'>**Implement custom encoder decoder**</font>"
   ]
  },
  {
   "cell_type": "markdown",
   "metadata": {
    "id": "A45uc0JILMlV"
   },
   "source": [
    "<font color='blue'>**Encoder**</font>"
   ]
  },
  {
   "cell_type": "code",
   "execution_count": null,
   "metadata": {
    "id": "9cex2XfCLOew"
   },
   "outputs": [],
   "source": [
    "class Encoder(tf.keras.Model):\n",
    "    '''\n",
    "    Encoder model -- That takes a input sequence and returns encoder-outputs,encoder_final_state_h,encoder_final_state_c\n",
    "    '''\n",
    "\n",
    "    def __init__(self,inp_vocab_size,embedding_size,lstm_size,input_length):\n",
    "        super().__init__()\n",
    "        #Initialize Embedding layer\n",
    "        #Intialize Encoder LSTM layer\n",
    "        self.inp_vocab_size=inp_vocab_size\n",
    "        self.embedding_size=embedding_size\n",
    "        self.lstm_size=lstm_size\n",
    "        self.input_length=input_length\n",
    "\n",
    "    def build(self,input_shape):\n",
    "        self.embedding_layer=Embedding(self.inp_vocab_size, output_dim=self.embedding_size, input_length=self.input_length,mask_zero=True )\n",
    "        self.lstm_layer=LSTM(self.lstm_size, return_sequences=True, return_state=True)\n",
    "        \n",
    "    def call(self,input_sequence,states):\n",
    "        '''\n",
    "          This function takes a sequence input and the initial states of the encoder.\n",
    "          Pass the input_sequence input to the Embedding layer, Pass the embedding layer ouput to encoder_lstm\n",
    "          returns -- encoder_output, last time step's hidden and cell state\n",
    "        '''\n",
    "        input_1=self.embedding_layer(input_sequence)\n",
    "        encoder_outputs,encoder_state_h,encoder_state_c=self.lstm_layer(input_1,initial_state=states )\n",
    "\n",
    "        return encoder_outputs,encoder_state_h,encoder_state_c\n",
    "\n",
    "    \n",
    "    def initialize_states(self,batch_size):\n",
    "      '''\n",
    "      Given a batch size it will return intial hidden state and intial cell state.\n",
    "      If batch size is 32- Hidden state is zeros of size [32,lstm_units], cell state zeros is of size [32,lstm_units]\n",
    "      '''\n",
    "      initial_hidden_state=tf.zeros((batch_size,self.lstm_size))\n",
    "      initial_cell_state=tf.zeros((batch_size,self.lstm_size))\n",
    "\n",
    "      return initial_hidden_state,initial_cell_state"
   ]
  },
  {
   "cell_type": "markdown",
   "metadata": {
    "id": "EtbOI3VwLOe0"
   },
   "source": [
    "<font color='orange'>**Grader function - 1**</font>"
   ]
  },
  {
   "cell_type": "code",
   "execution_count": null,
   "metadata": {
    "colab": {
     "base_uri": "https://localhost:8080/"
    },
    "id": "ziSqOgmhLOe1",
    "outputId": "70c2bf9e-a533-4c43-85fb-0ddb8ec71c23"
   },
   "outputs": [
    {
     "name": "stdout",
     "output_type": "stream",
     "text": [
      "True\n"
     ]
    }
   ],
   "source": [
    "def grader_check_encoder():\n",
    "    '''\n",
    "        vocab-size: Unique words of the input language,\n",
    "        embedding_size: output embedding dimension for each word after embedding layer,\n",
    "        lstm_size: Number of lstm units,\n",
    "        input_length: Length of the input sentence,\n",
    "        batch_size\n",
    "    '''\n",
    "    vocab_size=10\n",
    "    embedding_size=20\n",
    "    lstm_size=32\n",
    "    input_length=10\n",
    "    batch_size=16\n",
    "    #Intialzing encoder \n",
    "    encoder=Encoder(vocab_size,embedding_size,lstm_size,input_length)\n",
    "    input_sequence=tf.random.uniform(shape=[batch_size,input_length],maxval=vocab_size,minval=0,dtype=tf.int32)\n",
    "    #Intializing encoder initial states\n",
    "    initial_state=encoder.initialize_states(batch_size)\n",
    "    \n",
    "    encoder_output,state_h,state_c=encoder(input_sequence,initial_state)\n",
    "    \n",
    "    assert(encoder_output.shape==(batch_size,input_length,lstm_size) and state_h.shape==(batch_size,lstm_size) and state_c.shape==(batch_size,lstm_size))\n",
    "    return True\n",
    "print(grader_check_encoder())"
   ]
  },
  {
   "cell_type": "code",
   "execution_count": null,
   "metadata": {
    "id": "x1ES1-sJLOe4"
   },
   "outputs": [],
   "source": [
    "class Decoder(tf.keras.Model):\n",
    "    '''\n",
    "    Encoder model -- That takes a input sequence and returns output sequence\n",
    "    '''\n",
    "\n",
    "    def __init__(self,out_vocab_size,embedding_size,lstm_size,input_length):\n",
    "\n",
    "        #Initialize Embedding layer\n",
    "        #Intialize Decoder LSTM layer\n",
    "        super().__init__()\n",
    "        self.out_vocab_size=out_vocab_size\n",
    "        self.embedding_size=embedding_size\n",
    "        self.lstm_size=lstm_size\n",
    "        self.input_length=input_length\n",
    "        \n",
    "    def build(self, input_shape):\n",
    "        self.embedding_layer=Embedding(self.out_vocab_size, output_dim=self.embedding_size, input_length=self.input_length,mask_zero=True,weights=[embedding_matrix], trainable=False)\n",
    "        self.lstm_layer=LSTM(self.lstm_size,return_sequences=True, return_state=True,)\n",
    "\n",
    "\n",
    "    def call(self,input_sequence,initial_states):\n",
    "        '''\n",
    "          This function takes a sequence input and the initial states of the encoder.\n",
    "          Pass the input_sequence input to the Embedding layer, Pass the embedding layer ouput to decoder_lstm\n",
    "        \n",
    "          returns -- decoder_output,decoder_final_state_h,decoder_final_state_c\n",
    "        '''\n",
    "        input_2=self.embedding_layer(input_sequence)\n",
    "        decoder_output,decoder_final_state_h,decoder_final_state_c=self.lstm_layer(input_2, initial_state=initial_states)\n",
    "\n",
    "        return decoder_output,decoder_final_state_h,decoder_final_state_c\n"
   ]
  },
  {
   "cell_type": "markdown",
   "metadata": {
    "id": "Hq-I0SUbLOe8"
   },
   "source": [
    "<font color='orange'>**Grader function - 2**</font>"
   ]
  },
  {
   "cell_type": "code",
   "execution_count": null,
   "metadata": {
    "colab": {
     "base_uri": "https://localhost:8080/"
    },
    "id": "0B0gokgKLOe8",
    "outputId": "7cb0fb9e-1244-44da-8268-59aedd9db906"
   },
   "outputs": [
    {
     "name": "stdout",
     "output_type": "stream",
     "text": [
      "True\n"
     ]
    }
   ],
   "source": [
    "def grader_decoder():\n",
    "    '''\n",
    "        out_vocab_size: Unique words of the target language,\n",
    "        embedding_size: output embedding dimension for each word after embedding layer,\n",
    "        dec_units: Number of lstm units in decoder,\n",
    "        input_length: Length of the input sentence,\n",
    "        batch_size\n",
    "        \n",
    "    \n",
    "    '''\n",
    "    out_vocab_size=13 \n",
    "    embedding_dim=12 \n",
    "    input_length=10\n",
    "    dec_units=16 \n",
    "    batch_size=32\n",
    "    \n",
    "    target_sentences=tf.random.uniform(shape=(batch_size,input_length),maxval=10,minval=0,dtype=tf.int32)\n",
    "    encoder_output=tf.random.uniform(shape=[batch_size,input_length,dec_units])\n",
    "    state_h=tf.random.uniform(shape=[batch_size,dec_units])\n",
    "    state_c=tf.random.uniform(shape=[batch_size,dec_units])\n",
    "    states=[state_h,state_c]\n",
    "    decoder=Decoder(out_vocab_size, embedding_dim, dec_units,input_length )\n",
    "    output,_,_=decoder(target_sentences, states)\n",
    "    assert(output.shape==(batch_size,input_length,dec_units))\n",
    "    return True\n",
    "print(grader_decoder())\n"
   ]
  },
  {
   "cell_type": "code",
   "execution_count": null,
   "metadata": {
    "id": "BXrIj4scLOe_"
   },
   "outputs": [],
   "source": [
    "class Encoder_decoder(tf.keras.Model):\n",
    "    \n",
    "    def __init__(self,inp_vocab_size, embedding_size, lstm_size,decoder_input_length, encoder_input_length,out_vocab_size, batch_size):\n",
    "        super().__init__()\n",
    "        #Create encoder object\n",
    "        #Create decoder object\n",
    "        #Intialize Dense layer(out_vocab_size) with activation='softmax'\n",
    "\n",
    "        self.encoder=Encoder(inp_vocab_size, embedding_size, lstm_size,encoder_input_length)\n",
    "        self.decoder=Decoder(out_vocab_size, embedding_size, lstm_size, decoder_input_length)\n",
    "        self.soft_max=Dense(out_vocab_size, 'softmax')\n",
    "        self.batch_size=batch_size\n",
    "    \n",
    "    def call(self,data):#,*params\n",
    "        '''\n",
    "        A. Pass the input sequence to Encoder layer -- Return encoder_output,encoder_final_state_h,encoder_final_state_c\n",
    "        B. Pass the target sequence to Decoder layer with intial states as encoder_final_state_h,encoder_final_state_C\n",
    "        C. Pass the decoder_outputs into Dense layer \n",
    "        \n",
    "        Return decoder_outputs\n",
    "        '''\n",
    "        states=self.encoder.initialize_states(self.batch_size)\n",
    "        \n",
    "        input_sequence,target_sequence =data[0], data[1]\n",
    "        \n",
    "        encoder_output,encoder_final_state_h,encoder_final_state_c=self.encoder(input_sequence,states)\n",
    "        decoder_output,decoder_final_state_h,decoder_final_state_c =self.decoder(target_sequence, initial_states=[encoder_final_state_h,encoder_final_state_c])\n",
    "        \n",
    "        encoder_final_state_h,encoder_final_state_c=decoder_final_state_h,decoder_final_state_c\n",
    "        dense_output=self.soft_max(decoder_output)\n",
    "\n",
    "        return dense_output"
   ]
  },
  {
   "cell_type": "code",
   "execution_count": null,
   "metadata": {
    "id": "LV9blvzTZMM7"
   },
   "outputs": [],
   "source": []
  },
  {
   "cell_type": "code",
   "execution_count": null,
   "metadata": {
    "id": "Lv-eZjzCTH0E"
   },
   "outputs": [],
   "source": [
    "class Dataset:\n",
    "    def __init__(self, data, tknizer_ita, tknizer_eng, max_len_ita, max_len_eng):\n",
    "        self.encoder_inps = data['italian'].values\n",
    "        self.decoder_inps = data['english_input'].values\n",
    "        self.decoder_outs = data['english_output'].values\n",
    "        self.tknizer_eng = tknizer_eng\n",
    "        self.tknizer_ita = tknizer_ita\n",
    "        self.max_len_ita = max_len_ita\n",
    "        self.max_len_eng = max_len_eng\n",
    "\n",
    "    def __getitem__(self, i):\n",
    "        self.encoder_seq = self.tknizer_ita.texts_to_sequences([self.encoder_inps[i]]) # need to pass list of values\n",
    "        self.decoder_inp_seq = self.tknizer_eng.texts_to_sequences([self.decoder_inps[i]])\n",
    "        self.decoder_out_seq = self.tknizer_eng.texts_to_sequences([self.decoder_outs[i]])\n",
    "\n",
    "        self.encoder_seq = pad_sequences(self.encoder_seq, maxlen=self.max_len_ita, dtype='int32', padding='post')\n",
    "        self.decoder_inp_seq = pad_sequences(self.decoder_inp_seq, maxlen=self.max_len_eng, dtype='int32', padding='post')\n",
    "        self.decoder_out_seq = pad_sequences(self.decoder_out_seq, maxlen=self.max_len_eng, dtype='int32', padding='post')\n",
    "        return self.encoder_seq, self.decoder_inp_seq, self.decoder_out_seq\n",
    "\n",
    "    def __len__(self): # your model.fit_gen requires this function\n",
    "        return len(self.encoder_inps)\n",
    "\n",
    "    \n",
    "class Dataloder(tf.keras.utils.Sequence):    \n",
    "    def __init__(self, dataset, batch_size=1):\n",
    "        self.dataset = dataset\n",
    "        self.batch_size = batch_size\n",
    "        self.indexes = np.arange(len(self.dataset.encoder_inps))\n",
    "\n",
    "\n",
    "    def __getitem__(self, i):\n",
    "        start = i * self.batch_size\n",
    "        stop = (i + 1) * self.batch_size\n",
    "        data = []\n",
    "        for j in range(start, stop):\n",
    "            data.append(self.dataset[j])\n",
    "\n",
    "        batch = [np.squeeze(np.stack(samples, axis=1), axis=0) for samples in zip(*data)]\n",
    "        # we are creating data like ([italian, english_inp], english_out) these are already converted into seq\n",
    "        return tuple([[batch[0],batch[1]],batch[2]])\n",
    "\n",
    "    def __len__(self):  # your model.fit_gen requires this function\n",
    "        return len(self.indexes) // self.batch_size\n",
    "\n",
    "    def on_epoch_end(self):\n",
    "        self.indexes = np.random.permutation(self.indexes)"
   ]
  },
  {
   "cell_type": "code",
   "execution_count": null,
   "metadata": {
    "id": "gLO0i6II-IE0"
   },
   "outputs": [],
   "source": []
  },
  {
   "cell_type": "code",
   "execution_count": null,
   "metadata": {
    "id": "KlRzdyUwXAJ3"
   },
   "outputs": [],
   "source": [
    "train_dataset=Dataset(train, tknizer_ita, tknizer_eng, max_len_ita=22, max_len_eng=26)\n",
    "validation_dataset=Dataset(validation, tknizer_ita, tknizer_eng, max_len_ita=22, max_len_eng=26)\n",
    "test_dataset=Dataset(test, tknizer_ita, tknizer_eng, max_len_ita=22, max_len_eng=26)\n",
    "\n",
    "size=512\n",
    "\n",
    "train_data_loader=Dataloder(train_dataset, batch_size=size)\n",
    "validation_data_loader=Dataloder(validation_dataset, batch_size=size)\n",
    "test_data_loader=Dataloder(test_dataset, batch_size=size)"
   ]
  },
  {
   "cell_type": "code",
   "execution_count": null,
   "metadata": {
    "colab": {
     "base_uri": "https://localhost:8080/"
    },
    "id": "kcL61dJXLOfB",
    "outputId": "b5ad56f2-ff54-47ce-b8fa-fb660f50308f"
   },
   "outputs": [
    {
     "name": "stdout",
     "output_type": "stream",
     "text": [
      "Epoch 1/50\n",
      "447/447 [==============================] - 131s 293ms/step - loss: 6.1651 - val_loss: 5.4263\n",
      "Epoch 2/50\n",
      "447/447 [==============================] - 131s 292ms/step - loss: 5.4333 - val_loss: 5.4163\n",
      "Epoch 3/50\n",
      "447/447 [==============================] - 135s 302ms/step - loss: 5.3870 - val_loss: 5.3149\n",
      "Epoch 4/50\n",
      "447/447 [==============================] - 137s 306ms/step - loss: 5.2622 - val_loss: 5.1537\n",
      "Epoch 5/50\n",
      "447/447 [==============================] - 135s 301ms/step - loss: 4.9261 - val_loss: 4.6895\n",
      "Epoch 6/50\n",
      "447/447 [==============================] - 130s 292ms/step - loss: 4.4870 - val_loss: 4.2877\n",
      "Epoch 7/50\n",
      "447/447 [==============================] - 154s 344ms/step - loss: 4.1264 - val_loss: 3.9969\n",
      "Epoch 8/50\n",
      "447/447 [==============================] - 133s 298ms/step - loss: 3.8745 - val_loss: 3.7850\n",
      "Epoch 9/50\n",
      "447/447 [==============================] - 130s 292ms/step - loss: 3.6725 - val_loss: 3.6102\n",
      "Epoch 10/50\n",
      "447/447 [==============================] - 134s 300ms/step - loss: 3.5037 - val_loss: 3.4668\n",
      "Epoch 11/50\n",
      "447/447 [==============================] - 134s 300ms/step - loss: 3.3652 - val_loss: 3.3506\n",
      "Epoch 12/50\n",
      "447/447 [==============================] - 131s 294ms/step - loss: 3.2509 - val_loss: 3.2554\n",
      "Epoch 13/50\n",
      "447/447 [==============================] - 134s 300ms/step - loss: 3.1536 - val_loss: 3.1759\n",
      "Epoch 14/50\n",
      "447/447 [==============================] - 136s 304ms/step - loss: 3.0707 - val_loss: 3.1074\n",
      "Epoch 15/50\n",
      "447/447 [==============================] - 136s 304ms/step - loss: 2.9979 - val_loss: 3.0477\n",
      "Epoch 16/50\n",
      "447/447 [==============================] - 130s 290ms/step - loss: 2.9345 - val_loss: 2.9971\n",
      "Epoch 17/50\n",
      "447/447 [==============================] - 134s 299ms/step - loss: 2.8783 - val_loss: 2.9517\n",
      "Epoch 18/50\n",
      "447/447 [==============================] - 150s 336ms/step - loss: 2.8275 - val_loss: 2.9109\n",
      "Epoch 19/50\n",
      "447/447 [==============================] - 134s 300ms/step - loss: 2.7807 - val_loss: 2.8731\n",
      "Epoch 20/50\n",
      "447/447 [==============================] - 135s 302ms/step - loss: 2.7369 - val_loss: 2.8366\n",
      "Epoch 21/50\n",
      "447/447 [==============================] - 151s 337ms/step - loss: 2.6951 - val_loss: 2.8026\n",
      "Epoch 22/50\n",
      "447/447 [==============================] - 133s 297ms/step - loss: 2.6536 - val_loss: 2.7696\n",
      "Epoch 23/50\n",
      "447/447 [==============================] - 134s 299ms/step - loss: 2.6116 - val_loss: 2.7348\n",
      "Epoch 24/50\n",
      "447/447 [==============================] - 135s 302ms/step - loss: 2.5713 - val_loss: 2.7017\n",
      "Epoch 25/50\n",
      "447/447 [==============================] - 130s 290ms/step - loss: 2.5334 - val_loss: 2.6717\n",
      "Epoch 26/50\n",
      "447/447 [==============================] - 135s 302ms/step - loss: 2.4987 - val_loss: 2.6459\n",
      "Epoch 27/50\n",
      "447/447 [==============================] - 134s 300ms/step - loss: 2.4674 - val_loss: 2.6208\n",
      "Epoch 28/50\n",
      "447/447 [==============================] - 131s 293ms/step - loss: 2.4377 - val_loss: 2.5986\n",
      "Epoch 29/50\n",
      "447/447 [==============================] - 131s 292ms/step - loss: 2.4103 - val_loss: 2.5787\n",
      "Epoch 30/50\n",
      "447/447 [==============================] - 148s 331ms/step - loss: 2.3845 - val_loss: 2.5599\n",
      "Epoch 31/50\n",
      "447/447 [==============================] - 131s 293ms/step - loss: 2.3601 - val_loss: 2.5422\n",
      "Epoch 32/50\n",
      "447/447 [==============================] - 131s 293ms/step - loss: 2.3373 - val_loss: 2.5273\n",
      "Epoch 33/50\n",
      "447/447 [==============================] - 134s 300ms/step - loss: 2.3154 - val_loss: 2.5106\n",
      "Epoch 34/50\n",
      "447/447 [==============================] - 135s 303ms/step - loss: 2.2947 - val_loss: 2.4968\n",
      "Epoch 35/50\n",
      "447/447 [==============================] - 132s 294ms/step - loss: 2.2748 - val_loss: 2.4837\n",
      "Epoch 36/50\n",
      "447/447 [==============================] - 132s 296ms/step - loss: 2.2557 - val_loss: 2.4701\n",
      "Epoch 37/50\n",
      "447/447 [==============================] - 136s 304ms/step - loss: 2.2376 - val_loss: 2.4579\n",
      "Epoch 38/50\n",
      "447/447 [==============================] - 134s 300ms/step - loss: 2.2201 - val_loss: 2.4450\n",
      "Epoch 39/50\n",
      "447/447 [==============================] - 131s 294ms/step - loss: 2.2032 - val_loss: 2.4344\n",
      "Epoch 40/50\n",
      "447/447 [==============================] - 134s 301ms/step - loss: 2.1874 - val_loss: 2.4239\n",
      "Epoch 41/50\n",
      "447/447 [==============================] - 134s 299ms/step - loss: 2.1720 - val_loss: 2.4132\n",
      "Epoch 42/50\n",
      "447/447 [==============================] - 130s 291ms/step - loss: 2.1568 - val_loss: 2.4058\n",
      "Epoch 43/50\n",
      "447/447 [==============================] - 155s 346ms/step - loss: 2.1429 - val_loss: 2.3933\n",
      "Epoch 44/50\n",
      "447/447 [==============================] - 136s 304ms/step - loss: 2.1287 - val_loss: 2.3842\n",
      "Epoch 45/50\n",
      "447/447 [==============================] - 130s 291ms/step - loss: 2.1155 - val_loss: 2.3759\n",
      "Epoch 46/50\n",
      "447/447 [==============================] - 136s 303ms/step - loss: 2.1021 - val_loss: 2.3684\n",
      "Epoch 47/50\n",
      "447/447 [==============================] - 136s 304ms/step - loss: 2.0889 - val_loss: 2.3599\n",
      "Epoch 48/50\n",
      "447/447 [==============================] - 132s 294ms/step - loss: 2.0764 - val_loss: 2.3525\n",
      "Epoch 49/50\n",
      "447/447 [==============================] - 134s 300ms/step - loss: 2.0646 - val_loss: 2.3454\n",
      "Epoch 50/50\n",
      "447/447 [==============================] - 135s 301ms/step - loss: 2.0530 - val_loss: 2.3416\n"
     ]
    },
    {
     "data": {
      "text/plain": [
       "<keras.callbacks.History at 0x7f02bfd75070>"
      ]
     },
     "execution_count": 76,
     "metadata": {},
     "output_type": "execute_result"
    }
   ],
   "source": [
    "#Create an object of encoder_decoder Model class, \n",
    "# Compile the model and fit the model\n",
    "lr_rate=tf.keras.callbacks.ReduceLROnPlateau(patience=4,min_delta=0.01)\n",
    "stopping=tf.keras.callbacks.EarlyStopping(min_delta=0.01, patience=3)\n",
    "\n",
    "callbacks=[tensorboard,checkpoint,lr_rate,stopping]\n",
    "size=512\n",
    "model=Encoder_decoder(inp_vocab_size=(vocab_size_ita+1), embedding_size=100, lstm_size=50, decoder_input_length=english_pad_length, encoder_input_length=italian_pad_length,out_vocab_size=(vocab_size_eng+1),batch_size=size)\n",
    "input_data=[padded_italian_train,padded_english_train]\n",
    "model.compile(optimizer=tf.keras.optimizers.Adam(0.001), loss='sparse_categorical_crossentropy')\n",
    "model.fit(train_data_loader,epochs=50, batch_size=size,validation_data=validation_data_loader  )"
   ]
  },
  {
   "cell_type": "code",
   "execution_count": null,
   "metadata": {
    "colab": {
     "base_uri": "https://localhost:8080/",
     "height": 53
    },
    "id": "SkARSlZgLOfE",
    "outputId": "60e038df-1b0f-483d-c4d5-00dfc3ccf3f2"
   },
   "outputs": [
    {
     "data": {
      "text/plain": [
       "'murder wrinkle observed could classified dumb procrastinating broadcasting formulas pacifist atomic cable 9minute traffic rosa childish twothirds unlaced falsely interruption explode fax gangsters state ink halfbrother'"
      ]
     },
     "execution_count": 78,
     "metadata": {},
     "output_type": "execute_result"
    }
   ],
   "source": [
    "def predict(input_sentence):\n",
    "\n",
    "    '''\n",
    "    A. Given input sentence, convert the sentence into integers using tokenizer used earlier\n",
    "    B. Pass the input_sequence to encoder. we get encoder_outputs, last time step hidden and cell state\n",
    "    C. Initialize index of <start> as input to decoder. and encoder final states as input_states to decoder\n",
    "    D. till we reach max_length of decoder or till the model predicted word <end>:\n",
    "           predicted_out,state_h,state_c=model.layers[1](dec_input,states)\n",
    "           pass the predicted_out to the dense layer\n",
    "           update the states=[state_h,state_c]\n",
    "           And get the index of the word with maximum probability of the dense layer output, using the tokenizer(word index) get the word and then store it in a string.\n",
    "           Update the input_to_decoder with current predictions\n",
    "    F. Return the predicted sentence\n",
    "    '''\n",
    "    output_sentence=[]\n",
    "    batch_size=1\n",
    "    tokenized_sent=tknizer_ita.texts_to_sequences([input_sentence])\n",
    "    #print(tokenized_sent)\n",
    "    padded_sent=padded_italian_train=tf.keras.utils.pad_sequences(tokenized_sent, maxlen=italian_pad_length,padding='post' )\n",
    "\n",
    "    encoder=Encoder(inp_vocab_size=vocab_size_ita, embedding_size=100, lstm_size=20, input_length=italian_pad_length)\n",
    "    \n",
    "    initial_states=model.layers[0].initialize_states(batch_size)\n",
    "    \n",
    "    encoder_output, encoder_h, encoder_c=encoder(padded_sent, initial_states)\n",
    "    \n",
    "    start_index=tknizer_eng.word_index.get('<start>')\n",
    "    end_index=tknizer_eng.word_index.get('<end>')\n",
    "    \n",
    "    for i in range(english_pad_length):#\n",
    "        start_input=tf.keras.utils.pad_sequences([[start_index]], maxlen=english_pad_length,padding='post' )\n",
    "        \n",
    "        predicted_out,state_h,state_c=model.layers[1](start_input,[encoder_h, encoder_c])\n",
    "\n",
    "        encoder_h, encoder_c=[state_h,state_c]\n",
    "        #print(output.shape)\n",
    "        \n",
    "        predicted_out=tf.keras.layers.Flatten()(predicted_out)\n",
    "        output=Dense(vocab_size_eng, 'softmax')(predicted_out)    \n",
    "        \n",
    "        output_index=np.argmax(output)\n",
    "        start_index=output_index\n",
    "        #print(output_index)\n",
    "        output_sentence.append(list(tknizer_eng.word_index.keys())[output_index])\n",
    "        #print(list(tknizer_eng.word_index.keys())[output_index])\n",
    "        if output_index==end_index:\n",
    "            break;\n",
    "            print('End')\n",
    "    return ' '.join(output_sentence)\n",
    "\n",
    "i='so che aggiungere frasi soltanto nella sua lingua madre o nella sua lingua più forte non è probabilmente divertente quanto esercitarsi a scrivere in lingue straniere ma per piacere non aggiunga frasi nel corpus di tatoeba se non è assolutamente sicuro che siano corrette se vuole praticare le lingue che sta studiando per piacere lo faccia utilizzando un sito web progettato a tale scopo come wwwlang 8com'\n",
    "j=predict(i)\n",
    "j"
   ]
  },
  {
   "cell_type": "code",
   "execution_count": null,
   "metadata": {
    "id": "996pFO8BLOfG"
   },
   "outputs": [],
   "source": [
    "# Predict on 1000 random sentences on test data and calculate the average BLEU score of these sentences.\n",
    "# https://www.nltk.org/_modules/nltk/translate/bleu_score.html\n",
    "samples=test['italian'].sample(1000)\n",
    "predicted_eng_samples=samples.apply(predict)\n"
   ]
  },
  {
   "cell_type": "code",
   "execution_count": null,
   "metadata": {
    "colab": {
     "base_uri": "https://localhost:8080/"
    },
    "id": "avZMXMRbNPlL",
    "outputId": "93aaaf07-787b-4e13-e37a-9c33e5048039"
   },
   "outputs": [
    {
     "name": "stderr",
     "output_type": "stream",
     "text": [
      "100%|█████████████████████████████████████████████████████████████████████| 1000/1000 [00:01<00:00, 903.94it/s]\n"
     ]
    }
   ],
   "source": [
    "import nltk.translate.bleu_score as bleu\n",
    "from tqdm import tqdm\n",
    "\n",
    "blue_scores=[]\n",
    "\n",
    "for i in tqdm(range(len(samples))):\n",
    "    reference=samples.values[i]\n",
    "    translation=predicted_eng_samples.values[i]\n",
    "    b=bleu.sentence_bleu([reference], translation)\n",
    "    blue_scores.append(b)"
   ]
  },
  {
   "cell_type": "code",
   "execution_count": null,
   "metadata": {
    "colab": {
     "base_uri": "https://localhost:8080/"
    },
    "id": "DrktBleUPO5s",
    "outputId": "358ef7a9-209f-4b81-f73a-6b52456bf06c"
   },
   "outputs": [
    {
     "name": "stdout",
     "output_type": "stream",
     "text": [
      "The Blue Score for the 1000 Samples is 0.008986163229454221\n"
     ]
    }
   ],
   "source": [
    "print('The Blue Score for the 1000 Samples is',np.mean(np.array(blue_scores)))"
   ]
  },
  {
   "cell_type": "markdown",
   "metadata": {
    "id": "yZhX3K9GLOfJ"
   },
   "source": [
    "## Task -2: Including Attention mechanisum"
   ]
  },
  {
   "cell_type": "markdown",
   "metadata": {
    "id": "Q3d7GeBMGbsJ"
   },
   "source": [
    "1. Use the preprocessed data from Task-1\n",
    "\n",
    "2. You have to implement an Encoder and Decoder architecture with  \n",
    "attention as discussed in the reference notebook.\n",
    "\n",
    "    * Encoder   - with 1 layer LSTM <br>\n",
    "    * Decoder   - with 1 layer LSTM<br>\n",
    "    * attention -  (Please refer the <a href= 'https://drive.google.com/file/d/1z_bnc-3aubKawbR6q8wyI6Mh5ho2R1aZ/view?usp=sharing'>**reference notebook**</a> to know more about the attention mechanism.)\n",
    "3. In Global attention, we have 3 types of scoring functions(as discussed in the reference notebook).\n",
    " As a part of this assignment **you need to create 3 models for each scoring function**\n",
    "<img src='https://i.imgur.com/iD2jZo3.png'>\n",
    "\n",
    "    * In model 1 you need to implemnt \"dot\" score function\n",
    "    * In model 2 you need to implemnt \"general\" score function\n",
    "    * In model 3 you need to implemnt \"concat\" score function.<br>\n",
    "    \n",
    " **Please do add the markdown titles for each model so that we can have a better look at the code and verify.**\n",
    "4. It is mandatory to train the model with simple model.fit() only, Donot train the model with custom GradientTape()\n",
    "\n",
    "5. Using attention weights, you can plot the attention plots, \n",
    "please plot those for 2-3 examples. You can check about those in <a href=\"https://www.tensorflow.org/tutorials/text/nmt_with_attention#translate\">this</a>\n",
    "\n",
    "6. The attention layer has to be written by yourself only. \n",
    "The main objective of this assignment is to read and implement a paper on yourself so please do it yourself.  \n",
    "\n",
    "7. Please implement the class **onestepdecoder** as mentioned in the assignment instructions.\n",
    "\n",
    "8. You can use any tf.Keras highlevel API's to build and train the models. \n",
    " Check the reference notebook for better understanding.\n",
    "\n",
    "9. Use BLEU score as metric to evaluate your model. You can use any loss function you need.\n",
    "\n",
    "10. You have to use Tensorboard to plot the Graph, Scores and histograms of gradients. \n",
    "\n",
    "11. Resources:\n",
    "    a. Check the reference notebook\n",
    "    b. <a href=\"https://jalammar.github.io/visualizing-neural-machine-translation-mechanics-of-seq2seq-models-with-attention/\">Resource 1</a>\n",
    "    c. <a href=\"https://www.tensorflow.org/tutorials/text/nmt_with_attention\">Resource 2</a>\n",
    "    d. <a href=\"https://stackoverflow.com/questions/44238154/what-is-the-difference-between-luong-attention-and-bahdanau-attention#:~:text=Luong%20attention%20used%20top%20hidden,hidden%20state%20at%20time%20t.\">Resource 3</a>\n",
    "    "
   ]
  },
  {
   "cell_type": "markdown",
   "metadata": {
    "id": "PU4KIsGxLOfK"
   },
   "source": [
    "### <font color='blue'>**Implement custom encoder decoder and attention layers**</font>"
   ]
  },
  {
   "cell_type": "markdown",
   "metadata": {
    "id": "TMm3ADQDLOfK"
   },
   "source": [
    "<font color='blue'>**Encoder**</font>"
   ]
  },
  {
   "cell_type": "code",
   "execution_count": 21,
   "metadata": {
    "id": "Lx_5NA24KzRp"
   },
   "outputs": [],
   "source": [
    "class Encoder(tf.keras.Model):\n",
    "    '''\n",
    "    Encoder model -- That takes a input sequence and returns output sequence\n",
    "    '''\n",
    "\n",
    "    def __init__(self,inp_vocab_size,embedding_size,lstm_size,input_length):\n",
    "        super().__init__()\n",
    "        #Initialize Embedding layer\n",
    "        #Intialize Encoder LSTM layer\n",
    "        self.embedding_layer=Embedding(inp_vocab_size,embedding_size,input_length=input_length, mask_zero=True )\n",
    "        self.lstm_layer=LSTM(lstm_size, return_sequences=True, return_state=True)\n",
    "        self.lstm_size=lstm_size\n",
    "\n",
    "    def call(self,input_sequence,states):\n",
    "      '''\n",
    "          This function takes a sequence input and the initial states of the encoder.\n",
    "          Pass the input_sequence input to the Embedding layer, Pass the embedding layer ouput to encoder_lstm\n",
    "          returns -- All encoder_outputs, last time steps hidden and cell state\n",
    "      '''\n",
    "      input_1=self.embedding_layer(input_sequence)\n",
    "      output, output_h, output_c=self.lstm_layer(input_1, initial_state=states)\n",
    "      return output, output_h, output_c\n",
    "\n",
    "    def initialize_states(self,batch_size):\n",
    "      '''\n",
    "      Given a batch size it will return intial hidden state and intial cell state.\n",
    "      If batch size is 32- Hidden state is zeros of size [32,lstm_units], cell state zeros is of size [32,lstm_units]\n",
    "      '''\n",
    "      output_h, output_c=tf.zeros((batch_size,self.lstm_size)), tf.zeros((batch_size,self.lstm_size))\n",
    "      return output_h, output_c\n"
   ]
  },
  {
   "cell_type": "markdown",
   "metadata": {
    "id": "4ub9aN-hK244"
   },
   "source": [
    "<font color='cyan'>**Grader function - 1**</font>"
   ]
  },
  {
   "cell_type": "code",
   "execution_count": null,
   "metadata": {
    "colab": {
     "base_uri": "https://localhost:8080/"
    },
    "id": "wRoe65b9LB0D",
    "outputId": "b8b59146-5068-4a63-f78b-6f8cbacb8930"
   },
   "outputs": [
    {
     "name": "stdout",
     "output_type": "stream",
     "text": [
      "True\n"
     ]
    }
   ],
   "source": [
    "def grader_check_encoder():\n",
    "    \n",
    "    '''\n",
    "        vocab-size: Unique words of the input language,\n",
    "        embedding_size: output embedding dimension for each word after embedding layer,\n",
    "        lstm_size: Number of lstm units in encoder,\n",
    "        input_length: Length of the input sentence,\n",
    "        batch_size\n",
    "    '''\n",
    "    \n",
    "    vocab_size=10\n",
    "    embedding_size=20\n",
    "    lstm_size=32\n",
    "    input_length=10\n",
    "    batch_size=16\n",
    "    encoder=Encoder(vocab_size,embedding_size,lstm_size,input_length)\n",
    "    input_sequence=tf.random.uniform(shape=[batch_size,input_length],maxval=vocab_size,minval=0,dtype=tf.int32)\n",
    "    initial_state=encoder.initialize_states(batch_size)\n",
    "    encoder_output,state_h,state_c=encoder(input_sequence,initial_state)\n",
    "    assert(encoder_output.shape==(batch_size,input_length,lstm_size) and state_h.shape==(batch_size,lstm_size) and state_c.shape==(batch_size,lstm_size))\n",
    "    return True\n",
    "print(grader_check_encoder())"
   ]
  },
  {
   "cell_type": "markdown",
   "metadata": {
    "id": "lXn278lhLYRM"
   },
   "source": [
    "<font color='blue'>**Attention**</font>"
   ]
  },
  {
   "cell_type": "code",
   "execution_count": 22,
   "metadata": {
    "id": "ab5SNdPZLlur"
   },
   "outputs": [],
   "source": [
    "class Attention(tf.keras.layers.Layer):\n",
    "  '''\n",
    "    Class the calculates score based on the scoring_function using Bahdanu attention mechanism.\n",
    "  '''\n",
    "  def __init__(self,scoring_function, att_units):\n",
    "    super().__init__()\n",
    "    # Please go through the reference notebook and research paper to complete the scoring functions\n",
    "    self.att_units=att_units\n",
    "    self.scoring_function=scoring_function\n",
    "    pass\n",
    "\n",
    "  \n",
    "  def build(self,input_shape ):\n",
    "    batch_size=input_shape[0]\n",
    "    #print(input_shape)\n",
    "    #print('input_length',encoder_output.shape[1])\n",
    "\n",
    "    if self.scoring_function=='dot':\n",
    "      # Intialize variables needed for Dot score function here\n",
    "      pass\n",
    "    if self.scoring_function == 'general':\n",
    "      # Intialize variables needed for General score function here\n",
    "      self.w_a=self.add_weight(shape=(batch_size,self.att_units, self.att_units),initializer='random_normal',trainable=True)\n",
    "      pass\n",
    "\n",
    "    elif self.scoring_function == 'concat':\n",
    "      # Intialize variables needed for Concat score function here\n",
    "      self.w_a=self.add_weight(shape=(batch_size,self.att_units, self.att_units*2),initializer='random_normal',trainable=True)\n",
    "      self.v_a=self.add_weight(shape=(batch_size,1, self.att_units),initializer='random_normal',trainable=True)\n",
    "      pass\n",
    "    \n",
    "  def call(self,decoder_hidden_state,encoder_output):\n",
    "    '''\n",
    "      Attention mechanism takes two inputs current step -- decoder_hidden_state and all the encoder_outputs.\n",
    "      * Based on the scoring function we will find the score or similarity between decoder_hidden_state and encoder_output.\n",
    "        Multiply the score function with your encoder_outputs to get the context vector.\n",
    "        Function returns context vector and attention weights(softmax - scores)\n",
    "    '''\n",
    "    \n",
    "    if self.scoring_function == 'dot':\n",
    "        # Implement Dot score function here\n",
    "        #print('decoder_hidden_state',tf.expand_dims(decoder_hidden_state,1).shape, 'encoder_output', encoder_output.shape)\n",
    "        alphas=tf.keras.layers.Dot(axes=2)([encoder_output,tf.expand_dims(decoder_hidden_state,1)])\n",
    "        alphas=tf.nn.softmax(alphas)\n",
    "        context_vector=tf.keras.layers.Dot(axes=1)([encoder_output,alphas])\n",
    "        context_vector=tf.squeeze(context_vector, axis=2)\n",
    "        pass\n",
    "\n",
    "    elif self.scoring_function == 'general':\n",
    "        # Implement General score function here\n",
    "\n",
    "        alphas=tf.keras.layers.Dot(axes=2)([tf.expand_dims(decoder_hidden_state,1),self.w_a])\n",
    "        #print('general',inter.shape)\n",
    "        alphas=tf.keras.layers.Dot(axes=2)([encoder_output,alphas])\n",
    "        alphas=tf.nn.softmax(alphas)\n",
    "        context_vector=tf.keras.layers.Dot(axes=1)([encoder_output,alphas])\n",
    "        context_vector=tf.squeeze(context_vector, axis=2)\n",
    "        pass\n",
    "\n",
    "    elif self.scoring_function == 'concat':\n",
    "        # Implement General score function here\n",
    "        h_ex=tf.repeat(tf.expand_dims(decoder_hidden_state,1),encoder_output.shape[1],axis=1)\n",
    "        h_ex=tf.keras.layers.concatenate([encoder_output,h_ex])\n",
    "        alphas=tf.math.tanh(tf.keras.layers.Dot(axes=2)([h_ex,self.w_a]))\n",
    "        #print(inter.shape)\n",
    "        alphas=tf.keras.layers.Dot(axes=2)([alphas,self.v_a])\n",
    "        alphas=tf.nn.softmax(alphas)\n",
    "        context_vector=tf.keras.layers.Dot(axes=1)([encoder_output,alphas])\n",
    "        context_vector=tf.squeeze(context_vector, axis=2)\n",
    "        pass\n",
    "    \n",
    "    return context_vector,alphas"
   ]
  },
  {
   "cell_type": "markdown",
   "metadata": {
    "id": "ExQDlxI9LuqK"
   },
   "source": [
    "<font color='cyan'>**Grader function - 2**</font>"
   ]
  },
  {
   "cell_type": "code",
   "execution_count": null,
   "metadata": {
    "colab": {
     "base_uri": "https://localhost:8080/"
    },
    "id": "51x50h_TLrl9",
    "outputId": "52361780-5d64-4f2b-f63c-ce00cad2b7b7"
   },
   "outputs": [
    {
     "name": "stdout",
     "output_type": "stream",
     "text": [
      "True\n",
      "True\n",
      "True\n"
     ]
    }
   ],
   "source": [
    "def grader_check_attention(scoring_fun):\n",
    "    \n",
    "    ''' \n",
    "        att_units: Used in matrix multiplications for scoring functions,\n",
    "        input_length: Length of the input sentence,\n",
    "        batch_size\n",
    "    '''\n",
    "    \n",
    "    input_length=10\n",
    "    batch_size=16\n",
    "    att_units=32\n",
    "    \n",
    "    state_h=tf.random.uniform(shape=[batch_size,att_units])\n",
    "    encoder_output=tf.random.uniform(shape=[batch_size,input_length,att_units])\n",
    "    attention=Attention(scoring_fun,att_units)\n",
    "    context_vector,attention_weights=attention(state_h,encoder_output)\n",
    "    assert(context_vector.shape==(batch_size,att_units) and attention_weights.shape==(batch_size,input_length,1))\n",
    "    return True\n",
    "print(grader_check_attention('dot'))\n",
    "print(grader_check_attention('general'))\n",
    "print(grader_check_attention('concat'))"
   ]
  },
  {
   "cell_type": "markdown",
   "metadata": {
    "id": "ic-FNEbfL2DN"
   },
   "source": [
    "<font color='blue'>**OneStepDecoder**</font>"
   ]
  },
  {
   "cell_type": "code",
   "execution_count": 23,
   "metadata": {
    "id": "Kc8m7lmOL097"
   },
   "outputs": [],
   "source": [
    "class One_Step_Decoder(tf.keras.Model):\n",
    "  def __init__(self,tar_vocab_size, embedding_dim, input_length, dec_units ,score_fun ,att_units):\n",
    "      super().__init__()\n",
    "      # Initialize decoder embedding layer, LSTM and any other objects needed\n",
    "      self.embedding_layer=Embedding(input_dim=tar_vocab_size, output_dim=embedding_dim, input_length=input_length, mask_zero=True,weights=[embedding_matrix], trainable=False)\n",
    "      self.lstm_layer=LSTM(dec_units, return_state=True, return_sequences=True)\n",
    "      self.att_units=att_units\n",
    "      self.score_fun=score_fun\n",
    "      self.tar_vocab_size=tar_vocab_size\n",
    "      self.dec_units=dec_units\n",
    "\n",
    "  \n",
    "  def call(self,input_to_decoder, encoder_output, state_h,state_c):\n",
    "    '''\n",
    "        One step decoder mechanisim step by step:\n",
    "      A. Pass the input_to_decoder to the embedding layer and then get the output(batch_size,1,embedding_dim)\n",
    "      B. Using the encoder_output and decoder hidden state, compute the context vector.\n",
    "      C. Concat the context vector with the step A output\n",
    "      D. Pass the Step-C output to LSTM/GRU and get the decoder output and states(hidden and cell state)\n",
    "      E. Pass the decoder output to dense layer(vocab size) and store the result into output.\n",
    "      F. Return the states from step D, output from Step E, attention weights from Step -B\n",
    "    '''\n",
    "    output_1=self.embedding_layer(input_to_decoder)\n",
    "    #print('input_to_decoder',input_to_decoder.shape )\n",
    "\n",
    "    #print('state_h, encoder_output',state_h.shape, encoder_output.shape)\n",
    "\n",
    "    context_vector, weights=Attention(self.score_fun,self.att_units)(state_h, encoder_output)\n",
    "    #print('context_vector,weights',context_vector.shape, weights.shape)\n",
    "\n",
    "    context_vector_ex=tf.expand_dims(context_vector,axis=1)\n",
    "    #print('context_vector,output_1',context_vector.shape,output_1.shape)\n",
    "    output_1=tf.keras.layers.concatenate([context_vector_ex, output_1])\n",
    "    decoder_outputs, decoder_h, decoder_c=self.lstm_layer(output_1, initial_state=[state_h,state_c])\n",
    "    final_output=tf.keras.layers.Dense(self.tar_vocab_size, 'softmax')(decoder_outputs)\n",
    "    final_output=tf.squeeze(final_output, axis=1)\n",
    "    #print(final_output.shape,decoder_h.shape,weights.shape, context_vector.shape)\n",
    "\n",
    "    return final_output,decoder_h, decoder_c, weights,context_vector\n"
   ]
  },
  {
   "cell_type": "markdown",
   "metadata": {
    "id": "R_I8I4EIMAXq"
   },
   "source": [
    "<font color='cyan'>**Grader function - 3**</font>"
   ]
  },
  {
   "cell_type": "code",
   "execution_count": null,
   "metadata": {
    "colab": {
     "base_uri": "https://localhost:8080/"
    },
    "id": "uLEXhChnMC1k",
    "outputId": "f1de3e5e-85f6-4004-b6d5-d79263df7746"
   },
   "outputs": [
    {
     "name": "stdout",
     "output_type": "stream",
     "text": [
      "True\n",
      "True\n",
      "True\n"
     ]
    }
   ],
   "source": [
    "def grader_onestepdecoder(score_fun):\n",
    "    \n",
    "    '''\n",
    "        tar_vocab_size: Unique words of the target language,\n",
    "        embedding_dim: output embedding dimension for each word after embedding layer,\n",
    "        dec_units: Number of lstm units in decoder,\n",
    "        att_units: Used in matrix multiplications for scoring functions in attention class,\n",
    "        input_length: Length of the target sentence,\n",
    "        batch_size\n",
    "        \n",
    "    \n",
    "    '''\n",
    "    \n",
    "    tar_vocab_size=13 \n",
    "    embedding_dim=12 \n",
    "    input_length=10\n",
    "    dec_units=16 \n",
    "    att_units=16\n",
    "    batch_size=32\n",
    "    onestepdecoder=One_Step_Decoder(tar_vocab_size, embedding_dim, input_length, dec_units ,score_fun ,att_units)\n",
    "    input_to_decoder=tf.random.uniform(shape=(batch_size,1),maxval=10,minval=0,dtype=tf.int32)\n",
    "    encoder_output=tf.random.uniform(shape=[batch_size,input_length,dec_units])\n",
    "    state_h=tf.random.uniform(shape=[batch_size,dec_units])\n",
    "    state_c=tf.random.uniform(shape=[batch_size,dec_units])\n",
    "    output,state_h,state_c,attention_weights,context_vector=onestepdecoder(input_to_decoder,encoder_output,state_h,state_c)\n",
    "    assert(output.shape==(batch_size,tar_vocab_size))\n",
    "    assert(state_h.shape==(batch_size,dec_units))\n",
    "    assert(state_c.shape==(batch_size,dec_units))\n",
    "    assert(attention_weights.shape==(batch_size,input_length,1))\n",
    "    assert(context_vector.shape==(batch_size,dec_units))\n",
    "    return True\n",
    "    \n",
    "print(grader_onestepdecoder('dot'))\n",
    "print(grader_onestepdecoder('general'))\n",
    "print(grader_onestepdecoder('concat'))\n",
    "    "
   ]
  },
  {
   "cell_type": "markdown",
   "metadata": {
    "id": "6FHrurjUMGAi"
   },
   "source": [
    "<font color='blue'>**Decoder**</font>"
   ]
  },
  {
   "cell_type": "code",
   "execution_count": 24,
   "metadata": {
    "id": "NV-x31rj6Hc4"
   },
   "outputs": [],
   "source": [
    "class Decoder(tf.keras.Model):\n",
    "    def __init__(self,out_vocab_size, embedding_dim, input_length, dec_units ,score_fun ,att_units):\n",
    "      super().__init__()\n",
    "\n",
    "      #Intialize necessary variables and create an object from the class onestepdecoder\n",
    "      \n",
    "      self.input_length=input_length\n",
    "      self.dec_units=dec_units\n",
    "      self.score_fun=score_fun\n",
    "      self.att_units=att_units\n",
    "      self.out_vocab_size=out_vocab_size\n",
    "      self.embedding_dim=embedding_dim\n",
    "      self.osd=One_Step_Decoder(tar_vocab_size=self.out_vocab_size, embedding_dim=self.embedding_dim, \n",
    "                                                                                   input_length=self.input_length, dec_units=self.dec_units, score_fun=self.score_fun, att_units=self.att_units)\n",
    "      pass\n",
    "    tf.config.run_functions_eagerly(True)\n",
    "    @tf.function\n",
    "    def call(self, input_to_decoder,encoder_output,decoder_hidden_state,decoder_cell_state ):\n",
    "\n",
    "        #Initialize an empty Tensor array, that will store the outputs at each and every time step\n",
    "        #Create a tensor array as shown in the reference notebook\n",
    "        \n",
    "        #Iterate till the length of the decoder input\n",
    "            # Call onestepdecoder for each token in decoder_input\n",
    "            # Store the output in tensorarray\n",
    "        # Return the tensor array\n",
    "        #print(input_to_decoder.shape)\n",
    "        output_array=tf.TensorArray(tf.float32,size=input_to_decoder.shape[1])\n",
    "        #print('input_to_decoder',input_to_decoder.shape)\n",
    "        for timestep in range(input_to_decoder.shape[1]):\n",
    "          #print(input_to_decoder.shape, encoder_output.shape, decoder_hidden_state.shape,decoder_cell_state.shape)\n",
    "          output,decoder_hidden_state,decoder_cell_state,attention_weights,context_vector=self.osd(input_to_decoder[:,timestep:timestep+1], encoder_output, decoder_hidden_state,decoder_cell_state)\n",
    "          output_array.write(timestep,output).mark_used()\n",
    "        all_output=tf.transpose(output_array.stack(), [1,0,2])\n",
    "        #print(all_output.shape)\n",
    "        return all_output"
   ]
  },
  {
   "cell_type": "code",
   "execution_count": null,
   "metadata": {
    "id": "p0kOErI-Wnc9"
   },
   "outputs": [],
   "source": []
  },
  {
   "cell_type": "markdown",
   "metadata": {
    "id": "FxrL-P8bMJH6"
   },
   "source": [
    "<font color='cyan'>**Grader function - 4**</font>"
   ]
  },
  {
   "cell_type": "code",
   "execution_count": null,
   "metadata": {
    "colab": {
     "base_uri": "https://localhost:8080/"
    },
    "id": "rtbx6onFMJXb",
    "outputId": "a921ce69-9f55-4ee0-91cf-029d45012649"
   },
   "outputs": [
    {
     "name": "stdout",
     "output_type": "stream",
     "text": [
      "True\n",
      "True\n",
      "True\n"
     ]
    }
   ],
   "source": [
    "def grader_decoder(score_fun):\n",
    "    \n",
    "    '''\n",
    "        out_vocab_size: Unique words of the target language,\n",
    "        embedding_dim: output embedding dimension for each word after embedding layer,\n",
    "        dec_units: Number of lstm units in decoder,\n",
    "        att_units: Used in matrix multiplications for scoring functions in attention class,\n",
    "        input_length: Length of the target sentence,\n",
    "        batch_size\n",
    "        \n",
    "    \n",
    "    '''\n",
    "    \n",
    "    out_vocab_size=13 \n",
    "    embedding_dim=12 \n",
    "    input_length=11\n",
    "    dec_units=16 \n",
    "    att_units=16\n",
    "    batch_size=32\n",
    "    \n",
    "    target_sentences=tf.random.uniform(shape=(batch_size,input_length),maxval=10,minval=0,dtype=tf.int32)\n",
    "    encoder_output=tf.random.uniform(shape=[batch_size,input_length,dec_units])\n",
    "    state_h=tf.random.uniform(shape=[batch_size,dec_units])\n",
    "    state_c=tf.random.uniform(shape=[batch_size,dec_units])\n",
    "    \n",
    "    decoder=Decoder(out_vocab_size, embedding_dim, input_length, dec_units ,score_fun ,att_units)\n",
    "    output=decoder(target_sentences,encoder_output, state_h, state_c)\n",
    "    assert(output.shape==(batch_size,input_length,out_vocab_size))\n",
    "    return True\n",
    "print(grader_decoder('dot'))\n",
    "print(grader_decoder('general'))\n",
    "print(grader_decoder('concat'))"
   ]
  },
  {
   "cell_type": "markdown",
   "metadata": {
    "id": "fC1T1EOoMTqC"
   },
   "source": [
    "<font color='blue'>**Encoder Decoder model**</font>"
   ]
  },
  {
   "cell_type": "code",
   "execution_count": 25,
   "metadata": {
    "id": "FfqBIe20MT3D"
   },
   "outputs": [],
   "source": [
    "class encoder_decoder(tf.keras.Model):\n",
    "  def __init__(self,inp_vocab_size,out_vocab_size, embedding_size, lstm_size, input_length_l1, input_length_l2, dec_units, score_fun, att_units, batch_size):\n",
    "    super().__init__()\n",
    "    #Intialize objects from encoder decoder\n",
    "    self.encoder_block=Encoder(inp_vocab_size=inp_vocab_size,embedding_size=embedding_size, lstm_size=lstm_size, input_length=input_length_l1 )\n",
    "    self.decoder_block=Decoder(out_vocab_size=out_vocab_size, embedding_dim=embedding_size, input_length=input_length_l2, dec_units=dec_units, score_fun=score_fun, att_units=att_units)\n",
    "    self.soft_max=tf.keras.layers.Dense(out_vocab_size, 'softmax')\n",
    "    self.batch_size=batch_size\n",
    "    self.inp_vocab_size=inp_vocab_size\n",
    "    self.out_vocab_size=out_vocab_size\n",
    "    self.embedding_size=embedding_size\n",
    "    self.lstm_size=lstm_size\n",
    "    self.input_length_l1=input_length_l1\n",
    "    self.input_length_l2=input_length_l2\n",
    "    self.dec_units=dec_units\n",
    "    self.score_fun=score_fun\n",
    "    self.att_units=att_units\n",
    "    pass\n",
    "\n",
    "  \n",
    "  def call(self,data):\n",
    "    #Intialize encoder states, Pass the encoder_sequence to the embedding layer\n",
    "    # Decoder initial states are encoder final states, Initialize it accordingly\n",
    "    # Pass the decoder sequence,encoder_output,decoder states to Decoder\n",
    "    # return the decoder output\n",
    "    input_sequence=data[0]\n",
    "    output_sequence=data[1]\n",
    "    #print(input_sequence.shape)\n",
    "    encoder_h, encoder_c=self.encoder_block.initialize_states(self.batch_size)\n",
    "    encoder_output, encoder_h, encoder_c=self.encoder_block(input_sequence, states=[encoder_h, encoder_c])\n",
    "    #input_to_decoder,encoder_output,decoder_hidden_state,decoder_cell_state\n",
    "    output_decoder =self.decoder_block(input_to_decoder=output_sequence,encoder_output=encoder_output,decoder_hidden_state=encoder_h,decoder_cell_state=encoder_c)\n",
    "    #output_decoder=self.soft_max(output_decoder)\n",
    "\n",
    "    return output_decoder"
   ]
  },
  {
   "cell_type": "markdown",
   "metadata": {
    "id": "WVRxB-FDMJWL"
   },
   "source": [
    "<font color='blue'>**Custom loss function**</font>"
   ]
  },
  {
   "cell_type": "code",
   "execution_count": 26,
   "metadata": {
    "id": "QY_3izrXMs8y"
   },
   "outputs": [],
   "source": [
    "#https://www.tensorflow.org/tutorials/text/image_captioning#model\n",
    "loss_object = tf.keras.losses.SparseCategoricalCrossentropy(\n",
    "    from_logits=True, reduction='none')\n",
    "\n",
    "\n",
    "def loss_function(real, pred):\n",
    "    \"\"\" Custom loss function that will not consider the loss for padded zeros.\n",
    "    why are we using this, can't we use simple sparse categorical crossentropy?\n",
    "    Yes, you can use simple sparse categorical crossentropy as loss like we did in task-1. But in this loss function we are ignoring the loss\n",
    "    for the padded zeros. i.e when the input is zero then we donot need to worry what the output is. This padded zeros are added from our end\n",
    "    during preprocessing to make equal length for all the sentences.\n",
    "\n",
    "    \"\"\"\n",
    "    \n",
    "    \n",
    "    mask = tf.math.logical_not(tf.math.equal(real, 0))\n",
    "    loss_ = loss_object(real, pred)\n",
    "\n",
    "    mask = tf.cast(mask, dtype=loss_.dtype)\n",
    "    loss_ *= mask\n",
    "\n",
    "    return tf.reduce_mean(loss_)"
   ]
  },
  {
   "cell_type": "markdown",
   "metadata": {
    "id": "2QlbWAqNNlqe"
   },
   "source": [
    "<font color='blue'>**Training**</font>"
   ]
  },
  {
   "cell_type": "markdown",
   "metadata": {
    "id": "wqtZUQF2NuZE"
   },
   "source": [
    "Implement dot function here."
   ]
  },
  {
   "cell_type": "code",
   "execution_count": 27,
   "metadata": {
    "id": "7lwItl4ljhmA"
   },
   "outputs": [],
   "source": [
    "class Dataset:\n",
    "    def __init__(self, data, tknizer_ita, tknizer_eng, max_len_ita, max_len_eng):\n",
    "        self.encoder_inps = data['italian'].values\n",
    "        self.decoder_inps = data['english_input'].values\n",
    "        self.decoder_outs = data['english_output'].values\n",
    "        self.tknizer_eng = tknizer_eng\n",
    "        self.tknizer_ita = tknizer_ita\n",
    "        self.max_len_ita = max_len_ita\n",
    "        self.max_len_eng = max_len_eng\n",
    "\n",
    "    def __getitem__(self, i):\n",
    "        self.encoder_seq = self.tknizer_ita.texts_to_sequences([self.encoder_inps[i]]) # need to pass list of values\n",
    "        self.decoder_inp_seq = self.tknizer_eng.texts_to_sequences([self.decoder_inps[i]])\n",
    "        self.decoder_out_seq = self.tknizer_eng.texts_to_sequences([self.decoder_outs[i]])\n",
    "\n",
    "        self.encoder_seq = pad_sequences(self.encoder_seq, maxlen=self.max_len_ita, dtype='int32', padding='post')\n",
    "        self.decoder_inp_seq = pad_sequences(self.decoder_inp_seq, maxlen=self.max_len_eng, dtype='int32', padding='post')\n",
    "        self.decoder_out_seq = pad_sequences(self.decoder_out_seq, maxlen=self.max_len_eng, dtype='int32', padding='post')\n",
    "        return self.encoder_seq, self.decoder_inp_seq, self.decoder_out_seq\n",
    "\n",
    "    def __len__(self): # your model.fit_gen requires this function\n",
    "        return len(self.encoder_inps)\n",
    "\n",
    "    \n",
    "class Dataloder(tf.keras.utils.Sequence):    \n",
    "    def __init__(self, dataset, batch_size=1):\n",
    "        self.dataset = dataset\n",
    "        self.batch_size = batch_size\n",
    "        self.indexes = np.arange(len(self.dataset.encoder_inps))\n",
    "\n",
    "\n",
    "    def __getitem__(self, i):\n",
    "        start = i * self.batch_size\n",
    "        stop = (i + 1) * self.batch_size\n",
    "        data = []\n",
    "        for j in range(start, stop):\n",
    "            data.append(self.dataset[j])\n",
    "\n",
    "        batch = [np.squeeze(np.stack(samples, axis=1), axis=0) for samples in zip(*data)]\n",
    "        # we are creating data like ([italian, english_inp], english_out) these are already converted into seq\n",
    "        return tuple([[batch[0],batch[1]],batch[2]])\n",
    "\n",
    "    def __len__(self):  # your model.fit_gen requires this function\n",
    "        return len(self.indexes) // self.batch_size\n",
    "\n",
    "    def on_epoch_end(self):\n",
    "        self.indexes = np.random.permutation(self.indexes)"
   ]
  },
  {
   "cell_type": "code",
   "execution_count": 28,
   "metadata": {
    "id": "DfOXPUrUdmY5"
   },
   "outputs": [],
   "source": [
    "train_dataset=Dataset(train, tknizer_ita, tknizer_eng, max_len_ita=22, max_len_eng=26)\n",
    "validation_dataset=Dataset(validation, tknizer_ita, tknizer_eng, max_len_ita=22, max_len_eng=26)\n",
    "test_dataset=Dataset(test, tknizer_ita, tknizer_eng, max_len_ita=22, max_len_eng=26)\n",
    "\n",
    "size=1024\n",
    "\n",
    "train_data_loader=Dataloder(train_dataset, batch_size=size)\n",
    "validation_data_loader=Dataloder(validation_dataset, batch_size=size)\n",
    "test_data_loader=Dataloder(test_dataset, batch_size=size)"
   ]
  },
  {
   "cell_type": "code",
   "execution_count": null,
   "metadata": {
    "id": "fgyWwZWeMxGQ"
   },
   "outputs": [],
   "source": [
    "# Implement teacher forcing while training your model. You can do it two ways.\n",
    "# Prepare your data, encoder_input,decoder_input and decoder_output\n",
    "# if decoder input is \n",
    "# <start> Hi how are you\n",
    "# decoder output should be\n",
    "# Hi How are you <end>\n",
    "# i.e when you have send <start>-- decoder predicted Hi, 'Hi' decoder predicted 'How' .. e.t.c\n",
    "\n",
    "# or\n",
    " \n",
    "# model.fit([train_ita,train_eng],train_eng[:,1:]..)\n",
    "# Note: If you follow this approach some grader functions might return false and this is fine.\n"
   ]
  },
  {
   "cell_type": "code",
   "execution_count": null,
   "metadata": {
    "colab": {
     "base_uri": "https://localhost:8080/"
    },
    "id": "4lK0mcGr6ovg",
    "outputId": "ba8836fd-fa48-4ae3-beae-969c4aba1b6d"
   },
   "outputs": [
    {
     "name": "stdout",
     "output_type": "stream",
     "text": [
      "Epoch 1/10\n",
      "223/223 [==============================] - 383s 2s/step - loss: 2.5000 - val_loss: 2.4913\n",
      "Epoch 2/10\n",
      "223/223 [==============================] - 410s 2s/step - loss: 2.5000 - val_loss: 2.4913\n",
      "Epoch 3/10\n",
      "223/223 [==============================] - 436s 2s/step - loss: 2.5000 - val_loss: 2.4913\n",
      "Epoch 4/10\n",
      "223/223 [==============================] - 404s 2s/step - loss: 2.5000 - val_loss: 2.4913\n",
      "Epoch 5/10\n",
      "223/223 [==============================] - 389s 2s/step - loss: 2.5000 - val_loss: 2.4913\n",
      "Epoch 6/10\n",
      "223/223 [==============================] - 488s 2s/step - loss: 2.5000 - val_loss: 2.4913\n",
      "Epoch 7/10\n",
      "223/223 [==============================] - 418s 2s/step - loss: 2.5000 - val_loss: 2.4913\n",
      "Epoch 8/10\n",
      "223/223 [==============================] - 412s 2s/step - loss: 2.5000 - val_loss: 2.4913\n",
      "Epoch 9/10\n",
      "223/223 [==============================] - 405s 2s/step - loss: 2.5000 - val_loss: 2.4913\n",
      "Epoch 10/10\n",
      "223/223 [==============================] - 416s 2s/step - loss: 2.5000 - val_loss: 2.4913\n"
     ]
    },
    {
     "data": {
      "text/plain": [
       "<keras.callbacks.History at 0x7f02bd68c3d0>"
      ]
     },
     "execution_count": 101,
     "metadata": {},
     "output_type": "execute_result"
    }
   ],
   "source": [
    "tf.keras.backend.clear_session()\n",
    "size=1024\n",
    "\n",
    "model_2=encoder_decoder(inp_vocab_size=vocab_size_ita, out_vocab_size=vocab_size_eng+1,embedding_size=100, lstm_size=100, input_length_l1=italian_pad_length, input_length_l2=english_pad_length, dec_units=100, score_fun='dot', att_units=100, batch_size=size )\n",
    "\n",
    "model_2.compile(optimizer=tf.keras.optimizers.Adam(0.01), loss=loss_function)\n",
    "\n",
    "tensorboard=tf.keras.callbacks.TensorBoard(log_dir='/content/drive/MyDrive/seq models/logs/logs_model_2')\n",
    "checkpoint=tf.keras.callbacks.ModelCheckpoint(filepath='/content/drive/MyDrive/seq models/models/model_2.hd5', monitor='val_loss')\n",
    "lr_rate=tf.keras.callbacks.ReduceLROnPlateau(patience=4,min_delta=0.01)\n",
    "stopping=tf.keras.callbacks.EarlyStopping(min_delta=0.01, patience=3)\n",
    "\n",
    "callbacks=[tensorboard,checkpoint,lr_rate,stopping]\n",
    "\n",
    "model_2.fit(train_data_loader, epochs=10, batch_size=size, validation_data=validation_data_loader)"
   ]
  },
  {
   "cell_type": "markdown",
   "metadata": {
    "id": "6DpC9zlzMcXp"
   },
   "source": [
    "## <font color='blue'>**Inference**</font>"
   ]
  },
  {
   "cell_type": "markdown",
   "metadata": {
    "id": "Z5NhESYyMW_t"
   },
   "source": [
    "<font color='blue'>**Plot attention weights**</font>"
   ]
  },
  {
   "cell_type": "code",
   "execution_count": null,
   "metadata": {
    "id": "pkEY7SsBMtrC"
   },
   "outputs": [],
   "source": [
    "#Refer: https://www.tensorflow.org/tutorials/text/nmt_with_attention#translate\n",
    "#params\n",
    "import seaborn as sns\n",
    "import matplotlib.pyplot as plt\n",
    "def plot_attention(matrix, x_tick_labels, y_tick_labels):\n",
    "  '''This function plots the attention\n",
    "  '''\n",
    "  \n",
    "  sns.set(font_scale=2)\n",
    "  fig, ax=plt.subplots(figsize=(50,20))\n",
    "  s=sns.heatmap(matrix, ax=ax, square=True)\n",
    "  plt.xticks(fontsize=\"25\",rotation=-90)\n",
    "  plt.yticks(np.arange(len(y_tick_labels)),y_tick_labels, rotation=0, fontsize=\"25\", va=\"center\")\n",
    "  s.set(xticklabels=x_tick_labels,yticklabels=y_tick_labels)\n",
    "  s.set_yticklabels(labels=s.get_yticklabels(), va='center')\n",
    "  #,annot=True\n",
    "  plt.show()\n",
    "  pass\n",
    "\n"
   ]
  },
  {
   "cell_type": "markdown",
   "metadata": {
    "id": "e1IhdBrgQYJr"
   },
   "source": [
    "<font color='blue'>**Predict the sentence translation**</font>"
   ]
  },
  {
   "cell_type": "code",
   "execution_count": null,
   "metadata": {
    "colab": {
     "base_uri": "https://localhost:8080/",
     "height": 519
    },
    "id": "MP3kLZoPMvSu",
    "outputId": "ada8b115-3395-4312-d456-8ed3b0aec5de"
   },
   "outputs": [
    {
     "data": {
      "image/png": "[encoded data removed]",
      "text/plain": [
       "<Figure size 5000x2000 with 2 Axes>"
      ]
     },
     "metadata": {},
     "output_type": "display_data"
    }
   ],
   "source": [
    "def predict(input_sentence):\n",
    "\n",
    "  '''\n",
    "  A. Given input sentence, convert the sentence into integers using tokenizer used earlier\n",
    "  B. Pass the input_sequence to encoder. we get encoder_outputs, last time step hidden and cell state\n",
    "  C. Initialize index of <start> as input to decoder. and encoder final states as input_states to onestepdecoder.\n",
    "  D. till we reach max_length of decoder or till the model predicted word <end>:\n",
    "         predictions, input_states, attention_weights = model.layers[1].onestepdecoder(input_to_decoder, encoder_output, input_states)\n",
    "         Save the attention weights\n",
    "         And get the word using the tokenizer(word index) and then store it in a string.\n",
    "  E. Call plot_attention(#params)\n",
    "  F. Return the predicted sentence\n",
    "  '''\n",
    "\n",
    "  words=[]\n",
    "  all_attention_weights=[]\n",
    "  input_sentence=[input_sentence]\n",
    "  batch_size=1\n",
    "  tokenized_sent=tknizer_ita.texts_to_sequences(input_sentence)\n",
    "  #print(tokenized_sent)\n",
    "  padded_sent=padded_italian_train=tf.keras.utils.pad_sequences(tokenized_sent, maxlen=italian_pad_length,padding='post' )\n",
    "  encoder_h, encoder_c=model_2.layers[0].initialize_states(batch_size)\n",
    "  encoder_output,encoder_h, encoder_c= model_2.layers[0](padded_sent, states=[encoder_h, encoder_c])\n",
    "\n",
    "  start_index=tknizer_eng.word_index.get('<start>')\n",
    "  end_index=tknizer_eng.word_index.get('<end>')\n",
    "  for i in range(english_pad_length):\n",
    "    decoder_output, decoder_h, decoder_c, attention_weights, context_vector = model_2.layers[1].osd(tf.convert_to_tensor([[start_index]]), encoder_output, encoder_h, encoder_c)\n",
    "    all_attention_weights.append(attention_weights)\n",
    "    \n",
    "    predicted_out=tf.keras.layers.Flatten()(decoder_output)\n",
    "    output=Dense(vocab_size_eng, 'softmax')(predicted_out)\n",
    "    \n",
    "    output_index=np.argmax(output)\n",
    "    start_index=output_index\n",
    "    #print(output_index)\n",
    "    words.append(list(tknizer_eng.word_index.keys())[output_index])\n",
    "\n",
    "    #print(list(tknizer_eng.word_index.keys())[output_index])\n",
    "\n",
    "    if output_index==end_index:\n",
    "      break;\n",
    "\n",
    "  #index number of all the non zero letters\n",
    "  input_words=padded_sent\n",
    "  no_pad_words_input=np.argwhere(padded_sent[0]!=0).reshape(1,-1)[0]\n",
    "\n",
    "  all_attention_weights=tf.convert_to_tensor(all_attention_weights)\n",
    "  all_attention_weights=tf.squeeze(all_attention_weights, axis=(1,3))\n",
    "  all_attention_weights=np.array(all_attention_weights)\n",
    "\n",
    "  non_zero_weights=all_attention_weights[:,no_pad_words_input]\n",
    "\n",
    "  ita_words=[list(tknizer_ita.word_index.keys())[j] for j in no_pad_words_input]\n",
    "\n",
    "  plot_attention(non_zero_weights,ita_words, words )\n",
    "  return ' '.join(words)\n",
    "\n",
    "i='so che aggiungere frasi soltanto nella sua lingua madre o nella sua lingua più forte non è probabilmente divertente quanto esercitarsi a scrivere in lingue straniere ma per piacere non aggiunga frasi nel corpus di tatoeba se non è assolutamente sicuro che siano corrette se vuole praticare le lingue che sta studiando per piacere lo faccia utilizzando un sito web progettato a tale scopo come wwwlang 8com'\n",
    "a=predict(i)"
   ]
  },
  {
   "cell_type": "markdown",
   "metadata": {
    "id": "jmxIVOOQPWMu"
   },
   "source": [
    "<font color='blue'>**Calculate BLEU score**</font>"
   ]
  },
  {
   "cell_type": "code",
   "execution_count": null,
   "metadata": {
    "id": "0iHiLdROM23l",
    "outputId": "29255162-04f4-4c58-c3f2-b9f8a9851ced"
   },
   "outputs": [
    {
     "name": "stdout",
     "output_type": "stream",
     "text": [
      "BLEU score: 0\n"
     ]
    }
   ],
   "source": [
    "#Create an object of your custom model.\n",
    "#Compile and train your model on dot scoring function.\n",
    "# Visualize few sentences randomly in Test data\n",
    "# Predict on 1000 random sentences on test data and calculate the average BLEU score of these sentences.\n",
    "# https://www.nltk.org/_modules/nltk/translate/bleu_score.html\n",
    "\n",
    "#Sample example\n",
    "import nltk.translate.bleu_score as bleu\n",
    "reference = ['i am groot'.split(),] # the original\n",
    "translation = 'it is ship'.split() # trasilated using model\n",
    "print('BLEU score: {}'.format(bleu.sentence_bleu(reference, translation)))"
   ]
  },
  {
   "cell_type": "code",
   "execution_count": null,
   "metadata": {
    "id": "9zOMBAwQM2FP"
   },
   "outputs": [],
   "source": [
    "def predict(input_sentence):\n",
    "\n",
    "  '''\n",
    "  A. Given input sentence, convert the sentence into integers using tokenizer used earlier\n",
    "  B. Pass the input_sequence to encoder. we get encoder_outputs, last time step hidden and cell state\n",
    "  C. Initialize index of <start> as input to decoder. and encoder final states as input_states to onestepdecoder.\n",
    "  D. till we reach max_length of decoder or till the model predicted word <end>:\n",
    "         predictions, input_states, attention_weights = model.layers[1].onestepdecoder(input_to_decoder, encoder_output, input_states)\n",
    "         Save the attention weights\n",
    "         And get the word using the tokenizer(word index) and then store it in a string.\n",
    "  E. Call plot_attention(#params)\n",
    "  F. Return the predicted sentence\n",
    "  '''\n",
    "\n",
    "  words=[]\n",
    "  all_attention_weights=[]\n",
    "  input_sentence=[input_sentence]\n",
    "  batch_size=1\n",
    "  tokenized_sent=tknizer_ita.texts_to_sequences(input_sentence)\n",
    "  #print(tokenized_sent)\n",
    "  padded_sent=padded_italian_train=tf.keras.utils.pad_sequences(tokenized_sent, maxlen=italian_pad_length,padding='post' )\n",
    "  encoder_h, encoder_c=model_2.layers[0].initialize_states(batch_size)\n",
    "  encoder_output,encoder_h, encoder_c= model_2.layers[0](padded_sent, states=[encoder_h, encoder_c])\n",
    "\n",
    "  start_index=tknizer_eng.word_index.get('<start>')\n",
    "  end_index=tknizer_eng.word_index.get('<end>')\n",
    "  for i in range(english_pad_length):\n",
    "    decoder_output, decoder_h, decoder_c, attention_weights, context_vector = model_2.layers[1].osd(tf.convert_to_tensor([[start_index]]), encoder_output, encoder_h, encoder_c)\n",
    "    all_attention_weights.append(attention_weights)\n",
    "\n",
    "    predicted_out=tf.keras.layers.Flatten()(decoder_output)\n",
    "    output=Dense(vocab_size_eng, 'softmax')(predicted_out)\n",
    "\n",
    "    output_index=np.argmax(output)\n",
    "    start_index=output_index\n",
    "    #print(output_index)\n",
    "    words.append(list(tknizer_eng.word_index.keys())[output_index])\n",
    "\n",
    "    #print(list(tknizer_eng.word_index.keys())[output_index])\n",
    "\n",
    "    if output_index==end_index:\n",
    "      break;\n",
    "\n",
    "  #index number of all the non zero letters\n",
    "  input_words=padded_sent\n",
    "  no_pad_words_input=np.argwhere(padded_sent[0]!=0).reshape(1,-1)[0]\n",
    "\n",
    "  all_attention_weights=tf.convert_to_tensor(all_attention_weights)\n",
    "  all_attention_weights=tf.squeeze(all_attention_weights, axis=(1,3))\n",
    "  all_attention_weights=np.array(all_attention_weights)\n",
    "\n",
    "  non_zero_weights=all_attention_weights[:,no_pad_words_input]\n",
    "\n",
    "  ita_words=[list(tknizer_ita.word_index.keys())[j] for j in no_pad_words_input]\n",
    "\n",
    "  #plot_attention(non_zero_weights,ita_words, words )\n",
    "  return ' '.join(words)\n"
   ]
  },
  {
   "cell_type": "code",
   "execution_count": null,
   "metadata": {
    "id": "r4jsqzZKM2FQ"
   },
   "outputs": [],
   "source": [
    "samples=test['italian'].sample(1000)\n",
    "predicted_eng_samples_model_2=samples.apply(predict)\n"
   ]
  },
  {
   "cell_type": "code",
   "execution_count": null,
   "metadata": {
    "id": "rgvGPbwbM2FQ",
    "outputId": "2d362be2-7046-49e7-9c55-e43518ac329d"
   },
   "outputs": [
    {
     "name": "stderr",
     "output_type": "stream",
     "text": [
      "100%|█████████████████████████████████████████████████████████████████████| 1000/1000 [00:01<00:00, 908.97it/s]\n"
     ]
    }
   ],
   "source": [
    "import nltk.translate.bleu_score as bleu\n",
    "from tqdm import tqdm\n",
    "\n",
    "blue_scores=[]\n",
    "\n",
    "for i in tqdm(range(len(samples))):\n",
    "  reference=samples.values[i]\n",
    "  translation=predicted_eng_samples_model_2.values[i]\n",
    "  b=bleu.sentence_bleu([reference], translation)\n",
    "  blue_scores.append(b)"
   ]
  },
  {
   "cell_type": "code",
   "execution_count": null,
   "metadata": {
    "id": "tAdxe9_BM2FR",
    "outputId": "c741f38c-f41b-4809-a88d-3367b0c6a4a0"
   },
   "outputs": [
    {
     "name": "stdout",
     "output_type": "stream",
     "text": [
      "The Blue Score for the 1000 Samples is 0.010900558597717776\n"
     ]
    }
   ],
   "source": [
    "print('The Blue Score for the 1000 Samples is',np.mean(np.array(blue_scores)))"
   ]
  },
  {
   "cell_type": "markdown",
   "metadata": {
    "id": "SWg2ferDQvT3"
   },
   "source": [
    "<font color='blue'>**Repeat the same steps for General scoring function**</font>"
   ]
  },
  {
   "cell_type": "code",
   "execution_count": 29,
   "metadata": {
    "colab": {
     "base_uri": "https://localhost:8080/"
    },
    "id": "kZxdtBvgM2FS",
    "outputId": "5db201d0-4fcc-4466-dab6-b026838a91a8"
   },
   "outputs": [
    {
     "name": "stdout",
     "output_type": "stream",
     "text": [
      "Epoch 1/10\n"
     ]
    },
    {
     "name": "stderr",
     "output_type": "stream",
     "text": [
      "/usr/local/lib/python3.8/dist-packages/tensorflow/python/data/ops/structured_function.py:264: UserWarning: Even though the `tf.config.experimental_run_functions_eagerly` option is set, this option does not apply to tf.data functions. To force eager execution of tf.data functions, please use `tf.data.experimental.enable_debug_mode()`.\n",
      "  warnings.warn(\n"
     ]
    },
    {
     "name": "stdout",
     "output_type": "stream",
     "text": [
      "223/223 [==============================] - 243s 1s/step - loss: 2.4996 - val_loss: 2.4922\n",
      "Epoch 2/10\n",
      "223/223 [==============================] - 237s 1s/step - loss: 2.4996 - val_loss: 2.4922\n",
      "Epoch 3/10\n",
      "223/223 [==============================] - 243s 1s/step - loss: 2.4996 - val_loss: 2.4922\n",
      "Epoch 4/10\n",
      "223/223 [==============================] - 245s 1s/step - loss: 2.4996 - val_loss: 2.4922\n",
      "Epoch 5/10\n",
      "223/223 [==============================] - 245s 1s/step - loss: 2.4996 - val_loss: 2.4922\n",
      "Epoch 6/10\n",
      "223/223 [==============================] - 242s 1s/step - loss: 2.4996 - val_loss: 2.4922\n",
      "Epoch 7/10\n",
      "223/223 [==============================] - 241s 1s/step - loss: 2.4996 - val_loss: 2.4922\n",
      "Epoch 8/10\n",
      "223/223 [==============================] - 240s 1s/step - loss: 2.4996 - val_loss: 2.4922\n",
      "Epoch 9/10\n",
      "223/223 [==============================] - 240s 1s/step - loss: 2.4996 - val_loss: 2.4922\n",
      "Epoch 10/10\n",
      "223/223 [==============================] - 244s 1s/step - loss: 2.4996 - val_loss: 2.4922\n"
     ]
    },
    {
     "data": {
      "text/plain": [
       "<keras.callbacks.History at 0x7f3caa02b190>"
      ]
     },
     "execution_count": 29,
     "metadata": {},
     "output_type": "execute_result"
    }
   ],
   "source": [
    "tf.keras.backend.clear_session()\n",
    "size=1024\n",
    "\n",
    "model_3=encoder_decoder(inp_vocab_size=vocab_size_ita, out_vocab_size=vocab_size_eng+1,embedding_size=100, lstm_size=100, input_length_l1=italian_pad_length, input_length_l2=english_pad_length, dec_units=100, score_fun='general', att_units=100, batch_size=size )\n",
    "\n",
    "model_3.compile(optimizer=tf.keras.optimizers.Adam(0.01), loss=loss_function)\n",
    "\n",
    "tensorboard=tf.keras.callbacks.TensorBoard(log_dir='/content/drive/MyDrive/seq models/logs/logs_model_2')\n",
    "checkpoint=tf.keras.callbacks.ModelCheckpoint(filepath='/content/drive/MyDrive/seq models/models/model_2.hd5', monitor='val_loss')\n",
    "lr_rate=tf.keras.callbacks.ReduceLROnPlateau(patience=4,min_delta=0.01)\n",
    "stopping=tf.keras.callbacks.EarlyStopping(min_delta=0.01, patience=3)\n",
    "\n",
    "callbacks=[tensorboard,checkpoint,lr_rate,stopping]\n",
    "\n",
    "model_3.fit(train_data_loader, epochs=10, batch_size=size, validation_data=validation_data_loader)"
   ]
  },
  {
   "cell_type": "code",
   "execution_count": 36,
   "metadata": {
    "id": "ftaWr4JaEgTd"
   },
   "outputs": [],
   "source": []
  },
  {
   "cell_type": "code",
   "execution_count": 31,
   "metadata": {
    "id": "ZVeZv3nHM2FS"
   },
   "outputs": [],
   "source": [
    "def predict_3(input_sentence):\n",
    "\n",
    "  '''\n",
    "  A. Given input sentence, convert the sentence into integers using tokenizer used earlier\n",
    "  B. Pass the input_sequence to encoder. we get encoder_outputs, last time step hidden and cell state\n",
    "  C. Initialize index of <start> as input to decoder. and encoder final states as input_states to onestepdecoder.\n",
    "  D. till we reach max_length of decoder or till the model predicted word <end>:\n",
    "         predictions, input_states, attention_weights = model.layers[1].onestepdecoder(input_to_decoder, encoder_output, input_states)\n",
    "         Save the attention weights\n",
    "         And get the word using the tokenizer(word index) and then store it in a string.\n",
    "  E. Call plot_attention(#params)\n",
    "  F. Return the predicted sentence\n",
    "  '''\n",
    "\n",
    "  words=[]\n",
    "  all_attention_weights=[]\n",
    "  input_sentence=[input_sentence]\n",
    "  batch_size=1\n",
    "  tokenized_sent=tknizer_ita.texts_to_sequences(input_sentence)\n",
    "  #print(tokenized_sent)\n",
    "  padded_sent=padded_italian_train=tf.keras.utils.pad_sequences(tokenized_sent, maxlen=italian_pad_length,padding='post' )\n",
    "  encoder_h, encoder_c=model_3.layers[0].initialize_states(batch_size)\n",
    "  encoder_output,encoder_h, encoder_c= model_3.layers[0](padded_sent, states=[encoder_h, encoder_c])\n",
    "\n",
    "  start_index=tknizer_eng.word_index.get('<start>')\n",
    "  end_index=tknizer_eng.word_index.get('<end>')\n",
    "  for i in range(english_pad_length):\n",
    "    decoder_output, decoder_h, decoder_c, attention_weights, context_vector = model_3.layers[1].osd(tf.convert_to_tensor([[start_index]]), encoder_output, encoder_h, encoder_c)\n",
    "    all_attention_weights.append(attention_weights)\n",
    "\n",
    "    predicted_out=tf.keras.layers.Flatten()(decoder_output)\n",
    "    output=Dense(vocab_size_eng, 'softmax')(predicted_out)\n",
    "\n",
    "    output_index=np.argmax(output)\n",
    "    start_index=output_index\n",
    "    #print(output_index)\n",
    "    words.append(list(tknizer_eng.word_index.keys())[output_index])\n",
    "\n",
    "    #print(list(tknizer_eng.word_index.keys())[output_index])\n",
    "\n",
    "    if output_index==end_index:\n",
    "      break;\n",
    "\n",
    "  #index number of all the non zero letters\n",
    "  input_words=padded_sent\n",
    "  no_pad_words_input=np.argwhere(padded_sent[0]!=0).reshape(1,-1)[0]\n",
    "\n",
    "  all_attention_weights=tf.convert_to_tensor(all_attention_weights)\n",
    "  all_attention_weights=tf.squeeze(all_attention_weights, axis=(1,3))\n",
    "  all_attention_weights=np.array(all_attention_weights)\n",
    "\n",
    "  non_zero_weights=all_attention_weights[:,no_pad_words_input]\n",
    "\n",
    "  ita_words=[list(tknizer_ita.word_index.keys())[j] for j in no_pad_words_input]\n",
    "\n",
    "  #plot_attention(non_zero_weights,ita_words, words )\n",
    "  return ' '.join(words)\n"
   ]
  },
  {
   "cell_type": "code",
   "execution_count": 32,
   "metadata": {
    "colab": {
     "base_uri": "https://localhost:8080/"
    },
    "id": "uIJDCUhsM2FT",
    "outputId": "13a4613b-4249-42ce-8014-6208b9d92475"
   },
   "outputs": [
    {
     "name": "stderr",
     "output_type": "stream",
     "text": [
      "  0%|          | 0/1000 [00:00<?, ?it/s]/usr/local/lib/python3.8/dist-packages/nltk/translate/bleu_score.py:552: UserWarning: \n",
      "The hypothesis contains 0 counts of 4-gram overlaps.\n",
      "Therefore the BLEU score evaluates to 0, independently of\n",
      "how many N-gram overlaps of lower order it contains.\n",
      "Consider using lower n-gram order or use SmoothingFunction()\n",
      "  warnings.warn(_msg)\n",
      "/usr/local/lib/python3.8/dist-packages/nltk/translate/bleu_score.py:552: UserWarning: \n",
      "The hypothesis contains 0 counts of 3-gram overlaps.\n",
      "Therefore the BLEU score evaluates to 0, independently of\n",
      "how many N-gram overlaps of lower order it contains.\n",
      "Consider using lower n-gram order or use SmoothingFunction()\n",
      "  warnings.warn(_msg)\n",
      "100%|██████████| 1000/1000 [00:00<00:00, 1587.28it/s]\n"
     ]
    }
   ],
   "source": [
    "samples=test['italian'].sample(1000)\n",
    "predicted_eng_samples_model_3=samples.apply(predict_3)\n",
    "\n",
    "import nltk.translate.bleu_score as bleu\n",
    "from tqdm import tqdm\n",
    "\n",
    "blue_scores=[]\n",
    "\n",
    "for i in tqdm(range(len(samples))):\n",
    "  reference=samples.values[i]\n",
    "  translation=predicted_eng_samples_model_3.values[i]\n",
    "  b=bleu.sentence_bleu([reference], translation)\n",
    "  blue_scores.append(b)"
   ]
  },
  {
   "cell_type": "code",
   "execution_count": 33,
   "metadata": {
    "colab": {
     "base_uri": "https://localhost:8080/"
    },
    "id": "5SKYZ7hmM2FT",
    "outputId": "2e29ba84-0ec6-46e7-99d1-157900ff4e5f"
   },
   "outputs": [
    {
     "name": "stdout",
     "output_type": "stream",
     "text": [
      "The Blue Score for the 1000 Samples is 0.010501668310781611\n"
     ]
    }
   ],
   "source": [
    "print('The Blue Score for the 1000 Samples is',np.mean(np.array(blue_scores)))"
   ]
  },
  {
   "cell_type": "code",
   "execution_count": null,
   "metadata": {
    "id": "4Rh9_w79M5JO"
   },
   "outputs": [],
   "source": [
    "#Compile and train your model on general scoring function.\n",
    "# Visualize few sentences randomly in Test data\n",
    "# Predict on 1000 random sentences on test data and calculate the average BLEU score of these sentences.\n",
    "# https://www.nltk.org/_modules/nltk/translate/bleu_score.html"
   ]
  },
  {
   "cell_type": "markdown",
   "metadata": {
    "id": "VB1jRUqZQ9AM"
   },
   "source": [
    "<font color='blue'>**Repeat the same steps for Concat scoring function**</font>"
   ]
  },
  {
   "cell_type": "code",
   "execution_count": 34,
   "metadata": {
    "id": "stdLvzLgM2FU"
   },
   "outputs": [],
   "source": [
    "train_dataset=Dataset(train, tknizer_ita, tknizer_eng, max_len_ita=22, max_len_eng=26)\n",
    "validation_dataset=Dataset(validation, tknizer_ita, tknizer_eng, max_len_ita=22, max_len_eng=26)\n",
    "test_dataset=Dataset(test, tknizer_ita, tknizer_eng, max_len_ita=22, max_len_eng=26)\n",
    "\n",
    "size=1024\n",
    "\n",
    "train_data_loader=Dataloder(train_dataset, batch_size=size)\n",
    "validation_data_loader=Dataloder(validation_dataset, batch_size=size)\n",
    "test_data_loader=Dataloder(test_dataset, batch_size=size)"
   ]
  },
  {
   "cell_type": "code",
   "execution_count": 35,
   "metadata": {
    "colab": {
     "base_uri": "https://localhost:8080/"
    },
    "id": "wb2GdX6-M2FU",
    "outputId": "7915691d-516c-42de-ab1a-b02004306462"
   },
   "outputs": [
    {
     "name": "stdout",
     "output_type": "stream",
     "text": [
      "Epoch 1/10\n",
      "223/223 [==============================] - 284s 1s/step - loss: 2.4996 - val_loss: 2.4922\n",
      "Epoch 2/10\n",
      "223/223 [==============================] - 279s 1s/step - loss: 2.4996 - val_loss: 2.4922\n",
      "Epoch 3/10\n",
      "223/223 [==============================] - 279s 1s/step - loss: 2.4996 - val_loss: 2.4922\n",
      "Epoch 4/10\n",
      "223/223 [==============================] - 271s 1s/step - loss: 2.4996 - val_loss: 2.4922\n",
      "Epoch 5/10\n",
      "223/223 [==============================] - 310s 1s/step - loss: 2.4996 - val_loss: 2.4922\n",
      "Epoch 6/10\n",
      "223/223 [==============================] - 269s 1s/step - loss: 2.4996 - val_loss: 2.4922\n",
      "Epoch 7/10\n",
      "223/223 [==============================] - 283s 1s/step - loss: 2.4996 - val_loss: 2.4922\n",
      "Epoch 8/10\n",
      "223/223 [==============================] - 279s 1s/step - loss: 2.4996 - val_loss: 2.4922\n",
      "Epoch 9/10\n",
      "223/223 [==============================] - 278s 1s/step - loss: 2.4996 - val_loss: 2.4922\n",
      "Epoch 10/10\n",
      "223/223 [==============================] - 277s 1s/step - loss: 2.4996 - val_loss: 2.4922\n"
     ]
    },
    {
     "data": {
      "text/plain": [
       "<keras.callbacks.History at 0x7f3ca7db9e80>"
      ]
     },
     "execution_count": 35,
     "metadata": {},
     "output_type": "execute_result"
    }
   ],
   "source": [
    "tf.keras.backend.clear_session()\n",
    "size=1024\n",
    "\n",
    "model_4=encoder_decoder(inp_vocab_size=vocab_size_ita, out_vocab_size=vocab_size_eng+1,embedding_size=100, lstm_size=20, input_length_l1=italian_pad_length, input_length_l2=english_pad_length, dec_units=20, score_fun='concat', att_units=20, batch_size=size )\n",
    "\n",
    "model_4.compile(optimizer=tf.keras.optimizers.Adam(0.01), loss=loss_function)\n",
    "\n",
    "tensorboard=tf.keras.callbacks.TensorBoard(log_dir='/content/drive/MyDrive/seq models/logs/logs_model_2')\n",
    "checkpoint=tf.keras.callbacks.ModelCheckpoint(filepath='/content/drive/MyDrive/seq models/models/model_2.hd5', monitor='val_loss')\n",
    "lr_rate=tf.keras.callbacks.ReduceLROnPlateau(patience=4,min_delta=0.01)\n",
    "stopping=tf.keras.callbacks.EarlyStopping(min_delta=0.01, patience=3)\n",
    "\n",
    "callbacks=[tensorboard,checkpoint,lr_rate,stopping]\n",
    "\n",
    "model_4.fit(train_data_loader, epochs=10, batch_size=size, validation_data=validation_data_loader)"
   ]
  },
  {
   "cell_type": "code",
   "execution_count": 37,
   "metadata": {
    "id": "0zCmZfweM2FU"
   },
   "outputs": [],
   "source": [
    "def predict_3(input_sentence):\n",
    "\n",
    "  '''\n",
    "  A. Given input sentence, convert the sentence into integers using tokenizer used earlier\n",
    "  B. Pass the input_sequence to encoder. we get encoder_outputs, last time step hidden and cell state\n",
    "  C. Initialize index of <start> as input to decoder. and encoder final states as input_states to onestepdecoder.\n",
    "  D. till we reach max_length of decoder or till the model predicted word <end>:\n",
    "         predictions, input_states, attention_weights = model.layers[1].onestepdecoder(input_to_decoder, encoder_output, input_states)\n",
    "         Save the attention weights\n",
    "         And get the word using the tokenizer(word index) and then store it in a string.\n",
    "  E. Call plot_attention(#params)\n",
    "  F. Return the predicted sentence\n",
    "  '''\n",
    "\n",
    "  words=[]\n",
    "  all_attention_weights=[]\n",
    "  input_sentence=[input_sentence]\n",
    "  batch_size=1\n",
    "  tokenized_sent=tknizer_ita.texts_to_sequences(input_sentence)\n",
    "  #print(tokenized_sent)\n",
    "  padded_sent=padded_italian_train=tf.keras.utils.pad_sequences(tokenized_sent, maxlen=italian_pad_length,padding='post' )\n",
    "  encoder_h, encoder_c=model_4.layers[0].initialize_states(batch_size)\n",
    "  encoder_output,encoder_h, encoder_c= model_4.layers[0](padded_sent, states=[encoder_h, encoder_c])\n",
    "\n",
    "  start_index=tknizer_eng.word_index.get('<start>')\n",
    "  end_index=tknizer_eng.word_index.get('<end>')\n",
    "  for i in range(english_pad_length):\n",
    "    decoder_output, decoder_h, decoder_c, attention_weights, context_vector = model_4.layers[1].osd(tf.convert_to_tensor([[start_index]]), encoder_output, encoder_h, encoder_c)\n",
    "    all_attention_weights.append(attention_weights)\n",
    "\n",
    "    predicted_out=tf.keras.layers.Flatten()(decoder_output)\n",
    "    output=Dense(vocab_size_eng, 'softmax')(predicted_out)\n",
    "\n",
    "    output_index=np.argmax(output)\n",
    "    start_index=output_index\n",
    "    #print(output_index)\n",
    "    words.append(list(tknizer_eng.word_index.keys())[output_index])\n",
    "\n",
    "    #print(list(tknizer_eng.word_index.keys())[output_index])\n",
    "\n",
    "    if output_index==end_index:\n",
    "      break;\n",
    "\n",
    "  #index number of all the non zero letters\n",
    "  input_words=padded_sent\n",
    "  no_pad_words_input=np.argwhere(padded_sent[0]!=0).reshape(1,-1)[0]\n",
    "\n",
    "  all_attention_weights=tf.convert_to_tensor(all_attention_weights)\n",
    "  all_attention_weights=tf.squeeze(all_attention_weights, axis=(1,3))\n",
    "  all_attention_weights=np.array(all_attention_weights)\n",
    "\n",
    "  non_zero_weights=all_attention_weights[:,no_pad_words_input]\n",
    "\n",
    "  ita_words=[list(tknizer_ita.word_index.keys())[j] for j in no_pad_words_input]\n",
    "\n",
    "  #plot_attention(non_zero_weights,ita_words, words )\n",
    "  return ' '.join(words)\n"
   ]
  },
  {
   "cell_type": "code",
   "execution_count": 40,
   "metadata": {
    "colab": {
     "base_uri": "https://localhost:8080/"
    },
    "id": "vlcX9sgtM2FV",
    "outputId": "0913c901-52b2-4672-ca3c-0080ebfc46e5"
   },
   "outputs": [
    {
     "name": "stderr",
     "output_type": "stream",
     "text": [
      "100%|██████████| 1000/1000 [00:07<00:00, 136.16it/s]\n"
     ]
    }
   ],
   "source": [
    "samples=test['italian'].sample(1000)\n",
    "predicted_eng_samples_model_4=samples.apply(predict_3)\n",
    "\n",
    "import nltk.translate.bleu_score as bleu\n",
    "from tqdm import tqdm\n",
    "\n",
    "blue_scores=[]\n",
    "\n",
    "for i in tqdm(range(len(samples))):\n",
    "  reference=samples.values[i]\n",
    "  translation=predicted_eng_samples_model_4.values[i]\n",
    "  b=bleu.sentence_bleu(reference, translation)\n",
    "  blue_scores.append(b)"
   ]
  },
  {
   "cell_type": "code",
   "execution_count": 39,
   "metadata": {
    "colab": {
     "base_uri": "https://localhost:8080/"
    },
    "id": "3b0emgC7M2FV",
    "outputId": "9810e2b1-c947-4597-d98e-afeb79b1329c"
   },
   "outputs": [
    {
     "name": "stdout",
     "output_type": "stream",
     "text": [
      "The Blue Score for the 1000 Samples is 9.002449492268615e-232\n"
     ]
    }
   ],
   "source": [
    "print('The Blue Score for the 1000 Samples is',np.mean(np.array(blue_scores)))"
   ]
  },
  {
   "cell_type": "code",
   "execution_count": null,
   "metadata": {
    "id": "1kN9ZWViQNMB"
   },
   "outputs": [],
   "source": [
    "#Compile and train your model on concat scoring function.\n",
    "# Visualize few sentences randomly in Test data\n",
    "# Predict on 1000 random sentences on test data and calculate the average BLEU score of these sentences.\n",
    "# https://www.nltk.org/_modules/nltk/translate/bleu_score.html"
   ]
  },
  {
   "cell_type": "code",
   "execution_count": null,
   "metadata": {
    "id": "Ff1lV0ITM6_p"
   },
   "outputs": [],
   "source": [
    "# Write your observations on each of the scoring function"
   ]
  }
 ],
 "metadata": {
  "accelerator": "GPU",
  "colab": {
   "provenance": []
  },
  "gpuClass": "standard",
  "kernelspec": {
   "display_name": "Python 3",
   "language": "python",
   "name": "python3"
  },
  "language_info": {
   "codemirror_mode": {
    "name": "ipython",
    "version": 3
   },
   "file_extension": ".py",
   "mimetype": "text/x-python",
   "name": "python",
   "nbconvert_exporter": "python",
   "pygments_lexer": "ipython3",
   "version": "3.6.5"
  }
 },
 "nbformat": 4,
 "nbformat_minor": 1
}
