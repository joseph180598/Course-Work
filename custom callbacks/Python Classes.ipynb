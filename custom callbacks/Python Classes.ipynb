{
 "cells": [
  {
   "cell_type": "code",
   "execution_count": null,
   "metadata": {},
   "outputs": [],
   "source": [
    "# https://www.w3resource.com/python-exercises/class-exercises/index.php"
   ]
  },
  {
   "cell_type": "code",
   "execution_count": null,
   "metadata": {},
   "outputs": [],
   "source": [
    "#https://gist.github.com/KirosG/f265f136bd97bd669632fa0f2f2721b4"
   ]
  },
  {
   "cell_type": "code",
   "execution_count": 13,
   "metadata": {},
   "outputs": [
    {
     "name": "stdout",
     "output_type": "stream",
     "text": [
      "My name is Joseph\n"
     ]
    }
   ],
   "source": [
    "class printer():\n",
    "    def __init__(self,name):#defining all the variables here\n",
    "        self.name = name\n",
    "        pass\n",
    "    def write(self):#then using the variable here\n",
    "        print('My name is',self.name)\n",
    "        pass\n",
    "    \n",
    "i=printer('Joseph')\n",
    "i.write()"
   ]
  },
  {
   "cell_type": "code",
   "execution_count": 21,
   "metadata": {},
   "outputs": [
    {
     "name": "stdout",
     "output_type": "stream",
     "text": [
      "My name is Joseph Nadar\n"
     ]
    }
   ],
   "source": [
    "class new(printer):\n",
    "    def __init__(self,name):\n",
    "        self.name=name+' Nadar'\n",
    "    pass\n",
    "i=new('Joseph')\n",
    "i.write()"
   ]
  },
  {
   "cell_type": "code",
   "execution_count": 22,
   "metadata": {},
   "outputs": [
    {
     "name": "stdout",
     "output_type": "stream",
     "text": [
      "__name__\n",
      "__doc__\n",
      "__package__\n",
      "__loader__\n",
      "__spec__\n",
      "_array_reconstructor\n",
      "ArrayType\n",
      "array\n",
      "typecodes\n"
     ]
    }
   ],
   "source": [
    "#Write a Python program to import built-in array module and display the namespace of the said module\n",
    "\n",
    "import array\n",
    "for name in array.__dict__:\n",
    "    print(name)"
   ]
  },
  {
   "cell_type": "code",
   "execution_count": 30,
   "metadata": {},
   "outputs": [
    {
     "name": "stdout",
     "output_type": "stream",
     "text": [
      "10000\n",
      "<class 'int'>\n",
      "<class '__main__.item'>\n"
     ]
    }
   ],
   "source": [
    "#An Empty Class\n",
    "class item:\n",
    "    pass\n",
    "i=item()#Calling the function\n",
    "i.price=1000 #Defining the attributes for this class\n",
    "i.name='Mobile'\n",
    "i.quantity=10\n",
    "i.total_price=i.price*i.quantity\n",
    "print(i.total_price)\n",
    "print(type(i.price))\n",
    "\n",
    "\n",
    "#Note, there is class in int, or any datatype \"While we print type of int, str, set etc\"because python data structures are internally written as objects\n",
    "\n",
    "#Difference between a normal a=6 and this type of assignment\n",
    "# a Normal datatype is linked to the class int\n",
    "#But these datatypes are linked to the datatype \"item\"!!!!!\n",
    "\n",
    "\n",
    "'''HOW????'''\n",
    "\n",
    "print(type(i))#The output says it is a class of item, so this is how we define a datatype"
   ]
  },
  {
   "cell_type": "code",
   "execution_count": null,
   "metadata": {},
   "outputs": [],
   "source": [
    "'''METHODS- In class, basically every function I write inside the class is a method which is written as method()'''\n",
    "'''ATTRIBUTES- In class, every variable called or stored inside the class is a attribute'''"
   ]
  },
  {
   "cell_type": "code",
   "execution_count": 32,
   "metadata": {},
   "outputs": [
    {
     "data": {
      "text/plain": [
       "50"
      ]
     },
     "execution_count": 32,
     "metadata": {},
     "output_type": "execute_result"
    }
   ],
   "source": [
    "class item:\n",
    "    def total_price(self,x,y):#Self is compulsary and any other attribute can also be called\n",
    "        return x*y\n",
    "    pass\n",
    "i=item()\n",
    "i.total_price(10,5)"
   ]
  },
  {
   "cell_type": "code",
   "execution_count": 34,
   "metadata": {},
   "outputs": [
    {
     "name": "stdout",
     "output_type": "stream",
     "text": [
      "God is Good!!\n"
     ]
    }
   ],
   "source": [
    "'''__init__'''\n",
    "#Write code as def __init__(self)\n",
    "class item:\n",
    "    def __init__(self):\n",
    "        print('God is Good!!')\n",
    "    def total_price(self,x,y):#Self is compulsary and any other attribute can also be called\n",
    "        return x*y\n",
    "    pass\n",
    "#The init method or constructor, automatically executes at the first step when we call the function\n",
    "\n",
    "i=item()\n",
    "\n",
    "#Even though I did not print anything the print in the init, got executed automatically"
   ]
  },
  {
   "cell_type": "code",
   "execution_count": 44,
   "metadata": {},
   "outputs": [
    {
     "name": "stdout",
     "output_type": "stream",
     "text": [
      "Hero\n",
      "Hero\n"
     ]
    },
    {
     "data": {
      "text/plain": [
       "15"
      ]
     },
     "execution_count": 44,
     "metadata": {},
     "output_type": "execute_result"
    }
   ],
   "source": [
    "'''So whats special about the __init__???\n",
    "- Because the init function is initialized at the first step, automatically at the first step without any other funtion.\n",
    "We can declare or call the variables which are needed mainly through this function\n",
    "\n",
    "Also, when we use any library, the attributes in a function are actually defined under __init__!!!!\n",
    "\n",
    "Every variable called under the self, should be called as \"self.value\" throughout the class!!!'''\n",
    "\n",
    "class item:\n",
    "    def __init__(self,name,x=1,y=2):\n",
    "        self.name=name\n",
    "        self.x=x\n",
    "        self.y=y\n",
    "        \n",
    "    def print_name(self):#Self is compulsary and any other attribute can also be called\n",
    "        print(self.name)\n",
    "    \n",
    "    def total_price(self):\n",
    "        return self.x*self.y\n",
    "    pass\n",
    "\n",
    "#Inside every function we call self/__init__ is run automatically!!! hence the variable defined under init can be called throughout\n",
    "#every function written under a class.\n",
    "\n",
    "i=item('Hero')\n",
    "i.print_name()\n",
    "i.total_price()\n",
    "\n",
    "'''In the above example we have taken the variable from self for the function total_price'''\n",
    "\n",
    "i=item('Hero',3,5)\n",
    "'''This way we can overwrite a value'''\n",
    "i.print_name()\n",
    "i.total_price()"
   ]
  },
  {
   "cell_type": "code",
   "execution_count": 51,
   "metadata": {},
   "outputs": [
    {
     "data": {
      "text/plain": [
       "'Joseph'"
      ]
     },
     "execution_count": 51,
     "metadata": {},
     "output_type": "execute_result"
    }
   ],
   "source": [
    "'''Calling variable inside the function'''\n",
    "class item:\n",
    "    def __init__(self,name):\n",
    "        self.name=name\n",
    "        \n",
    "    def print_name(self):#Self is compulsary and any other attribute can also be called\n",
    "        print(self.name)\n",
    "    \n",
    "    def total_price(self,x=1,y=10):\n",
    "        return x*y\n",
    "    pass\n",
    "i=item('Joseph')\n",
    "i.total_price()\n",
    "\n",
    "'''Here we are actually calling the variable under the function itself'''\n",
    "i.name"
   ]
  },
  {
   "cell_type": "code",
   "execution_count": null,
   "metadata": {},
   "outputs": [],
   "source": [
    "'''Going beyond declaring variables and setting the datatypes for each values'''"
   ]
  },
  {
   "cell_type": "code",
   "execution_count": 61,
   "metadata": {},
   "outputs": [
    {
     "name": "stdout",
     "output_type": "stream",
     "text": [
      "1.22\n"
     ]
    },
    {
     "data": {
      "text/plain": [
       "10"
      ]
     },
     "execution_count": 61,
     "metadata": {},
     "output_type": "execute_result"
    }
   ],
   "source": [
    "class item:\n",
    "    def __init__(self,name:str): #This is how we define the datatype of a value which we enter\n",
    "        self.name=name\n",
    "        \n",
    "    def print_name(self):#Self is compulsary and any other attribute can also be called\n",
    "        print(self.name)\n",
    "    \n",
    "    def total_price(self,x=1,y=10):# Here the x & y already have been given a datatype\n",
    "        return x*y\n",
    "    pass\n",
    "i=item()\n",
    "i.print_name()\n",
    "i.total_price()\n",
    "\n",
    "'''Even though we have defined the datatype it is not showing error, so we go ahead and add an error'''"
   ]
  },
  {
   "cell_type": "code",
   "execution_count": 69,
   "metadata": {},
   "outputs": [],
   "source": [
    "'''First validate the values, then assign them'''\n",
    "class item:\n",
    "    def __init__(self,name:str,x:int,y:int): #This is how we define the datatype of a value which we enter\n",
    "        #First validate the values\n",
    "        assert name!=str\n",
    "        assert x>=0#We can tell the system when to throw an error using assertion\n",
    "        assert y>=0\n",
    "        \n",
    "        #then assign\n",
    "        self.name=name\n",
    "        self.x=x\n",
    "        self.y=y\n",
    "        \n",
    "    def print_name(self):#Self is compulsary and any other attribute can also be called\n",
    "        print(self.name)\n",
    "    \n",
    "    def total_price(self):# Here the x & y already have been given a datatype\n",
    "        return x*y\n",
    "    pass\n",
    "i=item(1.22,1,0)"
   ]
  },
  {
   "cell_type": "code",
   "execution_count": null,
   "metadata": {},
   "outputs": [],
   "source": [
    "'''I can say what error to popup, as a part of assertion error by:\n",
    "assert x>=0, print('This is an invalid value')\n",
    "'''"
   ]
  },
  {
   "cell_type": "code",
   "execution_count": null,
   "metadata": {},
   "outputs": [],
   "source": []
  },
  {
   "cell_type": "code",
   "execution_count": null,
   "metadata": {},
   "outputs": [],
   "source": [
    "#https://www.youtube.com/watch?v=Ej_02ICOIgs&t=110s`"
   ]
  }
 ],
 "metadata": {
  "kernelspec": {
   "display_name": "Python 3",
   "language": "python",
   "name": "python3"
  },
  "language_info": {
   "codemirror_mode": {
    "name": "ipython",
    "version": 3
   },
   "file_extension": ".py",
   "mimetype": "text/x-python",
   "name": "python",
   "nbconvert_exporter": "python",
   "pygments_lexer": "ipython3",
   "version": "3.6.5"
  }
 },
 "nbformat": 4,
 "nbformat_minor": 2
}
