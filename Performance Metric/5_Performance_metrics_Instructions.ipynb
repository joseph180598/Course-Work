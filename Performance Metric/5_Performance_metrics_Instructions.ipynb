{
 "cells": [
  {
   "cell_type": "markdown",
   "metadata": {
    "id": "s0Ej_bXyQvnV"
   },
   "source": [
    "# Compute performance metrics for the given Y and Y_score without sklearn"
   ]
  },
  {
   "cell_type": "code",
   "execution_count": 1,
   "metadata": {
    "id": "4CHb6NE7Qvnc"
   },
   "outputs": [],
   "source": [
    "import numpy as np\n",
    "import pandas as pd\n",
    "from tqdm import tqdm\n",
    "# other than these two you should not import any other packages"
   ]
  },
  {
   "cell_type": "markdown",
   "metadata": {
    "id": "KbsWXuDaQvnq"
   },
   "source": [
    "\n",
    "## A. Compute performance metrics for the given data '5_a.csv'\n",
    " <pre>  <b>Note 1:</b> in this data you can see number of positive points >> number of negatives points\n",
    "   <b>Note 2:</b> use pandas or numpy to read the data from <b>5_a.csv</b>\n",
    "   <b>Note 3:</b> you need to derive the class labels from given score</pre> $y^{pred}= \\text{[0 if y_score < 0.5 else 1]}$\n",
    "\n",
    "<pre>\n",
    "<ol>\n",
    "<li> Compute Confusion Matrix </li>\n",
    "<li> Compute F1 Score </li>\n",
    "<li> Compute AUC Score, you need to compute different thresholds and for each threshold compute tpr,fpr and then use               numpy.trapz(tpr_array, fpr_array) <a href='https://stackoverflow.com/q/53603376/4084039'>https://stackoverflow.com/q/53603376/4084039</a>, <a href='https://stackoverflow.com/a/39678975/4084039'>https://stackoverflow.com/a/39678975/4084039</a> Note: it should be numpy.trapz(tpr_array, fpr_array) not numpy.trapz(fpr_array, tpr_array)\n",
    "Note- Make sure that you arrange your probability scores in descending order while calculating AUC</li>\n",
    "<li> Compute Accuracy Score </li>\n",
    "</ol>\n",
    "</pre>"
   ]
  },
  {
   "cell_type": "code",
   "execution_count": 2,
   "metadata": {
    "id": "WaFLW7oBQvnt"
   },
   "outputs": [
    {
     "data": {
      "text/plain": [
       "10100"
      ]
     },
     "execution_count": 2,
     "metadata": {},
     "output_type": "execute_result"
    }
   ],
   "source": [
    "df_a=np.loadtxt('5_a.csv',delimiter=',', dtype=str)\n",
    "df_a=df_a[1:,:].astype('float64')\n",
    "df_a=df_a[np.argsort(df_a[:,1])][::-1]\n",
    "df_a#main Data\n",
    "\n",
    "y_actual=df_a[:,0].copy()\n",
    "y_proba=df_a[:,1].copy()\n",
    "len(y_actual)"
   ]
  },
  {
   "cell_type": "code",
   "execution_count": 3,
   "metadata": {
    "id": "yg8uUJvGAfCM"
   },
   "outputs": [
    {
     "name": "stdout",
     "output_type": "stream",
     "text": [
      "[[    0   100]\n",
      " [    0 10000]]\n"
     ]
    },
    {
     "data": {
      "text/plain": [
       "array([1., 1., 1., ..., 1., 1., 1.])"
      ]
     },
     "execution_count": 3,
     "metadata": {},
     "output_type": "execute_result"
    }
   ],
   "source": [
    "from sklearn.metrics import confusion_matrix\n",
    "y_pred=y_proba.copy()\n",
    "y_proba[(y_proba>0.5)]=1\n",
    "y_proba[(y_proba==0.5)]=1\n",
    "y_proba[(y_proba<0.5)]=0\n",
    "\n",
    "print(confusion_matrix(y_actual,y_proba))\n",
    "y_proba"
   ]
  },
  {
   "cell_type": "code",
   "execution_count": 4,
   "metadata": {},
   "outputs": [
    {
     "name": "stdout",
     "output_type": "stream",
     "text": [
      "([0, 0], [100, 10000])\n"
     ]
    }
   ],
   "source": [
    "def confusion_matrix(y_actual,y_predicted):\n",
    "    '''This function returns the confusion matrix\n",
    "    '''\n",
    "    TP=0\n",
    "    FP=0\n",
    "    TN=0\n",
    "    FN=0\n",
    "    for x in range(len(y_actual)):\n",
    "        if y_actual[x]==1:\n",
    "            if y_predicted[x]==1:\n",
    "                TP+=1\n",
    "            else:\n",
    "                FN+=1\n",
    "        if y_actual[x]==0:\n",
    "            if y_predicted[x]==0:\n",
    "                TN+=1\n",
    "            else:\n",
    "                FP+=1\n",
    "    #print('TP={},FP={},TN={},FN={}'.format(TP,FP,TN,FN))\n",
    "    return([TN,FN],[FP,TP])\n",
    "\n",
    "X=confusion_matrix(y_actual,y_proba)#[TN,FN],[FP,TP]\n",
    "print(X)"
   ]
  },
  {
   "cell_type": "code",
   "execution_count": 5,
   "metadata": {},
   "outputs": [
    {
     "name": "stdout",
     "output_type": "stream",
     "text": [
      "Precision 0.9900990099009901\n",
      "Recall 1.0\n",
      "f1_score 0.9950248756218906\n"
     ]
    },
    {
     "data": {
      "text/plain": [
       "0.9950248756218906"
      ]
     },
     "execution_count": 5,
     "metadata": {},
     "output_type": "execute_result"
    }
   ],
   "source": [
    "def precision(TP,FP):\n",
    "    '''This function calculates the precision\n",
    "    '''\n",
    "    p=TP/(TP+FP)\n",
    "    print('Precision',p)\n",
    "    return p\n",
    "def recall(TP,FN):\n",
    "    '''This function calculates the recall\n",
    "    '''\n",
    "    r=TP/(TP+FN)\n",
    "    print('Recall',r)\n",
    "    return r\n",
    "\n",
    "def f1_score(y_actual,y_predicted):\n",
    "    '''This functions returns the f1 score\n",
    "    '''\n",
    "    cm=confusion_matrix(y_actual,y_predicted)\n",
    "    TN,FN=cm[0]\n",
    "    FP,TP=cm[1]\n",
    "    p=precision(TP,FP)\n",
    "    r=recall(TP,FN)\n",
    "    f1=(2*p*r)/(p+r)\n",
    "    print('f1_score',f1)\n",
    "    return f1\n",
    "f1_score(y_actual,y_proba)\n"
   ]
  },
  {
   "cell_type": "code",
   "execution_count": 6,
   "metadata": {},
   "outputs": [
    {
     "name": "stderr",
     "output_type": "stream",
     "text": [
      "100%|████████████████████████████████████████████████████████████████████████████| 10100/10100 [01:58<00:00, 85.41it/s]"
     ]
    },
    {
     "name": "stdout",
     "output_type": "stream",
     "text": [
      "The AUC Score is  0.48829900000000004\n"
     ]
    },
    {
     "name": "stderr",
     "output_type": "stream",
     "text": [
      "\n"
     ]
    }
   ],
   "source": [
    "def AUC(sorted_array1,prob_index,actual_y_index ):#pcolumn_name is a string with the name of the column with probabilities\n",
    "    '''This function returns the AUC Score, tpr & fpr array\n",
    "    '''\n",
    "    tpr_array=[]\n",
    "    fpr_array=[]\n",
    "    proba=sorted_array1[:,prob_index].copy()\n",
    "    for p in tqdm(proba):\n",
    "        sorted_array=sorted_array1.copy()\n",
    "        y_actual=sorted_array1[:,actual_y_index].copy()\n",
    "        y_predicted=proba.copy()\n",
    "        y_predicted[(y_predicted>p)]=1\n",
    "        y_predicted[(y_predicted==p)]=1\n",
    "        y_predicted[y_predicted<p]=0\n",
    "        cm=confusion_matrix(y_actual,y_predicted)\n",
    "        TN,FN=cm[0]\n",
    "        FP,TP=cm[1]\n",
    "        TPR=TP/(TP+FN)\n",
    "        FPR=FP/(TN +FP)\n",
    "        tpr_array.append(TPR)\n",
    "        fpr_array.append(FPR)\n",
    "    auc_score=np.trapz(tpr_array, fpr_array)\n",
    "    return(auc_score,tpr_array,fpr_array)\n",
    "\n",
    "sorted_df=df_a.copy()\n",
    "a,tpr,fpr=AUC(sorted_df,1,0)\n",
    "print('The AUC Score is ', a)"
   ]
  },
  {
   "cell_type": "code",
   "execution_count": null,
   "metadata": {},
   "outputs": [],
   "source": []
  },
  {
   "cell_type": "code",
   "execution_count": 7,
   "metadata": {},
   "outputs": [
    {
     "data": {
      "image/png": "[encoded data removed]",
      "text/plain": [
       "<Figure size 432x288 with 1 Axes>"
      ]
     },
     "metadata": {
      "needs_background": "light"
     },
     "output_type": "display_data"
    },
    {
     "data": {
      "text/plain": [
       "0.48829900000000004"
      ]
     },
     "execution_count": 7,
     "metadata": {},
     "output_type": "execute_result"
    }
   ],
   "source": [
    "import matplotlib.pyplot as plt\n",
    "def plot(TPR, FPR):\n",
    "    '''this function plot the ROC curve'''\n",
    "    plt.plot(TPR,FPR)\n",
    "    plt.title('ROC curve')\n",
    "    plt.xlabel('FPR')\n",
    "    plt.ylabel('TPR')\n",
    "    plt.title('ROC curve')\n",
    "    plt.grid(True)\n",
    "    plt.show()\n",
    "\n",
    "plot(fpr,tpr)\n",
    "np.trapz(tpr, fpr)"
   ]
  },
  {
   "cell_type": "code",
   "execution_count": null,
   "metadata": {},
   "outputs": [],
   "source": [
    "\n"
   ]
  },
  {
   "cell_type": "code",
   "execution_count": null,
   "metadata": {},
   "outputs": [],
   "source": []
  },
  {
   "cell_type": "code",
   "execution_count": 8,
   "metadata": {},
   "outputs": [
    {
     "data": {
      "text/plain": [
       "0.9900990099009901"
      ]
     },
     "execution_count": 8,
     "metadata": {},
     "output_type": "execute_result"
    }
   ],
   "source": [
    "def Accuracy_score(y_actual,y_predicted):\n",
    "    correct=0\n",
    "    wrong=0\n",
    "    for x in range(len(y_actual)):\n",
    "        \n",
    "        if y_actual[x]==y_predicted[x]:\n",
    "            correct+=1\n",
    "        else:\n",
    "            wrong+=1\n",
    "    acc=correct/len(y_actual)\n",
    "    return(acc)\n",
    "\n",
    "Accuracy_score(y_actual,y_proba)"
   ]
  },
  {
   "cell_type": "markdown",
   "metadata": {
    "id": "V5KZem1BQvn2"
   },
   "source": [
    "\n",
    "\n",
    "## B. Compute performance metrics for the given data '5_b.csv'\n",
    "<pre>\n",
    "   <b>Note 1:</b> in this data you can see number of positive points << number of negatives points\n",
    "   <b>Note 2:</b> use pandas or numpy to read the data from <b>5_b.csv</b>\n",
    "   <b>Note 3:</b> you need to derive the class labels from given score</pre> $y^{pred}= \\text{[0 if y_score < 0.5 else 1]}$\n",
    "\n",
    "<pre>\n",
    "<ol>\n",
    "<li> Compute Confusion Matrix </li>\n",
    "<li> Compute F1 Score </li>\n",
    "<li> Compute AUC Score, you need to compute different thresholds and for each threshold compute tpr,fpr and then use               numpy.trapz(tpr_array, fpr_array) <a href='https://stackoverflow.com/q/53603376/4084039'>https://stackoverflow.com/q/53603376/4084039</a>, <a href='https://stackoverflow.com/a/39678975/4084039'>https://stackoverflow.com/a/39678975/4084039</a>\n",
    "Note- Make sure that you arrange your probability scores in descending order while calculating AUC</li>\n",
    "<li> Compute Accuracy Score </li>\n",
    "</ol>\n",
    "</pre>"
   ]
  },
  {
   "cell_type": "code",
   "execution_count": 9,
   "metadata": {
    "id": "U2sKlq0YQvn5"
   },
   "outputs": [
    {
     "data": {
      "text/plain": [
       "array([0.59529418, 0.5948084 , 0.59219787, ..., 0.10016508, 0.1001608 ,\n",
       "       0.10000141])"
      ]
     },
     "execution_count": 9,
     "metadata": {},
     "output_type": "execute_result"
    }
   ],
   "source": [
    "df_b=np.loadtxt('5_b.csv',delimiter=',', dtype=str)\n",
    "df_b=df_b[1:,:].astype('float64')\n",
    "df_b=df_b[np.argsort(df_b[:,1])][::-1]\n",
    "df_b#main Data\n",
    "\n",
    "y_actual=df_b[:,0].copy()\n",
    "y_proba=df_b[:,1].copy()\n",
    "len(y_actual)\n",
    "y_proba"
   ]
  },
  {
   "cell_type": "code",
   "execution_count": 10,
   "metadata": {
    "id": "xlLVa-cVAfCS"
   },
   "outputs": [
    {
     "data": {
      "text/plain": [
       "([9761, 45], [239, 55])"
      ]
     },
     "execution_count": 10,
     "metadata": {},
     "output_type": "execute_result"
    }
   ],
   "source": [
    "y_predc=y_proba.copy()\n",
    "y_predc[(y_predc>0.5)]=1\n",
    "y_predc[(y_predc==0.5)]=1\n",
    "y_predc[y_predc<0.5]=0\n",
    "\n",
    "confusion_matrix(y_actual,y_predc)#[TN,FN],[FP,TP]"
   ]
  },
  {
   "cell_type": "code",
   "execution_count": 11,
   "metadata": {},
   "outputs": [
    {
     "data": {
      "text/plain": [
       "100"
      ]
     },
     "execution_count": 11,
     "metadata": {},
     "output_type": "execute_result"
    }
   ],
   "source": [
    "len(y_predc[y_predc==1])\n",
    "len(y_actual[y_actual==1])"
   ]
  },
  {
   "cell_type": "code",
   "execution_count": 12,
   "metadata": {},
   "outputs": [
    {
     "name": "stdout",
     "output_type": "stream",
     "text": [
      "Precision 0.1870748299319728\n",
      "Recall 0.55\n",
      "f1_score 0.2791878172588833\n"
     ]
    },
    {
     "data": {
      "text/plain": [
       "0.2791878172588833"
      ]
     },
     "execution_count": 12,
     "metadata": {},
     "output_type": "execute_result"
    }
   ],
   "source": [
    "f1_score(y_actual,y_predc)"
   ]
  },
  {
   "cell_type": "code",
   "execution_count": 13,
   "metadata": {},
   "outputs": [
    {
     "name": "stderr",
     "output_type": "stream",
     "text": [
      "100%|████████████████████████████████████████████████████████████████████████████| 10100/10100 [01:56<00:00, 86.51it/s]\n"
     ]
    }
   ],
   "source": [
    "sorted_df=df_b.copy()\n",
    "a,tpr,fpr=AUC(sorted_df,1,0)"
   ]
  },
  {
   "cell_type": "code",
   "execution_count": 14,
   "metadata": {},
   "outputs": [
    {
     "name": "stdout",
     "output_type": "stream",
     "text": [
      "AUC score is  0.9377570000000001\n"
     ]
    },
    {
     "data": {
      "image/png": "[encoded data removed]",
      "text/plain": [
       "<Figure size 432x288 with 1 Axes>"
      ]
     },
     "metadata": {
      "needs_background": "light"
     },
     "output_type": "display_data"
    },
    {
     "data": {
      "text/plain": [
       "0.9377570000000001"
      ]
     },
     "execution_count": 14,
     "metadata": {},
     "output_type": "execute_result"
    }
   ],
   "source": [
    "print('AUC score is ', a)\n",
    "plot(fpr,tpr)\n",
    "np.trapz(tpr,fpr)"
   ]
  },
  {
   "cell_type": "code",
   "execution_count": null,
   "metadata": {},
   "outputs": [],
   "source": []
  },
  {
   "cell_type": "code",
   "execution_count": 15,
   "metadata": {},
   "outputs": [
    {
     "data": {
      "text/plain": [
       "0.9718811881188119"
      ]
     },
     "execution_count": 15,
     "metadata": {},
     "output_type": "execute_result"
    }
   ],
   "source": [
    "Accuracy_score(y_actual,y_predc)"
   ]
  },
  {
   "cell_type": "markdown",
   "metadata": {
    "id": "GiPGonTzQvoB"
   },
   "source": [
    "### C. Compute the best threshold (similarly to ROC curve computation) of probability which gives lowest values of metric <b>A</b> for the given data \n",
    "<br>\n",
    "\n",
    "you will be predicting label of a data points like this: $y^{pred}= \\text{[0 if y_score < threshold  else 1]}$\n",
    "\n",
    "$ A = 500 \\times \\text{number of false negative} + 100 \\times \\text{numebr of false positive}$\n",
    "\n",
    "<pre>\n",
    "   <b>Note 1:</b> in this data you can see number of negative points > number of positive points\n",
    "   <b>Note 2:</b> use pandas or numpy to read the data from <b>5_c.csv</b>\n",
    "</pre>"
   ]
  },
  {
   "cell_type": "code",
   "execution_count": 16,
   "metadata": {
    "id": "x5HIJzq1QvoE"
   },
   "outputs": [
    {
     "data": {
      "text/plain": [
       "array([[1.        , 0.9577468 ],\n",
       "       [1.        , 0.95143692],\n",
       "       [1.        , 0.94863779],\n",
       "       ...,\n",
       "       [0.        , 0.02896366],\n",
       "       [0.        , 0.02839574],\n",
       "       [0.        , 0.02803799]])"
      ]
     },
     "execution_count": 16,
     "metadata": {},
     "output_type": "execute_result"
    }
   ],
   "source": [
    "df_c=np.loadtxt('5_c.csv',delimiter=',',dtype=str)\n",
    "df_c\n",
    "df_c=df_c[1:,:].astype('float64')\n",
    "df_c=df_c[np.argsort(df_c[:,1])][::-1]\n",
    "df_c#Main Clean Data"
   ]
  },
  {
   "cell_type": "code",
   "execution_count": 28,
   "metadata": {
    "id": "eAPjewjzAfCa"
   },
   "outputs": [
    {
     "name": "stderr",
     "output_type": "stream",
     "text": [
      "100%|█████████████████████████████████████████████████████████████████████████████| 2852/2852 [00:09<00:00, 302.52it/s]\n"
     ]
    },
    {
     "data": {
      "text/plain": [
       "0.2300390278970873"
      ]
     },
     "execution_count": 28,
     "metadata": {},
     "output_type": "execute_result"
    }
   ],
   "source": [
    "def best_threshold(sorted_array,prob_index,actual_y_index ):#pcolumn_name is a string with the name of the column with probabilities\n",
    "    '''numpy code\n",
    "    '''\n",
    "    a_scores=[]\n",
    "    p_values=[]\n",
    "    proba1=sorted_array[:,prob_index].copy()\n",
    "    for p in tqdm(proba1):\n",
    "        proba=sorted_array[:,prob_index].copy()\n",
    "        y_actual=sorted_array[:,actual_y_index].copy()\n",
    "        y_predicted=proba.copy()\n",
    "        y_predicted[y_predicted>p]=1\n",
    "        y_predicted[y_predicted==p]=1\n",
    "        y_predicted[y_predicted<p]=0\n",
    "        cm=confusion_matrix(y_actual,y_predicted)\n",
    "        TN,FN=cm[0]\n",
    "        FP,TP=cm[1]\n",
    "        A=(500*FN)+ (100*FP)\n",
    "        a_scores.append(A)\n",
    "        p_values.append(p)\n",
    "    m=min(a_scores)\n",
    "    i=a_scores.index(m)\n",
    "    threshold=p_values[i]\n",
    "    return(threshold)\n",
    "\n",
    "df_c\n",
    "df=df_c.copy()\n",
    "best_threshold(df,1,0)"
   ]
  },
  {
   "cell_type": "code",
   "execution_count": 32,
   "metadata": {},
   "outputs": [
    {
     "data": {
      "text/plain": [
       "([785, 78], [1020, 969])"
      ]
     },
     "execution_count": 32,
     "metadata": {},
     "output_type": "execute_result"
    }
   ],
   "source": [
    "trial_df=df_c.copy()\n",
    "trial_df[trial_df>0.2300390278970873]=1\n",
    "trial_df[trial_df==0.2300390278970873]=1\n",
    "trial_df[trial_df<0.2300390278970873]=0\n",
    "y=trial_df[:,1]\n",
    "x=trial_df[:,0]\n",
    "confusion_matrix(x,y )#[TN,FN],[FP,TP]"
   ]
  },
  {
   "cell_type": "markdown",
   "metadata": {
    "id": "sD4CcgjXQvoL"
   },
   "source": [
    "\n",
    "## D.</b></font> Compute performance metrics(for regression) for the given data 5_d.csv\n",
    "<pre>    <b>Note 2:</b> use pandas or numpy to read the data from <b>5_d.csv</b>\n",
    "    <b>Note 1:</b> <b>5_d.csv</b> will having two columns Y and predicted_Y both are real valued features\n",
    "<ol>\n",
    "<li> Compute Mean Square Error </li>\n",
    "<li> Compute MAPE: https://www.youtube.com/watch?v=ly6ztgIkUxk</li>\n",
    "<li> Compute R^2 error: https://en.wikipedia.org/wiki/Coefficient_of_determination#Definitions </li>\n",
    "</ol>\n",
    "</pre>"
   ]
  },
  {
   "cell_type": "code",
   "execution_count": 33,
   "metadata": {
    "id": "sVOj-bF9AfCd"
   },
   "outputs": [
    {
     "data": {
      "text/plain": [
       "array([[101., 100.],\n",
       "       [120., 100.],\n",
       "       [131., 113.],\n",
       "       ...,\n",
       "       [106.,  93.],\n",
       "       [105., 101.],\n",
       "       [ 81., 104.]])"
      ]
     },
     "execution_count": 33,
     "metadata": {},
     "output_type": "execute_result"
    }
   ],
   "source": [
    "df_d=np.loadtxt('5_d.csv',delimiter=',',dtype=str)\n",
    "#print(df_d[:5,:])\n",
    "df_d=df_d[1:,:].astype('float64')\n",
    "y_actual=df_d[:,0].copy()\n",
    "y_predicted=df_d[:,1].copy()\n",
    "df_d#Main Cleaned Data"
   ]
  },
  {
   "cell_type": "code",
   "execution_count": 34,
   "metadata": {
    "id": "uRhL1pheAfCe"
   },
   "outputs": [
    {
     "name": "stderr",
     "output_type": "stream",
     "text": [
      "100%|██████████████████████████████████████████████████████████████████████| 157200/157200 [00:00<00:00, 814990.70it/s]\n"
     ]
    },
    {
     "data": {
      "text/plain": [
       "177.16569974554707"
      ]
     },
     "execution_count": 34,
     "metadata": {},
     "output_type": "execute_result"
    }
   ],
   "source": [
    "def mean_square_error(y_actual,y_predicted):\n",
    "    square_error=[]\n",
    "    for i in tqdm(range(len(y_actual))):\n",
    "        e_i=(y_actual[i]-y_predicted[i])\n",
    "        square_error.append(e_i**2)\n",
    "    #print(sum(square_error))\n",
    "    mean=np.mean(square_error)\n",
    "    return(mean)\n",
    "mean_square_error(y_actual,y_predicted)"
   ]
  },
  {
   "cell_type": "code",
   "execution_count": 89,
   "metadata": {},
   "outputs": [
    {
     "name": "stderr",
     "output_type": "stream",
     "text": [
      "100%|██████████████████████████████████████████████████████████████████████| 157200/157200 [00:00<00:00, 925240.08it/s]\n"
     ]
    },
    {
     "data": {
      "text/plain": [
       "0.1291202994009687"
      ]
     },
     "execution_count": 89,
     "metadata": {},
     "output_type": "execute_result"
    }
   ],
   "source": [
    "def MAPE(y_actual,y_predicted):\n",
    "    abs_error=[]\n",
    "    for x in tqdm(range(len(y_actual))):\n",
    "        e_i=abs(y_actual[x]-y_predicted[x])\n",
    "        abs_error.append(e_i)\n",
    "    s=sum(y_actual)\n",
    "    MAPE=(sum(abs_error)/s)\n",
    "    return(MAPE)\n",
    "\n",
    "MAPE(y_actual,y_predicted)\n",
    "    \n",
    "    "
   ]
  },
  {
   "cell_type": "code",
   "execution_count": 90,
   "metadata": {},
   "outputs": [
    {
     "data": {
      "text/plain": [
       "0.9563582786990964"
      ]
     },
     "execution_count": 90,
     "metadata": {},
     "output_type": "execute_result"
    }
   ],
   "source": [
    "def r2_error(y_actual,y_predicted):\n",
    "    ss_res=0\n",
    "    ss_tot=0\n",
    "    m=np.mean(y_actual)\n",
    "    for i in range (len(y_actual)):\n",
    "        e_i=(y_actual[i]-y_predicted[i])**2\n",
    "        ss_res+=e_i\n",
    "        x_i=(y_actual[i]-m)**2\n",
    "        ss_tot+=x_i\n",
    "    r2_error=1-(ss_res/ss_tot)\n",
    "    return(r2_error)\n",
    "r2_error(y_actual,y_predicted)"
   ]
  }
 ],
 "metadata": {
  "colab": {
   "collapsed_sections": [],
   "name": "5_Performance_metrics_Instructions.ipynb",
   "provenance": []
  },
  "kernelspec": {
   "display_name": "Python 3",
   "language": "python",
   "name": "python3"
  },
  "language_info": {
   "codemirror_mode": {
    "name": "ipython",
    "version": 3
   },
   "file_extension": ".py",
   "mimetype": "text/x-python",
   "name": "python",
   "nbconvert_exporter": "python",
   "pygments_lexer": "ipython3",
   "version": "3.8.8"
  }
 },
 "nbformat": 4,
 "nbformat_minor": 1
}
