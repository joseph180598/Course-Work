{
 "cells": [
  {
   "cell_type": "markdown",
   "metadata": {
    "id": "s0Ej_bXyQvnV"
   },
   "source": [
    "# Compute performance metrics for the given Y and Y_score without sklearn"
   ]
  },
  {
   "cell_type": "code",
   "execution_count": 18,
   "metadata": {
    "id": "4CHb6NE7Qvnc",
    "scrolled": true
   },
   "outputs": [
    {
     "data": {
      "text/html": [
       "<div>\n",
       "<style scoped>\n",
       "    .dataframe tbody tr th:only-of-type {\n",
       "        vertical-align: middle;\n",
       "    }\n",
       "\n",
       "    .dataframe tbody tr th {\n",
       "        vertical-align: top;\n",
       "    }\n",
       "\n",
       "    .dataframe thead th {\n",
       "        text-align: right;\n",
       "    }\n",
       "</style>\n",
       "<table border=\"1\" class=\"dataframe\">\n",
       "  <thead>\n",
       "    <tr style=\"text-align: right;\">\n",
       "      <th></th>\n",
       "      <th>y</th>\n",
       "      <th>proba</th>\n",
       "    </tr>\n",
       "  </thead>\n",
       "  <tbody>\n",
       "  </tbody>\n",
       "</table>\n",
       "</div>"
      ],
      "text/plain": [
       "Empty DataFrame\n",
       "Columns: [y, proba]\n",
       "Index: []"
      ]
     },
     "execution_count": 18,
     "metadata": {},
     "output_type": "execute_result"
    }
   ],
   "source": [
    "import numpy as np\n",
    "import pandas as pd\n",
    "from tqdm import tqdm\n",
    "# other than these two you should not import any other packages\n",
    "data=pd.read_csv('5_a.csv')\n",
    "data.head()\n",
    "data[data.proba<0.5]"
   ]
  },
  {
   "cell_type": "code",
   "execution_count": 20,
   "metadata": {},
   "outputs": [
    {
     "name": "stdout",
     "output_type": "stream",
     "text": [
      "([894, 1647], [4823, 4788])\n"
     ]
    }
   ],
   "source": [
    "def precision(TP,FP):\n",
    "    '''This function calculates the precision(Precision tells out of all predicted Positive, how many are actually positive)\n",
    "    '''\n",
    "    p=TP/(TP+FP)\n",
    "    return p\n",
    "def recall(TP,FN):\n",
    "    '''This function calculates the recall(Recall, tells out of all actual positives, how many was the model able to predict correctly)\n",
    "    '''\n",
    "    r=TP/(TP+FN)\n",
    "    return r\n",
    "def f1_score(p,r):\n",
    "    '''This functions returns the f1 score\n",
    "    '''\n",
    "    f1=(2*p*r)/(p+r)\n",
    "    return f1\n",
    "\n",
    "def calculator(y_actual,y_predicted):\n",
    "    '''This function returns the confusion matrix\n",
    "    '''\n",
    "    TP=0\n",
    "    FP=0\n",
    "    TN=0\n",
    "    FN=0\n",
    "    for x in range(len(y_actual)):\n",
    "        if y_actual[x]==1:\n",
    "            if y_predicted[x]==1:\n",
    "                TP+=1\n",
    "            else:\n",
    "                FP+=1\n",
    "        if y_actual[x]==0:\n",
    "            if y_predicted[x]==0:\n",
    "                TN+=1\n",
    "            else:\n",
    "                FN+=1\n",
    "    return([TN,TP],[FN,FP])\n",
    "print(calculator(y_actual,y_predicted))"
   ]
  },
  {
   "cell_type": "markdown",
   "metadata": {
    "id": "KbsWXuDaQvnq"
   },
   "source": [
    "\n",
    "## A. Compute performance metrics for the given data '5_a.csv'\n",
    " <pre>  <b>Note 1:</b> in this data you can see number of positive points >> number of negatives points\n",
    "   <b>Note 2:</b> use pandas or numpy to read the data from <b>5_a.csv</b>\n",
    "   <b>Note 3:</b> you need to derive the class labels from given score</pre> $y^{pred}= \\text{[0 if y_score < 0.5 else 1]}$\n",
    "\n",
    "<pre>\n",
    "<ol>\n",
    "<li> Compute Confusion Matrix </li>\n",
    "<li> Compute F1 Score </li>\n",
    "<li> Compute AUC Score, you need to compute different thresholds and for each threshold compute tpr,fpr and then use               numpy.trapz(tpr_array, fpr_array) <a href='https://stackoverflow.com/q/53603376/4084039'>https://stackoverflow.com/q/53603376/4084039</a>, <a href='https://stackoverflow.com/a/39678975/4084039'>https://stackoverflow.com/a/39678975/4084039</a> Note: it should be numpy.trapz(tpr_array, fpr_array) not numpy.trapz(fpr_array, tpr_array)\n",
    "Note- Make sure that you arrange your probability scores in descending order while calculating AUC</li>\n",
    "<li> Compute Accuracy Score </li>\n",
    "</ol>\n",
    "</pre>"
   ]
  },
  {
   "cell_type": "code",
   "execution_count": 11,
   "metadata": {
    "id": "WaFLW7oBQvnt"
   },
   "outputs": [
    {
     "name": "stdout",
     "output_type": "stream",
     "text": [
      "10000 0 0 100\n",
      "0.9950248756218906\n"
     ]
    }
   ],
   "source": []
  },
  {
   "cell_type": "code",
   "execution_count": null,
   "metadata": {},
   "outputs": [],
   "source": []
  },
  {
   "cell_type": "code",
   "execution_count": 5,
   "metadata": {},
   "outputs": [
    {
     "name": "stderr",
     "output_type": "stream",
     "text": [
      "100%|████████████████████████████████████████████████████████████████████████████| 10100/10100 [02:14<00:00, 75.30it/s]\n"
     ]
    },
    {
     "data": {
      "text/plain": [
       "-49.99000050000001"
      ]
     },
     "execution_count": 5,
     "metadata": {},
     "output_type": "execute_result"
    }
   ],
   "source": [
    "import numpy as np\n",
    "data=np.loadtxt('5_a.csv',delimiter=',', dtype=str)\n",
    "df=data[1:].astype('float64')\n",
    "df=df[np.argsort(df[:,1])][::-1]\n",
    "y_a=df[:,:1]\n",
    "y_p=df[:,1:2]\n",
    "\n",
    "y_actual=y_a.copy()\n",
    "y_predict=y_p.copy()\n",
    "y_predict[y_predict>0.5]=1\n",
    "y_predict[y_predict<0.5]=0\n",
    "def calculator(y_actual,y_predicted):\n",
    "    '''This function returns the confusion matrix\n",
    "    '''\n",
    "    TP=0\n",
    "    FP=0\n",
    "    TN=0\n",
    "    FN=0\n",
    "    for x in range(len(y_actual)):\n",
    "        if y_actual[x]==1:\n",
    "            if y_predicted[x]==1:\n",
    "                TP+=1\n",
    "            else:\n",
    "                FP+=1\n",
    "        if y_actual[x]==0:\n",
    "            if y_predicted[x]==0:\n",
    "                TN+=1\n",
    "            else:\n",
    "                FN+=1\n",
    "    return(TP,FP,TN,FN)\n",
    "calculator(y_actual,y_predict)\n",
    "\n",
    "\n",
    "def AUC(sorted_array,prob_index,actual_y_index ):#pcolumn_name is a string with the name of the column with probabilities\n",
    "    '''numpy code\n",
    "    '''\n",
    "    tpr_array=[]\n",
    "    fpr_array=[]\n",
    "    proba=sorted_array[:,prob_index]\n",
    "    for p in tqdm(proba):\n",
    "        y_actual=sorted_array[:,actual_y_index]\n",
    "        y_predicted=proba.copy()\n",
    "        y_predicted[y_predicted>p]=1\n",
    "        y_predicted[y_predicted<p]=0\n",
    "        TP,FP,TN,FN=calculator(y_actual,y_predicted)\n",
    "        TPR=TP/(TP+FP)\n",
    "        FPR=FP/(TN +FN)\n",
    "        tpr_array.append(TPR)\n",
    "        fpr_array.append(FPR)\n",
    "    auc_score=np.trapz(tpr_array, fpr_array)\n",
    "    return(auc_score)\n",
    "\n",
    "AUC(df,1,0)"
   ]
  },
  {
   "cell_type": "code",
   "execution_count": 22,
   "metadata": {},
   "outputs": [
    {
     "name": "stderr",
     "output_type": "stream",
     "text": [
      "100%|████████████████████████████████████████████████████████████████████████████| 10100/10100 [02:03<00:00, 81.98it/s]\n"
     ]
    }
   ],
   "source": [
    "import numpy as np\n",
    "data=np.loadtxt('5_a.csv',delimiter=',', dtype=str)\n",
    "df=data[1:].astype('float64')\n",
    "df=df[np.argsort(df[:,1])][::-1]\n",
    "\n",
    "def AUC(sorted_array,prob_index,actual_y_index ):#pcolumn_name is a string with the name of the column with probabilities\n",
    "    '''numpy code\n",
    "    '''\n",
    "    tpr_array=[]\n",
    "    fpr_array=[]\n",
    "    proba=sorted_array[:,prob_index]\n",
    "    for p in tqdm(proba):\n",
    "        y_actual=sorted_array[:,actual_y_index]\n",
    "        y_predicted=proba.copy()\n",
    "        y_predicted[y_predicted>p]=1\n",
    "        y_predicted[y_predicted<p]=0\n",
    "        cm=calculator(y_actual,y_predicted)\n",
    "        TN,FN=cm[0]\n",
    "        FP,TP=cm[1]\n",
    "        TPR=TP/(TP+FP)\n",
    "        FPR=FP/(TN +FN)\n",
    "        tpr_array.append(TPR)\n",
    "        fpr_array.append(FPR)\n",
    "    return(tpr_array, fpr_array)\n",
    "\n",
    "tpr,fpr=AUC(df,1,0)"
   ]
  },
  {
   "cell_type": "code",
   "execution_count": 24,
   "metadata": {},
   "outputs": [
    {
     "data": {
      "text/plain": [
       "<AxesSubplot:>"
      ]
     },
     "execution_count": 24,
     "metadata": {},
     "output_type": "execute_result"
    },
    {
     "data": {
      "image/png": "[encoded data removed]",
      "text/plain": [
       "<Figure size 432x288 with 1 Axes>"
      ]
     },
     "metadata": {
      "needs_background": "light"
     },
     "output_type": "display_data"
    }
   ],
   "source": [
    "import seaborn as sns\n",
    "sns.lineplot(x=fpr,y=tpr)"
   ]
  },
  {
   "cell_type": "code",
   "execution_count": 25,
   "metadata": {},
   "outputs": [
    {
     "data": {
      "text/plain": [
       "0.009845948266865587"
      ]
     },
     "execution_count": 25,
     "metadata": {},
     "output_type": "execute_result"
    }
   ],
   "source": [
    "np.trapz(tpr,fpr)"
   ]
  },
  {
   "cell_type": "code",
   "execution_count": 25,
   "metadata": {},
   "outputs": [
    {
     "data": {
      "text/plain": [
       "0.0"
      ]
     },
     "execution_count": 25,
     "metadata": {},
     "output_type": "execute_result"
    }
   ],
   "source": [
    "def Accuracy_score(y_actual,y_predicted):\n",
    "    correct=0\n",
    "    wrong=0\n",
    "    for x in range(len(y_actual)):\n",
    "        \n",
    "        if y_actual[x]==y_predicted[x]:\n",
    "            correct+=1\n",
    "        else:\n",
    "            wrong+=1\n",
    "    acc=correct/len(y_actual)\n",
    "    return(acc)\n",
    "\n",
    "Accuracy_score(y_actual,y_predicted)"
   ]
  },
  {
   "cell_type": "code",
   "execution_count": 24,
   "metadata": {},
   "outputs": [
    {
     "data": {
      "text/plain": [
       "array([0.89996535, 0.89982831, 0.89982485, ..., 0.50005801, 0.50004734,\n",
       "       0.50001859])"
      ]
     },
     "execution_count": 24,
     "metadata": {},
     "output_type": "execute_result"
    }
   ],
   "source": [
    "data=np.loadtxt('5_a.csv',delimiter=',', dtype=str)\n",
    "df=data[1:].astype('float64')\n",
    "df=df[np.argsort(df[:,1])][::-1]\n",
    "df[:,1]"
   ]
  },
  {
   "cell_type": "code",
   "execution_count": null,
   "metadata": {},
   "outputs": [],
   "source": [
    "        TPR=TP/(TP+FP)\n",
    "        FPR=FP/(TN +FN)\n",
    "        tpr_array.append(TPR)\n",
    "        fpr_array.append(FPR)\n",
    "    return(tpr_array, fpr_array)"
   ]
  },
  {
   "cell_type": "code",
   "execution_count": null,
   "metadata": {},
   "outputs": [],
   "source": [
    "TPR=TP/(TP+FP)\n",
    "        FPR=FP/(TN +FN)\n",
    "        tpr_array.append(TPR)\n",
    "        frp_array.append(FPR)\n",
    "    return(tpr_array, fpr_array)\n"
   ]
  },
  {
   "cell_type": "code",
   "execution_count": 36,
   "metadata": {},
   "outputs": [
    {
     "name": "stderr",
     "output_type": "stream",
     "text": [
      "C:\\Users\\HP\\anaconda3\\lib\\site-packages\\pandas\\core\\series.py:992: SettingWithCopyWarning: \n",
      "A value is trying to be set on a copy of a slice from a DataFrame\n",
      "\n",
      "See the caveats in the documentation: https://pandas.pydata.org/pandas-docs/stable/user_guide/indexing.html#returning-a-view-versus-a-copy\n",
      "  self._where(~key, value, inplace=True)\n"
     ]
    },
    {
     "data": {
      "text/html": [
       "<div>\n",
       "<style scoped>\n",
       "    .dataframe tbody tr th:only-of-type {\n",
       "        vertical-align: middle;\n",
       "    }\n",
       "\n",
       "    .dataframe tbody tr th {\n",
       "        vertical-align: top;\n",
       "    }\n",
       "\n",
       "    .dataframe thead th {\n",
       "        text-align: right;\n",
       "    }\n",
       "</style>\n",
       "<table border=\"1\" class=\"dataframe\">\n",
       "  <thead>\n",
       "    <tr style=\"text-align: right;\">\n",
       "      <th></th>\n",
       "      <th>proba</th>\n",
       "    </tr>\n",
       "  </thead>\n",
       "  <tbody>\n",
       "    <tr>\n",
       "      <th>0</th>\n",
       "      <td>1.0</td>\n",
       "    </tr>\n",
       "    <tr>\n",
       "      <th>1</th>\n",
       "      <td>1.0</td>\n",
       "    </tr>\n",
       "    <tr>\n",
       "      <th>2</th>\n",
       "      <td>1.0</td>\n",
       "    </tr>\n",
       "    <tr>\n",
       "      <th>3</th>\n",
       "      <td>1.0</td>\n",
       "    </tr>\n",
       "    <tr>\n",
       "      <th>4</th>\n",
       "      <td>1.0</td>\n",
       "    </tr>\n",
       "  </tbody>\n",
       "</table>\n",
       "</div>"
      ],
      "text/plain": [
       "   proba\n",
       "0    1.0\n",
       "1    1.0\n",
       "2    1.0\n",
       "3    1.0\n",
       "4    1.0"
      ]
     },
     "execution_count": 36,
     "metadata": {},
     "output_type": "execute_result"
    }
   ],
   "source": [
    "#print(type(prob))\n",
    "x='proba'\n",
    "y=0.5\n",
    "prob[x][prob[x]>0]=1\n",
    "pd.to_numeric(prob['proba'],downcast='integer')\n",
    "\n"
   ]
  },
  {
   "cell_type": "code",
   "execution_count": null,
   "metadata": {
    "id": "yg8uUJvGAfCM"
   },
   "outputs": [],
   "source": [
    "# write your code here for task A"
   ]
  },
  {
   "cell_type": "markdown",
   "metadata": {
    "id": "V5KZem1BQvn2"
   },
   "source": [
    "\n",
    "\n",
    "## B. Compute performance metrics for the given data '5_b.csv'\n",
    "<pre>\n",
    "   <b>Note 1:</b> in this data you can see number of positive points << number of negatives points\n",
    "   <b>Note 2:</b> use pandas or numpy to read the data from <b>5_b.csv</b>\n",
    "   <b>Note 3:</b> you need to derive the class labels from given score</pre> $y^{pred}= \\text{[0 if y_score < 0.5 else 1]}$\n",
    "\n",
    "<pre>\n",
    "<ol>\n",
    "<li> Compute Confusion Matrix </li>\n",
    "<li> Compute F1 Score </li>\n",
    "<li> Compute AUC Score, you need to compute different thresholds and for each threshold compute tpr,fpr and then use               numpy.trapz(tpr_array, fpr_array) <a href='https://stackoverflow.com/q/53603376/4084039'>https://stackoverflow.com/q/53603376/4084039</a>, <a href='https://stackoverflow.com/a/39678975/4084039'>https://stackoverflow.com/a/39678975/4084039</a>\n",
    "Note- Make sure that you arrange your probability scores in descending order while calculating AUC</li>\n",
    "<li> Compute Accuracy Score </li>\n",
    "</ol>\n",
    "</pre>"
   ]
  },
  {
   "cell_type": "code",
   "execution_count": 28,
   "metadata": {
    "id": "U2sKlq0YQvn5"
   },
   "outputs": [
    {
     "data": {
      "text/plain": [
       "array([[1.        , 0.59529418],\n",
       "       [1.        , 0.5948084 ],\n",
       "       [1.        , 0.59219787],\n",
       "       ...,\n",
       "       [0.        , 0.10016508],\n",
       "       [0.        , 0.1001608 ],\n",
       "       [0.        , 0.10000141]])"
      ]
     },
     "execution_count": 28,
     "metadata": {},
     "output_type": "execute_result"
    }
   ],
   "source": [
    "df_b=np.loadtxt('5_b.csv', delimiter=',',dtype=str)\n",
    "df=df_b[1:,:].astype('float64')\n",
    "df=df[np.argsort(df[::,1])][::-1]\n",
    "df#Main data\n",
    "\n"
   ]
  },
  {
   "cell_type": "code",
   "execution_count": 29,
   "metadata": {
    "id": "xlLVa-cVAfCS"
   },
   "outputs": [
    {
     "data": {
      "text/plain": [
       "0.2791878172588833"
      ]
     },
     "execution_count": 29,
     "metadata": {},
     "output_type": "execute_result"
    }
   ],
   "source": [
    "data=df.copy()\n",
    "y_actual=data[:,0]\n",
    "y_predicted=data[:,1]\n",
    "\n",
    "y_pred1=y_predicted.copy()\n",
    "y_pred1[y_pred1>0.5]=1\n",
    "y_pred1[y_pred1<0.5]=0\n",
    "(TP,FP,TN,FN)=calculator(y_actual,y_pred1)\n",
    "f1_score(TP,FP,TN,FN)\n"
   ]
  },
  {
   "cell_type": "code",
   "execution_count": 30,
   "metadata": {},
   "outputs": [],
   "source": [
    "def precision(TP,FP):\n",
    "    '''This function calculates the precision\n",
    "    '''\n",
    "    p=TP/(TP+FP)\n",
    "    return p\n",
    "def recall(TP,FN):\n",
    "    '''This function calculates the recall\n",
    "    '''\n",
    "    r=TP/(TP+FN)\n",
    "    return r\n",
    "def f1_score(TP,FP,TN,FN):\n",
    "    '''This functions returns the f1 score\n",
    "    '''\n",
    "    p=precision(TP,FP)\n",
    "    r=recall(TP,FN)\n",
    "    f1=(2*p*r)/(p+r)\n",
    "    return f1"
   ]
  },
  {
   "cell_type": "code",
   "execution_count": 17,
   "metadata": {},
   "outputs": [
    {
     "name": "stderr",
     "output_type": "stream",
     "text": [
      "100%|████████████████████████████████████████████████████████████████████████████| 10100/10100 [02:12<00:00, 76.33it/s]\n"
     ]
    },
    {
     "data": {
      "text/plain": [
       "-0.005"
      ]
     },
     "execution_count": 17,
     "metadata": {},
     "output_type": "execute_result"
    }
   ],
   "source": [
    "AUC(df,1,0)\n",
    "\n"
   ]
  },
  {
   "cell_type": "code",
   "execution_count": 31,
   "metadata": {},
   "outputs": [
    {
     "data": {
      "text/plain": [
       "0.9718811881188119"
      ]
     },
     "execution_count": 31,
     "metadata": {},
     "output_type": "execute_result"
    }
   ],
   "source": [
    "def Accuracy_score(y_actual,y_predicted):\n",
    "    correct=0\n",
    "    wrong=0\n",
    "    for x in range(len(y_actual)):\n",
    "        \n",
    "        if y_actual[x]==y_predicted[x]:\n",
    "            correct+=1\n",
    "        else:\n",
    "            wrong+=1\n",
    "    acc=correct/len(y_actual)\n",
    "    return(acc)\n",
    "\n",
    "Accuracy_score(y_actual,y_pred1)"
   ]
  },
  {
   "cell_type": "markdown",
   "metadata": {
    "id": "GiPGonTzQvoB"
   },
   "source": [
    "### C. Compute the best threshold (similarly to ROC curve computation) of probability which gives lowest values of metric <b>A</b> for the given data \n",
    "<br>\n",
    "\n",
    "you will be predicting label of a data points like this: $y^{pred}= \\text{[0 if y_score < threshold  else 1]}$\n",
    "\n",
    "$ A = 500 \\times \\text{number of false negative} + 100 \\times \\text{numebr of false positive}$\n",
    "\n",
    "<pre>\n",
    "   <b>Note 1:</b> in this data you can see number of negative points > number of positive points\n",
    "   <b>Note 2:</b> use pandas or numpy to read the data from <b>5_c.csv</b>\n",
    "</pre>"
   ]
  },
  {
   "cell_type": "code",
   "execution_count": 48,
   "metadata": {
    "id": "x5HIJzq1QvoE"
   },
   "outputs": [
    {
     "data": {
      "text/plain": [
       "array([[1.        , 0.9577468 ],\n",
       "       [1.        , 0.95143692],\n",
       "       [1.        , 0.94863779],\n",
       "       ...,\n",
       "       [0.        , 0.02896366],\n",
       "       [0.        , 0.02839574],\n",
       "       [0.        , 0.02803799]])"
      ]
     },
     "execution_count": 48,
     "metadata": {},
     "output_type": "execute_result"
    }
   ],
   "source": [
    "df_c=np.loadtxt('5_c.csv',delimiter=',',dtype=str)\n",
    "df_c\n",
    "df_c=df_c[1:,:].astype('float64')\n",
    "sorted_df_c=df_c[np.argsort(df_c[:,1])][::-1]\n",
    "sorted_df_c"
   ]
  },
  {
   "cell_type": "code",
   "execution_count": 66,
   "metadata": {
    "id": "eAPjewjzAfCa"
   },
   "outputs": [
    {
     "name": "stderr",
     "output_type": "stream",
     "text": [
      "100%|█████████████████████████████████████████████████████████████████████████████| 2852/2852 [00:10<00:00, 277.92it/s]\n"
     ]
    }
   ],
   "source": [
    "def best_threshold(sorted_array,prob_index,actual_y_index ):#pcolumn_name is a string with the name of the column with probabilities\n",
    "    '''numpy code\n",
    "    '''\n",
    "    a_scores=[]\n",
    "    p_values=[]\n",
    "    proba=sorted_array[:,prob_index]\n",
    "    for p in tqdm(proba):\n",
    "        y_actual=sorted_array[:,actual_y_index]\n",
    "        y_predicted=proba.copy()\n",
    "        y_predicted[y_predicted>p]=1\n",
    "        y_predicted[y_predicted<p]=0\n",
    "        TP,FP,TN,FN=calculator(y_actual,y_predicted)\n",
    "        A=(500*FN)+ (100*FP)\n",
    "        a_scores.append(A)\n",
    "        p_values.append(p)\n",
    "    return(a_scores,p_values)\n",
    "\n",
    "sorted_df_c\n",
    "df=sorted_df_c.copy()\n",
    "a_score,p_value=best_threshold(df,1,0)"
   ]
  },
  {
   "cell_type": "code",
   "execution_count": 69,
   "metadata": {},
   "outputs": [
    {
     "data": {
      "text/plain": [
       "0.6434015901507558"
      ]
     },
     "execution_count": 69,
     "metadata": {},
     "output_type": "execute_result"
    }
   ],
   "source": [
    "min(a_score)\n",
    "a_score.index(88400)\n",
    "p_value[337]"
   ]
  },
  {
   "cell_type": "markdown",
   "metadata": {
    "id": "sD4CcgjXQvoL"
   },
   "source": [
    "\n",
    "## D.</b></font> Compute performance metrics(for regression) for the given data 5_d.csv\n",
    "<pre>    <b>Note 2:</b> use pandas or numpy to read the data from <b>5_d.csv</b>\n",
    "    <b>Note 1:</b> <b>5_d.csv</b> will having two columns Y and predicted_Y both are real valued features\n",
    "<ol>\n",
    "<li> Compute Mean Square Error </li>\n",
    "<li> Compute MAPE: https://www.youtube.com/watch?v=ly6ztgIkUxk</li>\n",
    "<li> Compute R^2 error: https://en.wikipedia.org/wiki/Coefficient_of_determination#Definitions </li>\n",
    "</ol>\n",
    "</pre>"
   ]
  },
  {
   "cell_type": "code",
   "execution_count": 2,
   "metadata": {
    "id": "sVOj-bF9AfCd"
   },
   "outputs": [],
   "source": [
    "df_d=np.loadtxt('5_d.csv',delimiter=',',dtype=str)\n",
    "#print(df_d[:5,:])\n",
    "df_d=df_d[1:,:].astype('float64')\n",
    "y_actual=df_d[:,0]\n",
    "y_predicted=df_d[:,1]"
   ]
  },
  {
   "cell_type": "code",
   "execution_count": 12,
   "metadata": {
    "id": "uRhL1pheAfCe"
   },
   "outputs": [
    {
     "name": "stderr",
     "output_type": "stream",
     "text": [
      "100%|██████████████████████████████████████████████████████████████████████| 157200/157200 [00:00<00:00, 820766.35it/s]"
     ]
    },
    {
     "name": "stdout",
     "output_type": "stream",
     "text": [
      "27850448.0\n"
     ]
    },
    {
     "name": "stderr",
     "output_type": "stream",
     "text": [
      "\n"
     ]
    },
    {
     "data": {
      "text/plain": [
       "177.16569974554707"
      ]
     },
     "execution_count": 12,
     "metadata": {},
     "output_type": "execute_result"
    }
   ],
   "source": [
    "def mean_square_error(y_actual,y_predicted):\n",
    "    square_error=[]\n",
    "    for i in tqdm(range(len(y_actual))):\n",
    "        e_i=(y_actual[i]-y_predicted[i])\n",
    "        square_error.append(e_i**2)\n",
    "    print(sum(square_error))\n",
    "    mean=np.mean(square_error)\n",
    "    return(mean)\n",
    "mean_square_error(y_actual,y_predicted)"
   ]
  },
  {
   "cell_type": "code",
   "execution_count": 9,
   "metadata": {},
   "outputs": [
    {
     "name": "stderr",
     "output_type": "stream",
     "text": [
      "100%|██████████████████████████████████████████████████████████████████████| 157200/157200 [00:00<00:00, 949056.39it/s]\n"
     ]
    },
    {
     "data": {
      "text/plain": [
       "0.1291202994009687"
      ]
     },
     "execution_count": 9,
     "metadata": {},
     "output_type": "execute_result"
    }
   ],
   "source": [
    "def MAPE(y_actual,y_predicted):\n",
    "    abs_error=[]\n",
    "    for x in tqdm(range(len(y_actual))):\n",
    "        e_i=abs(y_actual[x]-y_predicted[x])\n",
    "        abs_error.append(e_i)\n",
    "    s=sum(y_actual)\n",
    "    MAPE=(sum(abs_error)/s)\n",
    "    return(MAPE)\n",
    "\n",
    "MAPE(y_actual,y_predicted)\n",
    "    \n",
    "    "
   ]
  },
  {
   "cell_type": "code",
   "execution_count": 17,
   "metadata": {},
   "outputs": [
    {
     "data": {
      "text/plain": [
       "0.9563582786990964"
      ]
     },
     "execution_count": 17,
     "metadata": {},
     "output_type": "execute_result"
    }
   ],
   "source": [
    "def r2_error(y_actual,y_predicted):\n",
    "    ss_res=0\n",
    "    ss_tot=0\n",
    "    m=np.mean(y_actual)\n",
    "    for i in range (len(y_actual)):\n",
    "        e_i=(y_actual[i]-y_predicted[i])**2\n",
    "        ss_res+=e_i\n",
    "        x_i=(y_actual[i]-m)**2\n",
    "        ss_tot+=x_i\n",
    "    r2_error=1-(ss_res/ss_tot)\n",
    "    return(r2_error)\n",
    "r2_error(y_actual,y_predicted)"
   ]
  }
 ],
 "metadata": {
  "colab": {
   "collapsed_sections": [],
   "name": "5_Performance_metrics_Instructions.ipynb",
   "provenance": []
  },
  "kernelspec": {
   "display_name": "Python 3",
   "language": "python",
   "name": "python3"
  },
  "language_info": {
   "codemirror_mode": {
    "name": "ipython",
    "version": 3
   },
   "file_extension": ".py",
   "mimetype": "text/x-python",
   "name": "python",
   "nbconvert_exporter": "python",
   "pygments_lexer": "ipython3",
   "version": "3.6.5"
  }
 },
 "nbformat": 4,
 "nbformat_minor": 1
}
