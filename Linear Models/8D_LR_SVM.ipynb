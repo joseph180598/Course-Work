{
 "cells": [
  {
   "cell_type": "markdown",
   "metadata": {
    "colab_type": "text",
    "id": "86Tvnj5UblTy"
   },
   "source": [
    "## Task-D: Collinear features and their effect on linear models"
   ]
  },
  {
   "cell_type": "code",
   "execution_count": 1,
   "metadata": {
    "colab": {},
    "colab_type": "code",
    "id": "qn_eOn2EblT3"
   },
   "outputs": [],
   "source": [
    "%matplotlib inline\n",
    "import warnings\n",
    "warnings.filterwarnings(\"ignore\")\n",
    "import pandas as pd\n",
    "import numpy as np\n",
    "from sklearn.datasets import load_iris\n",
    "from sklearn.linear_model import SGDClassifier\n",
    "from sklearn.model_selection import GridSearchCV\n",
    "import seaborn as sns\n",
    "import matplotlib.pyplot as plt\n",
    "import random\n",
    "from prettytable import PrettyTable"
   ]
  },
  {
   "cell_type": "code",
   "execution_count": 2,
   "metadata": {
    "colab": {},
    "colab_type": "code",
    "id": "VMoYWIayblUB"
   },
   "outputs": [],
   "source": [
    "data = pd.read_csv('task_d.csv')"
   ]
  },
  {
   "cell_type": "code",
   "execution_count": 3,
   "metadata": {
    "colab": {},
    "colab_type": "code",
    "id": "RfStXG4tblUI",
    "outputId": "ddf4eec6-7f53-4d28-914f-23133957d6d5"
   },
   "outputs": [],
   "source": [
    "#data['target'] is y value"
   ]
  },
  {
   "cell_type": "code",
   "execution_count": 4,
   "metadata": {
    "colab": {},
    "colab_type": "code",
    "id": "JIIuomCkblUP"
   },
   "outputs": [],
   "source": [
    "X = data.drop(['target'], axis=1).values\n",
    "Y = data['target'].values"
   ]
  },
  {
   "cell_type": "markdown",
   "metadata": {
    "colab_type": "text",
    "id": "Ydm98u3EblUU"
   },
   "source": [
    "### Doing perturbation test to check the presence of collinearity  \n",
    "\n",
    "#### Task: 1 Logistic Regression\n",
    "<pre>\n",
    "\n",
    "\n",
    "1. <b>Finding the Correlation between the features</b>\n",
    "    a. check the correlation between the features\n",
    "    b. plot heat map of correlation matrix using seaborn heatmap\n",
    "2. <b>Finding the best model for the given data</b>\n",
    "    a. Train Logistic regression on data(X,Y) that we have created in the above cell\n",
    "    b. Find the best hyper prameter alpha with hyper parameter tuning using k-fold cross validation (grid search CV or         \n",
    "    random search CV make sure you choose the alpha in log space)\n",
    "    c. Creat a new Logistic regression with the best alpha\n",
    "    (search for how to get the best hyper parameter value), name the best model as 'best_model'\n",
    "    \n",
    "3. <b>Getting the weights with the original data</b>\n",
    "    a. train the 'best_model' with X, Y\n",
    "    b. Check the accuracy of the model 'best_model_accuracy'\n",
    "    c. Get the weights W using best_model.coef_\n",
    "\n",
    "4. <b>Modifying original data</b>\n",
    "    a. Add a noise(order of 10^-2) to each element of X \n",
    "    and get the new data set X' (X' = X + e)\n",
    "    b. Train the same 'best_model' with data (X', Y)\n",
    "    c. Check the accuracy of the model 'best_model_accuracy_edited'\n",
    "    d. Get the weights W' using best_model.coef_\n",
    "    \n",
    "5. <b> Checking deviations in metric and weights </b>\n",
    "    a. find the difference between 'best_model_accuracy_edited' and 'best_model_accuracy'\n",
    "    b. find the absolute change between each value of W and W' ==> |(W-W')|\n",
    "    c. print the top 4 features which have higher % change in weights \n",
    "    compare to the other feature\n",
    "\n",
    "</pre>\n"
   ]
  },
  {
   "cell_type": "code",
   "execution_count": 5,
   "metadata": {},
   "outputs": [
    {
     "data": {
      "text/plain": [
       "<matplotlib.axes._subplots.AxesSubplot at 0x260fa4deba8>"
      ]
     },
     "execution_count": 5,
     "metadata": {},
     "output_type": "execute_result"
    },
    {
     "data": {
      "image/png": "[encoded data removed]",
      "text/plain": [
       "<Figure size 432x288 with 2 Axes>"
      ]
     },
     "metadata": {},
     "output_type": "display_data"
    }
   ],
   "source": [
    "x_pd=data.drop(['target'], axis=1)\n",
    "x_pd.corr(method='pearson')\n",
    "sns.heatmap(x_pd.corr(),annot=True)"
   ]
  },
  {
   "cell_type": "code",
   "execution_count": 6,
   "metadata": {},
   "outputs": [],
   "source": [
    "#Performing Hyperparameter tuning"
   ]
  },
  {
   "cell_type": "code",
   "execution_count": 7,
   "metadata": {},
   "outputs": [
    {
     "data": {
      "text/plain": [
       "GridSearchCV(estimator=SGDClassifier(eta0=0.1, learning_rate='constant',\n",
       "                                     loss='log', random_state=0),\n",
       "             param_grid={'alpha': [0.1, 0.001, 0.0001, 1, 2, 5, 10, 50, 100,\n",
       "                                   1000]})"
      ]
     },
     "execution_count": 7,
     "metadata": {},
     "output_type": "execute_result"
    }
   ],
   "source": [
    "model=SGDClassifier(loss='log',penalty='l2',random_state=0,eta0=0.1,learning_rate='constant')\n",
    "a=[0.1,0.001,0.0001,1,2,5,10,50,100,1000]\n",
    "params={'alpha':a}\n",
    "train=GridSearchCV(model,params)\n",
    "train.fit(X,Y)"
   ]
  },
  {
   "cell_type": "code",
   "execution_count": 8,
   "metadata": {},
   "outputs": [
    {
     "data": {
      "text/plain": [
       "{'alpha': 0.1}"
      ]
     },
     "execution_count": 8,
     "metadata": {},
     "output_type": "execute_result"
    }
   ],
   "source": [
    "train.best_params_"
   ]
  },
  {
   "cell_type": "code",
   "execution_count": 9,
   "metadata": {},
   "outputs": [
    {
     "data": {
      "text/plain": [
       "SGDClassifier(alpha=0.1, eta0=0.1, learning_rate='constant', loss='log',\n",
       "              random_state=0)"
      ]
     },
     "execution_count": 9,
     "metadata": {},
     "output_type": "execute_result"
    }
   ],
   "source": [
    "best_model=SGDClassifier(loss='log',penalty='l2',random_state=0,eta0=0.1,learning_rate='constant',alpha=0.1)\n",
    "best_model.fit(X,Y)"
   ]
  },
  {
   "cell_type": "code",
   "execution_count": null,
   "metadata": {},
   "outputs": [],
   "source": []
  },
  {
   "cell_type": "code",
   "execution_count": 10,
   "metadata": {},
   "outputs": [],
   "source": [
    "w=best_model.coef_\n",
    "b=best_model.intercept_\n"
   ]
  },
  {
   "cell_type": "code",
   "execution_count": 11,
   "metadata": {},
   "outputs": [
    {
     "name": "stdout",
     "output_type": "stream",
     "text": [
      "The accuracy of Best Model is  100.0\n"
     ]
    }
   ],
   "source": [
    "#Checking the accuracy of best model\n",
    "correct=0\n",
    "y_pred=best_model.predict(X)\n",
    "for x in range(len(y_pred)):   \n",
    "    if y_pred[x]==Y[x]:\n",
    "        correct+=1\n",
    "    else:\n",
    "        correct+=0\n",
    "    accuracy=(correct/len(y_pred)*100)\n",
    "print('The accuracy of Best Model is ',accuracy)"
   ]
  },
  {
   "cell_type": "code",
   "execution_count": 12,
   "metadata": {},
   "outputs": [
    {
     "name": "stdout",
     "output_type": "stream",
     "text": [
      "The Weights in Descending Orders are ['y' '2*y' 'w' 'x*x' 'x' '2*z+3*x*x' 'z']\n"
     ]
    }
   ],
   "source": [
    "weights_1=data.columns[np.argsort(w)[0]].values\n",
    "print('The Weights in Descending Orders are',weights_1)"
   ]
  },
  {
   "cell_type": "markdown",
   "metadata": {},
   "source": [
    "### New X with error"
   ]
  },
  {
   "cell_type": "code",
   "execution_count": 13,
   "metadata": {},
   "outputs": [],
   "source": [
    "x_i=[]\n",
    "for i in X:\n",
    "    e=random.uniform(0,0.1)\n",
    "    x_new=i+e\n",
    "    x_i.append(x_new)"
   ]
  },
  {
   "cell_type": "code",
   "execution_count": 14,
   "metadata": {},
   "outputs": [
    {
     "data": {
      "text/plain": [
       "SGDClassifier(alpha=0.15, eta0=0.1, learning_rate='constant', loss='log',\n",
       "              random_state=0)"
      ]
     },
     "execution_count": 14,
     "metadata": {},
     "output_type": "execute_result"
    }
   ],
   "source": [
    "best_model_edited=SGDClassifier(loss='log',penalty='l2',random_state=0,eta0=0.1,learning_rate='constant',alpha=0.15)\n",
    "best_model_edited.fit(x_i,Y)"
   ]
  },
  {
   "cell_type": "code",
   "execution_count": 15,
   "metadata": {},
   "outputs": [],
   "source": [
    "w_i=best_model_edited.coef_\n",
    "b_i=best_model_edited.intercept_"
   ]
  },
  {
   "cell_type": "code",
   "execution_count": 16,
   "metadata": {},
   "outputs": [
    {
     "name": "stdout",
     "output_type": "stream",
     "text": [
      "The accuracy of Best Model Edited is  100.0\n"
     ]
    }
   ],
   "source": [
    "#Checking Accuracy\n",
    "i=0\n",
    "y_pred_n=best_model_edited.predict(x_i)\n",
    "for x in range(len(y_pred_n)):   \n",
    "    if y_pred_n[x]==Y[x]:\n",
    "        i+=1\n",
    "    else:\n",
    "        i+=0\n",
    "    accuracy_i=(i/len(y_pred_n)*100)\n",
    "print('The accuracy of Best Model Edited is ',accuracy_i)\n",
    "\n"
   ]
  },
  {
   "cell_type": "code",
   "execution_count": 17,
   "metadata": {},
   "outputs": [],
   "source": [
    "#Checking Deviation in Metrics"
   ]
  },
  {
   "cell_type": "code",
   "execution_count": 18,
   "metadata": {},
   "outputs": [
    {
     "name": "stdout",
     "output_type": "stream",
     "text": [
      "0.0\n"
     ]
    }
   ],
   "source": [
    "accuracy_diff=accuracy_i- accuracy\n",
    "print(accuracy_diff)"
   ]
  },
  {
   "cell_type": "code",
   "execution_count": 19,
   "metadata": {},
   "outputs": [
    {
     "name": "stdout",
     "output_type": "stream",
     "text": [
      "The features with maximum change in weights are  ['z' 'x' '2*z+3*x*x' 'w']\n"
     ]
    }
   ],
   "source": [
    "w_diff=(abs(w-w_i)/abs(w))*100\n",
    "#print(w_diff)\n",
    "values=np.argsort(w_diff)[0][:2:-1]\n",
    "weights_2=data.columns[values].values\n",
    "print('The features with maximum change in weights are ', weights_2)"
   ]
  },
  {
   "cell_type": "code",
   "execution_count": 20,
   "metadata": {},
   "outputs": [],
   "source": [
    "abs_diff=abs(w-w_i)"
   ]
  },
  {
   "cell_type": "code",
   "execution_count": 21,
   "metadata": {},
   "outputs": [],
   "source": [
    "p_diff_loss=(abs_diff/w)*100"
   ]
  },
  {
   "cell_type": "markdown",
   "metadata": {
    "colab": {},
    "colab_type": "code",
    "id": "Lai8wXU1pmSb"
   },
   "source": [
    "#### Task: 2 Linear SVM\n",
    "\n",
    "<pre>\n",
    "1. Do the same steps (2, 3, 4, 5) we have done in the above task 1.\n",
    "</pre>\n",
    "\n",
    "<strong><font color='red'>Do write the observations based on the results you get from the deviations of weights in both Logistic Regression and linear SVM</font></strong>"
   ]
  },
  {
   "cell_type": "code",
   "execution_count": 22,
   "metadata": {},
   "outputs": [
    {
     "data": {
      "text/plain": [
       "GridSearchCV(estimator=SGDClassifier(eta0=0.1, learning_rate='constant',\n",
       "                                     random_state=0),\n",
       "             param_grid={'alpha': [0.1, 0.001, 0.0001, 1, 2, 5, 10, 50, 100,\n",
       "                                   1000]})"
      ]
     },
     "execution_count": 22,
     "metadata": {},
     "output_type": "execute_result"
    }
   ],
   "source": [
    "model_sgd=SGDClassifier(loss='hinge',penalty='l2',random_state=0,eta0=0.1,learning_rate='constant')\n",
    "params={'alpha':a}\n",
    "train=GridSearchCV(model_sgd,params)\n",
    "train.fit(X,Y)"
   ]
  },
  {
   "cell_type": "code",
   "execution_count": 23,
   "metadata": {},
   "outputs": [
    {
     "data": {
      "text/plain": [
       "{'alpha': 0.1}"
      ]
     },
     "execution_count": 23,
     "metadata": {},
     "output_type": "execute_result"
    }
   ],
   "source": [
    "train.best_params_"
   ]
  },
  {
   "cell_type": "code",
   "execution_count": 24,
   "metadata": {},
   "outputs": [],
   "source": [
    "best_model_sgd=SGDClassifier(loss='hinge',penalty='l2',random_state=0,eta0=0.1,learning_rate='constant',alpha=0.1)\n",
    "best_model_sgd.fit(X,Y)\n",
    "w_sgd=best_model_sgd.coef_\n",
    "b_sgd=best_model_sgd.intercept_"
   ]
  },
  {
   "cell_type": "code",
   "execution_count": 25,
   "metadata": {},
   "outputs": [
    {
     "name": "stdout",
     "output_type": "stream",
     "text": [
      "The accuracy of Best Model is  99.0\n"
     ]
    }
   ],
   "source": [
    "y_pred_sgd=best_model_sgd.predict(X)\n",
    "correct=0\n",
    "for i in range(len(y_pred_sgd)):   \n",
    "    if y_pred_sgd[i]==Y[i]:\n",
    "        correct+=1\n",
    "    else:\n",
    "        correct+=0\n",
    "    accuracy_sgd=(correct/len(y_pred_sgd)*100)\n",
    "print('The accuracy of Best Model is ',accuracy_sgd)"
   ]
  },
  {
   "cell_type": "code",
   "execution_count": 26,
   "metadata": {},
   "outputs": [
    {
     "name": "stdout",
     "output_type": "stream",
     "text": [
      "The Weights in Descending Orders are ['y' '2*y' 'x*x' 'w' 'x' '2*z+3*x*x' 'z']\n"
     ]
    }
   ],
   "source": [
    "weights_3=data.columns[np.argsort(w_sgd)[0]].values\n",
    "print('The Weights in Descending Orders are',weights_3)"
   ]
  },
  {
   "cell_type": "code",
   "execution_count": 27,
   "metadata": {},
   "outputs": [],
   "source": [
    "best_model_sgd_i=SGDClassifier(loss='hinge',penalty='l2',random_state=0,eta0=0.1,learning_rate='constant',alpha=0.1)\n",
    "best_model_sgd_i.fit(x_i,Y)\n",
    "w_sgd_i=best_model_sgd_i.coef_\n",
    "b_sgd_i=best_model_sgd_i.intercept_"
   ]
  },
  {
   "cell_type": "code",
   "execution_count": 28,
   "metadata": {},
   "outputs": [
    {
     "name": "stdout",
     "output_type": "stream",
     "text": [
      "The accuracy of Best Model is  100.0\n"
     ]
    }
   ],
   "source": [
    "y_pred_sgd_i=best_model_sgd_i.predict(X)\n",
    "correct=0\n",
    "for i in range(len(y_pred_sgd_i)):   \n",
    "    if y_pred_sgd_i[i]==Y[i]:\n",
    "        correct+=1\n",
    "    else:\n",
    "        correct+=0\n",
    "    accuracy_sgd_i=(correct/len(y_pred_sgd_i)*100)\n",
    "print('The accuracy of Best Model is ',accuracy_sgd_i)"
   ]
  },
  {
   "cell_type": "code",
   "execution_count": 29,
   "metadata": {},
   "outputs": [
    {
     "name": "stdout",
     "output_type": "stream",
     "text": [
      "Change in Accuracy -1.0\n"
     ]
    }
   ],
   "source": [
    "print('Change in Accuracy',(accuracy_sgd-accuracy_sgd_i))"
   ]
  },
  {
   "cell_type": "code",
   "execution_count": 30,
   "metadata": {},
   "outputs": [
    {
     "name": "stdout",
     "output_type": "stream",
     "text": [
      "The Weights in Descending Orders are ['y' '2*y' 'w' 'x*x' 'x' '2*z+3*x*x' 'z']\n"
     ]
    }
   ],
   "source": [
    "weights_4=data.columns[np.argsort(w_sgd_i)[0]].values\n",
    "print('The Weights in Descending Orders are',weights_4)"
   ]
  },
  {
   "cell_type": "code",
   "execution_count": 31,
   "metadata": {},
   "outputs": [],
   "source": [
    "abs_diff_sgd=abs(w_sgd-w_sgd_i)"
   ]
  },
  {
   "cell_type": "code",
   "execution_count": 32,
   "metadata": {},
   "outputs": [],
   "source": [
    "p_diff_sgd=abs_diff/w_sgd*100"
   ]
  },
  {
   "cell_type": "code",
   "execution_count": 33,
   "metadata": {},
   "outputs": [
    {
     "name": "stdout",
     "output_type": "stream",
     "text": [
      "Weights in each Model\n",
      "+---------+----------+---------+---------+----------+-----------+---------+-------+\n",
      "|    y    |   2*y    |    w    |   x*x   |    x     | 2*z+3*x*x |    z    |  Loss |\n",
      "+---------+----------+---------+---------+----------+-----------+---------+-------+\n",
      "| 0.39708 | -0.54694 | 0.77597 | 0.37803 | -0.54694 |  0.43391  |  0.3249 |  Log  |\n",
      "| 0.34214 | -0.49821 | 0.65189 |  0.3281 | -0.49821 |   0.374   |  0.2816 |  Log  |\n",
      "| 0.18693 | -0.36646 | 0.63682 |  0.165  | -0.36646 |  0.22539  | 0.17592 | Hinge |\n",
      "| 0.17861 | -0.40686 | 0.69872 | 0.16673 | -0.40686 |  0.23451  | 0.05508 | Hinge |\n",
      "+---------+----------+---------+---------+----------+-----------+---------+-------+\n"
     ]
    }
   ],
   "source": [
    "table=PrettyTable()\n",
    "table.field_names=['y', '2*y' ,'w' ,'x*x' ,'x' ,'2*z+3*x*x', 'z']\n",
    "table.add_row(np.round(w[0],5))\n",
    "table.add_row(np.round(w_i[0],5))\n",
    "table.add_row(np.round(w_sgd[0],5))\n",
    "table.add_row(np.round(w_sgd_i[0],5))\n",
    "table.add_column('Loss',['Log','Log','Hinge','Hinge'])\n",
    "print('Weights in each Model')\n",
    "print(table)"
   ]
  },
  {
   "cell_type": "code",
   "execution_count": 34,
   "metadata": {},
   "outputs": [
    {
     "name": "stdout",
     "output_type": "stream",
     "text": [
      "Percentage Difference\n",
      "+----------+-----------+----------+----------+-----------+-----------+----------+-------+\n",
      "|    y     |    2*y    |    w     |   x*x    |     x     | 2*z+3*x*x |    z     |  Loss |\n",
      "+----------+-----------+----------+----------+-----------+-----------+----------+-------+\n",
      "| 13.83497 |  -8.90929 | 15.99097 | 13.20853 |  -8.90929 |  13.80888 | 13.32767 |  Log  |\n",
      "| 29.38821 | -13.29715 | 19.48516 | 30.26179 | -13.29715 |  26.58486 | 24.61457 | Hinge |\n",
      "+----------+-----------+----------+----------+-----------+-----------+----------+-------+\n"
     ]
    }
   ],
   "source": [
    "print('Percentage Difference')\n",
    "percent=PrettyTable()\n",
    "percent.field_names=['y', '2*y' ,'w' ,'x*x' ,'x' ,'2*z+3*x*x', 'z']\n",
    "percent.add_row(np.round(p_diff_loss[0],5))\n",
    "percent.add_row(np.round(p_diff_sgd[0],5))\n",
    "percent.add_column('Loss', ['Log','Hinge'])\n",
    "print(percent)"
   ]
  },
  {
   "cell_type": "markdown",
   "metadata": {},
   "source": [
    "### Conclusion:\n",
    "- Though the accuracy of the model has not much been effected in this dataset, however it is clearly evident that correlation changes the \"weights\" which will indeed affect the final performance of the model like accuracy, Confusion Matrix or Squared Loss etc in Regresion.\n",
    "- It is also clear that SVM is highly affected as compared to a Logistic Regression, because the % change of the value of weights is high for SVM."
   ]
  }
 ],
 "metadata": {
  "colab": {
   "name": "8D_LR_SVM.ipynb",
   "provenance": []
  },
  "kernelspec": {
   "display_name": "Python 3",
   "language": "python",
   "name": "python3"
  },
  "language_info": {
   "codemirror_mode": {
    "name": "ipython",
    "version": 3
   },
   "file_extension": ".py",
   "mimetype": "text/x-python",
   "name": "python",
   "nbconvert_exporter": "python",
   "pygments_lexer": "ipython3",
   "version": "3.6.5"
  }
 },
 "nbformat": 4,
 "nbformat_minor": 1
}
