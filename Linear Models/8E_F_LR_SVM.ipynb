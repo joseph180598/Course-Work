{
 "cells": [
  {
   "cell_type": "markdown",
   "metadata": {
    "id": "5HExLQrE4ZxR"
   },
   "source": [
    "<h1><font color='blue'> 8E and 8F: Finding the Probability P(Y==1|X)</font></h1>"
   ]
  },
  {
   "cell_type": "markdown",
   "metadata": {
    "id": "4LuKrFzC4ZxV"
   },
   "source": [
    "<h2><font color='Geen'> 8E: Implementing Decision Function of SVM RBF Kernel</font></h2>"
   ]
  },
  {
   "cell_type": "markdown",
   "metadata": {
    "id": "1wES-wWN4ZxX"
   },
   "source": [
    "<font face=' Comic Sans MS' size=3>After we train a kernel SVM model, we will be getting support vectors and their corresponsing coefficients $\\alpha_{i}$\n",
    "\n",
    "Check the documentation for better understanding of these attributes: \n",
    "\n",
    "https://scikit-learn.org/stable/modules/generated/sklearn.svm.SVC.html\n",
    "<img src='https://i.imgur.com/K11msU4.png' width=500>\n",
    "\n",
    "As a part of this assignment you will be implementing the ```decision_function()``` of kernel SVM, here decision_function() means based on the value return by ```decision_function()``` model will classify the data point either as positive or negative\n",
    "\n",
    "Ex 1: In logistic regression After traning the models with the optimal weights $w$ we get, we will find the value $\\frac{1}{1+\\exp(-(wx+b))}$, if this value comes out to be < 0.5 we will mark it as negative class, else its positive class\n",
    "\n",
    "Ex 2: In Linear SVM After traning the models with the optimal weights $w$ we get, we will find the value of $sign(wx+b)$, if this value comes out to be -ve we will mark it as negative class, else its positive class.\n",
    "\n",
    "Similarly in Kernel SVM After traning the models with the coefficients $\\alpha_{i}$ we get, we will find the value of \n",
    "$sign(\\sum_{i=1}^{n}(y_{i}\\alpha_{i}K(x_{i},x_{q})) + intercept)$, here $K(x_{i},x_{q})$ is the RBF kernel. If this value comes out to be -ve we will mark $x_{q}$ as negative class, else its positive class.\n",
    "\n",
    "RBF kernel is defined as: $K(x_{i},x_{q})$ = $exp(-\\gamma ||x_{i} - x_{q}||^2)$\n",
    "\n",
    "For better understanding check this link: https://scikit-learn.org/stable/modules/svm.html#svm-mathematical-formulation\n",
    "</font>"
   ]
  },
  {
   "cell_type": "markdown",
   "metadata": {
    "id": "z830CfMk4Zxa"
   },
   "source": [
    "## Task E"
   ]
  },
  {
   "cell_type": "markdown",
   "metadata": {
    "id": "MuBxHiCQ4Zxc"
   },
   "source": [
    "> 1. Split the data into $X_{train}$(60), $X_{cv}$(20), $X_{test}$(20)\n",
    "\n",
    "> 2. Train $SVC(gamma=0.001, C=100.)$ on the ($X_{train}$, $y_{train}$)\n",
    "\n",
    "> 3. Get the decision boundry values $f_{cv}$ on the $X_{cv}$ data  i.e. ` `$f_{cv}$ ```= decision_function(```$X_{cv}$```)```  <font color='red'>you need to implement this decision_function()</font>"
   ]
  },
  {
   "cell_type": "code",
   "execution_count": 1,
   "metadata": {
    "id": "fCgMNEvI4Zxf"
   },
   "outputs": [],
   "source": [
    "import numpy as np\n",
    "import pandas as pd\n",
    "from sklearn.datasets import make_classification\n",
    "import numpy as np\n",
    "from sklearn.svm import SVC\n",
    "from sklearn.model_selection import train_test_split\n",
    "from sklearn.linear_model import SGDClassifier\n",
    "from tqdm import tqdm\n",
    "import matplotlib.pyplot as plt"
   ]
  },
  {
   "cell_type": "code",
   "execution_count": 2,
   "metadata": {
    "id": "ANUNIqCe4Zxn"
   },
   "outputs": [],
   "source": [
    "x, y = make_classification(n_samples=5000, n_features=5, n_redundant=2,\n",
    "                           n_classes=2, weights=[0.7], class_sep=0.7, random_state=15)"
   ]
  },
  {
   "cell_type": "code",
   "execution_count": 3,
   "metadata": {},
   "outputs": [],
   "source": [
    "x_i, x_test, y_i, y_test=train_test_split(x,y,test_size=0.2)\n",
    "x_train,x_cv,y_train,y_cv=train_test_split(x_i,y_i,test_size=0.25)"
   ]
  },
  {
   "cell_type": "code",
   "execution_count": 4,
   "metadata": {},
   "outputs": [
    {
     "data": {
      "text/plain": [
       "(1000,)"
      ]
     },
     "execution_count": 4,
     "metadata": {},
     "output_type": "execute_result"
    }
   ],
   "source": [
    "model=SVC(C=100,kernel='rbf',random_state=0,gamma=0.001)\n",
    "model.fit(x_train,y_train)\n",
    "model.predict(x_cv).shape"
   ]
  },
  {
   "cell_type": "code",
   "execution_count": null,
   "metadata": {},
   "outputs": [],
   "source": [
    "#Decision_function gives you the W_t(x) +b value for the given data point."
   ]
  },
  {
   "cell_type": "code",
   "execution_count": 11,
   "metadata": {},
   "outputs": [
    {
     "data": {
      "text/plain": [
       "array([-1.34917583, -3.84126978, -2.74038181, -3.62386342, -1.88704312,\n",
       "       -0.7427951 ,  3.07054381,  1.15622775,  0.17742995, -0.77434442,\n",
       "       -3.12275509,  1.71040051,  2.51361339,  1.77817919, -1.4548911 ,\n",
       "        1.96559446, -1.97535282, -3.72801318, -4.13815546, -1.59903843,\n",
       "       -1.61021011, -0.30829462, -1.95067687,  0.49984294, -2.51228846,\n",
       "       -2.04252547, -2.13441493, -2.61165551, -2.09643559,  1.62025157,\n",
       "        0.51340245, -3.78548945, -4.56710591,  1.74419561, -3.67261428,\n",
       "       -2.01269068,  1.91421457, -4.61371117, -1.3083903 ,  2.08995921,\n",
       "       -3.35272339, -2.36218341, -2.80267489, -2.71179706, -0.66370648,\n",
       "        1.25976891, -2.96453349, -0.3459253 ,  0.26739685, -2.6055626 ,\n",
       "       -3.05075273,  0.55649703, -3.61856363,  1.49809346, -3.15331213,\n",
       "        1.79176179, -3.27412365, -0.99527009, -0.07193912, -2.57348839,\n",
       "       -2.46613404, -2.29376373,  0.94993916,  2.00887452,  1.60651907,\n",
       "       -2.21895274, -3.37967307, -3.28711137, -2.54161669, -4.86636757,\n",
       "       -2.99470177,  2.36140761,  1.75582719, -1.81837929,  1.241395  ,\n",
       "        0.59554676, -2.22765937, -2.03915522, -0.14049185,  0.95066479,\n",
       "       -0.88621855, -1.7861051 , -2.16278152, -2.45335582, -1.16935145,\n",
       "       -1.08972833,  1.8786287 ,  1.25737986, -1.78068806, -3.14630326,\n",
       "        1.06029757, -1.70400512,  1.70010922,  1.70025986,  0.52499319,\n",
       "       -2.45967298, -1.5674796 ,  1.55866054, -3.18707452,  1.93320373,\n",
       "        1.50980338, -2.88186195,  0.65815342, -3.78665526, -1.21929907,\n",
       "       -2.10337313, -1.79902   , -2.47434927, -1.33160689, -2.63741916,\n",
       "        1.40075335,  1.31611464, -3.81536039, -2.08687401, -2.98470102,\n",
       "       -3.42604669, -2.35819958,  1.60309084, -2.35309474, -1.32569285,\n",
       "       -0.99112654, -2.21942195,  1.83537626, -2.55104416, -3.02114351,\n",
       "        2.28699022, -1.30418337, -1.16266129, -2.53704291, -3.91208126,\n",
       "       -4.4448792 , -1.47209046,  0.89089552, -3.75989779, -2.88224354,\n",
       "       -3.2393842 , -2.08950744, -3.3289626 , -2.34460092, -2.18469917,\n",
       "       -3.67414035,  1.62603776, -0.48154628, -2.26656282, -3.07357862,\n",
       "       -4.19116011, -0.65326427, -2.74186372, -5.35313663, -3.31493984,\n",
       "       -4.01227827, -1.87826752, -1.03351252, -0.96390616,  1.73394383,\n",
       "       -2.74633909, -3.35487517,  0.05152196,  1.82833223, -3.84225937,\n",
       "       -3.14665263,  2.77821937, -1.60305594,  0.62831321, -1.55545265,\n",
       "        1.43852099, -2.68548396,  1.48614291, -1.56544397, -2.44561607,\n",
       "       -1.48435511,  1.52213693, -2.86388969, -1.61421876, -2.07638835,\n",
       "        0.76086372, -3.15740986, -3.25420679, -2.43300896, -3.48112857,\n",
       "       -2.74426435, -2.86130913, -1.13372633, -2.74127329, -2.61791361,\n",
       "       -2.75854995, -1.2603482 , -2.05931715, -1.92168462, -4.28695573,\n",
       "       -1.91572542,  1.58408507, -1.50554752,  1.64386625,  1.53502023,\n",
       "       -0.64191565,  1.24440368,  0.34084388, -1.28459326, -3.47945725,\n",
       "       -1.35934212, -2.38365259,  1.48095537, -1.39198008,  2.30779144,\n",
       "       -2.40127404, -0.20040026, -4.02845402, -2.70218846, -1.60253337,\n",
       "       -0.69927763, -1.95824438, -3.97259198, -2.67196741,  1.60467863,\n",
       "       -3.02155131, -2.73659441, -2.34120176,  1.14641477,  2.03658912,\n",
       "        0.09805261,  2.03882687, -2.85607773, -1.69296048, -0.63537095,\n",
       "        0.57276137,  1.12468732, -2.89857362, -3.41710936, -2.4221645 ,\n",
       "        2.30963845,  0.91904441, -2.73987634, -4.50686785, -0.91512471,\n",
       "       -2.77409354,  0.95177548, -3.76859099, -3.04617702,  1.53225931,\n",
       "       -1.50417666, -3.85706109, -0.18098618, -4.04859289,  1.36063957,\n",
       "       -3.52193838, -3.57204764, -3.35888254, -2.62447893, -1.64177517,\n",
       "       -3.41677462,  1.35053192, -2.4863857 , -0.67747742, -0.90233031,\n",
       "        0.72392054,  0.36760366,  1.99067178, -1.93490341, -3.31695398,\n",
       "       -0.7428008 , -1.40994924, -0.99377279, -2.20165501,  1.95059886,\n",
       "       -3.11831731, -3.38380322, -0.80327958, -3.28259694,  1.084161  ,\n",
       "       -1.82613006, -2.64408853, -0.41278388, -1.82554036, -2.00612789,\n",
       "       -2.52455368, -3.57704131,  0.59458972,  1.42186112, -2.00161447,\n",
       "        2.01964122,  0.15856766, -2.80827474, -2.10388902,  1.77696703,\n",
       "       -1.96462007, -2.95626648, -3.56319183, -2.53854768,  1.18189822,\n",
       "       -2.49530847, -2.96035629, -2.4592711 , -3.42318783, -3.92113276,\n",
       "       -2.35484232,  2.23820438, -3.46067697, -2.87222911, -1.95357267,\n",
       "       -0.5220848 , -1.99327322, -3.33785019,  1.29590662, -1.18379622,\n",
       "       -2.83447263, -1.98320398, -1.64061667,  1.67950391, -1.22027347,\n",
       "       -3.39872845, -1.45170155, -0.90738111, -1.13734782, -3.01131293,\n",
       "       -2.97164973, -0.79780554, -1.40240792, -2.59505152, -0.69217416,\n",
       "       -0.62058716, -0.99594069, -2.12580662, -0.8064685 , -3.28106997,\n",
       "       -2.1052772 , -2.71286909, -1.4647794 , -2.51808473, -2.11938824,\n",
       "       -2.0207965 ,  1.69326749, -1.73042105, -3.01128682,  1.56637377,\n",
       "       -2.04858483, -2.41506254, -1.9131665 ,  1.44307188,  1.82242129,\n",
       "       -2.27337627, -0.3995289 ,  1.62186389, -2.63167061, -0.41476607,\n",
       "       -2.45832334, -2.77267362, -0.39361761,  1.71659375,  1.98313287,\n",
       "        1.70782168, -2.14074966, -3.16444013, -1.51289374,  3.0352092 ,\n",
       "       -2.37466545, -2.58957192,  2.43942945,  2.03499773,  1.54035654,\n",
       "       -2.38404106, -2.36671368,  2.31781546, -0.37852878,  0.99813265,\n",
       "        0.92642004, -1.93515827, -1.39080115,  2.22876474,  1.74632479,\n",
       "       -2.51318113, -2.50278316,  0.02537831, -3.71467494,  1.50714244,\n",
       "       -2.66419637, -4.27856098, -2.58425974, -2.9315477 ,  2.56851249,\n",
       "       -1.39068464, -3.58795897, -3.26024967, -2.3428208 , -3.57602245,\n",
       "       -3.11027875,  1.32618761, -3.71792958, -3.05335374, -0.20284679,\n",
       "        0.52721714,  0.87583442, -2.46356924, -1.59557788, -1.76374384,\n",
       "        0.88540954, -0.77982389, -3.21869069, -1.67279398,  1.69426501,\n",
       "        0.68090797, -2.80424026, -1.52698959, -2.14804118,  1.97717306,\n",
       "       -5.70407721, -2.74872017,  0.46671185, -0.44194314, -2.99460577,\n",
       "       -3.09274614,  0.45853001, -0.77558234, -2.11401587, -3.32980856,\n",
       "       -1.64705001, -3.42599524, -3.83182192,  0.88897058,  0.13241961,\n",
       "       -1.46895347, -2.4724811 , -1.9721152 , -3.64518423, -2.53557381,\n",
       "        0.72434979, -3.6754242 , -2.58504012,  0.84777464, -2.11316785,\n",
       "        1.07055149, -3.37287574, -4.45540202, -3.39945428,  0.51877839,\n",
       "       -2.39261313, -3.56219868, -3.24152928,  0.76280936, -3.58672489,\n",
       "       -0.36322995, -4.0221807 ,  1.39499667, -0.74626134, -3.73757014,\n",
       "       -2.44372514, -1.81037143,  1.45278241, -2.46780666,  2.00529013,\n",
       "       -2.41299785, -4.86229513, -1.14176389, -3.12744116, -1.94857651,\n",
       "       -1.8151595 , -4.60033661,  1.73800903,  1.71836204, -2.73206652,\n",
       "       -2.11096957,  1.91609821,  0.26723423, -2.90403571, -3.63904375,\n",
       "       -1.78533223, -1.61877486,  0.29082974, -3.28000795, -2.71715084,\n",
       "       -2.62229937, -2.54776116, -2.22282949, -2.90552703,  0.49446476,\n",
       "       -4.26237508,  1.26305823, -3.75316771, -2.34413201, -3.01671324,\n",
       "       -3.10782457, -3.0852707 , -1.9692314 , -2.80200301, -3.10556867,\n",
       "       -3.17647503, -3.37033999, -3.69701067, -2.1784567 , -2.6184483 ,\n",
       "       -1.92940637,  2.81133288,  1.5522195 ,  1.37507622, -2.11534017,\n",
       "       -2.17328764, -1.74878166, -2.06016446,  1.1356454 , -1.93894363,\n",
       "       -2.7992238 , -1.70090241, -3.03365623, -1.21403168,  0.56489244,\n",
       "       -0.44806448,  1.9277604 ,  1.95458472, -2.73387486, -1.69408569,\n",
       "       -0.21602311, -3.74974698, -3.44384038, -2.77249029, -1.01055091,\n",
       "       -0.90466997, -2.1082644 , -2.3269941 , -0.99829267, -0.91591725,\n",
       "       -3.40439776, -1.97255336, -0.77793927, -3.17671725, -2.75702688,\n",
       "        1.6350886 , -1.8118616 ,  1.15538682,  0.33335514, -2.15459876,\n",
       "       -0.77859662, -3.13276641, -2.60433078, -1.85897578, -1.96732993,\n",
       "       -2.0546882 , -3.27734784, -3.52393788, -1.79761593, -3.25424885,\n",
       "        1.25541467, -3.71630937, -2.97227624, -2.51995232, -1.79961172,\n",
       "        2.3199294 , -3.39781345, -2.53781728, -3.1482985 , -2.46989493,\n",
       "        0.66031688, -1.19628556, -1.21267613,  1.03251856, -3.11247776,\n",
       "       -0.70696824, -1.42521841, -2.98929926, -3.04487979, -1.75054929,\n",
       "       -2.94143296, -3.04887937, -2.13481274, -3.64688617, -2.46152141,\n",
       "       -3.03367239,  0.28799612, -4.06878748, -1.88791967, -3.55676722,\n",
       "       -1.58656885, -3.03706229, -2.0103988 , -2.48758364,  0.37398547,\n",
       "       -1.81995768, -3.0459232 ,  1.44162563,  0.5440482 ,  0.19922221,\n",
       "       -1.09418084, -2.71950375, -2.71831441,  1.57772342,  1.9363155 ,\n",
       "       -2.28837292,  1.48011717,  1.95604278, -3.56264851,  1.24253717,\n",
       "       -3.09456579,  1.86101124, -4.68403606,  1.23018975, -2.86310998,\n",
       "       -3.52720737, -0.2974586 , -2.85039573,  0.24899902,  0.58897552,\n",
       "        1.77388309,  1.98517229,  1.46639457, -3.81787961, -3.66796912,\n",
       "       -1.73497608, -0.57455457, -2.62593451, -2.16752389,  0.81565148,\n",
       "        1.6137444 , -3.7646784 ,  2.32906788, -2.05599748, -2.83411362,\n",
       "       -3.68972271,  1.61103757, -2.11371679, -0.50830244, -3.01180284,\n",
       "        1.49521284, -2.46907977, -4.12405049,  1.13843402,  1.28411021,\n",
       "        1.48740348, -3.25337067,  1.75423526,  0.01307289, -0.76949521,\n",
       "       -1.51466265,  3.28460263,  1.32639618, -3.57569644,  1.07047437,\n",
       "        1.56054485, -3.10335111, -4.42022784, -2.04889916,  0.74247823,\n",
       "       -2.51954345,  0.76348561, -2.86300916, -2.87622463, -1.88014601,\n",
       "        2.82519441, -3.67291964, -3.20622494,  1.45931022, -3.43989039,\n",
       "       -3.59385144, -3.81438759, -3.00623607,  0.71888303, -2.97226707,\n",
       "       -1.29276102,  1.79559657, -2.80821563,  1.50838063,  2.00566324,\n",
       "       -3.82192109,  1.60174807,  1.9790648 , -2.23323364, -2.45916189,\n",
       "       -2.99208451, -0.75644296, -1.3102558 , -3.10822731,  1.1337696 ,\n",
       "       -2.23200075, -4.21150576,  0.58442297, -3.89688471,  1.91860528,\n",
       "       -3.62191668, -0.05717318, -1.88779756, -2.73120519, -2.31813781,\n",
       "       -2.71965081, -2.88809736,  1.80745722, -2.73744419, -0.95706523,\n",
       "        1.161097  , -2.88221332, -0.41849278, -2.39358324,  1.30053139,\n",
       "       -1.14115794, -3.59367855, -1.58592175, -1.32855013, -3.43682326,\n",
       "       -2.84425528, -2.39514607,  1.59255602, -2.93340705,  1.5145098 ,\n",
       "       -2.48001437, -4.08147242, -1.51508926, -2.03271167, -2.9994585 ,\n",
       "       -1.68287199, -2.77532256, -3.1367204 , -2.9150967 , -0.6327035 ,\n",
       "       -1.83064056, -3.29544375, -1.36412835,  0.79634161, -4.48505382,\n",
       "       -0.61970086,  1.79573277,  1.45012596, -1.0807264 , -2.38614243,\n",
       "       -3.91037362,  1.89898097, -3.48707567,  1.3977728 , -1.46597936,\n",
       "       -0.34809251, -1.24662609, -2.08734884,  1.57971775, -0.91678342,\n",
       "       -1.61541999, -3.16327251, -2.5017135 ,  2.51440695, -2.71919406,\n",
       "       -1.44175355, -1.35545661, -3.02189164, -2.69596378, -2.37965021,\n",
       "        0.51713408, -2.55220415, -1.57397674, -2.179783  , -1.52140131,\n",
       "        1.49535043, -2.5977727 , -1.97746076, -1.38834282, -3.17611625,\n",
       "       -2.21146186, -2.44428578, -2.12688976,  2.15147335, -0.57765197,\n",
       "        0.76770183, -3.55055567, -2.51726508, -2.85307162, -3.10164084,\n",
       "        1.42800533, -0.19307102,  2.3142425 , -3.64141752,  0.14080402,\n",
       "       -2.65676525, -3.75204869, -3.4495084 ,  0.33581013, -2.57517979,\n",
       "        1.54774249, -2.80599228, -1.42704418,  1.94648929, -3.06418786,\n",
       "       -3.30786173, -2.95339876,  1.43460223, -3.80750949,  0.86303456,\n",
       "       -0.52202063, -4.40962848, -3.1374773 ,  2.112397  , -1.51301485,\n",
       "       -4.48675589, -2.5345792 , -1.80033692,  1.8899965 , -2.85280961,\n",
       "       -2.73184301,  0.86496551, -1.86630609, -3.26383694, -3.21011628,\n",
       "        3.28497054, -1.60538228,  1.60777581,  1.16024709, -1.10548201,\n",
       "       -3.09539817, -3.69451577,  0.32920309,  2.12299959,  0.27117553,\n",
       "       -1.32222849, -0.71531436, -2.49114501,  1.49820357, -4.24307344,\n",
       "        1.39650718, -3.2927605 , -3.68317687,  0.37301521,  2.07123656,\n",
       "        1.36606235, -3.66379361, -2.84557596,  0.13820512, -2.77495554,\n",
       "       -2.79727134, -0.77994267, -1.84302649, -2.82764061, -3.04082754,\n",
       "       -2.8543566 , -1.75448044,  0.40388645, -2.01251204, -1.43236161,\n",
       "        0.73141689, -1.89247459, -3.02134147, -1.31488529, -2.8832704 ,\n",
       "       -2.75231452,  1.52709573,  0.56849796,  0.19466653,  0.05213816,\n",
       "       -0.44942005, -2.53053734, -2.90910486, -3.40111245, -1.57407657,\n",
       "       -1.90716216, -2.16108694, -3.15635903, -2.73108275, -2.75493755,\n",
       "       -2.97169581,  1.13034481,  1.49006709, -3.31082579, -1.63674946,\n",
       "        1.69203099, -1.71176224,  1.25327611,  2.17823192, -2.27099588,\n",
       "        2.37613382, -2.49391592, -1.80277422,  1.56523071, -3.5577219 ,\n",
       "       -3.38547733, -2.02619789, -2.86638498,  0.45354553,  1.37553893,\n",
       "       -4.19547939, -0.98738273,  1.59283309, -2.27288214,  2.85568632,\n",
       "       -1.77645826,  0.33739298,  1.10408794,  2.3079725 ,  1.69269629,\n",
       "       -3.12224088, -3.00642167, -2.78998031, -2.41154248,  1.71043439,\n",
       "       -3.08295002,  2.4287571 , -1.68006738, -4.08600362, -3.75615962,\n",
       "        1.00811529, -1.95448161,  1.04340106,  1.34302246,  1.2916813 ,\n",
       "        1.83072255,  2.41996264, -0.37453357, -2.14980948,  0.45227746,\n",
       "       -2.15382166, -2.17061337,  1.28123859, -2.38280614, -2.59142684,\n",
       "       -0.04627339,  2.0718639 , -2.37588004,  0.97937773,  1.73501514,\n",
       "       -2.89126208, -1.95690399,  1.08320585, -0.84415064, -2.76848594,\n",
       "       -0.28152359, -2.76294143,  2.58188061,  1.56194367, -3.03964602,\n",
       "       -4.01928464, -2.26307215, -3.61236044, -2.61784363, -3.52020437,\n",
       "       -1.81947982,  0.8642218 ,  0.47336892, -0.51311314, -2.35608745,\n",
       "       -1.02300818, -2.70618238, -1.33988376,  0.69582291, -3.41431271,\n",
       "       -0.19089217, -2.87210846, -2.63052445, -2.70987236, -2.62320873,\n",
       "       -3.38626769, -2.68103502, -1.49050558,  1.05013212, -2.53922159,\n",
       "       -3.16998108, -0.28042093, -2.61632302,  1.6644575 , -3.32161513,\n",
       "       -2.76298407, -3.91742975, -2.88874409, -2.7856618 , -0.4189964 ,\n",
       "       -2.5244302 , -2.84244136, -3.55516511, -1.18117255,  1.94256782,\n",
       "       -1.26943063, -0.27677671, -1.53154116, -0.72212647, -2.47599495,\n",
       "       -0.40763916, -3.26386897, -3.24200001, -3.24555915, -2.50354865,\n",
       "        0.50844386, -1.57154254, -2.87361932, -0.27807894,  1.54623421,\n",
       "       -4.77561026, -3.06743832, -2.58979968, -0.64745789,  0.44516735,\n",
       "       -2.96821759,  2.47458647, -4.09609119, -2.27546174, -2.51896857,\n",
       "       -0.71287522, -2.40269697,  2.48454925, -3.21081104, -2.59288792,\n",
       "       -1.46611861,  1.08663053, -3.02027002, -3.62420454,  0.84987995,\n",
       "       -4.23030894, -2.96841126,  1.33526334, -2.79045571, -3.44619312])"
      ]
     },
     "execution_count": 11,
     "metadata": {},
     "output_type": "execute_result"
    }
   ],
   "source": [
    "model.decision_function(x_cv)"
   ]
  },
  {
   "cell_type": "markdown",
   "metadata": {
    "id": "tHie1zqH4Zxt"
   },
   "source": [
    "### Pseudo code\n",
    "\n",
    "clf = SVC(gamma=0.001, C=100.)<br>\n",
    "clf.fit(Xtrain, ytrain)\n",
    "\n",
    "<font color='green'>def</font> <font color='blue'>decision_function</font>(Xcv, ...): #use appropriate parameters <br>\n",
    "&nbsp;&nbsp;&nbsp;&nbsp;&nbsp;&nbsp;<font color='green'>for</font> a data point $x_q$ <font color='green'>in</font> Xcv: <br>\n",
    "&nbsp;&nbsp;&nbsp;&nbsp;&nbsp;&nbsp;&nbsp;&nbsp;&nbsp;&nbsp;&nbsp;&nbsp;<font color='grey'>#write code to implement $(\\sum_{i=1}^{\\text{all the support vectors}}(y_{i}\\alpha_{i}K(x_{i},x_{q})) + intercept)$, here the values $y_i$, $\\alpha_{i}$, and $intercept$ can be obtained from the trained model</font><br>\n",
    "   <font color='green'>return</font> <font color='grey'><i># the decision_function output for all the data points in the Xcv</i></font>\n",
    "    \n",
    "fcv = decision_function(Xcv, ...)  <i># based on your requirement you can pass any other parameters </i>\n",
    "\n",
    "<b>Note</b>: Make sure the values you get as fcv, should be equal to outputs of clf.decision_function(Xcv)\n"
   ]
  },
  {
   "cell_type": "code",
   "execution_count": null,
   "metadata": {},
   "outputs": [],
   "source": []
  },
  {
   "cell_type": "code",
   "execution_count": 7,
   "metadata": {},
   "outputs": [],
   "source": [
    "x_cv\n",
    "y_cv\n",
    "alpha=model.dual_coef_[0]#Alpha= gives the value as y_i* alpha_i, where alpha_i is 0 for non Support Sectors\n",
    "support=model.support_vectors_#Support Vectors\n",
    "b=model.intercept_#b\n",
    "#𝑒𝑥𝑝(−𝛾||𝑥𝑖−𝑥𝑞||2)\n",
    "gama=model.gamma#Gamma which is actually inside RBF Kernel\n",
    "ys=y_train[model.support_]"
   ]
  },
  {
   "cell_type": "code",
   "execution_count": 17,
   "metadata": {},
   "outputs": [
    {
     "data": {
      "text/plain": [
       "True"
      ]
     },
     "execution_count": 17,
     "metadata": {},
     "output_type": "execute_result"
    }
   ],
   "source": [
    "len(alpha)==len(support)\n",
    "#this shows that the support vectors alone have alpha!=0"
   ]
  },
  {
   "cell_type": "code",
   "execution_count": 18,
   "metadata": {},
   "outputs": [],
   "source": [
    "def rbf_kernel(gama, x, x_q):\n",
    "    value=np.exp(-gama*(np.sum((x-x_q)**2,axis=1)))\n",
    "    return value"
   ]
  },
  {
   "cell_type": "code",
   "execution_count": 21,
   "metadata": {},
   "outputs": [
    {
     "data": {
      "text/plain": [
       "554"
      ]
     },
     "execution_count": 21,
     "metadata": {},
     "output_type": "execute_result"
    }
   ],
   "source": [
    "len(support)"
   ]
  },
  {
   "cell_type": "code",
   "execution_count": 8,
   "metadata": {
    "id": "h43kDT3M41u5"
   },
   "outputs": [],
   "source": [
    "# you can write your code here\n",
    "def decision_function(alpha,x_q,support_vectors,gama,b):\n",
    "    decision_surface=[]\n",
    "    def rbf_kernel(gama, x, x_q):\n",
    "        value=np.exp(-gama*(np.sum((x-x_q)**2,axis=1)))\n",
    "        return value\n",
    "    for i in range(len(x_q)):\n",
    "        value=np.sum((alpha*rbf_kernel(gama,support_vectors,x_q[i])))+b\n",
    "        decision_surface.append(value[0]) \n",
    "    \n",
    "    return(np.array(decision_surface))\n"
   ]
  },
  {
   "cell_type": "code",
   "execution_count": 9,
   "metadata": {},
   "outputs": [
    {
     "data": {
      "text/plain": [
       "True"
      ]
     },
     "execution_count": 9,
     "metadata": {},
     "output_type": "execute_result"
    }
   ],
   "source": [
    "#Checking if the value provided matches the value provided by the library\n",
    "np.all(np.round(decision_function(alpha,x_cv,support,gama,b),3)==np.round(model.decision_function(x_cv),3))"
   ]
  },
  {
   "cell_type": "code",
   "execution_count": 10,
   "metadata": {},
   "outputs": [],
   "source": [
    "y_pred_cv=decision_function(alpha, x_cv,support,gama,b)\n",
    "y_pred=decision_function(alpha, x,support,gama,b)"
   ]
  },
  {
   "cell_type": "markdown",
   "metadata": {
    "id": "c0bKCboN4Zxu"
   },
   "source": [
    "<h2><font color='Geen'> 8F: Implementing Platt Scaling to find P(Y==1|X)</font></h2>"
   ]
  },
  {
   "cell_type": "markdown",
   "metadata": {
    "id": "nMn7OEN94Zxw"
   },
   "source": [
    "Check this <a href='https://drive.google.com/open?id=133odBinMOIVb_rh_GQxxsyMRyW-Zts7a'>PDF</a>\n",
    "<img src='https://i.imgur.com/CAMnVnh.png'>\n"
   ]
  },
  {
   "cell_type": "markdown",
   "metadata": {
    "id": "e0n5EFkx4Zxz"
   },
   "source": [
    "## TASK F"
   ]
  },
  {
   "cell_type": "markdown",
   "metadata": {
    "id": "t0HOqVJq4Zx1"
   },
   "source": [
    "\n",
    "> 4. Apply SGD algorithm with ($f_{cv}$, $y_{cv}$) and find the weight $W$ intercept $b$ ```Note: here our data is of one dimensional so we will have a one dimensional weight vector i.e W.shape (1,)``` \n",
    "\n",
    "> Note1: Don't forget to change the values of $y_{cv}$ as mentioned in the above image. you will calculate y+, y- based on data points in train data\n",
    "\n",
    "> Note2: the Sklearn's SGD algorithm doesn't support the real valued outputs, you need to use the code that was done in the `'Logistic Regression with SGD and L2'` Assignment after modifying loss function, and use same parameters that used in that assignment.\n",
    "<img src='https://i.imgur.com/zKYE9Oc.png'>\n",
    "if Y[i] is 1, it will be replaced with y+ value else it will replaced with y- value\n",
    "\n",
    "> 5. For a given data point from $X_{test}$, $P(Y=1|X) = \\frac{1}{1+exp(-(W*f_{test}+ b))}$ where ` `$f_{test}$ ```= decision_function(```$X_{test}$```)```, W and b will be learned as metioned in the above step"
   ]
  },
  {
   "cell_type": "code",
   "execution_count": 11,
   "metadata": {},
   "outputs": [],
   "source": [
    "y_train,y_test,y_pred_train,y_pred_test=train_test_split(y,y_pred,test_size=0.2)"
   ]
  },
  {
   "cell_type": "code",
   "execution_count": 12,
   "metadata": {},
   "outputs": [],
   "source": [
    "#Converting all the y_i values as per algorithm(y+ & y-)\n",
    "\n",
    "y_pos=(y_train[y_train==1].shape[0]+1)/(y_train[y_train==1].shape[0]+2)     #y+\n",
    "y_neg=1/(y_train[y_train==0].shape[0]+2)     #y-\n",
    "\n",
    "y_train=y_train.copy().astype('float64')  #Making a copy so that the original does not get affected\n",
    "y_test=y_test.copy().astype('float64')\n",
    "#print(y_new_cv)\n",
    "#Replacing values\n",
    "y_train[y_train==0]=y_neg\n",
    "y_train[y_train==1]=y_pos\n",
    "\n",
    "y_test[y_test==0]=y_neg\n",
    "y_test[y_test==1]=y_pos\n",
    "\n",
    "x_train=y_pred_train\n",
    "x_test=y_pred_test"
   ]
  },
  {
   "cell_type": "code",
   "execution_count": 13,
   "metadata": {},
   "outputs": [],
   "source": [
    "def logloss(y_actual,y_pred):#Both the values are array of details\n",
    "    output=-np.mean((y_actual*np.log(y_pred))+((1-y_actual)*np.log(1-y_pred)))\n",
    "    return output"
   ]
  },
  {
   "cell_type": "code",
   "execution_count": 14,
   "metadata": {},
   "outputs": [],
   "source": [
    "#Initializing the weights\n",
    "w_prob=np.array(0)\n",
    "b_prob=np.array(0)"
   ]
  },
  {
   "cell_type": "code",
   "execution_count": 15,
   "metadata": {},
   "outputs": [],
   "source": [
    "def sigmoid(z):\n",
    "    ''' In this function, we will return sigmoid of z'''\n",
    "    sigmoid_z=1/(1+np.exp(-z))\n",
    "    # compute sigmoid(z) and return\n",
    "    return sigmoid_z"
   ]
  },
  {
   "cell_type": "code",
   "execution_count": 16,
   "metadata": {},
   "outputs": [],
   "source": [
    "#The z or the decision function has already been defined\n",
    "#function name : decision_function\n"
   ]
  },
  {
   "cell_type": "code",
   "execution_count": 17,
   "metadata": {
    "id": "oTY7z2bd4Zx2"
   },
   "outputs": [],
   "source": [
    "def gradient_dw(x,y,w,b,alpha,N):\n",
    "    '''In this function, we will compute the gardient w.r.to w \n",
    "    '''\n",
    "    dw=x*(y-sigmoid(w*(x)+b)-(alpha/N)*w)\n",
    "    \n",
    "    return dw"
   ]
  },
  {
   "cell_type": "code",
   "execution_count": 18,
   "metadata": {},
   "outputs": [],
   "source": [
    "#sb should be a scalar value\n",
    "def gradient_db(x,y,w,b):\n",
    "    '''In this function, we will compute gradient w.r.to b \n",
    "    '''\n",
    "    db=y-sigmoid(w*(x)+b)\n",
    "    return db"
   ]
  },
  {
   "cell_type": "code",
   "execution_count": 19,
   "metadata": {},
   "outputs": [],
   "source": [
    "def pred(w,b, X):\n",
    "    N = len(X)\n",
    "    predict = []\n",
    "    for i in range(N):\n",
    "        z=np.dot(w,X[i])+b\n",
    "        predict.append(sigmoid(z))\n",
    "    return np.array(predict)"
   ]
  },
  {
   "cell_type": "code",
   "execution_count": 20,
   "metadata": {},
   "outputs": [],
   "source": [
    "def train(X_train,y_train,epochs,alpha,eta0,w,b,N):\n",
    "    ''' In this function, we will perform sgd'''  \n",
    "    train_loss = [0]\n",
    "    #write your code to perform SGD\n",
    "    for x in tqdm(range(epochs)):\n",
    "        for i in range(len(X_train)):          \n",
    "            dw=gradient_dw(X_train[i],y_train[i],w,b,alpha,N)\n",
    "            db=gradient_db(X_train[i],y_train[i],w,b)\n",
    "            w=w+eta0*(dw)\n",
    "            b=b+eta0*(db)\n",
    "        #print('='*50)\n",
    "        y_train_pred=pred(w,b,X_train)\n",
    "        loss_tr=logloss(y_train,y_train_pred)\n",
    "        loss_old=train_loss[-1]\n",
    "        train_loss.append(loss_tr)\n",
    "        loss_new=loss_tr\n",
    "        print(loss_new,loss_old)\n",
    "        if round(loss_new,6)==round(loss_old,6):\n",
    "            break;\n",
    "        else:\n",
    "            continue\n",
    "    return w,b,train_loss[1:]"
   ]
  },
  {
   "cell_type": "code",
   "execution_count": null,
   "metadata": {},
   "outputs": [],
   "source": []
  },
  {
   "cell_type": "code",
   "execution_count": 21,
   "metadata": {
    "scrolled": true
   },
   "outputs": [
    {
     "name": "stderr",
     "output_type": "stream",
     "text": [
      "  1%|█                                                                                 | 4/300 [00:00<00:18, 15.86it/s]"
     ]
    },
    {
     "name": "stdout",
     "output_type": "stream",
     "text": [
      "0.2211102708281974 0\n",
      "0.2010207531622841 0.2211102708281974\n",
      "0.1952874239181143 0.2010207531622841\n",
      "0.19295386629503372 0.1952874239181143\n"
     ]
    },
    {
     "name": "stderr",
     "output_type": "stream",
     "text": [
      "  3%|██▏                                                                               | 8/300 [00:00<00:19, 15.16it/s]"
     ]
    },
    {
     "name": "stdout",
     "output_type": "stream",
     "text": [
      "0.19183190002455772 0.19295386629503372\n",
      "0.19123626922020875 0.19183190002455772\n",
      "0.19089848894765718 0.19123626922020875\n",
      "0.190697768997743 0.19089848894765718\n"
     ]
    },
    {
     "name": "stderr",
     "output_type": "stream",
     "text": [
      "  4%|███▏                                                                             | 12/300 [00:00<00:19, 14.94it/s]"
     ]
    },
    {
     "name": "stdout",
     "output_type": "stream",
     "text": [
      "0.19057433172549526 0.190697768997743\n",
      "0.19049644139905803 0.19057433172549526\n",
      "0.1904463172991841 0.19049644139905803\n",
      "0.19041356781532873 0.1904463172991841\n"
     ]
    },
    {
     "name": "stderr",
     "output_type": "stream",
     "text": [
      "\r",
      "  5%|███▊                                                                             | 14/300 [00:00<00:19, 14.58it/s]"
     ]
    },
    {
     "name": "stdout",
     "output_type": "stream",
     "text": [
      "0.19039191342678555 0.19041356781532873\n",
      "0.19037745752743068 0.19039191342678555\n",
      "0.19036773076881391 0.19037745752743068\n"
     ]
    },
    {
     "name": "stderr",
     "output_type": "stream",
     "text": [
      "  6%|████▊                                                                            | 18/300 [00:01<00:20, 14.02it/s]"
     ]
    },
    {
     "name": "stdout",
     "output_type": "stream",
     "text": [
      "0.19036114197321802 0.19036773076881391\n",
      "0.19035665218599496 0.19036114197321802\n",
      "0.1903535758490642 0.19035665218599496\n"
     ]
    },
    {
     "name": "stderr",
     "output_type": "stream",
     "text": [
      "  7%|█████▉                                                                           | 22/300 [00:01<00:19, 14.48it/s]"
     ]
    },
    {
     "name": "stdout",
     "output_type": "stream",
     "text": [
      "0.19035145675888043 0.1903535758490642\n",
      "0.19034998924299626 0.19035145675888043\n",
      "0.1903489673180776 0.19034998924299626\n",
      "0.19034825149964565 0.1903489673180776\n"
     ]
    },
    {
     "name": "stderr",
     "output_type": "stream",
     "text": [
      "\r",
      "  7%|█████▉                                                                           | 22/300 [00:01<00:19, 13.96it/s]"
     ]
    },
    {
     "name": "stdout",
     "output_type": "stream",
     "text": [
      "0.1903477469249075 0.19034825149964565\n"
     ]
    },
    {
     "name": "stderr",
     "output_type": "stream",
     "text": [
      "\n"
     ]
    }
   ],
   "source": [
    "N=len(x_train)\n",
    "calibrated_w,calibrated_b,train_loss_proba=train(x_train,y_train,300,0.001,0.001,w_prob,b_prob,N)"
   ]
  },
  {
   "cell_type": "code",
   "execution_count": 22,
   "metadata": {},
   "outputs": [
    {
     "data": {
      "image/png": "[encoded data removed]",
      "text/plain": [
       "<Figure size 720x576 with 1 Axes>"
      ]
     },
     "metadata": {},
     "output_type": "display_data"
    }
   ],
   "source": [
    "plt.figure(figsize=(10,8))\n",
    "plt.grid()\n",
    "plt.title('Loss Vs Epoch')\n",
    "plt.ylabel('Loss')\n",
    "plt.xlabel('Epochs')\n",
    "plt.plot(range(len(train_loss_proba)),train_loss_proba)\n",
    "plt.show()"
   ]
  },
  {
   "cell_type": "code",
   "execution_count": 23,
   "metadata": {},
   "outputs": [],
   "source": [
    "def final_probability(w,b,x_i):\n",
    "    z=w*x_i+b\n",
    "    sigmoid_z=1/(1+np.exp(-z))\n",
    "    return(sigmoid_z)\n",
    "\n",
    "x_i=y_pred_cv.copy()\n",
    "calibrated_proba=final_probability(calibrated_w,calibrated_b,x_i)#Calibrated Probabilities"
   ]
  },
  {
   "cell_type": "code",
   "execution_count": 24,
   "metadata": {
    "scrolled": true
   },
   "outputs": [
    {
     "name": "stdout",
     "output_type": "stream",
     "text": [
      "[1.59646782e-02 9.56296351e-01 2.53784847e-03 1.73150726e-03\n",
      " 9.92678514e-01 2.35392975e-01 5.13077833e-03 2.22749010e-03\n",
      " 1.51883844e-03 3.57938353e-01 4.81368447e-02 6.12389247e-02\n",
      " 2.86607462e-03 6.89576375e-01 3.22695223e-03 1.01672441e-02\n",
      " 3.84253627e-02 8.22324963e-02 1.18088643e-02 8.43356491e-01\n",
      " 8.57657712e-02 2.98367969e-03 7.06824576e-03 6.50792994e-01\n",
      " 9.98478503e-01 1.37975889e-02 3.73916938e-03 9.97506574e-01\n",
      " 1.83954176e-02 9.11013085e-01 1.60083282e-03 2.54074740e-02\n",
      " 7.98482612e-03 7.28718861e-04 3.56592415e-02 9.82588948e-01\n",
      " 7.85284127e-01 9.71344474e-01 9.82961382e-01 4.50410418e-02\n",
      " 2.02802773e-02 9.86622772e-01 1.89179430e-02 6.74371907e-02\n",
      " 2.59024577e-02 3.78898122e-02 9.65200406e-01 8.01291067e-03\n",
      " 5.61572009e-03 9.74279348e-01 2.22278207e-01 6.27244193e-01\n",
      " 3.93661611e-03 5.14232681e-02 9.85035018e-01 8.86450537e-03\n",
      " 4.60616014e-02 2.55047973e-03 5.05656798e-03 8.71599435e-03\n",
      " 1.63119155e-02 9.40104709e-01 7.37101387e-01 1.83957905e-02\n",
      " 9.29837644e-01 2.15266639e-02 9.13614743e-01 7.10343261e-03\n",
      " 9.57118032e-01 3.41423098e-02 1.73738884e-03 9.37775908e-01\n",
      " 6.55266128e-02 1.87871270e-01 5.31713523e-01 8.34555195e-02\n",
      " 5.27709982e-03 2.57757578e-02 7.09348898e-03 4.00264409e-02\n",
      " 4.92160038e-03 6.45799260e-03 3.84349521e-02 4.98727248e-01\n",
      " 1.30231652e-01 3.56581416e-01 1.32757082e-03 9.69054408e-01\n",
      " 9.81475714e-01 2.14357890e-03 2.34729359e-01 3.82461660e-03\n",
      " 6.20154463e-03 3.36404203e-03 9.50226675e-01 9.89086869e-01\n",
      " 2.66892655e-02 4.11620230e-01 6.97361296e-03 4.35602683e-02\n",
      " 4.50233869e-01 9.44730203e-01 1.25400172e-01 2.99415866e-03\n",
      " 6.76840148e-03 4.96984123e-03 7.04313262e-04 4.44394808e-01\n",
      " 3.08968547e-01 9.15551639e-03 1.65988267e-01 1.42923274e-02\n",
      " 3.13897023e-01 9.34071498e-01 9.96707459e-03 1.10278623e-03\n",
      " 9.64408219e-01 6.85073615e-03 5.83010020e-01 9.35253187e-01\n",
      " 1.62264400e-02 8.73731977e-02 2.27206835e-02 2.03051715e-02\n",
      " 1.95295017e-01 5.90166477e-01 3.00844589e-02 1.27780467e-02\n",
      " 9.67981375e-01 6.31184417e-02 9.33897064e-03 5.86234777e-02\n",
      " 2.74571829e-02 9.35733836e-01 1.57633273e-04 7.64117390e-03\n",
      " 3.38127489e-03 1.04558828e-03 6.93154675e-01 9.62408768e-01\n",
      " 1.94938091e-02 8.71621038e-01 9.56597430e-03 2.83746964e-01\n",
      " 2.81497597e-03 2.05049586e-03 3.63478727e-02 7.84940299e-02\n",
      " 2.98853004e-02 3.69641513e-02 9.38999599e-01 2.26406812e-04\n",
      " 2.43772724e-02 3.23369631e-02 3.61858426e-03 1.41291950e-01\n",
      " 1.18406968e-02 9.89877212e-03 8.42522570e-01 2.51213028e-03\n",
      " 3.56597822e-01 1.56319474e-03 5.76171488e-03 9.31495657e-01\n",
      " 2.61496713e-02 4.63739182e-03 3.42309975e-03 9.01714491e-01\n",
      " 1.41808647e-02 5.85050884e-01 5.59071488e-01 1.58391223e-02\n",
      " 5.39489094e-03 2.60346694e-01 7.42509447e-02 5.12758687e-03\n",
      " 2.34425435e-01 7.92557631e-02 6.93050540e-03 9.70576389e-01\n",
      " 7.64924679e-01 9.25245090e-01 1.18548049e-01 1.02431149e-01\n",
      " 1.42084049e-02 9.82981659e-01 1.55520403e-01 2.87029588e-03\n",
      " 1.60595846e-02 7.52810367e-01 2.31394826e-02 2.25325721e-03\n",
      " 2.26564310e-03 3.54509491e-02 9.55869745e-01 4.42158920e-03\n",
      " 2.92398488e-02 7.71212474e-01 9.92954358e-01 9.14362591e-01\n",
      " 9.76966422e-01 1.61720353e-03 3.80267919e-01 5.87768304e-03\n",
      " 9.54329011e-01 9.29644840e-01 5.16037521e-02 2.25832574e-02\n",
      " 7.27017098e-04 9.29900190e-01 7.38582157e-01 3.41807714e-01\n",
      " 9.01673187e-01 9.33920076e-01 1.02981448e-03 3.63829652e-03\n",
      " 3.17664613e-02 3.65220223e-01 8.30404849e-01 3.67098304e-03\n",
      " 6.32972530e-04 9.88917887e-01 9.56407710e-01 9.77214419e-01\n",
      " 1.32069816e-02 4.74591372e-02 9.29951443e-01 2.63169535e-02\n",
      " 2.12464336e-03 5.22836512e-03 9.80466282e-01 2.38414409e-01\n",
      " 2.35327026e-03 5.22650044e-01 2.15280245e-02 7.94548448e-05\n",
      " 5.39926936e-02 4.10823917e-03 1.94961696e-01 1.55007071e-03\n",
      " 2.15891437e-04 1.88739691e-02 8.67993922e-01 9.31668029e-01\n",
      " 2.93718688e-03 1.11963446e-01 9.29814010e-01 8.83405354e-02\n",
      " 1.70261983e-03 9.87322518e-01 1.52251285e-02 4.53000164e-03\n",
      " 8.81662237e-01 4.45036114e-03 7.98060940e-02 6.49513267e-03\n",
      " 3.96205119e-01 2.69591839e-02 9.78560425e-01 1.64871785e-02\n",
      " 8.32545525e-01 9.62660120e-01 1.35506445e-02 9.52482942e-01\n",
      " 8.43173669e-01 6.99476707e-03 1.19160409e-02 4.12011185e-02\n",
      " 4.23152600e-04 1.56088744e-01 1.54681813e-03 7.66257248e-03\n",
      " 9.96859905e-01 8.08703154e-04 4.64015313e-01 8.26996433e-01\n",
      " 2.40122368e-02 2.37479341e-01 3.13195171e-02 9.35540786e-01\n",
      " 8.55280583e-03 9.90553004e-01 5.03350411e-03 4.69145946e-03\n",
      " 1.05738813e-02 4.64681385e-03 7.69281140e-01 7.86437975e-01\n",
      " 1.19414014e-03 4.47955848e-05 6.23655677e-01 2.43650419e-02\n",
      " 4.45755792e-03 9.76014705e-01 9.31404729e-01 1.00709548e-01\n",
      " 1.15634376e-02 7.11814799e-03 9.70890985e-01 1.81952272e-03\n",
      " 3.07155953e-01 1.90560960e-02 3.10465625e-02 9.66404432e-01\n",
      " 5.30372847e-01 3.20305733e-03 1.03505012e-01 1.63572841e-02\n",
      " 4.93291377e-02 3.39080456e-02 1.58262704e-03 9.87736219e-01\n",
      " 9.38717046e-01 2.21227570e-03 4.26720639e-02 3.02776653e-03\n",
      " 3.11544346e-03 4.85785358e-03 3.32778376e-03 2.82726373e-03\n",
      " 5.13988078e-03 3.57589884e-03 2.74166689e-01 1.41579300e-02\n",
      " 3.28621687e-01 3.38673228e-02 7.85129325e-02 4.28587871e-01\n",
      " 4.34377823e-02 8.09767318e-03 4.15398578e-03 9.65953912e-01\n",
      " 5.01680052e-03 1.86153112e-01 7.49811672e-02 5.60774513e-01\n",
      " 1.04717751e-01 9.70192187e-01 9.84929865e-01 1.57229558e-02\n",
      " 2.30592232e-02 1.44142579e-03 1.28795999e-03 1.77230065e-02\n",
      " 1.23278434e-01 2.01031488e-01 9.50519083e-02 6.71257158e-05\n",
      " 1.18157827e-03 4.40654773e-03 1.11732034e-01 1.41642060e-01\n",
      " 1.94269876e-01 6.14534852e-01 9.67714070e-01 7.94085030e-01\n",
      " 9.27902755e-01 1.06366950e-02 1.02849163e-01 9.61794882e-01\n",
      " 1.05450761e-02 3.85835626e-04 1.15153095e-01 1.07112586e-02\n",
      " 9.99238801e-01 7.37610708e-02 3.75694566e-01 7.41728779e-02\n",
      " 8.91305536e-02 3.19351644e-02 5.20376671e-03 6.24648330e-02\n",
      " 7.27254426e-01 1.22137176e-02 1.94681642e-02 8.44064406e-01\n",
      " 9.46864947e-01 1.64597244e-03 2.80207536e-01 3.39884659e-03\n",
      " 9.57812788e-01 8.77454127e-01 9.23849487e-03 1.97049916e-02\n",
      " 9.81873128e-01 8.88169791e-03 9.25761942e-02 3.24954105e-02\n",
      " 3.53544505e-01 1.25486323e-02 1.45412688e-04 8.86721910e-02\n",
      " 4.52636094e-03 9.12771472e-01 5.95990927e-01 4.42467690e-01\n",
      " 1.84248088e-02 8.70515172e-02 9.73261307e-01 4.36834768e-01\n",
      " 8.17613348e-01 6.93345555e-02 9.58272173e-01 9.94057280e-01\n",
      " 9.81625551e-01 9.98803730e-01 9.32837128e-01 9.22403114e-01\n",
      " 5.44335663e-02 3.54717871e-02 1.64508556e-02 1.13214192e-01\n",
      " 1.12685463e-02 9.71795900e-01 7.68462013e-01 7.93107407e-01\n",
      " 2.94121210e-01 8.93880579e-01 4.43427766e-03 3.51103036e-04\n",
      " 2.70266731e-01 7.94510966e-02 7.14218840e-01 6.53906726e-02\n",
      " 3.17296381e-02 7.26267788e-03 4.21508641e-02 6.81028638e-03\n",
      " 5.50693203e-03 7.60815269e-04 9.78440149e-01 1.37948328e-03\n",
      " 2.58963931e-03 7.11088919e-01 5.23070648e-02 3.83746945e-01\n",
      " 5.47012259e-03 2.59136553e-04 1.41089787e-02 9.61599723e-01\n",
      " 9.21581403e-01 1.05208479e-03 3.94084365e-03 9.83441511e-01\n",
      " 1.03106030e-02 1.73395913e-03 4.65894356e-03 4.96129644e-03\n",
      " 8.07546917e-03 1.26244900e-02 1.67124814e-03 7.77957327e-01\n",
      " 1.98478779e-01 3.78991331e-03 9.90863431e-01 1.10281958e-03\n",
      " 9.33504305e-01 1.40029670e-03 1.67842651e-03 1.22100718e-02\n",
      " 9.57655819e-01 8.29383971e-01 8.46071579e-04 2.67430713e-03\n",
      " 6.36219968e-01 7.98049636e-03 1.70078281e-01 7.79014122e-01\n",
      " 9.11873029e-03 3.13022266e-03 6.21584540e-01 1.39068898e-02\n",
      " 2.31563990e-03 4.31038729e-02 1.57821430e-03 9.66135987e-01\n",
      " 7.68611267e-02 7.36406010e-03 2.73754946e-04 3.61963430e-01\n",
      " 7.55876913e-04 8.92867029e-04 4.95426566e-03 1.00533676e-03\n",
      " 9.63519190e-01 6.05967517e-01 2.53018855e-02 1.25771816e-02\n",
      " 5.44719054e-05 5.61517199e-03 5.05002263e-03 1.61286869e-02\n",
      " 1.42882929e-01 1.78296859e-01 9.19686115e-01 3.28713457e-04\n",
      " 3.60181832e-01 1.42336480e-02 4.16033435e-03 2.61160466e-02\n",
      " 1.04292701e-01 1.61546554e-01 1.62821681e-03 9.97531374e-01\n",
      " 1.06533569e-01 3.34416291e-02 4.22962866e-02 9.64888511e-01\n",
      " 9.27132640e-01 4.42371925e-02 1.63626602e-01 9.71286866e-01\n",
      " 3.06835120e-03 8.32941690e-03 5.97862810e-03 8.14502879e-04\n",
      " 4.49680591e-02 2.76841785e-04 4.76724047e-02 1.48972317e-03\n",
      " 6.86834833e-03 4.67818230e-02 5.15240610e-03 3.60135108e-02\n",
      " 9.01417169e-01 1.40624408e-02 7.26817788e-03 6.35008721e-03\n",
      " 5.14977634e-02 5.68628670e-02 1.07762108e-01 9.05071889e-04\n",
      " 9.38356770e-01 9.93224188e-01 9.76641180e-01 3.11055648e-03\n",
      " 1.49231561e-02 4.23147282e-01 9.27659595e-01 9.45848979e-01\n",
      " 1.98161269e-02 9.73032571e-02 9.85504899e-01 1.36917514e-02\n",
      " 9.88665211e-02 1.36954084e-02 5.58515000e-02 3.55749202e-04\n",
      " 3.03583513e-03 2.87530173e-01 6.02817743e-03 3.76005641e-03\n",
      " 2.18509113e-02 1.43653383e-02 9.92360283e-01 4.53182849e-01\n",
      " 1.15840884e-02 2.56015853e-03 4.13301244e-03 6.92835788e-01\n",
      " 2.92605446e-02 7.67291860e-01 2.01824675e-03 1.74758784e-03\n",
      " 1.09701769e-02 9.67928213e-01 6.83440730e-01 9.83711480e-01\n",
      " 9.63743849e-01 1.30493224e-01 2.32425228e-02 9.06842081e-01\n",
      " 8.07365003e-01 1.23650004e-03 3.21454372e-02 8.37113042e-03\n",
      " 8.36951567e-01 9.97686771e-01 2.93355407e-03 9.62188193e-01\n",
      " 5.26745987e-03 2.87458160e-02 1.72441338e-03 1.21644513e-02\n",
      " 1.57559832e-03 9.56637498e-01 2.61736837e-03 6.20116548e-03\n",
      " 1.52131553e-02 7.23002919e-01 5.31624802e-03 1.37152249e-01\n",
      " 3.50303558e-03 4.71924058e-04 8.74855402e-01 4.88469710e-03\n",
      " 9.61276330e-01 3.62662888e-03 9.80394599e-01 9.14830783e-02\n",
      " 2.52083998e-02 5.73671993e-03 7.71267135e-03 2.06656024e-01\n",
      " 9.25695865e-01 5.05817490e-01 3.43422758e-03 6.47640506e-02\n",
      " 1.44491282e-02 9.78615428e-01 9.07765508e-03 1.04668997e-02\n",
      " 1.40946698e-01 5.28594317e-03 4.06582443e-02 7.33675582e-04\n",
      " 3.10431788e-02 9.43771178e-01 9.69421214e-01 6.64189900e-04\n",
      " 8.52530999e-03 5.02717844e-04 3.83792039e-02 3.21670504e-03\n",
      " 5.93472015e-01 8.61869994e-01 9.84025022e-01 9.90661632e-01\n",
      " 9.57472850e-01 7.52227553e-01 3.75014490e-02 6.08349674e-04\n",
      " 5.46837842e-03 7.65970495e-01 2.15908469e-02 2.30641398e-01\n",
      " 5.15625246e-01 2.79059800e-03 9.78020918e-01 8.72686895e-01\n",
      " 4.10647317e-02 7.31144749e-02 9.90109051e-01 5.89044704e-03\n",
      " 8.51515146e-01 9.68597197e-01 9.53131863e-02 1.67071645e-02\n",
      " 6.44960596e-03 9.67010539e-01 2.70154622e-03 9.02717365e-01\n",
      " 2.99481378e-02 6.78747801e-01 4.94042099e-04 1.69169683e-01\n",
      " 2.58090376e-03 3.78623203e-04 8.43977879e-01 1.83348714e-03\n",
      " 9.82747615e-01 9.43414799e-01 4.46962523e-03 5.85741565e-01\n",
      " 4.66791848e-01 1.22456938e-02 9.20891759e-01 2.12560398e-03\n",
      " 9.33258318e-03 9.83350369e-01 3.29002449e-02 8.46117029e-01\n",
      " 1.31932143e-02 9.44366538e-01 1.64513511e-03 2.25934335e-03\n",
      " 9.87516501e-01 9.17862611e-01 7.07029908e-03 1.83755595e-02\n",
      " 8.93347452e-01 2.75121415e-02 5.38674370e-01 9.52577576e-01\n",
      " 5.16844221e-03 1.50672084e-03 8.04088214e-03 1.21453208e-02\n",
      " 8.77350781e-01 9.88825928e-01 2.68621130e-02 1.06050462e-03\n",
      " 2.85162978e-02 5.29778619e-03 6.11610340e-03 9.59998197e-01\n",
      " 9.47768231e-02 4.03643430e-02 8.36890190e-03 8.13510651e-01\n",
      " 9.53995771e-01 9.47912899e-01 2.04348604e-01 2.87184952e-02\n",
      " 5.70942554e-01 4.95881928e-03 4.26506504e-02 8.85373834e-01\n",
      " 5.54086545e-01 3.49916436e-01 3.02268317e-02 8.01796086e-02\n",
      " 8.06767923e-01 7.52352366e-03 9.70653515e-01 6.60054249e-02\n",
      " 4.34999702e-02 9.54407719e-01 1.73020336e-03 3.63798544e-03\n",
      " 9.03210986e-01 5.46340286e-01 1.15955255e-02 1.82433389e-03\n",
      " 3.33311472e-03 9.50634460e-01 5.61593176e-03 9.91311428e-01\n",
      " 1.61809785e-03 6.02486478e-03 9.55971269e-01 9.53646075e-01\n",
      " 3.52648913e-03 1.96239819e-02 3.39093972e-01 4.82797897e-01\n",
      " 3.98115686e-02 3.84356544e-03 1.05478069e-02 6.34432797e-02\n",
      " 8.56828744e-04 1.68286758e-02 2.57907755e-02 6.28515468e-02\n",
      " 3.39406069e-01 6.34929175e-02 7.20767859e-01 1.03915220e-01\n",
      " 9.76289145e-01 2.08912406e-02 5.56666227e-01 9.81029099e-01\n",
      " 9.33593077e-04 4.23895091e-03 1.57248952e-04 6.86509089e-01\n",
      " 1.19142538e-02 7.49874917e-03 6.79220860e-03 1.86125481e-01\n",
      " 9.67052468e-01 2.72679723e-02 3.24583570e-01 2.18484382e-03\n",
      " 1.50076024e-03 9.11121246e-01 9.80060054e-01 1.15254266e-02\n",
      " 2.08446363e-01 2.20281627e-03 1.22025418e-02 2.79097819e-02\n",
      " 3.14124835e-03 5.00083510e-01 4.93078200e-02 9.44497259e-01\n",
      " 9.84063977e-04 3.70136978e-01 1.98407738e-02 8.46377648e-01\n",
      " 2.98952317e-01 5.91152974e-03 2.20711664e-03 1.41489479e-01\n",
      " 7.37422997e-01 1.64775349e-01 2.22104408e-02 6.98668753e-02\n",
      " 2.92872315e-03 5.41308689e-02 5.09617456e-01 8.70447238e-01\n",
      " 3.27549233e-02 1.12631178e-03 7.66244991e-04 4.97205467e-03\n",
      " 5.33577195e-03 1.55787956e-02 9.73386278e-01 3.66728949e-02\n",
      " 8.53267648e-01 9.79894044e-01 6.29695488e-02 1.91716939e-02\n",
      " 1.70438431e-02 5.03521241e-01 4.47364428e-01 5.30269534e-03\n",
      " 5.26670756e-03 4.88723875e-04 3.23106218e-03 1.71148712e-02\n",
      " 7.15569501e-02 4.56951297e-01 5.11622489e-03 5.75350982e-03\n",
      " 8.19823201e-03 9.69102348e-02 1.62704441e-02 9.55002963e-01\n",
      " 9.62123493e-01 9.63303958e-01 2.46051583e-03 5.28965692e-04\n",
      " 2.52708032e-03 5.35302952e-03 5.82708496e-01 8.10003581e-01\n",
      " 7.77532057e-02 1.87325764e-03 5.41183175e-01 9.57075735e-01\n",
      " 3.06708637e-03 9.04123179e-01 4.70703820e-01 8.45059735e-01\n",
      " 1.72027775e-03 9.71725720e-01 1.10349513e-03 8.90660870e-01\n",
      " 6.38929626e-03 2.20356054e-01 9.55775469e-02 9.82698588e-01\n",
      " 9.61404426e-03 1.58587667e-02 2.23422212e-02 7.58521335e-01\n",
      " 3.57159910e-02 3.30921711e-03 7.36241384e-01 8.77622526e-01\n",
      " 9.71754378e-01 9.77511644e-01 9.02989899e-01 9.69303764e-01\n",
      " 6.98887663e-02 4.02031853e-01 2.49569066e-03 3.58403143e-03\n",
      " 7.24561193e-02 1.40124715e-02 1.81104194e-04 1.73454371e-02\n",
      " 1.88638880e-03 7.29010729e-03 2.73323178e-01 9.44149859e-01\n",
      " 3.05860113e-03 1.59215867e-01 7.75996804e-04 9.55365329e-01\n",
      " 9.03123274e-01 4.48492934e-01 3.56744941e-03 5.23235497e-02\n",
      " 5.09300068e-02 1.37368366e-02 9.87248676e-01 6.50726452e-02\n",
      " 9.82440587e-01 6.70292695e-02 9.81583711e-01 9.79925056e-01\n",
      " 2.33767496e-01 8.00208857e-04 1.91784636e-02 7.92348287e-01\n",
      " 1.39231799e-03 1.05478251e-02 2.22862946e-03 7.30657649e-01\n",
      " 1.36948310e-01 6.46688860e-01 9.77532434e-01 8.68266152e-02\n",
      " 3.17113581e-03 9.44197427e-01 5.13164078e-02 1.65298903e-02\n",
      " 2.13965696e-03 2.55238922e-01 9.90333115e-01 9.63966748e-01\n",
      " 7.75845617e-03 1.52909851e-01 9.87575082e-01 4.83108549e-04\n",
      " 1.51926587e-01 9.00675098e-01 3.17950281e-03 1.22713487e-03\n",
      " 9.43619366e-04 1.20988763e-01 9.76414429e-01 9.66016925e-01\n",
      " 1.97741819e-02 6.92488612e-01 1.02645919e-02 8.62908634e-01\n",
      " 8.48767973e-03 1.17810429e-03 7.52554696e-02 2.21537487e-03\n",
      " 2.42423694e-01 1.11601828e-03 8.89122181e-01 2.50159897e-02\n",
      " 2.35802265e-02 2.15026392e-03 7.95571590e-02 8.51033255e-03\n",
      " 3.40234030e-03 3.51604670e-02 2.21243956e-01 4.78439094e-01\n",
      " 2.27700846e-03 8.25710542e-03 2.33590926e-03 9.21280612e-01\n",
      " 3.67996233e-03 9.09906783e-01 6.15442175e-04 9.75659985e-01\n",
      " 4.74656773e-01 3.88260554e-03 5.60012546e-01 8.81575002e-01\n",
      " 1.76037062e-02 1.34105503e-01 1.34356135e-02 1.28581403e-02\n",
      " 1.73031099e-03 2.28764162e-02 3.07278974e-02 1.62271252e-01\n",
      " 1.96713510e-03 3.78861000e-03 2.34523574e-03 2.10329371e-04\n",
      " 6.48991813e-02 8.15059476e-03 8.63396652e-01 3.39926666e-01\n",
      " 1.63307853e-02 8.17028660e-01 1.16520554e-02 1.50057685e-02\n",
      " 2.94053711e-03 2.10670810e-02 8.44687954e-01 1.30731706e-03\n",
      " 1.62542281e-02 1.44984684e-01 3.33670845e-01 9.72154603e-01\n",
      " 9.17014419e-03 6.92796635e-03 1.80445603e-02 6.49881650e-02\n",
      " 9.60240353e-01 9.65094639e-01 2.43969971e-03 9.43567516e-01\n",
      " 7.64513938e-04 9.10617906e-02 4.61104175e-02 1.87392805e-02\n",
      " 9.31752380e-01 6.83700301e-02 9.79639836e-01 2.30510408e-02\n",
      " 5.88611934e-01 3.04530758e-02 9.57198228e-01 4.39772680e-03\n",
      " 4.72682201e-03 6.64011507e-01 1.09744417e-03 3.54164469e-01]\n"
     ]
    }
   ],
   "source": [
    "print(calibrated_proba)#Calibrated Probabilities"
   ]
  },
  {
   "cell_type": "code",
   "execution_count": null,
   "metadata": {},
   "outputs": [],
   "source": []
  },
  {
   "cell_type": "markdown",
   "metadata": {},
   "source": [
    "__Note: in the above algorithm, the steps 2, 4 might need hyper parameter tuning, To reduce the complexity of the assignment we are excluding the hyerparameter tuning part, but interested students can try that__"
   ]
  },
  {
   "cell_type": "markdown",
   "metadata": {
    "id": "CM3odN1Z4Zx3"
   },
   "source": [
    "\n",
    "If any one wants to try other calibration algorithm istonic regression also please check these tutorials\n",
    "\n",
    "1. http://fa.bianp.net/blog/tag/scikit-learn.html#fn:1\n",
    "\n",
    "2. https://drive.google.com/open?id=1MzmA7QaP58RDzocB0RBmRiWfl7Co_VJ7\n",
    "\n",
    "3. https://drive.google.com/open?id=133odBinMOIVb_rh_GQxxsyMRyW-Zts7a\n",
    "\n",
    "4. https://stat.fandom.com/wiki/Isotonic_regression#Pool_Adjacent_Violators_Algorithm\n"
   ]
  },
  {
   "cell_type": "code",
   "execution_count": null,
   "metadata": {},
   "outputs": [],
   "source": []
  }
 ],
 "metadata": {
  "colab": {
   "collapsed_sections": [],
   "name": "8E&F_LR_SVM.ipynb",
   "provenance": []
  },
  "kernelspec": {
   "display_name": "Python 3",
   "language": "python",
   "name": "python3"
  },
  "language_info": {
   "codemirror_mode": {
    "name": "ipython",
    "version": 3
   },
   "file_extension": ".py",
   "mimetype": "text/x-python",
   "name": "python",
   "nbconvert_exporter": "python",
   "pygments_lexer": "ipython3",
   "version": "3.6.5"
  }
 },
 "nbformat": 4,
 "nbformat_minor": 1
}
