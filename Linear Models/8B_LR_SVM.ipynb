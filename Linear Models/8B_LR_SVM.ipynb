{
 "cells": [
  {
   "cell_type": "code",
   "execution_count": 1,
   "metadata": {
    "colab": {},
    "colab_type": "code",
    "id": "8ArWK463kbhL",
    "outputId": "ad250ffe-29ed-4dc9-bf30-fe91ab10656c"
   },
   "outputs": [
    {
     "data": {
      "text/html": [
       "        <script type=\"text/javascript\">\n",
       "        window.PlotlyConfig = {MathJaxConfig: 'local'};\n",
       "        if (window.MathJax && window.MathJax.Hub && window.MathJax.Hub.Config) {window.MathJax.Hub.Config({SVG: {font: \"STIX-Web\"}});}\n",
       "        if (typeof require !== 'undefined') {\n",
       "        require.undef(\"plotly\");\n",
       "        requirejs.config({\n",
       "            paths: {\n",
       "                'plotly': ['https://cdn.plot.ly/plotly-2.14.0.min']\n",
       "            }\n",
       "        });\n",
       "        require(['plotly'], function(Plotly) {\n",
       "            window._Plotly = Plotly;\n",
       "        });\n",
       "        }\n",
       "        </script>\n",
       "        "
      ]
     },
     "metadata": {},
     "output_type": "display_data"
    }
   ],
   "source": [
    "import numpy as np\n",
    "import pandas as pd\n",
    "import plotly\n",
    "import plotly.figure_factory as ff\n",
    "import plotly.graph_objs as go\n",
    "from sklearn.linear_model import LogisticRegression\n",
    "from sklearn.preprocessing import StandardScaler\n",
    "from sklearn.preprocessing import MinMaxScaler\n",
    "from plotly.offline import download_plotlyjs, init_notebook_mode, plot, iplot\n",
    "init_notebook_mode(connected=True)\n",
    "from sklearn.svm import SVC\n",
    "from sklearn.model_selection import GridSearchCV\n",
    "from sklearn.linear_model import SGDClassifier\n",
    "from sklearn.model_selection import train_test_split"
   ]
  },
  {
   "cell_type": "code",
   "execution_count": 2,
   "metadata": {
    "colab": {},
    "colab_type": "code",
    "id": "5mldzJdakbhS"
   },
   "outputs": [],
   "source": [
    "data = pd.read_csv('task_b.csv')\n",
    "data=data.iloc[:,1:]"
   ]
  },
  {
   "cell_type": "code",
   "execution_count": 3,
   "metadata": {
    "colab": {},
    "colab_type": "code",
    "id": "rsCrC2wckbhV",
    "outputId": "fff03fba-880e-4875-9bba-f05797f08d1d",
    "scrolled": true
   },
   "outputs": [
    {
     "data": {
      "text/html": [
       "<div>\n",
       "<style scoped>\n",
       "    .dataframe tbody tr th:only-of-type {\n",
       "        vertical-align: middle;\n",
       "    }\n",
       "\n",
       "    .dataframe tbody tr th {\n",
       "        vertical-align: top;\n",
       "    }\n",
       "\n",
       "    .dataframe thead th {\n",
       "        text-align: right;\n",
       "    }\n",
       "</style>\n",
       "<table border=\"1\" class=\"dataframe\">\n",
       "  <thead>\n",
       "    <tr style=\"text-align: right;\">\n",
       "      <th></th>\n",
       "      <th>f1</th>\n",
       "      <th>f2</th>\n",
       "      <th>f3</th>\n",
       "      <th>y</th>\n",
       "    </tr>\n",
       "  </thead>\n",
       "  <tbody>\n",
       "    <tr>\n",
       "      <th>0</th>\n",
       "      <td>-195.871045</td>\n",
       "      <td>-14843.084171</td>\n",
       "      <td>5.532140</td>\n",
       "      <td>1.0</td>\n",
       "    </tr>\n",
       "    <tr>\n",
       "      <th>1</th>\n",
       "      <td>-1217.183964</td>\n",
       "      <td>-4068.124621</td>\n",
       "      <td>4.416082</td>\n",
       "      <td>1.0</td>\n",
       "    </tr>\n",
       "    <tr>\n",
       "      <th>2</th>\n",
       "      <td>9.138451</td>\n",
       "      <td>4413.412028</td>\n",
       "      <td>0.425317</td>\n",
       "      <td>0.0</td>\n",
       "    </tr>\n",
       "    <tr>\n",
       "      <th>3</th>\n",
       "      <td>363.824242</td>\n",
       "      <td>15474.760647</td>\n",
       "      <td>1.094119</td>\n",
       "      <td>0.0</td>\n",
       "    </tr>\n",
       "    <tr>\n",
       "      <th>4</th>\n",
       "      <td>-768.812047</td>\n",
       "      <td>-7963.932192</td>\n",
       "      <td>1.870536</td>\n",
       "      <td>0.0</td>\n",
       "    </tr>\n",
       "  </tbody>\n",
       "</table>\n",
       "</div>"
      ],
      "text/plain": [
       "            f1            f2        f3    y\n",
       "0  -195.871045 -14843.084171  5.532140  1.0\n",
       "1 -1217.183964  -4068.124621  4.416082  1.0\n",
       "2     9.138451   4413.412028  0.425317  0.0\n",
       "3   363.824242  15474.760647  1.094119  0.0\n",
       "4  -768.812047  -7963.932192  1.870536  0.0"
      ]
     },
     "execution_count": 3,
     "metadata": {},
     "output_type": "execute_result"
    }
   ],
   "source": [
    "data.head()"
   ]
  },
  {
   "cell_type": "code",
   "execution_count": null,
   "metadata": {
    "colab": {},
    "colab_type": "code",
    "id": "FI18joJ_kbhZ",
    "outputId": "22e420e9-4295-4307-a60f-1a528d07c81d"
   },
   "outputs": [],
   "source": []
  },
  {
   "cell_type": "code",
   "execution_count": 4,
   "metadata": {
    "colab": {},
    "colab_type": "code",
    "id": "u40oCVMikbhc",
    "outputId": "db6dce7e-7469-4aa5-8af3-1c08cd0f0081",
    "scrolled": true
   },
   "outputs": [
    {
     "data": {
      "text/plain": [
       "f1    2.383344e+05\n",
       "f2    1.082311e+08\n",
       "f3    8.565349e+00\n",
       "y     2.512563e-01\n",
       "dtype: float64"
      ]
     },
     "execution_count": 4,
     "metadata": {},
     "output_type": "execute_result"
    }
   ],
   "source": [
    "data.var()"
   ]
  },
  {
   "cell_type": "code",
   "execution_count": 5,
   "metadata": {
    "colab": {},
    "colab_type": "code",
    "id": "yQIbNaHskbhe",
    "outputId": "f2298482-b1d5-47e0-f15c-31f4a753a9ac"
   },
   "outputs": [
    {
     "name": "stdout",
     "output_type": "stream",
     "text": [
      "(200, 3)\n",
      "(200,)\n"
     ]
    }
   ],
   "source": [
    "X=data[['f1','f2','f3']].values\n",
    "Y=data['y'].values\n",
    "print(X.shape)\n",
    "print(Y.shape)"
   ]
  },
  {
   "cell_type": "code",
   "execution_count": 6,
   "metadata": {},
   "outputs": [
    {
     "data": {
      "text/html": [
       "<div>\n",
       "<style scoped>\n",
       "    .dataframe tbody tr th:only-of-type {\n",
       "        vertical-align: middle;\n",
       "    }\n",
       "\n",
       "    .dataframe tbody tr th {\n",
       "        vertical-align: top;\n",
       "    }\n",
       "\n",
       "    .dataframe thead th {\n",
       "        text-align: right;\n",
       "    }\n",
       "</style>\n",
       "<table border=\"1\" class=\"dataframe\">\n",
       "  <thead>\n",
       "    <tr style=\"text-align: right;\">\n",
       "      <th></th>\n",
       "      <th>f1</th>\n",
       "      <th>f2</th>\n",
       "      <th>f3</th>\n",
       "    </tr>\n",
       "    <tr>\n",
       "      <th>y</th>\n",
       "      <th></th>\n",
       "      <th></th>\n",
       "      <th></th>\n",
       "    </tr>\n",
       "  </thead>\n",
       "  <tbody>\n",
       "    <tr>\n",
       "      <th>0.0</th>\n",
       "      <td>100</td>\n",
       "      <td>100</td>\n",
       "      <td>100</td>\n",
       "    </tr>\n",
       "    <tr>\n",
       "      <th>1.0</th>\n",
       "      <td>100</td>\n",
       "      <td>100</td>\n",
       "      <td>100</td>\n",
       "    </tr>\n",
       "  </tbody>\n",
       "</table>\n",
       "</div>"
      ],
      "text/plain": [
       "      f1   f2   f3\n",
       "y                 \n",
       "0.0  100  100  100\n",
       "1.0  100  100  100"
      ]
     },
     "execution_count": 6,
     "metadata": {},
     "output_type": "execute_result"
    }
   ],
   "source": [
    "s=data.groupby('y')\n",
    "s.count()\n",
    "\n",
    "#Data is perfectly balanced"
   ]
  },
  {
   "cell_type": "markdown",
   "metadata": {
    "colab_type": "text",
    "id": "aUxp9-qEkbhh"
   },
   "source": [
    "# What if our features are with different variance \n",
    "\n",
    "<pre>\n",
    "* <b>As part of this task you will observe how linear models work in case of data having feautres with different variance</b>\n",
    "* <b>from the output of the above cells you can observe that var(F2)>>var(F1)>>Var(F3)</b>\n",
    "\n",
    "> <b>Task1</b>:\n",
    "    1. Apply Logistic regression(SGDClassifier with logloss) on 'data' and check the feature importance\n",
    "    2. Apply SVM(SGDClassifier with hinge) on 'data' and check the feature importance\n",
    "\n",
    "> <b>Task2</b>:\n",
    "    1. Apply Logistic regression(SGDClassifier with logloss) on 'data' after standardization \n",
    "       i.e standardization(data, column wise): (column-mean(column))/std(column) and check the feature importance\n",
    "    2. Apply SVM(SGDClassifier with hinge) on 'data' after standardization \n",
    "       i.e standardization(data, column wise): (column-mean(column))/std(column) and check the feature importance\n",
    "\n",
    "</pre>"
   ]
  },
  {
   "cell_type": "code",
   "execution_count": null,
   "metadata": {},
   "outputs": [],
   "source": []
  },
  {
   "cell_type": "code",
   "execution_count": 7,
   "metadata": {},
   "outputs": [
    {
     "data": {
      "text/plain": [
       "{'alpha': 0.6}"
      ]
     },
     "execution_count": 7,
     "metadata": {},
     "output_type": "execute_result"
    }
   ],
   "source": [
    "#Performing Hyperparamater tuning\n",
    "cv_model=SGDClassifier(loss='log',penalty='l2',n_jobs=-1,eta0=0.001,random_state=1)\n",
    "parameter={'alpha':[100,50,2,1,0.1,0.2,0.5,0.6,0.8,0.01,0.001]}\n",
    "validate=GridSearchCV(cv_model,parameter,cv=5,scoring='roc_auc',return_train_score=True, n_jobs=-1)\n",
    "validate.fit(X,Y)\n",
    "validate.best_params_"
   ]
  },
  {
   "cell_type": "markdown",
   "metadata": {},
   "source": [
    "## Task 1"
   ]
  },
  {
   "cell_type": "code",
   "execution_count": 8,
   "metadata": {},
   "outputs": [],
   "source": [
    "#APPLYING MODEL WITHOUT STANDARDIZATION\n",
    "#Logistic Regression\n",
    "model=SGDClassifier(loss='log',penalty='l2',n_jobs=-1,random_state=0,eta0=0.01,alpha=0.6)\n",
    "model.fit(X,Y)\n",
    "f_weights=model.coef_\n",
    "imp1=(np.argsort(f_weights))"
   ]
  },
  {
   "cell_type": "code",
   "execution_count": 9,
   "metadata": {},
   "outputs": [
    {
     "data": {
      "text/plain": [
       "{'alpha': 100}"
      ]
     },
     "execution_count": 9,
     "metadata": {},
     "output_type": "execute_result"
    }
   ],
   "source": [
    "cv_model=SGDClassifier(loss='hinge',penalty='l2',n_jobs=-1,random_state=0,eta0=0.01)\n",
    "parameter={'alpha':[150,200,100,50,1,0.1,0.2,0.01,0.001]}\n",
    "validate=GridSearchCV(cv_model,parameter,cv=3,scoring='roc_auc',return_train_score=True, n_jobs=-1)\n",
    "validate.fit(X,Y)\n",
    "validate.best_params_"
   ]
  },
  {
   "cell_type": "code",
   "execution_count": 10,
   "metadata": {},
   "outputs": [],
   "source": [
    "model_sv=SGDClassifier(loss='hinge',penalty='l2',n_jobs=-1,random_state=0,eta0=0.01,alpha=100)\n",
    "model_sv.fit(X,Y)\n",
    "f_weights_sv=model_sv.coef_\n",
    "imp2=(np.argsort(f_weights_sv))"
   ]
  },
  {
   "cell_type": "markdown",
   "metadata": {},
   "source": [
    "## Task 2"
   ]
  },
  {
   "cell_type": "code",
   "execution_count": 11,
   "metadata": {},
   "outputs": [],
   "source": [
    "scaler=StandardScaler()\n",
    "scaler.fit(X)\n",
    "x_t=scaler.transform(X)"
   ]
  },
  {
   "cell_type": "code",
   "execution_count": 12,
   "metadata": {},
   "outputs": [
    {
     "data": {
      "text/plain": [
       "0    1.002509\n",
       "1    1.002509\n",
       "2    1.002509\n",
       "dtype: float64"
      ]
     },
     "execution_count": 12,
     "metadata": {},
     "output_type": "execute_result"
    }
   ],
   "source": [
    "pd.DataFrame(x_t).std()"
   ]
  },
  {
   "cell_type": "code",
   "execution_count": 13,
   "metadata": {},
   "outputs": [
    {
     "data": {
      "text/plain": [
       "0    1.005025\n",
       "1    1.005025\n",
       "2    1.005025\n",
       "dtype: float64"
      ]
     },
     "execution_count": 13,
     "metadata": {},
     "output_type": "execute_result"
    }
   ],
   "source": [
    "pd.DataFrame(x_t).var()"
   ]
  },
  {
   "cell_type": "code",
   "execution_count": 14,
   "metadata": {},
   "outputs": [
    {
     "data": {
      "text/plain": [
       "{'alpha': 100}"
      ]
     },
     "execution_count": 14,
     "metadata": {},
     "output_type": "execute_result"
    }
   ],
   "source": [
    "#Finding the best Hyperparamater\n",
    "cv_model_lr=SGDClassifier(loss='log',penalty='l2',n_jobs=-1,random_state=0,eta0=0.01)\n",
    "parameter={'alpha':[150,200,100,50,1,0.1,0.2,0.01,0.001]}\n",
    "validate_lr=GridSearchCV(cv_model_lr,parameter,cv=5,scoring='roc_auc',return_train_score=True, n_jobs=-1)\n",
    "validate_lr.fit(x_t,Y)\n",
    "validate.best_params_"
   ]
  },
  {
   "cell_type": "code",
   "execution_count": 15,
   "metadata": {},
   "outputs": [],
   "source": [
    "model_lr=SGDClassifier(loss='log',penalty='l2',n_jobs=-1,random_state=0,eta0=0.01,alpha=100)\n",
    "model_lr.fit(x_t,Y)\n",
    "f_weights_lr=model_lr.coef_\n",
    "imp3=(np.argsort(f_weights_lr))"
   ]
  },
  {
   "cell_type": "code",
   "execution_count": 16,
   "metadata": {},
   "outputs": [
    {
     "data": {
      "text/plain": [
       "{'alpha': 0.2}"
      ]
     },
     "execution_count": 16,
     "metadata": {},
     "output_type": "execute_result"
    }
   ],
   "source": [
    "cv_model_hinge=SGDClassifier(loss='hinge',penalty='l2',n_jobs=-1,random_state=0,eta0=0.01)\n",
    "parameter={'alpha':[100,50,1,0.1,0.2,0.5,0.6,0.01,0.001]}\n",
    "validate_hinge=GridSearchCV(cv_model_hinge,parameter,cv=5,scoring='roc_auc',return_train_score=True, n_jobs=-1)\n",
    "validate_hinge.fit(x_t,Y)\n",
    "validate_hinge.best_params_"
   ]
  },
  {
   "cell_type": "code",
   "execution_count": 17,
   "metadata": {},
   "outputs": [],
   "source": [
    "model_hinge=SGDClassifier(loss='hinge',penalty='l2',n_jobs=-1,random_state=0,eta0=0.01,alpha=0.2)\n",
    "model_hinge.fit(x_t,Y)\n",
    "f_weights_hinge=model_hinge.coef_\n",
    "imp4=(np.argsort(f_weights_hinge))"
   ]
  },
  {
   "cell_type": "code",
   "execution_count": 18,
   "metadata": {},
   "outputs": [],
   "source": [
    "fin_res={'Without Standardization Log Loss':imp1,'With Standardization Log Loss':imp3,'Without Standardization Hinge Loss':imp2,'With Standardization Hinge Loss':imp4}"
   ]
  },
  {
   "cell_type": "code",
   "execution_count": 19,
   "metadata": {},
   "outputs": [
    {
     "name": "stdout",
     "output_type": "stream",
     "text": [
      "0 ('Without Standardization Log Loss', array([[1, 2, 0]], dtype=int64))\n",
      "1 ('With Standardization Log Loss', array([[1, 0, 2]], dtype=int64))\n",
      "2 ('Without Standardization Hinge Loss', array([[0, 2, 1]], dtype=int64))\n",
      "3 ('With Standardization Hinge Loss', array([[0, 1, 2]], dtype=int64))\n"
     ]
    }
   ],
   "source": [
    "for i,j in enumerate((fin_res.items())):\n",
    "    print(i,j)"
   ]
  },
  {
   "cell_type": "markdown",
   "metadata": {},
   "source": [
    "- Trying to understand the relationship between the Variance and Std Deviation"
   ]
  },
  {
   "cell_type": "code",
   "execution_count": 20,
   "metadata": {},
   "outputs": [
    {
     "name": "stdout",
     "output_type": "stream",
     "text": [
      "Std Deviation of Data after Standardization\n",
      "0    1.002509\n",
      "1    1.002509\n",
      "2    1.002509\n",
      "dtype: float64\n",
      "------------------------------------------------------------\n",
      "Variance of Data \"After\" Standardization\n",
      "0    1.005025\n",
      "1    1.005025\n",
      "2    1.005025\n",
      "dtype: float64\n"
     ]
    }
   ],
   "source": [
    "#Data before Standarization\n",
    "print('Std Deviation of Data after Standardization')\n",
    "print(pd.DataFrame(x_t).std())\n",
    "print('-'*60)\n",
    "print('Variance of Data \"After\" Standardization')\n",
    "print(pd.DataFrame(x_t).var())"
   ]
  },
  {
   "cell_type": "code",
   "execution_count": 21,
   "metadata": {},
   "outputs": [
    {
     "name": "stdout",
     "output_type": "stream",
     "text": [
      "Std Deviation of Data before Standardization\n",
      "0      488.195035\n",
      "1    10403.417325\n",
      "2        2.926662\n",
      "dtype: float64\n",
      "------------------------------------------------------------\n",
      "Variance of Data before Standardization\n",
      "0    2.383344e+05\n",
      "1    1.082311e+08\n",
      "2    8.565349e+00\n",
      "dtype: float64\n"
     ]
    }
   ],
   "source": [
    "#Data after Standarization\n",
    "print('Std Deviation of Data before Standardization')\n",
    "print(pd.DataFrame(X).std())\n",
    "print('-'*60)\n",
    "print('Variance of Data before Standardization')\n",
    "print(pd.DataFrame(X).var())"
   ]
  },
  {
   "cell_type": "code",
   "execution_count": 22,
   "metadata": {},
   "outputs": [
    {
     "name": "stdout",
     "output_type": "stream",
     "text": [
      "Correlation between features in Data Before Standardization\n",
      "------------------------------------------------------------\n",
      "          0         1         2\n",
      "0  1.000000  0.065468  0.123589\n",
      "1  0.065468  1.000000 -0.055561\n",
      "2  0.123589 -0.055561  1.000000\n",
      "************************************************************\n",
      "************************************************************\n",
      "\n",
      "Correlation between features in Data After Standardization\n",
      "------------------------------------------------------------\n",
      "          0         1         2\n",
      "0  1.000000  0.065468  0.123589\n",
      "1  0.065468  1.000000 -0.055561\n",
      "2  0.123589 -0.055561  1.000000\n"
     ]
    }
   ],
   "source": [
    "print('Correlation between features in Data Before Standardization')\n",
    "print('-'*60)\n",
    "print(pd.DataFrame(X).corr())\n",
    "print('*'*60)\n",
    "print('*'*60)\n",
    "print('\\nCorrelation between features in Data After Standardization')\n",
    "print('-'*60)\n",
    "print(pd.DataFrame(x_t).corr())"
   ]
  },
  {
   "cell_type": "markdown",
   "metadata": {
    "colab_type": "text",
    "id": "TbMnsrxakbhi"
   },
   "source": [
    "<h3><font color='blue'> Make sure you write the observations for each task, why a particular feautre got more importance than others</font></h3>"
   ]
  },
  {
   "cell_type": "markdown",
   "metadata": {},
   "source": [
    "- ### Explain how feature importance is affected by the correlation and variance(std-dev) of each of the features in each of the tasks. Why has one feature got more weight than the other?\n",
    "\n",
    "1) The correlation between the features stay the same even after standardization, so correlation is not affected when we perform standardization.\n",
    "\n",
    "- ### How did standardization impact the feature importance of different features and compare the results of this case with the non-standardized ones and explain the reason for differences between the weight vectors in both the cases.\n",
    "\n",
    "1) There is no specific pattern defining the difference in weights because of standardization, however because the difference in weights is observed, we can conclude that this will definitely affect the performance of the model on a whole.\n",
    "\n",
    "- ### Compare the results of both the models as well in each task separately and justify the difference if any.\n",
    "\n",
    "1) There is no specific detail or justification as to why a feature is important over another, as even though weights vary, which weights are optimum/best depends on the models performance in terms of \"Accuracy, Probabilities etc\"."
   ]
  }
 ],
 "metadata": {
  "colab": {
   "name": "8B_LR_SVM.ipynb",
   "provenance": []
  },
  "kernelspec": {
   "display_name": "Python 3",
   "language": "python",
   "name": "python3"
  },
  "language_info": {
   "codemirror_mode": {
    "name": "ipython",
    "version": 3
   },
   "file_extension": ".py",
   "mimetype": "text/x-python",
   "name": "python",
   "nbconvert_exporter": "python",
   "pygments_lexer": "ipython3",
   "version": "3.6.5"
  }
 },
 "nbformat": 4,
 "nbformat_minor": 1
}
