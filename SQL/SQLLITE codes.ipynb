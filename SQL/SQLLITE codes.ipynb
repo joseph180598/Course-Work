{
 "cells": [
  {
   "cell_type": "code",
   "execution_count": 29,
   "id": "eabbd4c2",
   "metadata": {},
   "outputs": [
    {
     "data": {
      "text/plain": [
       "'IMPORTANT: To run any query we run it with the cursor using the execute command'"
      ]
     },
     "execution_count": 29,
     "metadata": {},
     "output_type": "execute_result"
    }
   ],
   "source": [
    "#SQL Lite is already present in python so we just need to import it\n",
    "import sqlite3 as s\n",
    "#So after importing we need to conncect to the data base\n",
    "#'Var1'=sqlite3.connect(\"Database_name\")\n",
    "\n",
    "con=s.connect('Db-IMDB-Assignment.db')\n",
    "\n",
    "#If the database is present then it will read it, but if the database is not present then it will create a new one.\n",
    "#When we work with a database(Already present), once we close python the changes made to database will dissappear\n",
    "#(That is they get removed as soon as the python is closed)\n",
    "\n",
    "cr=s.connect('customer.db')#Creating a new Database\n",
    "\n",
    "#cr=s.connect(':memory:')#    This creates a temporary database in RAM\n",
    "\n",
    "#Creating a table inside a DB and then work with it\n",
    "\n",
    "#What is a cursor: It tells the database what should be done.(This is the centrephase between Database and code)\n",
    "#The cursor executes the query in the Database and returns values.\n",
    "\n",
    "c=cr.cursor()#We define that c is a cursor for the database \"cr\"\n",
    "\n",
    "#After declaring we use the \"c\"(Cursor) to execute queries\n",
    "#Creating a table with docstring that is  if we type as below\n",
    "'''\n",
    "Hey\n",
    "Hellow\n",
    "He\n",
    "ha\n",
    "ha'''#The values are saved as typed with spaces and Enters\n",
    "\n",
    "#IMP: SQLITE3 is Case Sensitive\n",
    "#SQL has only 5 Datatypes which we can select from\n",
    "'''Types of Datatypes:\n",
    "1.Null\n",
    "2.INTEGER(WHole numbers)\n",
    "3.REAL(Can be decimals)\n",
    "4.TEXT(Characters)\n",
    "5.BLOB(Images,MP3)'''\n",
    "\n",
    "c.execute(\"\"\"CREATE TABLE customers(\n",
    "first_name TEXT,\n",
    "last_name TEXT,\n",
    "email TEXT)\"\"\")\n",
    "\n",
    "#By committing we actually execute the SQL Query\n",
    "cr.commit()\n",
    "\n",
    "#after we have run a query it is best practice to \"Close the connection\"\n",
    "#cr.close()\n",
    "\n",
    "'''IMPORTANT: To run any query we run it with the cursor using the execute command'''\n",
    "\n"
   ]
  },
  {
   "cell_type": "code",
   "execution_count": 32,
   "id": "75f49e7c",
   "metadata": {},
   "outputs": [
    {
     "data": {
      "text/plain": [
       "<function Connection.commit>"
      ]
     },
     "execution_count": 32,
     "metadata": {},
     "output_type": "execute_result"
    }
   ],
   "source": [
    "#So to add a row into the db we run the same command\n",
    "cr=s.connect('customer.db')\n",
    "c=cr.cursor()\n",
    "c.execute('''INSERT INTO customers VALUES('JOSE', 'NADAR', 'jose@gmail.com')''')\n",
    "cr.commit()\n",
    "\n",
    "#We can add multiples values into the table, provided the data should be a \"LIST of TUPLES\"\n",
    "\n",
    "entry=[('Jeny','hope','jh@gmail.com'),('jose','Paul','jp@gmail.com')]\n",
    "\n",
    "'''Now here we have to use a different command executemany'''\n",
    "\n",
    "c.executemany('''INSERT INTO customers VALUES(?,?,?)''',entry)\n",
    "\n",
    "#Here the ??? show the number of datapoints which are being entered.\n",
    "\n",
    "cr.commit"
   ]
  },
  {
   "cell_type": "code",
   "execution_count": 45,
   "id": "7539e1f4",
   "metadata": {},
   "outputs": [
    {
     "name": "stdout",
     "output_type": "stream",
     "text": [
      "None\n"
     ]
    }
   ],
   "source": [
    "#Query the Database\n",
    "c.execute('''SELECT * FROM customers''')\n",
    "c.fetchone() #Prints the first value from the table\n",
    "c.fetchmany(1) #Fetches with a limit, as a command \"Limit\"\n",
    "(c.fetchall()) #Fetches all values\n",
    "\n",
    "print(c.fetchone())\n",
    "\n",
    "#cr.commit()"
   ]
  },
  {
   "cell_type": "code",
   "execution_count": null,
   "id": "ea1813ef",
   "metadata": {},
   "outputs": [],
   "source": [
    "#SQLITE3 automatically predefines the Primary ID as the row number\n",
    "'''If we run the query \"Select row ID, * from movies\" to view the IDs'''\n"
   ]
  }
 ],
 "metadata": {
  "kernelspec": {
   "display_name": "Python 3",
   "language": "python",
   "name": "python3"
  },
  "language_info": {
   "codemirror_mode": {
    "name": "ipython",
    "version": 3
   },
   "file_extension": ".py",
   "mimetype": "text/x-python",
   "name": "python",
   "nbconvert_exporter": "python",
   "pygments_lexer": "ipython3",
   "version": "3.8.8"
  }
 },
 "nbformat": 4,
 "nbformat_minor": 5
}
