{
 "cells": [
  {
   "cell_type": "markdown",
   "metadata": {
    "id": "ZwoTWIysaNmc"
   },
   "source": [
    "# <font color='red'> Spoken Digit Recognition</font>"
   ]
  },
  {
   "cell_type": "markdown",
   "metadata": {
    "id": "rPO3mjDDaNmf"
   },
   "source": [
    "\n",
    "In this notebook, You will do Spoken Digit Recognition. \n",
    "\n",
    "Input - speech signal, output - digit number\n",
    "\n",
    "\n",
    "\n",
    "It contains  \n",
    "\n",
    "1. Reading the dataset. and Preprocess the data set. Detailed instrctions are given below. You have to write the code in the same cell which contains the instrction. \n",
    "2. Training the LSTM with RAW data\n",
    "3. Converting to spectrogram and Training the LSTM network\n",
    "4. Creating the augmented data and doing step 2 and 3 again.  \n",
    "\n",
    "<font size=5>Instructions:</font>\n",
    "\n",
    "    1. Don't change any Grader Functions. Don't manipulate any Grader functions. If you manipulate any, it will be considered as plagiarised. \n",
    "    \n",
    "    2. Please read the instructions on the code cells and markdown cells. We will explain what to write. \n",
    "    \n",
    "    3. Please return outputs in the same format what we asked. Eg. Don't return List of we are asking for a numpy array.\n",
    "    \n",
    "    4. Please read the external links that we are given so that you will learn the concept behind the code that you are writing.\n",
    "    \n",
    "    5. We are giving instructions at each section if necessary, please follow them. \n",
    "\n",
    "<font size=5>Every Grader function has to return True. </font>\n",
    "\n"
   ]
  },
  {
   "cell_type": "code",
   "execution_count": 1,
   "metadata": {
    "colab": {
     "base_uri": "https://localhost:8080/"
    },
    "id": "en9RhQdQK5oa",
    "outputId": "53ae81f7-5c26-46d5-95de-f7520eac3514"
   },
   "outputs": [
    {
     "name": "stdout",
     "output_type": "stream",
     "text": [
      "Mounted at /content/drive\n"
     ]
    }
   ],
   "source": [
    "from google.colab import drive\n",
    "drive.mount('/content/drive')"
   ]
  },
  {
   "cell_type": "code",
   "execution_count": 2,
   "metadata": {
    "id": "_qGuPcj-aNmh"
   },
   "outputs": [],
   "source": [
    "import numpy as np\n",
    "import pandas as pd\n",
    "import librosa\n",
    "import os\n",
    "import pickle\n",
    "##if you need any imports you can do that here. "
   ]
  },
  {
   "cell_type": "markdown",
   "metadata": {
    "id": "PdhFzGK1aNmo"
   },
   "source": [
    "We shared recordings.zip, please unzip those. "
   ]
  },
  {
   "cell_type": "code",
   "execution_count": 27,
   "metadata": {
    "colab": {
     "base_uri": "https://localhost:8080/"
    },
    "id": "HDBcl_PUaNmp",
    "outputId": "c80480e3-568c-49f7-daf8-e58866612553"
   },
   "outputs": [
    {
     "name": "stdout",
     "output_type": "stream",
     "text": [
      "Downloading...\n",
      "From: https://drive.google.com/uc?id=17YGQheavMbM6aeHYjUcGssXfb7eQHo1z\n",
      "To: /content/recordings.zip\n",
      "100% 9.28M/9.28M [00:01<00:00, 6.30MB/s]\n",
      "Archive:  recordings.zip\n",
      "   creating: recordings/\n",
      "  inflating: recordings/0_jackson_0.wav  \n",
      "  inflating: recordings/0_jackson_1.wav  \n",
      "  inflating: recordings/0_jackson_10.wav  \n",
      "  inflating: recordings/0_jackson_11.wav  \n",
      "  inflating: recordings/0_jackson_12.wav  \n",
      "  inflating: recordings/0_jackson_13.wav  \n",
      "  inflating: recordings/0_jackson_14.wav  \n",
      "  inflating: recordings/0_jackson_15.wav  \n",
      "  inflating: recordings/0_jackson_16.wav  \n",
      "  inflating: recordings/0_jackson_17.wav  \n",
      "  inflating: recordings/0_jackson_18.wav  \n",
      "  inflating: recordings/0_jackson_19.wav  \n",
      "  inflating: recordings/0_jackson_2.wav  \n",
      "  inflating: recordings/0_jackson_20.wav  \n",
      "  inflating: recordings/0_jackson_21.wav  \n",
      "  inflating: recordings/0_jackson_22.wav  \n",
      "  inflating: recordings/0_jackson_23.wav  \n",
      "  inflating: recordings/0_jackson_24.wav  \n",
      "  inflating: recordings/0_jackson_25.wav  \n",
      "  inflating: recordings/0_jackson_26.wav  \n",
      "  inflating: recordings/0_jackson_27.wav  \n",
      "  inflating: recordings/0_jackson_28.wav  \n",
      "  inflating: recordings/0_jackson_29.wav  \n",
      "  inflating: recordings/0_jackson_3.wav  \n",
      "  inflating: recordings/0_jackson_30.wav  \n",
      "  inflating: recordings/0_jackson_31.wav  \n",
      "  inflating: recordings/0_jackson_32.wav  \n",
      "  inflating: recordings/0_jackson_33.wav  \n",
      "  inflating: recordings/0_jackson_34.wav  \n",
      "  inflating: recordings/0_jackson_35.wav  \n",
      "  inflating: recordings/0_jackson_36.wav  \n",
      "  inflating: recordings/0_jackson_37.wav  \n",
      "  inflating: recordings/0_jackson_38.wav  \n",
      "  inflating: recordings/0_jackson_39.wav  \n",
      "  inflating: recordings/0_jackson_4.wav  \n",
      "  inflating: recordings/0_jackson_40.wav  \n",
      "  inflating: recordings/0_jackson_41.wav  \n",
      "  inflating: recordings/0_jackson_42.wav  \n",
      "  inflating: recordings/0_jackson_43.wav  \n",
      "  inflating: recordings/0_jackson_44.wav  \n",
      "  inflating: recordings/0_jackson_45.wav  \n",
      "  inflating: recordings/0_jackson_46.wav  \n",
      "  inflating: recordings/0_jackson_47.wav  \n",
      "  inflating: recordings/0_jackson_48.wav  \n",
      "  inflating: recordings/0_jackson_49.wav  \n",
      "  inflating: recordings/0_jackson_5.wav  \n",
      "  inflating: recordings/0_jackson_6.wav  \n",
      "  inflating: recordings/0_jackson_7.wav  \n",
      "  inflating: recordings/0_jackson_8.wav  \n",
      "  inflating: recordings/0_jackson_9.wav  \n",
      "  inflating: recordings/0_nicolas_0.wav  \n",
      "  inflating: recordings/0_nicolas_1.wav  \n",
      "  inflating: recordings/0_nicolas_10.wav  \n",
      "  inflating: recordings/0_nicolas_11.wav  \n",
      "  inflating: recordings/0_nicolas_12.wav  \n",
      "  inflating: recordings/0_nicolas_13.wav  \n",
      "  inflating: recordings/0_nicolas_14.wav  \n",
      "  inflating: recordings/0_nicolas_15.wav  \n",
      "  inflating: recordings/0_nicolas_16.wav  \n",
      "  inflating: recordings/0_nicolas_17.wav  \n",
      "  inflating: recordings/0_nicolas_18.wav  \n",
      "  inflating: recordings/0_nicolas_19.wav  \n",
      "  inflating: recordings/0_nicolas_2.wav  \n",
      "  inflating: recordings/0_nicolas_20.wav  \n",
      "  inflating: recordings/0_nicolas_21.wav  \n",
      "  inflating: recordings/0_nicolas_22.wav  \n",
      "  inflating: recordings/0_nicolas_23.wav  \n",
      "  inflating: recordings/0_nicolas_24.wav  \n",
      "  inflating: recordings/0_nicolas_25.wav  \n",
      "  inflating: recordings/0_nicolas_26.wav  \n",
      "  inflating: recordings/0_nicolas_27.wav  \n",
      "  inflating: recordings/0_nicolas_28.wav  \n",
      "  inflating: recordings/0_nicolas_29.wav  \n",
      "  inflating: recordings/0_nicolas_3.wav  \n",
      "  inflating: recordings/0_nicolas_30.wav  \n",
      "  inflating: recordings/0_nicolas_31.wav  \n",
      "  inflating: recordings/0_nicolas_32.wav  \n",
      "  inflating: recordings/0_nicolas_33.wav  \n",
      "  inflating: recordings/0_nicolas_34.wav  \n",
      "  inflating: recordings/0_nicolas_35.wav  \n",
      "  inflating: recordings/0_nicolas_36.wav  \n",
      "  inflating: recordings/0_nicolas_37.wav  \n",
      "  inflating: recordings/0_nicolas_38.wav  \n",
      "  inflating: recordings/0_nicolas_39.wav  \n",
      "  inflating: recordings/0_nicolas_4.wav  \n",
      "  inflating: recordings/0_nicolas_40.wav  \n",
      "  inflating: recordings/0_nicolas_41.wav  \n",
      "  inflating: recordings/0_nicolas_42.wav  \n",
      "  inflating: recordings/0_nicolas_43.wav  \n",
      "  inflating: recordings/0_nicolas_44.wav  \n",
      "  inflating: recordings/0_nicolas_45.wav  \n",
      "  inflating: recordings/0_nicolas_46.wav  \n",
      "  inflating: recordings/0_nicolas_47.wav  \n",
      "  inflating: recordings/0_nicolas_48.wav  \n",
      "  inflating: recordings/0_nicolas_49.wav  \n",
      "  inflating: recordings/0_nicolas_5.wav  \n",
      "  inflating: recordings/0_nicolas_6.wav  \n",
      "  inflating: recordings/0_nicolas_7.wav  \n",
      "  inflating: recordings/0_nicolas_8.wav  \n",
      "  inflating: recordings/0_nicolas_9.wav  \n",
      "  inflating: recordings/0_theo_0.wav  \n",
      "  inflating: recordings/0_theo_1.wav  \n",
      "  inflating: recordings/0_theo_10.wav  \n",
      "  inflating: recordings/0_theo_11.wav  \n",
      "  inflating: recordings/0_theo_12.wav  \n",
      "  inflating: recordings/0_theo_13.wav  \n",
      "  inflating: recordings/0_theo_14.wav  \n",
      "  inflating: recordings/0_theo_15.wav  \n",
      "  inflating: recordings/0_theo_16.wav  \n",
      "  inflating: recordings/0_theo_17.wav  \n",
      "  inflating: recordings/0_theo_18.wav  \n",
      "  inflating: recordings/0_theo_19.wav  \n",
      "  inflating: recordings/0_theo_2.wav  \n",
      "  inflating: recordings/0_theo_20.wav  \n",
      "  inflating: recordings/0_theo_21.wav  \n",
      "  inflating: recordings/0_theo_22.wav  \n",
      "  inflating: recordings/0_theo_23.wav  \n",
      "  inflating: recordings/0_theo_24.wav  \n",
      "  inflating: recordings/0_theo_25.wav  \n",
      "  inflating: recordings/0_theo_26.wav  \n",
      "  inflating: recordings/0_theo_27.wav  \n",
      "  inflating: recordings/0_theo_28.wav  \n",
      "  inflating: recordings/0_theo_29.wav  \n",
      "  inflating: recordings/0_theo_3.wav  \n",
      "  inflating: recordings/0_theo_30.wav  \n",
      "  inflating: recordings/0_theo_31.wav  \n",
      "  inflating: recordings/0_theo_32.wav  \n",
      "  inflating: recordings/0_theo_33.wav  \n",
      "  inflating: recordings/0_theo_34.wav  \n",
      "  inflating: recordings/0_theo_35.wav  \n",
      "  inflating: recordings/0_theo_36.wav  \n",
      "  inflating: recordings/0_theo_37.wav  \n",
      "  inflating: recordings/0_theo_38.wav  \n",
      "  inflating: recordings/0_theo_39.wav  \n",
      "  inflating: recordings/0_theo_4.wav  \n",
      "  inflating: recordings/0_theo_40.wav  \n",
      "  inflating: recordings/0_theo_41.wav  \n",
      "  inflating: recordings/0_theo_42.wav  \n",
      "  inflating: recordings/0_theo_43.wav  \n",
      "  inflating: recordings/0_theo_44.wav  \n",
      "  inflating: recordings/0_theo_45.wav  \n",
      "  inflating: recordings/0_theo_46.wav  \n",
      "  inflating: recordings/0_theo_47.wav  \n",
      "  inflating: recordings/0_theo_48.wav  \n",
      "  inflating: recordings/0_theo_49.wav  \n",
      "  inflating: recordings/0_theo_5.wav  \n",
      "  inflating: recordings/0_theo_6.wav  \n",
      "  inflating: recordings/0_theo_7.wav  \n",
      "  inflating: recordings/0_theo_8.wav  \n",
      "  inflating: recordings/0_theo_9.wav  \n",
      "  inflating: recordings/0_yweweler_0.wav  \n",
      "  inflating: recordings/0_yweweler_1.wav  \n",
      "  inflating: recordings/0_yweweler_10.wav  \n",
      "  inflating: recordings/0_yweweler_11.wav  \n",
      "  inflating: recordings/0_yweweler_12.wav  \n",
      "  inflating: recordings/0_yweweler_13.wav  \n",
      "  inflating: recordings/0_yweweler_14.wav  \n",
      "  inflating: recordings/0_yweweler_15.wav  \n",
      "  inflating: recordings/0_yweweler_16.wav  \n",
      "  inflating: recordings/0_yweweler_17.wav  \n",
      "  inflating: recordings/0_yweweler_18.wav  \n",
      "  inflating: recordings/0_yweweler_19.wav  \n",
      "  inflating: recordings/0_yweweler_2.wav  \n",
      "  inflating: recordings/0_yweweler_20.wav  \n",
      "  inflating: recordings/0_yweweler_21.wav  \n",
      "  inflating: recordings/0_yweweler_22.wav  \n",
      "  inflating: recordings/0_yweweler_23.wav  \n",
      "  inflating: recordings/0_yweweler_24.wav  \n",
      "  inflating: recordings/0_yweweler_25.wav  \n",
      "  inflating: recordings/0_yweweler_26.wav  \n",
      "  inflating: recordings/0_yweweler_27.wav  \n",
      "  inflating: recordings/0_yweweler_28.wav  \n",
      "  inflating: recordings/0_yweweler_29.wav  \n",
      "  inflating: recordings/0_yweweler_3.wav  \n",
      "  inflating: recordings/0_yweweler_30.wav  \n",
      "  inflating: recordings/0_yweweler_31.wav  \n",
      "  inflating: recordings/0_yweweler_32.wav  \n",
      "  inflating: recordings/0_yweweler_33.wav  \n",
      "  inflating: recordings/0_yweweler_34.wav  \n",
      "  inflating: recordings/0_yweweler_35.wav  \n",
      "  inflating: recordings/0_yweweler_36.wav  \n",
      "  inflating: recordings/0_yweweler_37.wav  \n",
      "  inflating: recordings/0_yweweler_38.wav  \n",
      "  inflating: recordings/0_yweweler_39.wav  \n",
      "  inflating: recordings/0_yweweler_4.wav  \n",
      "  inflating: recordings/0_yweweler_40.wav  \n",
      "  inflating: recordings/0_yweweler_41.wav  \n",
      "  inflating: recordings/0_yweweler_42.wav  \n",
      "  inflating: recordings/0_yweweler_43.wav  \n",
      "  inflating: recordings/0_yweweler_44.wav  \n",
      "  inflating: recordings/0_yweweler_45.wav  \n",
      "  inflating: recordings/0_yweweler_46.wav  \n",
      "  inflating: recordings/0_yweweler_47.wav  \n",
      "  inflating: recordings/0_yweweler_48.wav  \n",
      "  inflating: recordings/0_yweweler_49.wav  \n",
      "  inflating: recordings/0_yweweler_5.wav  \n",
      "  inflating: recordings/0_yweweler_6.wav  \n",
      "  inflating: recordings/0_yweweler_7.wav  \n",
      "  inflating: recordings/0_yweweler_8.wav  \n",
      "  inflating: recordings/0_yweweler_9.wav  \n",
      "  inflating: recordings/1_jackson_0.wav  \n",
      "  inflating: recordings/1_jackson_1.wav  \n",
      "  inflating: recordings/1_jackson_10.wav  \n",
      "  inflating: recordings/1_jackson_11.wav  \n",
      "  inflating: recordings/1_jackson_12.wav  \n",
      "  inflating: recordings/1_jackson_13.wav  \n",
      "  inflating: recordings/1_jackson_14.wav  \n",
      "  inflating: recordings/1_jackson_15.wav  \n",
      "  inflating: recordings/1_jackson_16.wav  \n",
      "  inflating: recordings/1_jackson_17.wav  \n",
      "  inflating: recordings/1_jackson_18.wav  \n",
      "  inflating: recordings/1_jackson_19.wav  \n",
      "  inflating: recordings/1_jackson_2.wav  \n",
      "  inflating: recordings/1_jackson_20.wav  \n",
      "  inflating: recordings/1_jackson_21.wav  \n",
      "  inflating: recordings/1_jackson_22.wav  \n",
      "  inflating: recordings/1_jackson_23.wav  \n",
      "  inflating: recordings/1_jackson_24.wav  \n",
      "  inflating: recordings/1_jackson_25.wav  \n",
      "  inflating: recordings/1_jackson_26.wav  \n",
      "  inflating: recordings/1_jackson_27.wav  \n",
      "  inflating: recordings/1_jackson_28.wav  \n",
      "  inflating: recordings/1_jackson_29.wav  \n",
      "  inflating: recordings/1_jackson_3.wav  \n",
      "  inflating: recordings/1_jackson_30.wav  \n",
      "  inflating: recordings/1_jackson_31.wav  \n",
      "  inflating: recordings/1_jackson_32.wav  \n",
      "  inflating: recordings/1_jackson_33.wav  \n",
      "  inflating: recordings/1_jackson_34.wav  \n",
      "  inflating: recordings/1_jackson_35.wav  \n",
      "  inflating: recordings/1_jackson_36.wav  \n",
      "  inflating: recordings/1_jackson_37.wav  \n",
      "  inflating: recordings/1_jackson_38.wav  \n",
      "  inflating: recordings/1_jackson_39.wav  \n",
      "  inflating: recordings/1_jackson_4.wav  \n",
      "  inflating: recordings/1_jackson_40.wav  \n",
      "  inflating: recordings/1_jackson_41.wav  \n",
      "  inflating: recordings/1_jackson_42.wav  \n",
      "  inflating: recordings/1_jackson_43.wav  \n",
      "  inflating: recordings/1_jackson_44.wav  \n",
      "  inflating: recordings/1_jackson_45.wav  \n",
      "  inflating: recordings/1_jackson_46.wav  \n",
      "  inflating: recordings/1_jackson_47.wav  \n",
      "  inflating: recordings/1_jackson_48.wav  \n",
      "  inflating: recordings/1_jackson_49.wav  \n",
      "  inflating: recordings/1_jackson_5.wav  \n",
      "  inflating: recordings/1_jackson_6.wav  \n",
      "  inflating: recordings/1_jackson_7.wav  \n",
      "  inflating: recordings/1_jackson_8.wav  \n",
      "  inflating: recordings/1_jackson_9.wav  \n",
      "  inflating: recordings/1_nicolas_0.wav  \n",
      "  inflating: recordings/1_nicolas_1.wav  \n",
      "  inflating: recordings/1_nicolas_10.wav  \n",
      "  inflating: recordings/1_nicolas_11.wav  \n",
      "  inflating: recordings/1_nicolas_12.wav  \n",
      "  inflating: recordings/1_nicolas_13.wav  \n",
      "  inflating: recordings/1_nicolas_14.wav  \n",
      "  inflating: recordings/1_nicolas_15.wav  \n",
      "  inflating: recordings/1_nicolas_16.wav  \n",
      "  inflating: recordings/1_nicolas_17.wav  \n",
      "  inflating: recordings/1_nicolas_18.wav  \n",
      "  inflating: recordings/1_nicolas_19.wav  \n",
      "  inflating: recordings/1_nicolas_2.wav  \n",
      "  inflating: recordings/1_nicolas_20.wav  \n",
      "  inflating: recordings/1_nicolas_21.wav  \n",
      "  inflating: recordings/1_nicolas_22.wav  \n",
      "  inflating: recordings/1_nicolas_23.wav  \n",
      "  inflating: recordings/1_nicolas_24.wav  \n",
      "  inflating: recordings/1_nicolas_25.wav  \n",
      "  inflating: recordings/1_nicolas_26.wav  \n",
      "  inflating: recordings/1_nicolas_27.wav  \n",
      "  inflating: recordings/1_nicolas_28.wav  \n",
      "  inflating: recordings/1_nicolas_29.wav  \n",
      "  inflating: recordings/1_nicolas_3.wav  \n",
      "  inflating: recordings/1_nicolas_30.wav  \n",
      "  inflating: recordings/1_nicolas_31.wav  \n",
      "  inflating: recordings/1_nicolas_32.wav  \n",
      "  inflating: recordings/1_nicolas_33.wav  \n",
      "  inflating: recordings/1_nicolas_34.wav  \n",
      "  inflating: recordings/1_nicolas_35.wav  \n",
      "  inflating: recordings/1_nicolas_36.wav  \n",
      "  inflating: recordings/1_nicolas_37.wav  \n",
      "  inflating: recordings/1_nicolas_38.wav  \n",
      "  inflating: recordings/1_nicolas_39.wav  \n",
      "  inflating: recordings/1_nicolas_4.wav  \n",
      "  inflating: recordings/1_nicolas_40.wav  \n",
      "  inflating: recordings/1_nicolas_41.wav  \n",
      "  inflating: recordings/1_nicolas_42.wav  \n",
      "  inflating: recordings/1_nicolas_43.wav  \n",
      "  inflating: recordings/1_nicolas_44.wav  \n",
      "  inflating: recordings/1_nicolas_45.wav  \n",
      "  inflating: recordings/1_nicolas_46.wav  \n",
      "  inflating: recordings/1_nicolas_47.wav  \n",
      "  inflating: recordings/1_nicolas_48.wav  \n",
      "  inflating: recordings/1_nicolas_49.wav  \n",
      "  inflating: recordings/1_nicolas_5.wav  \n",
      "  inflating: recordings/1_nicolas_6.wav  \n",
      "  inflating: recordings/1_nicolas_7.wav  \n",
      "  inflating: recordings/1_nicolas_8.wav  \n",
      "  inflating: recordings/1_nicolas_9.wav  \n",
      "  inflating: recordings/1_theo_0.wav  \n",
      "  inflating: recordings/1_theo_1.wav  \n",
      "  inflating: recordings/1_theo_10.wav  \n",
      "  inflating: recordings/1_theo_11.wav  \n",
      "  inflating: recordings/1_theo_12.wav  \n",
      "  inflating: recordings/1_theo_13.wav  \n",
      "  inflating: recordings/1_theo_14.wav  \n",
      "  inflating: recordings/1_theo_15.wav  \n",
      "  inflating: recordings/1_theo_16.wav  \n",
      "  inflating: recordings/1_theo_17.wav  \n",
      "  inflating: recordings/1_theo_18.wav  \n",
      "  inflating: recordings/1_theo_19.wav  \n",
      "  inflating: recordings/1_theo_2.wav  \n",
      "  inflating: recordings/1_theo_20.wav  \n",
      "  inflating: recordings/1_theo_21.wav  \n",
      "  inflating: recordings/1_theo_22.wav  \n",
      "  inflating: recordings/1_theo_23.wav  \n",
      "  inflating: recordings/1_theo_24.wav  \n",
      "  inflating: recordings/1_theo_25.wav  \n",
      "  inflating: recordings/1_theo_26.wav  \n",
      "  inflating: recordings/1_theo_27.wav  \n",
      "  inflating: recordings/1_theo_28.wav  \n",
      "  inflating: recordings/1_theo_29.wav  \n",
      "  inflating: recordings/1_theo_3.wav  \n",
      "  inflating: recordings/1_theo_30.wav  \n",
      "  inflating: recordings/1_theo_31.wav  \n",
      "  inflating: recordings/1_theo_32.wav  \n",
      "  inflating: recordings/1_theo_33.wav  \n",
      "  inflating: recordings/1_theo_34.wav  \n",
      "  inflating: recordings/1_theo_35.wav  \n",
      "  inflating: recordings/1_theo_36.wav  \n",
      "  inflating: recordings/1_theo_37.wav  \n",
      "  inflating: recordings/1_theo_38.wav  \n",
      "  inflating: recordings/1_theo_39.wav  \n",
      "  inflating: recordings/1_theo_4.wav  \n",
      "  inflating: recordings/1_theo_40.wav  \n",
      "  inflating: recordings/1_theo_41.wav  \n",
      "  inflating: recordings/1_theo_42.wav  \n",
      "  inflating: recordings/1_theo_43.wav  \n",
      "  inflating: recordings/1_theo_44.wav  \n",
      "  inflating: recordings/1_theo_45.wav  \n",
      "  inflating: recordings/1_theo_46.wav  \n",
      "  inflating: recordings/1_theo_47.wav  \n",
      "  inflating: recordings/1_theo_48.wav  \n",
      "  inflating: recordings/1_theo_49.wav  \n",
      "  inflating: recordings/1_theo_5.wav  \n",
      "  inflating: recordings/1_theo_6.wav  \n",
      "  inflating: recordings/1_theo_7.wav  \n",
      "  inflating: recordings/1_theo_8.wav  \n",
      "  inflating: recordings/1_theo_9.wav  \n",
      "  inflating: recordings/1_yweweler_0.wav  \n",
      "  inflating: recordings/1_yweweler_1.wav  \n",
      "  inflating: recordings/1_yweweler_10.wav  \n",
      "  inflating: recordings/1_yweweler_11.wav  \n",
      "  inflating: recordings/1_yweweler_12.wav  \n",
      "  inflating: recordings/1_yweweler_13.wav  \n",
      "  inflating: recordings/1_yweweler_14.wav  \n",
      "  inflating: recordings/1_yweweler_15.wav  \n",
      "  inflating: recordings/1_yweweler_16.wav  \n",
      "  inflating: recordings/1_yweweler_17.wav  \n",
      "  inflating: recordings/1_yweweler_18.wav  \n",
      "  inflating: recordings/1_yweweler_19.wav  \n",
      "  inflating: recordings/1_yweweler_2.wav  \n",
      "  inflating: recordings/1_yweweler_20.wav  \n",
      "  inflating: recordings/1_yweweler_21.wav  \n",
      "  inflating: recordings/1_yweweler_22.wav  \n",
      "  inflating: recordings/1_yweweler_23.wav  \n",
      "  inflating: recordings/1_yweweler_24.wav  \n",
      "  inflating: recordings/1_yweweler_25.wav  \n",
      "  inflating: recordings/1_yweweler_26.wav  \n",
      "  inflating: recordings/1_yweweler_27.wav  \n",
      "  inflating: recordings/1_yweweler_28.wav  \n",
      "  inflating: recordings/1_yweweler_29.wav  \n",
      "  inflating: recordings/1_yweweler_3.wav  \n",
      "  inflating: recordings/1_yweweler_30.wav  \n",
      "  inflating: recordings/1_yweweler_31.wav  \n",
      "  inflating: recordings/1_yweweler_32.wav  \n",
      "  inflating: recordings/1_yweweler_33.wav  \n",
      "  inflating: recordings/1_yweweler_34.wav  \n",
      "  inflating: recordings/1_yweweler_35.wav  \n",
      "  inflating: recordings/1_yweweler_36.wav  \n",
      "  inflating: recordings/1_yweweler_37.wav  \n",
      "  inflating: recordings/1_yweweler_38.wav  \n",
      "  inflating: recordings/1_yweweler_39.wav  \n",
      "  inflating: recordings/1_yweweler_4.wav  \n",
      "  inflating: recordings/1_yweweler_40.wav  \n",
      "  inflating: recordings/1_yweweler_41.wav  \n",
      "  inflating: recordings/1_yweweler_42.wav  \n",
      "  inflating: recordings/1_yweweler_43.wav  \n",
      "  inflating: recordings/1_yweweler_44.wav  \n",
      "  inflating: recordings/1_yweweler_45.wav  \n",
      "  inflating: recordings/1_yweweler_46.wav  \n",
      "  inflating: recordings/1_yweweler_47.wav  \n",
      "  inflating: recordings/1_yweweler_48.wav  \n",
      "  inflating: recordings/1_yweweler_49.wav  \n",
      "  inflating: recordings/1_yweweler_5.wav  \n",
      "  inflating: recordings/1_yweweler_6.wav  \n",
      "  inflating: recordings/1_yweweler_7.wav  \n",
      "  inflating: recordings/1_yweweler_8.wav  \n",
      "  inflating: recordings/1_yweweler_9.wav  \n",
      "  inflating: recordings/2_jackson_0.wav  \n",
      "  inflating: recordings/2_jackson_1.wav  \n",
      "  inflating: recordings/2_jackson_10.wav  \n",
      "  inflating: recordings/2_jackson_11.wav  \n",
      "  inflating: recordings/2_jackson_12.wav  \n",
      "  inflating: recordings/2_jackson_13.wav  \n",
      "  inflating: recordings/2_jackson_14.wav  \n",
      "  inflating: recordings/2_jackson_15.wav  \n",
      "  inflating: recordings/2_jackson_16.wav  \n",
      "  inflating: recordings/2_jackson_17.wav  \n",
      "  inflating: recordings/2_jackson_18.wav  \n",
      "  inflating: recordings/2_jackson_19.wav  \n",
      "  inflating: recordings/2_jackson_2.wav  \n",
      "  inflating: recordings/2_jackson_20.wav  \n",
      "  inflating: recordings/2_jackson_21.wav  \n",
      "  inflating: recordings/2_jackson_22.wav  \n",
      "  inflating: recordings/2_jackson_23.wav  \n",
      "  inflating: recordings/2_jackson_24.wav  \n",
      "  inflating: recordings/2_jackson_25.wav  \n",
      "  inflating: recordings/2_jackson_26.wav  \n",
      "  inflating: recordings/2_jackson_27.wav  \n",
      "  inflating: recordings/2_jackson_28.wav  \n",
      "  inflating: recordings/2_jackson_29.wav  \n",
      "  inflating: recordings/2_jackson_3.wav  \n",
      "  inflating: recordings/2_jackson_30.wav  \n",
      "  inflating: recordings/2_jackson_31.wav  \n",
      "  inflating: recordings/2_jackson_32.wav  \n",
      "  inflating: recordings/2_jackson_33.wav  \n",
      "  inflating: recordings/2_jackson_34.wav  \n",
      "  inflating: recordings/2_jackson_35.wav  \n",
      "  inflating: recordings/2_jackson_36.wav  \n",
      "  inflating: recordings/2_jackson_37.wav  \n",
      "  inflating: recordings/2_jackson_38.wav  \n",
      "  inflating: recordings/2_jackson_39.wav  \n",
      "  inflating: recordings/2_jackson_4.wav  \n",
      "  inflating: recordings/2_jackson_40.wav  \n",
      "  inflating: recordings/2_jackson_41.wav  \n",
      "  inflating: recordings/2_jackson_42.wav  \n",
      "  inflating: recordings/2_jackson_43.wav  \n",
      "  inflating: recordings/2_jackson_44.wav  \n",
      "  inflating: recordings/2_jackson_45.wav  \n",
      "  inflating: recordings/2_jackson_46.wav  \n",
      "  inflating: recordings/2_jackson_47.wav  \n",
      "  inflating: recordings/2_jackson_48.wav  \n",
      "  inflating: recordings/2_jackson_49.wav  \n",
      "  inflating: recordings/2_jackson_5.wav  \n",
      "  inflating: recordings/2_jackson_6.wav  \n",
      "  inflating: recordings/2_jackson_7.wav  \n",
      "  inflating: recordings/2_jackson_8.wav  \n",
      "  inflating: recordings/2_jackson_9.wav  \n",
      "  inflating: recordings/2_nicolas_0.wav  \n",
      "  inflating: recordings/2_nicolas_1.wav  \n",
      "  inflating: recordings/2_nicolas_10.wav  \n",
      "  inflating: recordings/2_nicolas_11.wav  \n",
      "  inflating: recordings/2_nicolas_12.wav  \n",
      "  inflating: recordings/2_nicolas_13.wav  \n",
      "  inflating: recordings/2_nicolas_14.wav  \n",
      "  inflating: recordings/2_nicolas_15.wav  \n",
      "  inflating: recordings/2_nicolas_16.wav  \n",
      "  inflating: recordings/2_nicolas_17.wav  \n",
      "  inflating: recordings/2_nicolas_18.wav  \n",
      "  inflating: recordings/2_nicolas_19.wav  \n",
      "  inflating: recordings/2_nicolas_2.wav  \n",
      "  inflating: recordings/2_nicolas_20.wav  \n",
      "  inflating: recordings/2_nicolas_21.wav  \n",
      "  inflating: recordings/2_nicolas_22.wav  \n",
      "  inflating: recordings/2_nicolas_23.wav  \n",
      "  inflating: recordings/2_nicolas_24.wav  \n",
      "  inflating: recordings/2_nicolas_25.wav  \n",
      "  inflating: recordings/2_nicolas_26.wav  \n",
      "  inflating: recordings/2_nicolas_27.wav  \n",
      "  inflating: recordings/2_nicolas_28.wav  \n",
      "  inflating: recordings/2_nicolas_29.wav  \n",
      "  inflating: recordings/2_nicolas_3.wav  \n",
      "  inflating: recordings/2_nicolas_30.wav  \n",
      "  inflating: recordings/2_nicolas_31.wav  \n",
      "  inflating: recordings/2_nicolas_32.wav  \n",
      "  inflating: recordings/2_nicolas_33.wav  \n",
      "  inflating: recordings/2_nicolas_34.wav  \n",
      "  inflating: recordings/2_nicolas_35.wav  \n",
      "  inflating: recordings/2_nicolas_36.wav  \n",
      "  inflating: recordings/2_nicolas_37.wav  \n",
      "  inflating: recordings/2_nicolas_38.wav  \n",
      "  inflating: recordings/2_nicolas_39.wav  \n",
      "  inflating: recordings/2_nicolas_4.wav  \n",
      "  inflating: recordings/2_nicolas_40.wav  \n",
      "  inflating: recordings/2_nicolas_41.wav  \n",
      "  inflating: recordings/2_nicolas_42.wav  \n",
      "  inflating: recordings/2_nicolas_43.wav  \n",
      "  inflating: recordings/2_nicolas_44.wav  \n",
      "  inflating: recordings/2_nicolas_45.wav  \n",
      "  inflating: recordings/2_nicolas_46.wav  \n",
      "  inflating: recordings/2_nicolas_47.wav  \n",
      "  inflating: recordings/2_nicolas_48.wav  \n",
      "  inflating: recordings/2_nicolas_49.wav  \n",
      "  inflating: recordings/2_nicolas_5.wav  \n",
      "  inflating: recordings/2_nicolas_6.wav  \n",
      "  inflating: recordings/2_nicolas_7.wav  \n",
      "  inflating: recordings/2_nicolas_8.wav  \n",
      "  inflating: recordings/2_nicolas_9.wav  \n",
      "  inflating: recordings/2_theo_0.wav  \n",
      "  inflating: recordings/2_theo_1.wav  \n",
      "  inflating: recordings/2_theo_10.wav  \n",
      "  inflating: recordings/2_theo_11.wav  \n",
      "  inflating: recordings/2_theo_12.wav  \n",
      "  inflating: recordings/2_theo_13.wav  \n",
      "  inflating: recordings/2_theo_14.wav  \n",
      "  inflating: recordings/2_theo_15.wav  \n",
      "  inflating: recordings/2_theo_16.wav  \n",
      "  inflating: recordings/2_theo_17.wav  \n",
      "  inflating: recordings/2_theo_18.wav  \n",
      "  inflating: recordings/2_theo_19.wav  \n",
      "  inflating: recordings/2_theo_2.wav  \n",
      "  inflating: recordings/2_theo_20.wav  \n",
      "  inflating: recordings/2_theo_21.wav  \n",
      "  inflating: recordings/2_theo_22.wav  \n",
      "  inflating: recordings/2_theo_23.wav  \n",
      "  inflating: recordings/2_theo_24.wav  \n",
      "  inflating: recordings/2_theo_25.wav  \n",
      "  inflating: recordings/2_theo_26.wav  \n",
      "  inflating: recordings/2_theo_27.wav  \n",
      "  inflating: recordings/2_theo_28.wav  \n",
      "  inflating: recordings/2_theo_29.wav  \n",
      "  inflating: recordings/2_theo_3.wav  \n",
      "  inflating: recordings/2_theo_30.wav  \n",
      "  inflating: recordings/2_theo_31.wav  \n",
      "  inflating: recordings/2_theo_32.wav  \n",
      "  inflating: recordings/2_theo_33.wav  \n",
      "  inflating: recordings/2_theo_34.wav  \n",
      "  inflating: recordings/2_theo_35.wav  \n",
      "  inflating: recordings/2_theo_36.wav  \n",
      "  inflating: recordings/2_theo_37.wav  \n",
      "  inflating: recordings/2_theo_38.wav  \n",
      "  inflating: recordings/2_theo_39.wav  \n",
      "  inflating: recordings/2_theo_4.wav  \n",
      "  inflating: recordings/2_theo_40.wav  \n",
      "  inflating: recordings/2_theo_41.wav  \n",
      "  inflating: recordings/2_theo_42.wav  \n",
      "  inflating: recordings/2_theo_43.wav  \n",
      "  inflating: recordings/2_theo_44.wav  \n",
      "  inflating: recordings/2_theo_45.wav  \n",
      "  inflating: recordings/2_theo_46.wav  \n",
      "  inflating: recordings/2_theo_47.wav  \n",
      "  inflating: recordings/2_theo_48.wav  \n",
      "  inflating: recordings/2_theo_49.wav  \n",
      "  inflating: recordings/2_theo_5.wav  \n",
      "  inflating: recordings/2_theo_6.wav  \n",
      "  inflating: recordings/2_theo_7.wav  \n",
      "  inflating: recordings/2_theo_8.wav  \n",
      "  inflating: recordings/2_theo_9.wav  \n",
      "  inflating: recordings/2_yweweler_0.wav  \n",
      "  inflating: recordings/2_yweweler_1.wav  \n",
      "  inflating: recordings/2_yweweler_10.wav  \n",
      "  inflating: recordings/2_yweweler_11.wav  \n",
      "  inflating: recordings/2_yweweler_12.wav  \n",
      "  inflating: recordings/2_yweweler_13.wav  \n",
      "  inflating: recordings/2_yweweler_14.wav  \n",
      "  inflating: recordings/2_yweweler_15.wav  \n",
      "  inflating: recordings/2_yweweler_16.wav  \n",
      "  inflating: recordings/2_yweweler_17.wav  \n",
      "  inflating: recordings/2_yweweler_18.wav  \n",
      "  inflating: recordings/2_yweweler_19.wav  \n",
      "  inflating: recordings/2_yweweler_2.wav  \n",
      "  inflating: recordings/2_yweweler_20.wav  \n",
      "  inflating: recordings/2_yweweler_21.wav  \n",
      "  inflating: recordings/2_yweweler_22.wav  \n",
      "  inflating: recordings/2_yweweler_23.wav  \n",
      "  inflating: recordings/2_yweweler_24.wav  \n",
      "  inflating: recordings/2_yweweler_25.wav  \n",
      "  inflating: recordings/2_yweweler_26.wav  \n",
      "  inflating: recordings/2_yweweler_27.wav  \n",
      "  inflating: recordings/2_yweweler_28.wav  \n",
      "  inflating: recordings/2_yweweler_29.wav  \n",
      "  inflating: recordings/2_yweweler_3.wav  \n",
      "  inflating: recordings/2_yweweler_30.wav  \n",
      "  inflating: recordings/2_yweweler_31.wav  \n",
      "  inflating: recordings/2_yweweler_32.wav  \n",
      "  inflating: recordings/2_yweweler_33.wav  \n",
      "  inflating: recordings/2_yweweler_34.wav  \n",
      "  inflating: recordings/2_yweweler_35.wav  \n",
      "  inflating: recordings/2_yweweler_36.wav  \n",
      "  inflating: recordings/2_yweweler_37.wav  \n",
      "  inflating: recordings/2_yweweler_38.wav  \n",
      "  inflating: recordings/2_yweweler_39.wav  \n",
      "  inflating: recordings/2_yweweler_4.wav  \n",
      "  inflating: recordings/2_yweweler_40.wav  \n",
      "  inflating: recordings/2_yweweler_41.wav  \n",
      "  inflating: recordings/2_yweweler_42.wav  \n",
      "  inflating: recordings/2_yweweler_43.wav  \n",
      "  inflating: recordings/2_yweweler_44.wav  \n",
      "  inflating: recordings/2_yweweler_45.wav  \n",
      "  inflating: recordings/2_yweweler_46.wav  \n",
      "  inflating: recordings/2_yweweler_47.wav  \n",
      "  inflating: recordings/2_yweweler_48.wav  \n",
      "  inflating: recordings/2_yweweler_49.wav  \n",
      "  inflating: recordings/2_yweweler_5.wav  \n",
      "  inflating: recordings/2_yweweler_6.wav  \n",
      "  inflating: recordings/2_yweweler_7.wav  \n",
      "  inflating: recordings/2_yweweler_8.wav  \n",
      "  inflating: recordings/2_yweweler_9.wav  \n",
      "  inflating: recordings/3_jackson_0.wav  \n",
      "  inflating: recordings/3_jackson_1.wav  \n",
      "  inflating: recordings/3_jackson_10.wav  \n",
      "  inflating: recordings/3_jackson_11.wav  \n",
      "  inflating: recordings/3_jackson_12.wav  \n",
      "  inflating: recordings/3_jackson_13.wav  \n",
      "  inflating: recordings/3_jackson_14.wav  \n",
      "  inflating: recordings/3_jackson_15.wav  \n",
      "  inflating: recordings/3_jackson_16.wav  \n",
      "  inflating: recordings/3_jackson_17.wav  \n",
      "  inflating: recordings/3_jackson_18.wav  \n",
      "  inflating: recordings/3_jackson_19.wav  \n",
      "  inflating: recordings/3_jackson_2.wav  \n",
      "  inflating: recordings/3_jackson_20.wav  \n",
      "  inflating: recordings/3_jackson_21.wav  \n",
      "  inflating: recordings/3_jackson_22.wav  \n",
      "  inflating: recordings/3_jackson_23.wav  \n",
      "  inflating: recordings/3_jackson_24.wav  \n",
      "  inflating: recordings/3_jackson_25.wav  \n",
      "  inflating: recordings/3_jackson_26.wav  \n",
      "  inflating: recordings/3_jackson_27.wav  \n",
      "  inflating: recordings/3_jackson_28.wav  \n",
      "  inflating: recordings/3_jackson_29.wav  \n",
      "  inflating: recordings/3_jackson_3.wav  \n",
      "  inflating: recordings/3_jackson_30.wav  \n",
      "  inflating: recordings/3_jackson_31.wav  \n",
      "  inflating: recordings/3_jackson_32.wav  \n",
      "  inflating: recordings/3_jackson_33.wav  \n",
      "  inflating: recordings/3_jackson_34.wav  \n",
      "  inflating: recordings/3_jackson_35.wav  \n",
      "  inflating: recordings/3_jackson_36.wav  \n",
      "  inflating: recordings/3_jackson_37.wav  \n",
      "  inflating: recordings/3_jackson_38.wav  \n",
      "  inflating: recordings/3_jackson_39.wav  \n",
      "  inflating: recordings/3_jackson_4.wav  \n",
      "  inflating: recordings/3_jackson_40.wav  \n",
      "  inflating: recordings/3_jackson_41.wav  \n",
      "  inflating: recordings/3_jackson_42.wav  \n",
      "  inflating: recordings/3_jackson_43.wav  \n",
      "  inflating: recordings/3_jackson_44.wav  \n",
      "  inflating: recordings/3_jackson_45.wav  \n",
      "  inflating: recordings/3_jackson_46.wav  \n",
      "  inflating: recordings/3_jackson_47.wav  \n",
      "  inflating: recordings/3_jackson_48.wav  \n",
      "  inflating: recordings/3_jackson_49.wav  \n",
      "  inflating: recordings/3_jackson_5.wav  \n",
      "  inflating: recordings/3_jackson_6.wav  \n",
      "  inflating: recordings/3_jackson_7.wav  \n",
      "  inflating: recordings/3_jackson_8.wav  \n",
      "  inflating: recordings/3_jackson_9.wav  \n",
      "  inflating: recordings/3_nicolas_0.wav  \n",
      "  inflating: recordings/3_nicolas_1.wav  \n",
      "  inflating: recordings/3_nicolas_10.wav  \n",
      "  inflating: recordings/3_nicolas_11.wav  \n",
      "  inflating: recordings/3_nicolas_12.wav  \n",
      "  inflating: recordings/3_nicolas_13.wav  \n",
      "  inflating: recordings/3_nicolas_14.wav  \n",
      "  inflating: recordings/3_nicolas_15.wav  \n",
      "  inflating: recordings/3_nicolas_16.wav  \n",
      "  inflating: recordings/3_nicolas_17.wav  \n",
      "  inflating: recordings/3_nicolas_18.wav  \n",
      "  inflating: recordings/3_nicolas_19.wav  \n",
      "  inflating: recordings/3_nicolas_2.wav  \n",
      "  inflating: recordings/3_nicolas_20.wav  \n",
      "  inflating: recordings/3_nicolas_21.wav  \n",
      "  inflating: recordings/3_nicolas_22.wav  \n",
      "  inflating: recordings/3_nicolas_23.wav  \n",
      "  inflating: recordings/3_nicolas_24.wav  \n",
      "  inflating: recordings/3_nicolas_25.wav  \n",
      "  inflating: recordings/3_nicolas_26.wav  \n",
      "  inflating: recordings/3_nicolas_27.wav  \n",
      "  inflating: recordings/3_nicolas_28.wav  \n",
      "  inflating: recordings/3_nicolas_29.wav  \n",
      "  inflating: recordings/3_nicolas_3.wav  \n",
      "  inflating: recordings/3_nicolas_30.wav  \n",
      "  inflating: recordings/3_nicolas_31.wav  \n",
      "  inflating: recordings/3_nicolas_32.wav  \n",
      "  inflating: recordings/3_nicolas_33.wav  \n",
      "  inflating: recordings/3_nicolas_34.wav  \n",
      "  inflating: recordings/3_nicolas_35.wav  \n",
      "  inflating: recordings/3_nicolas_36.wav  \n",
      "  inflating: recordings/3_nicolas_37.wav  \n",
      "  inflating: recordings/3_nicolas_38.wav  \n",
      "  inflating: recordings/3_nicolas_39.wav  \n",
      "  inflating: recordings/3_nicolas_4.wav  \n",
      "  inflating: recordings/3_nicolas_40.wav  \n",
      "  inflating: recordings/3_nicolas_41.wav  \n",
      "  inflating: recordings/3_nicolas_42.wav  \n",
      "  inflating: recordings/3_nicolas_43.wav  \n",
      "  inflating: recordings/3_nicolas_44.wav  \n",
      "  inflating: recordings/3_nicolas_45.wav  \n",
      "  inflating: recordings/3_nicolas_46.wav  \n",
      "  inflating: recordings/3_nicolas_47.wav  \n",
      "  inflating: recordings/3_nicolas_48.wav  \n",
      "  inflating: recordings/3_nicolas_49.wav  \n",
      "  inflating: recordings/3_nicolas_5.wav  \n",
      "  inflating: recordings/3_nicolas_6.wav  \n",
      "  inflating: recordings/3_nicolas_7.wav  \n",
      "  inflating: recordings/3_nicolas_8.wav  \n",
      "  inflating: recordings/3_nicolas_9.wav  \n",
      "  inflating: recordings/3_theo_0.wav  \n",
      "  inflating: recordings/3_theo_1.wav  \n",
      "  inflating: recordings/3_theo_10.wav  \n",
      "  inflating: recordings/3_theo_11.wav  \n",
      "  inflating: recordings/3_theo_12.wav  \n",
      "  inflating: recordings/3_theo_13.wav  \n",
      "  inflating: recordings/3_theo_14.wav  \n",
      "  inflating: recordings/3_theo_15.wav  \n",
      "  inflating: recordings/3_theo_16.wav  \n",
      "  inflating: recordings/3_theo_17.wav  \n",
      "  inflating: recordings/3_theo_18.wav  \n",
      "  inflating: recordings/3_theo_19.wav  \n",
      "  inflating: recordings/3_theo_2.wav  \n",
      "  inflating: recordings/3_theo_20.wav  \n",
      "  inflating: recordings/3_theo_21.wav  \n",
      "  inflating: recordings/3_theo_22.wav  \n",
      "  inflating: recordings/3_theo_23.wav  \n",
      "  inflating: recordings/3_theo_24.wav  \n",
      "  inflating: recordings/3_theo_25.wav  \n",
      "  inflating: recordings/3_theo_26.wav  \n",
      "  inflating: recordings/3_theo_27.wav  \n",
      "  inflating: recordings/3_theo_28.wav  \n",
      "  inflating: recordings/3_theo_29.wav  \n",
      "  inflating: recordings/3_theo_3.wav  \n",
      "  inflating: recordings/3_theo_30.wav  \n",
      "  inflating: recordings/3_theo_31.wav  \n",
      "  inflating: recordings/3_theo_32.wav  \n",
      "  inflating: recordings/3_theo_33.wav  \n",
      "  inflating: recordings/3_theo_34.wav  \n",
      "  inflating: recordings/3_theo_35.wav  \n",
      "  inflating: recordings/3_theo_36.wav  \n",
      "  inflating: recordings/3_theo_37.wav  \n",
      "  inflating: recordings/3_theo_38.wav  \n",
      "  inflating: recordings/3_theo_39.wav  \n",
      "  inflating: recordings/3_theo_4.wav  \n",
      "  inflating: recordings/3_theo_40.wav  \n",
      "  inflating: recordings/3_theo_41.wav  \n",
      "  inflating: recordings/3_theo_42.wav  \n",
      "  inflating: recordings/3_theo_43.wav  \n",
      "  inflating: recordings/3_theo_44.wav  \n",
      "  inflating: recordings/3_theo_45.wav  \n",
      "  inflating: recordings/3_theo_46.wav  \n",
      "  inflating: recordings/3_theo_47.wav  \n",
      "  inflating: recordings/3_theo_48.wav  \n",
      "  inflating: recordings/3_theo_49.wav  \n",
      "  inflating: recordings/3_theo_5.wav  \n",
      "  inflating: recordings/3_theo_6.wav  \n",
      "  inflating: recordings/3_theo_7.wav  \n",
      "  inflating: recordings/3_theo_8.wav  \n",
      "  inflating: recordings/3_theo_9.wav  \n",
      "  inflating: recordings/3_yweweler_0.wav  \n",
      "  inflating: recordings/3_yweweler_1.wav  \n",
      "  inflating: recordings/3_yweweler_10.wav  \n",
      "  inflating: recordings/3_yweweler_11.wav  \n",
      "  inflating: recordings/3_yweweler_12.wav  \n",
      "  inflating: recordings/3_yweweler_13.wav  \n",
      "  inflating: recordings/3_yweweler_14.wav  \n",
      "  inflating: recordings/3_yweweler_15.wav  \n",
      "  inflating: recordings/3_yweweler_16.wav  \n",
      "  inflating: recordings/3_yweweler_17.wav  \n",
      "  inflating: recordings/3_yweweler_18.wav  \n",
      "  inflating: recordings/3_yweweler_19.wav  \n",
      "  inflating: recordings/3_yweweler_2.wav  \n",
      "  inflating: recordings/3_yweweler_20.wav  \n",
      "  inflating: recordings/3_yweweler_21.wav  \n",
      "  inflating: recordings/3_yweweler_22.wav  \n",
      "  inflating: recordings/3_yweweler_23.wav  \n",
      "  inflating: recordings/3_yweweler_24.wav  \n",
      "  inflating: recordings/3_yweweler_25.wav  \n",
      "  inflating: recordings/3_yweweler_26.wav  \n",
      "  inflating: recordings/3_yweweler_27.wav  \n",
      "  inflating: recordings/3_yweweler_28.wav  \n",
      "  inflating: recordings/3_yweweler_29.wav  \n",
      "  inflating: recordings/3_yweweler_3.wav  \n",
      "  inflating: recordings/3_yweweler_30.wav  \n",
      "  inflating: recordings/3_yweweler_31.wav  \n",
      "  inflating: recordings/3_yweweler_32.wav  \n",
      "  inflating: recordings/3_yweweler_33.wav  \n",
      "  inflating: recordings/3_yweweler_34.wav  \n",
      "  inflating: recordings/3_yweweler_35.wav  \n",
      "  inflating: recordings/3_yweweler_36.wav  \n",
      "  inflating: recordings/3_yweweler_37.wav  \n",
      "  inflating: recordings/3_yweweler_38.wav  \n",
      "  inflating: recordings/3_yweweler_39.wav  \n",
      "  inflating: recordings/3_yweweler_4.wav  \n",
      "  inflating: recordings/3_yweweler_40.wav  \n",
      "  inflating: recordings/3_yweweler_41.wav  \n",
      "  inflating: recordings/3_yweweler_42.wav  \n",
      "  inflating: recordings/3_yweweler_43.wav  \n",
      "  inflating: recordings/3_yweweler_44.wav  \n",
      "  inflating: recordings/3_yweweler_45.wav  \n",
      "  inflating: recordings/3_yweweler_46.wav  \n",
      "  inflating: recordings/3_yweweler_47.wav  \n",
      "  inflating: recordings/3_yweweler_48.wav  \n",
      "  inflating: recordings/3_yweweler_49.wav  \n",
      "  inflating: recordings/3_yweweler_5.wav  \n",
      "  inflating: recordings/3_yweweler_6.wav  \n",
      "  inflating: recordings/3_yweweler_7.wav  \n",
      "  inflating: recordings/3_yweweler_8.wav  \n",
      "  inflating: recordings/3_yweweler_9.wav  \n",
      "  inflating: recordings/4_jackson_0.wav  \n",
      "  inflating: recordings/4_jackson_1.wav  \n",
      "  inflating: recordings/4_jackson_10.wav  \n",
      "  inflating: recordings/4_jackson_11.wav  \n",
      "  inflating: recordings/4_jackson_12.wav  \n",
      "  inflating: recordings/4_jackson_13.wav  \n",
      "  inflating: recordings/4_jackson_14.wav  \n",
      "  inflating: recordings/4_jackson_15.wav  \n",
      "  inflating: recordings/4_jackson_16.wav  \n",
      "  inflating: recordings/4_jackson_17.wav  \n",
      "  inflating: recordings/4_jackson_18.wav  \n",
      "  inflating: recordings/4_jackson_19.wav  \n",
      "  inflating: recordings/4_jackson_2.wav  \n",
      "  inflating: recordings/4_jackson_20.wav  \n",
      "  inflating: recordings/4_jackson_21.wav  \n",
      "  inflating: recordings/4_jackson_22.wav  \n",
      "  inflating: recordings/4_jackson_23.wav  \n",
      "  inflating: recordings/4_jackson_24.wav  \n",
      "  inflating: recordings/4_jackson_25.wav  \n",
      "  inflating: recordings/4_jackson_26.wav  \n",
      "  inflating: recordings/4_jackson_27.wav  \n",
      "  inflating: recordings/4_jackson_28.wav  \n",
      "  inflating: recordings/4_jackson_29.wav  \n",
      "  inflating: recordings/4_jackson_3.wav  \n",
      "  inflating: recordings/4_jackson_30.wav  \n",
      "  inflating: recordings/4_jackson_31.wav  \n",
      "  inflating: recordings/4_jackson_32.wav  \n",
      "  inflating: recordings/4_jackson_33.wav  \n",
      "  inflating: recordings/4_jackson_34.wav  \n",
      "  inflating: recordings/4_jackson_35.wav  \n",
      "  inflating: recordings/4_jackson_36.wav  \n",
      "  inflating: recordings/4_jackson_37.wav  \n",
      "  inflating: recordings/4_jackson_38.wav  \n",
      "  inflating: recordings/4_jackson_39.wav  \n",
      "  inflating: recordings/4_jackson_4.wav  \n",
      "  inflating: recordings/4_jackson_40.wav  \n",
      "  inflating: recordings/4_jackson_41.wav  \n",
      "  inflating: recordings/4_jackson_42.wav  \n",
      "  inflating: recordings/4_jackson_43.wav  \n",
      "  inflating: recordings/4_jackson_44.wav  \n",
      "  inflating: recordings/4_jackson_45.wav  \n",
      "  inflating: recordings/4_jackson_46.wav  \n",
      "  inflating: recordings/4_jackson_47.wav  \n",
      "  inflating: recordings/4_jackson_48.wav  \n",
      "  inflating: recordings/4_jackson_49.wav  \n",
      "  inflating: recordings/4_jackson_5.wav  \n",
      "  inflating: recordings/4_jackson_6.wav  \n",
      "  inflating: recordings/4_jackson_7.wav  \n",
      "  inflating: recordings/4_jackson_8.wav  \n",
      "  inflating: recordings/4_jackson_9.wav  \n",
      "  inflating: recordings/4_nicolas_0.wav  \n",
      "  inflating: recordings/4_nicolas_1.wav  \n",
      "  inflating: recordings/4_nicolas_10.wav  \n",
      "  inflating: recordings/4_nicolas_11.wav  \n",
      "  inflating: recordings/4_nicolas_12.wav  \n",
      "  inflating: recordings/4_nicolas_13.wav  \n",
      "  inflating: recordings/4_nicolas_14.wav  \n",
      "  inflating: recordings/4_nicolas_15.wav  \n",
      "  inflating: recordings/4_nicolas_16.wav  \n",
      "  inflating: recordings/4_nicolas_17.wav  \n",
      "  inflating: recordings/4_nicolas_18.wav  \n",
      "  inflating: recordings/4_nicolas_19.wav  \n",
      "  inflating: recordings/4_nicolas_2.wav  \n",
      "  inflating: recordings/4_nicolas_20.wav  \n",
      "  inflating: recordings/4_nicolas_21.wav  \n",
      "  inflating: recordings/4_nicolas_22.wav  \n",
      "  inflating: recordings/4_nicolas_23.wav  \n",
      "  inflating: recordings/4_nicolas_24.wav  \n",
      "  inflating: recordings/4_nicolas_25.wav  \n",
      "  inflating: recordings/4_nicolas_26.wav  \n",
      "  inflating: recordings/4_nicolas_27.wav  \n",
      "  inflating: recordings/4_nicolas_28.wav  \n",
      "  inflating: recordings/4_nicolas_29.wav  \n",
      "  inflating: recordings/4_nicolas_3.wav  \n",
      "  inflating: recordings/4_nicolas_30.wav  \n",
      "  inflating: recordings/4_nicolas_31.wav  \n",
      "  inflating: recordings/4_nicolas_32.wav  \n",
      "  inflating: recordings/4_nicolas_33.wav  \n",
      "  inflating: recordings/4_nicolas_34.wav  \n",
      "  inflating: recordings/4_nicolas_35.wav  \n",
      "  inflating: recordings/4_nicolas_36.wav  \n",
      "  inflating: recordings/4_nicolas_37.wav  \n",
      "  inflating: recordings/4_nicolas_38.wav  \n",
      "  inflating: recordings/4_nicolas_39.wav  \n",
      "  inflating: recordings/4_nicolas_4.wav  \n",
      "  inflating: recordings/4_nicolas_40.wav  \n",
      "  inflating: recordings/4_nicolas_41.wav  \n",
      "  inflating: recordings/4_nicolas_42.wav  \n",
      "  inflating: recordings/4_nicolas_43.wav  \n",
      "  inflating: recordings/4_nicolas_44.wav  \n",
      "  inflating: recordings/4_nicolas_45.wav  \n",
      "  inflating: recordings/4_nicolas_46.wav  \n",
      "  inflating: recordings/4_nicolas_47.wav  \n",
      "  inflating: recordings/4_nicolas_48.wav  \n",
      "  inflating: recordings/4_nicolas_49.wav  \n",
      "  inflating: recordings/4_nicolas_5.wav  \n",
      "  inflating: recordings/4_nicolas_6.wav  \n",
      "  inflating: recordings/4_nicolas_7.wav  \n",
      "  inflating: recordings/4_nicolas_8.wav  \n",
      "  inflating: recordings/4_nicolas_9.wav  \n",
      "  inflating: recordings/4_theo_0.wav  \n",
      "  inflating: recordings/4_theo_1.wav  \n",
      "  inflating: recordings/4_theo_10.wav  \n",
      "  inflating: recordings/4_theo_11.wav  \n",
      "  inflating: recordings/4_theo_12.wav  \n",
      "  inflating: recordings/4_theo_13.wav  \n",
      "  inflating: recordings/4_theo_14.wav  \n",
      "  inflating: recordings/4_theo_15.wav  \n",
      "  inflating: recordings/4_theo_16.wav  \n",
      "  inflating: recordings/4_theo_17.wav  \n",
      "  inflating: recordings/4_theo_18.wav  \n",
      "  inflating: recordings/4_theo_19.wav  \n",
      "  inflating: recordings/4_theo_2.wav  \n",
      "  inflating: recordings/4_theo_20.wav  \n",
      "  inflating: recordings/4_theo_21.wav  \n",
      "  inflating: recordings/4_theo_22.wav  \n",
      "  inflating: recordings/4_theo_23.wav  \n",
      "  inflating: recordings/4_theo_24.wav  \n",
      "  inflating: recordings/4_theo_25.wav  \n",
      "  inflating: recordings/4_theo_26.wav  \n",
      "  inflating: recordings/4_theo_27.wav  \n",
      "  inflating: recordings/4_theo_28.wav  \n",
      "  inflating: recordings/4_theo_29.wav  \n",
      "  inflating: recordings/4_theo_3.wav  \n",
      "  inflating: recordings/4_theo_30.wav  \n",
      "  inflating: recordings/4_theo_31.wav  \n",
      "  inflating: recordings/4_theo_32.wav  \n",
      "  inflating: recordings/4_theo_33.wav  \n",
      "  inflating: recordings/4_theo_34.wav  \n",
      "  inflating: recordings/4_theo_35.wav  \n",
      "  inflating: recordings/4_theo_36.wav  \n",
      "  inflating: recordings/4_theo_37.wav  \n",
      "  inflating: recordings/4_theo_38.wav  \n",
      "  inflating: recordings/4_theo_39.wav  \n",
      "  inflating: recordings/4_theo_4.wav  \n",
      "  inflating: recordings/4_theo_40.wav  \n",
      "  inflating: recordings/4_theo_41.wav  \n",
      "  inflating: recordings/4_theo_42.wav  \n",
      "  inflating: recordings/4_theo_43.wav  \n",
      "  inflating: recordings/4_theo_44.wav  \n",
      "  inflating: recordings/4_theo_45.wav  \n",
      "  inflating: recordings/4_theo_46.wav  \n",
      "  inflating: recordings/4_theo_47.wav  \n",
      "  inflating: recordings/4_theo_48.wav  \n",
      "  inflating: recordings/4_theo_49.wav  \n",
      "  inflating: recordings/4_theo_5.wav  \n",
      "  inflating: recordings/4_theo_6.wav  \n",
      "  inflating: recordings/4_theo_7.wav  \n",
      "  inflating: recordings/4_theo_8.wav  \n",
      "  inflating: recordings/4_theo_9.wav  \n",
      "  inflating: recordings/4_yweweler_0.wav  \n",
      "  inflating: recordings/4_yweweler_1.wav  \n",
      "  inflating: recordings/4_yweweler_10.wav  \n",
      "  inflating: recordings/4_yweweler_11.wav  \n",
      "  inflating: recordings/4_yweweler_12.wav  \n",
      "  inflating: recordings/4_yweweler_13.wav  \n",
      "  inflating: recordings/4_yweweler_14.wav  \n",
      "  inflating: recordings/4_yweweler_15.wav  \n",
      "  inflating: recordings/4_yweweler_16.wav  \n",
      "  inflating: recordings/4_yweweler_17.wav  \n",
      "  inflating: recordings/4_yweweler_18.wav  \n",
      "  inflating: recordings/4_yweweler_19.wav  \n",
      "  inflating: recordings/4_yweweler_2.wav  \n",
      "  inflating: recordings/4_yweweler_20.wav  \n",
      "  inflating: recordings/4_yweweler_21.wav  \n",
      "  inflating: recordings/4_yweweler_22.wav  \n",
      "  inflating: recordings/4_yweweler_23.wav  \n",
      "  inflating: recordings/4_yweweler_24.wav  \n",
      "  inflating: recordings/4_yweweler_25.wav  \n",
      "  inflating: recordings/4_yweweler_26.wav  \n",
      "  inflating: recordings/4_yweweler_27.wav  \n",
      "  inflating: recordings/4_yweweler_28.wav  \n",
      "  inflating: recordings/4_yweweler_29.wav  \n",
      "  inflating: recordings/4_yweweler_3.wav  \n",
      "  inflating: recordings/4_yweweler_30.wav  \n",
      "  inflating: recordings/4_yweweler_31.wav  \n",
      "  inflating: recordings/4_yweweler_32.wav  \n",
      "  inflating: recordings/4_yweweler_33.wav  \n",
      "  inflating: recordings/4_yweweler_34.wav  \n",
      "  inflating: recordings/4_yweweler_35.wav  \n",
      "  inflating: recordings/4_yweweler_36.wav  \n",
      "  inflating: recordings/4_yweweler_37.wav  \n",
      "  inflating: recordings/4_yweweler_38.wav  \n",
      "  inflating: recordings/4_yweweler_39.wav  \n",
      "  inflating: recordings/4_yweweler_4.wav  \n",
      "  inflating: recordings/4_yweweler_40.wav  \n",
      "  inflating: recordings/4_yweweler_41.wav  \n",
      "  inflating: recordings/4_yweweler_42.wav  \n",
      "  inflating: recordings/4_yweweler_43.wav  \n",
      "  inflating: recordings/4_yweweler_44.wav  \n",
      "  inflating: recordings/4_yweweler_45.wav  \n",
      "  inflating: recordings/4_yweweler_46.wav  \n",
      "  inflating: recordings/4_yweweler_47.wav  \n",
      "  inflating: recordings/4_yweweler_48.wav  \n",
      "  inflating: recordings/4_yweweler_49.wav  \n",
      "  inflating: recordings/4_yweweler_5.wav  \n",
      "  inflating: recordings/4_yweweler_6.wav  \n",
      "  inflating: recordings/4_yweweler_7.wav  \n",
      "  inflating: recordings/4_yweweler_8.wav  \n",
      "  inflating: recordings/4_yweweler_9.wav  \n",
      "  inflating: recordings/5_jackson_0.wav  \n",
      "  inflating: recordings/5_jackson_1.wav  \n",
      "  inflating: recordings/5_jackson_10.wav  \n",
      "  inflating: recordings/5_jackson_11.wav  \n",
      "  inflating: recordings/5_jackson_12.wav  \n",
      "  inflating: recordings/5_jackson_13.wav  \n",
      "  inflating: recordings/5_jackson_14.wav  \n",
      "  inflating: recordings/5_jackson_15.wav  \n",
      "  inflating: recordings/5_jackson_16.wav  \n",
      "  inflating: recordings/5_jackson_17.wav  \n",
      "  inflating: recordings/5_jackson_18.wav  \n",
      "  inflating: recordings/5_jackson_19.wav  \n",
      "  inflating: recordings/5_jackson_2.wav  \n",
      "  inflating: recordings/5_jackson_20.wav  \n",
      "  inflating: recordings/5_jackson_21.wav  \n",
      "  inflating: recordings/5_jackson_22.wav  \n",
      "  inflating: recordings/5_jackson_23.wav  \n",
      "  inflating: recordings/5_jackson_24.wav  \n",
      "  inflating: recordings/5_jackson_25.wav  \n",
      "  inflating: recordings/5_jackson_26.wav  \n",
      "  inflating: recordings/5_jackson_27.wav  \n",
      "  inflating: recordings/5_jackson_28.wav  \n",
      "  inflating: recordings/5_jackson_29.wav  \n",
      "  inflating: recordings/5_jackson_3.wav  \n",
      "  inflating: recordings/5_jackson_30.wav  \n",
      "  inflating: recordings/5_jackson_31.wav  \n",
      "  inflating: recordings/5_jackson_32.wav  \n",
      "  inflating: recordings/5_jackson_33.wav  \n",
      "  inflating: recordings/5_jackson_34.wav  \n",
      "  inflating: recordings/5_jackson_35.wav  \n",
      "  inflating: recordings/5_jackson_36.wav  \n",
      "  inflating: recordings/5_jackson_37.wav  \n",
      "  inflating: recordings/5_jackson_38.wav  \n",
      "  inflating: recordings/5_jackson_39.wav  \n",
      "  inflating: recordings/5_jackson_4.wav  \n",
      "  inflating: recordings/5_jackson_40.wav  \n",
      "  inflating: recordings/5_jackson_41.wav  \n",
      "  inflating: recordings/5_jackson_42.wav  \n",
      "  inflating: recordings/5_jackson_43.wav  \n",
      "  inflating: recordings/5_jackson_44.wav  \n",
      "  inflating: recordings/5_jackson_45.wav  \n",
      "  inflating: recordings/5_jackson_46.wav  \n",
      "  inflating: recordings/5_jackson_47.wav  \n",
      "  inflating: recordings/5_jackson_48.wav  \n",
      "  inflating: recordings/5_jackson_49.wav  \n",
      "  inflating: recordings/5_jackson_5.wav  \n",
      "  inflating: recordings/5_jackson_6.wav  \n",
      "  inflating: recordings/5_jackson_7.wav  \n",
      "  inflating: recordings/5_jackson_8.wav  \n",
      "  inflating: recordings/5_jackson_9.wav  \n",
      "  inflating: recordings/5_nicolas_0.wav  \n",
      "  inflating: recordings/5_nicolas_1.wav  \n",
      "  inflating: recordings/5_nicolas_10.wav  \n",
      "  inflating: recordings/5_nicolas_11.wav  \n",
      "  inflating: recordings/5_nicolas_12.wav  \n",
      "  inflating: recordings/5_nicolas_13.wav  \n",
      "  inflating: recordings/5_nicolas_14.wav  \n",
      "  inflating: recordings/5_nicolas_15.wav  \n",
      "  inflating: recordings/5_nicolas_16.wav  \n",
      "  inflating: recordings/5_nicolas_17.wav  \n",
      "  inflating: recordings/5_nicolas_18.wav  \n",
      "  inflating: recordings/5_nicolas_19.wav  \n",
      "  inflating: recordings/5_nicolas_2.wav  \n",
      "  inflating: recordings/5_nicolas_20.wav  \n",
      "  inflating: recordings/5_nicolas_21.wav  \n",
      "  inflating: recordings/5_nicolas_22.wav  \n",
      "  inflating: recordings/5_nicolas_23.wav  \n",
      "  inflating: recordings/5_nicolas_24.wav  \n",
      "  inflating: recordings/5_nicolas_25.wav  \n",
      "  inflating: recordings/5_nicolas_26.wav  \n",
      "  inflating: recordings/5_nicolas_27.wav  \n",
      "  inflating: recordings/5_nicolas_28.wav  \n",
      "  inflating: recordings/5_nicolas_29.wav  \n",
      "  inflating: recordings/5_nicolas_3.wav  \n",
      "  inflating: recordings/5_nicolas_30.wav  \n",
      "  inflating: recordings/5_nicolas_31.wav  \n",
      "  inflating: recordings/5_nicolas_32.wav  \n",
      "  inflating: recordings/5_nicolas_33.wav  \n",
      "  inflating: recordings/5_nicolas_34.wav  \n",
      "  inflating: recordings/5_nicolas_35.wav  \n",
      "  inflating: recordings/5_nicolas_36.wav  \n",
      "  inflating: recordings/5_nicolas_37.wav  \n",
      "  inflating: recordings/5_nicolas_38.wav  \n",
      "  inflating: recordings/5_nicolas_39.wav  \n",
      "  inflating: recordings/5_nicolas_4.wav  \n",
      "  inflating: recordings/5_nicolas_40.wav  \n",
      "  inflating: recordings/5_nicolas_41.wav  \n",
      "  inflating: recordings/5_nicolas_42.wav  \n",
      "  inflating: recordings/5_nicolas_43.wav  \n",
      "  inflating: recordings/5_nicolas_44.wav  \n",
      "  inflating: recordings/5_nicolas_45.wav  \n",
      "  inflating: recordings/5_nicolas_46.wav  \n",
      "  inflating: recordings/5_nicolas_47.wav  \n",
      "  inflating: recordings/5_nicolas_48.wav  \n",
      "  inflating: recordings/5_nicolas_49.wav  \n",
      "  inflating: recordings/5_nicolas_5.wav  \n",
      "  inflating: recordings/5_nicolas_6.wav  \n",
      "  inflating: recordings/5_nicolas_7.wav  \n",
      "  inflating: recordings/5_nicolas_8.wav  \n",
      "  inflating: recordings/5_nicolas_9.wav  \n",
      "  inflating: recordings/5_theo_0.wav  \n",
      "  inflating: recordings/5_theo_1.wav  \n",
      "  inflating: recordings/5_theo_10.wav  \n",
      "  inflating: recordings/5_theo_11.wav  \n",
      "  inflating: recordings/5_theo_12.wav  \n",
      "  inflating: recordings/5_theo_13.wav  \n",
      "  inflating: recordings/5_theo_14.wav  \n",
      "  inflating: recordings/5_theo_15.wav  \n",
      "  inflating: recordings/5_theo_16.wav  \n",
      "  inflating: recordings/5_theo_17.wav  \n",
      "  inflating: recordings/5_theo_18.wav  \n",
      "  inflating: recordings/5_theo_19.wav  \n",
      "  inflating: recordings/5_theo_2.wav  \n",
      "  inflating: recordings/5_theo_20.wav  \n",
      "  inflating: recordings/5_theo_21.wav  \n",
      "  inflating: recordings/5_theo_22.wav  \n",
      "  inflating: recordings/5_theo_23.wav  \n",
      "  inflating: recordings/5_theo_24.wav  \n",
      "  inflating: recordings/5_theo_25.wav  \n",
      "  inflating: recordings/5_theo_26.wav  \n",
      "  inflating: recordings/5_theo_27.wav  \n",
      "  inflating: recordings/5_theo_28.wav  \n",
      "  inflating: recordings/5_theo_29.wav  \n",
      "  inflating: recordings/5_theo_3.wav  \n",
      "  inflating: recordings/5_theo_30.wav  \n",
      "  inflating: recordings/5_theo_31.wav  \n",
      "  inflating: recordings/5_theo_32.wav  \n",
      "  inflating: recordings/5_theo_33.wav  \n",
      "  inflating: recordings/5_theo_34.wav  \n",
      "  inflating: recordings/5_theo_35.wav  \n",
      "  inflating: recordings/5_theo_36.wav  \n",
      "  inflating: recordings/5_theo_37.wav  \n",
      "  inflating: recordings/5_theo_38.wav  \n",
      "  inflating: recordings/5_theo_39.wav  \n",
      "  inflating: recordings/5_theo_4.wav  \n",
      "  inflating: recordings/5_theo_40.wav  \n",
      "  inflating: recordings/5_theo_41.wav  \n",
      "  inflating: recordings/5_theo_42.wav  \n",
      "  inflating: recordings/5_theo_43.wav  \n",
      "  inflating: recordings/5_theo_44.wav  \n",
      "  inflating: recordings/5_theo_45.wav  \n",
      "  inflating: recordings/5_theo_46.wav  \n",
      "  inflating: recordings/5_theo_47.wav  \n",
      "  inflating: recordings/5_theo_48.wav  \n",
      "  inflating: recordings/5_theo_49.wav  \n",
      "  inflating: recordings/5_theo_5.wav  \n",
      "  inflating: recordings/5_theo_6.wav  \n",
      "  inflating: recordings/5_theo_7.wav  \n",
      "  inflating: recordings/5_theo_8.wav  \n",
      "  inflating: recordings/5_theo_9.wav  \n",
      "  inflating: recordings/5_yweweler_0.wav  \n",
      "  inflating: recordings/5_yweweler_1.wav  \n",
      "  inflating: recordings/5_yweweler_10.wav  \n",
      "  inflating: recordings/5_yweweler_11.wav  \n",
      "  inflating: recordings/5_yweweler_12.wav  \n",
      "  inflating: recordings/5_yweweler_13.wav  \n",
      "  inflating: recordings/5_yweweler_14.wav  \n",
      "  inflating: recordings/5_yweweler_15.wav  \n",
      "  inflating: recordings/5_yweweler_16.wav  \n",
      "  inflating: recordings/5_yweweler_17.wav  \n",
      "  inflating: recordings/5_yweweler_18.wav  \n",
      "  inflating: recordings/5_yweweler_19.wav  \n",
      "  inflating: recordings/5_yweweler_2.wav  \n",
      "  inflating: recordings/5_yweweler_20.wav  \n",
      "  inflating: recordings/5_yweweler_21.wav  \n",
      "  inflating: recordings/5_yweweler_22.wav  \n",
      "  inflating: recordings/5_yweweler_23.wav  \n",
      "  inflating: recordings/5_yweweler_24.wav  \n",
      "  inflating: recordings/5_yweweler_25.wav  \n",
      "  inflating: recordings/5_yweweler_26.wav  \n",
      "  inflating: recordings/5_yweweler_27.wav  \n",
      "  inflating: recordings/5_yweweler_28.wav  \n",
      "  inflating: recordings/5_yweweler_29.wav  \n",
      "  inflating: recordings/5_yweweler_3.wav  \n",
      "  inflating: recordings/5_yweweler_30.wav  \n",
      "  inflating: recordings/5_yweweler_31.wav  \n",
      "  inflating: recordings/5_yweweler_32.wav  \n",
      "  inflating: recordings/5_yweweler_33.wav  \n",
      "  inflating: recordings/5_yweweler_34.wav  \n",
      "  inflating: recordings/5_yweweler_35.wav  \n",
      "  inflating: recordings/5_yweweler_36.wav  \n",
      "  inflating: recordings/5_yweweler_37.wav  \n",
      "  inflating: recordings/5_yweweler_38.wav  \n",
      "  inflating: recordings/5_yweweler_39.wav  \n",
      "  inflating: recordings/5_yweweler_4.wav  \n",
      "  inflating: recordings/5_yweweler_40.wav  \n",
      "  inflating: recordings/5_yweweler_41.wav  \n",
      "  inflating: recordings/5_yweweler_42.wav  \n",
      "  inflating: recordings/5_yweweler_43.wav  \n",
      "  inflating: recordings/5_yweweler_44.wav  \n",
      "  inflating: recordings/5_yweweler_45.wav  \n",
      "  inflating: recordings/5_yweweler_46.wav  \n",
      "  inflating: recordings/5_yweweler_47.wav  \n",
      "  inflating: recordings/5_yweweler_48.wav  \n",
      "  inflating: recordings/5_yweweler_49.wav  \n",
      "  inflating: recordings/5_yweweler_5.wav  \n",
      "  inflating: recordings/5_yweweler_6.wav  \n",
      "  inflating: recordings/5_yweweler_7.wav  \n",
      "  inflating: recordings/5_yweweler_8.wav  \n",
      "  inflating: recordings/5_yweweler_9.wav  \n",
      "  inflating: recordings/6_jackson_0.wav  \n",
      "  inflating: recordings/6_jackson_1.wav  \n",
      "  inflating: recordings/6_jackson_10.wav  \n",
      "  inflating: recordings/6_jackson_11.wav  \n",
      "  inflating: recordings/6_jackson_12.wav  \n",
      "  inflating: recordings/6_jackson_13.wav  \n",
      "  inflating: recordings/6_jackson_14.wav  \n",
      "  inflating: recordings/6_jackson_15.wav  \n",
      "  inflating: recordings/6_jackson_16.wav  \n",
      "  inflating: recordings/6_jackson_17.wav  \n",
      "  inflating: recordings/6_jackson_18.wav  \n",
      "  inflating: recordings/6_jackson_19.wav  \n",
      "  inflating: recordings/6_jackson_2.wav  \n",
      "  inflating: recordings/6_jackson_20.wav  \n",
      "  inflating: recordings/6_jackson_21.wav  \n",
      "  inflating: recordings/6_jackson_22.wav  \n",
      "  inflating: recordings/6_jackson_23.wav  \n",
      "  inflating: recordings/6_jackson_24.wav  \n",
      "  inflating: recordings/6_jackson_25.wav  \n",
      "  inflating: recordings/6_jackson_26.wav  \n",
      "  inflating: recordings/6_jackson_27.wav  \n",
      "  inflating: recordings/6_jackson_28.wav  \n",
      "  inflating: recordings/6_jackson_29.wav  \n",
      "  inflating: recordings/6_jackson_3.wav  \n",
      "  inflating: recordings/6_jackson_30.wav  \n",
      "  inflating: recordings/6_jackson_31.wav  \n",
      "  inflating: recordings/6_jackson_32.wav  \n",
      "  inflating: recordings/6_jackson_33.wav  \n",
      "  inflating: recordings/6_jackson_34.wav  \n",
      "  inflating: recordings/6_jackson_35.wav  \n",
      "  inflating: recordings/6_jackson_36.wav  \n",
      "  inflating: recordings/6_jackson_37.wav  \n",
      "  inflating: recordings/6_jackson_38.wav  \n",
      "  inflating: recordings/6_jackson_39.wav  \n",
      "  inflating: recordings/6_jackson_4.wav  \n",
      "  inflating: recordings/6_jackson_40.wav  \n",
      "  inflating: recordings/6_jackson_41.wav  \n",
      "  inflating: recordings/6_jackson_42.wav  \n",
      "  inflating: recordings/6_jackson_43.wav  \n",
      "  inflating: recordings/6_jackson_44.wav  \n",
      "  inflating: recordings/6_jackson_45.wav  \n",
      "  inflating: recordings/6_jackson_46.wav  \n",
      "  inflating: recordings/6_jackson_47.wav  \n",
      "  inflating: recordings/6_jackson_48.wav  \n",
      "  inflating: recordings/6_jackson_49.wav  \n",
      "  inflating: recordings/6_jackson_5.wav  \n",
      "  inflating: recordings/6_jackson_6.wav  \n",
      "  inflating: recordings/6_jackson_7.wav  \n",
      "  inflating: recordings/6_jackson_8.wav  \n",
      "  inflating: recordings/6_jackson_9.wav  \n",
      "  inflating: recordings/6_nicolas_0.wav  \n",
      "  inflating: recordings/6_nicolas_1.wav  \n",
      "  inflating: recordings/6_nicolas_10.wav  \n",
      "  inflating: recordings/6_nicolas_11.wav  \n",
      "  inflating: recordings/6_nicolas_12.wav  \n",
      "  inflating: recordings/6_nicolas_13.wav  \n",
      "  inflating: recordings/6_nicolas_14.wav  \n",
      "  inflating: recordings/6_nicolas_15.wav  \n",
      "  inflating: recordings/6_nicolas_16.wav  \n",
      "  inflating: recordings/6_nicolas_17.wav  \n",
      "  inflating: recordings/6_nicolas_18.wav  \n",
      "  inflating: recordings/6_nicolas_19.wav  \n",
      "  inflating: recordings/6_nicolas_2.wav  \n",
      "  inflating: recordings/6_nicolas_20.wav  \n",
      "  inflating: recordings/6_nicolas_21.wav  \n",
      "  inflating: recordings/6_nicolas_22.wav  \n",
      "  inflating: recordings/6_nicolas_23.wav  \n",
      "  inflating: recordings/6_nicolas_24.wav  \n",
      "  inflating: recordings/6_nicolas_25.wav  \n",
      "  inflating: recordings/6_nicolas_26.wav  \n",
      "  inflating: recordings/6_nicolas_27.wav  \n",
      "  inflating: recordings/6_nicolas_28.wav  \n",
      "  inflating: recordings/6_nicolas_29.wav  \n",
      "  inflating: recordings/6_nicolas_3.wav  \n",
      "  inflating: recordings/6_nicolas_30.wav  \n",
      "  inflating: recordings/6_nicolas_31.wav  \n",
      "  inflating: recordings/6_nicolas_32.wav  \n",
      "  inflating: recordings/6_nicolas_33.wav  \n",
      "  inflating: recordings/6_nicolas_34.wav  \n",
      "  inflating: recordings/6_nicolas_35.wav  \n",
      "  inflating: recordings/6_nicolas_36.wav  \n",
      "  inflating: recordings/6_nicolas_37.wav  \n",
      "  inflating: recordings/6_nicolas_38.wav  \n",
      "  inflating: recordings/6_nicolas_39.wav  \n",
      "  inflating: recordings/6_nicolas_4.wav  \n",
      "  inflating: recordings/6_nicolas_40.wav  \n",
      "  inflating: recordings/6_nicolas_41.wav  \n",
      "  inflating: recordings/6_nicolas_42.wav  \n",
      "  inflating: recordings/6_nicolas_43.wav  \n",
      "  inflating: recordings/6_nicolas_44.wav  \n",
      "  inflating: recordings/6_nicolas_45.wav  \n",
      "  inflating: recordings/6_nicolas_46.wav  \n",
      "  inflating: recordings/6_nicolas_47.wav  \n",
      "  inflating: recordings/6_nicolas_48.wav  \n",
      "  inflating: recordings/6_nicolas_49.wav  \n",
      "  inflating: recordings/6_nicolas_5.wav  \n",
      "  inflating: recordings/6_nicolas_6.wav  \n",
      "  inflating: recordings/6_nicolas_7.wav  \n",
      "  inflating: recordings/6_nicolas_8.wav  \n",
      "  inflating: recordings/6_nicolas_9.wav  \n",
      "  inflating: recordings/6_theo_0.wav  \n",
      "  inflating: recordings/6_theo_1.wav  \n",
      "  inflating: recordings/6_theo_10.wav  \n",
      "  inflating: recordings/6_theo_11.wav  \n",
      "  inflating: recordings/6_theo_12.wav  \n",
      "  inflating: recordings/6_theo_13.wav  \n",
      "  inflating: recordings/6_theo_14.wav  \n",
      "  inflating: recordings/6_theo_15.wav  \n",
      "  inflating: recordings/6_theo_16.wav  \n",
      "  inflating: recordings/6_theo_17.wav  \n",
      "  inflating: recordings/6_theo_18.wav  \n",
      "  inflating: recordings/6_theo_19.wav  \n",
      "  inflating: recordings/6_theo_2.wav  \n",
      "  inflating: recordings/6_theo_20.wav  \n",
      "  inflating: recordings/6_theo_21.wav  \n",
      "  inflating: recordings/6_theo_22.wav  \n",
      "  inflating: recordings/6_theo_23.wav  \n",
      "  inflating: recordings/6_theo_24.wav  \n",
      "  inflating: recordings/6_theo_25.wav  \n",
      "  inflating: recordings/6_theo_26.wav  \n",
      "  inflating: recordings/6_theo_27.wav  \n",
      "  inflating: recordings/6_theo_28.wav  \n",
      "  inflating: recordings/6_theo_29.wav  \n",
      "  inflating: recordings/6_theo_3.wav  \n",
      "  inflating: recordings/6_theo_30.wav  \n",
      "  inflating: recordings/6_theo_31.wav  \n",
      "  inflating: recordings/6_theo_32.wav  \n",
      "  inflating: recordings/6_theo_33.wav  \n",
      "  inflating: recordings/6_theo_34.wav  \n",
      "  inflating: recordings/6_theo_35.wav  \n",
      "  inflating: recordings/6_theo_36.wav  \n",
      "  inflating: recordings/6_theo_37.wav  \n",
      "  inflating: recordings/6_theo_38.wav  \n",
      "  inflating: recordings/6_theo_39.wav  \n",
      "  inflating: recordings/6_theo_4.wav  \n",
      "  inflating: recordings/6_theo_40.wav  \n",
      "  inflating: recordings/6_theo_41.wav  \n",
      "  inflating: recordings/6_theo_42.wav  \n",
      "  inflating: recordings/6_theo_43.wav  \n",
      "  inflating: recordings/6_theo_44.wav  \n",
      "  inflating: recordings/6_theo_45.wav  \n",
      "  inflating: recordings/6_theo_46.wav  \n",
      "  inflating: recordings/6_theo_47.wav  \n",
      "  inflating: recordings/6_theo_48.wav  \n",
      "  inflating: recordings/6_theo_49.wav  \n",
      "  inflating: recordings/6_theo_5.wav  \n",
      "  inflating: recordings/6_theo_6.wav  \n",
      "  inflating: recordings/6_theo_7.wav  \n",
      "  inflating: recordings/6_theo_8.wav  \n",
      "  inflating: recordings/6_theo_9.wav  \n",
      "  inflating: recordings/6_yweweler_0.wav  \n",
      "  inflating: recordings/6_yweweler_1.wav  \n",
      "  inflating: recordings/6_yweweler_10.wav  \n",
      "  inflating: recordings/6_yweweler_11.wav  \n",
      "  inflating: recordings/6_yweweler_12.wav  \n",
      "  inflating: recordings/6_yweweler_13.wav  \n",
      "  inflating: recordings/6_yweweler_14.wav  \n",
      "  inflating: recordings/6_yweweler_15.wav  \n",
      "  inflating: recordings/6_yweweler_16.wav  \n",
      "  inflating: recordings/6_yweweler_17.wav  \n",
      "  inflating: recordings/6_yweweler_18.wav  \n",
      "  inflating: recordings/6_yweweler_19.wav  \n",
      "  inflating: recordings/6_yweweler_2.wav  \n",
      "  inflating: recordings/6_yweweler_20.wav  \n",
      "  inflating: recordings/6_yweweler_21.wav  \n",
      "  inflating: recordings/6_yweweler_22.wav  \n",
      "  inflating: recordings/6_yweweler_23.wav  \n",
      "  inflating: recordings/6_yweweler_24.wav  \n",
      "  inflating: recordings/6_yweweler_25.wav  \n",
      "  inflating: recordings/6_yweweler_26.wav  \n",
      "  inflating: recordings/6_yweweler_27.wav  \n",
      "  inflating: recordings/6_yweweler_28.wav  \n",
      "  inflating: recordings/6_yweweler_29.wav  \n",
      "  inflating: recordings/6_yweweler_3.wav  \n",
      "  inflating: recordings/6_yweweler_30.wav  \n",
      "  inflating: recordings/6_yweweler_31.wav  \n",
      "  inflating: recordings/6_yweweler_32.wav  \n",
      "  inflating: recordings/6_yweweler_33.wav  \n",
      "  inflating: recordings/6_yweweler_34.wav  \n",
      "  inflating: recordings/6_yweweler_35.wav  \n",
      "  inflating: recordings/6_yweweler_36.wav  \n",
      "  inflating: recordings/6_yweweler_37.wav  \n",
      "  inflating: recordings/6_yweweler_38.wav  \n",
      "  inflating: recordings/6_yweweler_39.wav  \n",
      "  inflating: recordings/6_yweweler_4.wav  \n",
      "  inflating: recordings/6_yweweler_40.wav  \n",
      "  inflating: recordings/6_yweweler_41.wav  \n",
      "  inflating: recordings/6_yweweler_42.wav  \n",
      "  inflating: recordings/6_yweweler_43.wav  \n",
      "  inflating: recordings/6_yweweler_44.wav  \n",
      "  inflating: recordings/6_yweweler_45.wav  \n",
      "  inflating: recordings/6_yweweler_46.wav  \n",
      "  inflating: recordings/6_yweweler_47.wav  \n",
      "  inflating: recordings/6_yweweler_48.wav  \n",
      "  inflating: recordings/6_yweweler_49.wav  \n",
      "  inflating: recordings/6_yweweler_5.wav  \n",
      "  inflating: recordings/6_yweweler_6.wav  \n",
      "  inflating: recordings/6_yweweler_7.wav  \n",
      "  inflating: recordings/6_yweweler_8.wav  \n",
      "  inflating: recordings/6_yweweler_9.wav  \n",
      "  inflating: recordings/7_jackson_0.wav  \n",
      "  inflating: recordings/7_jackson_1.wav  \n",
      "  inflating: recordings/7_jackson_10.wav  \n",
      "  inflating: recordings/7_jackson_11.wav  \n",
      "  inflating: recordings/7_jackson_12.wav  \n",
      "  inflating: recordings/7_jackson_13.wav  \n",
      "  inflating: recordings/7_jackson_14.wav  \n",
      "  inflating: recordings/7_jackson_15.wav  \n",
      "  inflating: recordings/7_jackson_16.wav  \n",
      "  inflating: recordings/7_jackson_17.wav  \n",
      "  inflating: recordings/7_jackson_18.wav  \n",
      "  inflating: recordings/7_jackson_19.wav  \n",
      "  inflating: recordings/7_jackson_2.wav  \n",
      "  inflating: recordings/7_jackson_20.wav  \n",
      "  inflating: recordings/7_jackson_21.wav  \n",
      "  inflating: recordings/7_jackson_22.wav  \n",
      "  inflating: recordings/7_jackson_23.wav  \n",
      "  inflating: recordings/7_jackson_24.wav  \n",
      "  inflating: recordings/7_jackson_25.wav  \n",
      "  inflating: recordings/7_jackson_26.wav  \n",
      "  inflating: recordings/7_jackson_27.wav  \n",
      "  inflating: recordings/7_jackson_28.wav  \n",
      "  inflating: recordings/7_jackson_29.wav  \n",
      "  inflating: recordings/7_jackson_3.wav  \n",
      "  inflating: recordings/7_jackson_30.wav  \n",
      "  inflating: recordings/7_jackson_31.wav  \n",
      "  inflating: recordings/7_jackson_32.wav  \n",
      "  inflating: recordings/7_jackson_33.wav  \n",
      "  inflating: recordings/7_jackson_34.wav  \n",
      "  inflating: recordings/7_jackson_35.wav  \n",
      "  inflating: recordings/7_jackson_36.wav  \n",
      "  inflating: recordings/7_jackson_37.wav  \n",
      "  inflating: recordings/7_jackson_38.wav  \n",
      "  inflating: recordings/7_jackson_39.wav  \n",
      "  inflating: recordings/7_jackson_4.wav  \n",
      "  inflating: recordings/7_jackson_40.wav  \n",
      "  inflating: recordings/7_jackson_41.wav  \n",
      "  inflating: recordings/7_jackson_42.wav  \n",
      "  inflating: recordings/7_jackson_43.wav  \n",
      "  inflating: recordings/7_jackson_44.wav  \n",
      "  inflating: recordings/7_jackson_45.wav  \n",
      "  inflating: recordings/7_jackson_46.wav  \n",
      "  inflating: recordings/7_jackson_47.wav  \n",
      "  inflating: recordings/7_jackson_48.wav  \n",
      "  inflating: recordings/7_jackson_49.wav  \n",
      "  inflating: recordings/7_jackson_5.wav  \n",
      "  inflating: recordings/7_jackson_6.wav  \n",
      "  inflating: recordings/7_jackson_7.wav  \n",
      "  inflating: recordings/7_jackson_8.wav  \n",
      "  inflating: recordings/7_jackson_9.wav  \n",
      "  inflating: recordings/7_nicolas_0.wav  \n",
      "  inflating: recordings/7_nicolas_1.wav  \n",
      "  inflating: recordings/7_nicolas_10.wav  \n",
      "  inflating: recordings/7_nicolas_11.wav  \n",
      "  inflating: recordings/7_nicolas_12.wav  \n",
      "  inflating: recordings/7_nicolas_13.wav  \n",
      "  inflating: recordings/7_nicolas_14.wav  \n",
      "  inflating: recordings/7_nicolas_15.wav  \n",
      "  inflating: recordings/7_nicolas_16.wav  \n",
      "  inflating: recordings/7_nicolas_17.wav  \n",
      "  inflating: recordings/7_nicolas_18.wav  \n",
      "  inflating: recordings/7_nicolas_19.wav  \n",
      "  inflating: recordings/7_nicolas_2.wav  \n",
      "  inflating: recordings/7_nicolas_20.wav  \n",
      "  inflating: recordings/7_nicolas_21.wav  \n",
      "  inflating: recordings/7_nicolas_22.wav  \n",
      "  inflating: recordings/7_nicolas_23.wav  \n",
      "  inflating: recordings/7_nicolas_24.wav  \n",
      "  inflating: recordings/7_nicolas_25.wav  \n",
      "  inflating: recordings/7_nicolas_26.wav  \n",
      "  inflating: recordings/7_nicolas_27.wav  \n",
      "  inflating: recordings/7_nicolas_28.wav  \n",
      "  inflating: recordings/7_nicolas_29.wav  \n",
      "  inflating: recordings/7_nicolas_3.wav  \n",
      "  inflating: recordings/7_nicolas_30.wav  \n",
      "  inflating: recordings/7_nicolas_31.wav  \n",
      "  inflating: recordings/7_nicolas_32.wav  \n",
      "  inflating: recordings/7_nicolas_33.wav  \n",
      "  inflating: recordings/7_nicolas_34.wav  \n",
      "  inflating: recordings/7_nicolas_35.wav  \n",
      "  inflating: recordings/7_nicolas_36.wav  \n",
      "  inflating: recordings/7_nicolas_37.wav  \n",
      "  inflating: recordings/7_nicolas_38.wav  \n",
      "  inflating: recordings/7_nicolas_39.wav  \n",
      "  inflating: recordings/7_nicolas_4.wav  \n",
      "  inflating: recordings/7_nicolas_40.wav  \n",
      "  inflating: recordings/7_nicolas_41.wav  \n",
      "  inflating: recordings/7_nicolas_42.wav  \n",
      "  inflating: recordings/7_nicolas_43.wav  \n",
      "  inflating: recordings/7_nicolas_44.wav  \n",
      "  inflating: recordings/7_nicolas_45.wav  \n",
      "  inflating: recordings/7_nicolas_46.wav  \n",
      "  inflating: recordings/7_nicolas_47.wav  \n",
      "  inflating: recordings/7_nicolas_48.wav  \n",
      "  inflating: recordings/7_nicolas_49.wav  \n",
      "  inflating: recordings/7_nicolas_5.wav  \n",
      "  inflating: recordings/7_nicolas_6.wav  \n",
      "  inflating: recordings/7_nicolas_7.wav  \n",
      "  inflating: recordings/7_nicolas_8.wav  \n",
      "  inflating: recordings/7_nicolas_9.wav  \n",
      "  inflating: recordings/7_theo_0.wav  \n",
      "  inflating: recordings/7_theo_1.wav  \n",
      "  inflating: recordings/7_theo_10.wav  \n",
      "  inflating: recordings/7_theo_11.wav  \n",
      "  inflating: recordings/7_theo_12.wav  \n",
      "  inflating: recordings/7_theo_13.wav  \n",
      "  inflating: recordings/7_theo_14.wav  \n",
      "  inflating: recordings/7_theo_15.wav  \n",
      "  inflating: recordings/7_theo_16.wav  \n",
      "  inflating: recordings/7_theo_17.wav  \n",
      "  inflating: recordings/7_theo_18.wav  \n",
      "  inflating: recordings/7_theo_19.wav  \n",
      "  inflating: recordings/7_theo_2.wav  \n",
      "  inflating: recordings/7_theo_20.wav  \n",
      "  inflating: recordings/7_theo_21.wav  \n",
      "  inflating: recordings/7_theo_22.wav  \n",
      "  inflating: recordings/7_theo_23.wav  \n",
      "  inflating: recordings/7_theo_24.wav  \n",
      "  inflating: recordings/7_theo_25.wav  \n",
      "  inflating: recordings/7_theo_26.wav  \n",
      "  inflating: recordings/7_theo_27.wav  \n",
      "  inflating: recordings/7_theo_28.wav  \n",
      "  inflating: recordings/7_theo_29.wav  \n",
      "  inflating: recordings/7_theo_3.wav  \n",
      "  inflating: recordings/7_theo_30.wav  \n",
      "  inflating: recordings/7_theo_31.wav  \n",
      "  inflating: recordings/7_theo_32.wav  \n",
      "  inflating: recordings/7_theo_33.wav  \n",
      "  inflating: recordings/7_theo_34.wav  \n",
      "  inflating: recordings/7_theo_35.wav  \n",
      "  inflating: recordings/7_theo_36.wav  \n",
      "  inflating: recordings/7_theo_37.wav  \n",
      "  inflating: recordings/7_theo_38.wav  \n",
      "  inflating: recordings/7_theo_39.wav  \n",
      "  inflating: recordings/7_theo_4.wav  \n",
      "  inflating: recordings/7_theo_40.wav  \n",
      "  inflating: recordings/7_theo_41.wav  \n",
      "  inflating: recordings/7_theo_42.wav  \n",
      "  inflating: recordings/7_theo_43.wav  \n",
      "  inflating: recordings/7_theo_44.wav  \n",
      "  inflating: recordings/7_theo_45.wav  \n",
      "  inflating: recordings/7_theo_46.wav  \n",
      "  inflating: recordings/7_theo_47.wav  \n",
      "  inflating: recordings/7_theo_48.wav  \n",
      "  inflating: recordings/7_theo_49.wav  \n",
      "  inflating: recordings/7_theo_5.wav  \n",
      "  inflating: recordings/7_theo_6.wav  \n",
      "  inflating: recordings/7_theo_7.wav  \n",
      "  inflating: recordings/7_theo_8.wav  \n",
      "  inflating: recordings/7_theo_9.wav  \n",
      "  inflating: recordings/7_yweweler_0.wav  \n",
      "  inflating: recordings/7_yweweler_1.wav  \n",
      "  inflating: recordings/7_yweweler_10.wav  \n",
      "  inflating: recordings/7_yweweler_11.wav  \n",
      "  inflating: recordings/7_yweweler_12.wav  \n",
      "  inflating: recordings/7_yweweler_13.wav  \n",
      "  inflating: recordings/7_yweweler_14.wav  \n",
      "  inflating: recordings/7_yweweler_15.wav  \n",
      "  inflating: recordings/7_yweweler_16.wav  \n",
      "  inflating: recordings/7_yweweler_17.wav  \n",
      "  inflating: recordings/7_yweweler_18.wav  \n",
      "  inflating: recordings/7_yweweler_19.wav  \n",
      "  inflating: recordings/7_yweweler_2.wav  \n",
      "  inflating: recordings/7_yweweler_20.wav  \n",
      "  inflating: recordings/7_yweweler_21.wav  \n",
      "  inflating: recordings/7_yweweler_22.wav  \n",
      "  inflating: recordings/7_yweweler_23.wav  \n",
      "  inflating: recordings/7_yweweler_24.wav  \n",
      "  inflating: recordings/7_yweweler_25.wav  \n",
      "  inflating: recordings/7_yweweler_26.wav  \n",
      "  inflating: recordings/7_yweweler_27.wav  \n",
      "  inflating: recordings/7_yweweler_28.wav  \n",
      "  inflating: recordings/7_yweweler_29.wav  \n",
      "  inflating: recordings/7_yweweler_3.wav  \n",
      "  inflating: recordings/7_yweweler_30.wav  \n",
      "  inflating: recordings/7_yweweler_31.wav  \n",
      "  inflating: recordings/7_yweweler_32.wav  \n",
      "  inflating: recordings/7_yweweler_33.wav  \n",
      "  inflating: recordings/7_yweweler_34.wav  \n",
      "  inflating: recordings/7_yweweler_35.wav  \n",
      "  inflating: recordings/7_yweweler_36.wav  \n",
      "  inflating: recordings/7_yweweler_37.wav  \n",
      "  inflating: recordings/7_yweweler_38.wav  \n",
      "  inflating: recordings/7_yweweler_39.wav  \n",
      "  inflating: recordings/7_yweweler_4.wav  \n",
      "  inflating: recordings/7_yweweler_40.wav  \n",
      "  inflating: recordings/7_yweweler_41.wav  \n",
      "  inflating: recordings/7_yweweler_42.wav  \n",
      "  inflating: recordings/7_yweweler_43.wav  \n",
      "  inflating: recordings/7_yweweler_44.wav  \n",
      "  inflating: recordings/7_yweweler_45.wav  \n",
      "  inflating: recordings/7_yweweler_46.wav  \n",
      "  inflating: recordings/7_yweweler_47.wav  \n",
      "  inflating: recordings/7_yweweler_48.wav  \n",
      "  inflating: recordings/7_yweweler_49.wav  \n",
      "  inflating: recordings/7_yweweler_5.wav  \n",
      "  inflating: recordings/7_yweweler_6.wav  \n",
      "  inflating: recordings/7_yweweler_7.wav  \n",
      "  inflating: recordings/7_yweweler_8.wav  \n",
      "  inflating: recordings/7_yweweler_9.wav  \n",
      "  inflating: recordings/8_jackson_0.wav  \n",
      "  inflating: recordings/8_jackson_1.wav  \n",
      "  inflating: recordings/8_jackson_10.wav  \n",
      "  inflating: recordings/8_jackson_11.wav  \n",
      "  inflating: recordings/8_jackson_12.wav  \n",
      "  inflating: recordings/8_jackson_13.wav  \n",
      "  inflating: recordings/8_jackson_14.wav  \n",
      "  inflating: recordings/8_jackson_15.wav  \n",
      "  inflating: recordings/8_jackson_16.wav  \n",
      "  inflating: recordings/8_jackson_17.wav  \n",
      "  inflating: recordings/8_jackson_18.wav  \n",
      "  inflating: recordings/8_jackson_19.wav  \n",
      "  inflating: recordings/8_jackson_2.wav  \n",
      "  inflating: recordings/8_jackson_20.wav  \n",
      "  inflating: recordings/8_jackson_21.wav  \n",
      "  inflating: recordings/8_jackson_22.wav  \n",
      "  inflating: recordings/8_jackson_23.wav  \n",
      "  inflating: recordings/8_jackson_24.wav  \n",
      "  inflating: recordings/8_jackson_25.wav  \n",
      "  inflating: recordings/8_jackson_26.wav  \n",
      "  inflating: recordings/8_jackson_27.wav  \n",
      "  inflating: recordings/8_jackson_28.wav  \n",
      "  inflating: recordings/8_jackson_29.wav  \n",
      "  inflating: recordings/8_jackson_3.wav  \n",
      "  inflating: recordings/8_jackson_30.wav  \n",
      "  inflating: recordings/8_jackson_31.wav  \n",
      "  inflating: recordings/8_jackson_32.wav  \n",
      "  inflating: recordings/8_jackson_33.wav  \n",
      "  inflating: recordings/8_jackson_34.wav  \n",
      "  inflating: recordings/8_jackson_35.wav  \n",
      "  inflating: recordings/8_jackson_36.wav  \n",
      "  inflating: recordings/8_jackson_37.wav  \n",
      "  inflating: recordings/8_jackson_38.wav  \n",
      "  inflating: recordings/8_jackson_39.wav  \n",
      "  inflating: recordings/8_jackson_4.wav  \n",
      "  inflating: recordings/8_jackson_40.wav  \n",
      "  inflating: recordings/8_jackson_41.wav  \n",
      "  inflating: recordings/8_jackson_42.wav  \n",
      "  inflating: recordings/8_jackson_43.wav  \n",
      "  inflating: recordings/8_jackson_44.wav  \n",
      "  inflating: recordings/8_jackson_45.wav  \n",
      "  inflating: recordings/8_jackson_46.wav  \n",
      "  inflating: recordings/8_jackson_47.wav  \n",
      "  inflating: recordings/8_jackson_48.wav  \n",
      "  inflating: recordings/8_jackson_49.wav  \n",
      "  inflating: recordings/8_jackson_5.wav  \n",
      "  inflating: recordings/8_jackson_6.wav  \n",
      "  inflating: recordings/8_jackson_7.wav  \n",
      "  inflating: recordings/8_jackson_8.wav  \n",
      "  inflating: recordings/8_jackson_9.wav  \n",
      "  inflating: recordings/8_nicolas_0.wav  \n",
      "  inflating: recordings/8_nicolas_1.wav  \n",
      "  inflating: recordings/8_nicolas_10.wav  \n",
      "  inflating: recordings/8_nicolas_11.wav  \n",
      "  inflating: recordings/8_nicolas_12.wav  \n",
      "  inflating: recordings/8_nicolas_13.wav  \n",
      "  inflating: recordings/8_nicolas_14.wav  \n",
      "  inflating: recordings/8_nicolas_15.wav  \n",
      "  inflating: recordings/8_nicolas_16.wav  \n",
      "  inflating: recordings/8_nicolas_17.wav  \n",
      "  inflating: recordings/8_nicolas_18.wav  \n",
      "  inflating: recordings/8_nicolas_19.wav  \n",
      "  inflating: recordings/8_nicolas_2.wav  \n",
      "  inflating: recordings/8_nicolas_20.wav  \n",
      "  inflating: recordings/8_nicolas_21.wav  \n",
      "  inflating: recordings/8_nicolas_22.wav  \n",
      "  inflating: recordings/8_nicolas_23.wav  \n",
      "  inflating: recordings/8_nicolas_24.wav  \n",
      "  inflating: recordings/8_nicolas_25.wav  \n",
      "  inflating: recordings/8_nicolas_26.wav  \n",
      "  inflating: recordings/8_nicolas_27.wav  \n",
      "  inflating: recordings/8_nicolas_28.wav  \n",
      "  inflating: recordings/8_nicolas_29.wav  \n",
      "  inflating: recordings/8_nicolas_3.wav  \n",
      "  inflating: recordings/8_nicolas_30.wav  \n",
      "  inflating: recordings/8_nicolas_31.wav  \n",
      "  inflating: recordings/8_nicolas_32.wav  \n",
      "  inflating: recordings/8_nicolas_33.wav  \n",
      "  inflating: recordings/8_nicolas_34.wav  \n",
      "  inflating: recordings/8_nicolas_35.wav  \n",
      "  inflating: recordings/8_nicolas_36.wav  \n",
      "  inflating: recordings/8_nicolas_37.wav  \n",
      "  inflating: recordings/8_nicolas_38.wav  \n",
      "  inflating: recordings/8_nicolas_39.wav  \n",
      "  inflating: recordings/8_nicolas_4.wav  \n",
      "  inflating: recordings/8_nicolas_40.wav  \n",
      "  inflating: recordings/8_nicolas_41.wav  \n",
      "  inflating: recordings/8_nicolas_42.wav  \n",
      "  inflating: recordings/8_nicolas_43.wav  \n",
      "  inflating: recordings/8_nicolas_44.wav  \n",
      "  inflating: recordings/8_nicolas_45.wav  \n",
      "  inflating: recordings/8_nicolas_46.wav  \n",
      "  inflating: recordings/8_nicolas_47.wav  \n",
      "  inflating: recordings/8_nicolas_48.wav  \n",
      "  inflating: recordings/8_nicolas_49.wav  \n",
      "  inflating: recordings/8_nicolas_5.wav  \n",
      "  inflating: recordings/8_nicolas_6.wav  \n",
      "  inflating: recordings/8_nicolas_7.wav  \n",
      "  inflating: recordings/8_nicolas_8.wav  \n",
      "  inflating: recordings/8_nicolas_9.wav  \n",
      "  inflating: recordings/8_theo_0.wav  \n",
      "  inflating: recordings/8_theo_1.wav  \n",
      "  inflating: recordings/8_theo_10.wav  \n",
      "  inflating: recordings/8_theo_11.wav  \n",
      "  inflating: recordings/8_theo_12.wav  \n",
      "  inflating: recordings/8_theo_13.wav  \n",
      "  inflating: recordings/8_theo_14.wav  \n",
      "  inflating: recordings/8_theo_15.wav  \n",
      "  inflating: recordings/8_theo_16.wav  \n",
      "  inflating: recordings/8_theo_17.wav  \n",
      "  inflating: recordings/8_theo_18.wav  \n",
      "  inflating: recordings/8_theo_19.wav  \n",
      "  inflating: recordings/8_theo_2.wav  \n",
      "  inflating: recordings/8_theo_20.wav  \n",
      "  inflating: recordings/8_theo_21.wav  \n",
      "  inflating: recordings/8_theo_22.wav  \n",
      "  inflating: recordings/8_theo_23.wav  \n",
      "  inflating: recordings/8_theo_24.wav  \n",
      "  inflating: recordings/8_theo_25.wav  \n",
      "  inflating: recordings/8_theo_26.wav  \n",
      "  inflating: recordings/8_theo_27.wav  \n",
      "  inflating: recordings/8_theo_28.wav  \n",
      "  inflating: recordings/8_theo_29.wav  \n",
      "  inflating: recordings/8_theo_3.wav  \n",
      "  inflating: recordings/8_theo_30.wav  \n",
      "  inflating: recordings/8_theo_31.wav  \n",
      "  inflating: recordings/8_theo_32.wav  \n",
      "  inflating: recordings/8_theo_33.wav  \n",
      "  inflating: recordings/8_theo_34.wav  \n",
      "  inflating: recordings/8_theo_35.wav  \n",
      "  inflating: recordings/8_theo_36.wav  \n",
      "  inflating: recordings/8_theo_37.wav  \n",
      "  inflating: recordings/8_theo_38.wav  \n",
      "  inflating: recordings/8_theo_39.wav  \n",
      "  inflating: recordings/8_theo_4.wav  \n",
      "  inflating: recordings/8_theo_40.wav  \n",
      "  inflating: recordings/8_theo_41.wav  \n",
      "  inflating: recordings/8_theo_42.wav  \n",
      "  inflating: recordings/8_theo_43.wav  \n",
      "  inflating: recordings/8_theo_44.wav  \n",
      "  inflating: recordings/8_theo_45.wav  \n",
      "  inflating: recordings/8_theo_46.wav  \n",
      "  inflating: recordings/8_theo_47.wav  \n",
      "  inflating: recordings/8_theo_48.wav  \n",
      "  inflating: recordings/8_theo_49.wav  \n",
      "  inflating: recordings/8_theo_5.wav  \n",
      "  inflating: recordings/8_theo_6.wav  \n",
      "  inflating: recordings/8_theo_7.wav  \n",
      "  inflating: recordings/8_theo_8.wav  \n",
      "  inflating: recordings/8_theo_9.wav  \n",
      "  inflating: recordings/8_yweweler_0.wav  \n",
      "  inflating: recordings/8_yweweler_1.wav  \n",
      "  inflating: recordings/8_yweweler_10.wav  \n",
      "  inflating: recordings/8_yweweler_11.wav  \n",
      "  inflating: recordings/8_yweweler_12.wav  \n",
      "  inflating: recordings/8_yweweler_13.wav  \n",
      "  inflating: recordings/8_yweweler_14.wav  \n",
      "  inflating: recordings/8_yweweler_15.wav  \n",
      "  inflating: recordings/8_yweweler_16.wav  \n",
      "  inflating: recordings/8_yweweler_17.wav  \n",
      "  inflating: recordings/8_yweweler_18.wav  \n",
      "  inflating: recordings/8_yweweler_19.wav  \n",
      "  inflating: recordings/8_yweweler_2.wav  \n",
      "  inflating: recordings/8_yweweler_20.wav  \n",
      "  inflating: recordings/8_yweweler_21.wav  \n",
      "  inflating: recordings/8_yweweler_22.wav  \n",
      "  inflating: recordings/8_yweweler_23.wav  \n",
      "  inflating: recordings/8_yweweler_24.wav  \n",
      "  inflating: recordings/8_yweweler_25.wav  \n",
      "  inflating: recordings/8_yweweler_26.wav  \n",
      "  inflating: recordings/8_yweweler_27.wav  \n",
      "  inflating: recordings/8_yweweler_28.wav  \n",
      "  inflating: recordings/8_yweweler_29.wav  \n",
      "  inflating: recordings/8_yweweler_3.wav  \n",
      "  inflating: recordings/8_yweweler_30.wav  \n",
      "  inflating: recordings/8_yweweler_31.wav  \n",
      "  inflating: recordings/8_yweweler_32.wav  \n",
      "  inflating: recordings/8_yweweler_33.wav  \n",
      "  inflating: recordings/8_yweweler_34.wav  \n",
      "  inflating: recordings/8_yweweler_35.wav  \n",
      "  inflating: recordings/8_yweweler_36.wav  \n",
      "  inflating: recordings/8_yweweler_37.wav  \n",
      "  inflating: recordings/8_yweweler_38.wav  \n",
      "  inflating: recordings/8_yweweler_39.wav  \n",
      "  inflating: recordings/8_yweweler_4.wav  \n",
      "  inflating: recordings/8_yweweler_40.wav  \n",
      "  inflating: recordings/8_yweweler_41.wav  \n",
      "  inflating: recordings/8_yweweler_42.wav  \n",
      "  inflating: recordings/8_yweweler_43.wav  \n",
      "  inflating: recordings/8_yweweler_44.wav  \n",
      "  inflating: recordings/8_yweweler_45.wav  \n",
      "  inflating: recordings/8_yweweler_46.wav  \n",
      "  inflating: recordings/8_yweweler_47.wav  \n",
      "  inflating: recordings/8_yweweler_48.wav  \n",
      "  inflating: recordings/8_yweweler_49.wav  \n",
      "  inflating: recordings/8_yweweler_5.wav  \n",
      "  inflating: recordings/8_yweweler_6.wav  \n",
      "  inflating: recordings/8_yweweler_7.wav  \n",
      "  inflating: recordings/8_yweweler_8.wav  \n",
      "  inflating: recordings/8_yweweler_9.wav  \n",
      "  inflating: recordings/9_jackson_0.wav  \n",
      "  inflating: recordings/9_jackson_1.wav  \n",
      "  inflating: recordings/9_jackson_10.wav  \n",
      "  inflating: recordings/9_jackson_11.wav  \n",
      "  inflating: recordings/9_jackson_12.wav  \n",
      "  inflating: recordings/9_jackson_13.wav  \n",
      "  inflating: recordings/9_jackson_14.wav  \n",
      "  inflating: recordings/9_jackson_15.wav  \n",
      "  inflating: recordings/9_jackson_16.wav  \n",
      "  inflating: recordings/9_jackson_17.wav  \n",
      "  inflating: recordings/9_jackson_18.wav  \n",
      "  inflating: recordings/9_jackson_19.wav  \n",
      "  inflating: recordings/9_jackson_2.wav  \n",
      "  inflating: recordings/9_jackson_20.wav  \n",
      "  inflating: recordings/9_jackson_21.wav  \n",
      "  inflating: recordings/9_jackson_22.wav  \n",
      "  inflating: recordings/9_jackson_23.wav  \n",
      "  inflating: recordings/9_jackson_24.wav  \n",
      "  inflating: recordings/9_jackson_25.wav  \n",
      "  inflating: recordings/9_jackson_26.wav  \n",
      "  inflating: recordings/9_jackson_27.wav  \n",
      "  inflating: recordings/9_jackson_28.wav  \n",
      "  inflating: recordings/9_jackson_29.wav  \n",
      "  inflating: recordings/9_jackson_3.wav  \n",
      "  inflating: recordings/9_jackson_30.wav  \n",
      "  inflating: recordings/9_jackson_31.wav  \n",
      "  inflating: recordings/9_jackson_32.wav  \n",
      "  inflating: recordings/9_jackson_33.wav  \n",
      "  inflating: recordings/9_jackson_34.wav  \n",
      "  inflating: recordings/9_jackson_35.wav  \n",
      "  inflating: recordings/9_jackson_36.wav  \n",
      "  inflating: recordings/9_jackson_37.wav  \n",
      "  inflating: recordings/9_jackson_38.wav  \n",
      "  inflating: recordings/9_jackson_39.wav  \n",
      "  inflating: recordings/9_jackson_4.wav  \n",
      "  inflating: recordings/9_jackson_40.wav  \n",
      "  inflating: recordings/9_jackson_41.wav  \n",
      "  inflating: recordings/9_jackson_42.wav  \n",
      "  inflating: recordings/9_jackson_43.wav  \n",
      "  inflating: recordings/9_jackson_44.wav  \n",
      "  inflating: recordings/9_jackson_45.wav  \n",
      "  inflating: recordings/9_jackson_46.wav  \n",
      "  inflating: recordings/9_jackson_47.wav  \n",
      "  inflating: recordings/9_jackson_48.wav  \n",
      "  inflating: recordings/9_jackson_49.wav  \n",
      "  inflating: recordings/9_jackson_5.wav  \n",
      "  inflating: recordings/9_jackson_6.wav  \n",
      "  inflating: recordings/9_jackson_7.wav  \n",
      "  inflating: recordings/9_jackson_8.wav  \n",
      "  inflating: recordings/9_jackson_9.wav  \n",
      "  inflating: recordings/9_nicolas_0.wav  \n",
      "  inflating: recordings/9_nicolas_1.wav  \n",
      "  inflating: recordings/9_nicolas_10.wav  \n",
      "  inflating: recordings/9_nicolas_11.wav  \n",
      "  inflating: recordings/9_nicolas_12.wav  \n",
      "  inflating: recordings/9_nicolas_13.wav  \n",
      "  inflating: recordings/9_nicolas_14.wav  \n",
      "  inflating: recordings/9_nicolas_15.wav  \n",
      "  inflating: recordings/9_nicolas_16.wav  \n",
      "  inflating: recordings/9_nicolas_17.wav  \n",
      "  inflating: recordings/9_nicolas_18.wav  \n",
      "  inflating: recordings/9_nicolas_19.wav  \n",
      "  inflating: recordings/9_nicolas_2.wav  \n",
      "  inflating: recordings/9_nicolas_20.wav  \n",
      "  inflating: recordings/9_nicolas_21.wav  \n",
      "  inflating: recordings/9_nicolas_22.wav  \n",
      "  inflating: recordings/9_nicolas_23.wav  \n",
      "  inflating: recordings/9_nicolas_24.wav  \n",
      "  inflating: recordings/9_nicolas_25.wav  \n",
      "  inflating: recordings/9_nicolas_26.wav  \n",
      "  inflating: recordings/9_nicolas_27.wav  \n",
      "  inflating: recordings/9_nicolas_28.wav  \n",
      "  inflating: recordings/9_nicolas_29.wav  \n",
      "  inflating: recordings/9_nicolas_3.wav  \n",
      "  inflating: recordings/9_nicolas_30.wav  \n",
      "  inflating: recordings/9_nicolas_31.wav  \n",
      "  inflating: recordings/9_nicolas_32.wav  \n",
      "  inflating: recordings/9_nicolas_33.wav  \n",
      "  inflating: recordings/9_nicolas_34.wav  \n",
      "  inflating: recordings/9_nicolas_35.wav  \n",
      "  inflating: recordings/9_nicolas_36.wav  \n",
      "  inflating: recordings/9_nicolas_37.wav  \n",
      "  inflating: recordings/9_nicolas_38.wav  \n",
      "  inflating: recordings/9_nicolas_39.wav  \n",
      "  inflating: recordings/9_nicolas_4.wav  \n",
      "  inflating: recordings/9_nicolas_40.wav  \n",
      "  inflating: recordings/9_nicolas_41.wav  \n",
      "  inflating: recordings/9_nicolas_42.wav  \n",
      "  inflating: recordings/9_nicolas_43.wav  \n",
      "  inflating: recordings/9_nicolas_44.wav  \n",
      "  inflating: recordings/9_nicolas_45.wav  \n",
      "  inflating: recordings/9_nicolas_46.wav  \n",
      "  inflating: recordings/9_nicolas_47.wav  \n",
      "  inflating: recordings/9_nicolas_48.wav  \n",
      "  inflating: recordings/9_nicolas_49.wav  \n",
      "  inflating: recordings/9_nicolas_5.wav  \n",
      "  inflating: recordings/9_nicolas_6.wav  \n",
      "  inflating: recordings/9_nicolas_7.wav  \n",
      "  inflating: recordings/9_nicolas_8.wav  \n",
      "  inflating: recordings/9_nicolas_9.wav  \n",
      "  inflating: recordings/9_theo_0.wav  \n",
      "  inflating: recordings/9_theo_1.wav  \n",
      "  inflating: recordings/9_theo_10.wav  \n",
      "  inflating: recordings/9_theo_11.wav  \n",
      "  inflating: recordings/9_theo_12.wav  \n",
      "  inflating: recordings/9_theo_13.wav  \n",
      "  inflating: recordings/9_theo_14.wav  \n",
      "  inflating: recordings/9_theo_15.wav  \n",
      "  inflating: recordings/9_theo_16.wav  \n",
      "  inflating: recordings/9_theo_17.wav  \n",
      "  inflating: recordings/9_theo_18.wav  \n",
      "  inflating: recordings/9_theo_19.wav  \n",
      "  inflating: recordings/9_theo_2.wav  \n",
      "  inflating: recordings/9_theo_20.wav  \n",
      "  inflating: recordings/9_theo_21.wav  \n",
      "  inflating: recordings/9_theo_22.wav  \n",
      "  inflating: recordings/9_theo_23.wav  \n",
      "  inflating: recordings/9_theo_24.wav  \n",
      "  inflating: recordings/9_theo_25.wav  \n",
      "  inflating: recordings/9_theo_26.wav  \n",
      "  inflating: recordings/9_theo_27.wav  \n",
      "  inflating: recordings/9_theo_28.wav  \n",
      "  inflating: recordings/9_theo_29.wav  \n",
      "  inflating: recordings/9_theo_3.wav  \n",
      "  inflating: recordings/9_theo_30.wav  \n",
      "  inflating: recordings/9_theo_31.wav  \n",
      "  inflating: recordings/9_theo_32.wav  \n",
      "  inflating: recordings/9_theo_33.wav  \n",
      "  inflating: recordings/9_theo_34.wav  \n",
      "  inflating: recordings/9_theo_35.wav  \n",
      "  inflating: recordings/9_theo_36.wav  \n",
      "  inflating: recordings/9_theo_37.wav  \n",
      "  inflating: recordings/9_theo_38.wav  \n",
      "  inflating: recordings/9_theo_39.wav  \n",
      "  inflating: recordings/9_theo_4.wav  \n",
      "  inflating: recordings/9_theo_40.wav  \n",
      "  inflating: recordings/9_theo_41.wav  \n",
      "  inflating: recordings/9_theo_42.wav  \n",
      "  inflating: recordings/9_theo_43.wav  \n",
      "  inflating: recordings/9_theo_44.wav  \n",
      "  inflating: recordings/9_theo_45.wav  \n",
      "  inflating: recordings/9_theo_46.wav  \n",
      "  inflating: recordings/9_theo_47.wav  \n",
      "  inflating: recordings/9_theo_48.wav  \n",
      "  inflating: recordings/9_theo_49.wav  \n",
      "  inflating: recordings/9_theo_5.wav  \n",
      "  inflating: recordings/9_theo_6.wav  \n",
      "  inflating: recordings/9_theo_7.wav  \n",
      "  inflating: recordings/9_theo_8.wav  \n",
      "  inflating: recordings/9_theo_9.wav  \n",
      "  inflating: recordings/9_yweweler_0.wav  \n",
      "  inflating: recordings/9_yweweler_1.wav  \n",
      "  inflating: recordings/9_yweweler_10.wav  \n",
      "  inflating: recordings/9_yweweler_11.wav  \n",
      "  inflating: recordings/9_yweweler_12.wav  \n",
      "  inflating: recordings/9_yweweler_13.wav  \n",
      "  inflating: recordings/9_yweweler_14.wav  \n",
      "  inflating: recordings/9_yweweler_15.wav  \n",
      "  inflating: recordings/9_yweweler_16.wav  \n",
      "  inflating: recordings/9_yweweler_17.wav  \n",
      "  inflating: recordings/9_yweweler_18.wav  \n",
      "  inflating: recordings/9_yweweler_19.wav  \n",
      "  inflating: recordings/9_yweweler_2.wav  \n",
      "  inflating: recordings/9_yweweler_20.wav  \n",
      "  inflating: recordings/9_yweweler_21.wav  \n",
      "  inflating: recordings/9_yweweler_22.wav  \n",
      "  inflating: recordings/9_yweweler_23.wav  \n",
      "  inflating: recordings/9_yweweler_24.wav  \n",
      "  inflating: recordings/9_yweweler_25.wav  \n",
      "  inflating: recordings/9_yweweler_26.wav  \n",
      "  inflating: recordings/9_yweweler_27.wav  \n",
      "  inflating: recordings/9_yweweler_28.wav  \n",
      "  inflating: recordings/9_yweweler_29.wav  \n",
      "  inflating: recordings/9_yweweler_3.wav  \n",
      "  inflating: recordings/9_yweweler_30.wav  \n",
      "  inflating: recordings/9_yweweler_31.wav  \n",
      "  inflating: recordings/9_yweweler_32.wav  \n",
      "  inflating: recordings/9_yweweler_33.wav  \n",
      "  inflating: recordings/9_yweweler_34.wav  \n",
      "  inflating: recordings/9_yweweler_35.wav  \n",
      "  inflating: recordings/9_yweweler_36.wav  \n",
      "  inflating: recordings/9_yweweler_37.wav  \n",
      "  inflating: recordings/9_yweweler_38.wav  \n",
      "  inflating: recordings/9_yweweler_39.wav  \n",
      "  inflating: recordings/9_yweweler_4.wav  \n",
      "  inflating: recordings/9_yweweler_40.wav  \n",
      "  inflating: recordings/9_yweweler_41.wav  \n",
      "  inflating: recordings/9_yweweler_42.wav  \n",
      "  inflating: recordings/9_yweweler_43.wav  \n",
      "  inflating: recordings/9_yweweler_44.wav  \n",
      "  inflating: recordings/9_yweweler_45.wav  \n",
      "  inflating: recordings/9_yweweler_46.wav  \n",
      "  inflating: recordings/9_yweweler_47.wav  \n",
      "  inflating: recordings/9_yweweler_48.wav  \n",
      "  inflating: recordings/9_yweweler_49.wav  \n",
      "  inflating: recordings/9_yweweler_5.wav  \n",
      "  inflating: recordings/9_yweweler_6.wav  \n",
      "  inflating: recordings/9_yweweler_7.wav  \n",
      "  inflating: recordings/9_yweweler_8.wav  \n",
      "  inflating: recordings/9_yweweler_9.wav  \n"
     ]
    }
   ],
   "source": [
    "#read the all file names in the recordings folder given by us\n",
    "#(if you get entire path, it is very useful in future)\n",
    "#save those files names as list in \"all_files\"\n",
    "!gdown 17YGQheavMbM6aeHYjUcGssXfb7eQHo1z\n",
    "#https://drive.google.com/file/d/17YGQheavMbM6aeHYjUcGssXfb7eQHo1z/view?usp=share_link\n",
    "!unzip recordings.zip"
   ]
  },
  {
   "cell_type": "code",
   "execution_count": null,
   "metadata": {
    "id": "kgYQCtnDOYTh"
   },
   "outputs": [],
   "source": [
    "all_files=['recordings/'+ i for i in os.listdir('recordings')]"
   ]
  },
  {
   "cell_type": "markdown",
   "metadata": {
    "id": "8NYYpfqoaNmv"
   },
   "source": [
    "<font size=4>Grader function 1 </font>"
   ]
  },
  {
   "cell_type": "code",
   "execution_count": null,
   "metadata": {
    "colab": {
     "base_uri": "https://localhost:8080/"
    },
    "id": "2oJSOmYBaNmx",
    "outputId": "077ee7da-cf1a-418d-a5c4-455ee6ff8945"
   },
   "outputs": [
    {
     "data": {
      "text/plain": [
       "True"
      ]
     },
     "execution_count": 6,
     "metadata": {},
     "output_type": "execute_result"
    }
   ],
   "source": [
    "def grader_files():\n",
    "    temp = len(all_files)==2000\n",
    "    temp1 = all([x[-3:]==\"wav\" for x in all_files])\n",
    "    temp = temp and temp1\n",
    "    return temp\n",
    "grader_files()"
   ]
  },
  {
   "cell_type": "markdown",
   "metadata": {
    "id": "MhvSIN6raNm3"
   },
   "source": [
    "Create a dataframe(name=df_audio) with two columns(path, label).   \n",
    "You can get the label from the first letter of name.  \n",
    "Eg: 0_jackson_0 --> 0  \n",
    "0_jackson_43 --> 0"
   ]
  },
  {
   "cell_type": "markdown",
   "metadata": {
    "id": "LZbhCvvRPPMw"
   },
   "source": [
    "## Exploring the sound dataset"
   ]
  },
  {
   "cell_type": "code",
   "execution_count": null,
   "metadata": {
    "id": "ilJsqdhhPMed"
   },
   "outputs": [],
   "source": [
    "#It is a good programming practise to explore the dataset that you are dealing with. This dataset is unique in itself because it has sounds as input\n",
    "#https://colab.research.google.com/github/Tyler-Hilbert/AudioProcessingInPythonWorkshop/blob/master/AudioProcessingInPython.ipynb\n",
    "#visualize the data and write code to play 2-3 sound samples in the notebook for better understanding.\n",
    "#please go through the following reference video https://www.youtube.com/watch?v=37zCgCdV468"
   ]
  },
  {
   "cell_type": "code",
   "execution_count": null,
   "metadata": {
    "colab": {
     "base_uri": "https://localhost:8080/",
     "height": 75
    },
    "id": "bX_umjikPy5Y",
    "outputId": "84bbcd20-03fd-451e-ede9-d1336d84f842"
   },
   "outputs": [
    {
     "data": {
      "text/html": [
       "\n",
       "                <audio  controls=\"controls\" >\n",
       "                    <source src=\"data:audio/wav;base64,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\" type=\"audio/wav\" />\n",
       "                    Your browser does not support the audio element.\n",
       "                </audio>\n",
       "              "
      ],
      "text/plain": [
       "<IPython.lib.display.Audio object>"
      ]
     },
     "execution_count": 6,
     "metadata": {},
     "output_type": "execute_result"
    }
   ],
   "source": [
    "from IPython.display import Audio\n",
    "a, b=librosa.load(all_files[0])\n",
    "Audio(data=a, rate=b)"
   ]
  },
  {
   "cell_type": "code",
   "execution_count": null,
   "metadata": {
    "id": "7Wx5tOjSPX2Y"
   },
   "outputs": [],
   "source": []
  },
  {
   "cell_type": "markdown",
   "metadata": {
    "id": "AA0nAtjbQLmu"
   },
   "source": [
    "## Creating dataframe"
   ]
  },
  {
   "cell_type": "code",
   "execution_count": null,
   "metadata": {
    "colab": {
     "base_uri": "https://localhost:8080/"
    },
    "id": "fWP6vXBeaNm3",
    "outputId": "fe1d9e19-7719-4223-9417-aa0ca0ae1bab"
   },
   "outputs": [
    {
     "name": "stderr",
     "output_type": "stream",
     "text": [
      "100%|██████████| 2000/2000 [00:00<00:00, 785670.88it/s]\n"
     ]
    }
   ],
   "source": [
    "#Create a dataframe(name=df_audio) with two columns(path, label).   \n",
    "#You can get the label from the first letter of name.  \n",
    "#Eg: 0_jackson_0 --> 0  \n",
    "#0_jackson_43 --> 0\n",
    "from tqdm import tqdm\n",
    "path=[]\n",
    "labels=[]\n",
    "for file_name in tqdm(os.listdir('recordings')):\n",
    "  path.append('recordings/'+file_name)\n",
    "  l=file_name.split('_')[0]\n",
    "  labels.append(l)\n",
    "\n",
    "df_audio=pd.DataFrame()\n",
    "df_audio['path']=path\n",
    "df_audio['label']=labels"
   ]
  },
  {
   "cell_type": "code",
   "execution_count": null,
   "metadata": {
    "colab": {
     "base_uri": "https://localhost:8080/"
    },
    "id": "5ZpuaGuJaNm8",
    "outputId": "2243a177-4bfe-4f40-bcd0-371c983c0e7b"
   },
   "outputs": [
    {
     "name": "stdout",
     "output_type": "stream",
     "text": [
      "<class 'pandas.core.frame.DataFrame'>\n",
      "RangeIndex: 2000 entries, 0 to 1999\n",
      "Data columns (total 2 columns):\n",
      " #   Column  Non-Null Count  Dtype \n",
      "---  ------  --------------  ----- \n",
      " 0   path    2000 non-null   object\n",
      " 1   label   2000 non-null   object\n",
      "dtypes: object(2)\n",
      "memory usage: 31.4+ KB\n"
     ]
    }
   ],
   "source": [
    "#info\n",
    "df_audio.info()"
   ]
  },
  {
   "cell_type": "markdown",
   "metadata": {
    "id": "VOKpYJ_LaNnD"
   },
   "source": [
    "<font size=4>Grader function 2 </font>"
   ]
  },
  {
   "cell_type": "code",
   "execution_count": null,
   "metadata": {
    "colab": {
     "base_uri": "https://localhost:8080/"
    },
    "id": "7Q8r_T8-aNnE",
    "outputId": "2859f2f1-81f8-4e7e-86f9-31064b6c7be1"
   },
   "outputs": [
    {
     "data": {
      "text/plain": [
       "True"
      ]
     },
     "execution_count": 9,
     "metadata": {},
     "output_type": "execute_result"
    }
   ],
   "source": [
    "def grader_df():\n",
    "    flag_shape = df_audio.shape==(2000,2)\n",
    "    flag_columns = all(df_audio.columns==['path', 'label'])\n",
    "    list_values = list(df_audio.label.value_counts())\n",
    "    flag_label = len(list_values)==10\n",
    "    flag_label2 = all([i==200 for i in list_values])\n",
    "    final_flag = flag_shape and flag_columns and flag_label and flag_label2\n",
    "    return final_flag\n",
    "grader_df()"
   ]
  },
  {
   "cell_type": "code",
   "execution_count": null,
   "metadata": {
    "id": "PlfssCc3aNnL"
   },
   "outputs": [],
   "source": [
    "from sklearn.utils import shuffle\n",
    "df_audio = shuffle(df_audio, random_state=33)#don't change the random state"
   ]
  },
  {
   "cell_type": "markdown",
   "metadata": {
    "id": "WvC3fUy4Pe8y"
   },
   "source": [
    "**Pickle File 1**"
   ]
  },
  {
   "cell_type": "code",
   "execution_count": 4,
   "metadata": {
    "id": "8XK-8eTyKw60"
   },
   "outputs": [],
   "source": [
    "import pickle\n",
    "'''f=open('/content/drive/MyDrive/speech_recognition/df_audio.pkl','wb')\n",
    "pickle.dump(df_audio, f)'''\n",
    "\n",
    "f=open('/content/drive/MyDrive/speech_recognition/df_audio.pkl','rb')\n",
    "df_audio=pickle.load(f)"
   ]
  },
  {
   "cell_type": "markdown",
   "metadata": {
    "id": "PZ448aENaNnR"
   },
   "source": [
    "<pre><font size=4>Train and Validation split</font></pre>"
   ]
  },
  {
   "cell_type": "code",
   "execution_count": null,
   "metadata": {
    "id": "vSPy-Ln6aNnS"
   },
   "outputs": [],
   "source": [
    "#split the data into train and validation and save in X_train, X_test, y_train, y_test\n",
    "#use stratify sampling\n",
    "#use random state of 45\n",
    "#use test size of 30%\n",
    "from sklearn.model_selection import train_test_split\n",
    "x=df_audio['path']\n",
    "y=df_audio['label']\n",
    "X_train, X_test, y_train,y_test=train_test_split(x,y, test_size=0.3, random_state=45, stratify=y)\n"
   ]
  },
  {
   "cell_type": "markdown",
   "metadata": {
    "id": "QQdFOfNKPjeV"
   },
   "source": [
    "**Pickle File 2**"
   ]
  },
  {
   "cell_type": "code",
   "execution_count": 11,
   "metadata": {
    "id": "fUdBdNiG2TAh"
   },
   "outputs": [],
   "source": [
    "'''f=open('/content/drive/MyDrive/speech_recognition/x_y_split_data.pkl','wb')\n",
    "pickle.dump([X_train, X_test, y_train,y_test],f)\n",
    "f.close()'''\n",
    "\n",
    "f=open('/content/drive/MyDrive/speech_recognition/x_y_split_data.pkl','rb')\n",
    "[X_train, X_test, y_train,y_test]=pickle.load(f)"
   ]
  },
  {
   "cell_type": "markdown",
   "metadata": {
    "id": "YPK3sbzUaNnW"
   },
   "source": [
    "<font size=4>Grader function 3 </font>"
   ]
  },
  {
   "cell_type": "code",
   "execution_count": null,
   "metadata": {
    "colab": {
     "base_uri": "https://localhost:8080/"
    },
    "id": "chZzntKUaNnX",
    "outputId": "52c94cdd-6c59-4e60-8445-6cb28c35207a"
   },
   "outputs": [
    {
     "data": {
      "text/plain": [
       "True"
      ]
     },
     "execution_count": 16,
     "metadata": {},
     "output_type": "execute_result"
    }
   ],
   "source": [
    "def grader_split():\n",
    "    flag_len = (len(X_train)==1400) and (len(X_test)==600) and (len(y_train)==1400) and (len(y_test)==600)\n",
    "    values_ytrain = list(y_train.value_counts())\n",
    "    flag_ytrain = (len(values_ytrain)==10) and (all([i==140 for i in values_ytrain]))\n",
    "    values_ytest = list(y_test.value_counts())\n",
    "    flag_ytest = (len(values_ytest)==10) and (all([i==60 for i in values_ytest]))\n",
    "    final_flag = flag_len and flag_ytrain and flag_ytest\n",
    "    return final_flag\n",
    "grader_split()"
   ]
  },
  {
   "cell_type": "markdown",
   "metadata": {
    "id": "LGhh-39vaNnb"
   },
   "source": [
    "<pre><font size=4>Preprocessing</font>\n",
    "\n",
    "All files are in the \"WAV\" format. We will read those raw data files using the librosa</pre>"
   ]
  },
  {
   "cell_type": "code",
   "execution_count": null,
   "metadata": {
    "id": "i99JacQSaNnc"
   },
   "outputs": [],
   "source": [
    "sample_rate = 22050\n",
    "def load_wav(x, get_duration=True):\n",
    "    '''This return the array values of audio with sampling rate of 22050 and Duration'''\n",
    "    #loading the wav file with sampling rate of 22050\n",
    "    samples, sample_rate = librosa.load(x, sr=22050)\n",
    "    if get_duration:\n",
    "        duration = librosa.get_duration(samples, sample_rate)\n",
    "        return [samples, duration]\n",
    "    else:\n",
    "        return samples"
   ]
  },
  {
   "cell_type": "code",
   "execution_count": null,
   "metadata": {
    "colab": {
     "base_uri": "https://localhost:8080/"
    },
    "id": "Rx97f8GGaNnh",
    "outputId": "305fa711-0fed-4f5e-f345-278643f25532"
   },
   "outputs": [
    {
     "name": "stderr",
     "output_type": "stream",
     "text": [
      "/usr/local/lib/python3.8/dist-packages/numpy/core/fromnumeric.py:3162: VisibleDeprecationWarning: Creating an ndarray from ragged nested sequences (which is a list-or-tuple of lists-or-tuples-or ndarrays with different lengths or shapes) is deprecated. If you meant to do this, you must specify 'dtype=object' when creating the ndarray.\n",
      "  return asarray(a).ndim\n"
     ]
    }
   ],
   "source": [
    "#use load_wav function that was written above to get every wave. \n",
    "#save it in X_train_processed and X_test_processed\n",
    "# X_train_processed/X_test_processed should be dataframes with two columns(raw_data, duration) with same index of X_train/y_train\n",
    "X_train_processed=pd.DataFrame()\n",
    "X_test_processed=pd.DataFrame()\n",
    "\n",
    "X_train_processed[['raw_data','duration']]=[(j[0],j[1]) for j in X_train.apply(load_wav)]\n",
    "X_test_processed[['raw_data','duration']]=[(j[0],j[1]) for j in X_test.apply(load_wav)]"
   ]
  },
  {
   "cell_type": "code",
   "execution_count": null,
   "metadata": {
    "colab": {
     "base_uri": "https://localhost:8080/",
     "height": 354
    },
    "id": "duQZPQevaNno",
    "outputId": "a9c48a99-5f1e-4469-c973-ab8b478f5a03"
   },
   "outputs": [
    {
     "data": {
      "text/plain": [
       "Text(0.5, 1.0, 'Histogram of Duration for Train Data')"
      ]
     },
     "execution_count": 19,
     "metadata": {},
     "output_type": "execute_result"
    },
    {
     "data": {
      "image/png": "[encoded data removed]",
      "text/plain": [
       "<Figure size 360x360 with 1 Axes>"
      ]
     },
     "metadata": {},
     "output_type": "display_data"
    }
   ],
   "source": [
    "#plot the histogram of the duration for trian\n",
    "import matplotlib.pyplot as plt\n",
    "X_train_processed['duration'].hist(figsize=(5,5))\n",
    "plt.title('Histogram of Duration for Train Data')"
   ]
  },
  {
   "cell_type": "code",
   "execution_count": null,
   "metadata": {
    "colab": {
     "base_uri": "https://localhost:8080/",
     "height": 354
    },
    "id": "wE5SDRzSaNns",
    "outputId": "b86de0e0-c5d7-4d63-9e24-c99a304500e6"
   },
   "outputs": [
    {
     "data": {
      "text/plain": [
       "Text(0.5, 1.0, 'Histogram of Duration for Test Data')"
      ]
     },
     "execution_count": 20,
     "metadata": {},
     "output_type": "execute_result"
    },
    {
     "data": {
      "image/png": "[encoded data removed]",
      "text/plain": [
       "<Figure size 360x360 with 1 Axes>"
      ]
     },
     "metadata": {},
     "output_type": "display_data"
    }
   ],
   "source": [
    "#plot the histogram of the duration for trian\n",
    "X_test_processed['duration'].hist(figsize=(5,5))\n",
    "plt.title('Histogram of Duration for Test Data')"
   ]
  },
  {
   "cell_type": "code",
   "execution_count": null,
   "metadata": {
    "colab": {
     "base_uri": "https://localhost:8080/"
    },
    "id": "vvLhm1AqaNny",
    "outputId": "e03ea95e-973a-41c4-cb2c-74a47319e8db"
   },
   "outputs": [
    {
     "name": "stdout",
     "output_type": "stream",
     "text": [
      "0 percentile values is 0.1435374149659864\n",
      "10 percentile values is 0.26312925170068024\n",
      "20 percentile values is 0.30108843537414964\n",
      "30 percentile values is 0.33240816326530614\n",
      "40 percentile values is 0.3593560090702948\n",
      "50 percentile values is 0.3897052154195011\n",
      "60 percentile values is 0.4176145124716553\n",
      "70 percentile values is 0.44988662131519275\n",
      "80 percentile values is 0.48835374149659866\n",
      "90 percentile values is 0.5557097505668934\n",
      "100 percentile values is 2.282766439909297\n"
     ]
    }
   ],
   "source": [
    "#print 0 to 100 percentile values with step size of 10 for train data duration. \n",
    "for i in range(0,101,10):\n",
    "  print('{} percentile values is {}'.format(i,np.percentile(X_train_processed['duration'].values,i)))"
   ]
  },
  {
   "cell_type": "code",
   "execution_count": null,
   "metadata": {
    "colab": {
     "base_uri": "https://localhost:8080/"
    },
    "id": "rSlVQh4CaNn2",
    "outputId": "50590d68-1a03-410f-da51-3a14e8f747d0"
   },
   "outputs": [
    {
     "name": "stdout",
     "output_type": "stream",
     "text": [
      "90 percentile values is 0.5557097505668934\n",
      "91 percentile values is 0.5669832199546486\n",
      "92 percentile values is 0.5787410430839004\n",
      "93 percentile values is 0.5933292517006804\n",
      "94 percentile values is 0.6102702947845804\n",
      "95 percentile values is 0.6230884353741496\n",
      "96 percentile values is 0.6430421768707484\n",
      "97 percentile values is 0.658566439909297\n",
      "98 percentile values is 0.6883972789115647\n",
      "99 percentile values is 0.7930458049886622\n",
      "100 percentile values is 2.282766439909297\n"
     ]
    }
   ],
   "source": [
    "##print 90 to 100 percentile values with step size of 1. \n",
    "for i in range(90,101,1):\n",
    "  print('{} percentile values is {}'.format(i,np.percentile(X_train_processed['duration'].values,i)))"
   ]
  },
  {
   "cell_type": "markdown",
   "metadata": {
    "id": "JbMb4Y0RaNoA"
   },
   "source": [
    "<font size=4>Grader function 4 </font>"
   ]
  },
  {
   "cell_type": "code",
   "execution_count": null,
   "metadata": {
    "colab": {
     "base_uri": "https://localhost:8080/"
    },
    "id": "UMoyLLSAaNoF",
    "outputId": "ac0fbdab-26ed-4d2e-82f1-0a7765f688e9"
   },
   "outputs": [
    {
     "data": {
      "text/plain": [
       "True"
      ]
     },
     "execution_count": 23,
     "metadata": {},
     "output_type": "execute_result"
    }
   ],
   "source": [
    "def grader_processed():\n",
    "    flag_columns = (all(X_train_processed.columns==['raw_data', 'duration'])) and (all(X_test_processed.columns==['raw_data', 'duration']))\n",
    "    flag_shape = (X_train_processed.shape ==(1400, 2)) and (X_test_processed.shape==(600,2))\n",
    "    return flag_columns and flag_shape\n",
    "grader_processed()"
   ]
  },
  {
   "cell_type": "code",
   "execution_count": null,
   "metadata": {
    "id": "TwqzeIL98Xk0"
   },
   "outputs": [],
   "source": []
  },
  {
   "cell_type": "markdown",
   "metadata": {
    "id": "Cux3_jfcaNoM"
   },
   "source": [
    "<b>Based on our analysis 99 percentile values are less than 0.8sec so we will limit maximum length of X_train_processed and X_test_processed to 0.8 sec. It is similar to pad_sequence for a text dataset.</b>\n",
    "\n",
    "<b>While loading the audio files, we are using sampling rate of 22050 so one sec will give array of length 22050. so, our maximum length is 0.8*22050 = 17640\n",
    "</b>\n",
    "<b>Pad with Zero if length of sequence is less than 17640 else Truncate the number. </b>\n",
    "\n",
    "<b> Also create a masking vector for train and test. </b>\n",
    "\n",
    "<b> masking vector value = 1 if it is real value, 0 if it is pad value. Masking vector data type must be bool.</b>\n"
   ]
  },
  {
   "cell_type": "code",
   "execution_count": null,
   "metadata": {
    "id": "voqSEyvcaNoO"
   },
   "outputs": [],
   "source": []
  },
  {
   "cell_type": "code",
   "execution_count": null,
   "metadata": {
    "id": "B1-_r20BaNoW"
   },
   "outputs": [],
   "source": [
    "max_length  = 17640\n",
    "## as discussed above, Pad with Zero if length of sequence is less than 17640 else Truncate the number. \n",
    "## save in the X_train_pad_seq, X_test_pad_seq\n",
    "## also Create masking vector X_train_mask, X_test_mask\n",
    "\n",
    "## all the X_train_pad_seq, X_test_pad_seq, X_train_mask, X_test_mask will be numpy arrays mask vector dtype must be bool.\n",
    "\n",
    "X_train_processed['raw_data']\n",
    "\n",
    "def processor(a):\n",
    "  if len(a)>=max_length:\n",
    "    b=a[:max_length]\n",
    "    c=np.array([1 for i in range(max_length)])\n",
    "  elif len(a)<max_length:\n",
    "    b=np.append(a,[0 for i in range(max_length-len(a))])\n",
    "    c=np.append([1 for i in range(len(a))],[0 for i in range(max_length-len(a))])\n",
    "  return b,c\n",
    "X_test_p=pd.DataFrame()\n",
    "X_train_p=pd.DataFrame()\n",
    "\n",
    "X_train_p[['processed','mask']]=[(j[0],j[1]) for j in X_train_processed['raw_data'].apply(processor)]\n",
    "X_test_p[['processed','mask']]=[(j[0],j[1]) for j in X_test_processed['raw_data'].apply(processor)]\n",
    "\n",
    "X_train_pad_seq=np.array(X_train_p['processed'].tolist())\n",
    "X_test_pad_seq=np.array(X_test_p['processed'].tolist())\n",
    "X_train_mask=np.array(X_train_p['mask'].tolist()).astype('bool')\n",
    "X_test_mask=np.array(X_test_p['mask'].tolist()).astype('bool')"
   ]
  },
  {
   "cell_type": "code",
   "execution_count": null,
   "metadata": {
    "id": "Pl473Y_ETxEM"
   },
   "outputs": [],
   "source": []
  },
  {
   "cell_type": "markdown",
   "metadata": {
    "id": "GYOpRuaaTx32"
   },
   "source": [
    "**Pickle File 3**"
   ]
  },
  {
   "cell_type": "code",
   "execution_count": 5,
   "metadata": {
    "id": "GDDNGnMcLqA_"
   },
   "outputs": [],
   "source": [
    "'''f=open('/content/drive/MyDrive/speech_recognition/padded_data.pkl', 'wb')\n",
    "pickle.dump([X_train_pad_seq,X_test_pad_seq,X_train_mask,X_test_mask],f)\n",
    "f.close()'''\n",
    "\n",
    "f=open('/content/drive/MyDrive/speech_recognition/padded_data.pkl', 'rb')\n",
    "[X_train_pad_seq,X_test_pad_seq,X_train_mask,X_test_mask]=pickle.load(f)"
   ]
  },
  {
   "cell_type": "code",
   "execution_count": null,
   "metadata": {
    "colab": {
     "base_uri": "https://localhost:8080/"
    },
    "id": "5Xk4XzTpKvur",
    "outputId": "254ad9ea-da76-4eb4-9ffb-3c44f497c887"
   },
   "outputs": [
    {
     "data": {
      "text/plain": [
       "array([[ True,  True,  True, ..., False, False, False],\n",
       "       [ True,  True,  True, ..., False, False, False],\n",
       "       [ True,  True,  True, ..., False, False, False],\n",
       "       ...,\n",
       "       [ True,  True,  True, ..., False, False, False],\n",
       "       [ True,  True,  True, ..., False, False, False],\n",
       "       [ True,  True,  True, ..., False, False, False]])"
      ]
     },
     "execution_count": 17,
     "metadata": {},
     "output_type": "execute_result"
    }
   ],
   "source": [
    "X_train_mask"
   ]
  },
  {
   "cell_type": "markdown",
   "metadata": {
    "id": "zEHMgm4DaNoe"
   },
   "source": [
    "<font size=4>Grader function 5 </font>"
   ]
  },
  {
   "cell_type": "code",
   "execution_count": null,
   "metadata": {
    "colab": {
     "base_uri": "https://localhost:8080/"
    },
    "id": "Th3KhplGaNof",
    "outputId": "9a3aa6aa-9c59-4e7c-d53f-68a1d9e47a80"
   },
   "outputs": [
    {
     "data": {
      "text/plain": [
       "True"
      ]
     },
     "execution_count": 26,
     "metadata": {},
     "output_type": "execute_result"
    }
   ],
   "source": [
    "def grader_padoutput():\n",
    "    flag_padshape = (X_train_pad_seq.shape==(1400, 17640)) and (X_test_pad_seq.shape==(600, 17640)) and (y_train.shape==(1400,))\n",
    "    flag_maskshape = (X_train_mask.shape==(1400, 17640)) and (X_test_mask.shape==(600, 17640)) and (y_test.shape==(600,))\n",
    "    flag_dtype = (X_train_mask.dtype==bool) and (X_test_mask.dtype==bool)\n",
    "    return flag_padshape and flag_maskshape and flag_dtype\n",
    "grader_padoutput()"
   ]
  },
  {
   "cell_type": "markdown",
   "metadata": {
    "id": "K0kaYQ1jaNop"
   },
   "source": [
    "### 1. Giving Raw data directly. "
   ]
  },
  {
   "cell_type": "markdown",
   "metadata": {
    "id": "xGHxh3jTaNoq"
   },
   "source": [
    "\n",
    "Now we have\n",
    "\n",
    "Train data: X_train_pad_seq, X_train_mask and y_train  \n",
    "Test data: X_test_pad_seq, X_test_mask and y_test   \n",
    "\n",
    "We will create a LSTM model which takes this input. \n",
    "\n",
    "Task:\n",
    "\n",
    "1. Create an LSTM network which takes \"X_train_pad_seq\" as input, \"X_train_mask\" as mask input. You can use any number of LSTM cells. Please read LSTM documentation(https://www.tensorflow.org/api_docs/python/tf/keras/layers/LSTM) in tensorflow to know more about mask and also https://www.tensorflow.org/guide/keras/masking_and_padding \n",
    "2. Get the final output of the LSTM and give it to Dense layer of any size and then give it to Dense layer of size 10(because we have 10 outputs) and then compile with the sparse categorical cross entropy( because we are not converting it to one hot vectors). Also check the datatype of class labels(y_values) and make sure that you convert your class labels  to integer datatype before fitting in the model.\n",
    "3. While defining your model make sure that you pass both the input layer and mask input layer as input to lstm layer as follows\n",
    "<img src='https://i.imgur.com/FvcgvbY.jpg'>\n",
    "4. Use tensorboard to plot the graphs of loss and metric(use custom micro F1 score as metric) and histograms of gradients. You can write your code for computing F1 score using this <a  href='https://i.imgur.com/8YULUcu.jpg'>link</a> \n",
    "\n",
    "5. make sure that it won't overfit. \n",
    "6. You are free to include any regularization\n"
   ]
  },
  {
   "cell_type": "code",
   "execution_count": 6,
   "metadata": {
    "id": "BZO4szvvO_r9"
   },
   "outputs": [],
   "source": [
    "final_x_train=X_train_pad_seq[:,:,np.newaxis]\n",
    "final_x_test=X_test_pad_seq[:,:,np.newaxis]\n"
   ]
  },
  {
   "cell_type": "code",
   "execution_count": 1,
   "metadata": {
    "id": "X8yg951AaNor"
   },
   "outputs": [],
   "source": [
    "from tensorflow.keras.layers import Input, LSTM, Dense, Dropout, Flatten, Embedding\n",
    "from tensorflow.keras.models import Model\n",
    "import tensorflow as tf\n"
   ]
  },
  {
   "cell_type": "code",
   "execution_count": 6,
   "metadata": {},
   "outputs": [
    {
     "name": "stdout",
     "output_type": "stream",
     "text": [
      "The tensorboard extension is already loaded. To reload it, use:\n",
      "  %reload_ext tensorboard\n"
     ]
    },
    {
     "data": {
      "text/plain": [
       "Reusing TensorBoard on port 6006 (pid 11920), started 0:37:53 ago. (Use '!kill 11920' to kill it.)"
      ]
     },
     "metadata": {},
     "output_type": "display_data"
    },
    {
     "data": {
      "text/html": [
       "\n",
       "      <iframe id=\"tensorboard-frame-a9b14d9471889012\" width=\"100%\" height=\"800\" frameborder=\"0\">\n",
       "      </iframe>\n",
       "      <script>\n",
       "        (function() {\n",
       "          const frame = document.getElementById(\"tensorboard-frame-a9b14d9471889012\");\n",
       "          const url = new URL(\"/\", window.location);\n",
       "          const port = 6006;\n",
       "          if (port) {\n",
       "            url.port = port;\n",
       "          }\n",
       "          frame.src = url;\n",
       "        })();\n",
       "      </script>\n",
       "    "
      ],
      "text/plain": [
       "<IPython.core.display.HTML object>"
      ]
     },
     "metadata": {},
     "output_type": "display_data"
    }
   ],
   "source": [
    "%load_ext tensorboard\n",
    "tensorboard=tf.keras.callbacks.TensorBoard(log_dir='logs/model_1')\n",
    "logs='logs/model_1'\n",
    "%tensorboard --logdir logs"
   ]
  },
  {
   "cell_type": "code",
   "execution_count": 8,
   "metadata": {
    "id": "zozOg4VMB6ku"
   },
   "outputs": [],
   "source": [
    "from sklearn.metrics import f1_score\n",
    "import tensorflow as tf\n",
    "\n",
    "def f1(y_true, y_pred):\n",
    "  score=f1_score(y_true, np.argmax(np.asarray(y_pred), axis=1), average='macro')\n",
    "  return score\n",
    "\n",
    "def F1_score(y_true, y_pred):\n",
    "  return tf.py_function(f1,(y_true, y_pred),tf.double)"
   ]
  },
  {
   "cell_type": "code",
   "execution_count": 4,
   "metadata": {
    "id": "s1Ahk5oxcDhl"
   },
   "outputs": [],
   "source": [
    "## as discussed above, please write the architecture of the model.\n",
    "## you will have two input layers in your model (data input layer and mask input layer)\n",
    "## make sure that you have defined the data type of masking layer as bool\n",
    "class model_1(Model):\n",
    "  def __init__(self, lstm_unit_1,dense_unit_1):\n",
    "    super().__init__()\n",
    "    self.lstm_layer_1=LSTM(lstm_unit_1, return_sequences=True)\n",
    "\n",
    "    self.dense_layer_1=Dense(dense_unit_1, activation='relu', kernel_initializer='he_normal')\n",
    "    self.softmax=Dense(10,'softmax',kernel_initializer = 'glorot_normal')\n",
    "    self.flatten_layer=Flatten()\n",
    "\n",
    "  def call(self, inputs):\n",
    "    input_data, mask_data=inputs[0], inputs[1]\n",
    "    output=self.lstm_layer_1(input_data, mask=mask_data)\n",
    "    output=self.flatten_layer(output)\n",
    "    output=self.dense_layer_1(output)\n",
    "    final_output=self.softmax(output)\n",
    "    return final_output\n",
    "\n",
    "\n",
    "tensorboard=tf.keras.callbacks.TensorBoard(log_dir='logs/model_1')\n",
    "checkpoint=tf.keras.callbacks.ModelCheckpoint(filepath='model_1/model_1.tf', monitor='val_F1_score',save_best_only=True,mode= 'min',save_weights_only=True)\n",
    "lr_rate=tf.keras.callbacks.ReduceLROnPlateau(patience=10,min_delta=0.001)\n",
    "stopping=tf.keras.callbacks.EarlyStopping(min_delta=0.01, patience=3)\n",
    "callbacks=[tensorboard,checkpoint,lr_rate,stopping]\n",
    "m1=model_1(25,50)"
   ]
  },
  {
   "cell_type": "code",
   "execution_count": null,
   "metadata": {},
   "outputs": [],
   "source": []
  },
  {
   "cell_type": "code",
   "execution_count": 12,
   "metadata": {
    "colab": {
     "base_uri": "https://localhost:8080/"
    },
    "id": "qT5wJx9pdK9o",
    "outputId": "05159c8f-7a66-435c-b3fb-6073d805e231"
   },
   "outputs": [
    {
     "name": "stdout",
     "output_type": "stream",
     "text": [
      "Epoch 1/50\n",
      "70/70 [==============================] - 40s 416ms/step - loss: 2.2661 - accuracy: 0.1518 - F1_score: 0.0990 - val_loss: 2.2987 - val_accuracy: 0.1571 - val_F1_score: 0.1049 - lr: 0.0010\n",
      "Epoch 2/50\n",
      "70/70 [==============================] - 28s 398ms/step - loss: 1.9194 - accuracy: 0.2946 - F1_score: 0.2411 - val_loss: 2.2966 - val_accuracy: 0.1964 - val_F1_score: 0.1497 - lr: 0.0010\n",
      "Epoch 3/50\n",
      "70/70 [==============================] - 41s 586ms/step - loss: 1.6525 - accuracy: 0.4107 - F1_score: 0.3380 - val_loss: 2.3754 - val_accuracy: 0.2179 - val_F1_score: 0.1500 - lr: 0.0010\n",
      "Epoch 4/50\n",
      "70/70 [==============================] - 26s 367ms/step - loss: 1.3719 - accuracy: 0.5232 - F1_score: 0.4504 - val_loss: 2.7019 - val_accuracy: 0.1893 - val_F1_score: 0.1420 - lr: 0.0010\n"
     ]
    },
    {
     "data": {
      "text/plain": [
       "<keras.callbacks.History at 0x7fbe903c1b20>"
      ]
     },
     "execution_count": 12,
     "metadata": {},
     "output_type": "execute_result"
    }
   ],
   "source": [
    "m1.compile(optimizer=tf.keras.optimizers.Adam(0.001),loss='sparse_categorical_crossentropy', metrics=['accuracy',F1_score])\n",
    "m1.fit([final_x_train,X_train_mask],y_train.values.astype('int'), epochs=50, validation_split=0.2, callbacks=callbacks, batch_size=16 )"
   ]
  },
  {
   "cell_type": "code",
   "execution_count": 13,
   "metadata": {
    "colab": {
     "base_uri": "https://localhost:8080/"
    },
    "id": "MzpPjxvHaNpJ",
    "outputId": "708a935d-8c4a-4b4a-8b30-34c7a35f6dad"
   },
   "outputs": [
    {
     "name": "stdout",
     "output_type": "stream",
     "text": [
      "600/600 [==============================] - 64s 105ms/step - loss: 2.5871 - accuracy: 0.2033 - F1_score: 0.2033\n"
     ]
    },
    {
     "data": {
      "text/plain": [
       "[2.587127923965454, 0.20333333313465118, 0.20333333313465118]"
      ]
     },
     "execution_count": 13,
     "metadata": {},
     "output_type": "execute_result"
    }
   ],
   "source": [
    "#train your model\n",
    "m1.evaluate([final_x_test,X_test_mask],y_test.values.astype('float32'), batch_size=1)"
   ]
  },
  {
   "cell_type": "markdown",
   "metadata": {
    "id": "2Fwk0X4zaNpR"
   },
   "source": [
    "### 2. Converting into spectrogram and giving spectrogram data as input  \n",
    "\n",
    "We can use librosa to convert raw data into spectrogram. A spectrogram shows the features in a two-dimensional representation with the\n",
    "intensity of a frequency at a point in time i.e we are converting Time domain to frequency domain. you can read more about this in https://pnsn.org/spectrograms/what-is-a-spectrogram\n"
   ]
  },
  {
   "cell_type": "code",
   "execution_count": null,
   "metadata": {
    "id": "nb5AGzTjaNpS"
   },
   "outputs": [],
   "source": [
    "def convert_to_spectrogram(raw_data):\n",
    "    '''converting to spectrogram'''\n",
    "    #print(type(raw_data))\n",
    "    spectrum = librosa.feature.melspectrogram(y=raw_data, sr=sample_rate, n_mels=64)\n",
    "    logmel_spectrum = librosa.power_to_db(S=spectrum, ref=np.max)\n",
    "    return logmel_spectrum"
   ]
  },
  {
   "cell_type": "code",
   "execution_count": null,
   "metadata": {
    "id": "B__rN4RjaNpc"
   },
   "outputs": [],
   "source": [
    "##use convert_to_spectrogram and convert every raw sequence in X_train_pad_seq and X_test_pad-seq.\n",
    "## save those all in the X_train_spectrogram and X_test_spectrogram ( These two arrays must be numpy arrays)\n",
    "X_train_spectrogram=np.array([convert_to_spectrogram(i) for i in X_train_pad_seq])\n",
    "X_test_spectrogram=np.array([convert_to_spectrogram(i) for i in X_test_pad_seq])"
   ]
  },
  {
   "cell_type": "markdown",
   "metadata": {
    "id": "iTJ8PqZkT6wG"
   },
   "source": [
    "**Pickle File 4**"
   ]
  },
  {
   "cell_type": "code",
   "execution_count": 14,
   "metadata": {
    "id": "78XBNz61Oje0"
   },
   "outputs": [],
   "source": [
    "'''f=open('/content/drive/MyDrive/speech_recognition/spectrogram_data.pkl', 'wb')\n",
    "pickle.dump([X_train_spectrogram,X_test_spectrogram],f)\n",
    "f.close()'''\n",
    "\n",
    "f=open('/content/drive/MyDrive/speech_recognition/spectrogram_data.pkl', 'rb')\n",
    "[X_train_spectrogram,X_test_spectrogram]=pickle.load(f)"
   ]
  },
  {
   "cell_type": "markdown",
   "metadata": {
    "id": "zr1ynYZnaNpj"
   },
   "source": [
    "<font size=4>Grader function 6 </font>"
   ]
  },
  {
   "cell_type": "code",
   "execution_count": null,
   "metadata": {
    "colab": {
     "base_uri": "https://localhost:8080/"
    },
    "id": "oniXBXcsaNpk",
    "outputId": "258c3119-9722-4645-8201-829349e6cc09"
   },
   "outputs": [
    {
     "data": {
      "text/plain": [
       "True"
      ]
     },
     "execution_count": 58,
     "metadata": {},
     "output_type": "execute_result"
    }
   ],
   "source": [
    "def grader_spectrogram():\n",
    "    flag_shape = (X_train_spectrogram.shape==(1400,64, 35)) and (X_test_spectrogram.shape == (600, 64, 35))\n",
    "    return flag_shape\n",
    "grader_spectrogram()"
   ]
  },
  {
   "cell_type": "markdown",
   "metadata": {
    "id": "xxlEVyIYaNpt"
   },
   "source": [
    "\n",
    "Now we have\n",
    "\n",
    "Train data: X_train_spectrogram and y_train  \n",
    "Test data: X_test_spectrogram and y_test   \n",
    "\n",
    "We will create a LSTM model which takes this input. \n",
    "\n",
    "Task:\n",
    "\n",
    "1. Create an LSTM network which takes \"X_train_spectrogram\" as input and has to return output at every time step. \n",
    "2. Average the output of every time step and give this to the Dense layer of any size. \n",
    "(ex: Output from LSTM will be  (None, time_steps, features) average the output of every time step i.e, you should get (None,time_steps) \n",
    "and then pass to dense layer )\n",
    "3. give the above output to Dense layer of size 10( output layer) and train the network with sparse categorical cross entropy.  \n",
    "4. Use tensorboard to plot the graphs of loss and metric(use custom micro F1 score as metric) and histograms of gradients. You can write your code for computing F1 score using this <a  href='https://i.imgur.com/8YULUcu.jpg'>link</a> \n",
    "5. make sure that it won't overfit. \n",
    "6. You are free to include any regularization\n"
   ]
  },
  {
   "cell_type": "code",
   "execution_count": 15,
   "metadata": {
    "id": "IaQjaiiGaNpv"
   },
   "outputs": [],
   "source": [
    "# write the architecture of the model\n",
    "#print model.summary and make sure that it is following point 2 mentioned above\n",
    "class model_2(Model):\n",
    "  def __init__(self,lstm_unit_1,dense_unit_1):\n",
    "    super().__init__()\n",
    "    self.lstm_layer_1=LSTM(lstm_unit_1 ,return_sequences=True)\n",
    "\n",
    "    self.dense_layer_1=Dense(dense_unit_1, activation='relu', kernel_initializer='he_normal')\n",
    "    self.softmax=Dense(10,'softmax')\n",
    "    self.flatten_layer=Flatten()\n",
    "\n",
    "  def call(self, inputs):\n",
    "    output=self.lstm_layer_1(inputs)\n",
    "\n",
    "    output=self.dense_layer_1(tf.reduce_mean(output, axis=2))\n",
    "\n",
    "    output=self.flatten_layer(output)\n",
    "    final_output=self.softmax(output)\n",
    "\n",
    "    return final_output\n"
   ]
  },
  {
   "cell_type": "code",
   "execution_count": 17,
   "metadata": {
    "colab": {
     "base_uri": "https://localhost:8080/"
    },
    "id": "NO5teZU5tAXo",
    "outputId": "7636538d-6055-4841-f32d-a6c367104e64"
   },
   "outputs": [
    {
     "data": {
      "text/plain": [
       "(1400, 64, 35)"
      ]
     },
     "execution_count": 17,
     "metadata": {},
     "output_type": "execute_result"
    }
   ],
   "source": [
    "X_train_spectrogram.shape"
   ]
  },
  {
   "cell_type": "code",
   "execution_count": 18,
   "metadata": {
    "colab": {
     "base_uri": "https://localhost:8080/"
    },
    "id": "5UumlBPJdvLB",
    "outputId": "ea9a4c66-f439-4648-c202-902b77c0583d"
   },
   "outputs": [
    {
     "name": "stdout",
     "output_type": "stream",
     "text": [
      "Epoch 1/100\n",
      "70/70 [==============================] - 4s 25ms/step - loss: 2.2464 - accuracy: 0.2134 - F1_score: 0.1297 - val_loss: 2.1423 - val_accuracy: 0.3107 - val_F1_score: 0.2048 - lr: 5.0000e-04\n",
      "Epoch 2/100\n",
      "70/70 [==============================] - 1s 13ms/step - loss: 1.9879 - accuracy: 0.3634 - F1_score: 0.2400 - val_loss: 1.7764 - val_accuracy: 0.4321 - val_F1_score: 0.3171 - lr: 5.0000e-04\n",
      "Epoch 3/100\n",
      "70/70 [==============================] - 1s 16ms/step - loss: 1.5419 - accuracy: 0.4777 - F1_score: 0.3720 - val_loss: 1.3776 - val_accuracy: 0.5143 - val_F1_score: 0.4438 - lr: 5.0000e-04\n",
      "Epoch 4/100\n",
      "70/70 [==============================] - 1s 14ms/step - loss: 1.2521 - accuracy: 0.5964 - F1_score: 0.4979 - val_loss: 1.1708 - val_accuracy: 0.6036 - val_F1_score: 0.5160 - lr: 5.0000e-04\n",
      "Epoch 5/100\n",
      "70/70 [==============================] - 1s 10ms/step - loss: 1.0829 - accuracy: 0.6464 - F1_score: 0.5580 - val_loss: 1.0269 - val_accuracy: 0.6643 - val_F1_score: 0.5833 - lr: 5.0000e-04\n",
      "Epoch 6/100\n",
      "70/70 [==============================] - 1s 9ms/step - loss: 0.9557 - accuracy: 0.7036 - F1_score: 0.6124 - val_loss: 0.9258 - val_accuracy: 0.6964 - val_F1_score: 0.6343 - lr: 5.0000e-04\n",
      "Epoch 7/100\n",
      "70/70 [==============================] - 1s 10ms/step - loss: 0.8691 - accuracy: 0.7482 - F1_score: 0.6761 - val_loss: 0.8607 - val_accuracy: 0.6857 - val_F1_score: 0.6176 - lr: 5.0000e-04\n",
      "Epoch 8/100\n",
      "70/70 [==============================] - 1s 9ms/step - loss: 0.8143 - accuracy: 0.7527 - F1_score: 0.6811 - val_loss: 0.8114 - val_accuracy: 0.7107 - val_F1_score: 0.6339 - lr: 5.0000e-04\n",
      "Epoch 9/100\n",
      "70/70 [==============================] - 1s 10ms/step - loss: 0.7615 - accuracy: 0.7616 - F1_score: 0.6925 - val_loss: 0.7713 - val_accuracy: 0.7393 - val_F1_score: 0.6640 - lr: 5.0000e-04\n",
      "Epoch 10/100\n",
      "70/70 [==============================] - 1s 9ms/step - loss: 0.7026 - accuracy: 0.7964 - F1_score: 0.7339 - val_loss: 0.7528 - val_accuracy: 0.7357 - val_F1_score: 0.6708 - lr: 5.0000e-04\n",
      "Epoch 11/100\n",
      "70/70 [==============================] - 1s 9ms/step - loss: 0.6583 - accuracy: 0.8134 - F1_score: 0.7512 - val_loss: 0.7162 - val_accuracy: 0.7357 - val_F1_score: 0.6644 - lr: 5.0000e-04\n",
      "Epoch 12/100\n",
      "70/70 [==============================] - 1s 9ms/step - loss: 0.6193 - accuracy: 0.8232 - F1_score: 0.7653 - val_loss: 0.6559 - val_accuracy: 0.7821 - val_F1_score: 0.7123 - lr: 5.0000e-04\n",
      "Epoch 13/100\n",
      "70/70 [==============================] - 1s 10ms/step - loss: 0.6030 - accuracy: 0.8188 - F1_score: 0.7527 - val_loss: 0.6336 - val_accuracy: 0.7893 - val_F1_score: 0.7519 - lr: 5.0000e-04\n",
      "Epoch 14/100\n",
      "70/70 [==============================] - 1s 9ms/step - loss: 0.5662 - accuracy: 0.8473 - F1_score: 0.7747 - val_loss: 0.5885 - val_accuracy: 0.7857 - val_F1_score: 0.7085 - lr: 5.0000e-04\n",
      "Epoch 15/100\n",
      "70/70 [==============================] - 1s 9ms/step - loss: 0.5212 - accuracy: 0.8598 - F1_score: 0.8054 - val_loss: 0.5637 - val_accuracy: 0.7893 - val_F1_score: 0.7242 - lr: 5.0000e-04\n",
      "Epoch 16/100\n",
      "70/70 [==============================] - 1s 10ms/step - loss: 0.5077 - accuracy: 0.8554 - F1_score: 0.8118 - val_loss: 0.5634 - val_accuracy: 0.7964 - val_F1_score: 0.7437 - lr: 5.0000e-04\n",
      "Epoch 17/100\n",
      "70/70 [==============================] - 1s 10ms/step - loss: 0.4846 - accuracy: 0.8589 - F1_score: 0.7968 - val_loss: 0.5435 - val_accuracy: 0.8000 - val_F1_score: 0.7215 - lr: 5.0000e-04\n",
      "Epoch 18/100\n",
      "70/70 [==============================] - 1s 9ms/step - loss: 0.4653 - accuracy: 0.8696 - F1_score: 0.8126 - val_loss: 0.4792 - val_accuracy: 0.8250 - val_F1_score: 0.7501 - lr: 5.0000e-04\n",
      "Epoch 19/100\n",
      "70/70 [==============================] - 1s 10ms/step - loss: 0.4553 - accuracy: 0.8634 - F1_score: 0.8189 - val_loss: 0.5111 - val_accuracy: 0.7929 - val_F1_score: 0.7190 - lr: 5.0000e-04\n",
      "Epoch 20/100\n",
      "70/70 [==============================] - 1s 13ms/step - loss: 0.4462 - accuracy: 0.8679 - F1_score: 0.8010 - val_loss: 0.5135 - val_accuracy: 0.8250 - val_F1_score: 0.7813 - lr: 5.0000e-04\n",
      "Epoch 21/100\n",
      "70/70 [==============================] - 1s 14ms/step - loss: 0.4103 - accuracy: 0.8857 - F1_score: 0.8345 - val_loss: 0.4816 - val_accuracy: 0.8107 - val_F1_score: 0.7551 - lr: 5.0000e-04\n",
      "Epoch 22/100\n",
      "70/70 [==============================] - 1s 13ms/step - loss: 0.3696 - accuracy: 0.9036 - F1_score: 0.8673 - val_loss: 0.4223 - val_accuracy: 0.8357 - val_F1_score: 0.7796 - lr: 5.0000e-05\n",
      "Epoch 23/100\n",
      "70/70 [==============================] - 1s 13ms/step - loss: 0.3454 - accuracy: 0.9143 - F1_score: 0.8786 - val_loss: 0.4220 - val_accuracy: 0.8357 - val_F1_score: 0.7765 - lr: 5.0000e-05\n",
      "Epoch 24/100\n",
      "70/70 [==============================] - 1s 10ms/step - loss: 0.3374 - accuracy: 0.9170 - F1_score: 0.8859 - val_loss: 0.4123 - val_accuracy: 0.8357 - val_F1_score: 0.7723 - lr: 5.0000e-05\n",
      "Epoch 25/100\n",
      "70/70 [==============================] - 1s 10ms/step - loss: 0.3324 - accuracy: 0.9196 - F1_score: 0.8880 - val_loss: 0.4115 - val_accuracy: 0.8500 - val_F1_score: 0.7967 - lr: 5.0000e-05\n",
      "Epoch 26/100\n",
      "70/70 [==============================] - 1s 11ms/step - loss: 0.3287 - accuracy: 0.9223 - F1_score: 0.9008 - val_loss: 0.4058 - val_accuracy: 0.8393 - val_F1_score: 0.7794 - lr: 5.0000e-05\n",
      "Epoch 27/100\n",
      "70/70 [==============================] - 1s 9ms/step - loss: 0.3246 - accuracy: 0.9214 - F1_score: 0.8824 - val_loss: 0.4074 - val_accuracy: 0.8500 - val_F1_score: 0.7967 - lr: 5.0000e-05\n",
      "Epoch 28/100\n",
      "70/70 [==============================] - 1s 9ms/step - loss: 0.3180 - accuracy: 0.9286 - F1_score: 0.8964 - val_loss: 0.4049 - val_accuracy: 0.8464 - val_F1_score: 0.7901 - lr: 5.0000e-06\n",
      "Epoch 29/100\n",
      "70/70 [==============================] - 1s 9ms/step - loss: 0.3166 - accuracy: 0.9277 - F1_score: 0.8940 - val_loss: 0.4042 - val_accuracy: 0.8464 - val_F1_score: 0.7901 - lr: 5.0000e-06\n",
      "Epoch 30/100\n",
      "70/70 [==============================] - 1s 10ms/step - loss: 0.3158 - accuracy: 0.9268 - F1_score: 0.8930 - val_loss: 0.4041 - val_accuracy: 0.8464 - val_F1_score: 0.7901 - lr: 5.0000e-06\n",
      "Epoch 31/100\n",
      "70/70 [==============================] - 1s 10ms/step - loss: 0.3149 - accuracy: 0.9268 - F1_score: 0.8983 - val_loss: 0.4040 - val_accuracy: 0.8464 - val_F1_score: 0.7901 - lr: 5.0000e-07\n",
      "Epoch 32/100\n",
      "70/70 [==============================] - 1s 9ms/step - loss: 0.3149 - accuracy: 0.9268 - F1_score: 0.8886 - val_loss: 0.4040 - val_accuracy: 0.8464 - val_F1_score: 0.7901 - lr: 5.0000e-07\n",
      "Epoch 33/100\n",
      "70/70 [==============================] - 1s 10ms/step - loss: 0.3148 - accuracy: 0.9268 - F1_score: 0.8930 - val_loss: 0.4040 - val_accuracy: 0.8464 - val_F1_score: 0.7901 - lr: 5.0000e-07\n",
      "Epoch 34/100\n",
      "70/70 [==============================] - 1s 9ms/step - loss: 0.3147 - accuracy: 0.9268 - F1_score: 0.9008 - val_loss: 0.4040 - val_accuracy: 0.8464 - val_F1_score: 0.7901 - lr: 5.0000e-08\n",
      "Epoch 35/100\n",
      "70/70 [==============================] - 1s 10ms/step - loss: 0.3147 - accuracy: 0.9268 - F1_score: 0.8939 - val_loss: 0.4040 - val_accuracy: 0.8464 - val_F1_score: 0.7901 - lr: 5.0000e-08\n",
      "Epoch 36/100\n",
      "70/70 [==============================] - 1s 9ms/step - loss: 0.3147 - accuracy: 0.9268 - F1_score: 0.8943 - val_loss: 0.4040 - val_accuracy: 0.8464 - val_F1_score: 0.7901 - lr: 5.0000e-08\n",
      "Epoch 37/100\n",
      "70/70 [==============================] - 1s 9ms/step - loss: 0.3147 - accuracy: 0.9268 - F1_score: 0.8969 - val_loss: 0.4040 - val_accuracy: 0.8464 - val_F1_score: 0.7901 - lr: 5.0000e-09\n",
      "Epoch 38/100\n",
      "70/70 [==============================] - 1s 11ms/step - loss: 0.3147 - accuracy: 0.9268 - F1_score: 0.8884 - val_loss: 0.4040 - val_accuracy: 0.8464 - val_F1_score: 0.7901 - lr: 5.0000e-09\n",
      "Epoch 39/100\n",
      "70/70 [==============================] - 1s 13ms/step - loss: 0.3147 - accuracy: 0.9268 - F1_score: 0.8946 - val_loss: 0.4040 - val_accuracy: 0.8464 - val_F1_score: 0.7901 - lr: 5.0000e-09\n",
      "Epoch 40/100\n",
      "70/70 [==============================] - 1s 13ms/step - loss: 0.3147 - accuracy: 0.9268 - F1_score: 0.8879 - val_loss: 0.4040 - val_accuracy: 0.8464 - val_F1_score: 0.7901 - lr: 5.0000e-10\n",
      "Epoch 41/100\n",
      "70/70 [==============================] - 1s 13ms/step - loss: 0.3147 - accuracy: 0.9268 - F1_score: 0.9005 - val_loss: 0.4040 - val_accuracy: 0.8464 - val_F1_score: 0.7901 - lr: 5.0000e-10\n"
     ]
    },
    {
     "data": {
      "text/plain": [
       "<keras.callbacks.History at 0x7fbe27296190>"
      ]
     },
     "execution_count": 18,
     "metadata": {},
     "output_type": "execute_result"
    }
   ],
   "source": [
    "m2=model_2(256,256)\n",
    "#100,80,60,64,32,16\n",
    "\n",
    "tensorboard=tf.keras.callbacks.TensorBoard(log_dir='/content/drive/MyDrive/speech_recognition/logs/model_2')\n",
    "checkpoint=tf.keras.callbacks.ModelCheckpoint(filepath='/content/drive/MyDrive/speech_recognition/model_1/model_2.h5', monitor='val_F1_score',save_best_only=True,mode= 'min',save_weights_only=True)\n",
    "lr_rate=tf.keras.callbacks.ReduceLROnPlateau(patience=3,min_delta=0.01)\n",
    "stopping=tf.keras.callbacks.EarlyStopping(min_delta=0.0001, patience=10, monitor='val_loss')\n",
    "callbacks=[tensorboard,checkpoint,lr_rate,stopping]\n",
    "\n",
    "m2.compile(optimizer=tf.keras.optimizers.Adam(0.0005),loss='sparse_categorical_crossentropy', metrics=['accuracy',F1_score])\n",
    "m2.fit(X_train_spectrogram,y_train.values.astype('int'), epochs=100, validation_split=0.2 , callbacks=callbacks, batch_size=16)"
   ]
  },
  {
   "cell_type": "code",
   "execution_count": 19,
   "metadata": {
    "colab": {
     "base_uri": "https://localhost:8080/"
    },
    "id": "862fP2e-aNp3",
    "outputId": "81a35c91-18a0-48a0-951b-4d0ae38a125b"
   },
   "outputs": [
    {
     "name": "stdout",
     "output_type": "stream",
     "text": [
      "600/600 [==============================] - 3s 6ms/step - loss: 0.4050 - accuracy: 0.8717 - F1_score: 0.8717\n"
     ]
    },
    {
     "data": {
      "text/plain": [
       "[0.40502050518989563, 0.871666669845581, 0.871666669845581]"
      ]
     },
     "execution_count": 19,
     "metadata": {},
     "output_type": "execute_result"
    }
   ],
   "source": [
    "#compile and fit your model.\n",
    "#model2.fit([X_train_spectrogram],y_train_int,......)\n",
    "#(batch_size, Timesteps, Features)\n",
    "m2.evaluate(X_test_spectrogram,y_test.values.astype('int'), batch_size=1)"
   ]
  },
  {
   "cell_type": "markdown",
   "metadata": {
    "id": "aSl8ZOXjaNqJ"
   },
   "source": [
    "### 3. Data augmentation with raw features \n",
    "\n",
    "Till now we have done with 2000 samples only. It is very less data. We are giving the process of generating augmented data below.\n",
    "\n",
    "There are two types of augmentation:\n",
    "1. time stretching - Time stretching either increases or decreases the length of the file. For time stretching we move the file 30% faster or slower\n",
    "2. pitch shifting - pitch shifting moves the frequencies higher or lower. For pitch shifting we shift up or down one half-step.\n"
   ]
  },
  {
   "cell_type": "code",
   "execution_count": 3,
   "metadata": {
    "id": "JQ2YV2vno7-s"
   },
   "outputs": [],
   "source": [
    "import librosa\n",
    "import pandas as pd\n",
    "import numpy as np"
   ]
  },
  {
   "cell_type": "code",
   "execution_count": 25,
   "metadata": {
    "id": "jR4JSEDgaNqK"
   },
   "outputs": [],
   "source": [
    "## generating augmented data. \n",
    "def generate_augmented_data(file_path):\n",
    "    augmented_data = []\n",
    "    samples = load_wav(file_path,get_duration=False)\n",
    "    for time_value in [0.7, 1, 1.3]:\n",
    "        for pitch_value in [-1, 0, 1]:\n",
    "            time_stretch_data = librosa.effects.time_stretch(samples, rate=time_value)\n",
    "            final_data = librosa.effects.pitch_shift(time_stretch_data, sr=sample_rate, n_steps=pitch_value)\n",
    "            augmented_data.append(final_data)\n",
    "    return augmented_data\n",
    "\n",
    "sample_rate = 22050\n",
    "def load_wav(x, get_duration=True):\n",
    "    '''This return the array values of audio with sampling rate of 22050 and Duration'''\n",
    "    #loading the wav file with sampling rate of 22050\n",
    "    samples, sample_rate = librosa.load(x, sr=22050)\n",
    "    if get_duration:\n",
    "        duration = librosa.get_duration(samples, sample_rate)\n",
    "        return [samples, duration]\n",
    "    else:\n",
    "        return samples"
   ]
  },
  {
   "cell_type": "code",
   "execution_count": 8,
   "metadata": {
    "id": "QRdefb-SaNqS"
   },
   "outputs": [],
   "source": [
    "temp_path = df_audio.iloc[0].path\n",
    "aug_temp = generate_augmented_data(temp_path)"
   ]
  },
  {
   "cell_type": "code",
   "execution_count": 9,
   "metadata": {
    "id": "kjufMGaZjnFv"
   },
   "outputs": [],
   "source": [
    "x=df_audio['path']\n",
    "y=df_audio['label']\n",
    "from sklearn.model_selection import train_test_split\n",
    "x_train_2, x_test_2, y_train_2, y_test_2=train_test_split(x,y, test_size=0.2)"
   ]
  },
  {
   "cell_type": "code",
   "execution_count": null,
   "metadata": {
    "id": "YVZ6XqQ09N3n"
   },
   "outputs": [],
   "source": []
  },
  {
   "cell_type": "code",
   "execution_count": 4,
   "metadata": {
    "id": "HMoIlPVu1jbt"
   },
   "outputs": [],
   "source": [
    "'''f=open('/content/drive/MyDrive/speech_recognition/augmented_audios.pkl', 'wb')\n",
    "pickle.dump([x_train_2, x_test_2, y_train_2, y_test_2],f)\n",
    "f.close()'''\n",
    "\n",
    "f=open('/content/drive/MyDrive/speech_recognition/augmented_audios.pkl', 'rb')\n",
    "[x_train_2, x_test_2, y_train_2, y_test_2]=pickle.load(f)"
   ]
  },
  {
   "cell_type": "markdown",
   "metadata": {
    "id": "ZckytZsraNqk"
   },
   "source": [
    "## Follow the steps \n",
    "\n",
    "1. Split data 'df_audio' into train and test (80-20 split)\n",
    "\n",
    "2. We have 2000 data points(1600 train points, 400 test points) \n",
    "\n"
   ]
  },
  {
   "cell_type": "markdown",
   "metadata": {
    "id": "AdKXVRlpaNql"
   },
   "source": [
    "3. Do augmentation only on X_train,pass each point of X_train to generate_augmented_data function.After augmentation we will get 14400 train points. Make sure that you are augmenting the corresponding class labels (y_train) also.\n",
    "4. Preprocess your X_test using load_wav function.\n",
    "5. Convert the augmented_train_data and test_data to numpy arrays.\n",
    "6. Perform padding and masking on augmented_train_data and test_data.\n",
    "7. After padding define the model similar to model 1 and fit the data"
   ]
  },
  {
   "cell_type": "markdown",
   "metadata": {
    "id": "H8Yh72uYO_sD"
   },
   "source": [
    "<font color='red'> Note </font> - While fitting your model on the augmented data for model 3 you might face Resource exhaust error. One simple hack to avoid that is save the augmented_train_data,augment_y_train,test_data and y_test to Drive or into your local system. Then restart the runtime so that now you can train your model with full RAM capacity. Upload these files again in the new runtime session perform padding and masking and then fit your model."
   ]
  },
  {
   "cell_type": "code",
   "execution_count": 28,
   "metadata": {
    "colab": {
     "base_uri": "https://localhost:8080/"
    },
    "id": "wBwzbjOzO_sD",
    "outputId": "9573bd77-d44c-4cb1-df2b-73656cb3284a"
   },
   "outputs": [
    {
     "name": "stderr",
     "output_type": "stream",
     "text": [
      "100%|██████████| 1600/1600 [10:57<00:00,  2.43it/s]\n",
      "<ipython-input-28-98f2b73498a2>:10: VisibleDeprecationWarning: Creating an ndarray from ragged nested sequences (which is a list-or-tuple of lists-or-tuples-or ndarrays with different lengths or shapes) is deprecated. If you meant to do this, you must specify 'dtype=object' when creating the ndarray.\n",
      "  X_train_processed_2=np.array(final_data)\n"
     ]
    }
   ],
   "source": [
    "from tqdm import tqdm\n",
    "final_data=[]\n",
    "final_label=[]\n",
    "i=0\n",
    "for file in tqdm(x_train_2):\n",
    "  final_data.extend(generate_augmented_data(file))\n",
    "  final_label.extend([int(y_train_2.values[i]) for j in range(len(generate_augmented_data(file)))])\n",
    "  i+=1\n",
    "\n",
    "X_train_processed_2=np.array(final_data)"
   ]
  },
  {
   "cell_type": "markdown",
   "metadata": {
    "id": "RrGh33OJ1f_1"
   },
   "source": [
    "#### Checking what is the correct length to trim and pad the data."
   ]
  },
  {
   "cell_type": "code",
   "execution_count": 18,
   "metadata": {
    "colab": {
     "base_uri": "https://localhost:8080/"
    },
    "id": "JR05lfx47ciw",
    "outputId": "7c3bea0b-c442-48a7-9236-1c8ae6606b0c"
   },
   "outputs": [
    {
     "data": {
      "text/plain": [
       "array([ 2.8041793e-05, -6.9146758e-05, -3.6417553e-04, ...,\n",
       "       -1.1356591e-04, -1.8699054e-04,  0.0000000e+00], dtype=float32)"
      ]
     },
     "execution_count": 18,
     "metadata": {},
     "output_type": "execute_result"
    }
   ],
   "source": [
    "X_train_processed_2"
   ]
  },
  {
   "cell_type": "markdown",
   "metadata": {
    "id": "uAb6GFNNnF9d"
   },
   "source": [
    "#### Pickle File"
   ]
  },
  {
   "cell_type": "code",
   "execution_count": 5,
   "metadata": {
    "id": "JWuKXeqDUQJH"
   },
   "outputs": [],
   "source": [
    "import pickle\n",
    "\n",
    "'''f=open('/content/drive/MyDrive/speech_recognition/augmented_audios_2.pkl', 'wb')\n",
    "pickle.dump([X_train_processed_2,final_label],f)\n",
    "f.close()'''\n",
    "\n",
    "f=open('/content/drive/MyDrive/speech_recognition/augmented_audios_2.pkl', 'rb')\n",
    "[X_train_processed_2,final_label]=pickle.load(f)\n"
   ]
  },
  {
   "cell_type": "code",
   "execution_count": 23,
   "metadata": {
    "colab": {
     "base_uri": "https://localhost:8080/"
    },
    "id": "ao9PS_Th8Exh",
    "outputId": "f71e288d-5d05-4591-90ca-b14a767c40f4"
   },
   "outputs": [
    {
     "name": "stdout",
     "output_type": "stream",
     "text": [
      "0 percentile values is 2435.0\n",
      "10 percentile values is 5285.400000000001\n",
      "20 percentile values is 6228.8\n",
      "30 percentile values is 7072.099999999999\n",
      "40 percentile values is 7860.800000000001\n",
      "50 percentile values is 8665.5\n",
      "60 percentile values is 9679.0\n",
      "70 percentile values is 10822.999999999993\n",
      "80 percentile values is 12376.800000000003\n",
      "90 percentile values is 14543.000000000007\n",
      "100 percentile values is 71907.0\n"
     ]
    }
   ],
   "source": [
    "#print 0 to 100 percentile values with step size of 10 for train data duration. \n",
    "length=[len(i) for i in X_train_processed_2]\n",
    "for i in range(0,101,10):\n",
    "  print('{} percentile values is {}'.format(i,np.percentile(np.array(length),i)))"
   ]
  },
  {
   "cell_type": "code",
   "execution_count": 24,
   "metadata": {
    "colab": {
     "base_uri": "https://localhost:8080/"
    },
    "id": "OvqUnh7t8OBF",
    "outputId": "2f986754-a41d-4564-f155-3996f43f9025"
   },
   "outputs": [
    {
     "name": "stdout",
     "output_type": "stream",
     "text": [
      "90 percentile values is 14543.000000000007\n",
      "91 percentile values is 14821.810000000001\n",
      "92 percentile values is 15133.32\n",
      "93 percentile values is 15510.280000000006\n",
      "94 percentile values is 15956.239999999998\n",
      "95 percentile values is 16532.999999999956\n",
      "96 percentile values is 17429.199999999997\n",
      "97 percentile values is 18362.649999999936\n",
      "98 percentile values is 19606.220000000005\n",
      "99 percentile values is 21464.160000000003\n",
      "100 percentile values is 71907.0\n"
     ]
    }
   ],
   "source": [
    "#print 0 to 100 percentile values with step size of 10 for train data duration. \n",
    "for i in range(90,101,1):\n",
    "  print('{} percentile values is {}'.format(i,np.percentile(np.array(length),i)))"
   ]
  },
  {
   "cell_type": "code",
   "execution_count": 26,
   "metadata": {
    "colab": {
     "base_uri": "https://localhost:8080/"
    },
    "id": "jc3HNgN--yLF",
    "outputId": "0f271178-038f-4c27-e357-708c3c227ebe"
   },
   "outputs": [
    {
     "name": "stdout",
     "output_type": "stream",
     "text": [
      "99.0 percentile values is 21464.160000000003\n",
      "99.1 percentile values is 21684.0\n",
      "99.19999999999999 percentile values is 21906.0\n",
      "99.29999999999998 percentile values is 22594.0\n",
      "99.39999999999998 percentile values is 23058.70799999877\n",
      "99.49999999999997 percentile values is 24067.194999999825\n",
      "99.59999999999997 percentile values is 25074.0\n",
      "99.69999999999996 percentile values is 26079.0\n",
      "99.79999999999995 percentile values is 27379.0\n",
      "99.89999999999995 percentile values is 38131.27299998744\n",
      "99.99999999999994 percentile values is 71907.0\n"
     ]
    }
   ],
   "source": [
    "for i in np.arange(99,100.1,0.1):\n",
    "  print('{} percentile values is {}'.format(i,np.percentile(np.array(length),i)))"
   ]
  },
  {
   "cell_type": "markdown",
   "metadata": {
    "id": "3hJil-TGnFXG"
   },
   "source": []
  },
  {
   "cell_type": "code",
   "execution_count": 3,
   "metadata": {
    "id": "dcgncBzJapC8"
   },
   "outputs": [],
   "source": [
    "sample_rate = 22050\n",
    "def load_wav(x, get_duration=False):\n",
    "    '''This return the array values of audio with sampling rate of 22050 and Duration'''\n",
    "    #loading the wav file with sampling rate of 22050\n",
    "    samples, sample_rate = librosa.load(x, sr=22050)\n",
    "    if get_duration:\n",
    "        duration = librosa.get_duration(samples, sample_rate)\n",
    "        return [samples, duration]\n",
    "    else:\n",
    "        return samples"
   ]
  },
  {
   "cell_type": "code",
   "execution_count": 7,
   "metadata": {
    "id": "41vU8M1gO_sD"
   },
   "outputs": [],
   "source": [
    "processed_x_test_2=x_test_2.apply(load_wav)"
   ]
  },
  {
   "cell_type": "code",
   "execution_count": 8,
   "metadata": {
    "id": "63LVZ_D4a48c"
   },
   "outputs": [],
   "source": [
    "max_length  = 21464\n",
    "\n",
    "def processor(a):\n",
    "  if len(a)>=max_length:\n",
    "    b=a[:max_length]\n",
    "    c=np.array([1 for i in range(max_length)])\n",
    "  elif len(a)<max_length:\n",
    "    b=np.append(a,[0 for i in range(max_length-len(a))])\n",
    "    c=np.append([1 for i in range(len(a))],[0 for i in range(max_length-len(a))])\n",
    "  return b,c\n",
    "\n",
    "X_train_p_1=np.array(list(map(processor,X_train_processed_2 ))).astype('float32')"
   ]
  },
  {
   "cell_type": "code",
   "execution_count": 9,
   "metadata": {
    "id": "tiHwdSIo7bN1"
   },
   "outputs": [],
   "source": [
    "max_length  = 21464\n",
    "\n",
    "def processor(a):\n",
    "  if len(a)>=max_length:\n",
    "    b=a[:max_length]\n",
    "    c=np.array([1 for i in range(max_length)])\n",
    "  elif len(a)<max_length:\n",
    "    b=np.append(a,[0 for i in range(max_length-len(a))])\n",
    "    c=np.append([1 for i in range(len(a))],[0 for i in range(max_length-len(a))])\n",
    "  return b,c\n",
    "\n",
    "X_test_p_1=np.array(list(map(processor,processed_x_test_2 ))).astype('float32')"
   ]
  },
  {
   "cell_type": "code",
   "execution_count": null,
   "metadata": {
    "id": "0TFRVKHH-Ady"
   },
   "outputs": [],
   "source": []
  },
  {
   "cell_type": "markdown",
   "metadata": {
    "id": "hs2B72bosuCa"
   },
   "source": [
    "**PICKLE FILE**"
   ]
  },
  {
   "cell_type": "code",
   "execution_count": 19,
   "metadata": {
    "id": "CwEWW_8fXuHG"
   },
   "outputs": [],
   "source": [
    "import pickle\n",
    "'''f=open('/content/drive/MyDrive/speech_recognition/augmented_audios_3.pkl', 'wb')\n",
    "pickle.dump([X_train_p_1,X_test_p_1],f)\n",
    "f.close()'''\n",
    "\n",
    "f=open('/content/drive/MyDrive/speech_recognition/augmented_audios_3.pkl', 'rb')\n",
    "[X_train_p_1,X_test_p_1]=pickle.load(f)"
   ]
  },
  {
   "cell_type": "code",
   "execution_count": 20,
   "metadata": {
    "id": "TdBu75AJyxaJ"
   },
   "outputs": [],
   "source": []
  },
  {
   "cell_type": "code",
   "execution_count": 21,
   "metadata": {
    "id": "pY3i6kyQkBdn"
   },
   "outputs": [],
   "source": [
    "import numpy as np\n",
    "padded_x_train_2=np.array(list((i[0] for i in X_train_p_1))).astype('float32')\n",
    "masked_x_train_2=np.array(list((i[0] for i in X_train_p_1))).astype('bool')\n",
    "\n",
    "padded_x_test_2=np.array(list((i[0] for i in X_test_p_1))).astype('float32')\n",
    "masked_x_test_2=np.array(list((i[0] for i in X_test_p_1))).astype('bool')"
   ]
  },
  {
   "cell_type": "markdown",
   "metadata": {
    "id": "sH80CbdrQz0P"
   },
   "source": [
    "**Pickle File 5**"
   ]
  },
  {
   "cell_type": "code",
   "execution_count": 13,
   "metadata": {
    "id": "OiYXMhT_edi5"
   },
   "outputs": [],
   "source": [
    "import pickle\n",
    "'''f=open('/content/drive/MyDrive/speech_recognition/augmented_data.pkl', 'wb')\n",
    "pickle.dump([padded_x_train_2,masked_x_train_2,padded_x_test_2,masked_x_test_2],f)\n",
    "f.close()'''\n",
    "\n",
    "f=open('/content/drive/MyDrive/speech_recognition/augmented_data.pkl', 'rb')\n",
    "[padded_x_train_2,masked_x_train_2,padded_x_test_2,masked_x_test_2]=pickle.load(f)"
   ]
  },
  {
   "cell_type": "code",
   "execution_count": 11,
   "metadata": {
    "id": "cgfVNmdCJIO3"
   },
   "outputs": [],
   "source": [
    "padded_x_train_2=padded_x_train_2[:,:,np.newaxis].astype('float32')\n",
    "padded_x_test_2=padded_x_test_2[:,:,np.newaxis].astype('float32')"
   ]
  },
  {
   "cell_type": "code",
   "execution_count": 8,
   "metadata": {
    "colab": {
     "base_uri": "https://localhost:8080/"
    },
    "id": "qchKRzC00O06",
    "outputId": "b9fabd79-bbc4-45db-af4e-f7fbfdd9eaa6"
   },
   "outputs": [
    {
     "name": "stdout",
     "output_type": "stream",
     "text": [
      "Epoch 1/10\n",
      "180/180 [==============================] - 111s 562ms/step - loss: 2.2062 - accuracy: 0.1769 - F1_score: 0.1460 - val_loss: 2.2140 - val_accuracy: 0.1861 - val_F1_score: 0.1201 - lr: 5.0000e-04\n",
      "Epoch 2/10\n",
      "180/180 [==============================] - 93s 517ms/step - loss: 1.8606 - accuracy: 0.3191 - F1_score: 0.3022 - val_loss: 2.2444 - val_accuracy: 0.2420 - val_F1_score: 0.1424 - lr: 5.0000e-04\n",
      "Epoch 3/10\n",
      "180/180 [==============================] - 94s 519ms/step - loss: 1.5530 - accuracy: 0.4396 - F1_score: 0.4220 - val_loss: 2.3895 - val_accuracy: 0.2566 - val_F1_score: 0.1518 - lr: 5.0000e-04\n",
      "Epoch 4/10\n",
      "180/180 [==============================] - 113s 626ms/step - loss: 1.3391 - accuracy: 0.5218 - F1_score: 0.5063 - val_loss: 2.7451 - val_accuracy: 0.2705 - val_F1_score: 0.1627 - lr: 5.0000e-04\n"
     ]
    },
    {
     "data": {
      "text/plain": [
       "<keras.callbacks.History at 0x7fc3e5f21f70>"
      ]
     },
     "execution_count": 8,
     "metadata": {},
     "output_type": "execute_result"
    }
   ],
   "source": [
    "from sklearn.metrics import f1_score\n",
    "import tensorflow as tf\n",
    "from tensorflow.keras.layers import Input, LSTM, Dense, Dropout, Flatten, Embedding\n",
    "from tensorflow.keras.models import Model\n",
    "import tensorflow as tf\n",
    "\n",
    "def f1(y_true, y_pred):\n",
    "  score=f1_score(y_true, np.argmax(np.asarray(y_pred), axis=1), average='macro')\n",
    "  return score\n",
    "\n",
    "def F1_score(y_true, y_pred):\n",
    "  return tf.py_function(f1,(y_true, y_pred),tf.double)\n",
    "\n",
    "## as discussed above, please write the architecture of the model.\n",
    "## you will have two input layers in your model (data input layer and mask input layer)\n",
    "## make sure that you have defined the data type of masking layer as bool\n",
    "class model_1(Model):\n",
    "  def __init__(self, lstm_unit_1,dense_unit_1):\n",
    "    super().__init__()\n",
    "    self.lstm_layer_1=LSTM(lstm_unit_1, return_sequences=True)\n",
    "\n",
    "    self.dense_layer_1=Dense(dense_unit_1, activation='relu', kernel_initializer='he_normal')\n",
    "    self.softmax=Dense(10,'softmax',kernel_initializer = 'glorot_normal')\n",
    "    self.flatten_layer=Flatten()\n",
    "\n",
    "  def call(self, inputs):\n",
    "    input_data, mask_data=inputs[0], inputs[1]\n",
    "    output=self.lstm_layer_1(input_data, mask=mask_data)\n",
    "    output=self.flatten_layer(output)\n",
    "    output=self.dense_layer_1(output)\n",
    "    final_output=self.softmax(output)\n",
    "    return final_output\n",
    "\n",
    "\n",
    "tensorboard=tf.keras.callbacks.TensorBoard(log_dir='/content/drive/MyDrive/speech_recognition/logs/model_3')\n",
    "checkpoint=tf.keras.callbacks.ModelCheckpoint(filepath='/content/drive/MyDrive/speech_recognition/model_1/model_3.tf', monitor='val_F1_score',save_best_only=True,mode= 'min',save_weights_only=True)\n",
    "lr_rate=tf.keras.callbacks.ReduceLROnPlateau(patience=10,min_delta=0.001)\n",
    "stopping=tf.keras.callbacks.EarlyStopping(min_delta=0.01, patience=3)\n",
    "callbacks=[tensorboard,checkpoint,lr_rate,stopping]\n",
    "m1=model_1(25,50)\n",
    "\n",
    "m1.compile(optimizer=tf.keras.optimizers.Adam(0.0005),loss='sparse_categorical_crossentropy', metrics=['accuracy',F1_score])\n",
    "m1.fit([padded_x_train_2,masked_x_train_2],np.array(final_label).astype('int'), epochs=10, validation_split=0.2, callbacks=callbacks, batch_size=64 )"
   ]
  },
  {
   "cell_type": "code",
   "execution_count": 12,
   "metadata": {
    "colab": {
     "base_uri": "https://localhost:8080/"
    },
    "id": "6VyKQRrVFy2U",
    "outputId": "bf192909-1bbb-49a4-f49e-8a20f33e1cf9"
   },
   "outputs": [
    {
     "name": "stdout",
     "output_type": "stream",
     "text": [
      "400/400 [==============================] - 40s 97ms/step - loss: 3.3083 - accuracy: 0.2875 - F1_score: 0.2875\n"
     ]
    },
    {
     "data": {
      "text/plain": [
       "[3.308272361755371, 0.2874999940395355, 0.2874999940395355]"
      ]
     },
     "execution_count": 12,
     "metadata": {},
     "output_type": "execute_result"
    }
   ],
   "source": [
    "m1.evaluate([padded_x_test_2,masked_x_test_2],np.array(y_test_2).astype('int'), batch_size=1)"
   ]
  },
  {
   "cell_type": "markdown",
   "metadata": {
    "id": "vXY9uP7cO_sE"
   },
   "source": [
    "### 4. Data augmentation with spectogram data"
   ]
  },
  {
   "cell_type": "markdown",
   "metadata": {
    "id": "EShBfiERO_sE"
   },
   "source": [
    "1. use convert_to_spectrogram and convert the padded data from train and test data to spectogram data.\n",
    "2. The shape of train data will be 14400 x 64 x 35 and shape of test_data will be 400 x 64 x35\n",
    "3. Define the model similar to model 2 and fit the data"
   ]
  },
  {
   "cell_type": "code",
   "execution_count": 16,
   "metadata": {
    "id": "QpVMCEW3O_sE"
   },
   "outputs": [],
   "source": [
    "sample_rate = 22050\n",
    "\n",
    "def convert_to_spectrogram(raw_data):\n",
    "    '''converting to spectrogram'''\n",
    "    #print(type(raw_data))\n",
    "    spectrum = librosa.feature.melspectrogram(y=raw_data, sr=sample_rate, n_mels=64)\n",
    "    logmel_spectrum = librosa.power_to_db(S=spectrum, ref=np.max)\n",
    "    return logmel_spectrum"
   ]
  },
  {
   "cell_type": "code",
   "execution_count": 17,
   "metadata": {
    "id": "2eKIFowrYzFj"
   },
   "outputs": [],
   "source": [
    "spectro_x_train=np.array([convert_to_spectrogram(i) for i in padded_x_train_2.astype('float32')]).astype('float32')"
   ]
  },
  {
   "cell_type": "code",
   "execution_count": 18,
   "metadata": {
    "id": "Er6tOrcPGJMj"
   },
   "outputs": [],
   "source": [
    "spectro_x_test=np.array([convert_to_spectrogram(i) for i in padded_x_test_2.astype('float32')]).astype('float32')"
   ]
  },
  {
   "cell_type": "code",
   "execution_count": 8,
   "metadata": {
    "id": "aJt_zUaWBfOj"
   },
   "outputs": [],
   "source": []
  },
  {
   "cell_type": "code",
   "execution_count": 19,
   "metadata": {
    "id": "GR7U8joJGNdL"
   },
   "outputs": [],
   "source": [
    "import pickle\n",
    "'''f=open('/content/drive/MyDrive/speech_recognition/spectro_data.pkl', 'wb')\n",
    "pickle.dump([spectro_x_train,spectro_x_test],f)\n",
    "f.close()'''\n",
    "\n",
    "f=open('/content/drive/MyDrive/speech_recognition/spectro_data.pkl', 'rb')\n",
    "[spectro_x_train,spectro_x_test]=pickle.load(f)"
   ]
  },
  {
   "cell_type": "code",
   "execution_count": 20,
   "metadata": {
    "id": "m3krQSR7HXMk"
   },
   "outputs": [],
   "source": [
    "# write the architecture of the model\n",
    "#print model.summary and make sure that it is following point 2 mentioned above\n",
    "class model_2(Model):\n",
    "  def __init__(self,lstm_unit_1,dense_unit_1):\n",
    "    super().__init__()\n",
    "    self.lstm_layer_1=LSTM(lstm_unit_1 ,return_sequences=True)\n",
    "\n",
    "    self.dense_layer_1=Dense(dense_unit_1, activation='relu', kernel_initializer='he_normal')\n",
    "    self.dense_layer_2=Dense(dense_unit_1/2, activation='relu', kernel_initializer='he_normal')\n",
    "\n",
    "    self.softmax=Dense(10,'softmax')\n",
    "    self.flatten_layer=Flatten()\n",
    "\n",
    "  def call(self, inputs):\n",
    "    output=self.lstm_layer_1(inputs)\n",
    "\n",
    "    output=self.dense_layer_1(tf.reduce_mean(output, axis=2))\n",
    "    output=self.dense_layer_2(output)\n",
    "    output=self.flatten_layer(output)\n",
    "    final_output=self.softmax(output)\n",
    "\n",
    "    return final_output\n"
   ]
  },
  {
   "cell_type": "code",
   "execution_count": 21,
   "metadata": {
    "colab": {
     "base_uri": "https://localhost:8080/"
    },
    "id": "jP6isJGdGp-x",
    "outputId": "52caa8d9-93fd-4af4-ae45-265329b0ec9d"
   },
   "outputs": [
    {
     "name": "stdout",
     "output_type": "stream",
     "text": [
      "Epoch 1/100\n",
      "180/180 [==============================] - 6s 19ms/step - loss: 1.6363 - accuracy: 0.4244 - F1_score: 0.3716 - val_loss: 0.9920 - val_accuracy: 0.6965 - val_F1_score: 0.5120 - lr: 0.0010\n",
      "Epoch 2/100\n",
      "180/180 [==============================] - 2s 12ms/step - loss: 0.7817 - accuracy: 0.7244 - F1_score: 0.7081 - val_loss: 0.6174 - val_accuracy: 0.7965 - val_F1_score: 0.6185 - lr: 0.0010\n",
      "Epoch 3/100\n",
      "180/180 [==============================] - 2s 10ms/step - loss: 0.5792 - accuracy: 0.7905 - F1_score: 0.7769 - val_loss: 0.4924 - val_accuracy: 0.8288 - val_F1_score: 0.6439 - lr: 0.0010\n",
      "Epoch 4/100\n",
      "180/180 [==============================] - 2s 10ms/step - loss: 0.4855 - accuracy: 0.8217 - F1_score: 0.8083 - val_loss: 0.4146 - val_accuracy: 0.8719 - val_F1_score: 0.6931 - lr: 0.0010\n",
      "Epoch 5/100\n",
      "180/180 [==============================] - 2s 10ms/step - loss: 0.4324 - accuracy: 0.8463 - F1_score: 0.8333 - val_loss: 0.4029 - val_accuracy: 0.8712 - val_F1_score: 0.7136 - lr: 0.0010\n",
      "Epoch 6/100\n",
      "180/180 [==============================] - 2s 10ms/step - loss: 0.4071 - accuracy: 0.8519 - F1_score: 0.8404 - val_loss: 0.3764 - val_accuracy: 0.8719 - val_F1_score: 0.7139 - lr: 0.0010\n",
      "Epoch 7/100\n",
      "180/180 [==============================] - 2s 13ms/step - loss: 0.3840 - accuracy: 0.8625 - F1_score: 0.8499 - val_loss: 0.4080 - val_accuracy: 0.8528 - val_F1_score: 0.7033 - lr: 0.0010\n",
      "Epoch 8/100\n",
      "180/180 [==============================] - 3s 17ms/step - loss: 0.3442 - accuracy: 0.8768 - F1_score: 0.8689 - val_loss: 0.3400 - val_accuracy: 0.8809 - val_F1_score: 0.7502 - lr: 0.0010\n",
      "Epoch 9/100\n",
      "180/180 [==============================] - 2s 10ms/step - loss: 0.3461 - accuracy: 0.8753 - F1_score: 0.8646 - val_loss: 0.3448 - val_accuracy: 0.8837 - val_F1_score: 0.7385 - lr: 0.0010\n",
      "Epoch 10/100\n",
      "180/180 [==============================] - 2s 10ms/step - loss: 0.3356 - accuracy: 0.8817 - F1_score: 0.8722 - val_loss: 0.3520 - val_accuracy: 0.8760 - val_F1_score: 0.7273 - lr: 0.0010\n",
      "Epoch 11/100\n",
      "180/180 [==============================] - 2s 10ms/step - loss: 0.2953 - accuracy: 0.9012 - F1_score: 0.8933 - val_loss: 0.2953 - val_accuracy: 0.9059 - val_F1_score: 0.7797 - lr: 0.0010\n",
      "Epoch 12/100\n",
      "180/180 [==============================] - 2s 10ms/step - loss: 0.2850 - accuracy: 0.9012 - F1_score: 0.8923 - val_loss: 0.2970 - val_accuracy: 0.9007 - val_F1_score: 0.7740 - lr: 0.0010\n",
      "Epoch 13/100\n",
      "180/180 [==============================] - 2s 10ms/step - loss: 0.2729 - accuracy: 0.9061 - F1_score: 0.9003 - val_loss: 0.2814 - val_accuracy: 0.9017 - val_F1_score: 0.7711 - lr: 0.0010\n",
      "Epoch 14/100\n",
      "180/180 [==============================] - 3s 15ms/step - loss: 0.2590 - accuracy: 0.9137 - F1_score: 0.9069 - val_loss: 0.2860 - val_accuracy: 0.9003 - val_F1_score: 0.7644 - lr: 0.0010\n",
      "Epoch 15/100\n",
      "180/180 [==============================] - 2s 13ms/step - loss: 0.2622 - accuracy: 0.9112 - F1_score: 0.9055 - val_loss: 0.3385 - val_accuracy: 0.8760 - val_F1_score: 0.7367 - lr: 0.0010\n",
      "Epoch 16/100\n",
      "180/180 [==============================] - 2s 10ms/step - loss: 0.2536 - accuracy: 0.9123 - F1_score: 0.9059 - val_loss: 0.2795 - val_accuracy: 0.9115 - val_F1_score: 0.7825 - lr: 0.0010\n",
      "Epoch 17/100\n",
      "180/180 [==============================] - 2s 10ms/step - loss: 0.2056 - accuracy: 0.9370 - F1_score: 0.9313 - val_loss: 0.2305 - val_accuracy: 0.9274 - val_F1_score: 0.8140 - lr: 1.0000e-04\n",
      "Epoch 18/100\n",
      "180/180 [==============================] - 2s 10ms/step - loss: 0.1952 - accuracy: 0.9386 - F1_score: 0.9346 - val_loss: 0.2336 - val_accuracy: 0.9250 - val_F1_score: 0.8116 - lr: 1.0000e-04\n",
      "Epoch 19/100\n",
      "180/180 [==============================] - 2s 10ms/step - loss: 0.1928 - accuracy: 0.9391 - F1_score: 0.9345 - val_loss: 0.2335 - val_accuracy: 0.9247 - val_F1_score: 0.8147 - lr: 1.0000e-04\n",
      "Epoch 20/100\n",
      "180/180 [==============================] - 2s 10ms/step - loss: 0.1892 - accuracy: 0.9415 - F1_score: 0.9355 - val_loss: 0.2242 - val_accuracy: 0.9326 - val_F1_score: 0.8279 - lr: 1.0000e-04\n",
      "Epoch 21/100\n",
      "180/180 [==============================] - 3s 15ms/step - loss: 0.1836 - accuracy: 0.9428 - F1_score: 0.9355 - val_loss: 0.2230 - val_accuracy: 0.9337 - val_F1_score: 0.8334 - lr: 1.0000e-05\n",
      "Epoch 22/100\n",
      "180/180 [==============================] - 2s 14ms/step - loss: 0.1823 - accuracy: 0.9441 - F1_score: 0.9399 - val_loss: 0.2232 - val_accuracy: 0.9312 - val_F1_score: 0.8329 - lr: 1.0000e-05\n",
      "Epoch 23/100\n",
      "180/180 [==============================] - 2s 11ms/step - loss: 0.1818 - accuracy: 0.9447 - F1_score: 0.9405 - val_loss: 0.2234 - val_accuracy: 0.9312 - val_F1_score: 0.8315 - lr: 1.0000e-05\n",
      "Epoch 24/100\n",
      "180/180 [==============================] - 2s 11ms/step - loss: 0.1808 - accuracy: 0.9453 - F1_score: 0.9391 - val_loss: 0.2232 - val_accuracy: 0.9312 - val_F1_score: 0.8315 - lr: 1.0000e-06\n",
      "Epoch 25/100\n",
      "180/180 [==============================] - 2s 10ms/step - loss: 0.1807 - accuracy: 0.9451 - F1_score: 0.9406 - val_loss: 0.2232 - val_accuracy: 0.9309 - val_F1_score: 0.8308 - lr: 1.0000e-06\n",
      "Epoch 26/100\n",
      "180/180 [==============================] - 2s 10ms/step - loss: 0.1807 - accuracy: 0.9453 - F1_score: 0.9415 - val_loss: 0.2231 - val_accuracy: 0.9312 - val_F1_score: 0.8309 - lr: 1.0000e-06\n",
      "Epoch 27/100\n",
      "180/180 [==============================] - 2s 12ms/step - loss: 0.1806 - accuracy: 0.9454 - F1_score: 0.9405 - val_loss: 0.2231 - val_accuracy: 0.9312 - val_F1_score: 0.8309 - lr: 1.0000e-07\n",
      "Epoch 28/100\n",
      "180/180 [==============================] - 3s 14ms/step - loss: 0.1805 - accuracy: 0.9454 - F1_score: 0.9394 - val_loss: 0.2230 - val_accuracy: 0.9312 - val_F1_score: 0.8309 - lr: 1.0000e-07\n",
      "Epoch 29/100\n",
      "180/180 [==============================] - 2s 11ms/step - loss: 0.1805 - accuracy: 0.9454 - F1_score: 0.9402 - val_loss: 0.2230 - val_accuracy: 0.9312 - val_F1_score: 0.8309 - lr: 1.0000e-07\n",
      "Epoch 30/100\n",
      "180/180 [==============================] - 2s 10ms/step - loss: 0.1805 - accuracy: 0.9454 - F1_score: 0.9410 - val_loss: 0.2230 - val_accuracy: 0.9312 - val_F1_score: 0.8309 - lr: 1.0000e-08\n",
      "Epoch 31/100\n",
      "180/180 [==============================] - 2s 10ms/step - loss: 0.1805 - accuracy: 0.9454 - F1_score: 0.9411 - val_loss: 0.2230 - val_accuracy: 0.9312 - val_F1_score: 0.8309 - lr: 1.0000e-08\n"
     ]
    },
    {
     "data": {
      "text/plain": [
       "<keras.callbacks.History at 0x7fc3f862f0a0>"
      ]
     },
     "execution_count": 21,
     "metadata": {},
     "output_type": "execute_result"
    }
   ],
   "source": [
    "m2=model_2(128,128)\n",
    "#100,80,60,64,32,16\n",
    "\n",
    "tensorboard=tf.keras.callbacks.TensorBoard(log_dir='/content/drive/MyDrive/speech_recognition/logs/model_4')\n",
    "checkpoint=tf.keras.callbacks.ModelCheckpoint(filepath='/content/drive/MyDrive/speech_recognition/model_1/model_4.h5', monitor='val_F1_score',save_best_only=True,mode= 'min',save_weights_only=True)\n",
    "lr_rate=tf.keras.callbacks.ReduceLROnPlateau(patience=3,min_delta=0.01)\n",
    "stopping=tf.keras.callbacks.EarlyStopping(min_delta=0.0001, patience=10, monitor='val_loss')\n",
    "callbacks=[tensorboard,checkpoint,lr_rate,stopping]\n",
    "\n",
    "m2.compile(optimizer=tf.keras.optimizers.Adam(0.001),loss='sparse_categorical_crossentropy', metrics=['accuracy',F1_score])\n",
    "m2.fit(spectro_x_train,np.array(final_label).astype('int'), epochs=100, validation_split=0.2 , callbacks=callbacks, batch_size=64)"
   ]
  },
  {
   "cell_type": "code",
   "execution_count": 23,
   "metadata": {
    "colab": {
     "base_uri": "https://localhost:8080/"
    },
    "id": "a_XJMeDvWBAB",
    "outputId": "aa122bf1-6e1b-43a7-ff14-5bf77c100e11"
   },
   "outputs": [
    {
     "name": "stdout",
     "output_type": "stream",
     "text": [
      "400/400 [==============================] - 4s 6ms/step - loss: 0.1881 - accuracy: 0.9550 - F1_score: 0.9550\n"
     ]
    },
    {
     "data": {
      "text/plain": [
       "[0.1880754828453064, 0.9549999833106995, 0.9549999833106995]"
      ]
     },
     "execution_count": 23,
     "metadata": {},
     "output_type": "execute_result"
    }
   ],
   "source": [
    "m2.evaluate(spectro_x_test,np.array(y_test_2).astype('int'), batch_size=1)"
   ]
  },
  {
   "cell_type": "markdown",
   "metadata": {},
   "source": [
    "#### *Observations & Conclusions:*\n",
    "- The Augmented Data has given us more data and hence helped us increase the Accuracy and F1 score more than the non augmented data.\n",
    "- The Spectrograms contain a pictoral detail, of the voice and are more effective than the audio signals."
   ]
  }
 ],
 "metadata": {
  "accelerator": "GPU",
  "colab": {
   "provenance": []
  },
  "gpuClass": "standard",
  "kernelspec": {
   "display_name": "Python 3",
   "language": "python",
   "name": "python3"
  },
  "language_info": {
   "codemirror_mode": {
    "name": "ipython",
    "version": 3
   },
   "file_extension": ".py",
   "mimetype": "text/x-python",
   "name": "python",
   "nbconvert_exporter": "python",
   "pygments_lexer": "ipython3",
   "version": "3.6.5"
  }
 },
 "nbformat": 4,
 "nbformat_minor": 1
}
