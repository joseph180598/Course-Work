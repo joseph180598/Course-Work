{
 "cells": [
  {
   "cell_type": "markdown",
   "metadata": {
    "id": "Vbf01kuUJN0j"
   },
   "source": [
    "# Transfer Learning Assignment"
   ]
  },
  {
   "cell_type": "markdown",
   "metadata": {
    "id": "_0zs3TflcAEr"
   },
   "source": [
    "Download all the data in this <a href='https://drive.google.com/open?id=1Z4TyI7FcFVEx8qdl4jO9qxvxaqLSqoEu'>rar_file</a> , it contains all the data required for the assignment.\n",
    " When you unrar the file you'll get the files in the following format: <b>path/to/the/image.tif,category</b>\n",
    "            \n",
    "    where the categories are numbered 0 to 15, in the following order:\n",
    "<pre>\n",
    "    <b>0 letter\n",
    "    1 form\n",
    "    2 email\n",
    "    3 handwritten\n",
    "    4 advertisement\n",
    "    5 scientific report\n",
    "    6 scientific publication\n",
    "    7 specification\n",
    "    8 file folder\n",
    "    9 news article\n",
    "    10 budget\n",
    "    11 invoice\n",
    "    12 presentation\n",
    "    13 questionnaire\n",
    "    14 resume\n",
    "    15 memo</b>\n",
    "    \n",
    "</pre>"
   ]
  },
  {
   "cell_type": "markdown",
   "metadata": {
    "id": "RokPmWqWjAn7"
   },
   "source": [
    "There is a file named as 'labels_final.csv' , it consists of two columns. First column is path which is the required path to the images and second is the class label."
   ]
  },
  {
   "cell_type": "code",
   "execution_count": null,
   "metadata": {
    "id": "vOLj3GWxgWyj"
   },
   "outputs": [],
   "source": [
    "#the dataset that you are dealing with is quite large 3.7 GB and hence there are two methods to import the data to Colab \n",
    "# Method 1- you can use gdown module to get the data directly from Google drive to Colab\n",
    "# the syntax is as follows !gdown --id file_id , for ex - running the below cell will import the rvl-cdip.rar dataset\n"
   ]
  },
  {
   "cell_type": "code",
   "execution_count": null,
   "metadata": {
    "id": "mjZnQxBPiaBc"
   },
   "outputs": [],
   "source": [
    "#!gdown --id 1Z4TyI7FcFVEx8qdl4jO9qxvxaqLSqoEu"
   ]
  },
  {
   "cell_type": "code",
   "execution_count": null,
   "metadata": {
    "id": "kFGm5RcdhTY1"
   },
   "outputs": [],
   "source": [
    "# Method -2 you can also import the data using wget function\n",
    "#https://www.youtube.com/watch?v=BPUfVq7RaY8\n"
   ]
  },
  {
   "cell_type": "code",
   "execution_count": 17,
   "metadata": {
    "colab": {
     "base_uri": "https://localhost:8080/"
    },
    "id": "xvMIxoK_x7UU",
    "outputId": "a40010d6-d60e-4045-d759-49387d868daf"
   },
   "outputs": [
    {
     "data": {
      "text/plain": [
       "'!pip install pyunpack\\n!pip install patool'"
      ]
     },
     "execution_count": 17,
     "metadata": {},
     "output_type": "execute_result"
    }
   ],
   "source": [
    "'''!pip install pyunpack\n",
    "!pip install patool'''"
   ]
  },
  {
   "cell_type": "code",
   "execution_count": 2,
   "metadata": {
    "id": "0qRPCbL1x1xv"
   },
   "outputs": [],
   "source": [
    "'''from pyunpack import Archive\n",
    "Archive('archive.zip').extractall('')'''"
   ]
  },
  {
   "cell_type": "markdown",
   "metadata": {
    "id": "SseYSo0oixjo"
   },
   "source": [
    "## 2. On this image data, you have to train 3 types of models as given below You have to split the data into Train and Validation data."
   ]
  },
  {
   "cell_type": "code",
   "execution_count": 1,
   "metadata": {
    "colab": {
     "base_uri": "https://localhost:8080/"
    },
    "id": "dRGuKecwmiUC",
    "outputId": "af102055-8921-47c2-b3c9-29a1376d7d23"
   },
   "outputs": [],
   "source": [
    "import os\n",
    "os.environ['TF_CPP_MIN_LOG_LEVEL'] = '3' \n",
    "# to ignore all the warnings which come from tensorflow."
   ]
  },
  {
   "cell_type": "code",
   "execution_count": 2,
   "metadata": {
    "id": "Bu1d-s96iy_l"
   },
   "outputs": [],
   "source": [
    "#import all the required libraries\n",
    "import tensorflow as tf\n",
    "import os\n",
    "import numpy as np\n",
    "import pandas as pd\n",
    "from keras_preprocessing.image import ImageDataGenerator\n",
    "from sklearn.model_selection import train_test_split\n",
    "import pathlib\n",
    "from keras_preprocessing.image import ImageDataGenerator\n",
    "from tqdm import tqdm\n",
    "from tensorflow.keras.applications.vgg16 import VGG16\n",
    "from tensorflow.keras.applications.vgg16 import preprocess_input\n",
    "%load_ext tensorboard\n"
   ]
  },
  {
   "cell_type": "code",
   "execution_count": 4,
   "metadata": {},
   "outputs": [
    {
     "data": {
      "text/html": [
       "\n",
       "      <iframe id=\"tensorboard-frame-e8320bbf81291308\" width=\"100%\" height=\"800\" frameborder=\"0\">\n",
       "      </iframe>\n",
       "      <script>\n",
       "        (function() {\n",
       "          const frame = document.getElementById(\"tensorboard-frame-e8320bbf81291308\");\n",
       "          const url = new URL(\"/\", window.location);\n",
       "          const port = 6006;\n",
       "          if (port) {\n",
       "            url.port = port;\n",
       "          }\n",
       "          frame.src = url;\n",
       "        })();\n",
       "      </script>\n",
       "    "
      ],
      "text/plain": [
       "<IPython.core.display.HTML object>"
      ]
     },
     "metadata": {},
     "output_type": "display_data"
    }
   ],
   "source": [
    "%tensorboard --logdir logs"
   ]
  },
  {
   "cell_type": "code",
   "execution_count": 3,
   "metadata": {
    "colab": {
     "base_uri": "https://localhost:8080/",
     "height": 363
    },
    "id": "_HmWGTNy--pk",
    "outputId": "a0dc942c-1247-48a6-917a-0b97ab8a8003"
   },
   "outputs": [
    {
     "data": {
      "text/html": [
       "<div>\n",
       "<style scoped>\n",
       "    .dataframe tbody tr th:only-of-type {\n",
       "        vertical-align: middle;\n",
       "    }\n",
       "\n",
       "    .dataframe tbody tr th {\n",
       "        vertical-align: top;\n",
       "    }\n",
       "\n",
       "    .dataframe thead th {\n",
       "        text-align: right;\n",
       "    }\n",
       "</style>\n",
       "<table border=\"1\" class=\"dataframe\">\n",
       "  <thead>\n",
       "    <tr style=\"text-align: right;\">\n",
       "      <th></th>\n",
       "      <th>path</th>\n",
       "      <th>label</th>\n",
       "    </tr>\n",
       "  </thead>\n",
       "  <tbody>\n",
       "    <tr>\n",
       "      <th>0</th>\n",
       "      <td>imagesv/v/o/h/voh71d00/509132755+-2755.tif</td>\n",
       "      <td>3</td>\n",
       "    </tr>\n",
       "    <tr>\n",
       "      <th>1</th>\n",
       "      <td>imagesl/l/x/t/lxt19d00/502213303.tif</td>\n",
       "      <td>3</td>\n",
       "    </tr>\n",
       "    <tr>\n",
       "      <th>2</th>\n",
       "      <td>imagesx/x/e/d/xed05a00/2075325674.tif</td>\n",
       "      <td>2</td>\n",
       "    </tr>\n",
       "    <tr>\n",
       "      <th>3</th>\n",
       "      <td>imageso/o/j/b/ojb60d00/517511301+-1301.tif</td>\n",
       "      <td>3</td>\n",
       "    </tr>\n",
       "    <tr>\n",
       "      <th>4</th>\n",
       "      <td>imagesq/q/z/k/qzk17e00/2031320195.tif</td>\n",
       "      <td>7</td>\n",
       "    </tr>\n",
       "    <tr>\n",
       "      <th>5</th>\n",
       "      <td>imagesw/w/u/d/wud95a00/500116895+-6898.tif</td>\n",
       "      <td>4</td>\n",
       "    </tr>\n",
       "    <tr>\n",
       "      <th>6</th>\n",
       "      <td>imagesg/g/v/x/gvx25c00/2505142251_2252.tif</td>\n",
       "      <td>1</td>\n",
       "    </tr>\n",
       "    <tr>\n",
       "      <th>7</th>\n",
       "      <td>imagese/e/r/m/erm31f00/0001442842.tif</td>\n",
       "      <td>7</td>\n",
       "    </tr>\n",
       "    <tr>\n",
       "      <th>8</th>\n",
       "      <td>imagesp/p/e/v/pev40e00/03371370.tif</td>\n",
       "      <td>13</td>\n",
       "    </tr>\n",
       "    <tr>\n",
       "      <th>9</th>\n",
       "      <td>imagesi/i/w/i/iwi42d00/2020355073.tif</td>\n",
       "      <td>5</td>\n",
       "    </tr>\n",
       "  </tbody>\n",
       "</table>\n",
       "</div>"
      ],
      "text/plain": [
       "                                         path label\n",
       "0  imagesv/v/o/h/voh71d00/509132755+-2755.tif     3\n",
       "1        imagesl/l/x/t/lxt19d00/502213303.tif     3\n",
       "2       imagesx/x/e/d/xed05a00/2075325674.tif     2\n",
       "3  imageso/o/j/b/ojb60d00/517511301+-1301.tif     3\n",
       "4       imagesq/q/z/k/qzk17e00/2031320195.tif     7\n",
       "5  imagesw/w/u/d/wud95a00/500116895+-6898.tif     4\n",
       "6  imagesg/g/v/x/gvx25c00/2505142251_2252.tif     1\n",
       "7       imagese/e/r/m/erm31f00/0001442842.tif     7\n",
       "8         imagesp/p/e/v/pev40e00/03371370.tif    13\n",
       "9       imagesi/i/w/i/iwi42d00/2020355073.tif     5"
      ]
     },
     "execution_count": 3,
     "metadata": {},
     "output_type": "execute_result"
    }
   ],
   "source": [
    "df=pd.read_csv('labels_final.csv',dtype=str)\n",
    "df.head(10)"
   ]
  },
  {
   "cell_type": "code",
   "execution_count": 20,
   "metadata": {
    "colab": {
     "base_uri": "https://localhost:8080/"
    },
    "id": "CpII-4SQ_Qcq",
    "outputId": "540a9d06-2afb-47fc-be81-b2049c7eb026"
   },
   "outputs": [
    {
     "data": {
      "text/plain": [
       "'!pip install git+https://github.com/keras-team/keras-preprocessing.git\\n'"
      ]
     },
     "execution_count": 20,
     "metadata": {},
     "output_type": "execute_result"
    }
   ],
   "source": [
    "'''!pip install git+https://github.com/keras-team/keras-preprocessing.git\n",
    "'''"
   ]
  },
  {
   "cell_type": "code",
   "execution_count": 4,
   "metadata": {
    "id": "-B2-_Sa7ACCt"
   },
   "outputs": [],
   "source": [
    "train_data,test_data=train_test_split(df,test_size=0.2, stratify=df['label'])"
   ]
  },
  {
   "cell_type": "code",
   "execution_count": 6,
   "metadata": {
    "colab": {
     "base_uri": "https://localhost:8080/"
    },
    "id": "k1vCKbRpAqDm",
    "outputId": "5b8f47b2-f7a3-4797-81e8-624f2753fe5d"
   },
   "outputs": [
    {
     "name": "stdout",
     "output_type": "stream",
     "text": [
      "data_final\n"
     ]
    }
   ],
   "source": [
    "direc='data_final'\n",
    "data_root = pathlib.Path(direc)\n",
    "print((data_root))"
   ]
  },
  {
   "cell_type": "code",
   "execution_count": 7,
   "metadata": {
    "colab": {
     "base_uri": "https://localhost:8080/"
    },
    "id": "6S-9K3OCBJzy",
    "outputId": "7013e908-f3b3-4505-a7fc-9da498ccd156"
   },
   "outputs": [
    {
     "data": {
      "text/plain": [
       "[PosixPath('data_final/imagesa'),\n",
       " PosixPath('data_final/imagesc'),\n",
       " PosixPath('data_final/imagese'),\n",
       " PosixPath('data_final/imagesi'),\n",
       " PosixPath('data_final/imagesu'),\n",
       " PosixPath('data_final/imagesj'),\n",
       " PosixPath('data_final/imagesp'),\n",
       " PosixPath('data_final/imagesw'),\n",
       " PosixPath('data_final/imagesn'),\n",
       " PosixPath('data_final/imagesd'),\n",
       " PosixPath('data_final/imagesy'),\n",
       " PosixPath('data_final/imagesz'),\n",
       " PosixPath('data_final/imagesk'),\n",
       " PosixPath('data_final/imagesv'),\n",
       " PosixPath('data_final/imagest'),\n",
       " PosixPath('data_final/imagesb'),\n",
       " PosixPath('data_final/imagesh'),\n",
       " PosixPath('data_final/imagesq'),\n",
       " PosixPath('data_final/imagesf'),\n",
       " PosixPath('data_final/imagesx'),\n",
       " PosixPath('data_final/imagesr'),\n",
       " PosixPath('data_final/imagesl'),\n",
       " PosixPath('data_final/imageso'),\n",
       " PosixPath('data_final/imagesg'),\n",
       " PosixPath('data_final/imagesm')]"
      ]
     },
     "execution_count": 7,
     "metadata": {},
     "output_type": "execute_result"
    }
   ],
   "source": [
    "list(data_root.iterdir())"
   ]
  },
  {
   "cell_type": "code",
   "execution_count": 8,
   "metadata": {
    "colab": {
     "base_uri": "https://localhost:8080/",
     "height": 345
    },
    "id": "P4MQ46uCBMWT",
    "outputId": "5ef7a64c-50f6-4617-951c-2c9932dc2ccc"
   },
   "outputs": [
    {
     "name": "stderr",
     "output_type": "stream",
     "text": [
      "48000it [00:07, 6706.06it/s]\n"
     ]
    },
    {
     "data": {
      "text/plain": [
       "[PosixPath('data_final/imagesa/a/q/q/aqq18e00'),\n",
       " PosixPath('data_final/imagesa/a/q/z/aqz44e00'),\n",
       " PosixPath('data_final/imagesa/a/q/z/aqz92e00'),\n",
       " PosixPath('data_final/imagesa/a/q/f/aqf73e00'),\n",
       " PosixPath('data_final/imagesa/a/q/f/aqf26d00'),\n",
       " PosixPath('data_final/imagesa/a/q/r/aqr09d00'),\n",
       " PosixPath('data_final/imagesa/a/q/r/aqr07d00'),\n",
       " PosixPath('data_final/imagesa/a/q/r/aqr36e00'),\n",
       " PosixPath('data_final/imagesa/a/q/a/aqa03d00'),\n",
       " PosixPath('data_final/imagesa/a/q/a/aqa46d00'),\n",
       " PosixPath('data_final/imagesa/a/q/g/aqg19d00'),\n",
       " PosixPath('data_final/imagesa/a/q/g/aqg46d00'),\n",
       " PosixPath('data_final/imagesa/a/q/g/aqg49c00'),\n",
       " PosixPath('data_final/imagesa/a/q/g/aqg71a00'),\n",
       " PosixPath('data_final/imagesa/a/q/x/aqx22d00'),\n",
       " PosixPath('data_final/imagesa/a/q/x/aqx28e00'),\n",
       " PosixPath('data_final/imagesa/a/q/l/aql59e00'),\n",
       " PosixPath('data_final/imagesa/a/q/l/aql61e00'),\n",
       " PosixPath('data_final/imagesa/a/q/l/aql55a00'),\n",
       " PosixPath('data_final/imagesa/a/q/u/aqu64d00'),\n",
       " PosixPath('data_final/imagesa/a/q/u/aqu38d00'),\n",
       " PosixPath('data_final/imagesa/a/q/h/aqh32d00'),\n",
       " PosixPath('data_final/imagesa/a/q/h/aqh40e00'),\n",
       " PosixPath('data_final/imagesa/a/q/h/aqh66d00'),\n",
       " PosixPath('data_final/imagesa/a/q/b/aqb99e00'),\n",
       " PosixPath('data_final/imagesa/a/q/b/aqb21f00'),\n",
       " PosixPath('data_final/imagesa/a/q/b/aqb3aa00'),\n",
       " PosixPath('data_final/imagesa/a/q/o/aqo36d00'),\n",
       " PosixPath('data_final/imagesa/a/q/o/aqo90e00'),\n",
       " PosixPath('data_final/imagesa/a/q/s/aqs43e00'),\n",
       " PosixPath('data_final/imagesa/a/q/s/aqs62d00'),\n",
       " PosixPath('data_final/imagesa/a/q/s/aqs68e00'),\n",
       " PosixPath('data_final/imagesa/a/q/s/aqs70a00'),\n",
       " PosixPath('data_final/imagesa/a/q/p/aqp09e00'),\n",
       " PosixPath('data_final/imagesa/a/q/p/aqp33a00'),\n",
       " PosixPath('data_final/imagesa/a/q/p/aqp21e00'),\n",
       " PosixPath('data_final/imagesa/a/q/p/aqp50e00'),\n",
       " PosixPath('data_final/imagesa/a/q/t/aqt46d00'),\n",
       " PosixPath('data_final/imagesa/a/q/t/aqt06d00'),\n",
       " PosixPath('data_final/imagesa/a/q/t/aqt56d00'),\n",
       " PosixPath('data_final/imagesa/a/q/t/aqt70c00'),\n",
       " PosixPath('data_final/imagesa/a/q/e/aqe94e00'),\n",
       " PosixPath('data_final/imagesa/a/q/e/aqe45e00'),\n",
       " PosixPath('data_final/imagesa/a/q/d/aqd47c00'),\n",
       " PosixPath('data_final/imagesa/a/q/d/aqd09d00'),\n",
       " PosixPath('data_final/imagesa/a/q/d/aqd21e00'),\n",
       " PosixPath('data_final/imagesa/a/q/y/aqy73e00'),\n",
       " PosixPath('data_final/imagesa/a/q/y/aqy31e00'),\n",
       " PosixPath('data_final/imagesa/a/q/j/aqj03f00'),\n",
       " PosixPath('data_final/imagesa/a/q/j/aqj26c00'),\n",
       " PosixPath('data_final/imagesa/a/q/n/aqn7aa00'),\n",
       " PosixPath('data_final/imagesa/a/q/n/aqn04f00'),\n",
       " PosixPath('data_final/imagesa/a/q/n/aqn75f00'),\n",
       " PosixPath('data_final/imagesa/a/q/c/aqc52f00'),\n",
       " PosixPath('data_final/imagesa/a/q/c/aqc76c00'),\n",
       " PosixPath('data_final/imagesa/a/q/v/aqv06d00'),\n",
       " PosixPath('data_final/imagesa/a/q/v/aqv65d00'),\n",
       " PosixPath('data_final/imagesa/a/q/v/aqv33a00'),\n",
       " PosixPath('data_final/imagesa/a/q/v/aqv99d00'),\n",
       " PosixPath('data_final/imagesa/a/q/v/aqv66c00'),\n",
       " PosixPath('data_final/imagesa/a/q/v/aqv72c00'),\n",
       " PosixPath('data_final/imagesa/a/q/k/aqk11a00'),\n",
       " PosixPath('data_final/imagesa/a/q/k/aqk85a00'),\n",
       " PosixPath('data_final/imagesa/a/q/k/aqk80a00'),\n",
       " PosixPath('data_final/imagesa/a/q/k/aqk40e00'),\n",
       " PosixPath('data_final/imagesa/a/q/m/aqm63f00'),\n",
       " PosixPath('data_final/imagesa/a/q/i/aqi70e00'),\n",
       " PosixPath('data_final/imagesa/a/q/i/aqi63f00'),\n",
       " PosixPath('data_final/imagesa/a/q/i/aqi15c00'),\n",
       " PosixPath('data_final/imagesa/a/w/q/awq42c00'),\n",
       " PosixPath('data_final/imagesa/a/w/q/awq40c00'),\n",
       " PosixPath('data_final/imagesa/a/w/w/aww80d00'),\n",
       " PosixPath('data_final/imagesa/a/w/w/aww36d00'),\n",
       " PosixPath('data_final/imagesa/a/w/w/aww07e00'),\n",
       " PosixPath('data_final/imagesa/a/w/w/aww86e00'),\n",
       " PosixPath('data_final/imagesa/a/w/w/aww36c00'),\n",
       " PosixPath('data_final/imagesa/a/w/w/aww13c00'),\n",
       " PosixPath('data_final/imagesa/a/w/f/awf37d00'),\n",
       " PosixPath('data_final/imagesa/a/w/f/awf47e00'),\n",
       " PosixPath('data_final/imagesa/a/w/r/awr50e00'),\n",
       " PosixPath('data_final/imagesa/a/w/r/awr55c00'),\n",
       " PosixPath('data_final/imagesa/a/w/a/awa43e00'),\n",
       " PosixPath('data_final/imagesa/a/w/a/awa07c00'),\n",
       " PosixPath('data_final/imagesa/a/w/g/awg09c00'),\n",
       " PosixPath('data_final/imagesa/a/w/g/awg92c00'),\n",
       " PosixPath('data_final/imagesa/a/w/x/awx11d00'),\n",
       " PosixPath('data_final/imagesa/a/w/x/awx59e00'),\n",
       " PosixPath('data_final/imagesa/a/w/x/awx55e00'),\n",
       " PosixPath('data_final/imagesa/a/w/x/awx39e00'),\n",
       " PosixPath('data_final/imagesa/a/w/x/awx94d00'),\n",
       " PosixPath('data_final/imagesa/a/w/l/awl21c00'),\n",
       " PosixPath('data_final/imagesa/a/w/l/awl32f00'),\n",
       " PosixPath('data_final/imagesa/a/w/l/awl34e00'),\n",
       " PosixPath('data_final/imagesa/a/w/u/awu97d00'),\n",
       " PosixPath('data_final/imagesa/a/w/u/awu44c00'),\n",
       " PosixPath('data_final/imagesa/a/w/u/awu13c00'),\n",
       " PosixPath('data_final/imagesa/a/w/u/awu72e00'),\n",
       " PosixPath('data_final/imagesa/a/w/u/awu02e00'),\n",
       " PosixPath('data_final/imagesa/a/w/h/awh14c00'),\n",
       " PosixPath('data_final/imagesa/a/w/h/awh02f00'),\n",
       " PosixPath('data_final/imagesa/a/w/h/awh90a00'),\n",
       " PosixPath('data_final/imagesa/a/w/b/awb34c00'),\n",
       " PosixPath('data_final/imagesa/a/w/b/awb30e00'),\n",
       " PosixPath('data_final/imagesa/a/w/o/awo37e00'),\n",
       " PosixPath('data_final/imagesa/a/w/o/awo21d00'),\n",
       " PosixPath('data_final/imagesa/a/w/s/aws79e00'),\n",
       " PosixPath('data_final/imagesa/a/w/p/awp72e00'),\n",
       " PosixPath('data_final/imagesa/a/w/p/awp79e00'),\n",
       " PosixPath('data_final/imagesa/a/w/p/awp54f00'),\n",
       " PosixPath('data_final/imagesa/a/w/p/awp21a00'),\n",
       " PosixPath('data_final/imagesa/a/w/t/awt73e00'),\n",
       " PosixPath('data_final/imagesa/a/w/t/awt98d00'),\n",
       " PosixPath('data_final/imagesa/a/w/e/awe82a00'),\n",
       " PosixPath('data_final/imagesa/a/w/e/awe20e00'),\n",
       " PosixPath('data_final/imagesa/a/w/e/awe34e00'),\n",
       " PosixPath('data_final/imagesa/a/w/d/awd53e00'),\n",
       " PosixPath('data_final/imagesa/a/w/d/awd41c00'),\n",
       " PosixPath('data_final/imagesa/a/w/y/awy91c00'),\n",
       " PosixPath('data_final/imagesa/a/w/y/awy84c00'),\n",
       " PosixPath('data_final/imagesa/a/w/j/awj94e00'),\n",
       " PosixPath('data_final/imagesa/a/w/n/awn86d00'),\n",
       " PosixPath('data_final/imagesa/a/w/n/awn33e00'),\n",
       " PosixPath('data_final/imagesa/a/w/n/awn48e00'),\n",
       " PosixPath('data_final/imagesa/a/w/c/awc23e00'),\n",
       " PosixPath('data_final/imagesa/a/w/v/awv20d00'),\n",
       " PosixPath('data_final/imagesa/a/w/k/awk05f00'),\n",
       " PosixPath('data_final/imagesa/a/w/k/awk05e00'),\n",
       " PosixPath('data_final/imagesa/a/w/k/awk33a00'),\n",
       " PosixPath('data_final/imagesa/a/w/k/awk98d00'),\n",
       " PosixPath('data_final/imagesa/a/w/k/awk05d00'),\n",
       " PosixPath('data_final/imagesa/a/w/m/awm70e00'),\n",
       " PosixPath('data_final/imagesa/a/w/m/awm81a00'),\n",
       " PosixPath('data_final/imagesa/a/w/m/awm39e00'),\n",
       " PosixPath('data_final/imagesa/a/w/i/awi21d00'),\n",
       " PosixPath('data_final/imagesa/a/w/i/awi23e00'),\n",
       " PosixPath('data_final/imagesa/a/w/i/awi47c00'),\n",
       " PosixPath('data_final/imagesa/a/z/q/azq97e00'),\n",
       " PosixPath('data_final/imagesa/a/z/q/azq84f00'),\n",
       " PosixPath('data_final/imagesa/a/z/q/azq84e00'),\n",
       " PosixPath('data_final/imagesa/a/z/w/azw05c00'),\n",
       " PosixPath('data_final/imagesa/a/z/z/azz44e00'),\n",
       " PosixPath('data_final/imagesa/a/z/z/azz80d00'),\n",
       " PosixPath('data_final/imagesa/a/z/f/azf45c00'),\n",
       " PosixPath('data_final/imagesa/a/z/f/azf46d00'),\n",
       " PosixPath('data_final/imagesa/a/z/r/azr13c00'),\n",
       " PosixPath('data_final/imagesa/a/z/r/azr30d00'),\n",
       " PosixPath('data_final/imagesa/a/z/r/azr60e00'),\n",
       " PosixPath('data_final/imagesa/a/z/a/aza21a00'),\n",
       " PosixPath('data_final/imagesa/a/z/a/aza51d00'),\n",
       " PosixPath('data_final/imagesa/a/z/a/aza16d00'),\n",
       " PosixPath('data_final/imagesa/a/z/g/azg92a00'),\n",
       " PosixPath('data_final/imagesa/a/z/g/azg18e00'),\n",
       " PosixPath('data_final/imagesa/a/z/x/azx71f00'),\n",
       " PosixPath('data_final/imagesa/a/z/x/azx34f00'),\n",
       " PosixPath('data_final/imagesa/a/z/x/azx79e00'),\n",
       " PosixPath('data_final/imagesa/a/z/x/azx5aa00'),\n",
       " PosixPath('data_final/imagesa/a/z/l/azl50f00'),\n",
       " PosixPath('data_final/imagesa/a/z/l/azl59c00'),\n",
       " PosixPath('data_final/imagesa/a/z/u/azu76e00'),\n",
       " PosixPath('data_final/imagesa/a/z/h/azh99e00'),\n",
       " PosixPath('data_final/imagesa/a/z/h/azh32d00'),\n",
       " PosixPath('data_final/imagesa/a/z/b/azb02d00'),\n",
       " PosixPath('data_final/imagesa/a/z/b/azb87d00'),\n",
       " PosixPath('data_final/imagesa/a/z/b/azb02a00'),\n",
       " PosixPath('data_final/imagesa/a/z/b/azb59c00'),\n",
       " PosixPath('data_final/imagesa/a/z/o/azo50d00'),\n",
       " PosixPath('data_final/imagesa/a/z/o/azo04c00'),\n",
       " PosixPath('data_final/imagesa/a/z/o/azo29c00'),\n",
       " PosixPath('data_final/imagesa/a/z/o/azo09d00'),\n",
       " PosixPath('data_final/imagesa/a/z/o/azo3aa00'),\n",
       " PosixPath('data_final/imagesa/a/z/s/azs13d00'),\n",
       " PosixPath('data_final/imagesa/a/z/s/azs70d00'),\n",
       " PosixPath('data_final/imagesa/a/z/s/azs9aa00'),\n",
       " PosixPath('data_final/imagesa/a/z/p/azp33d00'),\n",
       " PosixPath('data_final/imagesa/a/z/t/azt56e00'),\n",
       " PosixPath('data_final/imagesa/a/z/t/azt65a00'),\n",
       " PosixPath('data_final/imagesa/a/z/t/azt77c00'),\n",
       " PosixPath('data_final/imagesa/a/z/e/aze23e00'),\n",
       " PosixPath('data_final/imagesa/a/z/e/aze65a00'),\n",
       " PosixPath('data_final/imagesa/a/z/e/aze92e00'),\n",
       " PosixPath('data_final/imagesa/a/z/e/aze04d00'),\n",
       " PosixPath('data_final/imagesa/a/z/e/aze46d00'),\n",
       " PosixPath('data_final/imagesa/a/z/e/aze17e00'),\n",
       " PosixPath('data_final/imagesa/a/z/d/azd72e00'),\n",
       " PosixPath('data_final/imagesa/a/z/y/azy13a00'),\n",
       " PosixPath('data_final/imagesa/a/z/j/azj84d00'),\n",
       " PosixPath('data_final/imagesa/a/z/j/azj14f00'),\n",
       " PosixPath('data_final/imagesa/a/z/j/azj76c00'),\n",
       " PosixPath('data_final/imagesa/a/z/n/azn61e00'),\n",
       " PosixPath('data_final/imagesa/a/z/n/azn61f00'),\n",
       " PosixPath('data_final/imagesa/a/z/c/azc06c00'),\n",
       " PosixPath('data_final/imagesa/a/z/c/azc46c00'),\n",
       " PosixPath('data_final/imagesa/a/z/v/azv10c00'),\n",
       " PosixPath('data_final/imagesa/a/z/v/azv53a00'),\n",
       " PosixPath('data_final/imagesa/a/z/v/azv01d00'),\n",
       " PosixPath('data_final/imagesa/a/z/v/azv62c00'),\n",
       " PosixPath('data_final/imagesa/a/z/v/azv29e00'),\n",
       " PosixPath('data_final/imagesa/a/z/k/azk36d00'),\n",
       " PosixPath('data_final/imagesa/a/z/k/azk88c00'),\n",
       " PosixPath('data_final/imagesa/a/z/k/azk63d00'),\n",
       " PosixPath('data_final/imagesa/a/z/k/azk16d00'),\n",
       " PosixPath('data_final/imagesa/a/z/k/azk34c00'),\n",
       " PosixPath('data_final/imagesa/a/z/m/azm95e00'),\n",
       " PosixPath('data_final/imagesa/a/z/m/azm62f00'),\n",
       " PosixPath('data_final/imagesa/a/z/m/azm29c00'),\n",
       " PosixPath('data_final/imagesa/a/z/i/azi54a00'),\n",
       " PosixPath('data_final/imagesa/a/z/i/azi06d00'),\n",
       " PosixPath('data_final/imagesa/a/z/i/azi43e00'),\n",
       " PosixPath('data_final/imagesa/a/z/i/azi35d00'),\n",
       " PosixPath('data_final/imagesa/a/f/q/afq05f00'),\n",
       " PosixPath('data_final/imagesa/a/f/q/afq40f00'),\n",
       " PosixPath('data_final/imagesa/a/f/q/afq08e00'),\n",
       " PosixPath('data_final/imagesa/a/f/q/afq58d00'),\n",
       " PosixPath('data_final/imagesa/a/f/q/afq11e00'),\n",
       " PosixPath('data_final/imagesa/a/f/q/afq43e00'),\n",
       " PosixPath('data_final/imagesa/a/f/w/afw50e00'),\n",
       " PosixPath('data_final/imagesa/a/f/w/afw35f00'),\n",
       " PosixPath('data_final/imagesa/a/f/w/afw43c00'),\n",
       " PosixPath('data_final/imagesa/a/f/w/afw12e00'),\n",
       " PosixPath('data_final/imagesa/a/f/w/afw61e00'),\n",
       " PosixPath('data_final/imagesa/a/f/z/afz07e00'),\n",
       " PosixPath('data_final/imagesa/a/f/z/afz82f00'),\n",
       " PosixPath('data_final/imagesa/a/f/z/afz1aa00'),\n",
       " PosixPath('data_final/imagesa/a/f/r/afr01e00'),\n",
       " PosixPath('data_final/imagesa/a/f/r/afr39c00'),\n",
       " PosixPath('data_final/imagesa/a/f/r/afr11a00'),\n",
       " PosixPath('data_final/imagesa/a/f/a/afa54e00'),\n",
       " PosixPath('data_final/imagesa/a/f/a/afa16d00'),\n",
       " PosixPath('data_final/imagesa/a/f/a/afa32d00'),\n",
       " PosixPath('data_final/imagesa/a/f/x/afx18c00'),\n",
       " PosixPath('data_final/imagesa/a/f/x/afx03c00'),\n",
       " PosixPath('data_final/imagesa/a/f/x/afx00e00'),\n",
       " PosixPath('data_final/imagesa/a/f/l/afl03d00'),\n",
       " PosixPath('data_final/imagesa/a/f/l/afl99c00'),\n",
       " PosixPath('data_final/imagesa/a/f/l/afl62d00'),\n",
       " PosixPath('data_final/imagesa/a/f/l/afl95e00'),\n",
       " PosixPath('data_final/imagesa/a/f/l/afl93c00'),\n",
       " PosixPath('data_final/imagesa/a/f/u/afu81e00'),\n",
       " PosixPath('data_final/imagesa/a/f/u/afu78e00'),\n",
       " PosixPath('data_final/imagesa/a/f/u/afu68c00'),\n",
       " PosixPath('data_final/imagesa/a/f/u/afu32d00'),\n",
       " PosixPath('data_final/imagesa/a/f/h/afh90e00'),\n",
       " PosixPath('data_final/imagesa/a/f/h/afh00d00'),\n",
       " PosixPath('data_final/imagesa/a/f/h/afh71a00'),\n",
       " PosixPath('data_final/imagesa/a/f/h/afh82c00'),\n",
       " PosixPath('data_final/imagesa/a/f/h/afh8aa00'),\n",
       " PosixPath('data_final/imagesa/a/f/h/afh17e00'),\n",
       " PosixPath('data_final/imagesa/a/f/b/afb16d00'),\n",
       " PosixPath('data_final/imagesa/a/f/b/afb65c00'),\n",
       " PosixPath('data_final/imagesa/a/f/b/afb80c00'),\n",
       " PosixPath('data_final/imagesa/a/f/b/afb72c00'),\n",
       " PosixPath('data_final/imagesa/a/f/b/afb24e00'),\n",
       " PosixPath('data_final/imagesa/a/f/o/afo22f00'),\n",
       " PosixPath('data_final/imagesa/a/f/o/afo45a00'),\n",
       " PosixPath('data_final/imagesa/a/f/o/afo49c00'),\n",
       " PosixPath('data_final/imagesa/a/f/s/afs83c00'),\n",
       " PosixPath('data_final/imagesa/a/f/s/afs38d00'),\n",
       " PosixPath('data_final/imagesa/a/f/s/afs49e00'),\n",
       " PosixPath('data_final/imagesa/a/f/s/afs16d00'),\n",
       " PosixPath('data_final/imagesa/a/f/p/afp14a00'),\n",
       " PosixPath('data_final/imagesa/a/f/p/afp19c00'),\n",
       " PosixPath('data_final/imagesa/a/f/t/aft48d00'),\n",
       " PosixPath('data_final/imagesa/a/f/t/aft57c00'),\n",
       " PosixPath('data_final/imagesa/a/f/t/aft32e00'),\n",
       " PosixPath('data_final/imagesa/a/f/e/afe20e00'),\n",
       " PosixPath('data_final/imagesa/a/f/e/afe53e00'),\n",
       " PosixPath('data_final/imagesa/a/f/d/afd04d00'),\n",
       " PosixPath('data_final/imagesa/a/f/y/afy75e00'),\n",
       " PosixPath('data_final/imagesa/a/f/y/afy89c00'),\n",
       " PosixPath('data_final/imagesa/a/f/y/afy06c00'),\n",
       " PosixPath('data_final/imagesa/a/f/y/afy65c00'),\n",
       " PosixPath('data_final/imagesa/a/f/y/afy11f00'),\n",
       " PosixPath('data_final/imagesa/a/f/y/afy61a00'),\n",
       " PosixPath('data_final/imagesa/a/f/y/afy63e00'),\n",
       " PosixPath('data_final/imagesa/a/f/y/afy25e00'),\n",
       " PosixPath('data_final/imagesa/a/f/j/afj56e00'),\n",
       " PosixPath('data_final/imagesa/a/f/n/afn11d00'),\n",
       " PosixPath('data_final/imagesa/a/f/n/afn75c00'),\n",
       " PosixPath('data_final/imagesa/a/f/c/afc97c00'),\n",
       " PosixPath('data_final/imagesa/a/f/c/afc65a00'),\n",
       " PosixPath('data_final/imagesa/a/f/c/afc20e00'),\n",
       " PosixPath('data_final/imagesa/a/f/v/afv00a00'),\n",
       " PosixPath('data_final/imagesa/a/f/v/afv11a00'),\n",
       " PosixPath('data_final/imagesa/a/f/v/afv70d00'),\n",
       " PosixPath('data_final/imagesa/a/f/k/afk20a00'),\n",
       " PosixPath('data_final/imagesa/a/f/k/afk96c00'),\n",
       " PosixPath('data_final/imagesa/a/f/m/afm69e00'),\n",
       " PosixPath('data_final/imagesa/a/f/m/afm53d00'),\n",
       " PosixPath('data_final/imagesa/a/f/i/afi47c00'),\n",
       " PosixPath('data_final/imagesa/a/f/i/afi94c00'),\n",
       " PosixPath('data_final/imagesa/a/f/i/afi60c00'),\n",
       " PosixPath('data_final/imagesa/a/f/i/afi14a00'),\n",
       " PosixPath('data_final/imagesa/a/r/q/arq94c00'),\n",
       " PosixPath('data_final/imagesa/a/r/q/arq98d00'),\n",
       " PosixPath('data_final/imagesa/a/r/w/arw79d00'),\n",
       " PosixPath('data_final/imagesa/a/r/w/arw58d00'),\n",
       " PosixPath('data_final/imagesa/a/r/w/arw41d00'),\n",
       " PosixPath('data_final/imagesa/a/r/w/arw04e00'),\n",
       " PosixPath('data_final/imagesa/a/r/z/arz70d00'),\n",
       " PosixPath('data_final/imagesa/a/r/z/arz96d00'),\n",
       " PosixPath('data_final/imagesa/a/r/f/arf41d00'),\n",
       " PosixPath('data_final/imagesa/a/r/f/arf29e00'),\n",
       " PosixPath('data_final/imagesa/a/r/f/arf41e00'),\n",
       " PosixPath('data_final/imagesa/a/r/r/arr00c00'),\n",
       " PosixPath('data_final/imagesa/a/r/r/arr48d00'),\n",
       " PosixPath('data_final/imagesa/a/r/a/ara54a00'),\n",
       " PosixPath('data_final/imagesa/a/r/g/arg05a00'),\n",
       " PosixPath('data_final/imagesa/a/r/g/arg71a00'),\n",
       " PosixPath('data_final/imagesa/a/r/g/arg6aa00'),\n",
       " PosixPath('data_final/imagesa/a/r/g/arg85c00'),\n",
       " PosixPath('data_final/imagesa/a/r/x/arx19c00'),\n",
       " PosixPath('data_final/imagesa/a/r/l/arl22c00'),\n",
       " PosixPath('data_final/imagesa/a/r/l/arl83e00'),\n",
       " PosixPath('data_final/imagesa/a/r/l/arl85f00'),\n",
       " PosixPath('data_final/imagesa/a/r/l/arl71d00'),\n",
       " PosixPath('data_final/imagesa/a/r/u/aru50e00'),\n",
       " PosixPath('data_final/imagesa/a/r/u/aru10d00'),\n",
       " PosixPath('data_final/imagesa/a/r/h/arh38e00'),\n",
       " PosixPath('data_final/imagesa/a/r/h/arh01d00'),\n",
       " PosixPath('data_final/imagesa/a/r/h/arh12e00'),\n",
       " PosixPath('data_final/imagesa/a/r/h/arh20f00'),\n",
       " PosixPath('data_final/imagesa/a/r/h/arh69d00'),\n",
       " PosixPath('data_final/imagesa/a/r/b/arb07e00'),\n",
       " PosixPath('data_final/imagesa/a/r/b/arb18d00'),\n",
       " PosixPath('data_final/imagesa/a/r/b/arb92a00'),\n",
       " PosixPath('data_final/imagesa/a/r/b/arb10a00'),\n",
       " PosixPath('data_final/imagesa/a/r/o/aro17d00'),\n",
       " PosixPath('data_final/imagesa/a/r/o/aro13c00'),\n",
       " PosixPath('data_final/imagesa/a/r/o/aro22c00'),\n",
       " PosixPath('data_final/imagesa/a/r/s/ars57c00'),\n",
       " PosixPath('data_final/imagesa/a/r/s/ars16d00'),\n",
       " PosixPath('data_final/imagesa/a/r/s/ars55c00'),\n",
       " PosixPath('data_final/imagesa/a/r/p/arp10a00'),\n",
       " PosixPath('data_final/imagesa/a/r/p/arp77e00'),\n",
       " PosixPath('data_final/imagesa/a/r/p/arp33e00'),\n",
       " PosixPath('data_final/imagesa/a/r/p/arp87d00'),\n",
       " PosixPath('data_final/imagesa/a/r/t/art95d00'),\n",
       " PosixPath('data_final/imagesa/a/r/e/are16d00'),\n",
       " PosixPath('data_final/imagesa/a/r/e/are92d00'),\n",
       " PosixPath('data_final/imagesa/a/r/d/ard49c00'),\n",
       " PosixPath('data_final/imagesa/a/r/d/ard39d00'),\n",
       " PosixPath('data_final/imagesa/a/r/y/ary35c00'),\n",
       " PosixPath('data_final/imagesa/a/r/y/ary41e00'),\n",
       " PosixPath('data_final/imagesa/a/r/y/ary50f00'),\n",
       " PosixPath('data_final/imagesa/a/r/y/ary65e00'),\n",
       " PosixPath('data_final/imagesa/a/r/j/arj99c00'),\n",
       " PosixPath('data_final/imagesa/a/r/j/arj69c00'),\n",
       " PosixPath('data_final/imagesa/a/r/j/arj64e00'),\n",
       " PosixPath('data_final/imagesa/a/r/j/arj44c00'),\n",
       " PosixPath('data_final/imagesa/a/r/n/arn84a00'),\n",
       " PosixPath('data_final/imagesa/a/r/n/arn70e00'),\n",
       " PosixPath('data_final/imagesa/a/r/n/arn81a00'),\n",
       " PosixPath('data_final/imagesa/a/r/n/arn62d00'),\n",
       " PosixPath('data_final/imagesa/a/r/n/arn58e00'),\n",
       " PosixPath('data_final/imagesa/a/r/c/arc99c00'),\n",
       " PosixPath('data_final/imagesa/a/r/c/arc34e00'),\n",
       " PosixPath('data_final/imagesa/a/r/c/arc09d00'),\n",
       " PosixPath('data_final/imagesa/a/r/c/arc18c00'),\n",
       " PosixPath('data_final/imagesa/a/r/v/arv62a00'),\n",
       " PosixPath('data_final/imagesa/a/r/v/arv61c00'),\n",
       " PosixPath('data_final/imagesa/a/r/v/arv63e00'),\n",
       " PosixPath('data_final/imagesa/a/r/k/ark24e00'),\n",
       " PosixPath('data_final/imagesa/a/r/k/ark03f00'),\n",
       " PosixPath('data_final/imagesa/a/r/k/ark10d00'),\n",
       " PosixPath('data_final/imagesa/a/r/k/ark44a00'),\n",
       " PosixPath('data_final/imagesa/a/r/m/arm64d00'),\n",
       " PosixPath('data_final/imagesa/a/r/m/arm42c00'),\n",
       " PosixPath('data_final/imagesa/a/r/m/arm55e00'),\n",
       " PosixPath('data_final/imagesa/a/a/q/aaq96e00'),\n",
       " PosixPath('data_final/imagesa/a/a/q/aaq26d00'),\n",
       " PosixPath('data_final/imagesa/a/a/q/aaq11e00'),\n",
       " PosixPath('data_final/imagesa/a/a/q/aaq86e00'),\n",
       " PosixPath('data_final/imagesa/a/a/q/aaq66c00'),\n",
       " PosixPath('data_final/imagesa/a/a/w/aaw58c00'),\n",
       " PosixPath('data_final/imagesa/a/a/w/aaw48c00'),\n",
       " PosixPath('data_final/imagesa/a/a/z/aaz1aa00'),\n",
       " PosixPath('data_final/imagesa/a/a/z/aaz21a00'),\n",
       " PosixPath('data_final/imagesa/a/a/z/aaz71a00'),\n",
       " PosixPath('data_final/imagesa/a/a/z/aaz11f00'),\n",
       " PosixPath('data_final/imagesa/a/a/z/aaz30d00'),\n",
       " PosixPath('data_final/imagesa/a/a/z/aaz26d00'),\n",
       " PosixPath('data_final/imagesa/a/a/z/aaz68d00'),\n",
       " PosixPath('data_final/imagesa/a/a/z/aaz07e00'),\n",
       " PosixPath('data_final/imagesa/a/a/f/aaf70d00'),\n",
       " PosixPath('data_final/imagesa/a/a/f/aaf17e00'),\n",
       " PosixPath('data_final/imagesa/a/a/f/aaf75c00'),\n",
       " PosixPath('data_final/imagesa/a/a/f/aaf86d00'),\n",
       " PosixPath('data_final/imagesa/a/a/r/aar80e00'),\n",
       " PosixPath('data_final/imagesa/a/a/r/aar80c00'),\n",
       " PosixPath('data_final/imagesa/a/a/a/aaa11d00'),\n",
       " PosixPath('data_final/imagesa/a/a/a/aaa62e00'),\n",
       " PosixPath('data_final/imagesa/a/a/g/aag84f00'),\n",
       " PosixPath('data_final/imagesa/a/a/x/aax17e00'),\n",
       " PosixPath('data_final/imagesa/a/a/x/aax18c00'),\n",
       " PosixPath('data_final/imagesa/a/a/x/aax11e00'),\n",
       " PosixPath('data_final/imagesa/a/a/x/aax59d00'),\n",
       " PosixPath('data_final/imagesa/a/a/l/aal64a00'),\n",
       " PosixPath('data_final/imagesa/a/a/l/aal96e00'),\n",
       " PosixPath('data_final/imagesa/a/a/u/aau21f00'),\n",
       " PosixPath('data_final/imagesa/a/a/h/aah76c00'),\n",
       " PosixPath('data_final/imagesa/a/a/h/aah55a00'),\n",
       " PosixPath('data_final/imagesa/a/a/h/aah28c00'),\n",
       " PosixPath('data_final/imagesa/a/a/h/aah56c00'),\n",
       " PosixPath('data_final/imagesa/a/a/h/aah24e00'),\n",
       " PosixPath('data_final/imagesa/a/a/b/aab39e00'),\n",
       " PosixPath('data_final/imagesa/a/a/b/aab21f00'),\n",
       " PosixPath('data_final/imagesa/a/a/b/aab00d00'),\n",
       " PosixPath('data_final/imagesa/a/a/b/aab01d00'),\n",
       " PosixPath('data_final/imagesa/a/a/b/aab52d00'),\n",
       " PosixPath('data_final/imagesa/a/a/o/aao47d00'),\n",
       " PosixPath('data_final/imagesa/a/a/o/aao02e00'),\n",
       " PosixPath('data_final/imagesa/a/a/o/aao62e00'),\n",
       " PosixPath('data_final/imagesa/a/a/o/aao25d00'),\n",
       " PosixPath('data_final/imagesa/a/a/o/aao14e00'),\n",
       " PosixPath('data_final/imagesa/a/a/s/aas23d00'),\n",
       " PosixPath('data_final/imagesa/a/a/s/aas11d00'),\n",
       " PosixPath('data_final/imagesa/a/a/p/aap38d00'),\n",
       " PosixPath('data_final/imagesa/a/a/p/aap99c00'),\n",
       " PosixPath('data_final/imagesa/a/a/t/aat83d00'),\n",
       " PosixPath('data_final/imagesa/a/a/t/aat07e00'),\n",
       " PosixPath('data_final/imagesa/a/a/t/aat16d00'),\n",
       " PosixPath('data_final/imagesa/a/a/t/aat54c00'),\n",
       " PosixPath('data_final/imagesa/a/a/t/aat32d00'),\n",
       " PosixPath('data_final/imagesa/a/a/t/aat53f00'),\n",
       " PosixPath('data_final/imagesa/a/a/e/aae52e00'),\n",
       " PosixPath('data_final/imagesa/a/a/e/aae22f00'),\n",
       " PosixPath('data_final/imagesa/a/a/e/aae21d00'),\n",
       " PosixPath('data_final/imagesa/a/a/d/aad86d00'),\n",
       " PosixPath('data_final/imagesa/a/a/d/aad85d00'),\n",
       " PosixPath('data_final/imagesa/a/a/d/aad26d00'),\n",
       " PosixPath('data_final/imagesa/a/a/y/aay93e00'),\n",
       " PosixPath('data_final/imagesa/a/a/y/aay11d00'),\n",
       " PosixPath('data_final/imagesa/a/a/y/aay41d00'),\n",
       " PosixPath('data_final/imagesa/a/a/y/aay15f00'),\n",
       " PosixPath('data_final/imagesa/a/a/y/aay84d00'),\n",
       " PosixPath('data_final/imagesa/a/a/y/aay05c00'),\n",
       " PosixPath('data_final/imagesa/a/a/j/aaj32d00'),\n",
       " PosixPath('data_final/imagesa/a/a/j/aaj99c00'),\n",
       " PosixPath('data_final/imagesa/a/a/n/aan06d00'),\n",
       " PosixPath('data_final/imagesa/a/a/n/aan00c00'),\n",
       " PosixPath('data_final/imagesa/a/a/n/aan14c00'),\n",
       " PosixPath('data_final/imagesa/a/a/n/aan07d00'),\n",
       " PosixPath('data_final/imagesa/a/a/c/aac69d00'),\n",
       " PosixPath('data_final/imagesa/a/a/c/aac90e00'),\n",
       " PosixPath('data_final/imagesa/a/a/c/aac15f00'),\n",
       " PosixPath('data_final/imagesa/a/a/v/aav10e00'),\n",
       " PosixPath('data_final/imagesa/a/a/k/aak11e00'),\n",
       " PosixPath('data_final/imagesa/a/a/k/aak91e00'),\n",
       " PosixPath('data_final/imagesa/a/a/k/aak97e00'),\n",
       " PosixPath('data_final/imagesa/a/a/m/aam26d00'),\n",
       " PosixPath('data_final/imagesa/a/a/m/aam89c00'),\n",
       " PosixPath('data_final/imagesa/a/a/m/aam02a00'),\n",
       " PosixPath('data_final/imagesa/a/a/m/aam11d00'),\n",
       " PosixPath('data_final/imagesa/a/a/i/aai08c00'),\n",
       " PosixPath('data_final/imagesa/a/a/i/aai08d00'),\n",
       " PosixPath('data_final/imagesa/a/a/i/aai32d00'),\n",
       " PosixPath('data_final/imagesa/a/a/i/aai09e00'),\n",
       " PosixPath('data_final/imagesa/a/g/q/agq61c00'),\n",
       " PosixPath('data_final/imagesa/a/g/q/agq60c00'),\n",
       " PosixPath('data_final/imagesa/a/g/w/agw03f00'),\n",
       " PosixPath('data_final/imagesa/a/g/w/agw51d00'),\n",
       " PosixPath('data_final/imagesa/a/g/w/agw80d00'),\n",
       " PosixPath('data_final/imagesa/a/g/z/agz71c00'),\n",
       " PosixPath('data_final/imagesa/a/g/z/agz63c00'),\n",
       " PosixPath('data_final/imagesa/a/g/f/agf76c00'),\n",
       " PosixPath('data_final/imagesa/a/g/r/agr09e00'),\n",
       " PosixPath('data_final/imagesa/a/g/a/aga36d00'),\n",
       " PosixPath('data_final/imagesa/a/g/a/aga11c00'),\n",
       " PosixPath('data_final/imagesa/a/g/a/aga41c00'),\n",
       " PosixPath('data_final/imagesa/a/g/a/aga60c00'),\n",
       " PosixPath('data_final/imagesa/a/g/a/aga90f00'),\n",
       " PosixPath('data_final/imagesa/a/g/g/agg2aa00'),\n",
       " PosixPath('data_final/imagesa/a/g/g/agg05e00'),\n",
       " PosixPath('data_final/imagesa/a/g/x/agx11d00'),\n",
       " PosixPath('data_final/imagesa/a/g/x/agx35c00'),\n",
       " PosixPath('data_final/imagesa/a/g/x/agx31f00'),\n",
       " PosixPath('data_final/imagesa/a/g/l/agl21d00'),\n",
       " PosixPath('data_final/imagesa/a/g/u/agu30d00'),\n",
       " PosixPath('data_final/imagesa/a/g/u/agu64d00'),\n",
       " PosixPath('data_final/imagesa/a/g/u/agu25f00'),\n",
       " PosixPath('data_final/imagesa/a/g/u/agu13c00'),\n",
       " PosixPath('data_final/imagesa/a/g/h/agh67c00'),\n",
       " PosixPath('data_final/imagesa/a/g/h/agh25a00'),\n",
       " PosixPath('data_final/imagesa/a/g/h/agh61f00'),\n",
       " PosixPath('data_final/imagesa/a/g/o/ago2aa00'),\n",
       " PosixPath('data_final/imagesa/a/g/s/ags23c00'),\n",
       " PosixPath('data_final/imagesa/a/g/s/ags38e00'),\n",
       " PosixPath('data_final/imagesa/a/g/s/ags93e00'),\n",
       " PosixPath('data_final/imagesa/a/g/p/agp61e00'),\n",
       " PosixPath('data_final/imagesa/a/g/p/agp88e00'),\n",
       " PosixPath('data_final/imagesa/a/g/t/agt62f00'),\n",
       " PosixPath('data_final/imagesa/a/g/t/agt02d00'),\n",
       " PosixPath('data_final/imagesa/a/g/e/age57c00'),\n",
       " PosixPath('data_final/imagesa/a/g/e/age12e00'),\n",
       " PosixPath('data_final/imagesa/a/g/d/agd44e00'),\n",
       " PosixPath('data_final/imagesa/a/g/d/agd00d00'),\n",
       " PosixPath('data_final/imagesa/a/g/y/agy16d00'),\n",
       " PosixPath('data_final/imagesa/a/g/y/agy86e00'),\n",
       " PosixPath('data_final/imagesa/a/g/y/agy25c00'),\n",
       " PosixPath('data_final/imagesa/a/g/j/agj89c00'),\n",
       " PosixPath('data_final/imagesa/a/g/j/agj09d00'),\n",
       " PosixPath('data_final/imagesa/a/g/j/agj44c00'),\n",
       " PosixPath('data_final/imagesa/a/g/j/agj56c00'),\n",
       " PosixPath('data_final/imagesa/a/g/j/agj26c00'),\n",
       " PosixPath('data_final/imagesa/a/g/n/agn74e00'),\n",
       " PosixPath('data_final/imagesa/a/g/n/agn98d00'),\n",
       " PosixPath('data_final/imagesa/a/g/n/agn25a00'),\n",
       " PosixPath('data_final/imagesa/a/g/c/agc43d00'),\n",
       " PosixPath('data_final/imagesa/a/g/c/agc93d00'),\n",
       " PosixPath('data_final/imagesa/a/g/v/agv30e00'),\n",
       " PosixPath('data_final/imagesa/a/g/v/agv98c00'),\n",
       " PosixPath('data_final/imagesa/a/g/v/agv51d00'),\n",
       " PosixPath('data_final/imagesa/a/g/v/agv83f00'),\n",
       " PosixPath('data_final/imagesa/a/g/k/agk91e00'),\n",
       " PosixPath('data_final/imagesa/a/g/m/agm55f00'),\n",
       " PosixPath('data_final/imagesa/a/g/m/agm91a00'),\n",
       " PosixPath('data_final/imagesa/a/g/m/agm28c00'),\n",
       " PosixPath('data_final/imagesa/a/x/w/axw95d00'),\n",
       " PosixPath('data_final/imagesa/a/x/w/axw02f00'),\n",
       " PosixPath('data_final/imagesa/a/x/z/axz81f00'),\n",
       " PosixPath('data_final/imagesa/a/x/z/axz11c00'),\n",
       " PosixPath('data_final/imagesa/a/x/z/axz77d00'),\n",
       " PosixPath('data_final/imagesa/a/x/f/axf25c00'),\n",
       " PosixPath('data_final/imagesa/a/x/f/axf52d00'),\n",
       " PosixPath('data_final/imagesa/a/x/f/axf71d00'),\n",
       " PosixPath('data_final/imagesa/a/x/f/axf23e00'),\n",
       " PosixPath('data_final/imagesa/a/x/f/axf06d00'),\n",
       " PosixPath('data_final/imagesa/a/x/r/axr91c00'),\n",
       " PosixPath('data_final/imagesa/a/x/r/axr25f00'),\n",
       " PosixPath('data_final/imagesa/a/x/r/axr11e00'),\n",
       " PosixPath('data_final/imagesa/a/x/a/axa2aa00'),\n",
       " PosixPath('data_final/imagesa/a/x/g/axg84e00'),\n",
       " PosixPath('data_final/imagesa/a/x/g/axg00c00'),\n",
       " PosixPath('data_final/imagesa/a/x/l/axl02c00'),\n",
       " PosixPath('data_final/imagesa/a/x/l/axl63f00'),\n",
       " PosixPath('data_final/imagesa/a/x/l/axl55f00'),\n",
       " PosixPath('data_final/imagesa/a/x/u/axu19d00'),\n",
       " PosixPath('data_final/imagesa/a/x/u/axu61a00'),\n",
       " PosixPath('data_final/imagesa/a/x/u/axu12d00'),\n",
       " PosixPath('data_final/imagesa/a/x/u/axu94d00'),\n",
       " PosixPath('data_final/imagesa/a/x/h/axh93c00'),\n",
       " PosixPath('data_final/imagesa/a/x/h/axh20e00'),\n",
       " PosixPath('data_final/imagesa/a/x/b/axb20d00'),\n",
       " PosixPath('data_final/imagesa/a/x/o/axo09d00'),\n",
       " PosixPath('data_final/imagesa/a/x/o/axo45d00'),\n",
       " PosixPath('data_final/imagesa/a/x/o/axo63c00'),\n",
       " PosixPath('data_final/imagesa/a/x/o/axo16d00'),\n",
       " PosixPath('data_final/imagesa/a/x/o/axo18d00'),\n",
       " PosixPath('data_final/imagesa/a/x/s/axs05c00'),\n",
       " PosixPath('data_final/imagesa/a/x/s/axs95d00'),\n",
       " PosixPath('data_final/imagesa/a/x/s/axs48c00'),\n",
       " PosixPath('data_final/imagesa/a/x/p/axp61a00'),\n",
       " PosixPath('data_final/imagesa/a/x/p/axp81a00'),\n",
       " PosixPath('data_final/imagesa/a/x/p/axp11e00'),\n",
       " PosixPath('data_final/imagesa/a/x/p/axp11d00'),\n",
       " PosixPath('data_final/imagesa/a/x/p/axp51d00'),\n",
       " PosixPath('data_final/imagesa/a/x/t/axt60f00'),\n",
       " PosixPath('data_final/imagesa/a/x/t/axt35c00'),\n",
       " PosixPath('data_final/imagesa/a/x/e/axe22f00'),\n",
       " PosixPath('data_final/imagesa/a/x/e/axe53c00'),\n",
       " PosixPath('data_final/imagesa/a/x/e/axe34d00'),\n",
       " PosixPath('data_final/imagesa/a/x/e/axe26c00'),\n",
       " PosixPath('data_final/imagesa/a/x/e/axe36e00'),\n",
       " PosixPath('data_final/imagesa/a/x/e/axe6aa00'),\n",
       " PosixPath('data_final/imagesa/a/x/d/axd68d00'),\n",
       " PosixPath('data_final/imagesa/a/x/d/axd20e00'),\n",
       " PosixPath('data_final/imagesa/a/x/d/axd82c00'),\n",
       " PosixPath('data_final/imagesa/a/x/y/axy41f00'),\n",
       " PosixPath('data_final/imagesa/a/x/y/axy48e00'),\n",
       " PosixPath('data_final/imagesa/a/x/y/axy33d00'),\n",
       " PosixPath('data_final/imagesa/a/x/y/axy98e00'),\n",
       " PosixPath('data_final/imagesa/a/x/j/axj16c00'),\n",
       " PosixPath('data_final/imagesa/a/x/j/axj07e00'),\n",
       " PosixPath('data_final/imagesa/a/x/n/axn50f00'),\n",
       " PosixPath('data_final/imagesa/a/x/n/axn35a00'),\n",
       " PosixPath('data_final/imagesa/a/x/c/axc06d00'),\n",
       " PosixPath('data_final/imagesa/a/x/c/axc50f00'),\n",
       " PosixPath('data_final/imagesa/a/x/c/axc85c00'),\n",
       " PosixPath('data_final/imagesa/a/x/c/axc61f00'),\n",
       " PosixPath('data_final/imagesa/a/x/c/axc08e00'),\n",
       " PosixPath('data_final/imagesa/a/x/c/axc54e00'),\n",
       " PosixPath('data_final/imagesa/a/x/c/axc22e00'),\n",
       " PosixPath('data_final/imagesa/a/x/c/axc67e00'),\n",
       " PosixPath('data_final/imagesa/a/x/v/axv06d00'),\n",
       " PosixPath('data_final/imagesa/a/x/k/axk96c00'),\n",
       " PosixPath('data_final/imagesa/a/x/i/axi96d00'),\n",
       " PosixPath('data_final/imagesa/a/x/i/axi01d00'),\n",
       " PosixPath('data_final/imagesa/a/l/q/alq61c00'),\n",
       " PosixPath('data_final/imagesa/a/l/q/alq8aa00'),\n",
       " PosixPath('data_final/imagesa/a/l/q/alq38c00'),\n",
       " PosixPath('data_final/imagesa/a/l/w/alw86e00'),\n",
       " PosixPath('data_final/imagesa/a/l/w/alw21d00'),\n",
       " PosixPath('data_final/imagesa/a/l/w/alw91c00'),\n",
       " PosixPath('data_final/imagesa/a/l/w/alw62f00'),\n",
       " PosixPath('data_final/imagesa/a/l/w/alw93c00'),\n",
       " PosixPath('data_final/imagesa/a/l/w/alw45a00'),\n",
       " PosixPath('data_final/imagesa/a/l/z/alz93c00'),\n",
       " PosixPath('data_final/imagesa/a/l/z/alz24e00'),\n",
       " PosixPath('data_final/imagesa/a/l/z/alz89c00'),\n",
       " PosixPath('data_final/imagesa/a/l/f/alf33d00'),\n",
       " PosixPath('data_final/imagesa/a/l/f/alf73c00'),\n",
       " PosixPath('data_final/imagesa/a/l/f/alf54c00'),\n",
       " PosixPath('data_final/imagesa/a/l/f/alf02c00'),\n",
       " PosixPath('data_final/imagesa/a/l/r/alr55a00'),\n",
       " PosixPath('data_final/imagesa/a/l/r/alr68e00'),\n",
       " PosixPath('data_final/imagesa/a/l/r/alr50d00'),\n",
       " PosixPath('data_final/imagesa/a/l/r/alr40d00'),\n",
       " PosixPath('data_final/imagesa/a/l/a/ala09e00'),\n",
       " PosixPath('data_final/imagesa/a/l/a/ala51f00'),\n",
       " PosixPath('data_final/imagesa/a/l/a/ala45a00'),\n",
       " PosixPath('data_final/imagesa/a/l/a/ala10a00'),\n",
       " PosixPath('data_final/imagesa/a/l/g/alg15d00'),\n",
       " PosixPath('data_final/imagesa/a/l/g/alg96d00'),\n",
       " PosixPath('data_final/imagesa/a/l/g/alg41e00'),\n",
       " PosixPath('data_final/imagesa/a/l/x/alx42c00'),\n",
       " PosixPath('data_final/imagesa/a/l/x/alx72a00'),\n",
       " PosixPath('data_final/imagesa/a/l/l/all44f00'),\n",
       " PosixPath('data_final/imagesa/a/l/l/all37d00'),\n",
       " PosixPath('data_final/imagesa/a/l/l/all27d00'),\n",
       " PosixPath('data_final/imagesa/a/l/u/alu97e00'),\n",
       " PosixPath('data_final/imagesa/a/l/u/alu72f00'),\n",
       " PosixPath('data_final/imagesa/a/l/u/alu22d00'),\n",
       " PosixPath('data_final/imagesa/a/l/u/alu04e00'),\n",
       " PosixPath('data_final/imagesa/a/l/u/alu38e00'),\n",
       " PosixPath('data_final/imagesa/a/l/h/alh09e00'),\n",
       " PosixPath('data_final/imagesa/a/l/h/alh05c00'),\n",
       " PosixPath('data_final/imagesa/a/l/h/alh93a00'),\n",
       " PosixPath('data_final/imagesa/a/l/h/alh89c00'),\n",
       " PosixPath('data_final/imagesa/a/l/b/alb12c00'),\n",
       " PosixPath('data_final/imagesa/a/l/b/alb95d00'),\n",
       " PosixPath('data_final/imagesa/a/l/b/alb85d00'),\n",
       " PosixPath('data_final/imagesa/a/l/o/alo60e00'),\n",
       " PosixPath('data_final/imagesa/a/l/s/als49c00'),\n",
       " PosixPath('data_final/imagesa/a/l/s/als60e00'),\n",
       " PosixPath('data_final/imagesa/a/l/s/als66e00'),\n",
       " PosixPath('data_final/imagesa/a/l/s/als07e00'),\n",
       " PosixPath('data_final/imagesa/a/l/p/alp22d00'),\n",
       " PosixPath('data_final/imagesa/a/l/p/alp18e00'),\n",
       " PosixPath('data_final/imagesa/a/l/p/alp99c00'),\n",
       " PosixPath('data_final/imagesa/a/l/t/alt49e00'),\n",
       " PosixPath('data_final/imagesa/a/l/t/alt50f00'),\n",
       " PosixPath('data_final/imagesa/a/l/t/alt35e00'),\n",
       " PosixPath('data_final/imagesa/a/l/e/ale15c00'),\n",
       " PosixPath('data_final/imagesa/a/l/e/ale02d00'),\n",
       " PosixPath('data_final/imagesa/a/l/d/ald85e00'),\n",
       " PosixPath('data_final/imagesa/a/l/d/ald23e00'),\n",
       " PosixPath('data_final/imagesa/a/l/d/ald92f00'),\n",
       " PosixPath('data_final/imagesa/a/l/d/ald63e00'),\n",
       " PosixPath('data_final/imagesa/a/l/y/aly66c00'),\n",
       " PosixPath('data_final/imagesa/a/l/y/aly20f00'),\n",
       " PosixPath('data_final/imagesa/a/l/y/aly03c00'),\n",
       " PosixPath('data_final/imagesa/a/l/j/alj94e00'),\n",
       " PosixPath('data_final/imagesa/a/l/j/alj33e00'),\n",
       " PosixPath('data_final/imagesa/a/l/j/alj48d00'),\n",
       " PosixPath('data_final/imagesa/a/l/n/aln42c00'),\n",
       " PosixPath('data_final/imagesa/a/l/n/aln73e00'),\n",
       " PosixPath('data_final/imagesa/a/l/n/aln09c00'),\n",
       " PosixPath('data_final/imagesa/a/l/c/alc07c00'),\n",
       " PosixPath('data_final/imagesa/a/l/c/alc49c00'),\n",
       " PosixPath('data_final/imagesa/a/l/c/alc27d00'),\n",
       " PosixPath('data_final/imagesa/a/l/c/alc05d00'),\n",
       " PosixPath('data_final/imagesa/a/l/v/alv18e00'),\n",
       " PosixPath('data_final/imagesa/a/l/v/alv00e00'),\n",
       " PosixPath('data_final/imagesa/a/l/v/alv24d00'),\n",
       " PosixPath('data_final/imagesa/a/l/v/alv06d00'),\n",
       " PosixPath('data_final/imagesa/a/l/v/alv10f00'),\n",
       " PosixPath('data_final/imagesa/a/l/k/alk08c00'),\n",
       " PosixPath('data_final/imagesa/a/l/k/alk00d00'),\n",
       " PosixPath('data_final/imagesa/a/l/k/alk05f00'),\n",
       " PosixPath('data_final/imagesa/a/l/m/alm29c00'),\n",
       " PosixPath('data_final/imagesa/a/l/i/ali44a00'),\n",
       " PosixPath('data_final/imagesa/a/u/q/auq19c00'),\n",
       " PosixPath('data_final/imagesa/a/u/q/auq99d00'),\n",
       " PosixPath('data_final/imagesa/a/u/w/auw1aa00'),\n",
       " PosixPath('data_final/imagesa/a/u/w/auw73e00'),\n",
       " PosixPath('data_final/imagesa/a/u/z/auz71a00'),\n",
       " PosixPath('data_final/imagesa/a/u/z/auz58c00'),\n",
       " PosixPath('data_final/imagesa/a/u/f/auf51c00'),\n",
       " PosixPath('data_final/imagesa/a/u/f/auf29e00'),\n",
       " PosixPath('data_final/imagesa/a/u/f/auf01d00'),\n",
       " PosixPath('data_final/imagesa/a/u/r/aur10c00'),\n",
       " PosixPath('data_final/imagesa/a/u/r/aur24c00'),\n",
       " PosixPath('data_final/imagesa/a/u/r/aur19e00'),\n",
       " PosixPath('data_final/imagesa/a/u/a/aua02d00'),\n",
       " PosixPath('data_final/imagesa/a/u/g/aug60c00'),\n",
       " PosixPath('data_final/imagesa/a/u/g/aug88d00'),\n",
       " PosixPath('data_final/imagesa/a/u/x/aux95d00'),\n",
       " PosixPath('data_final/imagesa/a/u/x/aux85c00'),\n",
       " PosixPath('data_final/imagesa/a/u/x/aux14f00'),\n",
       " PosixPath('data_final/imagesa/a/u/l/aul64a00'),\n",
       " PosixPath('data_final/imagesa/a/u/l/aul87e00'),\n",
       " PosixPath('data_final/imagesa/a/u/l/aul80e00'),\n",
       " PosixPath('data_final/imagesa/a/u/l/aul36d00'),\n",
       " PosixPath('data_final/imagesa/a/u/u/auu77c00'),\n",
       " PosixPath('data_final/imagesa/a/u/u/auu90d00'),\n",
       " PosixPath('data_final/imagesa/a/u/u/auu49d00'),\n",
       " PosixPath('data_final/imagesa/a/u/h/auh39c00'),\n",
       " PosixPath('data_final/imagesa/a/u/h/auh89e00'),\n",
       " PosixPath('data_final/imagesa/a/u/h/auh23f00'),\n",
       " PosixPath('data_final/imagesa/a/u/h/auh09c00'),\n",
       " PosixPath('data_final/imagesa/a/u/b/aub92c00'),\n",
       " PosixPath('data_final/imagesa/a/u/b/aub34a00'),\n",
       " PosixPath('data_final/imagesa/a/u/o/auo3aa00'),\n",
       " PosixPath('data_final/imagesa/a/u/o/auo48c00'),\n",
       " PosixPath('data_final/imagesa/a/u/o/auo4aa00'),\n",
       " PosixPath('data_final/imagesa/a/u/o/auo70e00'),\n",
       " PosixPath('data_final/imagesa/a/u/o/auo41e00'),\n",
       " PosixPath('data_final/imagesa/a/u/s/aus22e00'),\n",
       " PosixPath('data_final/imagesa/a/u/p/aup35c00'),\n",
       " PosixPath('data_final/imagesa/a/u/p/aup01e00'),\n",
       " PosixPath('data_final/imagesa/a/u/p/aup44a00'),\n",
       " PosixPath('data_final/imagesa/a/u/p/aup05c00'),\n",
       " PosixPath('data_final/imagesa/a/u/p/aup54c00'),\n",
       " PosixPath('data_final/imagesa/a/u/p/aup50f00'),\n",
       " PosixPath('data_final/imagesa/a/u/p/aup43e00'),\n",
       " PosixPath('data_final/imagesa/a/u/p/aup43f00'),\n",
       " PosixPath('data_final/imagesa/a/u/t/aut57e00'),\n",
       " PosixPath('data_final/imagesa/a/u/t/aut45d00'),\n",
       " PosixPath('data_final/imagesa/a/u/t/aut93c00'),\n",
       " PosixPath('data_final/imagesa/a/u/e/aue53a00'),\n",
       " PosixPath('data_final/imagesa/a/u/e/aue07c00'),\n",
       " PosixPath('data_final/imagesa/a/u/d/aud21d00'),\n",
       " PosixPath('data_final/imagesa/a/u/d/aud07c00'),\n",
       " PosixPath('data_final/imagesa/a/u/d/aud81f00'),\n",
       " PosixPath('data_final/imagesa/a/u/d/aud22f00'),\n",
       " PosixPath('data_final/imagesa/a/u/d/aud40c00'),\n",
       " PosixPath('data_final/imagesa/a/u/y/auy47c00'),\n",
       " PosixPath('data_final/imagesa/a/u/j/auj98e00'),\n",
       " PosixPath('data_final/imagesa/a/u/j/auj54e00'),\n",
       " PosixPath('data_final/imagesa/a/u/n/aun79d00'),\n",
       " PosixPath('data_final/imagesa/a/u/n/aun18e00'),\n",
       " PosixPath('data_final/imagesa/a/u/n/aun41e00'),\n",
       " PosixPath('data_final/imagesa/a/u/n/aun07c00'),\n",
       " PosixPath('data_final/imagesa/a/u/c/auc35c00'),\n",
       " PosixPath('data_final/imagesa/a/u/c/auc77e00'),\n",
       " PosixPath('data_final/imagesa/a/u/c/auc82e00'),\n",
       " PosixPath('data_final/imagesa/a/u/c/auc99c00'),\n",
       " PosixPath('data_final/imagesa/a/u/c/auc10d00'),\n",
       " PosixPath('data_final/imagesa/a/u/v/auv82d00'),\n",
       " PosixPath('data_final/imagesa/a/u/v/auv69e00'),\n",
       " PosixPath('data_final/imagesa/a/u/k/auk42c00'),\n",
       " PosixPath('data_final/imagesa/a/u/k/auk54c00'),\n",
       " PosixPath('data_final/imagesa/a/u/m/aum66e00'),\n",
       " PosixPath('data_final/imagesa/a/u/m/aum77c00'),\n",
       " PosixPath('data_final/imagesa/a/u/m/aum77d00'),\n",
       " PosixPath('data_final/imagesa/a/u/i/aui29e00'),\n",
       " PosixPath('data_final/imagesa/a/u/i/aui35f00'),\n",
       " PosixPath('data_final/imagesa/a/u/i/aui37c00'),\n",
       " PosixPath('data_final/imagesa/a/h/q/ahq11c00'),\n",
       " PosixPath('data_final/imagesa/a/h/z/ahz42e00'),\n",
       " PosixPath('data_final/imagesa/a/h/z/ahz12f00'),\n",
       " PosixPath('data_final/imagesa/a/h/z/ahz70c00'),\n",
       " PosixPath('data_final/imagesa/a/h/f/ahf06e00'),\n",
       " PosixPath('data_final/imagesa/a/h/f/ahf31d00'),\n",
       " PosixPath('data_final/imagesa/a/h/f/ahf21e00'),\n",
       " PosixPath('data_final/imagesa/a/h/r/ahr70e00'),\n",
       " PosixPath('data_final/imagesa/a/h/r/ahr75f00'),\n",
       " PosixPath('data_final/imagesa/a/h/r/ahr17e00'),\n",
       " PosixPath('data_final/imagesa/a/h/r/ahr82e00'),\n",
       " PosixPath('data_final/imagesa/a/h/r/ahr30d00'),\n",
       " PosixPath('data_final/imagesa/a/h/a/aha88d00'),\n",
       " PosixPath('data_final/imagesa/a/h/a/aha27e00'),\n",
       " PosixPath('data_final/imagesa/a/h/a/aha43a00'),\n",
       " PosixPath('data_final/imagesa/a/h/a/aha18d00'),\n",
       " PosixPath('data_final/imagesa/a/h/g/ahg07d00'),\n",
       " PosixPath('data_final/imagesa/a/h/g/ahg87d00'),\n",
       " PosixPath('data_final/imagesa/a/h/g/ahg85c00'),\n",
       " PosixPath('data_final/imagesa/a/h/x/ahx43f00'),\n",
       " PosixPath('data_final/imagesa/a/h/x/ahx86c00'),\n",
       " PosixPath('data_final/imagesa/a/h/x/ahx72c00'),\n",
       " PosixPath('data_final/imagesa/a/h/x/ahx44f00'),\n",
       " PosixPath('data_final/imagesa/a/h/x/ahx85f00'),\n",
       " PosixPath('data_final/imagesa/a/h/x/ahx11e00'),\n",
       " PosixPath('data_final/imagesa/a/h/l/ahl14e00'),\n",
       " PosixPath('data_final/imagesa/a/h/l/ahl48c00'),\n",
       " PosixPath('data_final/imagesa/a/h/l/ahl67d00'),\n",
       " PosixPath('data_final/imagesa/a/h/l/ahl94a00'),\n",
       " PosixPath('data_final/imagesa/a/h/l/ahl23c00'),\n",
       " PosixPath('data_final/imagesa/a/h/l/ahl75a00'),\n",
       " PosixPath('data_final/imagesa/a/h/u/ahu76e00'),\n",
       " PosixPath('data_final/imagesa/a/h/h/ahh19e00'),\n",
       " PosixPath('data_final/imagesa/a/h/b/ahb96c00'),\n",
       " PosixPath('data_final/imagesa/a/h/o/aho02e00'),\n",
       " PosixPath('data_final/imagesa/a/h/o/aho60f00'),\n",
       " PosixPath('data_final/imagesa/a/h/s/ahs06e00'),\n",
       " PosixPath('data_final/imagesa/a/h/s/ahs32e00'),\n",
       " PosixPath('data_final/imagesa/a/h/p/ahp20f00'),\n",
       " PosixPath('data_final/imagesa/a/h/p/ahp05f00'),\n",
       " PosixPath('data_final/imagesa/a/h/p/ahp06d00'),\n",
       " PosixPath('data_final/imagesa/a/h/p/ahp88c00'),\n",
       " PosixPath('data_final/imagesa/a/h/t/aht67d00'),\n",
       " PosixPath('data_final/imagesa/a/h/e/ahe16c00'),\n",
       " PosixPath('data_final/imagesa/a/h/e/ahe14e00'),\n",
       " PosixPath('data_final/imagesa/a/h/e/ahe74d00'),\n",
       " PosixPath('data_final/imagesa/a/h/d/ahd54e00'),\n",
       " PosixPath('data_final/imagesa/a/h/d/ahd52f00'),\n",
       " PosixPath('data_final/imagesa/a/h/d/ahd24e00'),\n",
       " PosixPath('data_final/imagesa/a/h/y/ahy70a00'),\n",
       " PosixPath('data_final/imagesa/a/h/y/ahy96c00'),\n",
       " PosixPath('data_final/imagesa/a/h/y/ahy66e00'),\n",
       " PosixPath('data_final/imagesa/a/h/y/ahy80a00'),\n",
       " PosixPath('data_final/imagesa/a/h/j/ahj27d00'),\n",
       " PosixPath('data_final/imagesa/a/h/j/ahj02c00'),\n",
       " PosixPath('data_final/imagesa/a/h/j/ahj61c00'),\n",
       " PosixPath('data_final/imagesa/a/h/j/ahj14e00'),\n",
       " PosixPath('data_final/imagesa/a/h/n/ahn10c00'),\n",
       " PosixPath('data_final/imagesa/a/h/c/ahc63c00'),\n",
       " PosixPath('data_final/imagesa/a/h/v/ahv46c00'),\n",
       " PosixPath('data_final/imagesa/a/h/v/ahv51e00'),\n",
       " PosixPath('data_final/imagesa/a/h/v/ahv80e00'),\n",
       " PosixPath('data_final/imagesa/a/h/v/ahv66c00'),\n",
       " PosixPath('data_final/imagesa/a/h/v/ahv30e00'),\n",
       " PosixPath('data_final/imagesa/a/h/v/ahv34d00'),\n",
       " PosixPath('data_final/imagesa/a/h/v/ahv44f00'),\n",
       " PosixPath('data_final/imagesa/a/h/v/ahv55c00'),\n",
       " PosixPath('data_final/imagesa/a/h/k/ahk20e00'),\n",
       " PosixPath('data_final/imagesa/a/h/m/ahm22d00'),\n",
       " PosixPath('data_final/imagesa/a/h/m/ahm49c00'),\n",
       " PosixPath('data_final/imagesa/a/h/m/ahm12e00'),\n",
       " PosixPath('data_final/imagesa/a/h/i/ahi22f00'),\n",
       " PosixPath('data_final/imagesa/a/h/i/ahi43e00'),\n",
       " PosixPath('data_final/imagesa/a/h/i/ahi81f00'),\n",
       " PosixPath('data_final/imagesa/a/h/i/ahi13c00'),\n",
       " PosixPath('data_final/imagesa/a/b/q/abq16d00'),\n",
       " PosixPath('data_final/imagesa/a/b/q/abq84c00'),\n",
       " PosixPath('data_final/imagesa/a/b/q/abq59e00'),\n",
       " PosixPath('data_final/imagesa/a/b/q/abq32d00'),\n",
       " PosixPath('data_final/imagesa/a/b/z/abz14d00'),\n",
       " PosixPath('data_final/imagesa/a/b/z/abz24c00'),\n",
       " PosixPath('data_final/imagesa/a/b/z/abz53f00'),\n",
       " PosixPath('data_final/imagesa/a/b/f/abf06e00'),\n",
       " PosixPath('data_final/imagesa/a/b/f/abf45d00'),\n",
       " PosixPath('data_final/imagesa/a/b/f/abf32e00'),\n",
       " PosixPath('data_final/imagesa/a/b/a/aba87d00'),\n",
       " PosixPath('data_final/imagesa/a/b/a/aba32c00'),\n",
       " PosixPath('data_final/imagesa/a/b/a/aba99c00'),\n",
       " PosixPath('data_final/imagesa/a/b/a/aba11f00'),\n",
       " PosixPath('data_final/imagesa/a/b/g/abg86c00'),\n",
       " PosixPath('data_final/imagesa/a/b/g/abg16c00'),\n",
       " PosixPath('data_final/imagesa/a/b/x/abx84c00'),\n",
       " PosixPath('data_final/imagesa/a/b/x/abx88c00'),\n",
       " PosixPath('data_final/imagesa/a/b/l/abl22e00'),\n",
       " PosixPath('data_final/imagesa/a/b/l/abl01e00'),\n",
       " PosixPath('data_final/imagesa/a/b/u/abu71f00'),\n",
       " PosixPath('data_final/imagesa/a/b/u/abu99c00'),\n",
       " PosixPath('data_final/imagesa/a/b/u/abu13c00'),\n",
       " PosixPath('data_final/imagesa/a/b/u/abu36d00'),\n",
       " PosixPath('data_final/imagesa/a/b/u/abu81a00'),\n",
       " PosixPath('data_final/imagesa/a/b/h/abh84e00'),\n",
       " PosixPath('data_final/imagesa/a/b/b/abb83c00'),\n",
       " PosixPath('data_final/imagesa/a/b/b/abb05e00'),\n",
       " PosixPath('data_final/imagesa/a/b/b/abb23c00'),\n",
       " PosixPath('data_final/imagesa/a/b/o/abo11d00'),\n",
       " PosixPath('data_final/imagesa/a/b/o/abo87d00'),\n",
       " PosixPath('data_final/imagesa/a/b/o/abo97d00'),\n",
       " PosixPath('data_final/imagesa/a/b/o/abo17e00'),\n",
       " PosixPath('data_final/imagesa/a/b/o/abo56e00'),\n",
       " PosixPath('data_final/imagesa/a/b/o/abo16e00'),\n",
       " PosixPath('data_final/imagesa/a/b/o/abo85c00'),\n",
       " PosixPath('data_final/imagesa/a/b/s/abs64c00'),\n",
       " PosixPath('data_final/imagesa/a/b/s/abs35a00'),\n",
       " PosixPath('data_final/imagesa/a/b/s/abs81c00'),\n",
       " PosixPath('data_final/imagesa/a/b/p/abp02e00'),\n",
       " PosixPath('data_final/imagesa/a/b/p/abp89c00'),\n",
       " PosixPath('data_final/imagesa/a/b/p/abp76e00'),\n",
       " PosixPath('data_final/imagesa/a/b/t/abt21f00'),\n",
       " PosixPath('data_final/imagesa/a/b/t/abt78d00'),\n",
       " PosixPath('data_final/imagesa/a/b/d/abd37d00'),\n",
       " PosixPath('data_final/imagesa/a/b/d/abd40e00'),\n",
       " PosixPath('data_final/imagesa/a/b/y/aby93d00'),\n",
       " PosixPath('data_final/imagesa/a/b/y/aby30d00'),\n",
       " PosixPath('data_final/imagesa/a/b/y/aby85c00'),\n",
       " PosixPath('data_final/imagesa/a/b/y/aby37c00'),\n",
       " PosixPath('data_final/imagesa/a/b/j/abj32d00'),\n",
       " PosixPath('data_final/imagesa/a/b/j/abj96e00'),\n",
       " PosixPath('data_final/imagesa/a/b/j/abj01d00'),\n",
       " PosixPath('data_final/imagesa/a/b/j/abj52e00'),\n",
       " PosixPath('data_final/imagesa/a/b/n/abn54e00'),\n",
       " PosixPath('data_final/imagesa/a/b/c/abc06e00'),\n",
       " PosixPath('data_final/imagesa/a/b/c/abc97c00'),\n",
       " PosixPath('data_final/imagesa/a/b/v/abv36c00'),\n",
       " PosixPath('data_final/imagesa/a/b/v/abv80e00'),\n",
       " PosixPath('data_final/imagesa/a/b/k/abk07d00'),\n",
       " PosixPath('data_final/imagesa/a/b/k/abk83d00'),\n",
       " PosixPath('data_final/imagesa/a/b/k/abk89e00'),\n",
       " PosixPath('data_final/imagesa/a/b/k/abk41c00'),\n",
       " PosixPath('data_final/imagesa/a/b/k/abk71f00'),\n",
       " PosixPath('data_final/imagesa/a/b/m/abm37e00'),\n",
       " PosixPath('data_final/imagesa/a/b/m/abm71a00'),\n",
       " PosixPath('data_final/imagesa/a/b/m/abm50f00'),\n",
       " PosixPath('data_final/imagesa/a/b/m/abm60c00'),\n",
       " PosixPath('data_final/imagesa/a/b/m/abm06e00'),\n",
       " PosixPath('data_final/imagesa/a/b/i/abi43c00'),\n",
       " PosixPath('data_final/imagesa/a/b/i/abi35c00'),\n",
       " PosixPath('data_final/imagesa/a/o/q/aoq64a00'),\n",
       " PosixPath('data_final/imagesa/a/o/q/aoq82f00'),\n",
       " PosixPath('data_final/imagesa/a/o/w/aow40e00'),\n",
       " PosixPath('data_final/imagesa/a/o/w/aow47c00'),\n",
       " PosixPath('data_final/imagesa/a/o/w/aow56d00'),\n",
       " PosixPath('data_final/imagesa/a/o/w/aow20e00'),\n",
       " PosixPath('data_final/imagesa/a/o/z/aoz81d00'),\n",
       " PosixPath('data_final/imagesa/a/o/f/aof23e00'),\n",
       " PosixPath('data_final/imagesa/a/o/f/aof77c00'),\n",
       " PosixPath('data_final/imagesa/a/o/r/aor60c00'),\n",
       " PosixPath('data_final/imagesa/a/o/r/aor48c00'),\n",
       " PosixPath('data_final/imagesa/a/o/r/aor53f00'),\n",
       " PosixPath('data_final/imagesa/a/o/r/aor22f00'),\n",
       " PosixPath('data_final/imagesa/a/o/a/aoa25c00'),\n",
       " PosixPath('data_final/imagesa/a/o/a/aoa10c00'),\n",
       " PosixPath('data_final/imagesa/a/o/a/aoa96c00'),\n",
       " PosixPath('data_final/imagesa/a/o/g/aog61f00'),\n",
       " PosixPath('data_final/imagesa/a/o/x/aox54a00'),\n",
       " PosixPath('data_final/imagesa/a/o/x/aox85c00'),\n",
       " PosixPath('data_final/imagesa/a/o/x/aox56e00'),\n",
       " PosixPath('data_final/imagesa/a/o/l/aol15c00'),\n",
       " PosixPath('data_final/imagesa/a/o/u/aou06c00'),\n",
       " PosixPath('data_final/imagesa/a/o/u/aou54e00'),\n",
       " PosixPath('data_final/imagesa/a/o/u/aou59c00'),\n",
       " PosixPath('data_final/imagesa/a/o/u/aou71c00'),\n",
       " PosixPath('data_final/imagesa/a/o/u/aou57e00'),\n",
       " PosixPath('data_final/imagesa/a/o/h/aoh74e00'),\n",
       " PosixPath('data_final/imagesa/a/o/b/aob54c00'),\n",
       " PosixPath('data_final/imagesa/a/o/b/aob50f00'),\n",
       " PosixPath('data_final/imagesa/a/o/b/aob65f00'),\n",
       " PosixPath('data_final/imagesa/a/o/o/aoo57d00'),\n",
       " PosixPath('data_final/imagesa/a/o/o/aoo56e00'),\n",
       " PosixPath('data_final/imagesa/a/o/o/aoo64c00'),\n",
       " PosixPath('data_final/imagesa/a/o/s/aos30d00'),\n",
       " PosixPath('data_final/imagesa/a/o/s/aos21d00'),\n",
       " PosixPath('data_final/imagesa/a/o/t/aot57c00'),\n",
       " PosixPath('data_final/imagesa/a/o/t/aot05c00'),\n",
       " PosixPath('data_final/imagesa/a/o/t/aot61f00'),\n",
       " PosixPath('data_final/imagesa/a/o/e/aoe74f00'),\n",
       " PosixPath('data_final/imagesa/a/o/e/aoe45e00'),\n",
       " PosixPath('data_final/imagesa/a/o/e/aoe37c00'),\n",
       " PosixPath('data_final/imagesa/a/o/e/aoe21d00'),\n",
       " PosixPath('data_final/imagesa/a/o/e/aoe25e00'),\n",
       " PosixPath('data_final/imagesa/a/o/d/aod94a00'),\n",
       " PosixPath('data_final/imagesa/a/o/y/aoy53f00'),\n",
       " PosixPath('data_final/imagesa/a/o/y/aoy78c00'),\n",
       " PosixPath('data_final/imagesa/a/o/j/aoj26d00'),\n",
       " PosixPath('data_final/imagesa/a/o/j/aoj84d00'),\n",
       " PosixPath('data_final/imagesa/a/o/j/aoj45c00'),\n",
       " PosixPath('data_final/imagesa/a/o/j/aoj44c00'),\n",
       " PosixPath('data_final/imagesa/a/o/n/aon86e00'),\n",
       " PosixPath('data_final/imagesa/a/o/c/aoc43a00'),\n",
       " PosixPath('data_final/imagesa/a/o/c/aoc84c00'),\n",
       " PosixPath('data_final/imagesa/a/o/v/aov21d00'),\n",
       " PosixPath('data_final/imagesa/a/o/v/aov4aa00'),\n",
       " PosixPath('data_final/imagesa/a/o/v/aov10d00'),\n",
       " PosixPath('data_final/imagesa/a/o/v/aov22e00'),\n",
       " PosixPath('data_final/imagesa/a/o/v/aov39d00'),\n",
       " PosixPath('data_final/imagesa/a/o/k/aok08e00'),\n",
       " PosixPath('data_final/imagesa/a/o/m/aom82c00'),\n",
       " PosixPath('data_final/imagesa/a/o/m/aom22c00'),\n",
       " PosixPath('data_final/imagesa/a/o/i/aoi97c00'),\n",
       " PosixPath('data_final/imagesa/a/o/i/aoi80d00'),\n",
       " PosixPath('data_final/imagesa/a/o/i/aoi25f00'),\n",
       " PosixPath('data_final/imagesa/a/o/i/aoi15c00'),\n",
       " PosixPath('data_final/imagesa/a/s/q/asq57c00'),\n",
       " PosixPath('data_final/imagesa/a/s/q/asq65f00'),\n",
       " PosixPath('data_final/imagesa/a/s/q/asq44a00'),\n",
       " PosixPath('data_final/imagesa/a/s/q/asq21d00'),\n",
       " PosixPath('data_final/imagesa/a/s/q/asq46e00'),\n",
       " PosixPath('data_final/imagesa/a/s/q/asq69d00'),\n",
       " PosixPath('data_final/imagesa/a/s/w/asw61a00'),\n",
       " PosixPath('data_final/imagesa/a/s/w/asw02a00'),\n",
       " PosixPath('data_final/imagesa/a/s/w/asw48c00'),\n",
       " PosixPath('data_final/imagesa/a/s/w/asw86e00'),\n",
       " PosixPath('data_final/imagesa/a/s/z/asz81e00'),\n",
       " PosixPath('data_final/imagesa/a/s/z/asz34a00'),\n",
       " PosixPath('data_final/imagesa/a/s/z/asz45f00'),\n",
       " PosixPath('data_final/imagesa/a/s/f/asf01c00'),\n",
       " PosixPath('data_final/imagesa/a/s/f/asf39c00'),\n",
       " PosixPath('data_final/imagesa/a/s/f/asf90d00'),\n",
       " PosixPath('data_final/imagesa/a/s/r/asr09d00'),\n",
       " PosixPath('data_final/imagesa/a/s/r/asr37e00'),\n",
       " PosixPath('data_final/imagesa/a/s/r/asr16d00'),\n",
       " PosixPath('data_final/imagesa/a/s/r/asr02e00'),\n",
       " PosixPath('data_final/imagesa/a/s/r/asr40c00'),\n",
       " PosixPath('data_final/imagesa/a/s/a/asa61e00'),\n",
       " PosixPath('data_final/imagesa/a/s/a/asa56c00'),\n",
       " PosixPath('data_final/imagesa/a/s/a/asa06d00'),\n",
       " PosixPath('data_final/imagesa/a/s/g/asg98c00'),\n",
       " PosixPath('data_final/imagesa/a/s/g/asg72d00'),\n",
       " PosixPath('data_final/imagesa/a/s/x/asx80d00'),\n",
       " PosixPath('data_final/imagesa/a/s/l/asl65d00'),\n",
       " PosixPath('data_final/imagesa/a/s/l/asl43c00'),\n",
       " PosixPath('data_final/imagesa/a/s/u/asu62c00'),\n",
       " PosixPath('data_final/imagesa/a/s/u/asu80f00'),\n",
       " PosixPath('data_final/imagesa/a/s/u/asu48c00'),\n",
       " PosixPath('data_final/imagesa/a/s/u/asu76c00'),\n",
       " PosixPath('data_final/imagesa/a/s/h/ash17e00'),\n",
       " PosixPath('data_final/imagesa/a/s/h/ash58e00'),\n",
       " PosixPath('data_final/imagesa/a/s/h/ash71d00'),\n",
       " PosixPath('data_final/imagesa/a/s/b/asb12c00'),\n",
       " PosixPath('data_final/imagesa/a/s/b/asb20c00'),\n",
       " PosixPath('data_final/imagesa/a/s/o/aso58e00'),\n",
       " PosixPath('data_final/imagesa/a/s/o/aso71d00'),\n",
       " PosixPath('data_final/imagesa/a/s/s/ass43a00'),\n",
       " ...]"
      ]
     },
     "execution_count": 8,
     "metadata": {},
     "output_type": "execute_result"
    }
   ],
   "source": [
    "(list(tqdm(data_root.glob('*/*/*/*/*'))))"
   ]
  },
  {
   "cell_type": "code",
   "execution_count": 9,
   "metadata": {
    "colab": {
     "base_uri": "https://localhost:8080/"
    },
    "id": "YYpfGCr_B3f1",
    "outputId": "f38c8943-fcb0-4879-8e3b-dc3f12212a5c"
   },
   "outputs": [
    {
     "data": {
      "text/plain": [
       "48000"
      ]
     },
     "execution_count": 9,
     "metadata": {},
     "output_type": "execute_result"
    }
   ],
   "source": [
    "len(list(data_root.glob('*/*/*/*/*')))\n",
    "#There are 48000 images"
   ]
  },
  {
   "cell_type": "code",
   "execution_count": 5,
   "metadata": {
    "id": "uodb8eo02ap0"
   },
   "outputs": [],
   "source": [
    "data_gen=ImageDataGenerator(rescale=1./255.,validation_split=0.2)\n",
    "test_datagen=ImageDataGenerator(rescale=1./255.)\n",
    "#, rotation_range=[0,180],brightness_range=[0,1],shear_range=0.2,zoom_range=0.2,horizontal_flip=True,vertical_flip=True"
   ]
  },
  {
   "cell_type": "code",
   "execution_count": 6,
   "metadata": {
    "colab": {
     "base_uri": "https://localhost:8080/"
    },
    "id": "0PTEMuS93r_y",
    "outputId": "fc905a22-b7dc-402f-e86a-5a4f43f85f5f"
   },
   "outputs": [
    {
     "name": "stdout",
     "output_type": "stream",
     "text": [
      "(38400, 2)\n",
      "(9600, 2)\n"
     ]
    }
   ],
   "source": [
    "print(train_data.shape)\n",
    "print(test_data.shape)"
   ]
  },
  {
   "cell_type": "code",
   "execution_count": 7,
   "metadata": {
    "colab": {
     "base_uri": "https://localhost:8080/"
    },
    "id": "7IpL7ck647ya",
    "outputId": "b0d76423-7205-4ad9-abfa-29f3f0ee16af"
   },
   "outputs": [
    {
     "name": "stdout",
     "output_type": "stream",
     "text": [
      "Found 30720 validated image filenames belonging to 16 classes.\n"
     ]
    }
   ],
   "source": [
    "training_generator=data_gen.flow_from_dataframe(dataframe=train_data, \n",
    "                                               directory='data_final/',\n",
    "                                               x_col='path',\n",
    "                                               y_col='label',\n",
    "                                               subset=\"training\",\n",
    "                                               batch_size=128,seed=42,shuffle=True,class_mode=\"categorical\")"
   ]
  },
  {
   "cell_type": "code",
   "execution_count": 8,
   "metadata": {
    "colab": {
     "base_uri": "https://localhost:8080/"
    },
    "id": "0RnWtCczCFvr",
    "outputId": "12c77f9b-c7e7-4e4e-d9f0-91e73ce99e30"
   },
   "outputs": [
    {
     "name": "stdout",
     "output_type": "stream",
     "text": [
      "Found 7680 validated image filenames belonging to 16 classes.\n"
     ]
    }
   ],
   "source": [
    "\n",
    "cv_generator=data_gen.flow_from_dataframe(dataframe=train_data, \n",
    "                                               directory='data_final/',\n",
    "                                               x_col='path',\n",
    "                                               y_col='label',\n",
    "                                               subset=\"validation\",\n",
    "                                               batch_size=128,seed=42,shuffle=True,class_mode=\"categorical\")\n"
   ]
  },
  {
   "cell_type": "code",
   "execution_count": 9,
   "metadata": {
    "colab": {
     "base_uri": "https://localhost:8080/"
    },
    "id": "I1SRvADU5NT1",
    "outputId": "443a36db-9db1-4393-ab15-a58d45758915"
   },
   "outputs": [
    {
     "name": "stdout",
     "output_type": "stream",
     "text": [
      "Found 9600 validated image filenames belonging to 16 classes.\n"
     ]
    }
   ],
   "source": [
    "test_generator=test_datagen.flow_from_dataframe(dataframe=test_data, \n",
    "                                               directory='data_final/',\n",
    "                                               x_col='path',\n",
    "                                               y_col='label',\n",
    "                                               batch_size=1,class_mode='categorical')"
   ]
  },
  {
   "cell_type": "markdown",
   "metadata": {
    "id": "0zfhUhM6eO3t"
   },
   "source": [
    "\n",
    "\n",
    "3. Try not to load all the images into memory, use the gernarators that we have given the reference notebooks to load the batch of images only during the train data.\n",
    "or you can use this method also\n",
    "<a href='https://medium.com/@vijayabhaskar96/tutorial-on-keras-imagedatagenerator-with-flow-from-dataframe-8bd5776e45c1'>https://medium.com/@vijayabhaskar96/tutorial-on-keras-imagedatagenerator-with-flow-from-dataframe-8bd5776e45c1</a>\n",
    "\n",
    "<a href='https://medium.com/@vijayabhaskar96/tutorial-on-keras-flow-from-dataframe-1fd4493d237c'>https://medium.com/@vijayabhaskar96/tutorial-on-keras-flow-from-dataframe-1fd4493d237c</a>\n",
    "\n",
    "Note- In the reference notebook you were dealing with jpg images, in the given dataset you are dealing with tiff images. Imagedatagenrator works with both type of images. If you want to use custom data pipeline then you have to convert your tiff images to jpg images.\n",
    "\n",
    "4. You are free to choose Learning rate, optimizer, loss function, image augmentation, any hyperparameters. but you have to use the same architechture what we are asking below. \n",
    "\n",
    "5. Use tensorboard for every model and analyse your gradients. (you need to upload the screenshots for each model for evaluation)\n",
    "\n",
    "\n",
    "6. You can check about Transfer Learning in this link - <a href='https://blog.keras.io/building-powerful-image-classification-models-using-very-little-data.html'>https://blog.keras.io/building-powerful-image-classification-models-using-very-little-data.html</a>\n",
    "\n",
    "https://www.appliedaicourse.com/lecture/11/applied-machine-learning-online-course/3426/code-example-cats-vs-dogs/8/module-8-neural-networks-computer-vision-and-deep-learning </a>\n",
    "</pre>"
   ]
  },
  {
   "cell_type": "markdown",
   "metadata": {
    "id": "cvd-X2oueO-X"
   },
   "source": [
    "7. Do print model.summary() and draw model_plots for each of the model."
   ]
  },
  {
   "cell_type": "markdown",
   "metadata": {
    "id": "XZXpEZtJcAEu"
   },
   "source": [
    "### Model-1"
   ]
  },
  {
   "cell_type": "markdown",
   "metadata": {
    "id": "EF12MYu1cAEy"
   },
   "source": [
    "<pre>\n",
    "1. Use <a href='https://www.tensorflow.org/api_docs/python/tf/keras/applications/VGG16'>VGG-16</a> pretrained network without Fully Connected layers and initilize all the weights with Imagenet trained weights. \n",
    "2. After VGG-16 network without FC layers, add a new Conv block ( 1 Conv layer and 1 Maxpooling ), 2 FC layers and an output layer to classify 16 classes. You are free to choose any hyperparameters/parameters of conv block, FC layers, output layer. \n",
    "3. Final architecture will be <b>INPUT --> VGG-16 without Top layers(FC) --> Conv Layer --> Maxpool Layer --> 2 FC layers --> Output Layer</b>\n",
    "4.Print model.summary() and plot the architecture of the model. \n",
    "<a href='https://www.tensorflow.org/api_docs/python/tf/keras/utils/plot_model'>Reference for plotting model</a>\n",
    "5. Train only new Conv block, FC layers, output layer. Don't train the VGG-16 network. \n",
    "\n",
    "</pre>"
   ]
  },
  {
   "cell_type": "code",
   "execution_count": 10,
   "metadata": {
    "colab": {
     "base_uri": "https://localhost:8080/"
    },
    "id": "f-VkMyKNJN01",
    "outputId": "3749816f-a038-493e-d765-8016f708f052"
   },
   "outputs": [
    {
     "name": "stdout",
     "output_type": "stream",
     "text": [
      "Model: \"model\"\n",
      "_________________________________________________________________\n",
      " Layer (type)                Output Shape              Param #   \n",
      "=================================================================\n",
      " input_2 (InputLayer)        [(None, 256, 256, 3)]     0         \n",
      "                                                                 \n",
      " vgg16 (Functional)          (None, 8, 8, 512)         14714688  \n",
      "                                                                 \n",
      " conv2d (Conv2D)             (None, 6, 6, 32)          147488    \n",
      "                                                                 \n",
      " max_pooling2d (MaxPooling2D  (None, 3, 3, 32)         0         \n",
      " )                                                               \n",
      "                                                                 \n",
      " dense (Dense)               (None, 3, 3, 40)          1320      \n",
      "                                                                 \n",
      " dense_1 (Dense)             (None, 3, 3, 20)          820       \n",
      "                                                                 \n",
      " flatten (Flatten)           (None, 180)               0         \n",
      "                                                                 \n",
      " dense_2 (Dense)             (None, 16)                2896      \n",
      "                                                                 \n",
      "=================================================================\n",
      "Total params: 14,867,212\n",
      "Trainable params: 152,524\n",
      "Non-trainable params: 14,714,688\n",
      "_________________________________________________________________\n"
     ]
    }
   ],
   "source": [
    "base_model=VGG16(weights=\"imagenet\", include_top=False, input_shape=(256,256,3))\n",
    "base_model.trainable=False\n",
    "\n",
    "#creating a input layer\n",
    "Input=tf.keras.Input(shape=(256,256,3))#i[0].shape\n",
    "Input1=base_model(Input)\n",
    "Input1=tf.keras.layers.Conv2D(32,(3,3),(1,1),activation='relu',kernel_initializer=tf.keras.initializers.HeNormal(14))(Input1)\n",
    "Input1=tf.keras.layers.MaxPool2D()(Input1)\n",
    "Input1=tf.keras.layers.Dense(40,activation='relu',kernel_initializer=tf.keras.initializers.HeNormal(1))(Input1)\n",
    "Input1=tf.keras.layers.Dense(20,activation='relu',kernel_initializer=tf.keras.initializers.HeNormal(1))(Input1)\n",
    "Input1=tf.keras.layers.Flatten()(Input1)\n",
    "output=tf.keras.layers.Dense(16,activation='softmax')(Input1)\n",
    "\n",
    "model=tf.keras.Model(inputs=Input,outputs=output)\n",
    "\n",
    "model.summary()"
   ]
  },
  {
   "cell_type": "code",
   "execution_count": 11,
   "metadata": {},
   "outputs": [],
   "source": [
    "model.load_weights('models/best_model_1.h5')"
   ]
  },
  {
   "cell_type": "code",
   "execution_count": 50,
   "metadata": {
    "colab": {
     "base_uri": "https://localhost:8080/"
    },
    "id": "jaXW3VFphv_v",
    "outputId": "fcb5c0b6-2fff-4ad8-94ae-39c31dbf9390"
   },
   "outputs": [
    {
     "name": "stdout",
     "output_type": "stream",
     "text": [
      "Epoch 1/50\n",
      "240/240 [==============================] - 380s 2s/step - loss: 1.7021 - accuracy: 0.4788 - val_loss: 1.3519 - val_accuracy: 0.5826\n",
      "Epoch 2/50\n",
      "240/240 [==============================] - 383s 2s/step - loss: 1.2071 - accuracy: 0.6325 - val_loss: 1.1606 - val_accuracy: 0.6475\n",
      "Epoch 3/50\n",
      "240/240 [==============================] - 399s 2s/step - loss: 1.0522 - accuracy: 0.6843 - val_loss: 1.0992 - val_accuracy: 0.6678\n",
      "Epoch 4/50\n",
      "240/240 [==============================] - 394s 2s/step - loss: 0.9511 - accuracy: 0.7133 - val_loss: 1.0674 - val_accuracy: 0.6812\n",
      "Epoch 5/50\n",
      "240/240 [==============================] - 379s 2s/step - loss: 0.8810 - accuracy: 0.7326 - val_loss: 1.0877 - val_accuracy: 0.6796\n",
      "Epoch 6/50\n",
      "240/240 [==============================] - 373s 2s/step - loss: 0.8221 - accuracy: 0.7533 - val_loss: 1.0323 - val_accuracy: 0.6939\n",
      "Epoch 7/50\n",
      "240/240 [==============================] - 379s 2s/step - loss: 0.7615 - accuracy: 0.7692 - val_loss: 1.0490 - val_accuracy: 0.6878\n",
      "Epoch 8/50\n",
      "240/240 [==============================] - 376s 2s/step - loss: 0.7143 - accuracy: 0.7825 - val_loss: 1.0722 - val_accuracy: 0.6855\n"
     ]
    },
    {
     "data": {
      "text/plain": [
       "<keras.callbacks.History at 0x7f7cce347040>"
      ]
     },
     "execution_count": 50,
     "metadata": {},
     "output_type": "execute_result"
    }
   ],
   "source": [
    "model.compile(optimizer=tf.keras.optimizers.Adam(), loss='categorical_crossentropy', metrics=['accuracy'])\n",
    "\n",
    "early_stopping=tf.keras.callbacks.EarlyStopping(patience=2,monitor='val_accuracy',min_delta=0.001)\n",
    "\n",
    "logs='logs/model_1'\n",
    "check_point_folder='models/best_model_1.h5'\n",
    "\n",
    "check_point= tf.keras.callbacks.ModelCheckpoint(check_point_folder,monitor='val_loss',save_weights_only=True)\n",
    "\n",
    "\n",
    "tensorboard=tf.keras.callbacks.TensorBoard(log_dir=logs)\n",
    "\n",
    "model.fit(training_generator,epochs=50, validation_data=cv_generator, callbacks=[early_stopping,tensorboard,check_point], verbose=1)"
   ]
  },
  {
   "cell_type": "code",
   "execution_count": 51,
   "metadata": {
    "id": "kYiqFoFxaM4e"
   },
   "outputs": [
    {
     "name": "stdout",
     "output_type": "stream",
     "text": [
      "9600/9600 [==============================] - 444s 46ms/step - loss: 1.0456 - accuracy: 0.6938\n"
     ]
    },
    {
     "data": {
      "text/plain": [
       "[1.045638918876648, 0.6937500238418579]"
      ]
     },
     "execution_count": 51,
     "metadata": {},
     "output_type": "execute_result"
    }
   ],
   "source": [
    "model.evaluate(test_generator)"
   ]
  },
  {
   "cell_type": "code",
   "execution_count": 14,
   "metadata": {},
   "outputs": [
    {
     "data": {
      "image/png": "[encoded data removed]",
      "text/plain": [
       "<IPython.core.display.Image object>"
      ]
     },
     "execution_count": 14,
     "metadata": {},
     "output_type": "execute_result"
    }
   ],
   "source": [
    "tf.keras.utils.plot_model(model,to_file='model_1.png',show_shapes=True,\n",
    "    show_layer_activations=True)"
   ]
  },
  {
   "cell_type": "markdown",
   "metadata": {
    "id": "De0UlsaOcAE1"
   },
   "source": [
    "### Model-2"
   ]
  },
  {
   "cell_type": "markdown",
   "metadata": {
    "id": "CNXN3EXFcAE5"
   },
   "source": [
    "<pre>\n",
    "1. Use <a href='https://www.tensorflow.org/api_docs/python/tf/keras/applications/VGG16'>VGG-16</a> pretrained network without Fully Connected layers and initilize all the weights with Imagenet trained weights.\n",
    "2. After VGG-16 network without FC layers, don't use FC layers, use conv layers only as Fully connected layer.Any FC \n",
    "layer can be converted to a CONV layer. This conversion will reduce the No of Trainable parameters in FC layers. \n",
    "For example, an FC layer with K=4096 that is looking at some input volume of size 7×7×512 can be equivalently expressed as a CONV layer with F=7,P=0,S=1,K=4096. \n",
    "In other words, we are setting the filter size to be exactly the size of the input volume, and hence the output will\n",
    "simply be 1×1×4096 since only a single depth column “fits” across the input volume, giving identical result as the \n",
    "initial FC layer. You can refer <a href='http://cs231n.github.io/convolutional-networks/#convert'>this</a> link to better understanding of using Conv layer in place of fully connected layers.\n",
    "3. Final architecture will be VGG-16 without FC layers(without top), 2 Conv layers identical to FC layers, 1 output layer for 16 class classification. <b>INPUT --> VGG-16 without Top layers(FC) --> 2 Conv Layers identical to FC -->Output Layer</b>\n",
    "4. 4.Print model.summary() and plot the architecture of the model. \n",
    "<a href='https://www.tensorflow.org/api_docs/python/tf/keras/utils/plot_model'>Reference for plotting model</a>\n",
    "5. Train only last 2 Conv layers identical to FC layers, 1 output layer. Don't train the VGG-16 network. \n",
    "</pre>"
   ]
  },
  {
   "cell_type": "code",
   "execution_count": 15,
   "metadata": {
    "colab": {
     "base_uri": "https://localhost:8080/"
    },
    "id": "4k_aznNwJN02",
    "outputId": "fbbe478c-aa96-43c4-93e0-a77df7f5ef2d"
   },
   "outputs": [
    {
     "name": "stdout",
     "output_type": "stream",
     "text": [
      "Model: \"model_1\"\n",
      "_________________________________________________________________\n",
      " Layer (type)                Output Shape              Param #   \n",
      "=================================================================\n",
      " input_4 (InputLayer)        [(None, 256, 256, 3)]     0         \n",
      "                                                                 \n",
      " vgg16 (Functional)          (None, 8, 8, 512)         14714688  \n",
      "                                                                 \n",
      " conv2d_1 (Conv2D)           (None, 1, 1, 512)         16777728  \n",
      "                                                                 \n",
      " conv2d_2 (Conv2D)           (None, 1, 1, 512)         262656    \n",
      "                                                                 \n",
      " flatten_1 (Flatten)         (None, 512)               0         \n",
      "                                                                 \n",
      " dense_3 (Dense)             (None, 16)                8208      \n",
      "                                                                 \n",
      "=================================================================\n",
      "Total params: 31,763,280\n",
      "Trainable params: 17,048,592\n",
      "Non-trainable params: 14,714,688\n",
      "_________________________________________________________________\n"
     ]
    }
   ],
   "source": [
    "base_model=VGG16(weights=\"imagenet\", include_top=False, input_shape=(256,256,3))\n",
    "base_model.trainable=False\n",
    "\n",
    "#8, 8, 512\n",
    "#creating a input layer\n",
    "Input=tf.keras.Input(shape=(256,256,3))\n",
    "Input1=base_model(Input)\n",
    "Input1=tf.keras.layers.Conv2D(512,(8, 8),(1,1),activation='relu',kernel_initializer=tf.keras.initializers.HeNormal(14))(Input1)\n",
    "Input1=tf.keras.layers.Conv2D(512,(1,1),(1,1),activation='relu',kernel_initializer=tf.keras.initializers.HeNormal(14))(Input1)\n",
    "Input1=tf.keras.layers.Flatten()(Input1)\n",
    "output=tf.keras.layers.Dense(16,activation='softmax')(Input1)\n",
    "\n",
    "model_2=tf.keras.Model(inputs=Input,outputs=output)\n",
    "\n",
    "model_2.summary()"
   ]
  },
  {
   "cell_type": "code",
   "execution_count": 42,
   "metadata": {
    "id": "OS6xmcG3JN03"
   },
   "outputs": [
    {
     "name": "stdout",
     "output_type": "stream",
     "text": [
      "Epoch 1/50\n",
      "240/240 [==============================] - 550s 2s/step - loss: 1.5048 - accuracy: 0.5859 - val_loss: 1.0814 - val_accuracy: 0.6721\n",
      "Epoch 2/50\n",
      "240/240 [==============================] - 382s 2s/step - loss: 0.8615 - accuracy: 0.7365 - val_loss: 0.8898 - val_accuracy: 0.7327\n",
      "Epoch 3/50\n",
      "240/240 [==============================] - 385s 2s/step - loss: 0.6840 - accuracy: 0.7879 - val_loss: 0.9397 - val_accuracy: 0.7250\n"
     ]
    },
    {
     "data": {
      "text/plain": [
       "<keras.callbacks.History at 0x7f7ccc338640>"
      ]
     },
     "execution_count": 42,
     "metadata": {},
     "output_type": "execute_result"
    }
   ],
   "source": [
    "model_2.compile(optimizer=tf.keras.optimizers.Adam(), loss='categorical_crossentropy', metrics=['accuracy'])\n",
    "\n",
    "early_stopping=tf.keras.callbacks.EarlyStopping(patience=1,monitor='val_accuracy',min_delta=0.001)\n",
    "\n",
    "logs='logs/model_2'\n",
    "check_point_folder='models/best_model_2.h5'\n",
    "\n",
    "check_point= tf.keras.callbacks.ModelCheckpoint(check_point_folder,monitor='val_loss',save_weights_only=True)\n",
    "\n",
    "\n",
    "tensorboard=tf.keras.callbacks.TensorBoard(log_dir=logs)\n",
    "\n",
    "model_2.fit(training_generator,epochs=50, validation_data=cv_generator, callbacks=[early_stopping,tensorboard,check_point], verbose=1)"
   ]
  },
  {
   "cell_type": "code",
   "execution_count": 52,
   "metadata": {},
   "outputs": [
    {
     "name": "stdout",
     "output_type": "stream",
     "text": [
      "9600/9600 [==============================] - 539s 56ms/step - loss: 0.9286 - accuracy: 0.7274\n"
     ]
    },
    {
     "data": {
      "text/plain": [
       "[0.9286423921585083, 0.7273958325386047]"
      ]
     },
     "execution_count": 52,
     "metadata": {},
     "output_type": "execute_result"
    }
   ],
   "source": [
    "model_2.evaluate(test_generator)"
   ]
  },
  {
   "cell_type": "code",
   "execution_count": 16,
   "metadata": {},
   "outputs": [],
   "source": [
    "model_2.load_weights('models/best_model_2.h5')"
   ]
  },
  {
   "cell_type": "code",
   "execution_count": 17,
   "metadata": {},
   "outputs": [
    {
     "data": {
      "image/png": "[encoded data removed]",
      "text/plain": [
       "<IPython.core.display.Image object>"
      ]
     },
     "execution_count": 17,
     "metadata": {},
     "output_type": "execute_result"
    }
   ],
   "source": [
    "tf.keras.utils.plot_model(model_2,to_file='model_2.png',show_shapes=True,\n",
    "    show_layer_activations=True)"
   ]
  },
  {
   "cell_type": "markdown",
   "metadata": {
    "id": "amKbfojfcAE-"
   },
   "source": [
    "### Model-3"
   ]
  },
  {
   "cell_type": "markdown",
   "metadata": {
    "id": "N9AULF-PcAFC"
   },
   "source": [
    "<pre>\n",
    "1. Use same network as Model-2 '<b>INPUT --> VGG-16 without Top layers(FC) --> 2 Conv Layers identical to FC --> Output Layer</b>' and train only Last 6 Layers of VGG-16 network, 2 Conv layers identical to FC layers, 1 output layer.\n",
    "</pre>"
   ]
  },
  {
   "cell_type": "code",
   "execution_count": 19,
   "metadata": {
    "colab": {
     "base_uri": "https://localhost:8080/"
    },
    "id": "_f2z7YhsDJwV",
    "outputId": "6070c4a8-8d13-49a3-91b4-c4024367c66d"
   },
   "outputs": [
    {
     "name": "stdout",
     "output_type": "stream",
     "text": [
      "0 input_10 False\n",
      "1 block1_conv1 False\n",
      "2 block1_conv2 False\n",
      "3 block1_pool False\n",
      "4 block2_conv1 False\n",
      "5 block2_conv2 False\n",
      "6 block2_pool False\n",
      "7 block3_conv1 False\n",
      "8 block3_conv2 False\n",
      "9 block3_conv3 False\n",
      "10 block3_pool False\n",
      "11 block4_conv1 False\n",
      "12 block4_conv2 False\n",
      "13 block4_conv3 True\n",
      "14 block4_pool True\n",
      "15 block5_conv1 True\n",
      "16 block5_conv2 True\n",
      "17 block5_conv3 True\n",
      "18 block5_pool True\n"
     ]
    }
   ],
   "source": [
    "base_model=VGG16(weights=\"imagenet\", include_top=False, input_shape=(256,256,3))\n",
    "for layers in base_model.layers[:-6]:\n",
    "    layers.trainable=False\n",
    "\n",
    "for i, layer  in enumerate(base_model.layers):\n",
    "    print(i, layer.name, layer.trainable)"
   ]
  },
  {
   "cell_type": "code",
   "execution_count": 20,
   "metadata": {
    "colab": {
     "base_uri": "https://localhost:8080/"
    },
    "id": "CzEgJKHDFPhq",
    "outputId": "8bd2da81-7ad5-4983-869d-9320e37ccc5b"
   },
   "outputs": [
    {
     "name": "stdout",
     "output_type": "stream",
     "text": [
      "Model: \"model_5\"\n",
      "_________________________________________________________________\n",
      " Layer (type)                Output Shape              Param #   \n",
      "=================================================================\n",
      " input_12 (InputLayer)       [(None, 256, 256, 3)]     0         \n",
      "                                                                 \n",
      " vgg16 (Functional)          (None, 8, 8, 512)         14714688  \n",
      "                                                                 \n",
      " conv2d_10 (Conv2D)          (None, 1, 1, 512)         16777728  \n",
      "                                                                 \n",
      " conv2d_11 (Conv2D)          (None, 1, 1, 512)         262656    \n",
      "                                                                 \n",
      " flatten_5 (Flatten)         (None, 512)               0         \n",
      "                                                                 \n",
      " dense_5 (Dense)             (None, 16)                8208      \n",
      "                                                                 \n",
      "=================================================================\n",
      "Total params: 31,763,280\n",
      "Trainable params: 26,487,824\n",
      "Non-trainable params: 5,275,456\n",
      "_________________________________________________________________\n"
     ]
    }
   ],
   "source": [
    "base_model=VGG16(weights=\"imagenet\", include_top=False, input_shape=(256,256,3))\n",
    "for layers in base_model.layers[:-6]:\n",
    "    layers.trainable=False\n",
    "\n",
    "Input=tf.keras.Input(shape=(256,256,3))\n",
    "Input1=base_model(Input)\n",
    "Input1=tf.keras.layers.Conv2D(512,(8, 8),(1,1),activation='relu',kernel_initializer=tf.keras.initializers.HeNormal(14))(Input1)\n",
    "Input1=tf.keras.layers.Conv2D(512,(1,1),(1,1),activation='relu',kernel_initializer=tf.keras.initializers.HeNormal(14))(Input1)\n",
    "Input1=tf.keras.layers.Flatten()(Input1)\n",
    "output=tf.keras.layers.Dense(16,activation='softmax')(Input1)\n",
    "\n",
    "model_3=tf.keras.Model(inputs=Input,outputs=output)\n",
    "\n",
    "model_3.summary()"
   ]
  },
  {
   "cell_type": "code",
   "execution_count": 21,
   "metadata": {
    "id": "iDZY60cQJN03"
   },
   "outputs": [
    {
     "name": "stdout",
     "output_type": "stream",
     "text": [
      "Epoch 1/50\n",
      "240/240 [==============================] - 458s 2s/step - loss: 1.6606 - accuracy: 0.4799 - val_loss: 1.2203 - val_accuracy: 0.6271\n",
      "Epoch 2/50\n",
      "240/240 [==============================] - 443s 2s/step - loss: 1.0078 - accuracy: 0.6881 - val_loss: 0.9284 - val_accuracy: 0.7177\n",
      "Epoch 3/50\n",
      "240/240 [==============================] - 511s 2s/step - loss: 0.7856 - accuracy: 0.7577 - val_loss: 0.8435 - val_accuracy: 0.7458\n",
      "Epoch 4/50\n",
      "240/240 [==============================] - 442s 2s/step - loss: 0.6564 - accuracy: 0.7974 - val_loss: 0.8105 - val_accuracy: 0.7540\n",
      "Epoch 5/50\n",
      "240/240 [==============================] - 440s 2s/step - loss: 0.5374 - accuracy: 0.8326 - val_loss: 0.8300 - val_accuracy: 0.7595\n",
      "Epoch 6/50\n",
      "240/240 [==============================] - 503s 2s/step - loss: 0.4246 - accuracy: 0.8668 - val_loss: 0.8539 - val_accuracy: 0.7648\n",
      "Epoch 7/50\n",
      "240/240 [==============================] - 450s 2s/step - loss: 0.3420 - accuracy: 0.8886 - val_loss: 0.9059 - val_accuracy: 0.7711\n"
     ]
    },
    {
     "data": {
      "text/plain": [
       "<keras.callbacks.History at 0x7facbce22eb0>"
      ]
     },
     "execution_count": 21,
     "metadata": {},
     "output_type": "execute_result"
    }
   ],
   "source": [
    "model_3.compile(optimizer=tf.keras.optimizers.Adam(0.0004), loss='categorical_crossentropy', metrics=['accuracy'])\n",
    "\n",
    "early_stopping=tf.keras.callbacks.EarlyStopping(patience=3,monitor='val_loss',min_delta=0.001)\n",
    "\n",
    "logs='logs/model_3'\n",
    "check_point_folder='models/best_model_3.h5'\n",
    "\n",
    "check_point= tf.keras.callbacks.ModelCheckpoint(check_point_folder,monitor='val_loss',save_weights_only=True)\n",
    "\n",
    "#https://www.tensorflow.org/api_docs/python/tf/keras/optimizers/schedules/ExponentialDecay\n",
    "tensorboard=tf.keras.callbacks.TensorBoard(log_dir=logs)\n",
    "\n",
    "model_3.fit(training_generator,epochs=50, validation_data=cv_generator, callbacks=[early_stopping,tensorboard,check_point], verbose=1)"
   ]
  },
  {
   "cell_type": "code",
   "execution_count": 22,
   "metadata": {
    "id": "JnYDYGJ5JN04"
   },
   "outputs": [
    {
     "name": "stdout",
     "output_type": "stream",
     "text": [
      "9600/9600 [==============================] - 547s 57ms/step - loss: 0.8765 - accuracy: 0.7743\n"
     ]
    },
    {
     "data": {
      "text/plain": [
       "[0.8765419721603394, 0.7742708325386047]"
      ]
     },
     "execution_count": 22,
     "metadata": {},
     "output_type": "execute_result"
    }
   ],
   "source": [
    "model_3.evaluate(test_generator)"
   ]
  },
  {
   "cell_type": "code",
   "execution_count": 23,
   "metadata": {},
   "outputs": [
    {
     "data": {
      "image/png": "[encoded data removed]",
      "text/plain": [
       "<IPython.core.display.Image object>"
      ]
     },
     "execution_count": 23,
     "metadata": {},
     "output_type": "execute_result"
    }
   ],
   "source": [
    "tf.keras.utils.plot_model(model_3,to_file='model_3.png',show_shapes=True,\n",
    "    show_layer_activations=True)"
   ]
  },
  {
   "cell_type": "markdown",
   "metadata": {
    "id": "WdVaubEtJN04"
   },
   "source": [
    "### Please write your observations or a brief summary of the results that you get after performing transfer learning with reference to model1, model2 and model3"
   ]
  },
  {
   "cell_type": "code",
   "execution_count": null,
   "metadata": {},
   "outputs": [],
   "source": []
  },
  {
   "cell_type": "markdown",
   "metadata": {
    "id": "qjPO1LuVYjZA"
   },
   "source": [
    "\n"
   ]
  },
  {
   "cell_type": "code",
   "execution_count": null,
   "metadata": {
    "id": "QHvNnLNDJN05"
   },
   "outputs": [],
   "source": []
  },
  {
   "cell_type": "code",
   "execution_count": null,
   "metadata": {
    "id": "E-KWaVm_JN05"
   },
   "outputs": [],
   "source": []
  }
 ],
 "metadata": {
  "colab": {
   "provenance": []
  },
  "gpuClass": "standard",
  "kernelspec": {
   "display_name": "Python 3",
   "language": "python",
   "name": "python3"
  },
  "language_info": {
   "codemirror_mode": {
    "name": "ipython",
    "version": 3
   },
   "file_extension": ".py",
   "mimetype": "text/x-python",
   "name": "python",
   "nbconvert_exporter": "python",
   "pygments_lexer": "ipython3",
   "version": "3.6.5"
  }
 },
 "nbformat": 4,
 "nbformat_minor": 1
}
