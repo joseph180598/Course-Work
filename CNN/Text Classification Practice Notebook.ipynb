{
 "cells": [
  {
   "cell_type": "markdown",
   "metadata": {
    "colab_type": "text",
    "id": "mDMgSstPYv0P"
   },
   "source": [
    "# Text Classification:\n",
    "\n",
    "## Data\n",
    "<pre>\n",
    "1. we have total of 20 types of documents(Text files) and total 18828 documents(text files).\n",
    "2. You can download data from this <a href='https://drive.google.com/open?id=1rxD15nyeIPIAZ-J2VYPrDRZI66-TBWvM'>link</a>, in that you will get documents.rar folder. <br>If you unzip that, you will get total of 18828 documnets. document name is defined as'ClassLabel_DocumentNumberInThatLabel'. \n",
    "so from document name, you can extract the label for that document.\n",
    "4. Now our problem is to classify all the documents into any one of the class.\n",
    "5. Below we provided count plot of all the labels in our data. \n",
    "</pre>"
   ]
  },
  {
   "cell_type": "code",
   "execution_count": 1,
   "metadata": {
    "colab": {},
    "colab_type": "code",
    "id": "64U9NzWFYv0V",
    "outputId": "f3f19ed2-f637-4a8c-cff7-40a603025e96"
   },
   "outputs": [],
   "source": [
    "### count plot of all the class labels. \n",
    "import re"
   ]
  },
  {
   "cell_type": "markdown",
   "metadata": {
    "colab_type": "text",
    "id": "2mK4TJOFYv0h"
   },
   "source": [
    "## Assignment:"
   ]
  },
  {
   "cell_type": "markdown",
   "metadata": {
    "colab_type": "text",
    "id": "VlqYFVI3Yv0k"
   },
   "source": [
    "#### sample document\n",
    "<pre>\n",
    "<font color='blue'>\n",
    "Subject: A word of advice\n",
    "From: jcopelan@nyx.cs.du.edu (The One and Only)\n",
    "\n",
    "In article < 65882@mimsy.umd.edu > mangoe@cs.umd.edu (Charley Wingate) writes:\n",
    ">\n",
    ">I've said 100 times that there is no \"alternative\" that should think you\n",
    ">might have caught on by now.  And there is no \"alternative\", but the point\n",
    ">is, \"rationality\" isn't an alternative either.  The problems of metaphysical\n",
    ">and religious knowledge are unsolvable-- or I should say, humans cannot\n",
    ">solve them.\n",
    "\n",
    "How does that saying go: Those who say it can't be done shouldn't interrupt\n",
    "those who are doing it.\n",
    "\n",
    "Jim\n",
    "--\n",
    "Have you washed your brain today?\n",
    "</font>\n",
    "</pre>"
   ]
  },
  {
   "cell_type": "markdown",
   "metadata": {
    "colab_type": "text",
    "id": "KAR5HoR1Yv0m"
   },
   "source": [
    "### Preprocessing:\n",
    "<pre>\n",
    "useful links: <a href='http://www.pyregex.com/'>http://www.pyregex.com/</a>\n",
    "\n",
    "<font color='blue'><b>1.</b></font> Find all emails in the document and then get the text after the \"@\". and then split those texts by '.' \n",
    "after that remove the words whose length is less than or equal to 2 and also remove'com' word and then combine those words by space. \n",
    "In one doc, if we have 2 or more mails, get all.\n",
    "<b>Eg:[test@dm1.d.com, test2@dm2.dm3.com]-->[dm1.d.com, dm3.dm4.com]-->[dm1,d,com,dm2,dm3,com]-->[dm1,dm2,dm3]-->\"dm1 dm2 dm3\" </b> \n",
    "append all those into one list/array. ( This will give length of 18828 sentences i.e one list for each of the document). \n",
    "Some sample output was shown below. \n",
    "\n",
    "> In the above sample document there are emails [jcopelan@nyx.cs.du.edu, 65882@mimsy.umd.edu, mangoe@cs.umd.edu]\n",
    "\n",
    "preprocessing:\n",
    "[jcopelan@nyx.cs.du.edu, 65882@mimsy.umd.edu, mangoe@cs.umd.edu] ==> [nyx cs du edu mimsy umd edu cs umd edu] ==> \n",
    "[nyx edu mimsy umd edu umd edu]\n",
    "\n",
    "<font color='blue'><b>2.</b></font> Replace all the emails by space in the original text. \n",
    "</pre>"
   ]
  },
  {
   "cell_type": "code",
   "execution_count": 2,
   "metadata": {
    "colab": {},
    "colab_type": "code",
    "id": "KavKDD9FYv0p",
    "outputId": "0b87ab7b-46df-4995-eaca-4f5831ad223e"
   },
   "outputs": [
    {
     "ename": "NameError",
     "evalue": "name 'preprocessed_email' is not defined",
     "output_type": "error",
     "traceback": [
      "\u001b[1;31m---------------------------------------------------------------------------\u001b[0m",
      "\u001b[1;31mNameError\u001b[0m                                 Traceback (most recent call last)",
      "\u001b[1;32m<ipython-input-2-faecd4605953>\u001b[0m in \u001b[0;36m<module>\u001b[1;34m()\u001b[0m\n\u001b[0;32m      1\u001b[0m \u001b[1;31m# we have collected all emails and preprocessed them, this is sample output\u001b[0m\u001b[1;33m\u001b[0m\u001b[1;33m\u001b[0m\u001b[0m\n\u001b[1;32m----> 2\u001b[1;33m \u001b[0mpreprocessed_email\u001b[0m\u001b[1;33m\u001b[0m\u001b[0m\n\u001b[0m",
      "\u001b[1;31mNameError\u001b[0m: name 'preprocessed_email' is not defined"
     ]
    }
   ],
   "source": [
    "# we have collected all emails and preprocessed them, this is sample output\n",
    "preprocessed_email"
   ]
  },
  {
   "cell_type": "code",
   "execution_count": 0,
   "metadata": {
    "colab": {},
    "colab_type": "code",
    "id": "obReqs55Yv0v",
    "outputId": "10770414-9be0-4d63-9587-5363a8c10c4d"
   },
   "outputs": [
    {
     "data": {
      "text/plain": [
       "18828"
      ]
     },
     "execution_count": 29,
     "metadata": {
      "tags": []
     },
     "output_type": "execute_result"
    }
   ],
   "source": [
    "len(preprocessed_email)"
   ]
  },
  {
   "cell_type": "markdown",
   "metadata": {
    "colab_type": "text",
    "id": "zIovFDQzYv03"
   },
   "source": [
    "<pre>\n",
    "<font color='blue'><b>3.</b></font> Get subject of the text i.e. get the total lines where \"Subject:\" occur and remove \n",
    "the word which are before the \":\" remove the newlines, tabs, punctuations, any special chars.\n",
    "<b>Eg: if we have sentance like \"Subject: Re: Gospel Dating @ \\r\\r\\n\" --> You have to get \"Gospel Dating\"</b> \n",
    "Save all this data into another list/array. \n",
    "\n",
    "<font color='blue'><b>4.</b></font> After you store it in the list, Replace those sentances in original text by space.\n",
    "\n",
    "<font color='blue'><b>5.</b></font> Delete all the sentances where sentence starts with <b>\"Write to:\"</b> or <b>\"From:\"</b>.\n",
    "> In the above sample document check the 2nd line, we should remove that\n",
    "\n",
    "<font color='blue'><b>6.</b></font> Delete all the tags like \"< anyword >\"\n",
    "> In the above sample document check the 4nd line, we should remove that \"< 65882@mimsy.umd.edu >\"\n",
    "\n",
    "\n",
    "<font color='blue'><b>7.</b></font> Delete all the data which are present in the brackets. \n",
    "In many text data, we observed that, they maintained the explanation of sentence \n",
    "or translation of sentence to another language in brackets so remove all those.\n",
    "<b>Eg: \"AAIC-The course that gets you HIRED(AAIC - Der Kurs, der Sie anstellt)\" --> \"AAIC-The course that gets you HIRED\"</b>\n",
    "\n",
    "> In the above sample document check the 4nd line, we should remove that \"(Charley Wingate)\"\n",
    "\n",
    "\n",
    "<font color='blue'><b>8.</b></font> Remove all the newlines('\\n'), tabs('\\t'), \"-\", \"\\\".\n",
    "\n",
    "<font color='blue'><b>9.</b></font> Remove all the words which ends with <b>\":\"</b>.\n",
    "<b>Eg: \"Anyword:\"</b>\n",
    "> In the above sample document check the 4nd line, we should remove that \"writes:\"\n",
    "\n",
    "\n",
    "<font color='blue'><b>10.</b></font> Decontractions, replace words like below to full words. \n",
    "please check the donors choose preprocessing for this \n",
    "<b>Eg: can't -> can not, 's -> is, i've -> i have, i'm -> i am, you're -> you are, i'll --> i will </b>\n",
    "\n",
    "<b> There is no order to do point 6 to 10. but you have to get final output correctly</b>\n",
    "\n",
    "<font color='blue'><b>11.</b></font> Do chunking on the text you have after above preprocessing. \n",
    "Text chunking, also referred to as shallow parsing, is a task that \n",
    "follows Part-Of-Speech Tagging and that adds more structure to the sentence.\n",
    "So it combines the some phrases, named entities into single word.\n",
    "So after that combine all those phrases/named entities by separating <b>\"_\"</b>. \n",
    "And remove the phrases/named entities if that is a \"Person\". \n",
    "You can use <b>nltk.ne_chunk</b> to get these. \n",
    "Below we have given one example. please go through it. \n",
    "\n",
    "useful links: \n",
    "<a href='https://www.nltk.org/book/ch07.html'>https://www.nltk.org/book/ch07.html</a>\n",
    "<a href='https://stackoverflow.com/a/31837224/4084039'>https://stackoverflow.com/a/31837224/4084039</a>\n",
    "<a href='http://www.nltk.org/howto/tree.html'>http://www.nltk.org/howto/tree.html</a>\n",
    "<a href='https://stackoverflow.com/a/44294377/4084039'>https://stackoverflow.com/a/44294377/4084039</a>\n",
    "</pre>"
   ]
  },
  {
   "cell_type": "code",
   "execution_count": 3,
   "metadata": {
    "colab": {},
    "colab_type": "code",
    "id": "2lAaKQ6EYv04",
    "outputId": "53b66a94-acef-4002-e51c-002bde4178b4"
   },
   "outputs": [
    {
     "name": "stdout",
     "output_type": "stream",
     "text": [
      "i am living in the New York --> [('i', 'NN'), ('am', 'VBP'), ('living', 'VBG'), ('in', 'IN'), ('the', 'DT'), Tree('GPE', [('New', 'NNP'), ('York', 'NNP')])]\n",
      " \n",
      "--------------------------------------------------\n",
      " \n",
      "My name is Srikanth Varma --> [('My', 'PRP$'), ('name', 'NN'), ('is', 'VBZ'), Tree('PERSON', [('Srikanth', 'NNP'), ('Varma', 'NNP')]), ('and', 'CC'), ('his', 'PRP$'), ('name', 'NN'), ('is', 'VBZ'), Tree('PERSON', [('Joseph', 'NNP')])]\n",
      "[[('Srikanth', 'NNP'), ('Varma', 'NNP')], [('Joseph', 'NNP')]]\n"
     ]
    }
   ],
   "source": [
    "#i am living in the New York\n",
    "import nltk\n",
    "from nltk.chunk import *\n",
    "sent1='i am living in the New York'\n",
    "tokens=nltk.word_tokenize(sent1)\n",
    "pos=nltk.pos_tag(tokens)\n",
    "chunks=ne_chunk(pos, binary=False)\n",
    "print(\"i am living in the New York -->\", list(chunks))\n",
    "print(\" \")\n",
    "print(\"-\"*50)\n",
    "print(\" \")\n",
    "#My name is Srikanth Varma\n",
    "\n",
    "sent1='My name is Srikanth Varma and his name is Joseph'\n",
    "tokens=nltk.word_tokenize(sent1)\n",
    "pos=nltk.pos_tag(tokens)\n",
    "chunks=ne_chunk(pos, binary=False)\n",
    "print(\"My name is Srikanth Varma -->\", list(chunks))\n",
    "\n",
    "named_entities=[]\n",
    "for t in chunks.subtrees():\n",
    "    if t.label() == 'PERSON':\n",
    "        named_entities.append(list(t))\n",
    "        \n",
    "print(named_entities)\n",
    "\n"
   ]
  },
  {
   "cell_type": "code",
   "execution_count": 43,
   "metadata": {},
   "outputs": [
    {
     "name": "stdout",
     "output_type": "stream",
     "text": [
      "i am living in the New_York\n"
     ]
    }
   ],
   "source": [
    "#Code to do chunking\n",
    "sent1='My name is Srikanth Varma and his name is Joseph'\n",
    "tokens=nltk.word_tokenize(sent1)\n",
    "pos=nltk.pos_tag(tokens)\n",
    "chunks=ne_chunk(pos, binary=False)\n",
    "\n",
    "named_entities=[]\n",
    "\n",
    "for t in chunks.subtrees():\n",
    "    if t.label() == 'PERSON':\n",
    "        named_entities.append(list(t))\n",
    "        \n",
    "for entity in named_entities:\n",
    "    word=[entity[x][0] for x in range(len(entity))]\n",
    "    pattern=str(' '.join(word))\n",
    "    sent1=re.sub(pattern,'',sent1)\n",
    "    \n",
    "sent1='i am living in the New York'\n",
    "tokens=nltk.word_tokenize(sent1)\n",
    "pos=nltk.pos_tag(tokens)\n",
    "chunks=ne_chunk(pos, binary=False)\n",
    "\n",
    "for t in chunks.subtrees():\n",
    "    if t.label() == 'GPE':\n",
    "        named_entities.append(list(t))\n",
    "        \n",
    "for entity in named_entities:\n",
    "    word=[entity[x][0] for x in range(len(entity))]\n",
    "    pattern=str(' '.join(word))\n",
    "    sent1=re.sub(pattern,'_'.join(word),sent1)\n",
    "    \n",
    "print(sent1)"
   ]
  },
  {
   "cell_type": "code",
   "execution_count": null,
   "metadata": {},
   "outputs": [],
   "source": []
  },
  {
   "cell_type": "code",
   "execution_count": null,
   "metadata": {},
   "outputs": [],
   "source": []
  },
  {
   "cell_type": "markdown",
   "metadata": {
    "colab_type": "text",
    "id": "XV8gzLUjYv0-"
   },
   "source": [
    "<pre>We did chunking for above two lines and then We got one list where each word is mapped to a \n",
    "POS(parts of speech) and also if you see \"New York\" and \"Srikanth Varma\", \n",
    "they got combined and represented as a tree and \"New York\" was referred as \"GPE\" and \"Srikanth Varma\" was referred as \"PERSON\". \n",
    "so now you have to Combine the \"New York\" with <b>\"_\"</b> i.e \"New_York\"\n",
    "and remove the \"Srikanth Varma\" from the above sentence because it is a person.</pre>"
   ]
  },
  {
   "cell_type": "markdown",
   "metadata": {
    "colab_type": "text",
    "id": "VpaC-KF3Yv1A"
   },
   "source": [
    "<pre>\n",
    "<font color='blue'><b>13.</b></font> Replace all the digits with space i.e delete all the digits. \n",
    "> In the above sample document, the 6th line have digit 100, so we have to remove that.\n",
    "\n",
    "<font color='blue'><b>14.</b></font> After doing above points, we observed there might be few word's like\n",
    " <b> \"_word_\" (i.e starting and ending with the _), \"_word\" (i.e starting with the _),\n",
    "  \"word_\" (i.e ending with the _)</b> remove the <b>_</b> from these type of words. \n",
    "\n",
    "<font color='blue'><b>15.</b></font>  We also observed some words like <b> \"OneLetter_word\"- eg: d_berlin, \n",
    "\"TwoLetters_word\" - eg: dr_berlin </b>, in these words we remove the \"OneLetter_\" (d_berlin ==> berlin) and \n",
    "\"TwoLetters_\" (de_berlin ==> berlin). i.e remove the words \n",
    "which are length less than or equal to 2 after spliiting those words by \"_\". \n",
    "\n",
    "<font color='blue'><b>16.</b></font> Convert all the words into lower case and lowe case \n",
    "and remove the words which are greater than or equal to 15 or less than or equal to 2.\n",
    "\n",
    "<font color='blue'><b>17.</b></font> replace all the words except \"A-Za-z_\" with space. \n",
    "\n",
    "<font color='blue'><b>18.</b></font> Now You got Preprocessed Text, email, subject. create a dataframe with those. \n",
    "Below are the columns of the df. \n",
    "</pre>"
   ]
  },
  {
   "cell_type": "code",
   "execution_count": 0,
   "metadata": {
    "colab": {},
    "colab_type": "code",
    "id": "hB43OGEfYv1C",
    "outputId": "945bc8a4-1f99-4410-94c8-c776a405b5f0"
   },
   "outputs": [
    {
     "name": "stdout",
     "output_type": "stream",
     "text": [
      "Index(['text', 'class', 'preprocessed_text', 'preprocessed_subject',\n",
      "       'preprocessed_emails'],\n",
      "      dtype='object')\n"
     ]
    }
   ],
   "source": [
    "data.columns"
   ]
  },
  {
   "cell_type": "code",
   "execution_count": 0,
   "metadata": {
    "colab": {},
    "colab_type": "code",
    "id": "AM6A19xFYv1I",
    "outputId": "9de13fa8-6604-49a2-8013-6b22f0a256a8"
   },
   "outputs": [
    {
     "name": "stdout",
     "output_type": "stream",
     "text": [
      "text                    From: arc1@ukc.ac.uk (Tony Curtis)\\r\\r\\r\\nSubj...\n",
      "class                                                         alt.atheism\n",
      "preprocessed_text       said re is article if followed the quoting rig...\n",
      "preprocessed_subject                                christian morality is\n",
      "preprocessed_emails                                   ukc mac macalstr edu\n",
      "Name: 567, dtype: object\n"
     ]
    }
   ],
   "source": [
    "data.iloc[400]"
   ]
  },
  {
   "cell_type": "markdown",
   "metadata": {
    "colab_type": "text",
    "id": "rfWUeIN1Yv1N"
   },
   "source": [
    "### To get above mentioned data frame --> Try to Write Total Preprocessing steps in One Function Named Preprocess as below. "
   ]
  },
  {
   "cell_type": "code",
   "execution_count": 0,
   "metadata": {
    "colab": {},
    "colab_type": "code",
    "id": "uEGEHTNQYv1N"
   },
   "outputs": [],
   "source": [
    "def preprocess(Input_Text):\n",
    "    \"\"\"Do all the Preprocessing as shown above and\n",
    "    return a tuple contain preprocess_email,preprocess_subject,preprocess_text for that Text_data\"\"\"\n",
    "    return (list_of_preproessed_emails,subject,text)"
   ]
  },
  {
   "cell_type": "markdown",
   "metadata": {
    "colab_type": "text",
    "id": "ceASjKizYv1U"
   },
   "source": [
    "### Code checking:\n",
    "\n",
    "<font color='red' size=4>\n",
    "After Writing preprocess function. call that functoin with the input text of 'alt.atheism_49960' doc and print the output of the preprocess function\n",
    "<br>\n",
    "This will help us to evaluate faster, based on the output we can suggest you if there are any changes.\n",
    "</font>"
   ]
  },
  {
   "cell_type": "markdown",
   "metadata": {
    "colab_type": "text",
    "id": "2x3og_iaYv1S"
   },
   "source": [
    "### After writing Preprocess function, call the function for each of the document(18828 docs) and then create a dataframe as mentioned above."
   ]
  },
  {
   "cell_type": "markdown",
   "metadata": {
    "colab_type": "text",
    "id": "n3ucJLtWYv1V"
   },
   "source": [
    "### Training The models to Classify: \n",
    "\n",
    "<pre>\n",
    "1. Combine \"preprocessed_text\", \"preprocessed_subject\", \"preprocessed_emails\" into one column. use that column to model. \n",
    "\n",
    "2. Now Split the data into Train and test. use 25% for test also do a stratify split. \n",
    "\n",
    "3. Analyze your text data and pad the sequnce if required. \n",
    "Sequnce length is not restricted, you can use anything of your choice. \n",
    "you need to give the reasoning\n",
    "\n",
    "4. Do Tokenizer i.e convert text into numbers. please be careful while doing it. \n",
    "if you are using tf.keras \"Tokenizer\" API, it removes the <b>\"_\"</b>, but we need that.\n",
    "\n",
    "5. code the model's ( Model-1, Model-2 ) as discussed below \n",
    "and try to optimize that models.  \n",
    "\n",
    "6. For every model use predefined Glove vectors. \n",
    "<b>Don't train any word vectors while Training the model.</b>\n",
    "\n",
    "7. Use \"categorical_crossentropy\" as Loss. \n",
    "\n",
    "8. Use <b>Accuracy and Micro Avgeraged F1 score</b> as your as Key metrics to evaluate your model. \n",
    "\n",
    "9.  Use Tensorboard to plot the loss and Metrics based on the epoches.\n",
    "\n",
    "10. Please save your best model weights in to <b>'best_model_L.h5' ( L = 1 or 2 )</b>. \n",
    "\n",
    "11. You are free to choose any Activation function, learning rate, optimizer.\n",
    "But have to use the same architecture which we are giving below.\n",
    "\n",
    "12. You can add some layer to our architecture but you <b>deletion</b> of layer is not acceptable.\n",
    "\n",
    "13. Try to use <b>Early Stopping</b> technique or any of the callback techniques that you did in the previous assignments.\n",
    "\n",
    "14. For Every model save your model to image ( Plot the model) with shapes \n",
    "and inlcude those images in the notebook markdown cell, \n",
    "upload those imgages to Classroom. You can use \"plot_model\" \n",
    "please refer <a href='https://www.tensorflow.org/api_docs/python/tf/keras/utils/plot_model'>this</a> if you don't know how to plot the model with shapes. \n",
    "\n",
    "</pre>"
   ]
  },
  {
   "cell_type": "markdown",
   "metadata": {
    "colab_type": "text",
    "id": "c0mwdtcvYv1X"
   },
   "source": [
    "### Model-1: Using 1D convolutions with word embeddings"
   ]
  },
  {
   "cell_type": "markdown",
   "metadata": {
    "colab_type": "text",
    "id": "gXPPsovJ3ePk"
   },
   "source": [
    "<pre>\n",
    "<b>Encoding of the Text </b> --> For a given text data create a Matrix with Embedding layer as shown Below. \n",
    "In the example we have considered d = 5, but in this assignment we will get d = dimension of Word vectors we are using.\n",
    " i.e if we have maximum of 350 words in a sentence and embedding of 300 dim word vector, \n",
    " we result in 350*300 dimensional matrix for each sentance as output after embedding layer\n",
    "<img src='https://i.imgur.com/kiVQuk1.png'>\n",
    "Ref: https://i.imgur.com/kiVQuk1.png\n",
    "\n",
    "<b>Reference:</b>\n",
    "<a href='https://stackoverflow.com/a/43399308/4084039'>https://stackoverflow.com/a/43399308/4084039</a>\n",
    "<a href='https://missinglink.ai/guides/keras/keras-conv1d-working-1d-convolutional-neural-networks-keras/'>https://missinglink.ai/guides/keras/keras-conv1d-working-1d-convolutional-neural-networks-keras/</a>\n",
    "\n",
    "<b><a href='https://stats.stackexchange.com/questions/270546/how-does-keras-embedding-layer-work'>How EMBEDDING LAYER WORKS </a></b>\n",
    "\n",
    "</pre>\n",
    "\n",
    "### Go through this blog, if you have any doubt on using predefined Embedding values in Embedding layer - https://machinelearningmastery.com/use-word-embedding-layers-deep-learning-keras/"
   ]
  },
  {
   "cell_type": "markdown",
   "metadata": {
    "colab_type": "text",
    "id": "wGVQKge3Yv1e"
   },
   "source": [
    "<img src='https://i.imgur.com/fv1GvFJ.png'>\n",
    "ref: 'https://i.imgur.com/fv1GvFJ.png'"
   ]
  },
  {
   "cell_type": "markdown",
   "metadata": {
    "colab_type": "text",
    "id": "GC6SBG5AYv1f"
   },
   "source": [
    "<pre>\n",
    "1. all are Conv1D layers with any number of filter and filter sizes, there is no restriction on this.\n",
    "\n",
    "2. use concatenate layer is to concatenate all the filters/channels. \n",
    "\n",
    "3. You can use any pool size and stride for maxpooling layer.\n",
    "\n",
    "4. Don't use more than 16 filters in one Conv layer becuase it will increase the no of params. \n",
    "( Only recommendation if you have less computing power )\n",
    "\n",
    "5. You can use any number of layers after the Flatten Layer.\n",
    "</pre>"
   ]
  },
  {
   "cell_type": "markdown",
   "metadata": {
    "colab_type": "text",
    "id": "9cg4L1V4Yv1d"
   },
   "source": [
    "### Model-2 : Using 1D convolutions with character embedding"
   ]
  },
  {
   "cell_type": "markdown",
   "metadata": {
    "colab_type": "text",
    "id": "2Djg4YVA3oQx"
   },
   "source": [
    "<pre>\n",
    "<pre><img src=\"https://i.ytimg.com/vi/CNY8VjJt-iQ/maxresdefault.jpg\" width=\"70%\">\n",
    "Here are the some papers based on Char-CNN\n",
    " 1. Xiang Zhang, Junbo Zhao, Yann LeCun. <a href=\"http://arxiv.org/abs/1509.01626\">Character-level Convolutional Networks for Text Classification</a>.NIPS 2015\n",
    " 2. Yoon Kim, Yacine Jernite, David Sontag, Alexander M. Rush. <a href=\"https://arxiv.org/abs/1508.06615\">Character-Aware Neural Language Models</a>. AAAI 2016\n",
    " 3. Shaojie Bai, J. Zico Kolter, Vladlen Koltun. <a href=\"https://arxiv.org/pdf/1803.01271.pdf\">An Empirical Evaluation of Generic Convolutional and Recurrent Networks for Sequence Modeling</a>\n",
    " 4. Use the pratrained char embeddings <a href='https://github.com/minimaxir/char-embeddings/blob/master/glove.840B.300d-char.txt'>https://github.com/minimaxir/char-embeddings/blob/master/glove.840B.300d-char.txt</a>\n",
    "</pre>"
   ]
  },
  {
   "cell_type": "markdown",
   "metadata": {
    "colab_type": "text",
    "id": "VXvKSEIeSvN5"
   },
   "source": [
    "<img src='https://i.imgur.com/EuuoJtr.png'>"
   ]
  },
  {
   "cell_type": "code",
   "execution_count": 4,
   "metadata": {},
   "outputs": [
    {
     "name": "stderr",
     "output_type": "stream",
     "text": [
      "100%|████████████████████████████████████████████████████████████████████████| 18828/18828 [00:00<00:00, 549041.98it/s]\n"
     ]
    }
   ],
   "source": [
    "#Step 1 of extracting the class and the file name\n",
    "import os\n",
    "from tqdm import tqdm\n",
    "data=os.listdir('documents')\n",
    "processed_data=[]\n",
    "for files in tqdm(data):\n",
    "    class_name=files.split('.')[0]\n",
    "    file_name=files.split('.')[1]\n",
    "    processed_data.append((class_name,file_name))"
   ]
  },
  {
   "cell_type": "code",
   "execution_count": 29,
   "metadata": {},
   "outputs": [
    {
     "data": {
      "text/plain": [
       "['']"
      ]
     },
     "execution_count": 29,
     "metadata": {},
     "output_type": "execute_result"
    }
   ],
   "source": []
  },
  {
   "cell_type": "code",
   "execution_count": 82,
   "metadata": {},
   "outputs": [
    {
     "data": {
      "text/plain": [
       "'From: mathew <mathew@mantis.co.uk>\\nSubject: Alt.Atheism FAQ: Atheist Resources\\n\\nArchive-name: atheism/resources\\nAlt-atheism-archive-name: resources\\nLast-modified: 11 December 1992\\nVersion: 1.0\\n\\n                              Atheist Resources\\n\\n                      Addresses of Atheist Organizations\\n\\n                                     USA\\n\\nFREEDOM FROM RELIGION FOUNDATION\\n\\nDarwin fish bumper stickers and assorted other atheist paraphernalia are\\navailable from the Freedom From Religion Foundation in the US.\\n\\nWrite to:  FFRF, P.O. Box 750, Madison, WI 53701.\\nTelephone: (608) 256-8900\\n\\nEVOLUTION DESIGNS\\n\\nEvolution Designs sell the \"Darwin fish\".  It\\'s a fish symbol, like the ones\\nChristians stick on their cars, but with feet and the word \"Darwin\" written\\ninside.  The deluxe moulded 3D plastic fish is $4.95 postpaid in the US.\\n\\nWrite to:  Evolution Designs, 7119 Laurel Canyon #4, North Hollywood,\\n           CA 91605.\\n\\nPeople in the San Francisco Bay area can get Darwin Fish from Lynn Gold --\\ntry mailing <figmo@netcom.com>.  For net people who go to Lynn directly, the\\nprice is $4.95 per fish.\\n\\nAMERICAN ATHEIST PRESS\\n\\nAAP publish various atheist books -- critiques of the Bible, lists of\\nBiblical contradictions, and so on.  One such book is:\\n\\n\"The Bible Handbook\" by W.P. Ball and G.W. Foote.  American Atheist Press.\\n372 pp.  ISBN 0-910309-26-4, 2nd edition, 1986.  Bible contradictions,\\nabsurdities, atrocities, immoralities... contains Ball, Foote: \"The Bible\\nContradicts Itself\", AAP.  Based on the King James version of the Bible.\\n\\nWrite to:  American Atheist Press, P.O. Box 140195, Austin, TX 78714-0195.\\n      or:  7215 Cameron Road, Austin, TX 78752-2973.\\nTelephone: (512) 458-1244\\nFax:       (512) 467-9525\\n\\nPROMETHEUS BOOKS\\n\\nSell books including Haught\\'s \"Holy Horrors\" (see below).\\n\\nWrite to:  700 East Amherst Street, Buffalo, New York 14215.\\nTelephone: (716) 837-2475.\\n\\nAn alternate address (which may be newer or older) is:\\nPrometheus Books, 59 Glenn Drive, Buffalo, NY 14228-2197.\\n\\nAFRICAN-AMERICANS FOR HUMANISM\\n\\nAn organization promoting black secular humanism and uncovering the history of\\nblack freethought.  They publish a quarterly newsletter, AAH EXAMINER.\\n\\nWrite to:  Norm R. Allen, Jr., African Americans for Humanism, P.O. Box 664,\\n           Buffalo, NY 14226.\\n\\n                                United Kingdom\\n\\nRationalist Press Association          National Secular Society\\n88 Islington High Street               702 Holloway Road\\nLondon N1 8EW                          London N19 3NL\\n071 226 7251                           071 272 1266\\n\\nBritish Humanist Association           South Place Ethical Society\\n14 Lamb\\'s Conduit Passage              Conway Hall\\nLondon WC1R 4RH                        Red Lion Square\\n071 430 0908                           London WC1R 4RL\\nfax 071 430 1271                       071 831 7723\\n\\nThe National Secular Society publish \"The Freethinker\", a monthly magazine\\nfounded in 1881.\\n\\n                                   Germany\\n\\nIBKA e.V.\\nInternationaler Bund der Konfessionslosen und Atheisten\\nPostfach 880, D-1000 Berlin 41. Germany.\\n\\nIBKA publish a journal:\\nMIZ. (Materialien und Informationen zur Zeit. Politisches\\nJournal der Konfessionslosesn und Atheisten. Hrsg. IBKA e.V.)\\nMIZ-Vertrieb, Postfach 880, D-1000 Berlin 41. Germany.\\n\\nFor atheist books, write to:\\n\\nIBDK, Internationaler B\"ucherdienst der Konfessionslosen\\nPostfach 3005, D-3000 Hannover 1. Germany.\\nTelephone: 0511/211216\\n\\n\\n                               Books -- Fiction\\n\\nTHOMAS M. DISCH\\n\\n\"The Santa Claus Compromise\"\\nShort story.  The ultimate proof that Santa exists.  All characters and \\nevents are fictitious.  Any similarity to living or dead gods -- uh, well...\\n\\nWALTER M. MILLER, JR\\n\\n\"A Canticle for Leibowitz\"\\nOne gem in this post atomic doomsday novel is the monks who spent their lives\\ncopying blueprints from \"Saint Leibowitz\", filling the sheets of paper with\\nink and leaving white lines and letters.\\n\\nEDGAR PANGBORN\\n\\n\"Davy\"\\nPost atomic doomsday novel set in clerical states.  The church, for example,\\nforbids that anyone \"produce, describe or use any substance containing...\\natoms\". \\n\\nPHILIP K. DICK\\n\\nPhilip K. Dick Dick wrote many philosophical and thought-provoking short \\nstories and novels.  His stories are bizarre at times, but very approachable.\\nHe wrote mainly SF, but he wrote about people, truth and religion rather than\\ntechnology.  Although he often believed that he had met some sort of God, he\\nremained sceptical.  Amongst his novels, the following are of some relevance:\\n\\n\"Galactic Pot-Healer\"\\nA fallible alien deity summons a group of Earth craftsmen and women to a\\nremote planet to raise a giant cathedral from beneath the oceans.  When the\\ndeity begins to demand faith from the earthers, pot-healer Joe Fernwright is\\nunable to comply.  A polished, ironic and amusing novel.\\n\\n\"A Maze of Death\"\\nNoteworthy for its description of a technology-based religion.\\n\\n\"VALIS\"\\nThe schizophrenic hero searches for the hidden mysteries of Gnostic\\nChristianity after reality is fired into his brain by a pink laser beam of\\nunknown but possibly divine origin.  He is accompanied by his dogmatic and\\ndismissively atheist friend and assorted other odd characters.\\n\\n\"The Divine Invasion\"\\nGod invades Earth by making a young woman pregnant as she returns from\\nanother star system.  Unfortunately she is terminally ill, and must be\\nassisted by a dead man whose brain is wired to 24-hour easy listening music.\\n\\nMARGARET ATWOOD\\n\\n\"The Handmaid\\'s Tale\"\\nA story based on the premise that the US Congress is mysteriously\\nassassinated, and fundamentalists quickly take charge of the nation to set it\\n\"right\" again.  The book is the diary of a woman\\'s life as she tries to live\\nunder the new Christian theocracy.  Women\\'s right to own property is revoked,\\nand their bank accounts are closed; sinful luxuries are outlawed, and the\\nradio is only used for readings from the Bible.  Crimes are punished\\nretroactively: doctors who performed legal abortions in the \"old world\" are\\nhunted down and hanged.  Atwood\\'s writing style is difficult to get used to\\nat first, but the tale grows more and more chilling as it goes on.\\n\\nVARIOUS AUTHORS\\n\\n\"The Bible\"\\nThis somewhat dull and rambling work has often been criticized.  However, it\\nis probably worth reading, if only so that you\\'ll know what all the fuss is\\nabout.  It exists in many different versions, so make sure you get the one\\ntrue version.\\n\\n                             Books -- Non-fiction\\n\\nPETER DE ROSA\\n\\n\"Vicars of Christ\", Bantam Press, 1988\\nAlthough de Rosa seems to be Christian or even Catholic this is a very\\nenlighting history of papal immoralities, adulteries, fallacies etc.\\n(German translation: \"Gottes erste Diener. Die dunkle Seite des Papsttums\",\\nDroemer-Knaur, 1989)\\n\\nMICHAEL MARTIN\\n\\n\"Atheism: A Philosophical Justification\", Temple University Press,\\n Philadelphia, USA.\\nA detailed and scholarly justification of atheism.  Contains an outstanding\\nappendix defining terminology and usage in this (necessarily) tendentious\\narea.  Argues both for \"negative atheism\" (i.e. the \"non-belief in the\\nexistence of god(s)\") and also for \"positive atheism\" (\"the belief in the\\nnon-existence of god(s)\").  Includes great refutations of the most\\nchallenging arguments for god; particular attention is paid to refuting\\ncontempory theists such as Platinga and Swinburne.\\n541 pages. ISBN 0-87722-642-3 (hardcover; paperback also available)\\n\\n\"The Case Against Christianity\", Temple University Press\\nA comprehensive critique of Christianity, in which he considers\\nthe best contemporary defences of Christianity and (ultimately)\\ndemonstrates that they are unsupportable and/or incoherent.\\n273 pages. ISBN 0-87722-767-5\\n\\nJAMES TURNER\\n\\n\"Without God, Without Creed\", The Johns Hopkins University Press, Baltimore,\\n MD, USA\\nSubtitled \"The Origins of Unbelief in America\".  Examines the way in which\\nunbelief (whether agnostic or atheistic)  became a mainstream alternative\\nworld-view.  Focusses on the period 1770-1900, and while considering France\\nand Britain the emphasis is on American, and particularly New England\\ndevelopments.  \"Neither a religious history of secularization or atheism,\\nWithout God, Without Creed is, rather, the intellectual history of the fate\\nof a single idea, the belief that God exists.\" \\n316 pages. ISBN (hardcover) 0-8018-2494-X (paper) 0-8018-3407-4\\n\\nGEORGE SELDES (Editor)\\n\\n\"The great thoughts\", Ballantine Books, New York, USA\\nA \"dictionary of quotations\" of a different kind, concentrating on statements\\nand writings which, explicitly or implicitly, present the person\\'s philosophy\\nand world-view.  Includes obscure (and often suppressed) opinions from many\\npeople.  For some popular observations, traces the way in which various\\npeople expressed and twisted the idea over the centuries.  Quite a number of\\nthe quotations are derived from Cardiff\\'s \"What Great Men Think of Religion\"\\nand Noyes\\' \"Views of Religion\".\\n490 pages. ISBN (paper) 0-345-29887-X.\\n\\nRICHARD SWINBURNE\\n\\n\"The Existence of God (Revised Edition)\", Clarendon Paperbacks, Oxford\\nThis book is the second volume in a trilogy that began with \"The Coherence of\\nTheism\" (1977) and was concluded with \"Faith and Reason\" (1981).  In this\\nwork, Swinburne attempts to construct a series of inductive arguments for the\\nexistence of God.  His arguments, which are somewhat tendentious and rely\\nupon the imputation of late 20th century western Christian values and\\naesthetics to a God which is supposedly as simple as can be conceived, were\\ndecisively rejected in Mackie\\'s \"The Miracle of Theism\".  In the revised\\nedition of \"The Existence of God\", Swinburne includes an Appendix in which he\\nmakes a somewhat incoherent attempt to rebut Mackie.\\n\\nJ. L. MACKIE\\n\\n\"The Miracle of Theism\", Oxford\\nThis (posthumous) volume contains a comprehensive review of the principal\\narguments for and against the existence of God.  It ranges from the classical\\nphilosophical positions of Descartes, Anselm, Berkeley, Hume et al, through\\nthe moral arguments of Newman, Kant and Sidgwick, to the recent restatements\\nof the classical theses by Plantinga and Swinburne.  It also addresses those\\npositions which push the concept of God beyond the realm of the rational,\\nsuch as those of Kierkegaard, Kung and Philips, as well as \"replacements for\\nGod\" such as Lelie\\'s axiarchism.  The book is a delight to read - less\\nformalistic and better written than Martin\\'s works, and refreshingly direct\\nwhen compared with the hand-waving of Swinburne.\\n\\nJAMES A. HAUGHT\\n\\n\"Holy Horrors: An Illustrated History of Religious Murder and Madness\",\\n Prometheus Books\\nLooks at religious persecution from ancient times to the present day -- and\\nnot only by Christians.\\nLibrary of Congress Catalog Card Number 89-64079. 1990.\\n\\nNORM R. ALLEN, JR.\\n\\n\"African American Humanism: an Anthology\"\\nSee the listing for African Americans for Humanism above.\\n\\nGORDON STEIN\\n\\n\"An Anthology of Atheism and Rationalism\", Prometheus Books\\nAn anthology covering a wide range of subjects, including \\'The Devil, Evil\\nand Morality\\' and \\'The History of Freethought\\'.  Comprehensive bibliography.\\n\\nEDMUND D. COHEN\\n\\n\"The Mind of The Bible-Believer\", Prometheus Books\\nA study of why people become Christian fundamentalists, and what effect it\\nhas on them.\\n\\n                                Net Resources\\n\\nThere\\'s a small mail-based archive server at mantis.co.uk which carries\\narchives of old alt.atheism.moderated articles and assorted other files.  For\\nmore information, send mail to archive-server@mantis.co.uk saying\\n\\n   help\\n   send atheism/index\\n\\nand it will mail back a reply.\\n\\n\\nmathew\\nÿ\\n'"
      ]
     },
     "execution_count": 82,
     "metadata": {},
     "output_type": "execute_result"
    }
   ],
   "source": [
    "data=open('documents/alt.atheism_49960.txt')\n",
    "text=data.read()\n",
    "text"
   ]
  },
  {
   "cell_type": "code",
   "execution_count": 83,
   "metadata": {},
   "outputs": [
    {
     "data": {
      "text/plain": [
       "['mathew@mantis.co.uk', 'figmo@netcom.com', 'archive-server@mantis.co.uk']"
      ]
     },
     "execution_count": 83,
     "metadata": {},
     "output_type": "execute_result"
    }
   ],
   "source": [
    "pattern=r'([a-zA-Z0-9\\-\\.]+@[a-zA-z\\.]{2,})'\n",
    "email=re.findall(pattern, text, flags=re.M|re.I)\n",
    "email"
   ]
  },
  {
   "cell_type": "code",
   "execution_count": 84,
   "metadata": {},
   "outputs": [
    {
     "name": "stdout",
     "output_type": "stream",
     "text": [
      "mantis\n"
     ]
    }
   ],
   "source": [
    "for ids in email:\n",
    "    e_ids=ids.split('@')[1]\n",
    "    #print(e_ids)\n",
    "    domain=e_ids.split('.')\n",
    "    domain=list(d for d in domain if len(d)>2)\n",
    "print(' '.join(domain))"
   ]
  },
  {
   "cell_type": "code",
   "execution_count": 85,
   "metadata": {},
   "outputs": [
    {
     "data": {
      "text/plain": [
       "'From: mathew < >\\nSubject: Alt.Atheism FAQ: Atheist Resources\\n\\nArchive-name: atheism/resources\\nAlt-atheism-archive-name: resources\\nLast-modified: 11 December 1992\\nVersion: 1.0\\n\\n                              Atheist Resources\\n\\n                      Addresses of Atheist Organizations\\n\\n                                     USA\\n\\nFREEDOM FROM RELIGION FOUNDATION\\n\\nDarwin fish bumper stickers and assorted other atheist paraphernalia are\\navailable from the Freedom From Religion Foundation in the US.\\n\\nWrite to:  FFRF, P.O. Box 750, Madison, WI 53701.\\nTelephone: (608) 256-8900\\n\\nEVOLUTION DESIGNS\\n\\nEvolution Designs sell the \"Darwin fish\".  It\\'s a fish symbol, like the ones\\nChristians stick on their cars, but with feet and the word \"Darwin\" written\\ninside.  The deluxe moulded 3D plastic fish is $4.95 postpaid in the US.\\n\\nWrite to:  Evolution Designs, 7119 Laurel Canyon #4, North Hollywood,\\n           CA 91605.\\n\\nPeople in the San Francisco Bay area can get Darwin Fish from Lynn Gold --\\ntry mailing < >.  For net people who go to Lynn directly, the\\nprice is $4.95 per fish.\\n\\nAMERICAN ATHEIST PRESS\\n\\nAAP publish various atheist books -- critiques of the Bible, lists of\\nBiblical contradictions, and so on.  One such book is:\\n\\n\"The Bible Handbook\" by W.P. Ball and G.W. Foote.  American Atheist Press.\\n372 pp.  ISBN 0-910309-26-4, 2nd edition, 1986.  Bible contradictions,\\nabsurdities, atrocities, immoralities... contains Ball, Foote: \"The Bible\\nContradicts Itself\", AAP.  Based on the King James version of the Bible.\\n\\nWrite to:  American Atheist Press, P.O. Box 140195, Austin, TX 78714-0195.\\n      or:  7215 Cameron Road, Austin, TX 78752-2973.\\nTelephone: (512) 458-1244\\nFax:       (512) 467-9525\\n\\nPROMETHEUS BOOKS\\n\\nSell books including Haught\\'s \"Holy Horrors\" (see below).\\n\\nWrite to:  700 East Amherst Street, Buffalo, New York 14215.\\nTelephone: (716) 837-2475.\\n\\nAn alternate address (which may be newer or older) is:\\nPrometheus Books, 59 Glenn Drive, Buffalo, NY 14228-2197.\\n\\nAFRICAN-AMERICANS FOR HUMANISM\\n\\nAn organization promoting black secular humanism and uncovering the history of\\nblack freethought.  They publish a quarterly newsletter, AAH EXAMINER.\\n\\nWrite to:  Norm R. Allen, Jr., African Americans for Humanism, P.O. Box 664,\\n           Buffalo, NY 14226.\\n\\n                                United Kingdom\\n\\nRationalist Press Association          National Secular Society\\n88 Islington High Street               702 Holloway Road\\nLondon N1 8EW                          London N19 3NL\\n071 226 7251                           071 272 1266\\n\\nBritish Humanist Association           South Place Ethical Society\\n14 Lamb\\'s Conduit Passage              Conway Hall\\nLondon WC1R 4RH                        Red Lion Square\\n071 430 0908                           London WC1R 4RL\\nfax 071 430 1271                       071 831 7723\\n\\nThe National Secular Society publish \"The Freethinker\", a monthly magazine\\nfounded in 1881.\\n\\n                                   Germany\\n\\nIBKA e.V.\\nInternationaler Bund der Konfessionslosen und Atheisten\\nPostfach 880, D-1000 Berlin 41. Germany.\\n\\nIBKA publish a journal:\\nMIZ. (Materialien und Informationen zur Zeit. Politisches\\nJournal der Konfessionslosesn und Atheisten. Hrsg. IBKA e.V.)\\nMIZ-Vertrieb, Postfach 880, D-1000 Berlin 41. Germany.\\n\\nFor atheist books, write to:\\n\\nIBDK, Internationaler B\"ucherdienst der Konfessionslosen\\nPostfach 3005, D-3000 Hannover 1. Germany.\\nTelephone: 0511/211216\\n\\n\\n                               Books -- Fiction\\n\\nTHOMAS M. DISCH\\n\\n\"The Santa Claus Compromise\"\\nShort story.  The ultimate proof that Santa exists.  All characters and \\nevents are fictitious.  Any similarity to living or dead gods -- uh, well...\\n\\nWALTER M. MILLER, JR\\n\\n\"A Canticle for Leibowitz\"\\nOne gem in this post atomic doomsday novel is the monks who spent their lives\\ncopying blueprints from \"Saint Leibowitz\", filling the sheets of paper with\\nink and leaving white lines and letters.\\n\\nEDGAR PANGBORN\\n\\n\"Davy\"\\nPost atomic doomsday novel set in clerical states.  The church, for example,\\nforbids that anyone \"produce, describe or use any substance containing...\\natoms\". \\n\\nPHILIP K. DICK\\n\\nPhilip K. Dick Dick wrote many philosophical and thought-provoking short \\nstories and novels.  His stories are bizarre at times, but very approachable.\\nHe wrote mainly SF, but he wrote about people, truth and religion rather than\\ntechnology.  Although he often believed that he had met some sort of God, he\\nremained sceptical.  Amongst his novels, the following are of some relevance:\\n\\n\"Galactic Pot-Healer\"\\nA fallible alien deity summons a group of Earth craftsmen and women to a\\nremote planet to raise a giant cathedral from beneath the oceans.  When the\\ndeity begins to demand faith from the earthers, pot-healer Joe Fernwright is\\nunable to comply.  A polished, ironic and amusing novel.\\n\\n\"A Maze of Death\"\\nNoteworthy for its description of a technology-based religion.\\n\\n\"VALIS\"\\nThe schizophrenic hero searches for the hidden mysteries of Gnostic\\nChristianity after reality is fired into his brain by a pink laser beam of\\nunknown but possibly divine origin.  He is accompanied by his dogmatic and\\ndismissively atheist friend and assorted other odd characters.\\n\\n\"The Divine Invasion\"\\nGod invades Earth by making a young woman pregnant as she returns from\\nanother star system.  Unfortunately she is terminally ill, and must be\\nassisted by a dead man whose brain is wired to 24-hour easy listening music.\\n\\nMARGARET ATWOOD\\n\\n\"The Handmaid\\'s Tale\"\\nA story based on the premise that the US Congress is mysteriously\\nassassinated, and fundamentalists quickly take charge of the nation to set it\\n\"right\" again.  The book is the diary of a woman\\'s life as she tries to live\\nunder the new Christian theocracy.  Women\\'s right to own property is revoked,\\nand their bank accounts are closed; sinful luxuries are outlawed, and the\\nradio is only used for readings from the Bible.  Crimes are punished\\nretroactively: doctors who performed legal abortions in the \"old world\" are\\nhunted down and hanged.  Atwood\\'s writing style is difficult to get used to\\nat first, but the tale grows more and more chilling as it goes on.\\n\\nVARIOUS AUTHORS\\n\\n\"The Bible\"\\nThis somewhat dull and rambling work has often been criticized.  However, it\\nis probably worth reading, if only so that you\\'ll know what all the fuss is\\nabout.  It exists in many different versions, so make sure you get the one\\ntrue version.\\n\\n                             Books -- Non-fiction\\n\\nPETER DE ROSA\\n\\n\"Vicars of Christ\", Bantam Press, 1988\\nAlthough de Rosa seems to be Christian or even Catholic this is a very\\nenlighting history of papal immoralities, adulteries, fallacies etc.\\n(German translation: \"Gottes erste Diener. Die dunkle Seite des Papsttums\",\\nDroemer-Knaur, 1989)\\n\\nMICHAEL MARTIN\\n\\n\"Atheism: A Philosophical Justification\", Temple University Press,\\n Philadelphia, USA.\\nA detailed and scholarly justification of atheism.  Contains an outstanding\\nappendix defining terminology and usage in this (necessarily) tendentious\\narea.  Argues both for \"negative atheism\" (i.e. the \"non-belief in the\\nexistence of god(s)\") and also for \"positive atheism\" (\"the belief in the\\nnon-existence of god(s)\").  Includes great refutations of the most\\nchallenging arguments for god; particular attention is paid to refuting\\ncontempory theists such as Platinga and Swinburne.\\n541 pages. ISBN 0-87722-642-3 (hardcover; paperback also available)\\n\\n\"The Case Against Christianity\", Temple University Press\\nA comprehensive critique of Christianity, in which he considers\\nthe best contemporary defences of Christianity and (ultimately)\\ndemonstrates that they are unsupportable and/or incoherent.\\n273 pages. ISBN 0-87722-767-5\\n\\nJAMES TURNER\\n\\n\"Without God, Without Creed\", The Johns Hopkins University Press, Baltimore,\\n MD, USA\\nSubtitled \"The Origins of Unbelief in America\".  Examines the way in which\\nunbelief (whether agnostic or atheistic)  became a mainstream alternative\\nworld-view.  Focusses on the period 1770-1900, and while considering France\\nand Britain the emphasis is on American, and particularly New England\\ndevelopments.  \"Neither a religious history of secularization or atheism,\\nWithout God, Without Creed is, rather, the intellectual history of the fate\\nof a single idea, the belief that God exists.\" \\n316 pages. ISBN (hardcover) 0-8018-2494-X (paper) 0-8018-3407-4\\n\\nGEORGE SELDES (Editor)\\n\\n\"The great thoughts\", Ballantine Books, New York, USA\\nA \"dictionary of quotations\" of a different kind, concentrating on statements\\nand writings which, explicitly or implicitly, present the person\\'s philosophy\\nand world-view.  Includes obscure (and often suppressed) opinions from many\\npeople.  For some popular observations, traces the way in which various\\npeople expressed and twisted the idea over the centuries.  Quite a number of\\nthe quotations are derived from Cardiff\\'s \"What Great Men Think of Religion\"\\nand Noyes\\' \"Views of Religion\".\\n490 pages. ISBN (paper) 0-345-29887-X.\\n\\nRICHARD SWINBURNE\\n\\n\"The Existence of God (Revised Edition)\", Clarendon Paperbacks, Oxford\\nThis book is the second volume in a trilogy that began with \"The Coherence of\\nTheism\" (1977) and was concluded with \"Faith and Reason\" (1981).  In this\\nwork, Swinburne attempts to construct a series of inductive arguments for the\\nexistence of God.  His arguments, which are somewhat tendentious and rely\\nupon the imputation of late 20th century western Christian values and\\naesthetics to a God which is supposedly as simple as can be conceived, were\\ndecisively rejected in Mackie\\'s \"The Miracle of Theism\".  In the revised\\nedition of \"The Existence of God\", Swinburne includes an Appendix in which he\\nmakes a somewhat incoherent attempt to rebut Mackie.\\n\\nJ. L. MACKIE\\n\\n\"The Miracle of Theism\", Oxford\\nThis (posthumous) volume contains a comprehensive review of the principal\\narguments for and against the existence of God.  It ranges from the classical\\nphilosophical positions of Descartes, Anselm, Berkeley, Hume et al, through\\nthe moral arguments of Newman, Kant and Sidgwick, to the recent restatements\\nof the classical theses by Plantinga and Swinburne.  It also addresses those\\npositions which push the concept of God beyond the realm of the rational,\\nsuch as those of Kierkegaard, Kung and Philips, as well as \"replacements for\\nGod\" such as Lelie\\'s axiarchism.  The book is a delight to read - less\\nformalistic and better written than Martin\\'s works, and refreshingly direct\\nwhen compared with the hand-waving of Swinburne.\\n\\nJAMES A. HAUGHT\\n\\n\"Holy Horrors: An Illustrated History of Religious Murder and Madness\",\\n Prometheus Books\\nLooks at religious persecution from ancient times to the present day -- and\\nnot only by Christians.\\nLibrary of Congress Catalog Card Number 89-64079. 1990.\\n\\nNORM R. ALLEN, JR.\\n\\n\"African American Humanism:  saying\\n\\n   help\\n   send atheism/index\\n\\nand it will mail back a reply.\\n\\n\\nmathew\\nÿ\\n'"
      ]
     },
     "execution_count": 85,
     "metadata": {},
     "output_type": "execute_result"
    }
   ],
   "source": [
    "pattern=r'[a-zA-z\\.]?[[a-zA-z\\0-9]+@+[a-zA-z\\.]{2,}'\n",
    "re.findall(pattern, text, flags=re.M|re.I)\n",
    "text1=re.sub(pattern,' ',text)\n",
    "text1"
   ]
  },
  {
   "cell_type": "code",
   "execution_count": 86,
   "metadata": {},
   "outputs": [
    {
     "data": {
      "text/plain": [
       "' Alt Atheism  Atheist Resources'"
      ]
     },
     "execution_count": 86,
     "metadata": {},
     "output_type": "execute_result"
    }
   ],
   "source": [
    "#text='Subject: Re: Gospel Dating @ \\r\\r\\n'\n",
    "pattern_1=r'subject:.+'\n",
    "data=re.findall(pattern_1, text, flags=re.M|re.I)\n",
    "pattern_2=r'[a-zA-Z]+:'\n",
    "text=re.sub(pattern_2,'',data[0])\n",
    "pattern_3=r'[^a-zA-z]'\n",
    "text=re.sub(pattern_3,' ',text)\n",
    "text"
   ]
  },
  {
   "cell_type": "code",
   "execution_count": 41,
   "metadata": {},
   "outputs": [
    {
     "data": {
      "text/plain": [
       "'\\n\\n\\nIn article < 65882@mimsy.umd.edu > mangoe@cs.umd.edu (Charley Wingate) writes:\\n>\\n>I\\'ve said 100 times that there is no \"alternative\" that should think you\\n>might have caught on by now.  And there is no \"alternative\", but the point\\n>is, \"rationality\" isn\\'t an alternative either.  The problems of metaphysical\\n>and religious knowledge are unsolvable-- or I should say, humans cannot\\n>solve them.\\n\\nHow does that saying go: Those who say it can\\'t be done shouldn\\'t interrupt\\nthose who are doing it.\\n\\nJim\\n--\\nHave you washed your brain today?'"
      ]
     },
     "execution_count": 41,
     "metadata": {},
     "output_type": "execute_result"
    }
   ],
   "source": [
    "'''Delete all the sentances where sentence starts with \"Write to:\" or \"From:\".\n",
    "> In the above sample document check the 2nd line, we should remove that'''\n",
    "pattern_2=r'(From:.+)|(subject:.+)'\n",
    "text1=re.sub(pattern_2,'',text,flags=re.M|re.I)\n",
    "text1"
   ]
  },
  {
   "cell_type": "code",
   "execution_count": 42,
   "metadata": {},
   "outputs": [
    {
     "data": {
      "text/plain": [
       "'\\n\\n\\nIn article  mangoe@cs.umd.edu  writes:\\n>\\n>I\\'ve said 100 times that there is no \"alternative\" that should think you\\n>might have caught on by now.  And there is no \"alternative\", but the point\\n>is, \"rationality\" isn\\'t an alternative either.  The problems of metaphysical\\n>and religious knowledge are unsolvable-- or I should say, humans cannot\\n>solve them.\\n\\nHow does that saying go: Those who say it can\\'t be done shouldn\\'t interrupt\\nthose who are doing it.\\n\\nJim\\n--\\nHave you washed your brain today?'"
      ]
     },
     "execution_count": 42,
     "metadata": {},
     "output_type": "execute_result"
    }
   ],
   "source": [
    "'''Delete all the tags like \"< anyword >\"\n",
    "> In the above sample document check the 4nd line, we should remove that \"< 65882@mimsy.umd.edu >\"'''\n",
    "pattern_3=r'(<.+>)|(\\(.+\\))'\n",
    "text2=re.sub(pattern_3,'',text1,flags=re.M|re.I)\n",
    "text2"
   ]
  },
  {
   "cell_type": "code",
   "execution_count": 74,
   "metadata": {},
   "outputs": [
    {
     "data": {
      "text/plain": [
       "'\\n\\n\\nIn article  mangoe@cs.umd.edu  \\n>\\n>I\\'ve said 100 times that there is no \"alternative\" that should think you\\n>might have caught on by now.  And there is no \"alternative\", but the point\\n>is, \"rationality\" isn\\'t an alternative either.  The problems of metaphysical\\n>and religious knowledge are unsolvable-- or I should say, humans cannot\\n>solve them.\\n\\nHow does that saying  Those who say it can\\'t be done shouldn\\'t interrupt\\nthose who are doing it.\\n\\nJim\\n--\\nHave you washed your brain today?'"
      ]
     },
     "execution_count": 74,
     "metadata": {},
     "output_type": "execute_result"
    }
   ],
   "source": [
    "pattern_4=r'\\b[a-z]+:'\n",
    "text3=re.sub(pattern_4,'',text2,flags=re.M|re.I)\n",
    "text3"
   ]
  },
  {
   "cell_type": "code",
   "execution_count": 75,
   "metadata": {},
   "outputs": [
    {
     "data": {
      "text/plain": [
       "'   In article  mangoe@cs.umd.edu   > >I\\'ve said 100 times that there is no \"alternative\" that should think you >might have caught on by now.  And there is no \"alternative\", but the point >is, \"rationality\" isn\\'t an alternative either.  The problems of metaphysical >and religious knowledge are unsolvable-- or I should say, humans cannot >solve them.  How does that saying  Those who say it can\\'t be done shouldn\\'t interrupt those who are doing it.  Jim -- Have you washed your brain today?'"
      ]
     },
     "execution_count": 75,
     "metadata": {},
     "output_type": "execute_result"
    }
   ],
   "source": [
    "pattern_5=r'[\\r\\n]|[\\r\\t]'\n",
    "text4=re.sub(pattern_5,' ',text3,flags=re.M|re.I)\n",
    "text4"
   ]
  },
  {
   "cell_type": "code",
   "execution_count": 76,
   "metadata": {},
   "outputs": [
    {
     "data": {
      "text/plain": [
       "\"   In article  mangoe@cs.umd.edu    I've said 100 times that there is no alternative that should think you might have caught on by now.  And there is no alternative but the point is rationality isn't an alternative either.  The problems of metaphysical and religious knowledge are unsolvable or I should say humans cannot solve them.  How does that saying  Those who say it can't be done shouldn't interrupt those who are doing it.  Jim  Have you washed your brain today\""
      ]
     },
     "execution_count": 76,
     "metadata": {},
     "output_type": "execute_result"
    }
   ],
   "source": [
    "pattern_6=r'>+|\\\\+|-+|\\\\|\\\"|,|\\?'\n",
    "text5=re.sub(pattern_6,'',text4,flags=re.M|re.I)\n",
    "text5"
   ]
  },
  {
   "cell_type": "code",
   "execution_count": 77,
   "metadata": {},
   "outputs": [
    {
     "data": {
      "text/plain": [
       "\" In article mangoe@cs.umd.edu I've said 100 times that there is no alternative that should think you might have caught on by now. And there is no alternative but the point is rationality isn't an alternative either. The problems of metaphysical and religious knowledge are unsolvable or I should say humans cannot solve them. How does that saying Those who say it can't be done shouldn't interrupt those who are doing it. Jim Have you washed your brain today\""
      ]
     },
     "execution_count": 77,
     "metadata": {},
     "output_type": "execute_result"
    }
   ],
   "source": [
    "pattern_7=r' +'\n",
    "text6=re.sub(pattern_7,' ',text5,flags=re.M|re.I)\n",
    "text6"
   ]
  },
  {
   "cell_type": "code",
   "execution_count": 54,
   "metadata": {},
   "outputs": [
    {
     "data": {
      "text/plain": [
       "\" In article I have said 100 times that there is no alternative that should think you might have caught on by now. And there is no alternative but the point is rationality isn't an alternative either. The problems of metaphysical and religious knowledge are unsolvable or I should say humans cannot solve them. How does that saying Those who say it can't be done shouldn't interrupt those who are doing it. Jim Have you washed your brain today\""
      ]
     },
     "execution_count": 54,
     "metadata": {},
     "output_type": "execute_result"
    }
   ],
   "source": [
    "pattern_8=r'\\'ve'\n",
    "text7=re.sub(pattern_8,' have',text6,flags=re.M|re.I)\n",
    "text7"
   ]
  },
  {
   "cell_type": "code",
   "execution_count": 55,
   "metadata": {},
   "outputs": [
    {
     "data": {
      "text/plain": [
       "\" In article I have said 100 times that there is no alternative that should think you might have caught on by now. And there is no alternative but the point is rationality isn't an alternative either. The problems of metaphysical and religious knowledge are unsolvable or I should say humans cannot solve them. How does that saying Those who say it can not be done shouldn't interrupt those who are doing it. Jim Have you washed your brain today\""
      ]
     },
     "execution_count": 55,
     "metadata": {},
     "output_type": "execute_result"
    }
   ],
   "source": [
    "pattern_9=r'can\\'t'\n",
    "text8=re.sub(pattern_9,'can not',text7,flags=re.M|re.I)\n",
    "text8"
   ]
  },
  {
   "cell_type": "code",
   "execution_count": null,
   "metadata": {},
   "outputs": [],
   "source": []
  },
  {
   "cell_type": "code",
   "execution_count": 56,
   "metadata": {},
   "outputs": [
    {
     "data": {
      "text/plain": [
       "\" In article I have said 100 times that there is no alternative that should think you might have caught on by now. And there is no alternative but the point is rationality isn't an alternative either. The problems of metaphysical and religious knowledge are unsolvable or I should say humans cannot solve them. How does that saying Those who say it can not be done shouldn't interrupt those who are doing it. Jim Have you washed your brain today\""
      ]
     },
     "execution_count": 56,
     "metadata": {},
     "output_type": "execute_result"
    }
   ],
   "source": [
    "'''Eg: can't -> can not, 's -> is, i've -> i have, i'm -> i am, you're -> you are, i'll --> i will \n",
    "'''\n",
    "pattern_10=r'\\'s'\n",
    "text9=re.sub(pattern_10,'is',text8,flags=re.M|re.I)\n",
    "text9"
   ]
  },
  {
   "cell_type": "code",
   "execution_count": 57,
   "metadata": {},
   "outputs": [
    {
     "data": {
      "text/plain": [
       "\" In article I have said 100 times that there is no alternative that should think you might have caught on by now. And there is no alternative but the point is rationality isn't an alternative either. The problems of metaphysical and religious knowledge are unsolvable or I should say humans cannot solve them. How does that saying Those who say it can not be done shouldn't interrupt those who are doing it. Jim Have you washed your brain today\""
      ]
     },
     "execution_count": 57,
     "metadata": {},
     "output_type": "execute_result"
    }
   ],
   "source": [
    "pattern_11=r'i\\'ve'\n",
    "text10=re.sub(pattern_11,'have',text9,flags=re.M|re.I)\n",
    "text10"
   ]
  },
  {
   "cell_type": "code",
   "execution_count": 58,
   "metadata": {},
   "outputs": [
    {
     "data": {
      "text/plain": [
       "\" In article I have said 100 times that there is no alternative that should think you might have caught on by now. And there is no alternative but the point is rationality isn't an alternative either. The problems of metaphysical and religious knowledge are unsolvable or I should say humans cannot solve them. How does that saying Those who say it can not be done shouldn't interrupt those who are doing it. Jim Have you washed your brain today\""
      ]
     },
     "execution_count": 58,
     "metadata": {},
     "output_type": "execute_result"
    }
   ],
   "source": [
    "pattern_11=r'i\\'m'\n",
    "text10=re.sub(pattern_11,'i am',text9,flags=re.M|re.I)\n",
    "text10"
   ]
  },
  {
   "cell_type": "code",
   "execution_count": 59,
   "metadata": {},
   "outputs": [
    {
     "data": {
      "text/plain": [
       "\" In article I have said 100 times that there is no alternative that should think you might have caught on by now. And there is no alternative but the point is rationality isn't an alternative either. The problems of metaphysical and religious knowledge are unsolvable or I should say humans cannot solve them. How does that saying Those who say it can not be done shouldn't interrupt those who are doing it. Jim Have you washed your brain today\""
      ]
     },
     "execution_count": 59,
     "metadata": {},
     "output_type": "execute_result"
    }
   ],
   "source": [
    "pattern_11=r'you\\'re'\n",
    "text10=re.sub(pattern_11,'you are',text9,flags=re.M|re.I)\n",
    "text10"
   ]
  },
  {
   "cell_type": "code",
   "execution_count": null,
   "metadata": {},
   "outputs": [],
   "source": []
  },
  {
   "cell_type": "code",
   "execution_count": 63,
   "metadata": {},
   "outputs": [
    {
     "data": {
      "text/plain": [
       "\" In article I have said  times that there is no alternative that should think you might have caught on by now. And there is no alternative but the point is rationality isn't an alternative either. The problems of metaphysical and religious knowledge are unsolvable or I should say humans cannot solve them. How does that saying Those who say it can not be done shouldn't interrupt those who are doing it. Jim Have you washed your brain today\""
      ]
     },
     "execution_count": 63,
     "metadata": {},
     "output_type": "execute_result"
    }
   ],
   "source": [
    "pattern_12=r'[0-9]+'\n",
    "text11=re.sub(pattern_12,'',text10,flags=re.M|re.I)\n",
    "text11"
   ]
  },
  {
   "cell_type": "code",
   "execution_count": 73,
   "metadata": {},
   "outputs": [
    {
     "ename": "NameError",
     "evalue": "name 'text11' is not defined",
     "output_type": "error",
     "traceback": [
      "\u001b[1;31m---------------------------------------------------------------------------\u001b[0m",
      "\u001b[1;31mNameError\u001b[0m                                 Traceback (most recent call last)",
      "\u001b[1;32m<ipython-input-73-6009ec06783e>\u001b[0m in \u001b[0;36m<module>\u001b[1;34m()\u001b[0m\n\u001b[1;32m----> 1\u001b[1;33m \u001b[0mtokens\u001b[0m\u001b[1;33m=\u001b[0m\u001b[0mnltk\u001b[0m\u001b[1;33m.\u001b[0m\u001b[0mword_tokenize\u001b[0m\u001b[1;33m(\u001b[0m\u001b[0mtext11\u001b[0m\u001b[1;33m)\u001b[0m\u001b[1;33m\u001b[0m\u001b[0m\n\u001b[0m\u001b[0;32m      2\u001b[0m \u001b[0mpos\u001b[0m\u001b[1;33m=\u001b[0m\u001b[0mnltk\u001b[0m\u001b[1;33m.\u001b[0m\u001b[0mpos_tag\u001b[0m\u001b[1;33m(\u001b[0m\u001b[0mtokens\u001b[0m\u001b[1;33m)\u001b[0m\u001b[1;33m\u001b[0m\u001b[0m\n\u001b[0;32m      3\u001b[0m \u001b[0mchunks\u001b[0m\u001b[1;33m=\u001b[0m\u001b[0mne_chunk\u001b[0m\u001b[1;33m(\u001b[0m\u001b[0mpos\u001b[0m\u001b[1;33m,\u001b[0m \u001b[0mbinary\u001b[0m\u001b[1;33m=\u001b[0m\u001b[1;32mFalse\u001b[0m\u001b[1;33m)\u001b[0m\u001b[1;33m\u001b[0m\u001b[0m\n\u001b[0;32m      4\u001b[0m \u001b[1;33m\u001b[0m\u001b[0m\n\u001b[0;32m      5\u001b[0m \u001b[0mnamed_entities\u001b[0m\u001b[1;33m=\u001b[0m\u001b[1;33m[\u001b[0m\u001b[1;33m]\u001b[0m\u001b[1;33m\u001b[0m\u001b[0m\n",
      "\u001b[1;31mNameError\u001b[0m: name 'text11' is not defined"
     ]
    }
   ],
   "source": [
    "tokens=nltk.word_tokenize(text11)\n",
    "pos=nltk.pos_tag(tokens)\n",
    "chunks=ne_chunk(pos, binary=False)\n",
    "\n",
    "named_entities=[]\n",
    "\n",
    "for t in chunks.subtrees():\n",
    "    if t.label() == 'PERSON':\n",
    "        named_entities.append(list(t))\n",
    "        \n",
    "for entity in named_entities:\n",
    "    word=[entity[x][0] for x in range(len(entity))]\n",
    "    pattern=str(' '.join(word))\n",
    "    text11=re.sub(pattern,'',text11)\n",
    "    \n",
    "\n",
    "for t in chunks.subtrees():\n",
    "    if t.label() == 'GPE':\n",
    "        named_entities.append(list(t))\n",
    "        \n",
    "for entity in named_entities:\n",
    "    word=[entity[x][0] for x in range(len(entity))]\n",
    "    pattern=str(' '.join(word))\n",
    "    text11=re.sub(pattern,'_'.join(word),text11)\n",
    "    \n",
    "print(text11)"
   ]
  },
  {
   "cell_type": "code",
   "execution_count": null,
   "metadata": {},
   "outputs": [],
   "source": [
    "'''After doing above points, we observed there might be few word's like\n",
    "  \"_word_\" (i.e starting and ending with the _), \"_word\" (i.e starting with the _),\n",
    "  \"word_\" (i.e ending with the _) remove the _ from these type of words. \n",
    "\n",
    "15.  We also observed some words like  \"OneLetter_word\"- eg: d_berlin, \n",
    "\"TwoLetters_word\" - eg: dr_berlin , in these words we remove the \"OneLetter_\" (d_berlin ==> berlin) and \n",
    "\"TwoLetters_\" (de_berlin ==> berlin). i.e remove the words \n",
    "which are length less than or equal to 2 after spliiting those words by \"_\". \n",
    "\n",
    "16. Convert all the words into lower case and lowe case \n",
    "and remove the words which are greater than or equal to 15 or less than or equal to 2.\n",
    "\n",
    "17. replace all the words except \"A-Za-z_\" with space. \n",
    "\n",
    "18. Now You got Preprocessed Text, email, subject. create a dataframe with those. \n",
    "Below are the columns of the df. '''"
   ]
  },
  {
   "cell_type": "code",
   "execution_count": 153,
   "metadata": {},
   "outputs": [
    {
     "data": {
      "text/plain": [
       "'hello how are_ you is br_hehe'"
      ]
     },
     "execution_count": 153,
     "metadata": {},
     "output_type": "execute_result"
    }
   ],
   "source": [
    "pattern_12=r'_[a-zA-Z]+_'\n",
    "text11='_hello_ how are_ you _is_ br_hehe'\n",
    "values=re.findall(pattern_12,text11,flags=re.M|re.I)\n",
    "for x in values:\n",
    "    i=x.split('_')\n",
    "    i=[x for x in i if len(x)>=2]\n",
    "    for word in i:\n",
    "        text11=re.sub(x,word,text11,flags=re.M|re.I)\n",
    "text11"
   ]
  },
  {
   "cell_type": "code",
   "execution_count": 154,
   "metadata": {},
   "outputs": [
    {
     "data": {
      "text/plain": [
       "'hello how are you is br_hehe'"
      ]
     },
     "execution_count": 154,
     "metadata": {},
     "output_type": "execute_result"
    }
   ],
   "source": [
    "pattern_12=r'[a-zA-Z]+_ '\n",
    "values=re.findall(pattern_12,text11,flags=re.M|re.I)\n",
    "for x in values:\n",
    "    i=x.split('_')\n",
    "    i=[x for x in i if len(x)>=2]\n",
    "    for word in i:\n",
    "        text11=re.sub(x,word+' ',text11,flags=re.M|re.I)\n",
    "text11"
   ]
  },
  {
   "cell_type": "code",
   "execution_count": 155,
   "metadata": {},
   "outputs": [
    {
     "data": {
      "text/plain": [
       "'hello how are you is hehe '"
      ]
     },
     "execution_count": 155,
     "metadata": {},
     "output_type": "execute_result"
    }
   ],
   "source": [
    "pattern_12=r'[a-zA-z]{0,2}_[a-zA-Z]+'\n",
    "values=re.findall(pattern_12,text11,flags=re.M|re.I)\n",
    "for x in values:\n",
    "    i=x.split('_')\n",
    "    i=[x for x in i if len(x)>2]\n",
    "    for word in i:\n",
    "        text11=re.sub(x,word+' ',text11,flags=re.M|re.I)\n",
    "text11=text11.lower()\n",
    "text11"
   ]
  },
  {
   "cell_type": "code",
   "execution_count": 135,
   "metadata": {},
   "outputs": [
    {
     "data": {
      "text/plain": [
       "'hello how are you is hehe '"
      ]
     },
     "execution_count": 135,
     "metadata": {},
     "output_type": "execute_result"
    }
   ],
   "source": [
    "text11='hello how are you is hehe '\n",
    "\n",
    "pattern_12=r'\\b\\w{1}\\b|\\w{15,}'\n",
    "text11=re.sub(pattern_12,'',text11,flags=re.M|re.I)\n",
    "text11"
   ]
  },
  {
   "cell_type": "code",
   "execution_count": 138,
   "metadata": {},
   "outputs": [
    {
     "data": {
      "text/plain": [
       "'hello how are you is hehe '"
      ]
     },
     "execution_count": 138,
     "metadata": {},
     "output_type": "execute_result"
    }
   ],
   "source": [
    "text11='hello how are you is hehe '\n",
    "\n",
    "pattern_12=r'[^a-zA-Z_]'\n",
    "text11=re.sub(pattern_12,' ',text11,flags=re.M|re.I)\n",
    "text11"
   ]
  },
  {
   "cell_type": "code",
   "execution_count": 93,
   "metadata": {},
   "outputs": [
    {
     "data": {
      "text/plain": [
       "[' ', ' ']"
      ]
     },
     "execution_count": 93,
     "metadata": {},
     "output_type": "execute_result"
    }
   ],
   "source": [
    "def preprocess(Input_Text):\n",
    "    \"\"\"Do all the Preprocessing as shown above and\n",
    "    return a tuple contain preprocess_email,preprocess_subject,preprocess_text for that Text_data\"\"\"\n",
    "    \n",
    "    return (list_of_preproessed_emails,subject,text)"
   ]
  }
 ],
 "metadata": {
  "colab": {
   "collapsed_sections": [],
   "name": "Text Classification Assignment.ipynb",
   "provenance": []
  },
  "kernelspec": {
   "display_name": "Python 3",
   "language": "python",
   "name": "python3"
  },
  "language_info": {
   "codemirror_mode": {
    "name": "ipython",
    "version": 3
   },
   "file_extension": ".py",
   "mimetype": "text/x-python",
   "name": "python",
   "nbconvert_exporter": "python",
   "pygments_lexer": "ipython3",
   "version": "3.6.5"
  }
 },
 "nbformat": 4,
 "nbformat_minor": 1
}
