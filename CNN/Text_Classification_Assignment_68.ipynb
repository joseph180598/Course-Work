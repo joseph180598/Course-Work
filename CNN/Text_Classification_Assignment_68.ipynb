{
 "cells": [
  {
   "cell_type": "markdown",
   "metadata": {
    "id": "mDMgSstPYv0P"
   },
   "source": [
    "# Text Classification:\n",
    "\n",
    "## Data\n",
    "<pre>\n",
    "1. we have total of 20 types of documents(Text files) and total 18828 documents(text files).\n",
    "2. You can download data from this <a href='https://drive.google.com/open?id=1rxD15nyeIPIAZ-J2VYPrDRZI66-TBWvM'>link</a>, in that you will get documents.rar folder. <br>If you unzip that, you will get total of 18828 documnets. document name is defined as'ClassLabel_DocumentNumberInThatLabel'. \n",
    "so from document name, you can extract the label for that document.\n",
    "4. Now our problem is to classify all the documents into any one of the class.\n",
    "5. Below we provided count plot of all the labels in our data. \n",
    "</pre>"
   ]
  },
  {
   "cell_type": "code",
   "execution_count": 2,
   "metadata": {
    "id": "64U9NzWFYv0V"
   },
   "outputs": [],
   "source": [
    "### count plot of all the class labels. \n",
    "import os\n",
    "import seaborn as sns\n",
    "import tensorflow\n",
    "import matplotlib.pyplot as plt\n",
    "import nltk\n",
    "from nltk.chunk import ne_chunk\n",
    "from tqdm import tqdm\n",
    "import codecs\n",
    "import re\n",
    "import pickle\n",
    "import pandas as pd\n",
    "import numpy as np\n",
    "from sklearn.model_selection import train_test_split\n",
    "import tensorflow as tf\n",
    "%load_ext tensorboard\n",
    "import tensorflow_addons as tfa\n"
   ]
  },
  {
   "cell_type": "code",
   "execution_count": 1,
   "metadata": {
    "colab": {
     "base_uri": "https://localhost:8080/"
    },
    "id": "rxwha_caXp2u",
    "outputId": "cc2da3b8-60db-424b-c8eb-dd2b4c360a68"
   },
   "outputs": [],
   "source": [
    "#!pip install tensorflow_addons"
   ]
  },
  {
   "cell_type": "code",
   "execution_count": null,
   "metadata": {
    "id": "3I4l1s98XeBX"
   },
   "outputs": [],
   "source": []
  },
  {
   "cell_type": "code",
   "execution_count": 3,
   "metadata": {
    "colab": {
     "base_uri": "https://localhost:8080/"
    },
    "id": "ckB6VzXDXexL",
    "outputId": "b5d013e8-548e-4915-ae9d-0fc687590339"
   },
   "outputs": [
    {
     "name": "stdout",
     "output_type": "stream",
     "text": [
      "Mounted at /content/drive\n"
     ]
    }
   ],
   "source": [
    "from google.colab import drive\n",
    "drive.mount('/content/drive')"
   ]
  },
  {
   "cell_type": "markdown",
   "metadata": {
    "id": "2mK4TJOFYv0h"
   },
   "source": [
    "## Assignment:"
   ]
  },
  {
   "cell_type": "markdown",
   "metadata": {
    "id": "VlqYFVI3Yv0k"
   },
   "source": [
    "#### sample document\n",
    "<pre>\n",
    "<font color='blue'>\n",
    "Subject: A word of advice\n",
    "From: jcopelan@nyx.cs.du.edu (The One and Only)\n",
    "\n",
    "In article < 65882@mimsy.umd.edu > mangoe@cs.umd.edu (Charley Wingate) writes:\n",
    ">\n",
    ">I've said 100 times that there is no \"alternative\" that should think you\n",
    ">might have caught on by now.  And there is no \"alternative\", but the point\n",
    ">is, \"rationality\" isn't an alternative either.  The problems of metaphysical\n",
    ">and religious knowledge are unsolvable-- or I should say, humans cannot\n",
    ">solve them.\n",
    "\n",
    "How does that saying go: Those who say it can't be done shouldn't interrupt\n",
    "those who are doing it.\n",
    "\n",
    "Jim\n",
    "--\n",
    "Have you washed your brain today?\n",
    "</font>\n",
    "</pre>"
   ]
  },
  {
   "cell_type": "markdown",
   "metadata": {
    "id": "KAR5HoR1Yv0m"
   },
   "source": [
    "### Preprocessing:\n",
    "<pre>\n",
    "useful links: <a href='http://www.pyregex.com/'>http://www.pyregex.com/</a>\n",
    "\n",
    "<font color='blue'><b>1.</b></font> Find all emails in the document and then get the text after the \"@\". and then split those texts by '.' \n",
    "after that remove the words whose length is less than or equal to 2 and also remove'com' word and then combine those words by space. \n",
    "In one doc, if we have 2 or more mails, get all.\n",
    "<b>Eg:[test@dm1.d.com, test2@dm2.dm3.com]-->[dm1.d.com, dm3.dm4.com]-->[dm1,d,com,dm2,dm3,com]-->[dm1,dm2,dm3]-->\"dm1 dm2 dm3\" </b> \n",
    "append all those into one list/array. ( This will give length of 18828 sentences i.e one list for each of the document). \n",
    "Some sample output was shown below. \n",
    "\n",
    "> In the above sample document there are emails [jcopelan@nyx.cs.du.edu, 65882@mimsy.umd.edu, mangoe@cs.umd.edu]\n",
    "\n",
    "preprocessing:\n",
    "[jcopelan@nyx.cs.du.edu, 65882@mimsy.umd.edu, mangoe@cs.umd.edu] ==> [nyx cs du edu mimsy umd edu cs umd edu] ==> \n",
    "[nyx edu mimsy umd edu umd edu]\n",
    "\n",
    "<font color='blue'><b>2.</b></font> Replace all the emails by space in the original text. \n",
    "</pre>"
   ]
  },
  {
   "cell_type": "code",
   "execution_count": null,
   "metadata": {
    "id": "KavKDD9FYv0p",
    "outputId": "0b87ab7b-46df-4995-eaca-4f5831ad223e"
   },
   "outputs": [
    {
     "data": {
      "text/plain": [
       "array(['juliet caltech edu',\n",
       "       'coding bchs edu newsgate sps mot austlcm sps mot austlcm sps mot com  dna bchs edu',\n",
       "       'batman bmd trw', ..., 'rbdc wsnc org dscomsa desy zeus  desy',\n",
       "       'rbdc wsnc org morrow stanford edu pangea Stanford EDU',\n",
       "       'rbdc wsnc org apollo apollo'], dtype=object)"
      ]
     },
     "execution_count": 28,
     "metadata": {
      "tags": []
     },
     "output_type": "execute_result"
    }
   ],
   "source": [
    "# we have collected all emails and preprocessed them, this is sample output\n",
    "preprocessed_email"
   ]
  },
  {
   "cell_type": "code",
   "execution_count": null,
   "metadata": {
    "id": "obReqs55Yv0v",
    "outputId": "10770414-9be0-4d63-9587-5363a8c10c4d"
   },
   "outputs": [
    {
     "data": {
      "text/plain": [
       "18828"
      ]
     },
     "execution_count": 29,
     "metadata": {
      "tags": []
     },
     "output_type": "execute_result"
    }
   ],
   "source": [
    "len(preprocessed_email)"
   ]
  },
  {
   "cell_type": "markdown",
   "metadata": {
    "id": "zIovFDQzYv03"
   },
   "source": [
    "<pre>\n",
    "<font color='blue'><b>3.</b></font> Get subject of the text i.e. get the total lines where \"Subject:\" occur and remove \n",
    "the word which are before the \":\" remove the newlines, tabs, punctuations, any special chars.\n",
    "<b>Eg: if we have sentance like \"Subject: Re: Gospel Dating @ \\r\\r\\n\" --> You have to get \"Gospel Dating\"</b> \n",
    "Save all this data into another list/array. \n",
    "\n",
    "<font color='blue'><b>4.</b></font> After you store it in the list, Replace those sentances in original text by space.\n",
    "\n",
    "<font color='blue'><b>5.</b></font> Delete all the sentances where sentence starts with <b>\"Write to:\"</b> or <b>\"From:\"</b>.\n",
    "> In the above sample document check the 2nd line, we should remove that\n",
    "\n",
    "<font color='blue'><b>6.</b></font> Delete all the tags like \"< anyword >\"\n",
    "> In the above sample document check the 4nd line, we should remove that \"< 65882@mimsy.umd.edu >\"\n",
    "\n",
    "\n",
    "<font color='blue'><b>7.</b></font> Delete all the data which are present in the brackets. \n",
    "In many text data, we observed that, they maintained the explanation of sentence \n",
    "or translation of sentence to another language in brackets so remove all those.\n",
    "<b>Eg: \"AAIC-The course that gets you HIRED(AAIC - Der Kurs, der Sie anstellt)\" --> \"AAIC-The course that gets you HIRED\"</b>\n",
    "\n",
    "> In the above sample document check the 4nd line, we should remove that \"(Charley Wingate)\"\n",
    "\n",
    "\n",
    "<font color='blue'><b>8.</b></font> Remove all the newlines('\\n'), tabs('\\t'), \"-\", \"\\\".\n",
    "\n",
    "<font color='blue'><b>9.</b></font> Remove all the words which ends with <b>\":\"</b>.\n",
    "<b>Eg: \"Anyword:\"</b>\n",
    "> In the above sample document check the 4nd line, we should remove that \"writes:\"\n",
    "\n",
    "\n",
    "<font color='blue'><b>10.</b></font> Decontractions, replace words like below to full words. \n",
    "please check the donors choose preprocessing for this \n",
    "<b>Eg: can't -> can not, 's -> is, i've -> i have, i'm -> i am, you're -> you are, i'll --> i will </b>\n",
    "\n",
    "<b> There is no order to do point 6 to 10. but you have to get final output correctly</b>\n",
    "\n",
    "<font color='blue'><b>11.</b></font> Do chunking on the text you have after above preprocessing. \n",
    "Text chunking, also referred to as shallow parsing, is a task that \n",
    "follows Part-Of-Speech Tagging and that adds more structure to the sentence.\n",
    "So it combines the some phrases, named entities into single word.\n",
    "So after that combine all those phrases/named entities by separating <b>\"_\"</b>. \n",
    "And remove the phrases/named entities if that is a \"Person\". \n",
    "You can use <b>nltk.ne_chunk</b> to get these. \n",
    "Below we have given one example. please go through it. \n",
    "\n",
    "useful links: \n",
    "<a href='https://www.nltk.org/book/ch07.html'>https://www.nltk.org/book/ch07.html</a>\n",
    "<a href='https://stackoverflow.com/a/31837224/4084039'>https://stackoverflow.com/a/31837224/4084039</a>\n",
    "<a href='http://www.nltk.org/howto/tree.html'>http://www.nltk.org/howto/tree.html</a>\n",
    "<a href='https://stackoverflow.com/a/44294377/4084039'>https://stackoverflow.com/a/44294377/4084039</a>\n",
    "</pre>"
   ]
  },
  {
   "cell_type": "code",
   "execution_count": null,
   "metadata": {
    "id": "2lAaKQ6EYv04",
    "outputId": "53b66a94-acef-4002-e51c-002bde4178b4"
   },
   "outputs": [
    {
     "name": "stdout",
     "output_type": "stream",
     "text": [
      "i am living in the New York --> [('i', 'NN'), ('am', 'VBP'), ('living', 'VBG'), ('in', 'IN'), ('the', 'DT'), Tree('GPE', [('New', 'NNP'), ('York', 'NNP')])]\n",
      " \n",
      "--------------------------------------------------\n",
      " \n",
      "My name is Srikanth Varma --> [('My', 'PRP$'), ('name', 'NN'), ('is', 'VBZ'), Tree('PERSON', [('Srikanth', 'NNP'), ('Varma', 'NNP')])]\n"
     ]
    }
   ],
   "source": [
    "#i am living in the New York\n",
    "print(\"i am living in the New York -->\", list(chunks))\n",
    "print(\" \")\n",
    "print(\"-\"*50)\n",
    "print(\" \")\n",
    "#My name is Srikanth Varma\n",
    "print(\"My name is Srikanth Varma -->\", list(chunks1))"
   ]
  },
  {
   "cell_type": "markdown",
   "metadata": {
    "id": "XV8gzLUjYv0-"
   },
   "source": [
    "<pre>We did chunking for above two lines and then We got one list where each word is mapped to a \n",
    "POS(parts of speech) and also if you see \"New York\" and \"Srikanth Varma\", \n",
    "they got combined and represented as a tree and \"New York\" was referred as \"GPE\" and \"Srikanth Varma\" was referred as \"PERSON\". \n",
    "so now you have to Combine the \"New York\" with <b>\"_\"</b> i.e \"New_York\"\n",
    "and remove the \"Srikanth Varma\" from the above sentence because it is a person.</pre>"
   ]
  },
  {
   "cell_type": "markdown",
   "metadata": {
    "id": "VpaC-KF3Yv1A"
   },
   "source": [
    "<pre>\n",
    "<font color='blue'><b>13.</b></font> Replace all the digits with space i.e delete all the digits. \n",
    "> In the above sample document, the 6th line have digit 100, so we have to remove that.\n",
    "\n",
    "<font color='blue'><b>14.</b></font> After doing above points, we observed there might be few word's like\n",
    " <b> \"_word_\" (i.e starting and ending with the _), \"_word\" (i.e starting with the _),\n",
    "  \"word_\" (i.e ending with the _)</b> remove the <b>_</b> from these type of words. \n",
    "\n",
    "<font color='blue'><b>15.</b></font>  We also observed some words like <b> \"OneLetter_word\"- eg: d_berlin, \n",
    "\"TwoLetters_word\" - eg: dr_berlin </b>, in these words we remove the \"OneLetter_\" (d_berlin ==> berlin) and \n",
    "\"TwoLetters_\" (de_berlin ==> berlin). i.e remove the words \n",
    "which are length less than or equal to 2 after spliiting those words by \"_\". \n",
    "\n",
    "<font color='blue'><b>16.</b></font> Convert all the words into lower case and lowe case \n",
    "and remove the words which are greater than or equal to 15 or less than or equal to 2.\n",
    "\n",
    "<font color='blue'><b>17.</b></font> replace all the words except \"A-Za-z_\" with space. \n",
    "\n",
    "<font color='blue'><b>18.</b></font> Now You got Preprocessed Text, email, subject. create a dataframe with those. \n",
    "Below are the columns of the df. \n",
    "</pre>"
   ]
  },
  {
   "cell_type": "code",
   "execution_count": null,
   "metadata": {
    "id": "hB43OGEfYv1C",
    "outputId": "945bc8a4-1f99-4410-94c8-c776a405b5f0"
   },
   "outputs": [
    {
     "name": "stdout",
     "output_type": "stream",
     "text": [
      "Index(['text', 'class', 'preprocessed_text', 'preprocessed_subject',\n",
      "       'preprocessed_emails'],\n",
      "      dtype='object')\n"
     ]
    }
   ],
   "source": [
    "data.columns"
   ]
  },
  {
   "cell_type": "code",
   "execution_count": null,
   "metadata": {
    "id": "AM6A19xFYv1I",
    "outputId": "9de13fa8-6604-49a2-8013-6b22f0a256a8"
   },
   "outputs": [
    {
     "name": "stdout",
     "output_type": "stream",
     "text": [
      "text                    From: arc1@ukc.ac.uk (Tony Curtis)\\r\\r\\r\\nSubj...\n",
      "class                                                         alt.atheism\n",
      "preprocessed_text       said re is article if followed the quoting rig...\n",
      "preprocessed_subject                                christian morality is\n",
      "preprocessed_emails                                   ukc mac macalstr edu\n",
      "Name: 567, dtype: object\n"
     ]
    }
   ],
   "source": [
    "data.iloc[400]"
   ]
  },
  {
   "cell_type": "markdown",
   "metadata": {
    "id": "rfWUeIN1Yv1N"
   },
   "source": [
    "### To get above mentioned data frame --> Try to Write Total Preprocessing steps in One Function Named Preprocess as below. "
   ]
  },
  {
   "cell_type": "code",
   "execution_count": null,
   "metadata": {
    "id": "uEGEHTNQYv1N"
   },
   "outputs": [],
   "source": [
    "def preprocess(Input_Text):\n",
    "    \"\"\"Do all the Preprocessing as shown above and\n",
    "    return a tuple contain preprocess_email,preprocess_subject,preprocess_text for that Text_data\"\"\"\n",
    "    \n",
    "    pattern=r'[a-zA-z\\.]?[[a-zA-z\\0-9]+@+[a-zA-z\\.]{2,}'\n",
    "    email_id=re.findall(pattern, Input_Text, flags=re.M|re.I)\n",
    "    \n",
    "    email_file=[]\n",
    "    for ids in email_id:\n",
    "        e_ids=ids.split('@')[1]\n",
    "        #print(e_ids)\n",
    "        domain=e_ids.split('.')\n",
    "        domain=' '.join(list(d for d in domain if len(d)>=2))\n",
    "        email_file.append(domain)\n",
    "     \n",
    "    email_file=' '.join(email_file)\n",
    "    #print(email_file)\n",
    "    \n",
    "    pattern=r'[a-zA-z\\.]?[[a-zA-z\\0-9]+@+[a-zA-z\\.]{2,}'\n",
    "    Input_Text=re.sub(pattern,' ',Input_Text)\n",
    "    \n",
    "    #Input_Text\n",
    "    \n",
    "    #Extracting the subject>Removing any word before :>Then remove any character other than a-zA-Z\n",
    "    pattern_1=r'subject:.+'\n",
    "    data=re.findall(pattern_1, Input_Text, flags=re.M|re.I)\n",
    "    pattern_2=r'[a-zA-Z]+:'\n",
    "    text=re.sub(pattern_2,'',data[0])\n",
    "    pattern_3=r'[^a-zA-z]'\n",
    "    text=re.sub(pattern_3,' ',text,flags=re.M|re.I)\n",
    "    \n",
    "    subject=text\n",
    "    \n",
    "    #Removing the whole content from the text\n",
    "    pattern_1=r'(subject:.+)|(From:.+)|(Write to:.+)'\n",
    "    Input_Text=re.sub(pattern_1,' ',Input_Text)\n",
    "    \n",
    "    pattern_3=r'(<.+>)|(\\(.+\\))|(\\(.+\\))'\n",
    "    Input_Text=re.sub(pattern_3,'',Input_Text,flags=re.M|re.I)\n",
    "    \n",
    "    pattern_4=r'\\b[a-z]+:'\n",
    "    Input_Text=re.sub(pattern_4,'',Input_Text,flags=re.M|re.I)\n",
    "    \n",
    "    pattern_5=r'[\\r\\n]|[\\r\\t]'\n",
    "    Input_Text=re.sub(pattern_5,' ',Input_Text,flags=re.M|re.I)\n",
    "    \n",
    "    pattern_6=r'>+|\\\\+|-+|\\\\|\\\"|,|\\?'\n",
    "    Input_Text=re.sub(pattern_6,'',Input_Text,flags=re.M|re.I)\n",
    "    \n",
    "    pattern_8=r'\\'ve'\n",
    "    Input_Text=re.sub(pattern_8,' have',Input_Text,flags=re.M|re.I)\n",
    "\n",
    "    pattern_9=r'can\\'t'\n",
    "    Input_Text=re.sub(pattern_9,'can not',Input_Text,flags=re.M|re.I)\n",
    "\n",
    "    pattern_10=r'\\'s'\n",
    "    Input_Text=re.sub(pattern_10,'is',Input_Text,flags=re.M|re.I)\n",
    "\n",
    "    pattern_11=r'i\\'ve'\n",
    "    Input_Text=re.sub(pattern_11,'have',Input_Text,flags=re.M|re.I)\n",
    "\n",
    "    pattern_11=r'i\\'m'\n",
    "    Input_Text=re.sub(pattern_11,'i am',Input_Text,flags=re.M|re.I)\n",
    "\n",
    "    pattern_11=r'you\\'re'\n",
    "    Input_Text=re.sub(pattern_11,'you are',Input_Text,flags=re.M|re.I)\n",
    "\n",
    "    tokens=nltk.word_tokenize(Input_Text)\n",
    "    pos=nltk.pos_tag(tokens)\n",
    "    chunks=ne_chunk(pos, binary=False)\n",
    "\n",
    "    named_entities=[]\n",
    "\n",
    "    for t in chunks.subtrees():\n",
    "        if t.label() == 'PERSON':\n",
    "            named_entities.append(list(t))\n",
    "        \n",
    "    for entity in named_entities:\n",
    "        word=[entity[x][0] for x in range(len(entity))]\n",
    "        pattern=re.escape(str(' '.join(word)))\n",
    "        #print(pattern)\n",
    "        Input_Text=re.sub(pattern,'',Input_Text)\n",
    "    \n",
    "\n",
    "    for t in chunks.subtrees():\n",
    "        if t.label() == 'GPE':\n",
    "            named_entities.append(list(t))\n",
    "        \n",
    "    for entity in named_entities:\n",
    "        word=[entity[x][0] for x in range(len(entity))]\n",
    "        pattern=re.escape(str(' '.join(word)))\n",
    "        Input_Text=re.sub(pattern,'_'.join(word),Input_Text)\n",
    "    \n",
    "    \n",
    "    pattern_12=r'_[a-zA-Z]+_'\n",
    "    values=re.findall(pattern_12,Input_Text,flags=re.M|re.I)\n",
    "    for x in values:\n",
    "        i=x.split('_')\n",
    "        i=[x for x in i if len(x)>=2]\n",
    "        for word in i:\n",
    "            Input_Text=re.sub(x,word,Input_Text,flags=re.M|re.I)\n",
    "    \n",
    "    pattern_12=r'[a-zA-Z]+_ '\n",
    "    values=re.findall(pattern_12,Input_Text,flags=re.M|re.I)\n",
    "    for x in values:\n",
    "        i=x.split('_')\n",
    "        i=[x for x in i if len(x)>=2]\n",
    "        for word in i:\n",
    "            Input_Text=re.sub(x,word+' ',Input_Text,flags=re.M|re.I)\n",
    "         \n",
    "    pattern_12=r'[a-zA-Z]{0,2}_[a-zA-Z]+'\n",
    "    values=re.findall(pattern_12,Input_Text,flags=re.M|re.I)\n",
    "    for x in values:\n",
    "        i=x.split('_')\n",
    "        i=[x for x in i if len(x)>2]\n",
    "        for word in i:\n",
    "            if len(i)==0:\n",
    "                Input_Text=re.sub(x,' ',text,flags=re.M|re.I)\n",
    "            else:\n",
    "                Input_Text=re.sub(x,str(word+' '),text,flags=re.M|re.I)\n",
    "    \n",
    "    pattern_12=r'(\\b\\w{1}\\b)|(\\w{15,})'\n",
    "    Input_Text=re.sub(pattern_12,'',Input_Text,flags=re.M|re.I)\n",
    "\n",
    "    Input_Text=Input_Text.lower()\n",
    "\n",
    "    pattern_12=r'[^a-zA-Z_]'\n",
    "    Input_Text=re.sub(pattern_12,' ',Input_Text,flags=re.M|re.I)\n",
    "    \n",
    "    pattern_7=r' +'\n",
    "    Input_Text=re.sub(pattern_7,' ',Input_Text,flags=re.M|re.I)\n",
    "    \n",
    "    text=Input_Text\n",
    "    return (email_file,subject,text)"
   ]
  },
  {
   "cell_type": "code",
   "execution_count": null,
   "metadata": {
    "id": "tlriZdhtXL2U",
    "outputId": "4058c44e-56b3-42f1-962d-fd745883e4df"
   },
   "outputs": [
    {
     "data": {
      "text/plain": [
       "('mantis co uk netcom com mantis co uk',\n",
       " ' Alt Atheism  Atheist Resources',\n",
       " ' alt atheism atheist resources archive atheism resources resources last december atheist resources addresses of atheist organizations usa freedom from religion foundation fish bumper stickers and assorted other atheist paraphernalia are available from the freedom from religion foundation in the us evolution designs evolution designs sell the fish itis fish symbol like the ones stick on their cars but with feet and the word written inside the deluxe moulded d plastic fish is postpaid in the us ca people in the san francisco bay area can get fish from try mailing for net people who go to directly the price is per fish american atheist press aap publish various atheist books critiques of the bible lists of biblical contradictions and so on one such book the bible handbook by and american atheist press pp isbn nd edition bible contradictions absurdities atrocities immoralities contains the bible contradicts itself aap based on the king version of the bible tx prometheus books sell books including an alternate address prometheus books ny for humanism an organization promoting black secular humanism and uncovering the history of black freethought they publish quarterly newsletter aah examiner ny united kingdom rationalist press association national secular society street holloway road n ew n nl british humanist association south place ethical society lambis conduit passage conway hall wc r rh red lion square wc r rl fax the national secular society publish the freethinker monthly magazine founded in germany ibka bund der und d berlin germany ibka publish miz materialien und zur zeit politisches journal der und ibka mizvertrieb postfach d berlin germany for atheist books write ibdk bucherdienst der d hannover germany books fiction thomas disch the claus compromise short story the ultimate proof that exists all characters and events are fictitious any similarity to living or dead gods uh well walter canticle for leibowitz one gem in this post atomic doomsday novel is the monks who spent their lives copying blueprints from filling the sheets of paper with ink and leaving white lines and letters edgar pangborn atomic doomsday novel set in clerical states the church for example forbids that anyone produce describe or use any substance containing atoms philip dick wrote many philosophical and short stories and novels his stories are bizarre at times but very approachable he wrote mainly sf but he wrote about people truth and religion rather than technology although he often believed that he had met some sort of he remained sceptical amongst his novels the following are of some galactic pothealer fallible alien deity summons group of craftsmen and women to remote planet to raise giant cathedral from beneath the oceans when the deity begins to demand faith from the earthers pothealer is unable to comply polished ironic and amusing novel maze of for its description of religion valis the schizophrenic hero searches for the hidden mysteries of gnostic ity after reality is fired into his brain by pink laser beam of unknown but possibly divine origin he is accompanied by his dogmatic and dismissively atheist friend and assorted other odd characters the divine invasion invades by making young woman pregnant as she returns from another star system unfortunately she is terminally ill and must be assisted by dead man whose brain is wired to hour easy listening music margaret atwood the handmaidis tale story based on the premise that the us congress is mysteriously assassinated and quickly take charge of the nation to set it right again the book is the diary of womanis life as she tries to live under the new theocracy right to own property is revoked and their bank accounts are closed sinful luxuries are outlawed and the radio is only used for readings from the bible crimes are punished doctors who performed legal abortions in the old world are hunted down and hanged atwoodis writing style is difficult to get used to at first but the tale grows more and more chilling as it goes on various authors the bible this somewhat dull and rambling work has often been criticized however it is probably worth reading if only so that you ll know what all the fuss is about it exists in many different versions so make sure you get the one true version books nonfiction peter de rosa vicars of christ bantam press although de seems to be or even catholic this is very enlighting history of papal immoralities adulteries fallacies etc german gottes erste dunkle seite des droemerknaur michael martin philosophical justification temple university press philadelphia usa detailed and scholarly justification of atheism contains an outstanding appendix defining terminology and usage in this tendentious area argues both for negative atheism the nonbelief in the existence of god and also for positive atheism the belief in the nonexistence of god includes great refutations of the most challenging arguments for god particular attention is paid to refuting contempory theists such as and swinburne pages isbn the case against ity temple university press comprehensive critique of ity in which he considers the best contemporary defences of ity and demonstrates that they are unsupportable and or incoherent pages isbn james turner without the johns hopkins university press baltimore md usa subtitled the origins of unbelief in america examines the way in which unbelief became mainstream alternative worldview focusses on the period and while considering france and britain the emphasis is on american and particularly nengland developments neither religious history of secularization or atheism without is rather the intellectual history of the fate of single idea the belief that exists pages isbn george seldes the great thoughts antine books new york usa dictionary of quotations of different kind concentrating on statements and writings which explicitly or implicitly present the personis philosophy and worldview includes obscure opinions from many people for some popular observations traces the way in which various people expressed and twisted the idea over the centuries quite number of the quotations are derived from what of religion and views of religion pages isbn x swinburne the existence of clarendon paperbacks oxford this book is the second volume in trilogy that began with the coherence of theism in this work swinburne attempts to construct series of inductive arguments for the existence of his arguments which are somewhat tendentious and rely upon the imputation of late th century western values and aesthetics to which is supposedly as simple as can be conceived were decisively rejected in is the miracle of theism in the revised edition of the existence of swinburne includes an appendix in which he makes somewhat incoherent attempt to rebut mackie the miracle of theism oxford this volume contains comprehensive review of the principal arguments for and against the existence of it ranges from the classical philosophical positions of et al through the moral arguments of newman kant and to the recent restatements of the classical theses by and swinburne it also addresses those positions which push the concept of beyond the realm of the rational such as those of kierkegaard kung and as well as replacements for such as lelieis axiarchism the book is delight to read less formalistic and better written than works and refreshingly direct when compared with the handwaving of swinburne james haught holy an illustrated history of religious murder and madness prometheus books looks at religious persecution from ancient times to the present day and not only by library of congress catalog card number norm allen jr african american saying help send atheism index and it will mail back reply mathew ')"
      ]
     },
     "execution_count": 35,
     "metadata": {},
     "output_type": "execute_result"
    }
   ],
   "source": [
    "data=open('documents/alt.atheism_49960.txt')\n",
    "text=data.read()\n",
    "preprocess(text)\n"
   ]
  },
  {
   "cell_type": "code",
   "execution_count": null,
   "metadata": {
    "id": "2zicR_aEXL2V",
    "outputId": "01a02cba-9811-4974-ad0a-f5e68d5a00d8"
   },
   "outputs": [
    {
     "name": "stderr",
     "output_type": "stream",
     "text": [
      "100%|████████████████████████████████████████████████████████████████████████████| 18828/18828 [57:10<00:00,  5.49it/s]\n"
     ]
    }
   ],
   "source": [
    "folder=os.listdir('documents')\n",
    "\n",
    "raw_text=[]\n",
    "email_data=[]\n",
    "subject_data=[]\n",
    "processed_text=[]\n",
    "file_name=[]\n",
    "class_details=[]\n",
    "\n",
    "for file in tqdm(folder):\n",
    "    class_name=file.split('_')[0]\n",
    "    doc_name=file.split('_')[1]\n",
    "    \n",
    "    data=open('documents/'+file)\n",
    "    input_text=data.read()\n",
    "    \n",
    "    email_file,subject,final_text=preprocess(input_text)\n",
    "    \n",
    "    raw_text.append(input_text)\n",
    "    email_data.append(email_file)\n",
    "    subject_data.append(subject)\n",
    "    processed_text.append(final_text)\n",
    "    file_name.append(doc_name)\n",
    "    class_details.append(class_name)"
   ]
  },
  {
   "cell_type": "code",
   "execution_count": null,
   "metadata": {
    "id": "66K7ebaQXL2W"
   },
   "outputs": [],
   "source": [
    "final_data=[raw_text,\n",
    "email_data,\n",
    "subject_data,\n",
    "processed_text,\n",
    "file_name,\n",
    "class_details]"
   ]
  },
  {
   "cell_type": "code",
   "execution_count": 7,
   "metadata": {
    "colab": {
     "base_uri": "https://localhost:8080/",
     "height": 35
    },
    "id": "IEuCHToXXL2W",
    "outputId": "ad222094-1265-45a5-b90c-7d53a11b43c4"
   },
   "outputs": [
    {
     "data": {
      "application/vnd.google.colaboratory.intrinsic+json": {
       "type": "string"
      },
      "text/plain": [
       "\"with open('processed_data.pickle','wb') as fe_data_file:\\n     pickle.dump(final_data, fe_data_file)\""
      ]
     },
     "execution_count": 7,
     "metadata": {},
     "output_type": "execute_result"
    }
   ],
   "source": [
    "'''with open('processed_data.pickle','wb') as fe_data_file:\n",
    "     pickle.dump(final_data, fe_data_file)'''"
   ]
  },
  {
   "cell_type": "code",
   "execution_count": 4,
   "metadata": {
    "id": "SoKXkyFOX5Jq"
   },
   "outputs": [],
   "source": [
    "location='/content/drive/MyDrive/CNN Assignment/processed_data.pickle'"
   ]
  },
  {
   "cell_type": "code",
   "execution_count": 5,
   "metadata": {
    "id": "kEQgDZSLXL2W"
   },
   "outputs": [],
   "source": [
    "with open(location,'rb') as fe_data_file:\n",
    "    final_data=pickle.load(fe_data_file)"
   ]
  },
  {
   "cell_type": "code",
   "execution_count": 6,
   "metadata": {
    "id": "MapwxuZAXL2X"
   },
   "outputs": [],
   "source": [
    "raw_text=final_data[0]\n",
    "email_data=final_data[1]\n",
    "subject_data=final_data[2]\n",
    "processed_text=final_data[3]\n",
    "file_name=final_data[4]\n",
    "class_details=final_data[5]"
   ]
  },
  {
   "cell_type": "code",
   "execution_count": 7,
   "metadata": {
    "id": "XY0FXebuXL2X"
   },
   "outputs": [],
   "source": [
    "data=pd.DataFrame(list(zip(raw_text,email_data,subject_data,processed_text,file_name,class_details)),\n",
    "             columns=['text','email_id','subject','processed_text','file_name','class'])\n",
    "x=data['email_id']+data['subject']+ data['processed_text']\n",
    "y=data['class']"
   ]
  },
  {
   "cell_type": "code",
   "execution_count": 8,
   "metadata": {
    "id": "yVzkZ0tRXL2X"
   },
   "outputs": [],
   "source": [
    "total_class=list(data['class'].unique())\n",
    "class_labels=dict()\n",
    "for i in range(len(total_class)):\n",
    "    class_labels[i]=total_class[i]\n",
    "    y[y==total_class[i]]=i"
   ]
  },
  {
   "cell_type": "code",
   "execution_count": 13,
   "metadata": {
    "colab": {
     "base_uri": "https://localhost:8080/"
    },
    "id": "qMkLVJF0XL2Y",
    "outputId": "784181d3-abe1-49e7-de21-bdeae75d4631"
   },
   "outputs": [
    {
     "data": {
      "text/plain": [
       "array([ 2.,  1.,  7., ...,  5., 18., 12.], dtype=float32)"
      ]
     },
     "execution_count": 13,
     "metadata": {},
     "output_type": "execute_result"
    }
   ],
   "source": [
    "y_train"
   ]
  },
  {
   "cell_type": "markdown",
   "metadata": {
    "id": "ceASjKizYv1U"
   },
   "source": [
    "### Code checking:\n",
    "\n",
    "<font color='red' size=4>\n",
    "After Writing preprocess function. call that functoin with the input text of 'alt.atheism_49960' doc and print the output of the preprocess function\n",
    "<br>\n",
    "This will help us to evaluate faster, based on the output we can suggest you if there are any changes.\n",
    "</font>"
   ]
  },
  {
   "cell_type": "markdown",
   "metadata": {
    "id": "2x3og_iaYv1S"
   },
   "source": [
    "### After writing Preprocess function, call the function for each of the document(18828 docs) and then create a dataframe as mentioned above."
   ]
  },
  {
   "cell_type": "markdown",
   "metadata": {
    "id": "n3ucJLtWYv1V"
   },
   "source": [
    "### Training The models to Classify: \n",
    "\n",
    "<pre>\n",
    "1. Combine \"preprocessed_text\", \"preprocessed_subject\", \"preprocessed_emails\" into one column. use that column to model. \n",
    "\n",
    "2. Now Split the data into Train and test. use 25% for test also do a stratify split. \n",
    "\n",
    "3. Analyze your text data and pad the sequnce if required. \n",
    "Sequnce length is not restricted, you can use anything of your choice. \n",
    "you need to give the reasoning\n",
    "\n",
    "4. Do Tokenizer i.e convert text into numbers. please be careful while doing it. \n",
    "if you are using tf.keras \"Tokenizer\" API, it removes the <b>\"_\"</b>, but we need that.\n",
    "\n",
    "5. code the model's ( Model-1, Model-2 ) as discussed below \n",
    "and try to optimize that models.  \n",
    "\n",
    "6. For every model use predefined Glove vectors. \n",
    "<b>Don't train any word vectors while Training the model.</b>\n",
    "\n",
    "7. Use \"categorical_crossentropy\" as Loss. \n",
    "\n",
    "8. Use <b>Accuracy and Micro Avgeraged F1 score</b> as your as Key metrics to evaluate your model. \n",
    "\n",
    "9.  Use Tensorboard to plot the loss and Metrics based on the epoches.\n",
    "\n",
    "10. Please save your best model weights in to <b>'best_model_L.h5' ( L = 1 or 2 )</b>. \n",
    "\n",
    "11. You are free to choose any Activation function, learning rate, optimizer.\n",
    "But have to use the same architecture which we are giving below.\n",
    "\n",
    "12. You can add some layer to our architecture but you <b>deletion</b> of layer is not acceptable.\n",
    "\n",
    "13. Try to use <b>Early Stopping</b> technique or any of the callback techniques that you did in the previous assignments.\n",
    "\n",
    "14. For Every model save your model to image ( Plot the model) with shapes \n",
    "and inlcude those images in the notebook markdown cell, \n",
    "upload those imgages to Classroom. You can use \"plot_model\" \n",
    "please refer <a href='https://www.tensorflow.org/api_docs/python/tf/keras/utils/plot_model'>this</a> if you don't know how to plot the model with shapes. \n",
    "\n",
    "</pre>"
   ]
  },
  {
   "cell_type": "code",
   "execution_count": 9,
   "metadata": {
    "colab": {
     "base_uri": "https://localhost:8080/"
    },
    "id": "iCMt3JqIXL2Z",
    "outputId": "91be6d52-a029-4b3a-c88c-ed9e4b276222"
   },
   "outputs": [
    {
     "data": {
      "text/plain": [
       "(14121,)"
      ]
     },
     "execution_count": 9,
     "metadata": {},
     "output_type": "execute_result"
    }
   ],
   "source": [
    "x_train,x_test,y_train,y_test=train_test_split(x,y,test_size=0.25, stratify=y)\n",
    "x_train.shape"
   ]
  },
  {
   "cell_type": "code",
   "execution_count": null,
   "metadata": {
    "id": "RNTEd64OWn1-"
   },
   "outputs": [],
   "source": [
    "y_train"
   ]
  },
  {
   "cell_type": "code",
   "execution_count": null,
   "metadata": {
    "id": "2RBqYiOgY60k"
   },
   "outputs": [],
   "source": [
    "'''with open('/content/drive/MyDrive/CNN Assignment/y_train.pkl','wb') as w:\n",
    "  pickle.dump(y_train,w)\n",
    "with open('/content/drive/MyDrive/CNN Assignment/y_test.pkl','wb') as w:\n",
    "  pickle.dump(y_test,w)'''"
   ]
  },
  {
   "cell_type": "code",
   "execution_count": 22,
   "metadata": {
    "id": "Wy7iM_PyKfRf"
   },
   "outputs": [],
   "source": [
    "embedded_mat='/content/drive/MyDrive/CNN Assignment/glove.6B.300d.txt'"
   ]
  },
  {
   "cell_type": "code",
   "execution_count": 23,
   "metadata": {
    "id": "JOnDn1r1KcDI"
   },
   "outputs": [],
   "source": [
    "import csv\n",
    "trained_word_embedding=pd.read_csv(embedded_mat, sep=' ', header=None,lineterminator='\\n',quoting=csv.QUOTE_NONE )"
   ]
  },
  {
   "cell_type": "code",
   "execution_count": null,
   "metadata": {
    "id": "wu7KXId-XL2Z"
   },
   "outputs": [],
   "source": [
    "#https://towardsdatascience.com/nlp-preparing-text-for-deep-learning-model-using-tensorflow2-461428138657"
   ]
  },
  {
   "cell_type": "code",
   "execution_count": 24,
   "metadata": {
    "id": "zuO2ZAACXL2Z"
   },
   "outputs": [],
   "source": [
    "tokenizer=tf.keras.preprocessing.text.Tokenizer(filters='!\"#$%&()*+,-./:;<=>?@[\\\\]^`{|}~\\t\\n',oov_token='UNK')\n",
    "tokenizer.fit_on_texts(x_train)"
   ]
  },
  {
   "cell_type": "code",
   "execution_count": 25,
   "metadata": {
    "id": "Uhi8OII-KrWG"
   },
   "outputs": [],
   "source": [
    "trained_embedded_words=trained_word_embedding[0]\n",
    "trained_word_embedding_vector=trained_word_embedding.drop(0,axis=1)"
   ]
  },
  {
   "cell_type": "code",
   "execution_count": null,
   "metadata": {
    "id": "3Ew_7hxBPZ9L"
   },
   "outputs": [],
   "source": []
  },
  {
   "cell_type": "code",
   "execution_count": 26,
   "metadata": {
    "colab": {
     "base_uri": "https://localhost:8080/"
    },
    "id": "oAam5wwEK3VA",
    "outputId": "f7f1aa86-b6e1-434c-a51c-019ca7ac4ead"
   },
   "outputs": [
    {
     "data": {
      "text/plain": [
       "True"
      ]
     },
     "execution_count": 26,
     "metadata": {},
     "output_type": "execute_result"
    }
   ],
   "source": [
    "list(tokenizer.word_index.keys())[1] in trained_embedded_words.values.tolist()[0]"
   ]
  },
  {
   "cell_type": "code",
   "execution_count": 27,
   "metadata": {
    "colab": {
     "base_uri": "https://localhost:8080/"
    },
    "id": "b0pAXm-8Kv8f",
    "outputId": "4f746e83-d27d-4407-a1e6-122e1739f006"
   },
   "outputs": [
    {
     "name": "stderr",
     "output_type": "stream",
     "text": [
      "105786it [13:38, 129.18it/s]"
     ]
    },
    {
     "name": "stdout",
     "output_type": "stream",
     "text": [
      "51627\n"
     ]
    },
    {
     "name": "stderr",
     "output_type": "stream",
     "text": [
      "\n"
     ]
    }
   ],
   "source": [
    "words_list=[]\n",
    "for i,word in tqdm(enumerate(list(tokenizer.word_index.keys()))):\n",
    "  if word in trained_embedded_words.values.tolist():\n",
    "    words_list.append((word,i))\n",
    "    #print(word)\n",
    "print(len(words_list))"
   ]
  },
  {
   "cell_type": "code",
   "execution_count": 28,
   "metadata": {
    "id": "IT0_UcC7PUq5"
   },
   "outputs": [],
   "source": [
    "word_dict={}\n",
    "embedding_matrix=np.zeros((len(words_list)+1,trained_word_embedding_vector.shape[1]))\n",
    "\n",
    "for i,words in enumerate(words_list):\n",
    "    word_dict[words[0].lower()]= i\n",
    "    embedding_matrix[i]=trained_word_embedding_vector.iloc[i]"
   ]
  },
  {
   "cell_type": "code",
   "execution_count": 29,
   "metadata": {
    "id": "Z0lETvGeUAE1"
   },
   "outputs": [],
   "source": [
    "tokenizer.word_index=word_dict\n",
    "tokenizer.word_index[tokenizer.oov_token] = max(word_dict.values()) + 1"
   ]
  },
  {
   "cell_type": "code",
   "execution_count": null,
   "metadata": {
    "id": "U5qfCtlLQxH3"
   },
   "outputs": [],
   "source": []
  },
  {
   "cell_type": "code",
   "execution_count": null,
   "metadata": {
    "id": "FTWW3qcPRhIG"
   },
   "outputs": [],
   "source": []
  },
  {
   "cell_type": "code",
   "execution_count": 30,
   "metadata": {
    "id": "023LQg-XXL2a"
   },
   "outputs": [],
   "source": [
    "x_train_tokenized=tokenizer.texts_to_sequences(x_train)\n",
    "x_test_tokenized=tokenizer.texts_to_sequences(x_test)"
   ]
  },
  {
   "cell_type": "code",
   "execution_count": null,
   "metadata": {
    "id": "sUkWzwBdXL2a"
   },
   "outputs": [],
   "source": []
  },
  {
   "cell_type": "code",
   "execution_count": 31,
   "metadata": {
    "colab": {
     "base_uri": "https://localhost:8080/"
    },
    "id": "4sgY7X5AXL2a",
    "outputId": "43f2362b-ef86-482e-cb16-6e32b2f471f7"
   },
   "outputs": [
    {
     "data": {
      "text/plain": [
       "51627"
      ]
     },
     "execution_count": 31,
     "metadata": {},
     "output_type": "execute_result"
    }
   ],
   "source": [
    "max_values_in_list=[]\n",
    "for j in x_train_tokenized:\n",
    "    value=max(j)\n",
    "    max_values_in_list.append(value)\n",
    "    \n",
    "input_dim=max(max_values_in_list)\n",
    "input_dim"
   ]
  },
  {
   "cell_type": "code",
   "execution_count": 62,
   "metadata": {
    "id": "Yl2GkF0ZXL2b"
   },
   "outputs": [],
   "source": [
    "padded_x_train=tf.keras.preprocessing.sequence.pad_sequences(x_train_tokenized,maxlen=5000 , padding='pre')\n",
    "padded_x_test=tf.keras.preprocessing.sequence.pad_sequences(x_test_tokenized,maxlen=5000 , padding='pre')"
   ]
  },
  {
   "cell_type": "code",
   "execution_count": 63,
   "metadata": {
    "colab": {
     "base_uri": "https://localhost:8080/"
    },
    "id": "QBwWswMWXL2b",
    "outputId": "186533bb-dadc-49b6-99cf-4a16ad992d6c"
   },
   "outputs": [
    {
     "name": "stdout",
     "output_type": "stream",
     "text": [
      "(14121, 5000)\n",
      "(4707, 5000)\n"
     ]
    }
   ],
   "source": [
    "print(padded_x_train.shape)\n",
    "print(padded_x_test.shape)"
   ]
  },
  {
   "cell_type": "code",
   "execution_count": 64,
   "metadata": {
    "id": "Kl0QAlKtB9ZK"
   },
   "outputs": [],
   "source": [
    "with open('/content/drive/MyDrive/CNN Assignment/padded_x_train.pkl','wb') as w:\n",
    "  pickle.dump(padded_x_train,w)\n",
    "\n",
    "with open('/content/drive/MyDrive/CNN Assignment/padded_x_test.pkl','wb') as w:\n",
    "  pickle.dump(padded_x_test,w)\n",
    "  \n",
    "with open('/content/drive/MyDrive/CNN Assignment/embedding_matrix.pkl','wb') as w:\n",
    "  pickle.dump(embedding_matrix,w)"
   ]
  },
  {
   "cell_type": "code",
   "execution_count": 3,
   "metadata": {
    "id": "PM3murdQB6Tw"
   },
   "outputs": [],
   "source": [
    "with open('/content/drive/MyDrive/CNN Assignment/padded_x_test.pkl','rb') as w:\n",
    "  padded_x_test=pickle.load(w)\n",
    "\n",
    "with open('/content/drive/MyDrive/CNN Assignment/padded_x_train.pkl','rb') as w:\n",
    "  padded_x_train=pickle.load(w)\n",
    "\n",
    "with open('/content/drive/MyDrive/CNN Assignment/embedding_matrix.pkl','rb') as w:\n",
    "  embedding_matrix=pickle.load(w)\n",
    "\n",
    "with open('/content/drive/MyDrive/CNN Assignment/y_test.pkl','rb') as w:\n",
    "  y_test=pickle.load(w)\n",
    "\n",
    "with open('/content/drive/MyDrive/CNN Assignment/y_train.pkl','rb') as w:\n",
    "  y_train=pickle.load(w)"
   ]
  },
  {
   "cell_type": "code",
   "execution_count": null,
   "metadata": {
    "colab": {
     "base_uri": "https://localhost:8080/"
    },
    "id": "wWUR49m8T0eM",
    "outputId": "80e84815-139e-467e-db48-ca9f2f77ff3f"
   },
   "outputs": [
    {
     "data": {
      "text/plain": [
       "(43169, 100)"
      ]
     },
     "execution_count": 29,
     "metadata": {},
     "output_type": "execute_result"
    }
   ],
   "source": []
  },
  {
   "cell_type": "markdown",
   "metadata": {
    "id": "c0mwdtcvYv1X"
   },
   "source": [
    "### Model-1: Using 1D convolutions with word embeddings"
   ]
  },
  {
   "cell_type": "markdown",
   "metadata": {
    "id": "gXPPsovJ3ePk"
   },
   "source": [
    "<pre>\n",
    "<b>Encoding of the Text </b> --> For a given text data create a Matrix with Embedding layer as shown Below. \n",
    "In the example we have considered d = 5, but in this assignment we will get d = dimension of Word vectors we are using.\n",
    " i.e if we have maximum of 350 words in a sentence and embedding of 300 dim word vector, \n",
    " we result in 350*300 dimensional matrix for each sentance as output after embedding layer\n",
    "<img src='https://i.imgur.com/kiVQuk1.png'>\n",
    "Ref: https://i.imgur.com/kiVQuk1.png\n",
    "\n",
    "<b>Reference:</b>\n",
    "<a href='https://stackoverflow.com/a/43399308/4084039'>https://stackoverflow.com/a/43399308/4084039</a>\n",
    "<a href='https://missinglink.ai/guides/keras/keras-conv1d-working-1d-convolutional-neural-networks-keras/'>https://missinglink.ai/guides/keras/keras-conv1d-working-1d-convolutional-neural-networks-keras/</a>\n",
    "\n",
    "<b><a href='https://stats.stackexchange.com/questions/270546/how-does-keras-embedding-layer-work'>How EMBEDDING LAYER WORKS </a></b>\n",
    "\n",
    "</pre>\n",
    "\n",
    "### Go through this blog, if you have any doubt on using predefined Embedding values in Embedding layer - https://machinelearningmastery.com/use-word-embedding-layers-deep-learning-keras/"
   ]
  },
  {
   "cell_type": "code",
   "execution_count": null,
   "metadata": {
    "colab": {
     "base_uri": "https://localhost:8080/",
     "height": 35
    },
    "id": "udYkf-0_XL2c",
    "outputId": "d37b6ca4-d9db-406d-aac8-27f0389f3b72"
   },
   "outputs": [
    {
     "data": {
      "application/vnd.google.colaboratory.intrinsic+json": {
       "type": "string"
      },
      "text/plain": [
       "\"#Clearing Logs before running the Model\\nimport shutil\\nshutil.rmtree('logs/model_1')\""
      ]
     },
     "execution_count": 57,
     "metadata": {},
     "output_type": "execute_result"
    }
   ],
   "source": [
    "'''#Clearing Logs before running the Model\n",
    "import shutil\n",
    "shutil.rmtree('logs/model_1')'''"
   ]
  },
  {
   "cell_type": "code",
   "execution_count": 65,
   "metadata": {
    "colab": {
     "base_uri": "https://localhost:8080/"
    },
    "id": "cRlIpJwMXL2d",
    "outputId": "31170d50-1044-4ae3-88dc-d6136b8b7dff",
    "scrolled": false
   },
   "outputs": [
    {
     "name": "stdout",
     "output_type": "stream",
     "text": [
      "Model: \"model_6\"\n",
      "__________________________________________________________________________________________________\n",
      " Layer (type)                   Output Shape         Param #     Connected to                     \n",
      "==================================================================================================\n",
      " input_7 (InputLayer)           [(None, 5000)]       0           []                               \n",
      "                                                                                                  \n",
      " embedding_18 (Embedding)       (None, 5000, 300)    15488400    ['input_7[0][0]']                \n",
      "                                                                                                  \n",
      " embedding_19 (Embedding)       (None, 5000, 300)    15488400    ['input_7[0][0]']                \n",
      "                                                                                                  \n",
      " embedding_20 (Embedding)       (None, 5000, 300)    15488400    ['input_7[0][0]']                \n",
      "                                                                                                  \n",
      " conv1d_42 (Conv1D)             (None, 1667, 7)      6307        ['embedding_18[0][0]']           \n",
      "                                                                                                  \n",
      " conv1d_43 (Conv1D)             (None, 1667, 9)      8109        ['embedding_19[0][0]']           \n",
      "                                                                                                  \n",
      " conv1d_44 (Conv1D)             (None, 1667, 11)     9911        ['embedding_20[0][0]']           \n",
      "                                                                                                  \n",
      " dropout_45 (Dropout)           (None, 1667, 7)      0           ['conv1d_42[0][0]']              \n",
      "                                                                                                  \n",
      " dropout_46 (Dropout)           (None, 1667, 9)      0           ['conv1d_43[0][0]']              \n",
      "                                                                                                  \n",
      " dropout_47 (Dropout)           (None, 1667, 11)     0           ['conv1d_44[0][0]']              \n",
      "                                                                                                  \n",
      " concatenate_12 (Concatenate)   (None, 1667, 27)     0           ['dropout_45[0][0]',             \n",
      "                                                                  'dropout_46[0][0]',             \n",
      "                                                                  'dropout_47[0][0]']             \n",
      "                                                                                                  \n",
      " max_pooling1d_12 (MaxPooling1D  (None, 1666, 27)    0           ['concatenate_12[0][0]']         \n",
      " )                                                                                                \n",
      "                                                                                                  \n",
      " conv1d_45 (Conv1D)             (None, 556, 5)       680         ['max_pooling1d_12[0][0]']       \n",
      "                                                                                                  \n",
      " conv1d_46 (Conv1D)             (None, 556, 10)      1360        ['max_pooling1d_12[0][0]']       \n",
      "                                                                                                  \n",
      " conv1d_47 (Conv1D)             (None, 556, 15)      2040        ['max_pooling1d_12[0][0]']       \n",
      "                                                                                                  \n",
      " dropout_48 (Dropout)           (None, 556, 5)       0           ['conv1d_45[0][0]']              \n",
      "                                                                                                  \n",
      " dropout_49 (Dropout)           (None, 556, 10)      0           ['conv1d_46[0][0]']              \n",
      "                                                                                                  \n",
      " dropout_50 (Dropout)           (None, 556, 15)      0           ['conv1d_47[0][0]']              \n",
      "                                                                                                  \n",
      " concatenate_13 (Concatenate)   (None, 556, 30)      0           ['dropout_48[0][0]',             \n",
      "                                                                  'dropout_49[0][0]',             \n",
      "                                                                  'dropout_50[0][0]']             \n",
      "                                                                                                  \n",
      " max_pooling1d_13 (MaxPooling1D  (None, 555, 30)     0           ['concatenate_13[0][0]']         \n",
      " )                                                                                                \n",
      "                                                                                                  \n",
      " conv1d_48 (Conv1D)             (None, 185, 15)      1365        ['max_pooling1d_13[0][0]']       \n",
      "                                                                                                  \n",
      " flatten_6 (Flatten)            (None, 2775)         0           ['conv1d_48[0][0]']              \n",
      "                                                                                                  \n",
      " dropout_51 (Dropout)           (None, 2775)         0           ['flatten_6[0][0]']              \n",
      "                                                                                                  \n",
      " dense_6 (Dense)                (None, 20)           55520       ['dropout_51[0][0]']             \n",
      "                                                                                                  \n",
      "==================================================================================================\n",
      "Total params: 46,550,492\n",
      "Trainable params: 46,550,492\n",
      "Non-trainable params: 0\n",
      "__________________________________________________________________________________________________\n"
     ]
    }
   ],
   "source": [
    "#Building the model\n",
    "input_shape=(padded_x_train.shape[1])#input is just of this dimension\n",
    "inputs = tf.keras.Input(input_shape)\n",
    "\n",
    "conv_m=tf.keras.layers.Embedding(input_dim=(51627+1),output_dim=300,input_shape=(1,input_shape),embeddings_initializer=tf.keras.initializers.Constant(embedding_matrix),trainable=True)(inputs) #Input shape=(Batch_size, Size of input)\n",
    "conv_m=tf.keras.layers.Conv1D(7,3,strides=3,activation='relu',input_shape=conv_m.shape, kernel_initializer=tf.keras.initializers.HeUniform(1),padding='same')(conv_m)\n",
    "conv_m=tf.keras.layers.Dropout(0.3)(conv_m)\n",
    "\n",
    "conv_n=tf.keras.layers.Embedding(input_dim=(51627+1),output_dim=300,input_shape=(1,input_shape))(inputs) #Input shape=(Batch_size, Size of input)\n",
    "conv_n=tf.keras.layers.Conv1D(9,3,strides=3,activation='relu',input_shape=conv_n.shape, kernel_initializer=tf.keras.initializers.HeUniform(3),padding='same')(conv_n)\n",
    "conv_n=tf.keras.layers.Dropout(0.3)(conv_n)\n",
    "\n",
    "conv_o=tf.keras.layers.Embedding(input_dim=(51627+1),output_dim=300,input_shape=(1,input_shape))(inputs) #Input shape=(Batch_size, Size of input)\n",
    "conv_o=tf.keras.layers.Conv1D(11,3,strides=3,activation='relu',input_shape=conv_o.shape, kernel_initializer=tf.keras.initializers.HeUniform(5),padding='same')(conv_o)\n",
    "conv_o=tf.keras.layers.Dropout(0.3)(conv_o)\n",
    "\n",
    "output_1= tf.keras.layers.concatenate([conv_m,conv_n,conv_o])\n",
    "\n",
    "output_1=tf.keras.layers.MaxPool1D(pool_size=2, strides=1)(output_1)\n",
    "\n",
    "conv_i=tf.keras.layers.Conv1D(5,5,strides=3,activation='relu',input_shape=output_1.shape, kernel_initializer=tf.keras.initializers.HeUniform(7),padding='same')(output_1)\n",
    "conv_i=tf.keras.layers.Dropout(0.1)(conv_i)\n",
    "\n",
    "conv_j=tf.keras.layers.Conv1D(10,5,strides=3,activation='relu',input_shape=output_1.shape, kernel_initializer=tf.keras.initializers.HeUniform(9),padding='same')(output_1)\n",
    "conv_j=tf.keras.layers.Dropout(0.1)(conv_j)\n",
    "\n",
    "conv_k=tf.keras.layers.Conv1D(15,5,strides=3,activation='relu',input_shape=output_1.shape, kernel_initializer=tf.keras.initializers.HeUniform(11),padding='same')(output_1)\n",
    "conv_k=tf.keras.layers.Dropout(0.1)(conv_k)\n",
    "\n",
    "output_2= tf.keras.layers.concatenate([conv_i,conv_j,conv_k])\n",
    "\n",
    "output_2=tf.keras.layers.MaxPool1D(pool_size=2, strides=1)(output_2)\n",
    "output_2=tf.keras.layers.Conv1D(15,3,strides=3,activation='relu', kernel_initializer=tf.keras.initializers.HeUniform(150),padding='same')(output_2)\n",
    "#output_2=tf.keras.layers.Dropout(0.3)(output_2)\n",
    "output_2=tf.keras.layers.Flatten()(output_2)\n",
    "output_2=tf.keras.layers.Dropout(0.2)(output_2)\n",
    "output_2=tf.keras.layers.Dense(20, activation = 'softmax')(output_2)\n",
    "\n",
    "model=tf.keras.Model(inputs=inputs,outputs=output_2)\n",
    "\n",
    "model.summary()\n"
   ]
  },
  {
   "cell_type": "code",
   "execution_count": null,
   "metadata": {
    "id": "XSMjz6JYXL2d"
   },
   "outputs": [],
   "source": [
    "class CustomCallback(tf.keras.callbacks.Callback):\n",
    "    def on_epoch_end(self, epoch, logs={}):\n",
    "        file_path=\"/content/drive/MyDrive/CNN Assignment/model_dash/weights_model_1\"+'_epoch_'+str(epoch)+'.hdf5' \n",
    "        if epoch>=2:\n",
    "          if self.history['val_accuracy'][-1]>self.history['val_accuracy'][-2]:\n",
    "            self.model.save(file_path)\n",
    "        pass\n",
    "        "
   ]
  },
  {
   "cell_type": "code",
   "execution_count": 37,
   "metadata": {
    "id": "O_uGBPS1SGhp"
   },
   "outputs": [],
   "source": [
    "y_train=np.asarray(y_train).astype('float32')\n",
    "y_test=np.asarray(y_test).astype('float32')\n"
   ]
  },
  {
   "cell_type": "code",
   "execution_count": 66,
   "metadata": {
    "colab": {
     "base_uri": "https://localhost:8080/"
    },
    "id": "jV6a63uNXL2d",
    "outputId": "ad760257-d23c-4c09-8e62-8f3a0512d29c"
   },
   "outputs": [
    {
     "name": "stdout",
     "output_type": "stream",
     "text": [
      "Epoch 1/100\n",
      "706/706 [==============================] - 53s 72ms/step - loss: 2.7747 - accuracy: 0.1190 - f1_score: 0.0021 - val_loss: 2.3274 - val_accuracy: 0.1904 - val_f1_score: 0.0048\n",
      "Epoch 2/100\n",
      "706/706 [==============================] - 51s 72ms/step - loss: 1.8751 - accuracy: 0.3525 - f1_score: 0.0235 - val_loss: 1.6341 - val_accuracy: 0.4545 - val_f1_score: 0.0302\n",
      "Epoch 3/100\n",
      "706/706 [==============================] - 51s 72ms/step - loss: 1.0448 - accuracy: 0.6265 - f1_score: 0.0653 - val_loss: 1.4352 - val_accuracy: 0.5320 - val_f1_score: 0.0565\n",
      "Epoch 4/100\n",
      "706/706 [==============================] - 51s 72ms/step - loss: 0.6571 - accuracy: 0.7635 - f1_score: 0.0828 - val_loss: 1.3526 - val_accuracy: 0.5837 - val_f1_score: 0.0699\n",
      "Epoch 5/100\n",
      "706/706 [==============================] - 50s 71ms/step - loss: 0.4424 - accuracy: 0.8417 - f1_score: 0.0908 - val_loss: 1.3815 - val_accuracy: 0.6223 - val_f1_score: 0.0777\n",
      "Epoch 6/100\n",
      "706/706 [==============================] - 51s 72ms/step - loss: 0.3286 - accuracy: 0.8867 - f1_score: 0.0941 - val_loss: 1.5016 - val_accuracy: 0.6326 - val_f1_score: 0.0842\n",
      "Epoch 7/100\n",
      "706/706 [==============================] - 51s 72ms/step - loss: 0.2906 - accuracy: 0.9027 - f1_score: 0.0951 - val_loss: 1.6107 - val_accuracy: 0.6319 - val_f1_score: 0.0854\n",
      "Epoch 8/100\n",
      "706/706 [==============================] - 50s 71ms/step - loss: 0.2492 - accuracy: 0.9221 - f1_score: 0.0961 - val_loss: 1.7020 - val_accuracy: 0.6389 - val_f1_score: 0.0887\n",
      "Epoch 9/100\n",
      "706/706 [==============================] - 51s 72ms/step - loss: 0.2147 - accuracy: 0.9279 - f1_score: 0.0967 - val_loss: 1.6563 - val_accuracy: 0.6478 - val_f1_score: 0.0882\n",
      "Epoch 10/100\n",
      "706/706 [==============================] - 50s 71ms/step - loss: 0.1810 - accuracy: 0.9413 - f1_score: 0.0971 - val_loss: 2.0293 - val_accuracy: 0.6202 - val_f1_score: 0.0898\n",
      "Epoch 11/100\n",
      "706/706 [==============================] - 50s 71ms/step - loss: 0.1759 - accuracy: 0.9471 - f1_score: 0.0977 - val_loss: 1.7575 - val_accuracy: 0.6570 - val_f1_score: 0.0900\n",
      "Epoch 12/100\n",
      "706/706 [==============================] - 50s 72ms/step - loss: 0.1672 - accuracy: 0.9464 - f1_score: 0.0977 - val_loss: 1.7269 - val_accuracy: 0.6694 - val_f1_score: 0.0903\n",
      "Epoch 13/100\n",
      "706/706 [==============================] - 51s 72ms/step - loss: 0.1486 - accuracy: 0.9533 - f1_score: 0.0980 - val_loss: 1.8996 - val_accuracy: 0.6538 - val_f1_score: 0.0915\n",
      "Epoch 14/100\n",
      "706/706 [==============================] - 50s 71ms/step - loss: 0.1329 - accuracy: 0.9579 - f1_score: 0.0981 - val_loss: 1.8766 - val_accuracy: 0.6708 - val_f1_score: 0.0908\n",
      "Epoch 15/100\n",
      "706/706 [==============================] - 50s 71ms/step - loss: 0.1332 - accuracy: 0.9578 - f1_score: 0.0983 - val_loss: 1.8456 - val_accuracy: 0.6722 - val_f1_score: 0.0915\n",
      "Epoch 16/100\n",
      "706/706 [==============================] - 50s 71ms/step - loss: 0.1300 - accuracy: 0.9618 - f1_score: 0.0982 - val_loss: 2.0843 - val_accuracy: 0.6627 - val_f1_score: 0.0913\n",
      "Epoch 17/100\n",
      "706/706 [==============================] - 51s 72ms/step - loss: 0.1157 - accuracy: 0.9636 - f1_score: 0.0984 - val_loss: 1.9219 - val_accuracy: 0.6857 - val_f1_score: 0.0924\n",
      "Epoch 18/100\n",
      "706/706 [==============================] - 51s 72ms/step - loss: 0.0973 - accuracy: 0.9689 - f1_score: 0.0987 - val_loss: 2.3671 - val_accuracy: 0.6704 - val_f1_score: 0.0936\n",
      "Epoch 19/100\n",
      "706/706 [==============================] - 50s 71ms/step - loss: 0.1052 - accuracy: 0.9664 - f1_score: 0.0987 - val_loss: 2.1396 - val_accuracy: 0.6694 - val_f1_score: 0.0927\n",
      "Epoch 20/100\n",
      "706/706 [==============================] - 51s 72ms/step - loss: 0.1085 - accuracy: 0.9683 - f1_score: 0.0985 - val_loss: 2.0809 - val_accuracy: 0.6864 - val_f1_score: 0.0935\n",
      "Epoch 21/100\n",
      "706/706 [==============================] - 51s 72ms/step - loss: 0.0936 - accuracy: 0.9696 - f1_score: 0.0987 - val_loss: 2.0211 - val_accuracy: 0.6825 - val_f1_score: 0.0932\n",
      "Epoch 22/100\n",
      "706/706 [==============================] - 51s 72ms/step - loss: 0.1015 - accuracy: 0.9671 - f1_score: 0.0987 - val_loss: 2.1569 - val_accuracy: 0.6789 - val_f1_score: 0.0932\n",
      "Epoch 23/100\n",
      "706/706 [==============================] - 51s 72ms/step - loss: 0.1019 - accuracy: 0.9701 - f1_score: 0.0988 - val_loss: 2.2539 - val_accuracy: 0.6676 - val_f1_score: 0.0938\n"
     ]
    },
    {
     "data": {
      "text/plain": [
       "<keras.callbacks.History at 0x7f46bf5276a0>"
      ]
     },
     "execution_count": 66,
     "metadata": {},
     "output_type": "execute_result"
    }
   ],
   "source": [
    "early_stopping=tf.keras.callbacks.EarlyStopping(patience=3,monitor='val_accuracy',min_delta=0.0001)\n",
    "tensorboard=tf.keras.callbacks.TensorBoard(log_dir='/content/drive/MyDrive/CNN Assignment/logs')\n",
    "'''lr_schedule = tf.keras.optimizers.schedules.InverseTimeDecay(\n",
    "  0.001,\n",
    "  decay_steps=754*1000,\n",
    "  decay_rate=1,\n",
    "  staircase=False)'''\n",
    "\n",
    "model.compile(optimizer=tf.keras.optimizers.Adam(), loss='sparse_categorical_crossentropy', metrics=['accuracy',tfa.metrics.F1Score(num_classes=10, \n",
    "                      average='micro',\n",
    "                      threshold=0.5)], )\n",
    "model.fit(padded_x_train,y_train,epochs=100,callbacks=[early_stopping,tensorboard],validation_split=0.2, batch_size=16)"
   ]
  },
  {
   "cell_type": "code",
   "execution_count": null,
   "metadata": {
    "id": "oFdTY988XL2e"
   },
   "outputs": [],
   "source": [
    "model.save('/content/drive/MyDrive/CNN Assignment/models/model_dash.h5')"
   ]
  },
  {
   "cell_type": "code",
   "execution_count": null,
   "metadata": {
    "id": "tuFTXqx9indr"
   },
   "outputs": [],
   "source": [
    "model_1=tf.keras.models.load_model('/content/drive/MyDrive/CNN Assignment/models/model_1.h5')"
   ]
  },
  {
   "cell_type": "code",
   "execution_count": null,
   "metadata": {
    "id": "XIiJyS5wXL2e",
    "scrolled": false
   },
   "outputs": [],
   "source": [
    "#%tensorboard --logdir {'./logs'}  --host localhost"
   ]
  },
  {
   "cell_type": "code",
   "execution_count": 67,
   "metadata": {
    "colab": {
     "base_uri": "https://localhost:8080/"
    },
    "id": "5apqJarXXL2e",
    "outputId": "b078d9fd-7ff3-4fea-df79-92481326ea23"
   },
   "outputs": [
    {
     "name": "stdout",
     "output_type": "stream",
     "text": [
      "148/148 [==============================] - 4s 23ms/step - loss: 2.0518 - accuracy: 0.6871 - f1_score: 0.0936\n"
     ]
    },
    {
     "data": {
      "text/plain": [
       "[2.0517921447753906, 0.6870618462562561, 0.0935528501868248]"
      ]
     },
     "execution_count": 67,
     "metadata": {},
     "output_type": "execute_result"
    }
   ],
   "source": [
    "model.evaluate(padded_x_test,y_test)"
   ]
  },
  {
   "cell_type": "code",
   "execution_count": 68,
   "metadata": {
    "colab": {
     "base_uri": "https://localhost:8080/",
     "height": 1000
    },
    "id": "QY_j2UD_XL2e",
    "outputId": "cacfedef-ab09-44e9-8463-67fdda16c204"
   },
   "outputs": [
    {
     "data": {
      "image/png": "[encoded data removed]",
      "text/plain": [
       "<IPython.core.display.Image object>"
      ]
     },
     "execution_count": 68,
     "metadata": {},
     "output_type": "execute_result"
    }
   ],
   "source": [
    "tf.keras.utils.plot_model(model, to_file='model_2.png', show_shapes=True)"
   ]
  },
  {
   "cell_type": "markdown",
   "metadata": {
    "id": "dKynkl9xXL2e"
   },
   "source": [
    "<img src='https://i.imgur.com/fv1GvFJ.png'>\n",
    "ref: 'https://i.imgur.com/fv1GvFJ.png'"
   ]
  },
  {
   "cell_type": "markdown",
   "metadata": {
    "id": "6aHqPbMzXL2f"
   },
   "source": [
    "<pre>\n",
    "1. all are Conv1D layers with any number of filter and filter sizes, there is no restriction on this.\n",
    "\n",
    "2. use concatenate layer is to concatenate all the filters/channels. \n",
    "\n",
    "3. You can use any pool size and stride for maxpooling layer.\n",
    "\n",
    "4. Don't use more than 16 filters in one Conv layer becuase it will increase the no of params. \n",
    "( Only recommendation if you have less computing power )\n",
    "\n",
    "5. You can use any number of layers after the Flatten Layer.\n",
    "</pre>"
   ]
  },
  {
   "cell_type": "code",
   "execution_count": null,
   "metadata": {},
   "outputs": [],
   "source": []
  }
 ],
 "metadata": {
  "accelerator": "GPU",
  "colab": {
   "collapsed_sections": [
    "ceASjKizYv1U",
    "2x3og_iaYv1S",
    "c0mwdtcvYv1X"
   ],
   "provenance": []
  },
  "gpuClass": "standard",
  "kernelspec": {
   "display_name": "Python 3",
   "language": "python",
   "name": "python3"
  },
  "language_info": {
   "codemirror_mode": {
    "name": "ipython",
    "version": 3
   },
   "file_extension": ".py",
   "mimetype": "text/x-python",
   "name": "python",
   "nbconvert_exporter": "python",
   "pygments_lexer": "ipython3",
   "version": "3.6.5"
  }
 },
 "nbformat": 4,
 "nbformat_minor": 1
}
