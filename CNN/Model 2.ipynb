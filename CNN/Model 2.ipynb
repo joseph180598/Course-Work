{
 "cells": [
  {
   "cell_type": "code",
   "execution_count": 1,
   "metadata": {},
   "outputs": [],
   "source": [
    "### count plot of all the class labels. \n",
    "import os\n",
    "import seaborn as sns\n",
    "import tensorflow\n",
    "import matplotlib.pyplot as plt\n",
    "import nltk\n",
    "from nltk.chunk import ne_chunk\n",
    "from tqdm import tqdm\n",
    "import codecs\n",
    "import re\n",
    "import pickle\n",
    "import pandas as pd\n",
    "import numpy as np\n",
    "from sklearn.model_selection import train_test_split\n",
    "import tensorflow as tf\n",
    "%load_ext tensorboard\n",
    "import tensorflow_addons as tfa\n",
    "import pydot\n",
    "import graphviz"
   ]
  },
  {
   "cell_type": "code",
   "execution_count": 2,
   "metadata": {},
   "outputs": [],
   "source": [
    "with open('processed_data.pickle','rb') as fe_data_file:\n",
    "    final_data=pickle.load(fe_data_file)"
   ]
  },
  {
   "cell_type": "code",
   "execution_count": 3,
   "metadata": {},
   "outputs": [],
   "source": [
    "raw_text=final_data[0]\n",
    "email_data=final_data[1]\n",
    "subject_data=final_data[2]\n",
    "processed_text=final_data[3]\n",
    "file_name=final_data[4]\n",
    "class_details=final_data[5]"
   ]
  },
  {
   "cell_type": "code",
   "execution_count": 4,
   "metadata": {},
   "outputs": [],
   "source": [
    "data=pd.DataFrame(list(zip(raw_text,email_data,subject_data,processed_text,file_name,class_details)),\n",
    "             columns=['text','email_id','subject','processed_text','file_name','class'])\n",
    "x=data['email_id']+data['subject']+ data['processed_text']\n",
    "y=data['class']"
   ]
  },
  {
   "cell_type": "code",
   "execution_count": 5,
   "metadata": {},
   "outputs": [],
   "source": [
    "total_class=list(data['class'].unique())\n",
    "class_labels=dict()\n",
    "for i in range(len(total_class)):\n",
    "    class_labels[i]=total_class[i]\n",
    "    y[y==total_class[i]]=i"
   ]
  },
  {
   "cell_type": "code",
   "execution_count": 6,
   "metadata": {},
   "outputs": [],
   "source": [
    "y = np.asarray(y).astype(np.float32)"
   ]
  },
  {
   "cell_type": "code",
   "execution_count": 7,
   "metadata": {},
   "outputs": [
    {
     "data": {
      "text/plain": [
       "(14121,)"
      ]
     },
     "execution_count": 7,
     "metadata": {},
     "output_type": "execute_result"
    }
   ],
   "source": [
    "x_train,x_test,y_train,y_test=train_test_split(x,y,test_size=0.25, stratify=y )\n",
    "x_train.shape"
   ]
  },
  {
   "cell_type": "code",
   "execution_count": 8,
   "metadata": {},
   "outputs": [],
   "source": [
    "#https://towardsdatascience.com/fix-pandas-parser-error-tokenizing-data-889167292d38\n",
    "#Error related to importing a csv file in Pandas\n"
   ]
  },
  {
   "cell_type": "code",
   "execution_count": 9,
   "metadata": {},
   "outputs": [],
   "source": [
    "import csv\n",
    "trained_character_embedding=pd.read_csv('Character_Embedding.txt', sep=' ', header=None,lineterminator='\\n',quoting=csv.QUOTE_NONE )"
   ]
  },
  {
   "cell_type": "markdown",
   "metadata": {},
   "source": [
    "<pre>\n",
    "<pre><img src=\"https://i.ytimg.com/vi/CNY8VjJt-iQ/maxresdefault.jpg\" width=\"70%\">\n",
    "Here are the some papers based on Char-CNN\n",
    " 1. Xiang Zhang, Junbo Zhao, Yann LeCun. <a href=\"http://arxiv.org/abs/1509.01626\">Character-level Convolutional Networks for Text Classification</a>.NIPS 2015\n",
    " 2. Yoon Kim, Yacine Jernite, David Sontag, Alexander M. Rush. <a href=\"https://arxiv.org/abs/1508.06615\">Character-Aware Neural Language Models</a>. AAAI 2016\n",
    " 3. Shaojie Bai, J. Zico Kolter, Vladlen Koltun. <a href=\"https://arxiv.org/pdf/1803.01271.pdf\">An Empirical Evaluation of Generic Convolutional and Recurrent Networks for Sequence Modeling</a>\n",
    " 4. Use the pratrained char embeddings <a href='https://github.com/minimaxir/char-embeddings/blob/master/glove.840B.300d-char.txt'>https://github.com/minimaxir/char-embeddings/blob/master/glove.840B.300d-char.txt</a>\n",
    "</pre>"
   ]
  },
  {
   "cell_type": "markdown",
   "metadata": {},
   "source": [
    "<img src='https://i.imgur.com/EuuoJtr.png'>"
   ]
  },
  {
   "cell_type": "code",
   "execution_count": null,
   "metadata": {},
   "outputs": [],
   "source": [
    "#from tensorflow.keras.layers import Embedding\n",
    "\n",
    "'''embedding_layer = Embedding(\n",
    "    num_tokens,\n",
    "    embedding_dim,\n",
    "    embeddings_initializer=keras.initializers.Constant(embedding_matrix),\n",
    "    trainable=False,\n",
    ")'''\n",
    "#https://towardsdatascience.com/how-to-preprocess-character-level-text-with-keras-349065121089\n",
    "#https://keras.io/examples/nlp/pretrained_word_embeddings/"
   ]
  },
  {
   "cell_type": "code",
   "execution_count": 10,
   "metadata": {},
   "outputs": [],
   "source": [
    "tokenizer=tf.keras.preprocessing.text.Tokenizer(filters='!\"#$%&()*+,-./:;<=>?@[\\\\]^`{|}~\\t\\n',char_level=True, oov_token='UNK')\n",
    "tokenizer.fit_on_texts(x_train)"
   ]
  },
  {
   "cell_type": "code",
   "execution_count": 11,
   "metadata": {},
   "outputs": [],
   "source": [
    "trained_character_embedding_chars=trained_character_embedding[0]\n",
    "trained_character_embedding_vector=trained_character_embedding.drop(0,axis=1)"
   ]
  },
  {
   "cell_type": "code",
   "execution_count": 12,
   "metadata": {},
   "outputs": [],
   "source": [
    "'''Step 1: To create a dictionary with index value: char value\n",
    "Step 2: Create a matrix where index value has the vector value\n",
    "Step 3: pre-trained word embeddings matrix'''\n",
    "\n",
    "char_dict={}\n",
    "embedding_matrix=np.zeros((len(trained_character_embedding_chars)+1,trained_character_embedding_vector.shape[1]))\n",
    "\n",
    "for i,chars in enumerate(trained_character_embedding_chars.tolist()):\n",
    "    char_dict[chars.lower()]= i\n",
    "    embedding_matrix[i]=trained_character_embedding_vector.iloc[i]"
   ]
  },
  {
   "cell_type": "code",
   "execution_count": 13,
   "metadata": {},
   "outputs": [],
   "source": [
    "tokenizer.word_index=char_dict\n",
    "tokenizer.word_index[tokenizer.oov_token] = max(char_dict.values()) + 1"
   ]
  },
  {
   "cell_type": "code",
   "execution_count": 14,
   "metadata": {},
   "outputs": [
    {
     "data": {
      "text/plain": [
       "{'$': 0,\n",
       " '(': 1,\n",
       " ',': 2,\n",
       " '0': 3,\n",
       " '4': 4,\n",
       " '8': 5,\n",
       " '<': 6,\n",
       " '@': 7,\n",
       " 'd': 16,\n",
       " 'h': 17,\n",
       " 'l': 18,\n",
       " 'p': 19,\n",
       " 't': 20,\n",
       " 'x': 21,\n",
       " '\\\\': 14,\n",
       " '`': 15,\n",
       " '|': 22,\n",
       " '#': 23,\n",
       " \"'\": 24,\n",
       " '+': 25,\n",
       " '/': 26,\n",
       " '3': 27,\n",
       " '7': 28,\n",
       " ';': 29,\n",
       " '?': 30,\n",
       " 'c': 39,\n",
       " 'g': 40,\n",
       " 'k': 41,\n",
       " 'o': 42,\n",
       " 's': 43,\n",
       " 'w': 44,\n",
       " '[': 37,\n",
       " '_': 38,\n",
       " '{': 45,\n",
       " '\"': 46,\n",
       " '&': 47,\n",
       " '*': 48,\n",
       " '.': 49,\n",
       " '2': 50,\n",
       " '6': 51,\n",
       " ':': 52,\n",
       " '>': 53,\n",
       " 'b': 62,\n",
       " 'f': 63,\n",
       " 'j': 64,\n",
       " 'n': 65,\n",
       " 'r': 66,\n",
       " 'v': 67,\n",
       " 'z': 68,\n",
       " '^': 61,\n",
       " '~': 69,\n",
       " '!': 70,\n",
       " '%': 71,\n",
       " ')': 72,\n",
       " '-': 73,\n",
       " '1': 74,\n",
       " '5': 75,\n",
       " '9': 76,\n",
       " '=': 77,\n",
       " 'a': 86,\n",
       " 'e': 87,\n",
       " 'i': 88,\n",
       " 'm': 89,\n",
       " 'q': 90,\n",
       " 'u': 91,\n",
       " 'y': 92,\n",
       " ']': 85,\n",
       " '}': 93,\n",
       " 'UNK': 94}"
      ]
     },
     "execution_count": 14,
     "metadata": {},
     "output_type": "execute_result"
    }
   ],
   "source": [
    "#tokenizer.word_index\n",
    "tokenizer.word_index"
   ]
  },
  {
   "cell_type": "code",
   "execution_count": 15,
   "metadata": {},
   "outputs": [],
   "source": [
    "x_train_tokenized=tokenizer.texts_to_sequences(x_train)\n",
    "x_test_tokenized=tokenizer.texts_to_sequences(x_test)"
   ]
  },
  {
   "cell_type": "code",
   "execution_count": 16,
   "metadata": {},
   "outputs": [
    {
     "data": {
      "text/plain": [
       "70"
      ]
     },
     "execution_count": 16,
     "metadata": {},
     "output_type": "execute_result"
    }
   ],
   "source": [
    "len(tokenizer.word_index)+ 1"
   ]
  },
  {
   "cell_type": "code",
   "execution_count": 17,
   "metadata": {},
   "outputs": [],
   "source": [
    "padded_x_train=tf.keras.preprocessing.sequence.pad_sequences(x_train_tokenized,maxlen=(len(tokenizer.word_index)+1), padding='pre')\n",
    "padded_x_test=tf.keras.preprocessing.sequence.pad_sequences(x_test_tokenized,maxlen=(len(tokenizer.word_index)+1), padding='pre')"
   ]
  },
  {
   "cell_type": "code",
   "execution_count": 18,
   "metadata": {},
   "outputs": [
    {
     "data": {
      "text/plain": [
       "94"
      ]
     },
     "execution_count": 18,
     "metadata": {},
     "output_type": "execute_result"
    }
   ],
   "source": [
    "max_values_in_list=[]\n",
    "for j in x_train_tokenized:\n",
    "    value=max(j)\n",
    "    max_values_in_list.append(value)\n",
    "    \n",
    "input_dim=max(max_values_in_list)\n",
    "input_dim"
   ]
  },
  {
   "cell_type": "code",
   "execution_count": 19,
   "metadata": {},
   "outputs": [
    {
     "name": "stdout",
     "output_type": "stream",
     "text": [
      "Model: \"model\"\n",
      "_________________________________________________________________\n",
      "Layer (type)                 Output Shape              Param #   \n",
      "=================================================================\n",
      "input_1 (InputLayer)         [(None, 70)]              0         \n",
      "_________________________________________________________________\n",
      "embedding (Embedding)        (None, 70, 300)           28500     \n",
      "_________________________________________________________________\n",
      "conv1d (Conv1D)              (None, 68, 20)            18020     \n",
      "_________________________________________________________________\n",
      "conv1d_1 (Conv1D)            (None, 64, 40)            4040      \n",
      "_________________________________________________________________\n",
      "max_pooling1d (MaxPooling1D) (None, 32, 40)            0         \n",
      "_________________________________________________________________\n",
      "conv1d_2 (Conv1D)            (None, 26, 20)            5620      \n",
      "_________________________________________________________________\n",
      "conv1d_3 (Conv1D)            (None, 18, 40)            7240      \n",
      "_________________________________________________________________\n",
      "max_pooling1d_1 (MaxPooling1 (None, 9, 40)             0         \n",
      "_________________________________________________________________\n",
      "flatten (Flatten)            (None, 360)               0         \n",
      "_________________________________________________________________\n",
      "dropout (Dropout)            (None, 360)               0         \n",
      "_________________________________________________________________\n",
      "dense (Dense)                (None, 20)                7220      \n",
      "=================================================================\n",
      "Total params: 70,640\n",
      "Trainable params: 42,140\n",
      "Non-trainable params: 28,500\n",
      "_________________________________________________________________\n"
     ]
    }
   ],
   "source": [
    "input_shape=(padded_x_train.shape[1])#input is just of this dimension\n",
    "inputs = tf.keras.Input(input_shape)\n",
    "output=tf.keras.layers.Embedding(input_dim=input_dim+1, output_dim=300, input_length=(1, input_shape),embeddings_initializer=tf.keras.initializers.Constant(embedding_matrix),trainable=False)(inputs) #Input shape=(Batch_size, Size of input)\n",
    "output= tf.keras.layers.Conv1D(20,3,strides=1,activation='relu',input_shape=output.shape)(output)\n",
    "output= tf.keras.layers.Conv1D(40,5,strides=1,activation='relu',input_shape=output.shape)(output)\n",
    "output=tf.keras.layers.MaxPool1D()(output)\n",
    "output= tf.keras.layers.Conv1D(20,7,strides=1,activation='relu',input_shape=output.shape)(output)\n",
    "output= tf.keras.layers.Conv1D(40,9,strides=1,activation='relu',input_shape=output.shape)(output)\n",
    "output=tf.keras.layers.MaxPool1D()(output)\n",
    "output=tf.keras.layers.Flatten()(output)\n",
    "output=tf.keras.layers.Dropout(0.2)(output)\n",
    "output=tf.keras.layers.Dense(20, activation = 'softmax')(output)\n",
    "\n",
    "model=tf.keras.Model(inputs=inputs,outputs=output)\n",
    "\n",
    "model.summary()"
   ]
  },
  {
   "cell_type": "code",
   "execution_count": 20,
   "metadata": {},
   "outputs": [
    {
     "name": "stdout",
     "output_type": "stream",
     "text": [
      "Epoch 1/200\n",
      "442/442 [==============================] - 11s 19ms/step - loss: 2.9907 - accuracy: 0.0527 - f1_score: 4.1900e-05\n",
      "Epoch 2/200\n",
      "442/442 [==============================] - 8s 18ms/step - loss: 2.9858 - accuracy: 0.0586 - f1_score: 4.4185e-05\n",
      "Epoch 3/200\n",
      "442/442 [==============================] - 8s 18ms/step - loss: 2.9831 - accuracy: 0.0568 - f1_score: 2.8187e-05\n",
      "Epoch 4/200\n",
      "442/442 [==============================] - 8s 19ms/step - loss: 2.9727 - accuracy: 0.0636 - f1_score: 1.9502e-04\n",
      "Epoch 5/200\n",
      "442/442 [==============================] - 7s 16ms/step - loss: 2.9607 - accuracy: 0.0654 - f1_score: 4.8145e-04\n",
      "Epoch 6/200\n",
      "442/442 [==============================] - 7s 16ms/step - loss: 2.9493 - accuracy: 0.0724 - f1_score: 9.0422e-04\n",
      "Epoch 7/200\n",
      "442/442 [==============================] - 7s 17ms/step - loss: 2.9244 - accuracy: 0.1017 - f1_score: 0.0011\n",
      "Epoch 8/200\n",
      "442/442 [==============================] - 9s 19ms/step - loss: 2.8655 - accuracy: 0.1315 - f1_score: 0.0022\n",
      "Epoch 9/200\n",
      "442/442 [==============================] - 7s 16ms/step - loss: 2.8049 - accuracy: 0.1554 - f1_score: 0.0036\n",
      "Epoch 10/200\n",
      "442/442 [==============================] - 8s 17ms/step - loss: 2.7460 - accuracy: 0.1826 - f1_score: 0.0050\n",
      "Epoch 11/200\n",
      "442/442 [==============================] - 9s 20ms/step - loss: 2.6920 - accuracy: 0.2002 - f1_score: 0.0061\n",
      "Epoch 12/200\n",
      "442/442 [==============================] - 8s 18ms/step - loss: 2.6531 - accuracy: 0.2105 - f1_score: 0.0068\n",
      "Epoch 13/200\n",
      "442/442 [==============================] - 9s 19ms/step - loss: 2.6098 - accuracy: 0.2224 - f1_score: 0.0077\n",
      "Epoch 14/200\n",
      "442/442 [==============================] - 9s 20ms/step - loss: 2.5796 - accuracy: 0.2328 - f1_score: 0.0086\n",
      "Epoch 15/200\n",
      "442/442 [==============================] - 9s 20ms/step - loss: 2.5537 - accuracy: 0.2385 - f1_score: 0.0094\n",
      "Epoch 16/200\n",
      "442/442 [==============================] - 10s 22ms/step - loss: 2.5221 - accuracy: 0.2527 - f1_score: 0.0100 3s\n",
      "Epoch 17/200\n",
      "442/442 [==============================] - 9s 20ms/step - loss: 2.4908 - accuracy: 0.2612 - f1_score: 0.0109\n",
      "Epoch 18/200\n",
      "442/442 [==============================] - 9s 21ms/step - loss: 2.4699 - accuracy: 0.2687 - f1_score: 0.0116\n",
      "Epoch 19/200\n",
      "442/442 [==============================] - 9s 21ms/step - loss: 2.4496 - accuracy: 0.2725 - f1_score: 0.0120: 3\n",
      "Epoch 20/200\n",
      "442/442 [==============================] - 10s 22ms/step - loss: 2.4313 - accuracy: 0.2750 - f1_score: 0.0125 1s - loss: 2.4215 - accuracy: 0.27\n",
      "Epoch 21/200\n",
      "442/442 [==============================] - 8s 19ms/step - loss: 2.3970 - accuracy: 0.2874 - f1_score: 0.0133\n",
      "Epoch 22/200\n",
      "442/442 [==============================] - 8s 19ms/step - loss: 2.3947 - accuracy: 0.2918 - f1_score: 0.0138\n",
      "Epoch 23/200\n",
      "442/442 [==============================] - 8s 19ms/step - loss: 2.3696 - accuracy: 0.2982 - f1_score: 0.0140\n",
      "Epoch 24/200\n",
      "442/442 [==============================] - 8s 17ms/step - loss: 2.3584 - accuracy: 0.3010 - f1_score: 0.0144\n",
      "Epoch 25/200\n",
      "442/442 [==============================] - 8s 18ms/step - loss: 2.3401 - accuracy: 0.3058 - f1_score: 0.0148: 6s - loss: 2.3032 - accuracy: 0.3184 - f1 - ETA: 1s - loss: 2.3326 - accuracy: 0.307 - ETA: 0s - loss: 2.3315 - accuracy: 0.3068 - f1_\n",
      "Epoch 26/200\n",
      "442/442 [==============================] - 10s 22ms/step - loss: 2.3302 - accuracy: 0.3046 - f1_score: 0.0156\n",
      "Epoch 27/200\n",
      "442/442 [==============================] - 10s 22ms/step - loss: 2.3094 - accuracy: 0.3096 - f1_score: 0.0158\n",
      "Epoch 28/200\n",
      "442/442 [==============================] - 8s 18ms/step - loss: 2.2985 - accuracy: 0.3171 - f1_score: 0.0163: 8s - loss: 2.2\n",
      "Epoch 29/200\n",
      "442/442 [==============================] - 7s 17ms/step - loss: 2.2878 - accuracy: 0.3186 - f1_score: 0.0162\n",
      "Epoch 30/200\n",
      "442/442 [==============================] - 7s 16ms/step - loss: 2.2702 - accuracy: 0.3222 - f1_score: 0.0171: 3s - \n",
      "Epoch 31/200\n",
      "442/442 [==============================] - 9s 21ms/step - loss: 2.2643 - accuracy: 0.3246 - f1_score: 0.0172: 5s - loss: - ETA: 3s - loss: 2.2454 - accuracy: 0.3307 - f1_s - ETA: 2s - loss: 2.2453 - accuracy: 0.3299 - f1_s - ETA: 1s - loss: 2.2527 - \n",
      "Epoch 32/200\n",
      "442/442 [==============================] - 9s 21ms/step - loss: 2.2503 - accuracy: 0.3306 - f1_score: 0.0177\n",
      "Epoch 33/200\n",
      "442/442 [==============================] - 9s 20ms/step - loss: 2.2433 - accuracy: 0.3318 - f1_score: 0.0177\n",
      "Epoch 34/200\n",
      "442/442 [==============================] - 8s 18ms/step - loss: 2.2287 - accuracy: 0.3343 - f1_score: 0.0185\n",
      "Epoch 35/200\n",
      "442/442 [==============================] - 9s 19ms/step - loss: 2.2231 - accuracy: 0.3310 - f1_score: 0.0183: 4s - loss: 2.2001 - acc - ETA: 2s - loss: 2.2189 - accuracy: 0.3321 - f1_score:  - ETA: 1s - loss: 2.2188 - accur\n",
      "Epoch 36/200\n",
      "442/442 [==============================] - 8s 18ms/step - loss: 2.2214 - accuracy: 0.3328 - f1_score: 0.0190: 1s - loss: 2.2116 - accuracy: 0.335\n",
      "Epoch 37/200\n",
      "442/442 [==============================] - 9s 19ms/step - loss: 2.2086 - accuracy: 0.3387 - f1_score: 0.0188: 2s - loss: 2.\n",
      "Epoch 38/200\n",
      "442/442 [==============================] - 8s 19ms/step - loss: 2.2016 - accuracy: 0.3413 - f1_score: 0.0193: 0s - loss: 2.1934 - accuracy: 0.3431 -\n",
      "Epoch 39/200\n",
      "442/442 [==============================] - 8s 18ms/step - loss: 2.1916 - accuracy: 0.3403 - f1_score: 0.0192\n",
      "Epoch 40/200\n",
      "442/442 [==============================] - 8s 19ms/step - loss: 2.1753 - accuracy: 0.3474 - f1_score: 0.0203\n",
      "Epoch 41/200\n",
      "442/442 [==============================] - 8s 17ms/step - loss: 2.1664 - accuracy: 0.3511 - f1_score: 0.0204\n",
      "Epoch 42/200\n",
      "442/442 [==============================] - 8s 17ms/step - loss: 2.1616 - accuracy: 0.3481 - f1_score: 0.0205: 1s - loss: 2.1541 - accuracy: 0.3\n",
      "Epoch 43/200\n",
      "442/442 [==============================] - 9s 21ms/step - loss: 2.1488 - accuracy: 0.3549 - f1_score: 0.0207: 5s - loss: 2.0957 - accu - ETA: 3s - loss: 2.1063 - accuracy: 0.3668 - ETA: 2s - los\n",
      "Epoch 44/200\n",
      "442/442 [==============================] - 10s 22ms/step - loss: 2.1507 - accuracy: 0.3547 - f1_score: 0.0208\n",
      "Epoch 45/200\n",
      "442/442 [==============================] - 10s 22ms/step - loss: 2.1363 - accuracy: 0.3631 - f1_score: 0.0208\n",
      "Epoch 46/200\n",
      "442/442 [==============================] - 8s 19ms/step - loss: 2.1294 - accuracy: 0.3598 - f1_score: 0.0214\n",
      "Epoch 47/200\n",
      "442/442 [==============================] - 8s 18ms/step - loss: 2.1216 - accuracy: 0.3646 - f1_score: 0.0218\n",
      "Epoch 48/200\n",
      "442/442 [==============================] - 8s 19ms/step - loss: 2.1163 - accuracy: 0.3630 - f1_score: 0.0222\n",
      "Epoch 49/200\n",
      "442/442 [==============================] - 8s 17ms/step - loss: 2.1014 - accuracy: 0.3709 - f1_score: 0.0225: 4s - loss: 2 - ETA: 1s - loss: 2.0890 - accuracy:\n",
      "Epoch 50/200\n",
      "442/442 [==============================] - 8s 18ms/step - loss: 2.0941 - accuracy: 0.3693 - f1_score: 0.0233: 1s - loss: 2.0864 - accuracy: 0.371\n",
      "Epoch 51/200\n",
      "442/442 [==============================] - 8s 17ms/step - loss: 2.0932 - accuracy: 0.3685 - f1_score: 0.0225\n",
      "Epoch 52/200\n",
      "442/442 [==============================] - 9s 20ms/step - loss: 2.0851 - accuracy: 0.3648 - f1_score: 0.0230\n"
     ]
    },
    {
     "data": {
      "text/plain": [
       "<keras.callbacks.History at 0x2e95a633710>"
      ]
     },
     "execution_count": 20,
     "metadata": {},
     "output_type": "execute_result"
    }
   ],
   "source": [
    "early_stopping=tf.keras.callbacks.EarlyStopping(patience=3,monitor='accuracy',min_delta=0.0001)\n",
    "tensorboard=tf.keras.callbacks.TensorBoard(log_dir='logs/model_2')\n",
    "\n",
    "model.compile(optimizer='adam', loss='sparse_categorical_crossentropy', metrics=['accuracy',tfa.metrics.F1Score(num_classes=20, \n",
    "                      average='micro',\n",
    "                      threshold=0.5)], )\n",
    "model.fit(padded_x_train,y_train,epochs=200, callbacks=[early_stopping,tensorboard])"
   ]
  },
  {
   "cell_type": "code",
   "execution_count": 32,
   "metadata": {},
   "outputs": [],
   "source": [
    "model.save('models/model_2.h5')"
   ]
  },
  {
   "cell_type": "code",
   "execution_count": 2,
   "metadata": {},
   "outputs": [],
   "source": [
    "model_2=tf.keras.models.load_model('models/model_2.h5')"
   ]
  },
  {
   "cell_type": "code",
   "execution_count": 22,
   "metadata": {},
   "outputs": [
    {
     "name": "stdout",
     "output_type": "stream",
     "text": [
      "148/148 [==============================] - 1s 5ms/step - loss: 3.0301 - accuracy: 0.2061 - f1_score: 0.0170\n"
     ]
    },
    {
     "data": {
      "text/plain": [
       "[3.0301241874694824, 0.20607605576515198, 0.017029138281941414]"
      ]
     },
     "execution_count": 22,
     "metadata": {},
     "output_type": "execute_result"
    }
   ],
   "source": [
    "model.evaluate(padded_x_test,y_test)"
   ]
  },
  {
   "cell_type": "code",
   "execution_count": 3,
   "metadata": {},
   "outputs": [
    {
     "data": {
      "image/png": "[encoded data removed]",
      "text/plain": [
       "<IPython.core.display.Image object>"
      ]
     },
     "execution_count": 3,
     "metadata": {},
     "output_type": "execute_result"
    }
   ],
   "source": [
    "tf.keras.utils.plot_model(model_2, to_file='model_2.png', show_shapes=True)"
   ]
  },
  {
   "cell_type": "code",
   "execution_count": null,
   "metadata": {},
   "outputs": [],
   "source": []
  }
 ],
 "metadata": {
  "kernelspec": {
   "display_name": "Python 3",
   "language": "python",
   "name": "python3"
  },
  "language_info": {
   "codemirror_mode": {
    "name": "ipython",
    "version": 3
   },
   "file_extension": ".py",
   "mimetype": "text/x-python",
   "name": "python",
   "nbconvert_exporter": "python",
   "pygments_lexer": "ipython3",
   "version": "3.6.5"
  }
 },
 "nbformat": 4,
 "nbformat_minor": 2
}
